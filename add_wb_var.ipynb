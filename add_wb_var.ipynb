{
 "metadata": {
  "language_info": {
   "codemirror_mode": {
    "name": "ipython",
    "version": 3
   },
   "file_extension": ".py",
   "mimetype": "text/x-python",
   "name": "python",
   "nbconvert_exporter": "python",
   "pygments_lexer": "ipython3",
   "version": "3.8.3-final"
  },
  "orig_nbformat": 2,
  "kernelspec": {
   "name": "python3",
   "display_name": "Python 3.8.3 64-bit ('capstone_venv')",
   "metadata": {
    "interpreter": {
     "hash": "38a876ae13a7da9c6092a5c6b3a4e73042a1aba1ae6063b7eaa725b379a7e0e9"
    }
   }
  }
 },
 "nbformat": 4,
 "nbformat_minor": 2,
 "cells": [
  {
   "cell_type": "code",
   "execution_count": 2,
   "metadata": {},
   "outputs": [],
   "source": [
    "import pandas as pd\n",
    "import numpy as np\n",
    "import wbdata"
   ]
  },
  {
   "cell_type": "code",
   "execution_count": 3,
   "metadata": {},
   "outputs": [],
   "source": [
    "def wb_clear(df, x):\n",
    "    df.index = df.index.set_levels(df.index.levels[1].astype(int), level=1)\n",
    "    df.index = df.index.set_levels(df.index.levels[0].str.lower(), level=0)\n",
    "    df = df[df.index.get_level_values(1) >= 2006]\n",
    "    df = df[df.loc[:, x].notna()]\n",
    "    df.index = df.index.set_names('year', level=1)\n",
    "    return df"
   ]
  },
  {
   "cell_type": "code",
   "execution_count": 4,
   "metadata": {},
   "outputs": [],
   "source": [
    "def add_wb_var(code, var_name):\n",
    "    x = wb_clear(wbdata.get_dataframe({code:var_name}), var_name)\n",
    "    all_df = pd.read_csv('raw_data/master.csv').set_index(['country', 'year'])\n",
    "    all_df = all_df.join(x).reset_index()\n",
    "    all_df = all_df[(all_df.year == 2008) | (all_df.year == 2018)]\n",
    "\n",
    "    m_row = [all_df.loc[i].isna().mean() > .15 for i in all_df.index]\n",
    "    all_df = all_df.drop(np.array(all_df.index)[m_row], axis=0)\n",
    "\n",
    "    m_col = [all_df.loc[:,i].isna().mean() > .15 for i in all_df.columns]\n",
    "    all_df = all_df.drop(np.array(all_df.columns)[m_col], axis=1)\n",
    "\n",
    "    no_data_country = np.array(list(all_df.groupby('country')\\\n",
    "        .groups.keys()))[list(all_df.groupby('country').count().min(axis=1) != 2)]\n",
    "    all_df = all_df[~all_df.country.isin(no_data_country)]\n",
    "\n",
    "    print(f\"{list(zip(all_df.columns, [all_df.loc[:,i].isna().sum() for i in all_df.columns]))}\\n\\n{all_df.shape}\")\n",
    "\n",
    "    return all_df"
   ]
  },
  {
   "source": [
    "Lisää koodi ja muuttujanimi `add_wb_var()` funktioon muodossa 'XX.XX.XX.XX' ja 'oma_nimi_muuttujalle'"
   ],
   "cell_type": "markdown",
   "metadata": {}
  },
  {
   "cell_type": "code",
   "execution_count": 5,
   "metadata": {},
   "outputs": [
    {
     "output_type": "stream",
     "name": "stdout",
     "text": [
      "[('country', 0), ('year', 0), ('PR', 0), ('CL', 0), ('Status', 0), ('DD regime', 0), ('DD category', 0), ('Monarchy', 0), ('Commonwealth', 0), ('Democracy', 0), ('Presidential', 0), ('President name', 0), ('President accesion', 0), ('President birthyear', 0), ('Interim phase (more than 2 Presidents/year=1)', 0), ('Female president (0: No; 1: Yes)', 0), ('Colony', 0), ('Communist', 0), ('Regime change lag', 0), ('spatial democracy', 0), ('countrycode', 0), ('No. of chambers in parliament', 0), ('proportional voting', 0), ('Election system', 0), ('No. of members in lower house', 0), ('New constitution', 0), ('fullsuffrage', 0), ('electoral', 0), ('spatial electoral', 0), ('alternation', 0), ('multiparty', 0), ('free and fair election', 0), ('parliamentary election year', 0), ('postponed election', 0), ('Anticorruption policy', 0), ('Civil rights', 0), ('Civil society participation', 0), ('Civil society traditions', 0), ('Cleavage conflict management', 0), ('Commitment to democratic institutions', 0), ('Conflict intensity', 0), ('Consensus on goals', 0), ('Antidemocratic actors', 0), ('Education policy R&D', 0), ('Effective power to govern', 0), ('Effective use of support', 0), ('Efficient use of assets', 0), ('Environmental policy', 0), ('Equal opportunity', 0), ('Free and fair elections', 0), ('Freedom of expression', 0), ('Independent judiciary', 0), ('Interest groups', 0), ('International Cooperation', 0), ('Monopoly on the use of force', 0), ('No interference of religious dogmas', 0), ('Association assembly rights', 0), ('Organization of the Market and Competition', 0), ('Party system', 0), ('Performance of democratic institutions', 0), ('Policy coordination', 0), ('Policy learning', 0), ('Political Participation', 0), ('Political and Social Integration', 0), ('Private Property', 0), ('Prosecution of office abuse', 0), ('Regional cooperation', 0), ('Resource Efficiency', 0), ('Separation of powers', 0), ('Social capital', 0), ('Social safety nets', 0), ('Socioeconomic barriers', 0), ('Stability of Democratic Institutions', 0), ('State identity', 0), ('Basic administration', 0), ('Steering Capability', 0), ('Structural constraints', 0), ('Welfare Regime', 0), ('corruption', 0), ('efficiency', 0), ('stability', 0), ('rol', 0), ('acc', 0), ('mortality', 0), ('trade', 0), ('gdp', 0)]\n\n(150, 86)\n"
     ]
    }
   ],
   "source": [
    "df = add_wb_var('SE.SEC.ENRR', 'enrollment')"
   ]
  },
  {
   "cell_type": "code",
   "execution_count": 6,
   "metadata": {},
   "outputs": [],
   "source": [
    "df.to_csv('raw_data/small_master.csv')"
   ]
  },
  {
   "cell_type": "code",
   "execution_count": null,
   "metadata": {},
   "outputs": [],
   "source": []
  }
 ]
}