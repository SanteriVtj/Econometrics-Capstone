{
 "metadata": {
  "language_info": {
   "codemirror_mode": {
    "name": "ipython",
    "version": 3
   },
   "file_extension": ".py",
   "mimetype": "text/x-python",
   "name": "python",
   "nbconvert_exporter": "python",
   "pygments_lexer": "ipython3",
   "version": "3.8.5-final"
  },
  "orig_nbformat": 2,
  "kernelspec": {
   "name": "python385jvsc74a57bd0fac54e6b642c37966e43cdb643d32d1f4e4fa0317cda1cf8b922991f41f52fc4",
   "display_name": "Python 3.8.5 64-bit ('cap_venv')"
  }
 },
 "nbformat": 4,
 "nbformat_minor": 2,
 "cells": [
  {
   "cell_type": "code",
   "execution_count": 1,
   "metadata": {},
   "outputs": [],
   "source": [
    "import pandas as pd\n",
    "import numpy as np\n",
    "import wbdata"
   ]
  },
  {
   "cell_type": "code",
   "execution_count": 2,
   "metadata": {},
   "outputs": [],
   "source": [
    "def wb_clear(df, x):\n",
    "    df.index = df.index.set_levels(df.index.levels[1].astype(int), level=1)\n",
    "    df.index = df.index.set_levels(df.index.levels[0].str.lower(), level=0)\n",
    "    df = df[df.index.get_level_values(1) >= 2006]\n",
    "    df = df[df.loc[:, x].notna()]\n",
    "    df.index = df.index.set_names('year', level=1)\n",
    "    return df"
   ]
  },
  {
   "cell_type": "code",
   "execution_count": 3,
   "metadata": {},
   "outputs": [],
   "source": [
    "def add_wb_var(code, var_name, join_path='raw_data/master.csv'):\n",
    "    '''\n",
    "    Get one additional variable from WB api and adds to data in master.csv\n",
    "\n",
    "    Parameters\n",
    "    ------------------\n",
    "    code: str\n",
    "        Identifier for the data in WB api formatte as XX.XX.XX\n",
    "    var_name: str\n",
    "        Variable name that will be added to return data. Can be anything.\n",
    "    join_path: str, optional\n",
    "        Change base file for joining.\n",
    "    \n",
    "    Returns\n",
    "    ------------------\n",
    "    pandas.Dataframe\n",
    "        Dataframe containing data from join_path and new variable from WB\n",
    "    '''\n",
    "    base = pd.read_csv(join_path)\n",
    "    x = wb_clear(wbdata.get_dataframe({code:var_name}), var_name)\n",
    "    all_df = base.set_index(['country', 'year'])\n",
    "    all_df = all_df.join(x).reset_index()\n",
    "\n",
    "    \n",
    "    all_df = all_df[(all_df.year == 2008) | (all_df.year == 2018)]\n",
    "\n",
    "    m_row = [all_df.loc[i].isna().mean() > .15 for i in all_df.index]\n",
    "    all_df = all_df.drop(np.array(all_df.index)[m_row], axis=0)\n",
    "\n",
    "    m_col = [all_df.loc[:,i].isna().mean() > .15 for i in all_df.columns]\n",
    "    all_df = all_df.drop(np.array(all_df.columns)[m_col], axis=1)\n",
    "\n",
    "    no_data_country = np.array(list(all_df.groupby('country') \\\n",
    "        .groups.keys()))[list(all_df.groupby('country').count().min(axis=1) != 2)]\n",
    "    all_df = all_df[~all_df.country.isin(no_data_country)]\n",
    "\n",
    "    var_n = 'Jippikayjei you just successfully added one new variable!' if all_df.shape[1] > base.shape[1] else 'Damn it too many empty values, just keep going!'\n",
    "    country_n = 'You were able to keep all of the countries from the base data!' if all_df.shape[0] == base.shape[0] else 'Unfortunately you lost some sample countries with:('\n",
    "    \n",
    "    print(f\"{list(zip(all_df.columns, [all_df.loc[:,i].isna().sum() for i in all_df.columns]))}\\n\\n{all_df.shape}\\n\\n{var_n}\\n\\n{country_n}\")\n",
    "    \n",
    "    return all_df"
   ]
  },
  {
   "source": [
    "### Life expectancy\n",
    "- ('SP.DYN.LE00.IN', 'life_expectancy')\n",
    "### Broadband\n",
    "- ('IT.NET.BBND', 'broadband')"
   ],
   "cell_type": "markdown",
   "metadata": {}
  },
  {
   "cell_type": "code",
   "execution_count": null,
   "metadata": {},
   "outputs": [],
   "source": [
    "df = add_wb_var('SP.DYN.LE00.IN', 'life_expectancy', join_path='raw_data/small_master_c.csv')"
   ]
  },
  {
   "cell_type": "code",
   "execution_count": null,
   "metadata": {},
   "outputs": [],
   "source": [
    "#df.to_csv('raw_data/small_master.csv')\n",
    "#df.to_csv('raw_data/small_master_base.csv')\n",
    "df.to_csv('raw_data/small_master_c.csv')"
   ]
  }
 ]
}