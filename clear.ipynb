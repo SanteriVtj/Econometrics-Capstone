{
 "metadata": {
  "language_info": {
   "codemirror_mode": {
    "name": "ipython",
    "version": 3
   },
   "file_extension": ".py",
   "mimetype": "text/x-python",
   "name": "python",
   "nbconvert_exporter": "python",
   "pygments_lexer": "ipython3",
   "version": "3.8.5-final"
  },
  "orig_nbformat": 2,
  "kernelspec": {
   "name": "python385jvsc74a57bd0dca0ade3e726a953b501b15e8e990130d2b7799f14cfd9f4271676035ebe5511",
   "display_name": "Python 3.8.5 64-bit ('base': conda)"
  }
 },
 "nbformat": 4,
 "nbformat_minor": 2,
 "cells": [
  {
   "cell_type": "code",
   "execution_count": 1,
   "metadata": {},
   "outputs": [],
   "source": [
    "import pandas as pd\n",
    "import numpy as np\n",
    "from functools import reduce"
   ]
  },
  {
   "cell_type": "code",
   "execution_count": 6,
   "metadata": {},
   "outputs": [
    {
     "output_type": "stream",
     "name": "stderr",
     "text": [
      "/opt/anaconda3/lib/python3.8/site-packages/IPython/core/interactiveshell.py:3146: DtypeWarning: Columns (2,3) have mixed types.Specify dtype option on import or set low_memory=False.\n  has_raised = await self.run_ast_nodes(code_ast.body, cell_name,\n"
     ]
    }
   ],
   "source": [
    "df = pd.read_csv('./raw_data/master.csv')"
   ]
  },
  {
   "cell_type": "code",
   "execution_count": 22,
   "metadata": {},
   "outputs": [
    {
     "output_type": "execute_result",
     "data": {
      "text/plain": [
       "[('country', 0),\n",
       " ('year', 0),\n",
       " ('PR', 158),\n",
       " ('CL', 158),\n",
       " ('Status', 158),\n",
       " ('DD regime', 396),\n",
       " ('DD category', 391),\n",
       " ('Monarchy', 396),\n",
       " ('Commonwealth', 396),\n",
       " ('Monarch name', 2683),\n",
       " ('Monarch accession', 2683),\n",
       " ('Monarch birthyear', 2713),\n",
       " ('Female monarch (0: No; 1: Yes)', 2683),\n",
       " ('Democracy', 396),\n",
       " ('Presidential', 396),\n",
       " ('President name', 1052),\n",
       " ('President accesion', 1082),\n",
       " ('President birthyear', 1082),\n",
       " ('Interim phase (more than 2 Presidents/year=1)', 1097),\n",
       " ('Female president (0: No; 1: Yes)', 1097),\n",
       " ('Colony', 406),\n",
       " ('Colony of', 3075),\n",
       " ('Colony administrated by', 3075),\n",
       " ('Communist', 396),\n",
       " ('Regime change lag', 396),\n",
       " ('spatial democracy', 396),\n",
       " ('countrycode', 391),\n",
       " ('No. of chambers in parliament', 439),\n",
       " ('proportional voting', 485),\n",
       " ('Election system', 465),\n",
       " ('No. of members in lower house', 477),\n",
       " ('No. of members in upper house', 1961),\n",
       " ('No. of members in third house', 3075),\n",
       " ('New constitution', 396),\n",
       " ('fullsuffrage', 396),\n",
       " ('Suffrage restriction', 3056),\n",
       " ('electoral', 396),\n",
       " ('spatial electoral', 396),\n",
       " ('alternation', 391),\n",
       " ('multiparty', 391),\n",
       " ('free and fair election', 391),\n",
       " ('parliamentary election year', 395),\n",
       " ('election month, year', 2479),\n",
       " ('postponed election', 396),\n",
       " ('Employees', 2830),\n",
       " ('Union members', 2830),\n",
       " ('Trade union  density', 2830),\n",
       " ('Anticorruption policy', 3026),\n",
       " ('Civil rights', 3026),\n",
       " ('Civil society participation', 3026),\n",
       " ('Civil society traditions', 3026),\n",
       " ('Cleavage conflict management', 3027),\n",
       " ('Commitment to democratic institutions', 3026),\n",
       " ('Conflict intensity', 3026),\n",
       " ('Consensus on goals', 3026),\n",
       " ('Antidemocratic actors', 3026),\n",
       " ('Education policy R&D', 3026),\n",
       " ('Effective power to govern', 3026),\n",
       " ('Effective use of support', 3026),\n",
       " ('Efficient use of assets', 3026),\n",
       " ('Environmental policy', 3026),\n",
       " ('Equal opportunity', 3026),\n",
       " ('Free and fair elections', 3026),\n",
       " ('Freedom of expression', 3026),\n",
       " ('Independent judiciary', 3026),\n",
       " ('Interest groups', 3026),\n",
       " ('International Cooperation', 3026),\n",
       " ('Monopoly on the use of force', 3026),\n",
       " ('No interference of religious dogmas', 3026),\n",
       " ('Association assembly rights', 3026),\n",
       " ('Organization of the Market and Competition', 3026),\n",
       " ('Party system', 3026),\n",
       " ('Performance of democratic institutions', 3026),\n",
       " ('Policy coordination', 3026),\n",
       " ('Policy learning', 3026),\n",
       " ('Political Participation', 3026),\n",
       " ('Political and Social Integration', 3026),\n",
       " ('Private Property', 3026),\n",
       " ('Prosecution of office abuse', 3026),\n",
       " ('Regional cooperation', 3026),\n",
       " ('Resource Efficiency', 3026),\n",
       " ('Separation of powers', 3026),\n",
       " ('Social capital', 3026),\n",
       " ('Social safety nets', 3026),\n",
       " ('Socioeconomic barriers', 3026),\n",
       " ('Stability of Democratic Institutions', 3026),\n",
       " ('State identity', 3026),\n",
       " ('Basic administration', 3026),\n",
       " ('Steering Capability', 3026),\n",
       " ('Structural constraints', 3026),\n",
       " ('Welfare Regime', 3026),\n",
       " ('Approval of democracy', 3060),\n",
       " ('gdp', 979)]"
      ]
     },
     "metadata": {},
     "execution_count": 22
    }
   ],
   "source": [
    "list(zip(df.columns, [df.loc[:,i].isna().sum() for i in df.columns]))"
   ]
  },
  {
   "cell_type": "code",
   "execution_count": 20,
   "metadata": {},
   "outputs": [],
   "source": [
    "df = df[df.year >= 2006]"
   ]
  },
  {
   "cell_type": "code",
   "execution_count": 35,
   "metadata": {},
   "outputs": [],
   "source": [
    "m_col = [df.loc[:,i].isna().mean() > .85 for i in df.columns]\n",
    "df = df.drop(np.array(df.columns)[m_col], axis=1)"
   ]
  },
  {
   "cell_type": "code",
   "execution_count": 39,
   "metadata": {},
   "outputs": [],
   "source": [
    "m_row = [df.loc[i].isna().mean() > .85 for i in df.index]\n",
    "df = df.drop(np.array(df.index)[m_row], axis=0)"
   ]
  },
  {
   "cell_type": "code",
   "execution_count": 42,
   "metadata": {},
   "outputs": [
    {
     "output_type": "execute_result",
     "data": {
      "text/plain": [
       "          country  year PR CL Status  DD regime            DD category  \\\n",
       "33    afghanistan  2006  5  5     PF        3.0  Civilian dictatorship   \n",
       "34    afghanistan  2007  5  5     PF        3.0  Civilian dictatorship   \n",
       "35    afghanistan  2008  5  6     NF        3.0  Civilian dictatorship   \n",
       "36    afghanistan  2009  6  6     NF        3.0  Civilian dictatorship   \n",
       "37    afghanistan  2010  6  6     NF        3.0  Civilian dictatorship   \n",
       "...           ...   ... .. ..    ...        ...                    ...   \n",
       "9835     zimbabwe  2016  5  5     PF        3.0  Civilian dictatorship   \n",
       "9836     zimbabwe  2017  6  5     NF        3.0  Civilian dictatorship   \n",
       "9837     zimbabwe  2018  5  5     PF        4.0  Military dictatorship   \n",
       "9838     zimbabwe  2019  5  5     PF        4.0  Military dictatorship   \n",
       "9839     zimbabwe  2020  6  5     NF        4.0  Military dictatorship   \n",
       "\n",
       "      Monarchy  Commonwealth  Democracy  ...  fullsuffrage electoral  \\\n",
       "33         0.0           0.0        0.0  ...           1.0       2.0   \n",
       "34         0.0           0.0        0.0  ...           1.0       2.0   \n",
       "35         0.0           0.0        0.0  ...           1.0       2.0   \n",
       "36         0.0           0.0        0.0  ...           1.0       2.0   \n",
       "37         0.0           0.0        0.0  ...           1.0       2.0   \n",
       "...        ...           ...        ...  ...           ...       ...   \n",
       "9835       0.0           0.0        0.0  ...           1.0       2.0   \n",
       "9836       0.0           0.0        0.0  ...           1.0       2.0   \n",
       "9837       0.0           0.0        0.0  ...           1.0       2.0   \n",
       "9838       0.0           0.0        0.0  ...           1.0       2.0   \n",
       "9839       0.0           0.0        0.0  ...           1.0       2.0   \n",
       "\n",
       "      spatial electoral  alternation  multiparty  free and fair election  \\\n",
       "33                  1,5          0.0         1.0                     0.0   \n",
       "34                  1,5          0.0         1.0                     0.0   \n",
       "35                 1,75          0.0         1.0                     0.0   \n",
       "36                 1,75          0.0         1.0                     0.0   \n",
       "37                 1,75          0.0         1.0                     0.0   \n",
       "...                 ...          ...         ...                     ...   \n",
       "9835                2,5          0.0         1.0                     0.0   \n",
       "9836                2,5          0.0         1.0                     0.0   \n",
       "9837                2,5          0.0         1.0                     0.0   \n",
       "9838                2,5          0.0         1.0                     0.0   \n",
       "9839                2,5          0.0         1.0                     0.0   \n",
       "\n",
       "      parliamentary election year  election month, year  postponed election  \\\n",
       "33                            1.0        September 2005                 0.0   \n",
       "34                            0.0                   NaN                 0.0   \n",
       "35                            0.0                   NaN                 0.0   \n",
       "36                            0.0                   NaN                 0.0   \n",
       "37                            0.0                   NaN                 0.0   \n",
       "...                           ...                   ...                 ...   \n",
       "9835                          0.0                   NaN                 0.0   \n",
       "9836                          0.0                   NaN                 0.0   \n",
       "9837                          0.0                   NaN                 0.0   \n",
       "9838                          1.0             July 2018                 0.0   \n",
       "9839                          0.0                   NaN                 0.0   \n",
       "\n",
       "              gdp  \n",
       "33    1161.124889  \n",
       "34    1284.775213  \n",
       "35    1298.143159  \n",
       "36    1531.173993  \n",
       "37    1614.255001  \n",
       "...           ...  \n",
       "9835  1879.628119  \n",
       "9836  1899.774977  \n",
       "9837          NaN  \n",
       "9838          NaN  \n",
       "9839          NaN  \n",
       "\n",
       "[2766 rows x 37 columns]"
      ],
      "text/html": "<div>\n<style scoped>\n    .dataframe tbody tr th:only-of-type {\n        vertical-align: middle;\n    }\n\n    .dataframe tbody tr th {\n        vertical-align: top;\n    }\n\n    .dataframe thead th {\n        text-align: right;\n    }\n</style>\n<table border=\"1\" class=\"dataframe\">\n  <thead>\n    <tr style=\"text-align: right;\">\n      <th></th>\n      <th>country</th>\n      <th>year</th>\n      <th>PR</th>\n      <th>CL</th>\n      <th>Status</th>\n      <th>DD regime</th>\n      <th>DD category</th>\n      <th>Monarchy</th>\n      <th>Commonwealth</th>\n      <th>Democracy</th>\n      <th>...</th>\n      <th>fullsuffrage</th>\n      <th>electoral</th>\n      <th>spatial electoral</th>\n      <th>alternation</th>\n      <th>multiparty</th>\n      <th>free and fair election</th>\n      <th>parliamentary election year</th>\n      <th>election month, year</th>\n      <th>postponed election</th>\n      <th>gdp</th>\n    </tr>\n  </thead>\n  <tbody>\n    <tr>\n      <th>33</th>\n      <td>afghanistan</td>\n      <td>2006</td>\n      <td>5</td>\n      <td>5</td>\n      <td>PF</td>\n      <td>3.0</td>\n      <td>Civilian dictatorship</td>\n      <td>0.0</td>\n      <td>0.0</td>\n      <td>0.0</td>\n      <td>...</td>\n      <td>1.0</td>\n      <td>2.0</td>\n      <td>1,5</td>\n      <td>0.0</td>\n      <td>1.0</td>\n      <td>0.0</td>\n      <td>1.0</td>\n      <td>September 2005</td>\n      <td>0.0</td>\n      <td>1161.124889</td>\n    </tr>\n    <tr>\n      <th>34</th>\n      <td>afghanistan</td>\n      <td>2007</td>\n      <td>5</td>\n      <td>5</td>\n      <td>PF</td>\n      <td>3.0</td>\n      <td>Civilian dictatorship</td>\n      <td>0.0</td>\n      <td>0.0</td>\n      <td>0.0</td>\n      <td>...</td>\n      <td>1.0</td>\n      <td>2.0</td>\n      <td>1,5</td>\n      <td>0.0</td>\n      <td>1.0</td>\n      <td>0.0</td>\n      <td>0.0</td>\n      <td>NaN</td>\n      <td>0.0</td>\n      <td>1284.775213</td>\n    </tr>\n    <tr>\n      <th>35</th>\n      <td>afghanistan</td>\n      <td>2008</td>\n      <td>5</td>\n      <td>6</td>\n      <td>NF</td>\n      <td>3.0</td>\n      <td>Civilian dictatorship</td>\n      <td>0.0</td>\n      <td>0.0</td>\n      <td>0.0</td>\n      <td>...</td>\n      <td>1.0</td>\n      <td>2.0</td>\n      <td>1,75</td>\n      <td>0.0</td>\n      <td>1.0</td>\n      <td>0.0</td>\n      <td>0.0</td>\n      <td>NaN</td>\n      <td>0.0</td>\n      <td>1298.143159</td>\n    </tr>\n    <tr>\n      <th>36</th>\n      <td>afghanistan</td>\n      <td>2009</td>\n      <td>6</td>\n      <td>6</td>\n      <td>NF</td>\n      <td>3.0</td>\n      <td>Civilian dictatorship</td>\n      <td>0.0</td>\n      <td>0.0</td>\n      <td>0.0</td>\n      <td>...</td>\n      <td>1.0</td>\n      <td>2.0</td>\n      <td>1,75</td>\n      <td>0.0</td>\n      <td>1.0</td>\n      <td>0.0</td>\n      <td>0.0</td>\n      <td>NaN</td>\n      <td>0.0</td>\n      <td>1531.173993</td>\n    </tr>\n    <tr>\n      <th>37</th>\n      <td>afghanistan</td>\n      <td>2010</td>\n      <td>6</td>\n      <td>6</td>\n      <td>NF</td>\n      <td>3.0</td>\n      <td>Civilian dictatorship</td>\n      <td>0.0</td>\n      <td>0.0</td>\n      <td>0.0</td>\n      <td>...</td>\n      <td>1.0</td>\n      <td>2.0</td>\n      <td>1,75</td>\n      <td>0.0</td>\n      <td>1.0</td>\n      <td>0.0</td>\n      <td>0.0</td>\n      <td>NaN</td>\n      <td>0.0</td>\n      <td>1614.255001</td>\n    </tr>\n    <tr>\n      <th>...</th>\n      <td>...</td>\n      <td>...</td>\n      <td>...</td>\n      <td>...</td>\n      <td>...</td>\n      <td>...</td>\n      <td>...</td>\n      <td>...</td>\n      <td>...</td>\n      <td>...</td>\n      <td>...</td>\n      <td>...</td>\n      <td>...</td>\n      <td>...</td>\n      <td>...</td>\n      <td>...</td>\n      <td>...</td>\n      <td>...</td>\n      <td>...</td>\n      <td>...</td>\n      <td>...</td>\n    </tr>\n    <tr>\n      <th>9835</th>\n      <td>zimbabwe</td>\n      <td>2016</td>\n      <td>5</td>\n      <td>5</td>\n      <td>PF</td>\n      <td>3.0</td>\n      <td>Civilian dictatorship</td>\n      <td>0.0</td>\n      <td>0.0</td>\n      <td>0.0</td>\n      <td>...</td>\n      <td>1.0</td>\n      <td>2.0</td>\n      <td>2,5</td>\n      <td>0.0</td>\n      <td>1.0</td>\n      <td>0.0</td>\n      <td>0.0</td>\n      <td>NaN</td>\n      <td>0.0</td>\n      <td>1879.628119</td>\n    </tr>\n    <tr>\n      <th>9836</th>\n      <td>zimbabwe</td>\n      <td>2017</td>\n      <td>6</td>\n      <td>5</td>\n      <td>NF</td>\n      <td>3.0</td>\n      <td>Civilian dictatorship</td>\n      <td>0.0</td>\n      <td>0.0</td>\n      <td>0.0</td>\n      <td>...</td>\n      <td>1.0</td>\n      <td>2.0</td>\n      <td>2,5</td>\n      <td>0.0</td>\n      <td>1.0</td>\n      <td>0.0</td>\n      <td>0.0</td>\n      <td>NaN</td>\n      <td>0.0</td>\n      <td>1899.774977</td>\n    </tr>\n    <tr>\n      <th>9837</th>\n      <td>zimbabwe</td>\n      <td>2018</td>\n      <td>5</td>\n      <td>5</td>\n      <td>PF</td>\n      <td>4.0</td>\n      <td>Military dictatorship</td>\n      <td>0.0</td>\n      <td>0.0</td>\n      <td>0.0</td>\n      <td>...</td>\n      <td>1.0</td>\n      <td>2.0</td>\n      <td>2,5</td>\n      <td>0.0</td>\n      <td>1.0</td>\n      <td>0.0</td>\n      <td>0.0</td>\n      <td>NaN</td>\n      <td>0.0</td>\n      <td>NaN</td>\n    </tr>\n    <tr>\n      <th>9838</th>\n      <td>zimbabwe</td>\n      <td>2019</td>\n      <td>5</td>\n      <td>5</td>\n      <td>PF</td>\n      <td>4.0</td>\n      <td>Military dictatorship</td>\n      <td>0.0</td>\n      <td>0.0</td>\n      <td>0.0</td>\n      <td>...</td>\n      <td>1.0</td>\n      <td>2.0</td>\n      <td>2,5</td>\n      <td>0.0</td>\n      <td>1.0</td>\n      <td>0.0</td>\n      <td>1.0</td>\n      <td>July 2018</td>\n      <td>0.0</td>\n      <td>NaN</td>\n    </tr>\n    <tr>\n      <th>9839</th>\n      <td>zimbabwe</td>\n      <td>2020</td>\n      <td>6</td>\n      <td>5</td>\n      <td>NF</td>\n      <td>4.0</td>\n      <td>Military dictatorship</td>\n      <td>0.0</td>\n      <td>0.0</td>\n      <td>0.0</td>\n      <td>...</td>\n      <td>1.0</td>\n      <td>2.0</td>\n      <td>2,5</td>\n      <td>0.0</td>\n      <td>1.0</td>\n      <td>0.0</td>\n      <td>0.0</td>\n      <td>NaN</td>\n      <td>0.0</td>\n      <td>NaN</td>\n    </tr>\n  </tbody>\n</table>\n<p>2766 rows × 37 columns</p>\n</div>"
     },
     "metadata": {},
     "execution_count": 42
    }
   ],
   "source": [
    "df"
   ]
  },
  {
   "cell_type": "code",
   "execution_count": 41,
   "metadata": {},
   "outputs": [
    {
     "output_type": "execute_result",
     "data": {
      "text/plain": [
       "2017    186\n",
       "2015    186\n",
       "2013    186\n",
       "2011    186\n",
       "2009    186\n",
       "2016    186\n",
       "2014    186\n",
       "2012    186\n",
       "2010    186\n",
       "2007    185\n",
       "2008    185\n",
       "2006    185\n",
       "2019    179\n",
       "2020    179\n",
       "2018    179\n",
       "Name: year, dtype: int64"
      ]
     },
     "metadata": {},
     "execution_count": 41
    }
   ],
   "source": [
    "df.year.value_counts()"
   ]
  },
  {
   "cell_type": "code",
   "execution_count": 43,
   "metadata": {},
   "outputs": [
    {
     "output_type": "execute_result",
     "data": {
      "text/plain": [
       "malaysia               15\n",
       "ukraine                15\n",
       "sudan                  15\n",
       "canada                 15\n",
       "iceland                15\n",
       "                       ..\n",
       "san marino             12\n",
       "cote d'ivoire          12\n",
       "slovakia               12\n",
       "trinidad and tobago    12\n",
       "kosovo                  9\n",
       "Name: country, Length: 186, dtype: int64"
      ]
     },
     "metadata": {},
     "execution_count": 43
    }
   ],
   "source": [
    "df.country.value_counts()"
   ]
  },
  {
   "cell_type": "code",
   "execution_count": 99,
   "metadata": {},
   "outputs": [],
   "source": [
    "df.to_csv('raw_data/small_master.csv')"
   ]
  },
  {
   "cell_type": "code",
   "execution_count": 46,
   "metadata": {},
   "outputs": [
    {
     "output_type": "execute_result",
     "data": {
      "text/plain": [
       "country                                           object\n",
       "year                                               int64\n",
       "PR                                                object\n",
       "CL                                                object\n",
       "Status                                            object\n",
       "DD regime                                        float64\n",
       "DD category                                       object\n",
       "Monarchy                                         float64\n",
       "Commonwealth                                     float64\n",
       "Democracy                                        float64\n",
       "Presidential                                     float64\n",
       "President name                                    object\n",
       "President accesion                               float64\n",
       "President birthyear                              float64\n",
       "Interim phase (more than 2 Presidents/year=1)    float64\n",
       "Female president (0: No; 1: Yes)                 float64\n",
       "Colony                                           float64\n",
       "Communist                                        float64\n",
       "Regime change lag                                float64\n",
       "spatial democracy                                 object\n",
       "countrycode                                      float64\n",
       "No. of chambers in parliament                    float64\n",
       "proportional voting                              float64\n",
       "Election system                                   object\n",
       "No. of members in lower house                    float64\n",
       "No. of members in upper house                    float64\n",
       "New constitution                                 float64\n",
       "fullsuffrage                                     float64\n",
       "electoral                                        float64\n",
       "spatial electoral                                 object\n",
       "alternation                                      float64\n",
       "multiparty                                       float64\n",
       "free and fair election                           float64\n",
       "parliamentary election year                      float64\n",
       "election month, year                              object\n",
       "postponed election                               float64\n",
       "gdp                                              float64\n",
       "dtype: object"
      ]
     },
     "metadata": {},
     "execution_count": 46
    }
   ],
   "source": [
    "df.dtypes"
   ]
  },
  {
   "cell_type": "code",
   "execution_count": 47,
   "metadata": {},
   "outputs": [],
   "source": [
    "rep_map = {\n",
    "    '2(5)': np.nan,\n",
    "    'nan': np.nan,\n",
    "    '3(6)': np.nan\n",
    "}"
   ]
  },
  {
   "cell_type": "code",
   "execution_count": 50,
   "metadata": {},
   "outputs": [
    {
     "output_type": "execute_result",
     "data": {
      "text/plain": [
       "country                                           object\n",
       "year                                               int64\n",
       "PR                                                object\n",
       "CL                                                object\n",
       "Status                                            object\n",
       "DD regime                                        float64\n",
       "DD category                                       object\n",
       "Monarchy                                         float64\n",
       "Commonwealth                                     float64\n",
       "Democracy                                        float64\n",
       "Presidential                                     float64\n",
       "President name                                    object\n",
       "President accesion                               float64\n",
       "President birthyear                              float64\n",
       "Interim phase (more than 2 Presidents/year=1)    float64\n",
       "Female president (0: No; 1: Yes)                 float64\n",
       "Colony                                           float64\n",
       "Communist                                        float64\n",
       "Regime change lag                                float64\n",
       "spatial democracy                                 object\n",
       "countrycode                                      float64\n",
       "No. of chambers in parliament                    float64\n",
       "proportional voting                              float64\n",
       "Election system                                   object\n",
       "No. of members in lower house                    float64\n",
       "No. of members in upper house                    float64\n",
       "New constitution                                 float64\n",
       "fullsuffrage                                     float64\n",
       "electoral                                        float64\n",
       "spatial electoral                                 object\n",
       "alternation                                      float64\n",
       "multiparty                                       float64\n",
       "free and fair election                           float64\n",
       "parliamentary election year                      float64\n",
       "election month, year                              object\n",
       "postponed election                               float64\n",
       "gdp                                              float64\n",
       "dtype: object"
      ]
     },
     "metadata": {},
     "execution_count": 50
    }
   ],
   "source": [
    "df.replace(rep_map)"
   ]
  },
  {
   "cell_type": "code",
   "execution_count": 74,
   "metadata": {},
   "outputs": [],
   "source": [
    "#df = pd.read_csv('./raw_data/small_master.csv')\n",
    "df.loc[:, 'spatial electoral'] = df.loc[:, 'spatial electoral'].str.replace(',', '.')"
   ]
  },
  {
   "cell_type": "code",
   "execution_count": 84,
   "metadata": {},
   "outputs": [
    {
     "output_type": "execute_result",
     "data": {
      "text/plain": [
       "      Unnamed: 0      country  year  PR  CL Status  DD regime  \\\n",
       "0            NaN  afghanistan   NaN NaN NaN     PF        NaN   \n",
       "1            NaN  afghanistan   NaN NaN NaN     PF        NaN   \n",
       "2            NaN  afghanistan   NaN NaN NaN     NF        NaN   \n",
       "3            NaN  afghanistan   NaN NaN NaN     NF        NaN   \n",
       "4            NaN  afghanistan   NaN NaN NaN     NF        NaN   \n",
       "...          ...          ...   ...  ..  ..    ...        ...   \n",
       "2761         NaN     zimbabwe   NaN NaN NaN     PF        NaN   \n",
       "2762         NaN     zimbabwe   NaN NaN NaN     NF        NaN   \n",
       "2763         NaN     zimbabwe   NaN NaN NaN     PF        NaN   \n",
       "2764         NaN     zimbabwe   NaN NaN NaN     PF        NaN   \n",
       "2765         NaN     zimbabwe   NaN NaN NaN     NF        NaN   \n",
       "\n",
       "                DD category  Monarchy  Commonwealth  ...  fullsuffrage  \\\n",
       "0     Civilian dictatorship       NaN           NaN  ...           NaN   \n",
       "1     Civilian dictatorship       NaN           NaN  ...           NaN   \n",
       "2     Civilian dictatorship       NaN           NaN  ...           NaN   \n",
       "3     Civilian dictatorship       NaN           NaN  ...           NaN   \n",
       "4     Civilian dictatorship       NaN           NaN  ...           NaN   \n",
       "...                     ...       ...           ...  ...           ...   \n",
       "2761  Civilian dictatorship       NaN           NaN  ...           NaN   \n",
       "2762  Civilian dictatorship       NaN           NaN  ...           NaN   \n",
       "2763  Military dictatorship       NaN           NaN  ...           NaN   \n",
       "2764  Military dictatorship       NaN           NaN  ...           NaN   \n",
       "2765  Military dictatorship       NaN           NaN  ...           NaN   \n",
       "\n",
       "      electoral spatial electoral  alternation  multiparty  \\\n",
       "0           NaN               1.5          NaN         NaN   \n",
       "1           NaN               1.5          NaN         NaN   \n",
       "2           NaN              1.75          NaN         NaN   \n",
       "3           NaN              1.75          NaN         NaN   \n",
       "4           NaN              1.75          NaN         NaN   \n",
       "...         ...               ...          ...         ...   \n",
       "2761        NaN               2.5          NaN         NaN   \n",
       "2762        NaN               2.5          NaN         NaN   \n",
       "2763        NaN               2.5          NaN         NaN   \n",
       "2764        NaN               2.5          NaN         NaN   \n",
       "2765        NaN               2.5          NaN         NaN   \n",
       "\n",
       "      free and fair election  parliamentary election year  \\\n",
       "0                        NaN                          NaN   \n",
       "1                        NaN                          NaN   \n",
       "2                        NaN                          NaN   \n",
       "3                        NaN                          NaN   \n",
       "4                        NaN                          NaN   \n",
       "...                      ...                          ...   \n",
       "2761                     NaN                          NaN   \n",
       "2762                     NaN                          NaN   \n",
       "2763                     NaN                          NaN   \n",
       "2764                     NaN                          NaN   \n",
       "2765                     NaN                          NaN   \n",
       "\n",
       "      election month, year  postponed election  gdp  \n",
       "0           September 2005                 NaN  NaN  \n",
       "1                      NaN                 NaN  NaN  \n",
       "2                      NaN                 NaN  NaN  \n",
       "3                      NaN                 NaN  NaN  \n",
       "4                      NaN                 NaN  NaN  \n",
       "...                    ...                 ...  ...  \n",
       "2761                   NaN                 NaN  NaN  \n",
       "2762                   NaN                 NaN  NaN  \n",
       "2763                   NaN                 NaN  NaN  \n",
       "2764             July 2018                 NaN  NaN  \n",
       "2765                   NaN                 NaN  NaN  \n",
       "\n",
       "[2766 rows x 38 columns]"
      ],
      "text/html": "<div>\n<style scoped>\n    .dataframe tbody tr th:only-of-type {\n        vertical-align: middle;\n    }\n\n    .dataframe tbody tr th {\n        vertical-align: top;\n    }\n\n    .dataframe thead th {\n        text-align: right;\n    }\n</style>\n<table border=\"1\" class=\"dataframe\">\n  <thead>\n    <tr style=\"text-align: right;\">\n      <th></th>\n      <th>Unnamed: 0</th>\n      <th>country</th>\n      <th>year</th>\n      <th>PR</th>\n      <th>CL</th>\n      <th>Status</th>\n      <th>DD regime</th>\n      <th>DD category</th>\n      <th>Monarchy</th>\n      <th>Commonwealth</th>\n      <th>...</th>\n      <th>fullsuffrage</th>\n      <th>electoral</th>\n      <th>spatial electoral</th>\n      <th>alternation</th>\n      <th>multiparty</th>\n      <th>free and fair election</th>\n      <th>parliamentary election year</th>\n      <th>election month, year</th>\n      <th>postponed election</th>\n      <th>gdp</th>\n    </tr>\n  </thead>\n  <tbody>\n    <tr>\n      <th>0</th>\n      <td>NaN</td>\n      <td>afghanistan</td>\n      <td>NaN</td>\n      <td>NaN</td>\n      <td>NaN</td>\n      <td>PF</td>\n      <td>NaN</td>\n      <td>Civilian dictatorship</td>\n      <td>NaN</td>\n      <td>NaN</td>\n      <td>...</td>\n      <td>NaN</td>\n      <td>NaN</td>\n      <td>1.5</td>\n      <td>NaN</td>\n      <td>NaN</td>\n      <td>NaN</td>\n      <td>NaN</td>\n      <td>September 2005</td>\n      <td>NaN</td>\n      <td>NaN</td>\n    </tr>\n    <tr>\n      <th>1</th>\n      <td>NaN</td>\n      <td>afghanistan</td>\n      <td>NaN</td>\n      <td>NaN</td>\n      <td>NaN</td>\n      <td>PF</td>\n      <td>NaN</td>\n      <td>Civilian dictatorship</td>\n      <td>NaN</td>\n      <td>NaN</td>\n      <td>...</td>\n      <td>NaN</td>\n      <td>NaN</td>\n      <td>1.5</td>\n      <td>NaN</td>\n      <td>NaN</td>\n      <td>NaN</td>\n      <td>NaN</td>\n      <td>NaN</td>\n      <td>NaN</td>\n      <td>NaN</td>\n    </tr>\n    <tr>\n      <th>2</th>\n      <td>NaN</td>\n      <td>afghanistan</td>\n      <td>NaN</td>\n      <td>NaN</td>\n      <td>NaN</td>\n      <td>NF</td>\n      <td>NaN</td>\n      <td>Civilian dictatorship</td>\n      <td>NaN</td>\n      <td>NaN</td>\n      <td>...</td>\n      <td>NaN</td>\n      <td>NaN</td>\n      <td>1.75</td>\n      <td>NaN</td>\n      <td>NaN</td>\n      <td>NaN</td>\n      <td>NaN</td>\n      <td>NaN</td>\n      <td>NaN</td>\n      <td>NaN</td>\n    </tr>\n    <tr>\n      <th>3</th>\n      <td>NaN</td>\n      <td>afghanistan</td>\n      <td>NaN</td>\n      <td>NaN</td>\n      <td>NaN</td>\n      <td>NF</td>\n      <td>NaN</td>\n      <td>Civilian dictatorship</td>\n      <td>NaN</td>\n      <td>NaN</td>\n      <td>...</td>\n      <td>NaN</td>\n      <td>NaN</td>\n      <td>1.75</td>\n      <td>NaN</td>\n      <td>NaN</td>\n      <td>NaN</td>\n      <td>NaN</td>\n      <td>NaN</td>\n      <td>NaN</td>\n      <td>NaN</td>\n    </tr>\n    <tr>\n      <th>4</th>\n      <td>NaN</td>\n      <td>afghanistan</td>\n      <td>NaN</td>\n      <td>NaN</td>\n      <td>NaN</td>\n      <td>NF</td>\n      <td>NaN</td>\n      <td>Civilian dictatorship</td>\n      <td>NaN</td>\n      <td>NaN</td>\n      <td>...</td>\n      <td>NaN</td>\n      <td>NaN</td>\n      <td>1.75</td>\n      <td>NaN</td>\n      <td>NaN</td>\n      <td>NaN</td>\n      <td>NaN</td>\n      <td>NaN</td>\n      <td>NaN</td>\n      <td>NaN</td>\n    </tr>\n    <tr>\n      <th>...</th>\n      <td>...</td>\n      <td>...</td>\n      <td>...</td>\n      <td>...</td>\n      <td>...</td>\n      <td>...</td>\n      <td>...</td>\n      <td>...</td>\n      <td>...</td>\n      <td>...</td>\n      <td>...</td>\n      <td>...</td>\n      <td>...</td>\n      <td>...</td>\n      <td>...</td>\n      <td>...</td>\n      <td>...</td>\n      <td>...</td>\n      <td>...</td>\n      <td>...</td>\n      <td>...</td>\n    </tr>\n    <tr>\n      <th>2761</th>\n      <td>NaN</td>\n      <td>zimbabwe</td>\n      <td>NaN</td>\n      <td>NaN</td>\n      <td>NaN</td>\n      <td>PF</td>\n      <td>NaN</td>\n      <td>Civilian dictatorship</td>\n      <td>NaN</td>\n      <td>NaN</td>\n      <td>...</td>\n      <td>NaN</td>\n      <td>NaN</td>\n      <td>2.5</td>\n      <td>NaN</td>\n      <td>NaN</td>\n      <td>NaN</td>\n      <td>NaN</td>\n      <td>NaN</td>\n      <td>NaN</td>\n      <td>NaN</td>\n    </tr>\n    <tr>\n      <th>2762</th>\n      <td>NaN</td>\n      <td>zimbabwe</td>\n      <td>NaN</td>\n      <td>NaN</td>\n      <td>NaN</td>\n      <td>NF</td>\n      <td>NaN</td>\n      <td>Civilian dictatorship</td>\n      <td>NaN</td>\n      <td>NaN</td>\n      <td>...</td>\n      <td>NaN</td>\n      <td>NaN</td>\n      <td>2.5</td>\n      <td>NaN</td>\n      <td>NaN</td>\n      <td>NaN</td>\n      <td>NaN</td>\n      <td>NaN</td>\n      <td>NaN</td>\n      <td>NaN</td>\n    </tr>\n    <tr>\n      <th>2763</th>\n      <td>NaN</td>\n      <td>zimbabwe</td>\n      <td>NaN</td>\n      <td>NaN</td>\n      <td>NaN</td>\n      <td>PF</td>\n      <td>NaN</td>\n      <td>Military dictatorship</td>\n      <td>NaN</td>\n      <td>NaN</td>\n      <td>...</td>\n      <td>NaN</td>\n      <td>NaN</td>\n      <td>2.5</td>\n      <td>NaN</td>\n      <td>NaN</td>\n      <td>NaN</td>\n      <td>NaN</td>\n      <td>NaN</td>\n      <td>NaN</td>\n      <td>NaN</td>\n    </tr>\n    <tr>\n      <th>2764</th>\n      <td>NaN</td>\n      <td>zimbabwe</td>\n      <td>NaN</td>\n      <td>NaN</td>\n      <td>NaN</td>\n      <td>PF</td>\n      <td>NaN</td>\n      <td>Military dictatorship</td>\n      <td>NaN</td>\n      <td>NaN</td>\n      <td>...</td>\n      <td>NaN</td>\n      <td>NaN</td>\n      <td>2.5</td>\n      <td>NaN</td>\n      <td>NaN</td>\n      <td>NaN</td>\n      <td>NaN</td>\n      <td>July 2018</td>\n      <td>NaN</td>\n      <td>NaN</td>\n    </tr>\n    <tr>\n      <th>2765</th>\n      <td>NaN</td>\n      <td>zimbabwe</td>\n      <td>NaN</td>\n      <td>NaN</td>\n      <td>NaN</td>\n      <td>NF</td>\n      <td>NaN</td>\n      <td>Military dictatorship</td>\n      <td>NaN</td>\n      <td>NaN</td>\n      <td>...</td>\n      <td>NaN</td>\n      <td>NaN</td>\n      <td>2.5</td>\n      <td>NaN</td>\n      <td>NaN</td>\n      <td>NaN</td>\n      <td>NaN</td>\n      <td>NaN</td>\n      <td>NaN</td>\n      <td>NaN</td>\n    </tr>\n  </tbody>\n</table>\n<p>2766 rows × 38 columns</p>\n</div>"
     },
     "metadata": {},
     "execution_count": 84
    }
   ],
   "source": [
    "df[~df.applymap(np.isreal)]"
   ]
  },
  {
   "cell_type": "code",
   "execution_count": 87,
   "metadata": {},
   "outputs": [
    {
     "output_type": "execute_result",
     "data": {
      "text/plain": [
       "1.0"
      ]
     },
     "metadata": {},
     "execution_count": 87
    }
   ],
   "source": [
    "df.applymap(np.isreal).PR.mean()"
   ]
  },
  {
   "cell_type": "code",
   "execution_count": 118,
   "metadata": {},
   "outputs": [
    {
     "output_type": "execute_result",
     "data": {
      "text/plain": [
       "True"
      ]
     },
     "metadata": {},
     "execution_count": 118
    }
   ],
   "source": [
    "df.dtypes.map(list(df.dtypes) == np.dtype('int') | list(df.dtypes) == np.dtype('float'))"
   ]
  },
  {
   "cell_type": "code",
   "execution_count": 92,
   "metadata": {},
   "outputs": [],
   "source": [
    "df.loc[:, 'spatial electoral'] = df.loc[:, 'spatial electoral'].astype('float')"
   ]
  },
  {
   "cell_type": "code",
   "execution_count": 96,
   "metadata": {},
   "outputs": [],
   "source": [
    "df = df.drop(['election month, year'], axis=1)"
   ]
  },
  {
   "cell_type": "code",
   "execution_count": null,
   "metadata": {},
   "outputs": [],
   "source": []
  }
 ]
}