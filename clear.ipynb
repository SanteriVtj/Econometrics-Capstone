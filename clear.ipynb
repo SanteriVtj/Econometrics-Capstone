{
 "metadata": {
  "language_info": {
   "codemirror_mode": {
    "name": "ipython",
    "version": 3
   },
   "file_extension": ".py",
   "mimetype": "text/x-python",
   "name": "python",
   "nbconvert_exporter": "python",
   "pygments_lexer": "ipython3",
   "version": "3.8.5-final"
  },
  "orig_nbformat": 2,
  "kernelspec": {
   "name": "python385jvsc74a57bd0fac54e6b642c37966e43cdb643d32d1f4e4fa0317cda1cf8b922991f41f52fc4",
   "display_name": "Python 3.8.5 64-bit ('cap_venv')"
  }
 },
 "nbformat": 4,
 "nbformat_minor": 2,
 "cells": [
  {
   "cell_type": "code",
   "execution_count": 1,
   "metadata": {},
   "outputs": [],
   "source": [
    "import pandas as pd\n",
    "import numpy as np\n",
    "from functools import reduce"
   ]
  },
  {
   "cell_type": "code",
   "execution_count": 61,
   "metadata": {},
   "outputs": [
    {
     "output_type": "stream",
     "name": "stderr",
     "text": [
      "/Users/santerivaataja/Desktop/Taloustieteen_kursseja/Econometrics/Capstone.nosync/cap_venv/lib/python3.8/site-packages/IPython/core/interactiveshell.py:3165: DtypeWarning: Columns (2,3) have mixed types.Specify dtype option on import or set low_memory=False.\n  has_raised = await self.run_ast_nodes(code_ast.body, cell_name,\n"
     ]
    }
   ],
   "source": [
    "df = pd.read_csv('./raw_data/master.csv')"
   ]
  },
  {
   "cell_type": "code",
   "execution_count": 62,
   "metadata": {},
   "outputs": [
    {
     "output_type": "execute_result",
     "data": {
      "text/plain": [
       "       country  year PR CL Status  DD regime            DD category  Monarchy  \\\n",
       "0  afghanistan  1972  4  5     PF        5.0     Royal dictatorship       1.0   \n",
       "1  afghanistan  1973  7  6     NF        5.0     Royal dictatorship       1.0   \n",
       "2  afghanistan  1974  7  6     NF        3.0  Civilian dictatorship       0.0   \n",
       "3  afghanistan  1975  7  6     NF        3.0  Civilian dictatorship       0.0   \n",
       "4  afghanistan  1976  7  6     NF        3.0  Civilian dictatorship       0.0   \n",
       "\n",
       "   Commonwealth         Monarch name  ...  gs   t  corruption  efficiency  \\\n",
       "0           0.0  Mohammed Zahir Shah  ... NaN NaN         NaN         NaN   \n",
       "1           0.0  Mohammed Zahir Shah  ... NaN NaN         NaN         NaN   \n",
       "2           0.0                  NaN  ... NaN NaN         NaN         NaN   \n",
       "3           0.0                  NaN  ... NaN NaN         NaN         NaN   \n",
       "4           0.0                  NaN  ... NaN NaN         NaN         NaN   \n",
       "\n",
       "   stability rol  acc  mortality  trade  gdp  \n",
       "0        NaN NaN  NaN        NaN    NaN  NaN  \n",
       "1        NaN NaN  NaN        NaN    NaN  NaN  \n",
       "2        NaN NaN  NaN        NaN    NaN  NaN  \n",
       "3        NaN NaN  NaN        NaN    NaN  NaN  \n",
       "4        NaN NaN  NaN        NaN    NaN  NaN  \n",
       "\n",
       "[5 rows x 99 columns]"
      ],
      "text/html": "<div>\n<style scoped>\n    .dataframe tbody tr th:only-of-type {\n        vertical-align: middle;\n    }\n\n    .dataframe tbody tr th {\n        vertical-align: top;\n    }\n\n    .dataframe thead th {\n        text-align: right;\n    }\n</style>\n<table border=\"1\" class=\"dataframe\">\n  <thead>\n    <tr style=\"text-align: right;\">\n      <th></th>\n      <th>country</th>\n      <th>year</th>\n      <th>PR</th>\n      <th>CL</th>\n      <th>Status</th>\n      <th>DD regime</th>\n      <th>DD category</th>\n      <th>Monarchy</th>\n      <th>Commonwealth</th>\n      <th>Monarch name</th>\n      <th>...</th>\n      <th>gs</th>\n      <th>t</th>\n      <th>corruption</th>\n      <th>efficiency</th>\n      <th>stability</th>\n      <th>rol</th>\n      <th>acc</th>\n      <th>mortality</th>\n      <th>trade</th>\n      <th>gdp</th>\n    </tr>\n  </thead>\n  <tbody>\n    <tr>\n      <th>0</th>\n      <td>afghanistan</td>\n      <td>1972</td>\n      <td>4</td>\n      <td>5</td>\n      <td>PF</td>\n      <td>5.0</td>\n      <td>Royal dictatorship</td>\n      <td>1.0</td>\n      <td>0.0</td>\n      <td>Mohammed Zahir Shah</td>\n      <td>...</td>\n      <td>NaN</td>\n      <td>NaN</td>\n      <td>NaN</td>\n      <td>NaN</td>\n      <td>NaN</td>\n      <td>NaN</td>\n      <td>NaN</td>\n      <td>NaN</td>\n      <td>NaN</td>\n      <td>NaN</td>\n    </tr>\n    <tr>\n      <th>1</th>\n      <td>afghanistan</td>\n      <td>1973</td>\n      <td>7</td>\n      <td>6</td>\n      <td>NF</td>\n      <td>5.0</td>\n      <td>Royal dictatorship</td>\n      <td>1.0</td>\n      <td>0.0</td>\n      <td>Mohammed Zahir Shah</td>\n      <td>...</td>\n      <td>NaN</td>\n      <td>NaN</td>\n      <td>NaN</td>\n      <td>NaN</td>\n      <td>NaN</td>\n      <td>NaN</td>\n      <td>NaN</td>\n      <td>NaN</td>\n      <td>NaN</td>\n      <td>NaN</td>\n    </tr>\n    <tr>\n      <th>2</th>\n      <td>afghanistan</td>\n      <td>1974</td>\n      <td>7</td>\n      <td>6</td>\n      <td>NF</td>\n      <td>3.0</td>\n      <td>Civilian dictatorship</td>\n      <td>0.0</td>\n      <td>0.0</td>\n      <td>NaN</td>\n      <td>...</td>\n      <td>NaN</td>\n      <td>NaN</td>\n      <td>NaN</td>\n      <td>NaN</td>\n      <td>NaN</td>\n      <td>NaN</td>\n      <td>NaN</td>\n      <td>NaN</td>\n      <td>NaN</td>\n      <td>NaN</td>\n    </tr>\n    <tr>\n      <th>3</th>\n      <td>afghanistan</td>\n      <td>1975</td>\n      <td>7</td>\n      <td>6</td>\n      <td>NF</td>\n      <td>3.0</td>\n      <td>Civilian dictatorship</td>\n      <td>0.0</td>\n      <td>0.0</td>\n      <td>NaN</td>\n      <td>...</td>\n      <td>NaN</td>\n      <td>NaN</td>\n      <td>NaN</td>\n      <td>NaN</td>\n      <td>NaN</td>\n      <td>NaN</td>\n      <td>NaN</td>\n      <td>NaN</td>\n      <td>NaN</td>\n      <td>NaN</td>\n    </tr>\n    <tr>\n      <th>4</th>\n      <td>afghanistan</td>\n      <td>1976</td>\n      <td>7</td>\n      <td>6</td>\n      <td>NF</td>\n      <td>3.0</td>\n      <td>Civilian dictatorship</td>\n      <td>0.0</td>\n      <td>0.0</td>\n      <td>NaN</td>\n      <td>...</td>\n      <td>NaN</td>\n      <td>NaN</td>\n      <td>NaN</td>\n      <td>NaN</td>\n      <td>NaN</td>\n      <td>NaN</td>\n      <td>NaN</td>\n      <td>NaN</td>\n      <td>NaN</td>\n      <td>NaN</td>\n    </tr>\n  </tbody>\n</table>\n<p>5 rows × 99 columns</p>\n</div>"
     },
     "metadata": {},
     "execution_count": 62
    }
   ],
   "source": [
    "df.head()"
   ]
  },
  {
   "cell_type": "code",
   "execution_count": 67,
   "metadata": {},
   "outputs": [
    {
     "output_type": "execute_result",
     "data": {
      "text/plain": [
       "[('country', 0),\n",
       " ('year', 0),\n",
       " ('PR', 0),\n",
       " ('CL', 0),\n",
       " ('Status', 0),\n",
       " ('DD regime', 0),\n",
       " ('DD category', 0),\n",
       " ('Monarchy', 0),\n",
       " ('Commonwealth', 0),\n",
       " ('Democracy', 0),\n",
       " ('Presidential', 0),\n",
       " ('President name', 0),\n",
       " ('President accesion', 0),\n",
       " ('President birthyear', 0),\n",
       " ('Interim phase (more than 2 Presidents/year=1)', 0),\n",
       " ('Female president (0: No; 1: Yes)', 0),\n",
       " ('Colony', 0),\n",
       " ('Communist', 0),\n",
       " ('Regime change lag', 0),\n",
       " ('spatial democracy', 0),\n",
       " ('countrycode', 0),\n",
       " ('No. of chambers in parliament', 0),\n",
       " ('proportional voting', 0),\n",
       " ('Election system', 0),\n",
       " ('No. of members in lower house', 0),\n",
       " ('New constitution', 0),\n",
       " ('fullsuffrage', 0),\n",
       " ('electoral', 0),\n",
       " ('spatial electoral', 0),\n",
       " ('alternation', 0),\n",
       " ('multiparty', 0),\n",
       " ('free and fair election', 0),\n",
       " ('parliamentary election year', 0),\n",
       " ('postponed election', 0),\n",
       " ('Anticorruption policy', 0),\n",
       " ('Civil rights', 0),\n",
       " ('Civil society participation', 0),\n",
       " ('Civil society traditions', 0),\n",
       " ('Cleavage conflict management', 0),\n",
       " ('Commitment to democratic institutions', 0),\n",
       " ('Conflict intensity', 0),\n",
       " ('Consensus on goals', 0),\n",
       " ('Antidemocratic actors', 0),\n",
       " ('Education policy R&D', 0),\n",
       " ('Effective power to govern', 0),\n",
       " ('Effective use of support', 0),\n",
       " ('Efficient use of assets', 0),\n",
       " ('Environmental policy', 0),\n",
       " ('Equal opportunity', 0),\n",
       " ('Free and fair elections', 0),\n",
       " ('Freedom of expression', 0),\n",
       " ('Independent judiciary', 0),\n",
       " ('Interest groups', 0),\n",
       " ('International Cooperation', 0),\n",
       " ('Monopoly on the use of force', 0),\n",
       " ('No interference of religious dogmas', 0),\n",
       " ('Association assembly rights', 0),\n",
       " ('Organization of the Market and Competition', 0),\n",
       " ('Party system', 0),\n",
       " ('Performance of democratic institutions', 0),\n",
       " ('Policy coordination', 0),\n",
       " ('Policy learning', 0),\n",
       " ('Political Participation', 0),\n",
       " ('Political and Social Integration', 0),\n",
       " ('Private Property', 0),\n",
       " ('Prosecution of office abuse', 0),\n",
       " ('Regional cooperation', 0),\n",
       " ('Resource Efficiency', 0),\n",
       " ('Separation of powers', 0),\n",
       " ('Social capital', 0),\n",
       " ('Social safety nets', 0),\n",
       " ('Socioeconomic barriers', 0),\n",
       " ('Stability of Democratic Institutions', 0),\n",
       " ('State identity', 0),\n",
       " ('Basic administration', 0),\n",
       " ('Steering Capability', 0),\n",
       " ('Structural constraints', 0),\n",
       " ('Welfare Regime', 0),\n",
       " ('gs', 0),\n",
       " ('t', 0),\n",
       " ('corruption', 0),\n",
       " ('efficiency', 0),\n",
       " ('stability', 0),\n",
       " ('rol', 0),\n",
       " ('acc', 0),\n",
       " ('mortality', 0),\n",
       " ('trade', 0),\n",
       " ('gdp', 0)]"
      ]
     },
     "metadata": {},
     "execution_count": 67
    }
   ],
   "source": [
    "list(zip(df.columns, [df.loc[:,i].isna().sum() for i in df.columns]))"
   ]
  },
  {
   "cell_type": "code",
   "execution_count": 51,
   "metadata": {},
   "outputs": [],
   "source": [
    "#list(zip(df.columns, [df.loc[i].isna().sum() for i in df.index]))"
   ]
  },
  {
   "cell_type": "code",
   "execution_count": 68,
   "metadata": {},
   "outputs": [
    {
     "output_type": "execute_result",
     "data": {
      "text/plain": [
       "(88, 88)"
      ]
     },
     "metadata": {},
     "execution_count": 68
    }
   ],
   "source": [
    "df.shape\n",
    "#(156, 79)\n"
   ]
  },
  {
   "cell_type": "code",
   "execution_count": 63,
   "metadata": {},
   "outputs": [],
   "source": [
    "df = df[(df.year == 2008) | (df.year == 2018)]"
   ]
  },
  {
   "cell_type": "code",
   "execution_count": 64,
   "metadata": {},
   "outputs": [],
   "source": [
    "m_row = [df.loc[i].isna().mean() > .15 for i in df.index]\n",
    "df = df.drop(np.array(df.index)[m_row], axis=0)"
   ]
  },
  {
   "cell_type": "code",
   "execution_count": 65,
   "metadata": {},
   "outputs": [],
   "source": [
    "m_col = [df.loc[:,i].isna().mean() > .35 for i in df.columns]\n",
    "df = df.drop(np.array(df.columns)[m_col], axis=1)"
   ]
  },
  {
   "cell_type": "code",
   "execution_count": 66,
   "metadata": {},
   "outputs": [],
   "source": [
    "no_data_country = np.array(list(df.groupby('country').groups.keys()))[list(df.groupby('country').count().min(axis=1) != 2)]\n",
    "df = df[~df.country.isin(no_data_country)]"
   ]
  },
  {
   "cell_type": "code",
   "execution_count": 16,
   "metadata": {},
   "outputs": [
    {
     "output_type": "execute_result",
     "data": {
      "text/plain": [
       "         country  year   PR   CL Status  DD regime             DD category  \\\n",
       "371      armenia  2008    6    4     PF        1.0        Mixed democratic   \n",
       "381      armenia  2018    4    4     PF        1.0        Mixed democratic   \n",
       "515   azerbaijan  2008    6    5     NF        3.0   Civilian dictatorship   \n",
       "525   azerbaijan  2018    7    6     NF        3.0   Civilian dictatorship   \n",
       "755      belarus  2008    7    6     NF        3.0   Civilian dictatorship   \n",
       "...          ...   ...  ...  ...    ...        ...                     ...   \n",
       "9021     ukraine  2018  3.0  4.0     PF        1.0        Mixed democratic   \n",
       "9203     uruguay  2008  1.0  1.0      F        2.0  Presidential democracy   \n",
       "9213     uruguay  2018  1.0  1.0      F        2.0  Presidential democracy   \n",
       "9779      zambia  2008  3.0  3.0     PF        3.0   Civilian dictatorship   \n",
       "9789      zambia  2018  4.0  4.0     PF        2.0  Presidential democracy   \n",
       "\n",
       "      Monarchy  Commonwealth  Democracy  ...  Structural constraints  \\\n",
       "371        0.0           0.0        1.0  ...                     6.0   \n",
       "381        0.0           0.0        1.0  ...                     6.0   \n",
       "515        0.0           0.0        0.0  ...                     6.0   \n",
       "525        0.0           0.0        0.0  ...                     6.0   \n",
       "755        0.0           0.0        0.0  ...                     6.0   \n",
       "...        ...           ...        ...  ...                     ...   \n",
       "9021       0.0           0.0        1.0  ...                     7.0   \n",
       "9203       0.0           0.0        1.0  ...                     3.0   \n",
       "9213       0.0           0.0        1.0  ...                     2.0   \n",
       "9779       0.0           1.0        0.0  ...                     8.0   \n",
       "9789       0.0           1.0        1.0  ...                     7.0   \n",
       "\n",
       "     Welfare Regime         gs          t  corruption       eff      stab  \\\n",
       "371             5.5  21.139685  17.321759   -0.708098 -0.172694 -0.009365   \n",
       "381             6.0  22.076814  20.870104   -0.349144 -0.024339 -0.435933   \n",
       "515             4.5  18.507768  16.421175   -1.148548 -0.773533 -0.333475   \n",
       "525             5.5  21.402262  12.971272   -0.828699 -0.100467 -0.697415   \n",
       "755             6.0  33.950361  25.353389   -0.628876 -1.114199  0.518490   \n",
       "...             ...        ...        ...         ...       ...       ...   \n",
       "9021            6.5  33.405961  20.140889   -0.873793 -0.415220 -1.858748   \n",
       "9203            8.5  25.603022  18.241841    1.308401  0.500966  0.846269   \n",
       "9213            9.0  34.991108  20.091963    1.259947  0.558215  1.041839   \n",
       "9779            3.5  16.383940  13.259304   -0.391012 -0.734437  0.469842   \n",
       "9789            4.5  20.110676  16.587036   -0.656285 -0.559209  0.093829   \n",
       "\n",
       "           rol       acc           gdp  \n",
       "371  -0.340527 -0.857630   4010.857243  \n",
       "381  -0.150221 -0.113266   4220.490277  \n",
       "515  -0.832452 -1.325132   5574.603802  \n",
       "525  -0.600219 -1.496132   4739.841710  \n",
       "755  -1.062698 -1.593318   6377.369732  \n",
       "...        ...       ...           ...  \n",
       "9021 -0.717745 -0.012411   3096.817402  \n",
       "9203  0.595218  1.062145   9091.079039  \n",
       "9213  0.594519  1.214225  17277.970111  \n",
       "9779 -0.408001 -0.161100   1394.000608  \n",
       "9789 -0.345050 -0.319048   1516.390661  \n",
       "\n",
       "[90 rows x 86 columns]"
      ],
      "text/html": "<div>\n<style scoped>\n    .dataframe tbody tr th:only-of-type {\n        vertical-align: middle;\n    }\n\n    .dataframe tbody tr th {\n        vertical-align: top;\n    }\n\n    .dataframe thead th {\n        text-align: right;\n    }\n</style>\n<table border=\"1\" class=\"dataframe\">\n  <thead>\n    <tr style=\"text-align: right;\">\n      <th></th>\n      <th>country</th>\n      <th>year</th>\n      <th>PR</th>\n      <th>CL</th>\n      <th>Status</th>\n      <th>DD regime</th>\n      <th>DD category</th>\n      <th>Monarchy</th>\n      <th>Commonwealth</th>\n      <th>Democracy</th>\n      <th>...</th>\n      <th>Structural constraints</th>\n      <th>Welfare Regime</th>\n      <th>gs</th>\n      <th>t</th>\n      <th>corruption</th>\n      <th>eff</th>\n      <th>stab</th>\n      <th>rol</th>\n      <th>acc</th>\n      <th>gdp</th>\n    </tr>\n  </thead>\n  <tbody>\n    <tr>\n      <th>371</th>\n      <td>armenia</td>\n      <td>2008</td>\n      <td>6</td>\n      <td>4</td>\n      <td>PF</td>\n      <td>1.0</td>\n      <td>Mixed democratic</td>\n      <td>0.0</td>\n      <td>0.0</td>\n      <td>1.0</td>\n      <td>...</td>\n      <td>6.0</td>\n      <td>5.5</td>\n      <td>21.139685</td>\n      <td>17.321759</td>\n      <td>-0.708098</td>\n      <td>-0.172694</td>\n      <td>-0.009365</td>\n      <td>-0.340527</td>\n      <td>-0.857630</td>\n      <td>4010.857243</td>\n    </tr>\n    <tr>\n      <th>381</th>\n      <td>armenia</td>\n      <td>2018</td>\n      <td>4</td>\n      <td>4</td>\n      <td>PF</td>\n      <td>1.0</td>\n      <td>Mixed democratic</td>\n      <td>0.0</td>\n      <td>0.0</td>\n      <td>1.0</td>\n      <td>...</td>\n      <td>6.0</td>\n      <td>6.0</td>\n      <td>22.076814</td>\n      <td>20.870104</td>\n      <td>-0.349144</td>\n      <td>-0.024339</td>\n      <td>-0.435933</td>\n      <td>-0.150221</td>\n      <td>-0.113266</td>\n      <td>4220.490277</td>\n    </tr>\n    <tr>\n      <th>515</th>\n      <td>azerbaijan</td>\n      <td>2008</td>\n      <td>6</td>\n      <td>5</td>\n      <td>NF</td>\n      <td>3.0</td>\n      <td>Civilian dictatorship</td>\n      <td>0.0</td>\n      <td>0.0</td>\n      <td>0.0</td>\n      <td>...</td>\n      <td>6.0</td>\n      <td>4.5</td>\n      <td>18.507768</td>\n      <td>16.421175</td>\n      <td>-1.148548</td>\n      <td>-0.773533</td>\n      <td>-0.333475</td>\n      <td>-0.832452</td>\n      <td>-1.325132</td>\n      <td>5574.603802</td>\n    </tr>\n    <tr>\n      <th>525</th>\n      <td>azerbaijan</td>\n      <td>2018</td>\n      <td>7</td>\n      <td>6</td>\n      <td>NF</td>\n      <td>3.0</td>\n      <td>Civilian dictatorship</td>\n      <td>0.0</td>\n      <td>0.0</td>\n      <td>0.0</td>\n      <td>...</td>\n      <td>6.0</td>\n      <td>5.5</td>\n      <td>21.402262</td>\n      <td>12.971272</td>\n      <td>-0.828699</td>\n      <td>-0.100467</td>\n      <td>-0.697415</td>\n      <td>-0.600219</td>\n      <td>-1.496132</td>\n      <td>4739.841710</td>\n    </tr>\n    <tr>\n      <th>755</th>\n      <td>belarus</td>\n      <td>2008</td>\n      <td>7</td>\n      <td>6</td>\n      <td>NF</td>\n      <td>3.0</td>\n      <td>Civilian dictatorship</td>\n      <td>0.0</td>\n      <td>0.0</td>\n      <td>0.0</td>\n      <td>...</td>\n      <td>6.0</td>\n      <td>6.0</td>\n      <td>33.950361</td>\n      <td>25.353389</td>\n      <td>-0.628876</td>\n      <td>-1.114199</td>\n      <td>0.518490</td>\n      <td>-1.062698</td>\n      <td>-1.593318</td>\n      <td>6377.369732</td>\n    </tr>\n    <tr>\n      <th>...</th>\n      <td>...</td>\n      <td>...</td>\n      <td>...</td>\n      <td>...</td>\n      <td>...</td>\n      <td>...</td>\n      <td>...</td>\n      <td>...</td>\n      <td>...</td>\n      <td>...</td>\n      <td>...</td>\n      <td>...</td>\n      <td>...</td>\n      <td>...</td>\n      <td>...</td>\n      <td>...</td>\n      <td>...</td>\n      <td>...</td>\n      <td>...</td>\n      <td>...</td>\n      <td>...</td>\n    </tr>\n    <tr>\n      <th>9021</th>\n      <td>ukraine</td>\n      <td>2018</td>\n      <td>3.0</td>\n      <td>4.0</td>\n      <td>PF</td>\n      <td>1.0</td>\n      <td>Mixed democratic</td>\n      <td>0.0</td>\n      <td>0.0</td>\n      <td>1.0</td>\n      <td>...</td>\n      <td>7.0</td>\n      <td>6.5</td>\n      <td>33.405961</td>\n      <td>20.140889</td>\n      <td>-0.873793</td>\n      <td>-0.415220</td>\n      <td>-1.858748</td>\n      <td>-0.717745</td>\n      <td>-0.012411</td>\n      <td>3096.817402</td>\n    </tr>\n    <tr>\n      <th>9203</th>\n      <td>uruguay</td>\n      <td>2008</td>\n      <td>1.0</td>\n      <td>1.0</td>\n      <td>F</td>\n      <td>2.0</td>\n      <td>Presidential democracy</td>\n      <td>0.0</td>\n      <td>0.0</td>\n      <td>1.0</td>\n      <td>...</td>\n      <td>3.0</td>\n      <td>8.5</td>\n      <td>25.603022</td>\n      <td>18.241841</td>\n      <td>1.308401</td>\n      <td>0.500966</td>\n      <td>0.846269</td>\n      <td>0.595218</td>\n      <td>1.062145</td>\n      <td>9091.079039</td>\n    </tr>\n    <tr>\n      <th>9213</th>\n      <td>uruguay</td>\n      <td>2018</td>\n      <td>1.0</td>\n      <td>1.0</td>\n      <td>F</td>\n      <td>2.0</td>\n      <td>Presidential democracy</td>\n      <td>0.0</td>\n      <td>0.0</td>\n      <td>1.0</td>\n      <td>...</td>\n      <td>2.0</td>\n      <td>9.0</td>\n      <td>34.991108</td>\n      <td>20.091963</td>\n      <td>1.259947</td>\n      <td>0.558215</td>\n      <td>1.041839</td>\n      <td>0.594519</td>\n      <td>1.214225</td>\n      <td>17277.970111</td>\n    </tr>\n    <tr>\n      <th>9779</th>\n      <td>zambia</td>\n      <td>2008</td>\n      <td>3.0</td>\n      <td>3.0</td>\n      <td>PF</td>\n      <td>3.0</td>\n      <td>Civilian dictatorship</td>\n      <td>0.0</td>\n      <td>1.0</td>\n      <td>0.0</td>\n      <td>...</td>\n      <td>8.0</td>\n      <td>3.5</td>\n      <td>16.383940</td>\n      <td>13.259304</td>\n      <td>-0.391012</td>\n      <td>-0.734437</td>\n      <td>0.469842</td>\n      <td>-0.408001</td>\n      <td>-0.161100</td>\n      <td>1394.000608</td>\n    </tr>\n    <tr>\n      <th>9789</th>\n      <td>zambia</td>\n      <td>2018</td>\n      <td>4.0</td>\n      <td>4.0</td>\n      <td>PF</td>\n      <td>2.0</td>\n      <td>Presidential democracy</td>\n      <td>0.0</td>\n      <td>1.0</td>\n      <td>1.0</td>\n      <td>...</td>\n      <td>7.0</td>\n      <td>4.5</td>\n      <td>20.110676</td>\n      <td>16.587036</td>\n      <td>-0.656285</td>\n      <td>-0.559209</td>\n      <td>0.093829</td>\n      <td>-0.345050</td>\n      <td>-0.319048</td>\n      <td>1516.390661</td>\n    </tr>\n  </tbody>\n</table>\n<p>90 rows × 86 columns</p>\n</div>"
     },
     "metadata": {},
     "execution_count": 16
    }
   ],
   "source": [
    "df"
   ]
  },
  {
   "cell_type": "code",
   "execution_count": 118,
   "metadata": {},
   "outputs": [
    {
     "output_type": "execute_result",
     "data": {
      "text/plain": [
       "2012    181\n",
       "2014    181\n",
       "2016    181\n",
       "2018    181\n",
       "2010    180\n",
       "2006    179\n",
       "2008    179\n",
       "Name: year, dtype: int64"
      ]
     },
     "metadata": {},
     "execution_count": 118
    }
   ],
   "source": [
    "df.year.value_counts()"
   ]
  },
  {
   "cell_type": "code",
   "execution_count": 201,
   "metadata": {},
   "outputs": [
    {
     "output_type": "execute_result",
     "data": {
      "text/plain": [
       "poland            2\n",
       "zambia            2\n",
       "czech republic    2\n",
       "uzbekistan        2\n",
       "tajikistan        2\n",
       "                 ..\n",
       "bhutan            1\n",
       "nepal             1\n",
       "qatar             1\n",
       "iraq              1\n",
       "oman              1\n",
       "Name: country, Length: 108, dtype: int64"
      ]
     },
     "metadata": {},
     "execution_count": 201
    }
   ],
   "source": [
    "df.country.value_counts()"
   ]
  },
  {
   "cell_type": "code",
   "execution_count": 69,
   "metadata": {},
   "outputs": [],
   "source": [
    "df.to_csv('raw_data/small_master.csv')"
   ]
  },
  {
   "cell_type": "code",
   "execution_count": 126,
   "metadata": {},
   "outputs": [
    {
     "output_type": "execute_result",
     "data": {
      "text/plain": [
       "country                    object\n",
       "year                        int64\n",
       "PR                        float64\n",
       "CL                        float64\n",
       "Status                     object\n",
       "                           ...   \n",
       "Steering Capability       float64\n",
       "Structural constraints    float64\n",
       "Welfare Regime            float64\n",
       "t                         float64\n",
       "gdp                       float64\n",
       "Length: 80, dtype: object"
      ]
     },
     "metadata": {},
     "execution_count": 126
    }
   ],
   "source": [
    "df.dtypes"
   ]
  },
  {
   "cell_type": "code",
   "execution_count": 123,
   "metadata": {},
   "outputs": [],
   "source": [
    "rep_map = {\n",
    "    '2(5)': np.nan,\n",
    "    'nan': np.nan,\n",
    "    '3(6)': np.nan\n",
    "}"
   ]
  },
  {
   "cell_type": "code",
   "execution_count": 124,
   "metadata": {},
   "outputs": [],
   "source": [
    "df = df.replace(rep_map)"
   ]
  },
  {
   "cell_type": "code",
   "execution_count": 125,
   "metadata": {},
   "outputs": [],
   "source": [
    "df.PR = df.PR.astype(float)\n",
    "df.CL = df.CL.astype(float)"
   ]
  },
  {
   "cell_type": "code",
   "execution_count": 127,
   "metadata": {},
   "outputs": [],
   "source": [
    "df.loc[:, 'spatial electoral'] = df.loc[:, 'spatial electoral'].str.replace(',', '.').astype('float')"
   ]
  },
  {
   "cell_type": "code",
   "execution_count": 118,
   "metadata": {},
   "outputs": [
    {
     "output_type": "execute_result",
     "data": {
      "text/plain": [
       "True"
      ]
     },
     "metadata": {},
     "execution_count": 118
    }
   ],
   "source": [
    "df.dtypes.map(list(df.dtypes) == np.dtype('int') | list(df.dtypes) == np.dtype('float'))"
   ]
  },
  {
   "cell_type": "code",
   "execution_count": 75,
   "metadata": {},
   "outputs": [],
   "source": [
    "df = df.drop(['election month, year'], axis=1)"
   ]
  },
  {
   "cell_type": "code",
   "execution_count": 3,
   "metadata": {},
   "outputs": [],
   "source": [
    "df = pd.read_csv('./raw_data/small_master.csv')"
   ]
  },
  {
   "cell_type": "code",
   "execution_count": 77,
   "metadata": {},
   "outputs": [
    {
     "output_type": "execute_result",
     "data": {
      "text/plain": [
       "(2807, 36)"
      ]
     },
     "metadata": {},
     "execution_count": 77
    }
   ],
   "source": [
    "df.shape"
   ]
  },
  {
   "cell_type": "code",
   "execution_count": 10,
   "metadata": {},
   "outputs": [],
   "source": [
    "df = df.drop(['Unnamed: 0', 'Unnamed: 0.1'], axis=1)"
   ]
  },
  {
   "cell_type": "code",
   "execution_count": 202,
   "metadata": {},
   "outputs": [
    {
     "output_type": "execute_result",
     "data": {
      "text/plain": [
       "year\n",
       "2006     95\n",
       "2018    104\n",
       "Name: gdp, dtype: int64"
      ]
     },
     "metadata": {},
     "execution_count": 202
    }
   ],
   "source": [
    "df.groupby(['year']).gdp.count()"
   ]
  },
  {
   "cell_type": "code",
   "execution_count": 21,
   "metadata": {},
   "outputs": [
    {
     "output_type": "execute_result",
     "data": {
      "text/plain": [
       "                  country  year   PR   CL Status  DD regime  \\\n",
       "12            afghanistan  2018  5.0  6.0     NF        3.0   \n",
       "27                albania  2018  3.0  3.0     PF        0.0   \n",
       "42                algeria  2018  6.0  5.0     NF        3.0   \n",
       "57                 angola  2018  6.0  5.0     NF        3.0   \n",
       "72    antigua and barbuda  2018  2.0  2.0      F        0.0   \n",
       "...                   ...   ...  ...  ...    ...        ...   \n",
       "2703            venezuela  2018  7.0  6.0     NF        3.0   \n",
       "2718              vietnam  2018  7.0  5.0     NF        3.0   \n",
       "2733                yemen  2018  7.0  6.0     NF        4.0   \n",
       "2748               zambia  2018  4.0  4.0     PF        2.0   \n",
       "2763             zimbabwe  2018  5.0  5.0     PF        4.0   \n",
       "\n",
       "                  DD category  Monarchy  Commonwealth  Democracy  ...  \\\n",
       "12      Civilian dictatorship       0.0           0.0        0.0  ...   \n",
       "27    Parliamentary democracy       0.0           0.0        1.0  ...   \n",
       "42      Civilian dictatorship       0.0           0.0        0.0  ...   \n",
       "57      Civilian dictatorship       0.0           0.0        0.0  ...   \n",
       "72    Parliamentary democracy       1.0           1.0        1.0  ...   \n",
       "...                       ...       ...           ...        ...  ...   \n",
       "2703    Civilian dictatorship       0.0           0.0        0.0  ...   \n",
       "2718    Civilian dictatorship       0.0           0.0        0.0  ...   \n",
       "2733    Military dictatorship       0.0           0.0        0.0  ...   \n",
       "2748   Presidential democracy       0.0           1.0        1.0  ...   \n",
       "2763    Military dictatorship       0.0           0.0        0.0  ...   \n",
       "\n",
       "      New constitution fullsuffrage  electoral  spatial electoral  \\\n",
       "12                 0.0          1.0        2.0           2.000000   \n",
       "27                 0.0          1.0        3.0           2.800000   \n",
       "42                 0.0          1.0        2.0           2.500000   \n",
       "57                 0.0          1.0        2.0           2.250000   \n",
       "72                 0.0          1.0        3.0           3.000000   \n",
       "...                ...          ...        ...                ...   \n",
       "2703               0.0          1.0        1.0           3.000000   \n",
       "2718               0.0          1.0        1.0           1.000000   \n",
       "2733               0.0          1.0        0.0           1.333333   \n",
       "2748               0.0          1.0        3.0           2.285714   \n",
       "2763               0.0          1.0        2.0           2.500000   \n",
       "\n",
       "      alternation  multiparty  free and fair election  \\\n",
       "12            0.0         1.0                     0.0   \n",
       "27            1.0         1.0                     1.0   \n",
       "42            0.0         1.0                     0.0   \n",
       "57            0.0         1.0                     1.0   \n",
       "72            1.0         1.0                     1.0   \n",
       "...           ...         ...                     ...   \n",
       "2703          0.0         0.0                     0.0   \n",
       "2718          0.0         0.0                     0.0   \n",
       "2733          0.0         0.0                     0.0   \n",
       "2748          1.0         1.0                     1.0   \n",
       "2763          0.0         1.0                     0.0   \n",
       "\n",
       "      parliamentary election year  postponed election gdp  \n",
       "12                            0.0                 0.0 NaN  \n",
       "27                            0.0                 0.0 NaN  \n",
       "42                            0.0                 0.0 NaN  \n",
       "57                            1.0                 0.0 NaN  \n",
       "72                            1.0                 0.0 NaN  \n",
       "...                           ...                 ...  ..  \n",
       "2703                          0.0                 0.0 NaN  \n",
       "2718                          0.0                 0.0 NaN  \n",
       "2733                          0.0                 0.0 NaN  \n",
       "2748                          0.0                 0.0 NaN  \n",
       "2763                          0.0                 0.0 NaN  \n",
       "\n",
       "[179 rows x 36 columns]"
      ],
      "text/html": "<div>\n<style scoped>\n    .dataframe tbody tr th:only-of-type {\n        vertical-align: middle;\n    }\n\n    .dataframe tbody tr th {\n        vertical-align: top;\n    }\n\n    .dataframe thead th {\n        text-align: right;\n    }\n</style>\n<table border=\"1\" class=\"dataframe\">\n  <thead>\n    <tr style=\"text-align: right;\">\n      <th></th>\n      <th>country</th>\n      <th>year</th>\n      <th>PR</th>\n      <th>CL</th>\n      <th>Status</th>\n      <th>DD regime</th>\n      <th>DD category</th>\n      <th>Monarchy</th>\n      <th>Commonwealth</th>\n      <th>Democracy</th>\n      <th>...</th>\n      <th>New constitution</th>\n      <th>fullsuffrage</th>\n      <th>electoral</th>\n      <th>spatial electoral</th>\n      <th>alternation</th>\n      <th>multiparty</th>\n      <th>free and fair election</th>\n      <th>parliamentary election year</th>\n      <th>postponed election</th>\n      <th>gdp</th>\n    </tr>\n  </thead>\n  <tbody>\n    <tr>\n      <th>12</th>\n      <td>afghanistan</td>\n      <td>2018</td>\n      <td>5.0</td>\n      <td>6.0</td>\n      <td>NF</td>\n      <td>3.0</td>\n      <td>Civilian dictatorship</td>\n      <td>0.0</td>\n      <td>0.0</td>\n      <td>0.0</td>\n      <td>...</td>\n      <td>0.0</td>\n      <td>1.0</td>\n      <td>2.0</td>\n      <td>2.000000</td>\n      <td>0.0</td>\n      <td>1.0</td>\n      <td>0.0</td>\n      <td>0.0</td>\n      <td>0.0</td>\n      <td>NaN</td>\n    </tr>\n    <tr>\n      <th>27</th>\n      <td>albania</td>\n      <td>2018</td>\n      <td>3.0</td>\n      <td>3.0</td>\n      <td>PF</td>\n      <td>0.0</td>\n      <td>Parliamentary democracy</td>\n      <td>0.0</td>\n      <td>0.0</td>\n      <td>1.0</td>\n      <td>...</td>\n      <td>0.0</td>\n      <td>1.0</td>\n      <td>3.0</td>\n      <td>2.800000</td>\n      <td>1.0</td>\n      <td>1.0</td>\n      <td>1.0</td>\n      <td>0.0</td>\n      <td>0.0</td>\n      <td>NaN</td>\n    </tr>\n    <tr>\n      <th>42</th>\n      <td>algeria</td>\n      <td>2018</td>\n      <td>6.0</td>\n      <td>5.0</td>\n      <td>NF</td>\n      <td>3.0</td>\n      <td>Civilian dictatorship</td>\n      <td>0.0</td>\n      <td>0.0</td>\n      <td>0.0</td>\n      <td>...</td>\n      <td>0.0</td>\n      <td>1.0</td>\n      <td>2.0</td>\n      <td>2.500000</td>\n      <td>0.0</td>\n      <td>1.0</td>\n      <td>0.0</td>\n      <td>0.0</td>\n      <td>0.0</td>\n      <td>NaN</td>\n    </tr>\n    <tr>\n      <th>57</th>\n      <td>angola</td>\n      <td>2018</td>\n      <td>6.0</td>\n      <td>5.0</td>\n      <td>NF</td>\n      <td>3.0</td>\n      <td>Civilian dictatorship</td>\n      <td>0.0</td>\n      <td>0.0</td>\n      <td>0.0</td>\n      <td>...</td>\n      <td>0.0</td>\n      <td>1.0</td>\n      <td>2.0</td>\n      <td>2.250000</td>\n      <td>0.0</td>\n      <td>1.0</td>\n      <td>1.0</td>\n      <td>1.0</td>\n      <td>0.0</td>\n      <td>NaN</td>\n    </tr>\n    <tr>\n      <th>72</th>\n      <td>antigua and barbuda</td>\n      <td>2018</td>\n      <td>2.0</td>\n      <td>2.0</td>\n      <td>F</td>\n      <td>0.0</td>\n      <td>Parliamentary democracy</td>\n      <td>1.0</td>\n      <td>1.0</td>\n      <td>1.0</td>\n      <td>...</td>\n      <td>0.0</td>\n      <td>1.0</td>\n      <td>3.0</td>\n      <td>3.000000</td>\n      <td>1.0</td>\n      <td>1.0</td>\n      <td>1.0</td>\n      <td>1.0</td>\n      <td>0.0</td>\n      <td>NaN</td>\n    </tr>\n    <tr>\n      <th>...</th>\n      <td>...</td>\n      <td>...</td>\n      <td>...</td>\n      <td>...</td>\n      <td>...</td>\n      <td>...</td>\n      <td>...</td>\n      <td>...</td>\n      <td>...</td>\n      <td>...</td>\n      <td>...</td>\n      <td>...</td>\n      <td>...</td>\n      <td>...</td>\n      <td>...</td>\n      <td>...</td>\n      <td>...</td>\n      <td>...</td>\n      <td>...</td>\n      <td>...</td>\n      <td>...</td>\n    </tr>\n    <tr>\n      <th>2703</th>\n      <td>venezuela</td>\n      <td>2018</td>\n      <td>7.0</td>\n      <td>6.0</td>\n      <td>NF</td>\n      <td>3.0</td>\n      <td>Civilian dictatorship</td>\n      <td>0.0</td>\n      <td>0.0</td>\n      <td>0.0</td>\n      <td>...</td>\n      <td>0.0</td>\n      <td>1.0</td>\n      <td>1.0</td>\n      <td>3.000000</td>\n      <td>0.0</td>\n      <td>0.0</td>\n      <td>0.0</td>\n      <td>0.0</td>\n      <td>0.0</td>\n      <td>NaN</td>\n    </tr>\n    <tr>\n      <th>2718</th>\n      <td>vietnam</td>\n      <td>2018</td>\n      <td>7.0</td>\n      <td>5.0</td>\n      <td>NF</td>\n      <td>3.0</td>\n      <td>Civilian dictatorship</td>\n      <td>0.0</td>\n      <td>0.0</td>\n      <td>0.0</td>\n      <td>...</td>\n      <td>0.0</td>\n      <td>1.0</td>\n      <td>1.0</td>\n      <td>1.000000</td>\n      <td>0.0</td>\n      <td>0.0</td>\n      <td>0.0</td>\n      <td>0.0</td>\n      <td>0.0</td>\n      <td>NaN</td>\n    </tr>\n    <tr>\n      <th>2733</th>\n      <td>yemen</td>\n      <td>2018</td>\n      <td>7.0</td>\n      <td>6.0</td>\n      <td>NF</td>\n      <td>4.0</td>\n      <td>Military dictatorship</td>\n      <td>0.0</td>\n      <td>0.0</td>\n      <td>0.0</td>\n      <td>...</td>\n      <td>0.0</td>\n      <td>1.0</td>\n      <td>0.0</td>\n      <td>1.333333</td>\n      <td>0.0</td>\n      <td>0.0</td>\n      <td>0.0</td>\n      <td>0.0</td>\n      <td>0.0</td>\n      <td>NaN</td>\n    </tr>\n    <tr>\n      <th>2748</th>\n      <td>zambia</td>\n      <td>2018</td>\n      <td>4.0</td>\n      <td>4.0</td>\n      <td>PF</td>\n      <td>2.0</td>\n      <td>Presidential democracy</td>\n      <td>0.0</td>\n      <td>1.0</td>\n      <td>1.0</td>\n      <td>...</td>\n      <td>0.0</td>\n      <td>1.0</td>\n      <td>3.0</td>\n      <td>2.285714</td>\n      <td>1.0</td>\n      <td>1.0</td>\n      <td>1.0</td>\n      <td>0.0</td>\n      <td>0.0</td>\n      <td>NaN</td>\n    </tr>\n    <tr>\n      <th>2763</th>\n      <td>zimbabwe</td>\n      <td>2018</td>\n      <td>5.0</td>\n      <td>5.0</td>\n      <td>PF</td>\n      <td>4.0</td>\n      <td>Military dictatorship</td>\n      <td>0.0</td>\n      <td>0.0</td>\n      <td>0.0</td>\n      <td>...</td>\n      <td>0.0</td>\n      <td>1.0</td>\n      <td>2.0</td>\n      <td>2.500000</td>\n      <td>0.0</td>\n      <td>1.0</td>\n      <td>0.0</td>\n      <td>0.0</td>\n      <td>0.0</td>\n      <td>NaN</td>\n    </tr>\n  </tbody>\n</table>\n<p>179 rows × 36 columns</p>\n</div>"
     },
     "metadata": {},
     "execution_count": 21
    }
   ],
   "source": [
    "df[df.year == 2018]"
   ]
  },
  {
   "cell_type": "code",
   "execution_count": 79,
   "metadata": {},
   "outputs": [
    {
     "output_type": "execute_result",
     "data": {
      "text/plain": [
       "      year              country\n",
       "47    2020          afghanistan\n",
       "95    2020              albania\n",
       "143   2020              algeria\n",
       "239   2020               angola\n",
       "287   2020  antigua and barbuda\n",
       "...    ...                  ...\n",
       "9597  2018                yemen\n",
       "9598  2019                yemen\n",
       "9599  2020                yemen\n",
       "9791  2020               zambia\n",
       "9839  2020             zimbabwe\n",
       "\n",
       "[370 rows x 2 columns]"
      ],
      "text/html": "<div>\n<style scoped>\n    .dataframe tbody tr th:only-of-type {\n        vertical-align: middle;\n    }\n\n    .dataframe tbody tr th {\n        vertical-align: top;\n    }\n\n    .dataframe thead th {\n        text-align: right;\n    }\n</style>\n<table border=\"1\" class=\"dataframe\">\n  <thead>\n    <tr style=\"text-align: right;\">\n      <th></th>\n      <th>year</th>\n      <th>country</th>\n    </tr>\n  </thead>\n  <tbody>\n    <tr>\n      <th>47</th>\n      <td>2020</td>\n      <td>afghanistan</td>\n    </tr>\n    <tr>\n      <th>95</th>\n      <td>2020</td>\n      <td>albania</td>\n    </tr>\n    <tr>\n      <th>143</th>\n      <td>2020</td>\n      <td>algeria</td>\n    </tr>\n    <tr>\n      <th>239</th>\n      <td>2020</td>\n      <td>angola</td>\n    </tr>\n    <tr>\n      <th>287</th>\n      <td>2020</td>\n      <td>antigua and barbuda</td>\n    </tr>\n    <tr>\n      <th>...</th>\n      <td>...</td>\n      <td>...</td>\n    </tr>\n    <tr>\n      <th>9597</th>\n      <td>2018</td>\n      <td>yemen</td>\n    </tr>\n    <tr>\n      <th>9598</th>\n      <td>2019</td>\n      <td>yemen</td>\n    </tr>\n    <tr>\n      <th>9599</th>\n      <td>2020</td>\n      <td>yemen</td>\n    </tr>\n    <tr>\n      <th>9791</th>\n      <td>2020</td>\n      <td>zambia</td>\n    </tr>\n    <tr>\n      <th>9839</th>\n      <td>2020</td>\n      <td>zimbabwe</td>\n    </tr>\n  </tbody>\n</table>\n<p>370 rows × 2 columns</p>\n</div>"
     },
     "metadata": {},
     "execution_count": 79
    }
   ],
   "source": [
    "df.loc[:, ['year', 'country']][df.gdp.isna()]"
   ]
  },
  {
   "cell_type": "code",
   "execution_count": null,
   "metadata": {},
   "outputs": [],
   "source": []
  }
 ]
}