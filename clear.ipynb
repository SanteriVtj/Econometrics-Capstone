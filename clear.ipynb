{
 "metadata": {
  "language_info": {
   "codemirror_mode": {
    "name": "ipython",
    "version": 3
   },
   "file_extension": ".py",
   "mimetype": "text/x-python",
   "name": "python",
   "nbconvert_exporter": "python",
   "pygments_lexer": "ipython3",
   "version": "3.8.5-final"
  },
  "orig_nbformat": 2,
  "kernelspec": {
   "name": "python385jvsc74a57bd0fac54e6b642c37966e43cdb643d32d1f4e4fa0317cda1cf8b922991f41f52fc4",
   "display_name": "Python 3.8.5 64-bit ('cap_venv')"
  }
 },
 "nbformat": 4,
 "nbformat_minor": 2,
 "cells": [
  {
   "cell_type": "code",
   "execution_count": 1,
   "metadata": {},
   "outputs": [],
   "source": [
    "import pandas as pd\n",
    "import numpy as np\n",
    "from functools import reduce"
   ]
  },
  {
   "cell_type": "code",
   "execution_count": 2,
   "metadata": {},
   "outputs": [
    {
     "output_type": "stream",
     "name": "stderr",
     "text": [
      "/Users/santerivaataja/Desktop/Taloustieteen_kursseja/Econometrics/Capstone.nosync/cap_venv/lib/python3.8/site-packages/IPython/core/interactiveshell.py:3165: DtypeWarning: Columns (2,3) have mixed types.Specify dtype option on import or set low_memory=False.\n  has_raised = await self.run_ast_nodes(code_ast.body, cell_name,\n"
     ]
    }
   ],
   "source": [
    "df = pd.read_csv('./raw_data/master.csv')"
   ]
  },
  {
   "cell_type": "code",
   "execution_count": 9,
   "metadata": {},
   "outputs": [
    {
     "output_type": "execute_result",
     "data": {
      "text/plain": [
       "[('country', 0),\n",
       " ('year', 0),\n",
       " ('PR', 0),\n",
       " ('CL', 0),\n",
       " ('Status', 0),\n",
       " ('DD regime', 0),\n",
       " ('DD category', 0),\n",
       " ('Monarchy', 0),\n",
       " ('Commonwealth', 0),\n",
       " ('Democracy', 0),\n",
       " ('Presidential', 0),\n",
       " ('President name', 0),\n",
       " ('President accesion', 0),\n",
       " ('President birthyear', 0),\n",
       " ('Interim phase (more than 2 Presidents/year=1)', 0),\n",
       " ('Female president (0: No; 1: Yes)', 0),\n",
       " ('Colony', 0),\n",
       " ('Communist', 0),\n",
       " ('Regime change lag', 0),\n",
       " ('spatial democracy', 0),\n",
       " ('countrycode', 0),\n",
       " ('No. of chambers in parliament', 0),\n",
       " ('proportional voting', 0),\n",
       " ('Election system', 0),\n",
       " ('No. of members in lower house', 0),\n",
       " ('New constitution', 0),\n",
       " ('fullsuffrage', 0),\n",
       " ('electoral', 0),\n",
       " ('spatial electoral', 0),\n",
       " ('alternation', 0),\n",
       " ('multiparty', 0),\n",
       " ('free and fair election', 0),\n",
       " ('parliamentary election year', 0),\n",
       " ('postponed election', 0),\n",
       " ('Anticorruption policy', 0),\n",
       " ('Civil rights', 0),\n",
       " ('Civil society participation', 0),\n",
       " ('Civil society traditions', 0),\n",
       " ('Cleavage conflict management', 0),\n",
       " ('Commitment to democratic institutions', 0),\n",
       " ('Conflict intensity', 0),\n",
       " ('Consensus on goals', 0),\n",
       " ('Antidemocratic actors', 0),\n",
       " ('Education policy R&D', 0),\n",
       " ('Effective power to govern', 0),\n",
       " ('Effective use of support', 0),\n",
       " ('Efficient use of assets', 0),\n",
       " ('Environmental policy', 0),\n",
       " ('Equal opportunity', 0),\n",
       " ('Free and fair elections', 0),\n",
       " ('Freedom of expression', 0),\n",
       " ('Independent judiciary', 0),\n",
       " ('Interest groups', 0),\n",
       " ('International Cooperation', 0),\n",
       " ('Monopoly on the use of force', 0),\n",
       " ('No interference of religious dogmas', 0),\n",
       " ('Association assembly rights', 0),\n",
       " ('Organization of the Market and Competition', 0),\n",
       " ('Party system', 0),\n",
       " ('Performance of democratic institutions', 0),\n",
       " ('Policy coordination', 0),\n",
       " ('Policy learning', 0),\n",
       " ('Political Participation', 0),\n",
       " ('Political and Social Integration', 0),\n",
       " ('Private Property', 0),\n",
       " ('Prosecution of office abuse', 0),\n",
       " ('Regional cooperation', 0),\n",
       " ('Resource Efficiency', 0),\n",
       " ('Separation of powers', 0),\n",
       " ('Social capital', 0),\n",
       " ('Social safety nets', 0),\n",
       " ('Socioeconomic barriers', 0),\n",
       " ('Stability of Democratic Institutions', 0),\n",
       " ('State identity', 0),\n",
       " ('Basic administration', 0),\n",
       " ('Steering Capability', 0),\n",
       " ('Structural constraints', 0),\n",
       " ('Welfare Regime', 0),\n",
       " ('corruption', 0),\n",
       " ('efficiency', 0),\n",
       " ('stability', 0),\n",
       " ('rol', 0),\n",
       " ('acc', 0),\n",
       " ('mortality', 0),\n",
       " ('trade', 0),\n",
       " ('gdp', 0)]"
      ]
     },
     "metadata": {},
     "execution_count": 9
    }
   ],
   "source": [
    "list(zip(df.columns, [df.loc[:,i].isna().sum() for i in df.columns]))"
   ]
  },
  {
   "cell_type": "code",
   "execution_count": 51,
   "metadata": {},
   "outputs": [],
   "source": [
    "#list(zip(df.columns, [df.loc[i].isna().sum() for i in df.index]))"
   ]
  },
  {
   "cell_type": "code",
   "execution_count": 8,
   "metadata": {},
   "outputs": [
    {
     "output_type": "execute_result",
     "data": {
      "text/plain": [
       "(150, 86)"
      ]
     },
     "metadata": {},
     "execution_count": 8
    }
   ],
   "source": [
    "df.shape\n",
    "#(156, 79)"
   ]
  },
  {
   "cell_type": "code",
   "execution_count": 4,
   "metadata": {},
   "outputs": [],
   "source": [
    "df = df[(df.year == 2008) | (df.year == 2018)]"
   ]
  },
  {
   "cell_type": "code",
   "execution_count": 5,
   "metadata": {},
   "outputs": [],
   "source": [
    "m_row = [df.loc[i].isna().mean() > .15 for i in df.index]\n",
    "df = df.drop(np.array(df.index)[m_row], axis=0)"
   ]
  },
  {
   "cell_type": "code",
   "execution_count": 6,
   "metadata": {},
   "outputs": [],
   "source": [
    "m_col = [df.loc[:,i].isna().mean() > .15 for i in df.columns]\n",
    "df = df.drop(np.array(df.columns)[m_col], axis=1)"
   ]
  },
  {
   "cell_type": "code",
   "execution_count": 7,
   "metadata": {},
   "outputs": [],
   "source": [
    "no_data_country = np.array(list(df.groupby('country').groups.keys()))[list(df.groupby('country').count().min(axis=1) != 2)]\n",
    "df = df[~df.country.isin(no_data_country)]"
   ]
  },
  {
   "cell_type": "code",
   "execution_count": 95,
   "metadata": {},
   "outputs": [],
   "source": [
    "df.to_csv('raw_data/small_master.csv')"
   ]
  },
  {
   "cell_type": "code",
   "execution_count": 123,
   "metadata": {},
   "outputs": [],
   "source": [
    "rep_map = {\n",
    "    '2(5)': np.nan,\n",
    "    'nan': np.nan,\n",
    "    '3(6)': np.nan\n",
    "}"
   ]
  },
  {
   "cell_type": "code",
   "execution_count": 124,
   "metadata": {},
   "outputs": [],
   "source": [
    "df = df.replace(rep_map)"
   ]
  },
  {
   "cell_type": "code",
   "execution_count": 125,
   "metadata": {},
   "outputs": [],
   "source": [
    "df.PR = df.PR.astype(float)\n",
    "df.CL = df.CL.astype(float)"
   ]
  },
  {
   "cell_type": "code",
   "execution_count": 127,
   "metadata": {},
   "outputs": [],
   "source": [
    "df.loc[:, 'spatial electoral'] = df.loc[:, 'spatial electoral'].str.replace(',', '.').astype('float')"
   ]
  },
  {
   "cell_type": "code",
   "execution_count": null,
   "metadata": {},
   "outputs": [],
   "source": []
  }
 ]
}