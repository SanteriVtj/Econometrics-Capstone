{
 "metadata": {
  "language_info": {
   "codemirror_mode": {
    "name": "ipython",
    "version": 3
   },
   "file_extension": ".py",
   "mimetype": "text/x-python",
   "name": "python",
   "nbconvert_exporter": "python",
   "pygments_lexer": "ipython3",
   "version": "3.8.5-final"
  },
  "orig_nbformat": 2,
  "kernelspec": {
   "name": "python385jvsc74a57bd0fac54e6b642c37966e43cdb643d32d1f4e4fa0317cda1cf8b922991f41f52fc4",
   "display_name": "Python 3.8.5 64-bit ('cap_venv')"
  }
 },
 "nbformat": 4,
 "nbformat_minor": 2,
 "cells": [
  {
   "cell_type": "code",
   "execution_count": 1,
   "metadata": {},
   "outputs": [],
   "source": [
    "import pandas as pd\n",
    "import numpy as np\n",
    "from functools import reduce"
   ]
  },
  {
   "cell_type": "code",
   "execution_count": 115,
   "metadata": {},
   "outputs": [],
   "source": [
    "df = pd.read_csv('./raw_data/master.csv')"
   ]
  },
  {
   "cell_type": "code",
   "execution_count": 121,
   "metadata": {},
   "outputs": [
    {
     "output_type": "execute_result",
     "data": {
      "text/plain": [
       "[('country', 0),\n",
       " ('year', 0),\n",
       " ('PR', 0),\n",
       " ('CL', 0),\n",
       " ('Status', 0),\n",
       " ('DD regime', 0),\n",
       " ('DD category', 0),\n",
       " ('Monarchy', 0),\n",
       " ('Commonwealth', 0),\n",
       " ('Democracy', 0),\n",
       " ('Presidential', 0),\n",
       " ('President name', 0),\n",
       " ('President accesion', 0),\n",
       " ('President birthyear', 0),\n",
       " ('Interim phase (more than 2 Presidents/year=1)', 0),\n",
       " ('Female president (0: No; 1: Yes)', 0),\n",
       " ('Colony', 0),\n",
       " ('Communist', 0),\n",
       " ('Regime change lag', 0),\n",
       " ('spatial democracy', 0),\n",
       " ('countrycode', 0),\n",
       " ('No. of chambers in parliament', 0),\n",
       " ('proportional voting', 0),\n",
       " ('Election system', 0),\n",
       " ('No. of members in lower house', 0),\n",
       " ('New constitution', 0),\n",
       " ('fullsuffrage', 0),\n",
       " ('electoral', 0),\n",
       " ('spatial electoral', 0),\n",
       " ('alternation', 0),\n",
       " ('multiparty', 0),\n",
       " ('free and fair election', 0),\n",
       " ('parliamentary election year', 0),\n",
       " ('postponed election', 0),\n",
       " ('Anticorruption policy', 0),\n",
       " ('Civil rights', 0),\n",
       " ('Civil society participation', 0),\n",
       " ('Civil society traditions', 0),\n",
       " ('Cleavage conflict management', 0),\n",
       " ('Commitment to democratic institutions', 0),\n",
       " ('Conflict intensity', 0),\n",
       " ('Consensus on goals', 0),\n",
       " ('Antidemocratic actors', 0),\n",
       " ('Education policy R&D', 0),\n",
       " ('Effective power to govern', 0),\n",
       " ('Effective use of support', 0),\n",
       " ('Efficient use of assets', 0),\n",
       " ('Environmental policy', 0),\n",
       " ('Equal opportunity', 0),\n",
       " ('Free and fair elections', 0),\n",
       " ('Freedom of expression', 0),\n",
       " ('Independent judiciary', 0),\n",
       " ('Interest groups', 0),\n",
       " ('International Cooperation', 0),\n",
       " ('Monopoly on the use of force', 0),\n",
       " ('No interference of religious dogmas', 0),\n",
       " ('Association assembly rights', 0),\n",
       " ('Organization of the Market and Competition', 0),\n",
       " ('Party system', 0),\n",
       " ('Performance of democratic institutions', 0),\n",
       " ('Policy coordination', 0),\n",
       " ('Policy learning', 0),\n",
       " ('Political Participation', 0),\n",
       " ('Political and Social Integration', 0),\n",
       " ('Private Property', 0),\n",
       " ('Prosecution of office abuse', 0),\n",
       " ('Regional cooperation', 0),\n",
       " ('Resource Efficiency', 0),\n",
       " ('Separation of powers', 0),\n",
       " ('Social capital', 0),\n",
       " ('Social safety nets', 0),\n",
       " ('Socioeconomic barriers', 0),\n",
       " ('Stability of Democratic Institutions', 0),\n",
       " ('State identity', 0),\n",
       " ('Basic administration', 0),\n",
       " ('Steering Capability', 0),\n",
       " ('Structural constraints', 0),\n",
       " ('Welfare Regime', 0),\n",
       " ('t', 0),\n",
       " ('gdp', 0)]"
      ]
     },
     "metadata": {},
     "execution_count": 121
    }
   ],
   "source": [
    "list(zip(df.columns, [df.loc[:,i].isna().sum() for i in df.columns]))"
   ]
  },
  {
   "cell_type": "code",
   "execution_count": 51,
   "metadata": {},
   "outputs": [],
   "source": [
    "#list(zip(df.columns, [df.loc[i].isna().sum() for i in df.index]))"
   ]
  },
  {
   "cell_type": "code",
   "execution_count": 122,
   "metadata": {},
   "outputs": [
    {
     "output_type": "execute_result",
     "data": {
      "text/plain": [
       "(94, 80)"
      ]
     },
     "metadata": {},
     "execution_count": 122
    }
   ],
   "source": [
    "df.shape\n",
    "#(156, 79)\n"
   ]
  },
  {
   "cell_type": "code",
   "execution_count": 117,
   "metadata": {},
   "outputs": [],
   "source": [
    "df = df[(df.year == 2008) | (df.year == 2018)]"
   ]
  },
  {
   "cell_type": "code",
   "execution_count": 118,
   "metadata": {},
   "outputs": [],
   "source": [
    "m_row = [df.loc[i].isna().mean() > .15 for i in df.index]\n",
    "df = df.drop(np.array(df.index)[m_row], axis=0)"
   ]
  },
  {
   "cell_type": "code",
   "execution_count": 119,
   "metadata": {},
   "outputs": [],
   "source": [
    "m_col = [df.loc[:,i].isna().mean() > .32 for i in df.columns]\n",
    "df = df.drop(np.array(df.columns)[m_col], axis=1)"
   ]
  },
  {
   "cell_type": "code",
   "execution_count": 120,
   "metadata": {},
   "outputs": [],
   "source": [
    "no_data_country = np.array(list(df.groupby('country').groups.keys()))[list(df.groupby('country').count().min(axis=1) != 2)]\n",
    "df = df[~df.country.isin(no_data_country)]"
   ]
  },
  {
   "cell_type": "code",
   "execution_count": 190,
   "metadata": {},
   "outputs": [
    {
     "output_type": "execute_result",
     "data": {
      "text/plain": [
       "          country  year   PR   CL Status  DD regime              DD category  \\\n",
       "33    afghanistan  2006    5    5     PF        3.0    Civilian dictatorship   \n",
       "45    afghanistan  2018    5    6     NF        3.0    Civilian dictatorship   \n",
       "81        albania  2006    3    3     PF        0.0  Parliamentary democracy   \n",
       "93        albania  2018    3    3     PF        0.0  Parliamentary democracy   \n",
       "129       algeria  2006    6    5     NF        3.0    Civilian dictatorship   \n",
       "...           ...   ...  ...  ...    ...        ...                      ...   \n",
       "9597        yemen  2018  7.0  6.0     NF        4.0    Military dictatorship   \n",
       "9777       zambia  2006  3.0  4.0     PF        3.0    Civilian dictatorship   \n",
       "9789       zambia  2018  4.0  4.0     PF        2.0   Presidential democracy   \n",
       "9825     zimbabwe  2006  7.0  6.0     NF        3.0    Civilian dictatorship   \n",
       "9837     zimbabwe  2018  5.0  5.0     PF        4.0    Military dictatorship   \n",
       "\n",
       "      Monarchy  Commonwealth  Democracy  ...  New constitution  fullsuffrage  \\\n",
       "33         0.0           0.0        0.0  ...               0.0           1.0   \n",
       "45         0.0           0.0        0.0  ...               0.0           1.0   \n",
       "81         0.0           0.0        1.0  ...               0.0           1.0   \n",
       "93         0.0           0.0        1.0  ...               0.0           1.0   \n",
       "129        0.0           0.0        0.0  ...               0.0           1.0   \n",
       "...        ...           ...        ...  ...               ...           ...   \n",
       "9597       0.0           0.0        0.0  ...               0.0           1.0   \n",
       "9777       0.0           1.0        0.0  ...               0.0           1.0   \n",
       "9789       0.0           1.0        1.0  ...               0.0           1.0   \n",
       "9825       0.0           0.0        0.0  ...               0.0           1.0   \n",
       "9837       0.0           0.0        0.0  ...               0.0           1.0   \n",
       "\n",
       "      electoral  spatial electoral alternation  multiparty  \\\n",
       "33          2.0                1,5         0.0         1.0   \n",
       "45          2.0                  2         0.0         1.0   \n",
       "81          3.0                2,8         1.0         1.0   \n",
       "93          3.0                2,8         1.0         1.0   \n",
       "129         2.0                  2         0.0         1.0   \n",
       "...         ...                ...         ...         ...   \n",
       "9597        0.0        1,333333333         0.0         0.0   \n",
       "9777        2.0                  2         0.0         1.0   \n",
       "9789        3.0        2,285714286         1.0         1.0   \n",
       "9825        2.0               2,25         0.0         1.0   \n",
       "9837        2.0                2,5         0.0         1.0   \n",
       "\n",
       "      free and fair election  parliamentary election year postponed election  \\\n",
       "33                       0.0                          1.0                0.0   \n",
       "45                       0.0                          0.0                0.0   \n",
       "81                       1.0                          1.0                0.0   \n",
       "93                       1.0                          0.0                0.0   \n",
       "129                      0.0                          0.0                0.0   \n",
       "...                      ...                          ...                ...   \n",
       "9597                     0.0                          0.0                0.0   \n",
       "9777                     0.0                          0.0                0.0   \n",
       "9789                     1.0                          0.0                0.0   \n",
       "9825                     0.0                          0.0                0.0   \n",
       "9837                     0.0                          0.0                0.0   \n",
       "\n",
       "              gdp  \n",
       "33     263.733692  \n",
       "45     493.750418  \n",
       "81    2972.743265  \n",
       "93    5284.380184  \n",
       "129   3478.710929  \n",
       "...           ...  \n",
       "9597          NaN  \n",
       "9777  1047.919187  \n",
       "9789  1516.390661  \n",
       "9825   447.854924  \n",
       "9837  1683.740577  \n",
       "\n",
       "[357 rows x 30 columns]"
      ],
      "text/html": "<div>\n<style scoped>\n    .dataframe tbody tr th:only-of-type {\n        vertical-align: middle;\n    }\n\n    .dataframe tbody tr th {\n        vertical-align: top;\n    }\n\n    .dataframe thead th {\n        text-align: right;\n    }\n</style>\n<table border=\"1\" class=\"dataframe\">\n  <thead>\n    <tr style=\"text-align: right;\">\n      <th></th>\n      <th>country</th>\n      <th>year</th>\n      <th>PR</th>\n      <th>CL</th>\n      <th>Status</th>\n      <th>DD regime</th>\n      <th>DD category</th>\n      <th>Monarchy</th>\n      <th>Commonwealth</th>\n      <th>Democracy</th>\n      <th>...</th>\n      <th>New constitution</th>\n      <th>fullsuffrage</th>\n      <th>electoral</th>\n      <th>spatial electoral</th>\n      <th>alternation</th>\n      <th>multiparty</th>\n      <th>free and fair election</th>\n      <th>parliamentary election year</th>\n      <th>postponed election</th>\n      <th>gdp</th>\n    </tr>\n  </thead>\n  <tbody>\n    <tr>\n      <th>33</th>\n      <td>afghanistan</td>\n      <td>2006</td>\n      <td>5</td>\n      <td>5</td>\n      <td>PF</td>\n      <td>3.0</td>\n      <td>Civilian dictatorship</td>\n      <td>0.0</td>\n      <td>0.0</td>\n      <td>0.0</td>\n      <td>...</td>\n      <td>0.0</td>\n      <td>1.0</td>\n      <td>2.0</td>\n      <td>1,5</td>\n      <td>0.0</td>\n      <td>1.0</td>\n      <td>0.0</td>\n      <td>1.0</td>\n      <td>0.0</td>\n      <td>263.733692</td>\n    </tr>\n    <tr>\n      <th>45</th>\n      <td>afghanistan</td>\n      <td>2018</td>\n      <td>5</td>\n      <td>6</td>\n      <td>NF</td>\n      <td>3.0</td>\n      <td>Civilian dictatorship</td>\n      <td>0.0</td>\n      <td>0.0</td>\n      <td>0.0</td>\n      <td>...</td>\n      <td>0.0</td>\n      <td>1.0</td>\n      <td>2.0</td>\n      <td>2</td>\n      <td>0.0</td>\n      <td>1.0</td>\n      <td>0.0</td>\n      <td>0.0</td>\n      <td>0.0</td>\n      <td>493.750418</td>\n    </tr>\n    <tr>\n      <th>81</th>\n      <td>albania</td>\n      <td>2006</td>\n      <td>3</td>\n      <td>3</td>\n      <td>PF</td>\n      <td>0.0</td>\n      <td>Parliamentary democracy</td>\n      <td>0.0</td>\n      <td>0.0</td>\n      <td>1.0</td>\n      <td>...</td>\n      <td>0.0</td>\n      <td>1.0</td>\n      <td>3.0</td>\n      <td>2,8</td>\n      <td>1.0</td>\n      <td>1.0</td>\n      <td>1.0</td>\n      <td>1.0</td>\n      <td>0.0</td>\n      <td>2972.743265</td>\n    </tr>\n    <tr>\n      <th>93</th>\n      <td>albania</td>\n      <td>2018</td>\n      <td>3</td>\n      <td>3</td>\n      <td>PF</td>\n      <td>0.0</td>\n      <td>Parliamentary democracy</td>\n      <td>0.0</td>\n      <td>0.0</td>\n      <td>1.0</td>\n      <td>...</td>\n      <td>0.0</td>\n      <td>1.0</td>\n      <td>3.0</td>\n      <td>2,8</td>\n      <td>1.0</td>\n      <td>1.0</td>\n      <td>1.0</td>\n      <td>0.0</td>\n      <td>0.0</td>\n      <td>5284.380184</td>\n    </tr>\n    <tr>\n      <th>129</th>\n      <td>algeria</td>\n      <td>2006</td>\n      <td>6</td>\n      <td>5</td>\n      <td>NF</td>\n      <td>3.0</td>\n      <td>Civilian dictatorship</td>\n      <td>0.0</td>\n      <td>0.0</td>\n      <td>0.0</td>\n      <td>...</td>\n      <td>0.0</td>\n      <td>1.0</td>\n      <td>2.0</td>\n      <td>2</td>\n      <td>0.0</td>\n      <td>1.0</td>\n      <td>0.0</td>\n      <td>0.0</td>\n      <td>0.0</td>\n      <td>3478.710929</td>\n    </tr>\n    <tr>\n      <th>...</th>\n      <td>...</td>\n      <td>...</td>\n      <td>...</td>\n      <td>...</td>\n      <td>...</td>\n      <td>...</td>\n      <td>...</td>\n      <td>...</td>\n      <td>...</td>\n      <td>...</td>\n      <td>...</td>\n      <td>...</td>\n      <td>...</td>\n      <td>...</td>\n      <td>...</td>\n      <td>...</td>\n      <td>...</td>\n      <td>...</td>\n      <td>...</td>\n      <td>...</td>\n      <td>...</td>\n    </tr>\n    <tr>\n      <th>9597</th>\n      <td>yemen</td>\n      <td>2018</td>\n      <td>7.0</td>\n      <td>6.0</td>\n      <td>NF</td>\n      <td>4.0</td>\n      <td>Military dictatorship</td>\n      <td>0.0</td>\n      <td>0.0</td>\n      <td>0.0</td>\n      <td>...</td>\n      <td>0.0</td>\n      <td>1.0</td>\n      <td>0.0</td>\n      <td>1,333333333</td>\n      <td>0.0</td>\n      <td>0.0</td>\n      <td>0.0</td>\n      <td>0.0</td>\n      <td>0.0</td>\n      <td>NaN</td>\n    </tr>\n    <tr>\n      <th>9777</th>\n      <td>zambia</td>\n      <td>2006</td>\n      <td>3.0</td>\n      <td>4.0</td>\n      <td>PF</td>\n      <td>3.0</td>\n      <td>Civilian dictatorship</td>\n      <td>0.0</td>\n      <td>1.0</td>\n      <td>0.0</td>\n      <td>...</td>\n      <td>0.0</td>\n      <td>1.0</td>\n      <td>2.0</td>\n      <td>2</td>\n      <td>0.0</td>\n      <td>1.0</td>\n      <td>0.0</td>\n      <td>0.0</td>\n      <td>0.0</td>\n      <td>1047.919187</td>\n    </tr>\n    <tr>\n      <th>9789</th>\n      <td>zambia</td>\n      <td>2018</td>\n      <td>4.0</td>\n      <td>4.0</td>\n      <td>PF</td>\n      <td>2.0</td>\n      <td>Presidential democracy</td>\n      <td>0.0</td>\n      <td>1.0</td>\n      <td>1.0</td>\n      <td>...</td>\n      <td>0.0</td>\n      <td>1.0</td>\n      <td>3.0</td>\n      <td>2,285714286</td>\n      <td>1.0</td>\n      <td>1.0</td>\n      <td>1.0</td>\n      <td>0.0</td>\n      <td>0.0</td>\n      <td>1516.390661</td>\n    </tr>\n    <tr>\n      <th>9825</th>\n      <td>zimbabwe</td>\n      <td>2006</td>\n      <td>7.0</td>\n      <td>6.0</td>\n      <td>NF</td>\n      <td>3.0</td>\n      <td>Civilian dictatorship</td>\n      <td>0.0</td>\n      <td>0.0</td>\n      <td>0.0</td>\n      <td>...</td>\n      <td>0.0</td>\n      <td>1.0</td>\n      <td>2.0</td>\n      <td>2,25</td>\n      <td>0.0</td>\n      <td>1.0</td>\n      <td>0.0</td>\n      <td>0.0</td>\n      <td>0.0</td>\n      <td>447.854924</td>\n    </tr>\n    <tr>\n      <th>9837</th>\n      <td>zimbabwe</td>\n      <td>2018</td>\n      <td>5.0</td>\n      <td>5.0</td>\n      <td>PF</td>\n      <td>4.0</td>\n      <td>Military dictatorship</td>\n      <td>0.0</td>\n      <td>0.0</td>\n      <td>0.0</td>\n      <td>...</td>\n      <td>0.0</td>\n      <td>1.0</td>\n      <td>2.0</td>\n      <td>2,5</td>\n      <td>0.0</td>\n      <td>1.0</td>\n      <td>0.0</td>\n      <td>0.0</td>\n      <td>0.0</td>\n      <td>1683.740577</td>\n    </tr>\n  </tbody>\n</table>\n<p>357 rows × 30 columns</p>\n</div>"
     },
     "metadata": {},
     "execution_count": 190
    }
   ],
   "source": [
    "df"
   ]
  },
  {
   "cell_type": "code",
   "execution_count": 118,
   "metadata": {},
   "outputs": [
    {
     "output_type": "execute_result",
     "data": {
      "text/plain": [
       "2012    181\n",
       "2014    181\n",
       "2016    181\n",
       "2018    181\n",
       "2010    180\n",
       "2006    179\n",
       "2008    179\n",
       "Name: year, dtype: int64"
      ]
     },
     "metadata": {},
     "execution_count": 118
    }
   ],
   "source": [
    "df.year.value_counts()"
   ]
  },
  {
   "cell_type": "code",
   "execution_count": 201,
   "metadata": {},
   "outputs": [
    {
     "output_type": "execute_result",
     "data": {
      "text/plain": [
       "poland            2\n",
       "zambia            2\n",
       "czech republic    2\n",
       "uzbekistan        2\n",
       "tajikistan        2\n",
       "                 ..\n",
       "bhutan            1\n",
       "nepal             1\n",
       "qatar             1\n",
       "iraq              1\n",
       "oman              1\n",
       "Name: country, Length: 108, dtype: int64"
      ]
     },
     "metadata": {},
     "execution_count": 201
    }
   ],
   "source": [
    "df.country.value_counts()"
   ]
  },
  {
   "cell_type": "code",
   "execution_count": 128,
   "metadata": {},
   "outputs": [],
   "source": [
    "df.to_csv('raw_data/small_master.csv')"
   ]
  },
  {
   "cell_type": "code",
   "execution_count": 126,
   "metadata": {},
   "outputs": [
    {
     "output_type": "execute_result",
     "data": {
      "text/plain": [
       "country                    object\n",
       "year                        int64\n",
       "PR                        float64\n",
       "CL                        float64\n",
       "Status                     object\n",
       "                           ...   \n",
       "Steering Capability       float64\n",
       "Structural constraints    float64\n",
       "Welfare Regime            float64\n",
       "t                         float64\n",
       "gdp                       float64\n",
       "Length: 80, dtype: object"
      ]
     },
     "metadata": {},
     "execution_count": 126
    }
   ],
   "source": [
    "df.dtypes"
   ]
  },
  {
   "cell_type": "code",
   "execution_count": 123,
   "metadata": {},
   "outputs": [],
   "source": [
    "rep_map = {\n",
    "    '2(5)': np.nan,\n",
    "    'nan': np.nan,\n",
    "    '3(6)': np.nan\n",
    "}"
   ]
  },
  {
   "cell_type": "code",
   "execution_count": 124,
   "metadata": {},
   "outputs": [],
   "source": [
    "df = df.replace(rep_map)"
   ]
  },
  {
   "cell_type": "code",
   "execution_count": 125,
   "metadata": {},
   "outputs": [],
   "source": [
    "df.PR = df.PR.astype(float)\n",
    "df.CL = df.CL.astype(float)"
   ]
  },
  {
   "cell_type": "code",
   "execution_count": 127,
   "metadata": {},
   "outputs": [],
   "source": [
    "df.loc[:, 'spatial electoral'] = df.loc[:, 'spatial electoral'].str.replace(',', '.').astype('float')"
   ]
  },
  {
   "cell_type": "code",
   "execution_count": 118,
   "metadata": {},
   "outputs": [
    {
     "output_type": "execute_result",
     "data": {
      "text/plain": [
       "True"
      ]
     },
     "metadata": {},
     "execution_count": 118
    }
   ],
   "source": [
    "df.dtypes.map(list(df.dtypes) == np.dtype('int') | list(df.dtypes) == np.dtype('float'))"
   ]
  },
  {
   "cell_type": "code",
   "execution_count": 75,
   "metadata": {},
   "outputs": [],
   "source": [
    "df = df.drop(['election month, year'], axis=1)"
   ]
  },
  {
   "cell_type": "code",
   "execution_count": 3,
   "metadata": {},
   "outputs": [],
   "source": [
    "df = pd.read_csv('./raw_data/small_master.csv')"
   ]
  },
  {
   "cell_type": "code",
   "execution_count": 77,
   "metadata": {},
   "outputs": [
    {
     "output_type": "execute_result",
     "data": {
      "text/plain": [
       "(2807, 36)"
      ]
     },
     "metadata": {},
     "execution_count": 77
    }
   ],
   "source": [
    "df.shape"
   ]
  },
  {
   "cell_type": "code",
   "execution_count": 10,
   "metadata": {},
   "outputs": [],
   "source": [
    "df = df.drop(['Unnamed: 0', 'Unnamed: 0.1'], axis=1)"
   ]
  },
  {
   "cell_type": "code",
   "execution_count": 202,
   "metadata": {},
   "outputs": [
    {
     "output_type": "execute_result",
     "data": {
      "text/plain": [
       "year\n",
       "2006     95\n",
       "2018    104\n",
       "Name: gdp, dtype: int64"
      ]
     },
     "metadata": {},
     "execution_count": 202
    }
   ],
   "source": [
    "df.groupby(['year']).gdp.count()"
   ]
  },
  {
   "cell_type": "code",
   "execution_count": 21,
   "metadata": {},
   "outputs": [
    {
     "output_type": "execute_result",
     "data": {
      "text/plain": [
       "                  country  year   PR   CL Status  DD regime  \\\n",
       "12            afghanistan  2018  5.0  6.0     NF        3.0   \n",
       "27                albania  2018  3.0  3.0     PF        0.0   \n",
       "42                algeria  2018  6.0  5.0     NF        3.0   \n",
       "57                 angola  2018  6.0  5.0     NF        3.0   \n",
       "72    antigua and barbuda  2018  2.0  2.0      F        0.0   \n",
       "...                   ...   ...  ...  ...    ...        ...   \n",
       "2703            venezuela  2018  7.0  6.0     NF        3.0   \n",
       "2718              vietnam  2018  7.0  5.0     NF        3.0   \n",
       "2733                yemen  2018  7.0  6.0     NF        4.0   \n",
       "2748               zambia  2018  4.0  4.0     PF        2.0   \n",
       "2763             zimbabwe  2018  5.0  5.0     PF        4.0   \n",
       "\n",
       "                  DD category  Monarchy  Commonwealth  Democracy  ...  \\\n",
       "12      Civilian dictatorship       0.0           0.0        0.0  ...   \n",
       "27    Parliamentary democracy       0.0           0.0        1.0  ...   \n",
       "42      Civilian dictatorship       0.0           0.0        0.0  ...   \n",
       "57      Civilian dictatorship       0.0           0.0        0.0  ...   \n",
       "72    Parliamentary democracy       1.0           1.0        1.0  ...   \n",
       "...                       ...       ...           ...        ...  ...   \n",
       "2703    Civilian dictatorship       0.0           0.0        0.0  ...   \n",
       "2718    Civilian dictatorship       0.0           0.0        0.0  ...   \n",
       "2733    Military dictatorship       0.0           0.0        0.0  ...   \n",
       "2748   Presidential democracy       0.0           1.0        1.0  ...   \n",
       "2763    Military dictatorship       0.0           0.0        0.0  ...   \n",
       "\n",
       "      New constitution fullsuffrage  electoral  spatial electoral  \\\n",
       "12                 0.0          1.0        2.0           2.000000   \n",
       "27                 0.0          1.0        3.0           2.800000   \n",
       "42                 0.0          1.0        2.0           2.500000   \n",
       "57                 0.0          1.0        2.0           2.250000   \n",
       "72                 0.0          1.0        3.0           3.000000   \n",
       "...                ...          ...        ...                ...   \n",
       "2703               0.0          1.0        1.0           3.000000   \n",
       "2718               0.0          1.0        1.0           1.000000   \n",
       "2733               0.0          1.0        0.0           1.333333   \n",
       "2748               0.0          1.0        3.0           2.285714   \n",
       "2763               0.0          1.0        2.0           2.500000   \n",
       "\n",
       "      alternation  multiparty  free and fair election  \\\n",
       "12            0.0         1.0                     0.0   \n",
       "27            1.0         1.0                     1.0   \n",
       "42            0.0         1.0                     0.0   \n",
       "57            0.0         1.0                     1.0   \n",
       "72            1.0         1.0                     1.0   \n",
       "...           ...         ...                     ...   \n",
       "2703          0.0         0.0                     0.0   \n",
       "2718          0.0         0.0                     0.0   \n",
       "2733          0.0         0.0                     0.0   \n",
       "2748          1.0         1.0                     1.0   \n",
       "2763          0.0         1.0                     0.0   \n",
       "\n",
       "      parliamentary election year  postponed election gdp  \n",
       "12                            0.0                 0.0 NaN  \n",
       "27                            0.0                 0.0 NaN  \n",
       "42                            0.0                 0.0 NaN  \n",
       "57                            1.0                 0.0 NaN  \n",
       "72                            1.0                 0.0 NaN  \n",
       "...                           ...                 ...  ..  \n",
       "2703                          0.0                 0.0 NaN  \n",
       "2718                          0.0                 0.0 NaN  \n",
       "2733                          0.0                 0.0 NaN  \n",
       "2748                          0.0                 0.0 NaN  \n",
       "2763                          0.0                 0.0 NaN  \n",
       "\n",
       "[179 rows x 36 columns]"
      ],
      "text/html": "<div>\n<style scoped>\n    .dataframe tbody tr th:only-of-type {\n        vertical-align: middle;\n    }\n\n    .dataframe tbody tr th {\n        vertical-align: top;\n    }\n\n    .dataframe thead th {\n        text-align: right;\n    }\n</style>\n<table border=\"1\" class=\"dataframe\">\n  <thead>\n    <tr style=\"text-align: right;\">\n      <th></th>\n      <th>country</th>\n      <th>year</th>\n      <th>PR</th>\n      <th>CL</th>\n      <th>Status</th>\n      <th>DD regime</th>\n      <th>DD category</th>\n      <th>Monarchy</th>\n      <th>Commonwealth</th>\n      <th>Democracy</th>\n      <th>...</th>\n      <th>New constitution</th>\n      <th>fullsuffrage</th>\n      <th>electoral</th>\n      <th>spatial electoral</th>\n      <th>alternation</th>\n      <th>multiparty</th>\n      <th>free and fair election</th>\n      <th>parliamentary election year</th>\n      <th>postponed election</th>\n      <th>gdp</th>\n    </tr>\n  </thead>\n  <tbody>\n    <tr>\n      <th>12</th>\n      <td>afghanistan</td>\n      <td>2018</td>\n      <td>5.0</td>\n      <td>6.0</td>\n      <td>NF</td>\n      <td>3.0</td>\n      <td>Civilian dictatorship</td>\n      <td>0.0</td>\n      <td>0.0</td>\n      <td>0.0</td>\n      <td>...</td>\n      <td>0.0</td>\n      <td>1.0</td>\n      <td>2.0</td>\n      <td>2.000000</td>\n      <td>0.0</td>\n      <td>1.0</td>\n      <td>0.0</td>\n      <td>0.0</td>\n      <td>0.0</td>\n      <td>NaN</td>\n    </tr>\n    <tr>\n      <th>27</th>\n      <td>albania</td>\n      <td>2018</td>\n      <td>3.0</td>\n      <td>3.0</td>\n      <td>PF</td>\n      <td>0.0</td>\n      <td>Parliamentary democracy</td>\n      <td>0.0</td>\n      <td>0.0</td>\n      <td>1.0</td>\n      <td>...</td>\n      <td>0.0</td>\n      <td>1.0</td>\n      <td>3.0</td>\n      <td>2.800000</td>\n      <td>1.0</td>\n      <td>1.0</td>\n      <td>1.0</td>\n      <td>0.0</td>\n      <td>0.0</td>\n      <td>NaN</td>\n    </tr>\n    <tr>\n      <th>42</th>\n      <td>algeria</td>\n      <td>2018</td>\n      <td>6.0</td>\n      <td>5.0</td>\n      <td>NF</td>\n      <td>3.0</td>\n      <td>Civilian dictatorship</td>\n      <td>0.0</td>\n      <td>0.0</td>\n      <td>0.0</td>\n      <td>...</td>\n      <td>0.0</td>\n      <td>1.0</td>\n      <td>2.0</td>\n      <td>2.500000</td>\n      <td>0.0</td>\n      <td>1.0</td>\n      <td>0.0</td>\n      <td>0.0</td>\n      <td>0.0</td>\n      <td>NaN</td>\n    </tr>\n    <tr>\n      <th>57</th>\n      <td>angola</td>\n      <td>2018</td>\n      <td>6.0</td>\n      <td>5.0</td>\n      <td>NF</td>\n      <td>3.0</td>\n      <td>Civilian dictatorship</td>\n      <td>0.0</td>\n      <td>0.0</td>\n      <td>0.0</td>\n      <td>...</td>\n      <td>0.0</td>\n      <td>1.0</td>\n      <td>2.0</td>\n      <td>2.250000</td>\n      <td>0.0</td>\n      <td>1.0</td>\n      <td>1.0</td>\n      <td>1.0</td>\n      <td>0.0</td>\n      <td>NaN</td>\n    </tr>\n    <tr>\n      <th>72</th>\n      <td>antigua and barbuda</td>\n      <td>2018</td>\n      <td>2.0</td>\n      <td>2.0</td>\n      <td>F</td>\n      <td>0.0</td>\n      <td>Parliamentary democracy</td>\n      <td>1.0</td>\n      <td>1.0</td>\n      <td>1.0</td>\n      <td>...</td>\n      <td>0.0</td>\n      <td>1.0</td>\n      <td>3.0</td>\n      <td>3.000000</td>\n      <td>1.0</td>\n      <td>1.0</td>\n      <td>1.0</td>\n      <td>1.0</td>\n      <td>0.0</td>\n      <td>NaN</td>\n    </tr>\n    <tr>\n      <th>...</th>\n      <td>...</td>\n      <td>...</td>\n      <td>...</td>\n      <td>...</td>\n      <td>...</td>\n      <td>...</td>\n      <td>...</td>\n      <td>...</td>\n      <td>...</td>\n      <td>...</td>\n      <td>...</td>\n      <td>...</td>\n      <td>...</td>\n      <td>...</td>\n      <td>...</td>\n      <td>...</td>\n      <td>...</td>\n      <td>...</td>\n      <td>...</td>\n      <td>...</td>\n      <td>...</td>\n    </tr>\n    <tr>\n      <th>2703</th>\n      <td>venezuela</td>\n      <td>2018</td>\n      <td>7.0</td>\n      <td>6.0</td>\n      <td>NF</td>\n      <td>3.0</td>\n      <td>Civilian dictatorship</td>\n      <td>0.0</td>\n      <td>0.0</td>\n      <td>0.0</td>\n      <td>...</td>\n      <td>0.0</td>\n      <td>1.0</td>\n      <td>1.0</td>\n      <td>3.000000</td>\n      <td>0.0</td>\n      <td>0.0</td>\n      <td>0.0</td>\n      <td>0.0</td>\n      <td>0.0</td>\n      <td>NaN</td>\n    </tr>\n    <tr>\n      <th>2718</th>\n      <td>vietnam</td>\n      <td>2018</td>\n      <td>7.0</td>\n      <td>5.0</td>\n      <td>NF</td>\n      <td>3.0</td>\n      <td>Civilian dictatorship</td>\n      <td>0.0</td>\n      <td>0.0</td>\n      <td>0.0</td>\n      <td>...</td>\n      <td>0.0</td>\n      <td>1.0</td>\n      <td>1.0</td>\n      <td>1.000000</td>\n      <td>0.0</td>\n      <td>0.0</td>\n      <td>0.0</td>\n      <td>0.0</td>\n      <td>0.0</td>\n      <td>NaN</td>\n    </tr>\n    <tr>\n      <th>2733</th>\n      <td>yemen</td>\n      <td>2018</td>\n      <td>7.0</td>\n      <td>6.0</td>\n      <td>NF</td>\n      <td>4.0</td>\n      <td>Military dictatorship</td>\n      <td>0.0</td>\n      <td>0.0</td>\n      <td>0.0</td>\n      <td>...</td>\n      <td>0.0</td>\n      <td>1.0</td>\n      <td>0.0</td>\n      <td>1.333333</td>\n      <td>0.0</td>\n      <td>0.0</td>\n      <td>0.0</td>\n      <td>0.0</td>\n      <td>0.0</td>\n      <td>NaN</td>\n    </tr>\n    <tr>\n      <th>2748</th>\n      <td>zambia</td>\n      <td>2018</td>\n      <td>4.0</td>\n      <td>4.0</td>\n      <td>PF</td>\n      <td>2.0</td>\n      <td>Presidential democracy</td>\n      <td>0.0</td>\n      <td>1.0</td>\n      <td>1.0</td>\n      <td>...</td>\n      <td>0.0</td>\n      <td>1.0</td>\n      <td>3.0</td>\n      <td>2.285714</td>\n      <td>1.0</td>\n      <td>1.0</td>\n      <td>1.0</td>\n      <td>0.0</td>\n      <td>0.0</td>\n      <td>NaN</td>\n    </tr>\n    <tr>\n      <th>2763</th>\n      <td>zimbabwe</td>\n      <td>2018</td>\n      <td>5.0</td>\n      <td>5.0</td>\n      <td>PF</td>\n      <td>4.0</td>\n      <td>Military dictatorship</td>\n      <td>0.0</td>\n      <td>0.0</td>\n      <td>0.0</td>\n      <td>...</td>\n      <td>0.0</td>\n      <td>1.0</td>\n      <td>2.0</td>\n      <td>2.500000</td>\n      <td>0.0</td>\n      <td>1.0</td>\n      <td>0.0</td>\n      <td>0.0</td>\n      <td>0.0</td>\n      <td>NaN</td>\n    </tr>\n  </tbody>\n</table>\n<p>179 rows × 36 columns</p>\n</div>"
     },
     "metadata": {},
     "execution_count": 21
    }
   ],
   "source": [
    "df[df.year == 2018]"
   ]
  },
  {
   "cell_type": "code",
   "execution_count": 79,
   "metadata": {},
   "outputs": [
    {
     "output_type": "execute_result",
     "data": {
      "text/plain": [
       "      year              country\n",
       "47    2020          afghanistan\n",
       "95    2020              albania\n",
       "143   2020              algeria\n",
       "239   2020               angola\n",
       "287   2020  antigua and barbuda\n",
       "...    ...                  ...\n",
       "9597  2018                yemen\n",
       "9598  2019                yemen\n",
       "9599  2020                yemen\n",
       "9791  2020               zambia\n",
       "9839  2020             zimbabwe\n",
       "\n",
       "[370 rows x 2 columns]"
      ],
      "text/html": "<div>\n<style scoped>\n    .dataframe tbody tr th:only-of-type {\n        vertical-align: middle;\n    }\n\n    .dataframe tbody tr th {\n        vertical-align: top;\n    }\n\n    .dataframe thead th {\n        text-align: right;\n    }\n</style>\n<table border=\"1\" class=\"dataframe\">\n  <thead>\n    <tr style=\"text-align: right;\">\n      <th></th>\n      <th>year</th>\n      <th>country</th>\n    </tr>\n  </thead>\n  <tbody>\n    <tr>\n      <th>47</th>\n      <td>2020</td>\n      <td>afghanistan</td>\n    </tr>\n    <tr>\n      <th>95</th>\n      <td>2020</td>\n      <td>albania</td>\n    </tr>\n    <tr>\n      <th>143</th>\n      <td>2020</td>\n      <td>algeria</td>\n    </tr>\n    <tr>\n      <th>239</th>\n      <td>2020</td>\n      <td>angola</td>\n    </tr>\n    <tr>\n      <th>287</th>\n      <td>2020</td>\n      <td>antigua and barbuda</td>\n    </tr>\n    <tr>\n      <th>...</th>\n      <td>...</td>\n      <td>...</td>\n    </tr>\n    <tr>\n      <th>9597</th>\n      <td>2018</td>\n      <td>yemen</td>\n    </tr>\n    <tr>\n      <th>9598</th>\n      <td>2019</td>\n      <td>yemen</td>\n    </tr>\n    <tr>\n      <th>9599</th>\n      <td>2020</td>\n      <td>yemen</td>\n    </tr>\n    <tr>\n      <th>9791</th>\n      <td>2020</td>\n      <td>zambia</td>\n    </tr>\n    <tr>\n      <th>9839</th>\n      <td>2020</td>\n      <td>zimbabwe</td>\n    </tr>\n  </tbody>\n</table>\n<p>370 rows × 2 columns</p>\n</div>"
     },
     "metadata": {},
     "execution_count": 79
    }
   ],
   "source": [
    "df.loc[:, ['year', 'country']][df.gdp.isna()]"
   ]
  },
  {
   "cell_type": "code",
   "execution_count": null,
   "metadata": {},
   "outputs": [],
   "source": []
  }
 ]
}