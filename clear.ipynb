{
 "metadata": {
  "language_info": {
   "codemirror_mode": {
    "name": "ipython",
    "version": 3
   },
   "file_extension": ".py",
   "mimetype": "text/x-python",
   "name": "python",
   "nbconvert_exporter": "python",
   "pygments_lexer": "ipython3",
   "version": "3.8.5-final"
  },
  "orig_nbformat": 2,
  "kernelspec": {
   "name": "python385jvsc74a57bd0fac54e6b642c37966e43cdb643d32d1f4e4fa0317cda1cf8b922991f41f52fc4",
   "display_name": "Python 3.8.5 64-bit ('cap_venv')"
  }
 },
 "nbformat": 4,
 "nbformat_minor": 2,
 "cells": [
  {
   "cell_type": "code",
   "execution_count": 3,
   "metadata": {},
   "outputs": [],
   "source": [
    "import pandas as pd\n",
    "import numpy as np\n",
    "from functools import reduce"
   ]
  },
  {
   "cell_type": "code",
   "execution_count": 61,
   "metadata": {},
   "outputs": [
    {
     "output_type": "stream",
     "name": "stderr",
     "text": [
      "/Users/santerivaataja/Desktop/Taloustieteen_kursseja/Econometrics/Capstone.nosync/cap_venv/lib/python3.8/site-packages/IPython/core/interactiveshell.py:3165: DtypeWarning: Columns (2,3) have mixed types.Specify dtype option on import or set low_memory=False.\n  has_raised = await self.run_ast_nodes(code_ast.body, cell_name,\n"
     ]
    }
   ],
   "source": [
    "df = pd.read_csv('./raw_data/master.csv')"
   ]
  },
  {
   "cell_type": "code",
   "execution_count": 78,
   "metadata": {},
   "outputs": [
    {
     "output_type": "execute_result",
     "data": {
      "text/plain": [
       "[('country', 0),\n",
       " ('year', 0),\n",
       " ('PR', 5),\n",
       " ('CL', 5),\n",
       " ('Status', 5),\n",
       " ('DD regime', 128),\n",
       " ('DD category', 123),\n",
       " ('Monarchy', 128),\n",
       " ('Commonwealth', 128),\n",
       " ('Democracy', 128),\n",
       " ('Presidential', 128),\n",
       " ('President name', 784),\n",
       " ('President accesion', 814),\n",
       " ('President birthyear', 814),\n",
       " ('Interim phase (more than 2 Presidents/year=1)', 829),\n",
       " ('Female president (0: No; 1: Yes)', 829),\n",
       " ('Colony', 138),\n",
       " ('Communist', 128),\n",
       " ('Regime change lag', 128),\n",
       " ('spatial democracy', 128),\n",
       " ('countrycode', 123),\n",
       " ('No. of chambers in parliament', 171),\n",
       " ('proportional voting', 217),\n",
       " ('Election system', 197),\n",
       " ('No. of members in lower house', 209),\n",
       " ('No. of members in upper house', 1693),\n",
       " ('New constitution', 128),\n",
       " ('fullsuffrage', 128),\n",
       " ('electoral', 128),\n",
       " ('spatial electoral', 128),\n",
       " ('alternation', 123),\n",
       " ('multiparty', 123),\n",
       " ('free and fair election', 123),\n",
       " ('parliamentary election year', 127),\n",
       " ('postponed election', 128),\n",
       " ('gdp', 370)]"
      ]
     },
     "metadata": {},
     "execution_count": 78
    }
   ],
   "source": [
    "list(zip(df.columns, [df.loc[:,i].isna().sum() for i in df.columns]))"
   ]
  },
  {
   "cell_type": "code",
   "execution_count": 63,
   "metadata": {},
   "outputs": [],
   "source": [
    "df = df[df.year >= 2006]"
   ]
  },
  {
   "cell_type": "code",
   "execution_count": 64,
   "metadata": {},
   "outputs": [],
   "source": [
    "m_col = [df.loc[:,i].isna().mean() > .85 for i in df.columns]\n",
    "df = df.drop(np.array(df.columns)[m_col], axis=1)"
   ]
  },
  {
   "cell_type": "code",
   "execution_count": 65,
   "metadata": {},
   "outputs": [],
   "source": [
    "m_row = [df.loc[i].isna().mean() > .85 for i in df.index]\n",
    "df = df.drop(np.array(df.index)[m_row], axis=0)"
   ]
  },
  {
   "cell_type": "code",
   "execution_count": 67,
   "metadata": {},
   "outputs": [
    {
     "output_type": "execute_result",
     "data": {
      "text/plain": [
       "          country  year   PR   CL Status  DD regime            DD category  \\\n",
       "33    afghanistan  2006    5    5     PF        3.0  Civilian dictatorship   \n",
       "34    afghanistan  2007    5    5     PF        3.0  Civilian dictatorship   \n",
       "35    afghanistan  2008    5    6     NF        3.0  Civilian dictatorship   \n",
       "36    afghanistan  2009    6    6     NF        3.0  Civilian dictatorship   \n",
       "37    afghanistan  2010    6    6     NF        3.0  Civilian dictatorship   \n",
       "...           ...   ...  ...  ...    ...        ...                    ...   \n",
       "9835     zimbabwe  2016  5.0  5.0     PF        3.0  Civilian dictatorship   \n",
       "9836     zimbabwe  2017  6.0  5.0     NF        3.0  Civilian dictatorship   \n",
       "9837     zimbabwe  2018  5.0  5.0     PF        4.0  Military dictatorship   \n",
       "9838     zimbabwe  2019  5.0  5.0     PF        4.0  Military dictatorship   \n",
       "9839     zimbabwe  2020  6.0  5.0     NF        4.0  Military dictatorship   \n",
       "\n",
       "      Monarchy  Commonwealth  Democracy  ...  fullsuffrage electoral  \\\n",
       "33         0.0           0.0        0.0  ...           1.0       2.0   \n",
       "34         0.0           0.0        0.0  ...           1.0       2.0   \n",
       "35         0.0           0.0        0.0  ...           1.0       2.0   \n",
       "36         0.0           0.0        0.0  ...           1.0       2.0   \n",
       "37         0.0           0.0        0.0  ...           1.0       2.0   \n",
       "...        ...           ...        ...  ...           ...       ...   \n",
       "9835       0.0           0.0        0.0  ...           1.0       2.0   \n",
       "9836       0.0           0.0        0.0  ...           1.0       2.0   \n",
       "9837       0.0           0.0        0.0  ...           1.0       2.0   \n",
       "9838       0.0           0.0        0.0  ...           1.0       2.0   \n",
       "9839       0.0           0.0        0.0  ...           1.0       2.0   \n",
       "\n",
       "      spatial electoral  alternation  multiparty  free and fair election  \\\n",
       "33                  1,5          0.0         1.0                     0.0   \n",
       "34                  1,5          0.0         1.0                     0.0   \n",
       "35                 1,75          0.0         1.0                     0.0   \n",
       "36                 1,75          0.0         1.0                     0.0   \n",
       "37                 1,75          0.0         1.0                     0.0   \n",
       "...                 ...          ...         ...                     ...   \n",
       "9835                2,5          0.0         1.0                     0.0   \n",
       "9836                2,5          0.0         1.0                     0.0   \n",
       "9837                2,5          0.0         1.0                     0.0   \n",
       "9838                2,5          0.0         1.0                     0.0   \n",
       "9839                2,5          0.0         1.0                     0.0   \n",
       "\n",
       "      parliamentary election year  election month, year  postponed election  \\\n",
       "33                            1.0        September 2005                 0.0   \n",
       "34                            0.0                   NaN                 0.0   \n",
       "35                            0.0                   NaN                 0.0   \n",
       "36                            0.0                   NaN                 0.0   \n",
       "37                            0.0                   NaN                 0.0   \n",
       "...                           ...                   ...                 ...   \n",
       "9835                          0.0                   NaN                 0.0   \n",
       "9836                          0.0                   NaN                 0.0   \n",
       "9837                          0.0                   NaN                 0.0   \n",
       "9838                          1.0             July 2018                 0.0   \n",
       "9839                          0.0                   NaN                 0.0   \n",
       "\n",
       "              gdp  \n",
       "33     263.733692  \n",
       "34     359.693238  \n",
       "35     364.660745  \n",
       "36     438.076034  \n",
       "37     543.303042  \n",
       "...           ...  \n",
       "9835  1464.583529  \n",
       "9836  1548.170056  \n",
       "9837  1683.740577  \n",
       "9838  1463.985910  \n",
       "9839          NaN  \n",
       "\n",
       "[2807 rows x 37 columns]"
      ],
      "text/html": "<div>\n<style scoped>\n    .dataframe tbody tr th:only-of-type {\n        vertical-align: middle;\n    }\n\n    .dataframe tbody tr th {\n        vertical-align: top;\n    }\n\n    .dataframe thead th {\n        text-align: right;\n    }\n</style>\n<table border=\"1\" class=\"dataframe\">\n  <thead>\n    <tr style=\"text-align: right;\">\n      <th></th>\n      <th>country</th>\n      <th>year</th>\n      <th>PR</th>\n      <th>CL</th>\n      <th>Status</th>\n      <th>DD regime</th>\n      <th>DD category</th>\n      <th>Monarchy</th>\n      <th>Commonwealth</th>\n      <th>Democracy</th>\n      <th>...</th>\n      <th>fullsuffrage</th>\n      <th>electoral</th>\n      <th>spatial electoral</th>\n      <th>alternation</th>\n      <th>multiparty</th>\n      <th>free and fair election</th>\n      <th>parliamentary election year</th>\n      <th>election month, year</th>\n      <th>postponed election</th>\n      <th>gdp</th>\n    </tr>\n  </thead>\n  <tbody>\n    <tr>\n      <th>33</th>\n      <td>afghanistan</td>\n      <td>2006</td>\n      <td>5</td>\n      <td>5</td>\n      <td>PF</td>\n      <td>3.0</td>\n      <td>Civilian dictatorship</td>\n      <td>0.0</td>\n      <td>0.0</td>\n      <td>0.0</td>\n      <td>...</td>\n      <td>1.0</td>\n      <td>2.0</td>\n      <td>1,5</td>\n      <td>0.0</td>\n      <td>1.0</td>\n      <td>0.0</td>\n      <td>1.0</td>\n      <td>September 2005</td>\n      <td>0.0</td>\n      <td>263.733692</td>\n    </tr>\n    <tr>\n      <th>34</th>\n      <td>afghanistan</td>\n      <td>2007</td>\n      <td>5</td>\n      <td>5</td>\n      <td>PF</td>\n      <td>3.0</td>\n      <td>Civilian dictatorship</td>\n      <td>0.0</td>\n      <td>0.0</td>\n      <td>0.0</td>\n      <td>...</td>\n      <td>1.0</td>\n      <td>2.0</td>\n      <td>1,5</td>\n      <td>0.0</td>\n      <td>1.0</td>\n      <td>0.0</td>\n      <td>0.0</td>\n      <td>NaN</td>\n      <td>0.0</td>\n      <td>359.693238</td>\n    </tr>\n    <tr>\n      <th>35</th>\n      <td>afghanistan</td>\n      <td>2008</td>\n      <td>5</td>\n      <td>6</td>\n      <td>NF</td>\n      <td>3.0</td>\n      <td>Civilian dictatorship</td>\n      <td>0.0</td>\n      <td>0.0</td>\n      <td>0.0</td>\n      <td>...</td>\n      <td>1.0</td>\n      <td>2.0</td>\n      <td>1,75</td>\n      <td>0.0</td>\n      <td>1.0</td>\n      <td>0.0</td>\n      <td>0.0</td>\n      <td>NaN</td>\n      <td>0.0</td>\n      <td>364.660745</td>\n    </tr>\n    <tr>\n      <th>36</th>\n      <td>afghanistan</td>\n      <td>2009</td>\n      <td>6</td>\n      <td>6</td>\n      <td>NF</td>\n      <td>3.0</td>\n      <td>Civilian dictatorship</td>\n      <td>0.0</td>\n      <td>0.0</td>\n      <td>0.0</td>\n      <td>...</td>\n      <td>1.0</td>\n      <td>2.0</td>\n      <td>1,75</td>\n      <td>0.0</td>\n      <td>1.0</td>\n      <td>0.0</td>\n      <td>0.0</td>\n      <td>NaN</td>\n      <td>0.0</td>\n      <td>438.076034</td>\n    </tr>\n    <tr>\n      <th>37</th>\n      <td>afghanistan</td>\n      <td>2010</td>\n      <td>6</td>\n      <td>6</td>\n      <td>NF</td>\n      <td>3.0</td>\n      <td>Civilian dictatorship</td>\n      <td>0.0</td>\n      <td>0.0</td>\n      <td>0.0</td>\n      <td>...</td>\n      <td>1.0</td>\n      <td>2.0</td>\n      <td>1,75</td>\n      <td>0.0</td>\n      <td>1.0</td>\n      <td>0.0</td>\n      <td>0.0</td>\n      <td>NaN</td>\n      <td>0.0</td>\n      <td>543.303042</td>\n    </tr>\n    <tr>\n      <th>...</th>\n      <td>...</td>\n      <td>...</td>\n      <td>...</td>\n      <td>...</td>\n      <td>...</td>\n      <td>...</td>\n      <td>...</td>\n      <td>...</td>\n      <td>...</td>\n      <td>...</td>\n      <td>...</td>\n      <td>...</td>\n      <td>...</td>\n      <td>...</td>\n      <td>...</td>\n      <td>...</td>\n      <td>...</td>\n      <td>...</td>\n      <td>...</td>\n      <td>...</td>\n      <td>...</td>\n    </tr>\n    <tr>\n      <th>9835</th>\n      <td>zimbabwe</td>\n      <td>2016</td>\n      <td>5.0</td>\n      <td>5.0</td>\n      <td>PF</td>\n      <td>3.0</td>\n      <td>Civilian dictatorship</td>\n      <td>0.0</td>\n      <td>0.0</td>\n      <td>0.0</td>\n      <td>...</td>\n      <td>1.0</td>\n      <td>2.0</td>\n      <td>2,5</td>\n      <td>0.0</td>\n      <td>1.0</td>\n      <td>0.0</td>\n      <td>0.0</td>\n      <td>NaN</td>\n      <td>0.0</td>\n      <td>1464.583529</td>\n    </tr>\n    <tr>\n      <th>9836</th>\n      <td>zimbabwe</td>\n      <td>2017</td>\n      <td>6.0</td>\n      <td>5.0</td>\n      <td>NF</td>\n      <td>3.0</td>\n      <td>Civilian dictatorship</td>\n      <td>0.0</td>\n      <td>0.0</td>\n      <td>0.0</td>\n      <td>...</td>\n      <td>1.0</td>\n      <td>2.0</td>\n      <td>2,5</td>\n      <td>0.0</td>\n      <td>1.0</td>\n      <td>0.0</td>\n      <td>0.0</td>\n      <td>NaN</td>\n      <td>0.0</td>\n      <td>1548.170056</td>\n    </tr>\n    <tr>\n      <th>9837</th>\n      <td>zimbabwe</td>\n      <td>2018</td>\n      <td>5.0</td>\n      <td>5.0</td>\n      <td>PF</td>\n      <td>4.0</td>\n      <td>Military dictatorship</td>\n      <td>0.0</td>\n      <td>0.0</td>\n      <td>0.0</td>\n      <td>...</td>\n      <td>1.0</td>\n      <td>2.0</td>\n      <td>2,5</td>\n      <td>0.0</td>\n      <td>1.0</td>\n      <td>0.0</td>\n      <td>0.0</td>\n      <td>NaN</td>\n      <td>0.0</td>\n      <td>1683.740577</td>\n    </tr>\n    <tr>\n      <th>9838</th>\n      <td>zimbabwe</td>\n      <td>2019</td>\n      <td>5.0</td>\n      <td>5.0</td>\n      <td>PF</td>\n      <td>4.0</td>\n      <td>Military dictatorship</td>\n      <td>0.0</td>\n      <td>0.0</td>\n      <td>0.0</td>\n      <td>...</td>\n      <td>1.0</td>\n      <td>2.0</td>\n      <td>2,5</td>\n      <td>0.0</td>\n      <td>1.0</td>\n      <td>0.0</td>\n      <td>1.0</td>\n      <td>July 2018</td>\n      <td>0.0</td>\n      <td>1463.985910</td>\n    </tr>\n    <tr>\n      <th>9839</th>\n      <td>zimbabwe</td>\n      <td>2020</td>\n      <td>6.0</td>\n      <td>5.0</td>\n      <td>NF</td>\n      <td>4.0</td>\n      <td>Military dictatorship</td>\n      <td>0.0</td>\n      <td>0.0</td>\n      <td>0.0</td>\n      <td>...</td>\n      <td>1.0</td>\n      <td>2.0</td>\n      <td>2,5</td>\n      <td>0.0</td>\n      <td>1.0</td>\n      <td>0.0</td>\n      <td>0.0</td>\n      <td>NaN</td>\n      <td>0.0</td>\n      <td>NaN</td>\n    </tr>\n  </tbody>\n</table>\n<p>2807 rows × 37 columns</p>\n</div>"
     },
     "metadata": {},
     "execution_count": 67
    }
   ],
   "source": [
    "df"
   ]
  },
  {
   "cell_type": "code",
   "execution_count": 68,
   "metadata": {},
   "outputs": [
    {
     "output_type": "execute_result",
     "data": {
      "text/plain": [
       "2010    188\n",
       "2012    188\n",
       "2014    188\n",
       "2016    188\n",
       "2018    188\n",
       "2009    188\n",
       "2011    188\n",
       "2013    188\n",
       "2015    188\n",
       "2017    188\n",
       "2006    187\n",
       "2008    187\n",
       "2007    187\n",
       "2019    187\n",
       "2020    179\n",
       "Name: year, dtype: int64"
      ]
     },
     "metadata": {},
     "execution_count": 68
    }
   ],
   "source": [
    "df.year.value_counts()"
   ]
  },
  {
   "cell_type": "code",
   "execution_count": 69,
   "metadata": {},
   "outputs": [
    {
     "output_type": "execute_result",
     "data": {
      "text/plain": [
       "italy                             15\n",
       "hungary                           15\n",
       "madagascar                        15\n",
       "guyana                            15\n",
       "guinea-bissau                     15\n",
       "                                  ..\n",
       "cote d'ivoire                     14\n",
       "cabo verde                        14\n",
       "st. vincent and the grenadines    14\n",
       "san marino                        13\n",
       "kosovo                            11\n",
       "Name: country, Length: 188, dtype: int64"
      ]
     },
     "metadata": {},
     "execution_count": 69
    }
   ],
   "source": [
    "df.country.value_counts()"
   ]
  },
  {
   "cell_type": "code",
   "execution_count": 80,
   "metadata": {},
   "outputs": [],
   "source": [
    "df.to_csv('raw_data/small_master.csv')"
   ]
  },
  {
   "cell_type": "code",
   "execution_count": 70,
   "metadata": {},
   "outputs": [
    {
     "output_type": "execute_result",
     "data": {
      "text/plain": [
       "country                                           object\n",
       "year                                               int64\n",
       "PR                                                object\n",
       "CL                                                object\n",
       "Status                                            object\n",
       "DD regime                                        float64\n",
       "DD category                                       object\n",
       "Monarchy                                         float64\n",
       "Commonwealth                                     float64\n",
       "Democracy                                        float64\n",
       "Presidential                                     float64\n",
       "President name                                    object\n",
       "President accesion                               float64\n",
       "President birthyear                              float64\n",
       "Interim phase (more than 2 Presidents/year=1)    float64\n",
       "Female president (0: No; 1: Yes)                 float64\n",
       "Colony                                           float64\n",
       "Communist                                        float64\n",
       "Regime change lag                                float64\n",
       "spatial democracy                                 object\n",
       "countrycode                                      float64\n",
       "No. of chambers in parliament                    float64\n",
       "proportional voting                              float64\n",
       "Election system                                   object\n",
       "No. of members in lower house                    float64\n",
       "No. of members in upper house                    float64\n",
       "New constitution                                 float64\n",
       "fullsuffrage                                     float64\n",
       "electoral                                        float64\n",
       "spatial electoral                                 object\n",
       "alternation                                      float64\n",
       "multiparty                                       float64\n",
       "free and fair election                           float64\n",
       "parliamentary election year                      float64\n",
       "election month, year                              object\n",
       "postponed election                               float64\n",
       "gdp                                              float64\n",
       "dtype: object"
      ]
     },
     "metadata": {},
     "execution_count": 70
    }
   ],
   "source": [
    "df.dtypes"
   ]
  },
  {
   "cell_type": "code",
   "execution_count": 71,
   "metadata": {},
   "outputs": [],
   "source": [
    "rep_map = {\n",
    "    '2(5)': np.nan,\n",
    "    'nan': np.nan,\n",
    "    '3(6)': np.nan\n",
    "}"
   ]
  },
  {
   "cell_type": "code",
   "execution_count": 72,
   "metadata": {},
   "outputs": [],
   "source": [
    "df = df.replace(rep_map)"
   ]
  },
  {
   "cell_type": "code",
   "execution_count": 73,
   "metadata": {},
   "outputs": [],
   "source": [
    "df.PR = df.PR.astype(float)\n",
    "df.CL = df.CL.astype(float)"
   ]
  },
  {
   "cell_type": "code",
   "execution_count": 74,
   "metadata": {},
   "outputs": [],
   "source": [
    "df.loc[:, 'spatial electoral'] = df.loc[:, 'spatial electoral'].str.replace(',', '.').astype('float')"
   ]
  },
  {
   "cell_type": "code",
   "execution_count": 118,
   "metadata": {},
   "outputs": [
    {
     "output_type": "execute_result",
     "data": {
      "text/plain": [
       "True"
      ]
     },
     "metadata": {},
     "execution_count": 118
    }
   ],
   "source": [
    "df.dtypes.map(list(df.dtypes) == np.dtype('int') | list(df.dtypes) == np.dtype('float'))"
   ]
  },
  {
   "cell_type": "code",
   "execution_count": 75,
   "metadata": {},
   "outputs": [],
   "source": [
    "df = df.drop(['election month, year'], axis=1)"
   ]
  },
  {
   "cell_type": "code",
   "execution_count": 3,
   "metadata": {},
   "outputs": [],
   "source": [
    "df = pd.read_csv('./raw_data/small_master.csv')"
   ]
  },
  {
   "cell_type": "code",
   "execution_count": 77,
   "metadata": {},
   "outputs": [
    {
     "output_type": "execute_result",
     "data": {
      "text/plain": [
       "(2807, 36)"
      ]
     },
     "metadata": {},
     "execution_count": 77
    }
   ],
   "source": [
    "df.shape"
   ]
  },
  {
   "cell_type": "code",
   "execution_count": 10,
   "metadata": {},
   "outputs": [],
   "source": [
    "df = df.drop(['Unnamed: 0', 'Unnamed: 0.1'], axis=1)"
   ]
  },
  {
   "cell_type": "code",
   "execution_count": 81,
   "metadata": {},
   "outputs": [
    {
     "output_type": "execute_result",
     "data": {
      "text/plain": [
       "year\n",
       "2006    173\n",
       "2007    173\n",
       "2008    174\n",
       "2009    175\n",
       "2010    176\n",
       "2011    176\n",
       "2012    175\n",
       "2013    175\n",
       "2014    175\n",
       "2015    175\n",
       "2016    174\n",
       "2017    174\n",
       "2018    174\n",
       "2019    168\n",
       "2020      0\n",
       "Name: gdp, dtype: int64"
      ]
     },
     "metadata": {},
     "execution_count": 81
    }
   ],
   "source": [
    "df.groupby(['year']).gdp.count()"
   ]
  },
  {
   "cell_type": "code",
   "execution_count": 21,
   "metadata": {},
   "outputs": [
    {
     "output_type": "execute_result",
     "data": {
      "text/plain": [
       "                  country  year   PR   CL Status  DD regime  \\\n",
       "12            afghanistan  2018  5.0  6.0     NF        3.0   \n",
       "27                albania  2018  3.0  3.0     PF        0.0   \n",
       "42                algeria  2018  6.0  5.0     NF        3.0   \n",
       "57                 angola  2018  6.0  5.0     NF        3.0   \n",
       "72    antigua and barbuda  2018  2.0  2.0      F        0.0   \n",
       "...                   ...   ...  ...  ...    ...        ...   \n",
       "2703            venezuela  2018  7.0  6.0     NF        3.0   \n",
       "2718              vietnam  2018  7.0  5.0     NF        3.0   \n",
       "2733                yemen  2018  7.0  6.0     NF        4.0   \n",
       "2748               zambia  2018  4.0  4.0     PF        2.0   \n",
       "2763             zimbabwe  2018  5.0  5.0     PF        4.0   \n",
       "\n",
       "                  DD category  Monarchy  Commonwealth  Democracy  ...  \\\n",
       "12      Civilian dictatorship       0.0           0.0        0.0  ...   \n",
       "27    Parliamentary democracy       0.0           0.0        1.0  ...   \n",
       "42      Civilian dictatorship       0.0           0.0        0.0  ...   \n",
       "57      Civilian dictatorship       0.0           0.0        0.0  ...   \n",
       "72    Parliamentary democracy       1.0           1.0        1.0  ...   \n",
       "...                       ...       ...           ...        ...  ...   \n",
       "2703    Civilian dictatorship       0.0           0.0        0.0  ...   \n",
       "2718    Civilian dictatorship       0.0           0.0        0.0  ...   \n",
       "2733    Military dictatorship       0.0           0.0        0.0  ...   \n",
       "2748   Presidential democracy       0.0           1.0        1.0  ...   \n",
       "2763    Military dictatorship       0.0           0.0        0.0  ...   \n",
       "\n",
       "      New constitution fullsuffrage  electoral  spatial electoral  \\\n",
       "12                 0.0          1.0        2.0           2.000000   \n",
       "27                 0.0          1.0        3.0           2.800000   \n",
       "42                 0.0          1.0        2.0           2.500000   \n",
       "57                 0.0          1.0        2.0           2.250000   \n",
       "72                 0.0          1.0        3.0           3.000000   \n",
       "...                ...          ...        ...                ...   \n",
       "2703               0.0          1.0        1.0           3.000000   \n",
       "2718               0.0          1.0        1.0           1.000000   \n",
       "2733               0.0          1.0        0.0           1.333333   \n",
       "2748               0.0          1.0        3.0           2.285714   \n",
       "2763               0.0          1.0        2.0           2.500000   \n",
       "\n",
       "      alternation  multiparty  free and fair election  \\\n",
       "12            0.0         1.0                     0.0   \n",
       "27            1.0         1.0                     1.0   \n",
       "42            0.0         1.0                     0.0   \n",
       "57            0.0         1.0                     1.0   \n",
       "72            1.0         1.0                     1.0   \n",
       "...           ...         ...                     ...   \n",
       "2703          0.0         0.0                     0.0   \n",
       "2718          0.0         0.0                     0.0   \n",
       "2733          0.0         0.0                     0.0   \n",
       "2748          1.0         1.0                     1.0   \n",
       "2763          0.0         1.0                     0.0   \n",
       "\n",
       "      parliamentary election year  postponed election gdp  \n",
       "12                            0.0                 0.0 NaN  \n",
       "27                            0.0                 0.0 NaN  \n",
       "42                            0.0                 0.0 NaN  \n",
       "57                            1.0                 0.0 NaN  \n",
       "72                            1.0                 0.0 NaN  \n",
       "...                           ...                 ...  ..  \n",
       "2703                          0.0                 0.0 NaN  \n",
       "2718                          0.0                 0.0 NaN  \n",
       "2733                          0.0                 0.0 NaN  \n",
       "2748                          0.0                 0.0 NaN  \n",
       "2763                          0.0                 0.0 NaN  \n",
       "\n",
       "[179 rows x 36 columns]"
      ],
      "text/html": "<div>\n<style scoped>\n    .dataframe tbody tr th:only-of-type {\n        vertical-align: middle;\n    }\n\n    .dataframe tbody tr th {\n        vertical-align: top;\n    }\n\n    .dataframe thead th {\n        text-align: right;\n    }\n</style>\n<table border=\"1\" class=\"dataframe\">\n  <thead>\n    <tr style=\"text-align: right;\">\n      <th></th>\n      <th>country</th>\n      <th>year</th>\n      <th>PR</th>\n      <th>CL</th>\n      <th>Status</th>\n      <th>DD regime</th>\n      <th>DD category</th>\n      <th>Monarchy</th>\n      <th>Commonwealth</th>\n      <th>Democracy</th>\n      <th>...</th>\n      <th>New constitution</th>\n      <th>fullsuffrage</th>\n      <th>electoral</th>\n      <th>spatial electoral</th>\n      <th>alternation</th>\n      <th>multiparty</th>\n      <th>free and fair election</th>\n      <th>parliamentary election year</th>\n      <th>postponed election</th>\n      <th>gdp</th>\n    </tr>\n  </thead>\n  <tbody>\n    <tr>\n      <th>12</th>\n      <td>afghanistan</td>\n      <td>2018</td>\n      <td>5.0</td>\n      <td>6.0</td>\n      <td>NF</td>\n      <td>3.0</td>\n      <td>Civilian dictatorship</td>\n      <td>0.0</td>\n      <td>0.0</td>\n      <td>0.0</td>\n      <td>...</td>\n      <td>0.0</td>\n      <td>1.0</td>\n      <td>2.0</td>\n      <td>2.000000</td>\n      <td>0.0</td>\n      <td>1.0</td>\n      <td>0.0</td>\n      <td>0.0</td>\n      <td>0.0</td>\n      <td>NaN</td>\n    </tr>\n    <tr>\n      <th>27</th>\n      <td>albania</td>\n      <td>2018</td>\n      <td>3.0</td>\n      <td>3.0</td>\n      <td>PF</td>\n      <td>0.0</td>\n      <td>Parliamentary democracy</td>\n      <td>0.0</td>\n      <td>0.0</td>\n      <td>1.0</td>\n      <td>...</td>\n      <td>0.0</td>\n      <td>1.0</td>\n      <td>3.0</td>\n      <td>2.800000</td>\n      <td>1.0</td>\n      <td>1.0</td>\n      <td>1.0</td>\n      <td>0.0</td>\n      <td>0.0</td>\n      <td>NaN</td>\n    </tr>\n    <tr>\n      <th>42</th>\n      <td>algeria</td>\n      <td>2018</td>\n      <td>6.0</td>\n      <td>5.0</td>\n      <td>NF</td>\n      <td>3.0</td>\n      <td>Civilian dictatorship</td>\n      <td>0.0</td>\n      <td>0.0</td>\n      <td>0.0</td>\n      <td>...</td>\n      <td>0.0</td>\n      <td>1.0</td>\n      <td>2.0</td>\n      <td>2.500000</td>\n      <td>0.0</td>\n      <td>1.0</td>\n      <td>0.0</td>\n      <td>0.0</td>\n      <td>0.0</td>\n      <td>NaN</td>\n    </tr>\n    <tr>\n      <th>57</th>\n      <td>angola</td>\n      <td>2018</td>\n      <td>6.0</td>\n      <td>5.0</td>\n      <td>NF</td>\n      <td>3.0</td>\n      <td>Civilian dictatorship</td>\n      <td>0.0</td>\n      <td>0.0</td>\n      <td>0.0</td>\n      <td>...</td>\n      <td>0.0</td>\n      <td>1.0</td>\n      <td>2.0</td>\n      <td>2.250000</td>\n      <td>0.0</td>\n      <td>1.0</td>\n      <td>1.0</td>\n      <td>1.0</td>\n      <td>0.0</td>\n      <td>NaN</td>\n    </tr>\n    <tr>\n      <th>72</th>\n      <td>antigua and barbuda</td>\n      <td>2018</td>\n      <td>2.0</td>\n      <td>2.0</td>\n      <td>F</td>\n      <td>0.0</td>\n      <td>Parliamentary democracy</td>\n      <td>1.0</td>\n      <td>1.0</td>\n      <td>1.0</td>\n      <td>...</td>\n      <td>0.0</td>\n      <td>1.0</td>\n      <td>3.0</td>\n      <td>3.000000</td>\n      <td>1.0</td>\n      <td>1.0</td>\n      <td>1.0</td>\n      <td>1.0</td>\n      <td>0.0</td>\n      <td>NaN</td>\n    </tr>\n    <tr>\n      <th>...</th>\n      <td>...</td>\n      <td>...</td>\n      <td>...</td>\n      <td>...</td>\n      <td>...</td>\n      <td>...</td>\n      <td>...</td>\n      <td>...</td>\n      <td>...</td>\n      <td>...</td>\n      <td>...</td>\n      <td>...</td>\n      <td>...</td>\n      <td>...</td>\n      <td>...</td>\n      <td>...</td>\n      <td>...</td>\n      <td>...</td>\n      <td>...</td>\n      <td>...</td>\n      <td>...</td>\n    </tr>\n    <tr>\n      <th>2703</th>\n      <td>venezuela</td>\n      <td>2018</td>\n      <td>7.0</td>\n      <td>6.0</td>\n      <td>NF</td>\n      <td>3.0</td>\n      <td>Civilian dictatorship</td>\n      <td>0.0</td>\n      <td>0.0</td>\n      <td>0.0</td>\n      <td>...</td>\n      <td>0.0</td>\n      <td>1.0</td>\n      <td>1.0</td>\n      <td>3.000000</td>\n      <td>0.0</td>\n      <td>0.0</td>\n      <td>0.0</td>\n      <td>0.0</td>\n      <td>0.0</td>\n      <td>NaN</td>\n    </tr>\n    <tr>\n      <th>2718</th>\n      <td>vietnam</td>\n      <td>2018</td>\n      <td>7.0</td>\n      <td>5.0</td>\n      <td>NF</td>\n      <td>3.0</td>\n      <td>Civilian dictatorship</td>\n      <td>0.0</td>\n      <td>0.0</td>\n      <td>0.0</td>\n      <td>...</td>\n      <td>0.0</td>\n      <td>1.0</td>\n      <td>1.0</td>\n      <td>1.000000</td>\n      <td>0.0</td>\n      <td>0.0</td>\n      <td>0.0</td>\n      <td>0.0</td>\n      <td>0.0</td>\n      <td>NaN</td>\n    </tr>\n    <tr>\n      <th>2733</th>\n      <td>yemen</td>\n      <td>2018</td>\n      <td>7.0</td>\n      <td>6.0</td>\n      <td>NF</td>\n      <td>4.0</td>\n      <td>Military dictatorship</td>\n      <td>0.0</td>\n      <td>0.0</td>\n      <td>0.0</td>\n      <td>...</td>\n      <td>0.0</td>\n      <td>1.0</td>\n      <td>0.0</td>\n      <td>1.333333</td>\n      <td>0.0</td>\n      <td>0.0</td>\n      <td>0.0</td>\n      <td>0.0</td>\n      <td>0.0</td>\n      <td>NaN</td>\n    </tr>\n    <tr>\n      <th>2748</th>\n      <td>zambia</td>\n      <td>2018</td>\n      <td>4.0</td>\n      <td>4.0</td>\n      <td>PF</td>\n      <td>2.0</td>\n      <td>Presidential democracy</td>\n      <td>0.0</td>\n      <td>1.0</td>\n      <td>1.0</td>\n      <td>...</td>\n      <td>0.0</td>\n      <td>1.0</td>\n      <td>3.0</td>\n      <td>2.285714</td>\n      <td>1.0</td>\n      <td>1.0</td>\n      <td>1.0</td>\n      <td>0.0</td>\n      <td>0.0</td>\n      <td>NaN</td>\n    </tr>\n    <tr>\n      <th>2763</th>\n      <td>zimbabwe</td>\n      <td>2018</td>\n      <td>5.0</td>\n      <td>5.0</td>\n      <td>PF</td>\n      <td>4.0</td>\n      <td>Military dictatorship</td>\n      <td>0.0</td>\n      <td>0.0</td>\n      <td>0.0</td>\n      <td>...</td>\n      <td>0.0</td>\n      <td>1.0</td>\n      <td>2.0</td>\n      <td>2.500000</td>\n      <td>0.0</td>\n      <td>1.0</td>\n      <td>0.0</td>\n      <td>0.0</td>\n      <td>0.0</td>\n      <td>NaN</td>\n    </tr>\n  </tbody>\n</table>\n<p>179 rows × 36 columns</p>\n</div>"
     },
     "metadata": {},
     "execution_count": 21
    }
   ],
   "source": [
    "df[df.year == 2018]"
   ]
  },
  {
   "cell_type": "code",
   "execution_count": 79,
   "metadata": {},
   "outputs": [
    {
     "output_type": "execute_result",
     "data": {
      "text/plain": [
       "      year              country\n",
       "47    2020          afghanistan\n",
       "95    2020              albania\n",
       "143   2020              algeria\n",
       "239   2020               angola\n",
       "287   2020  antigua and barbuda\n",
       "...    ...                  ...\n",
       "9597  2018                yemen\n",
       "9598  2019                yemen\n",
       "9599  2020                yemen\n",
       "9791  2020               zambia\n",
       "9839  2020             zimbabwe\n",
       "\n",
       "[370 rows x 2 columns]"
      ],
      "text/html": "<div>\n<style scoped>\n    .dataframe tbody tr th:only-of-type {\n        vertical-align: middle;\n    }\n\n    .dataframe tbody tr th {\n        vertical-align: top;\n    }\n\n    .dataframe thead th {\n        text-align: right;\n    }\n</style>\n<table border=\"1\" class=\"dataframe\">\n  <thead>\n    <tr style=\"text-align: right;\">\n      <th></th>\n      <th>year</th>\n      <th>country</th>\n    </tr>\n  </thead>\n  <tbody>\n    <tr>\n      <th>47</th>\n      <td>2020</td>\n      <td>afghanistan</td>\n    </tr>\n    <tr>\n      <th>95</th>\n      <td>2020</td>\n      <td>albania</td>\n    </tr>\n    <tr>\n      <th>143</th>\n      <td>2020</td>\n      <td>algeria</td>\n    </tr>\n    <tr>\n      <th>239</th>\n      <td>2020</td>\n      <td>angola</td>\n    </tr>\n    <tr>\n      <th>287</th>\n      <td>2020</td>\n      <td>antigua and barbuda</td>\n    </tr>\n    <tr>\n      <th>...</th>\n      <td>...</td>\n      <td>...</td>\n    </tr>\n    <tr>\n      <th>9597</th>\n      <td>2018</td>\n      <td>yemen</td>\n    </tr>\n    <tr>\n      <th>9598</th>\n      <td>2019</td>\n      <td>yemen</td>\n    </tr>\n    <tr>\n      <th>9599</th>\n      <td>2020</td>\n      <td>yemen</td>\n    </tr>\n    <tr>\n      <th>9791</th>\n      <td>2020</td>\n      <td>zambia</td>\n    </tr>\n    <tr>\n      <th>9839</th>\n      <td>2020</td>\n      <td>zimbabwe</td>\n    </tr>\n  </tbody>\n</table>\n<p>370 rows × 2 columns</p>\n</div>"
     },
     "metadata": {},
     "execution_count": 79
    }
   ],
   "source": [
    "df.loc[:, ['year', 'country']][df.gdp.isna()]"
   ]
  },
  {
   "cell_type": "code",
   "execution_count": null,
   "metadata": {},
   "outputs": [],
   "source": []
  }
 ]
}