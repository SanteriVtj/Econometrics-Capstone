{
 "metadata": {
  "language_info": {
   "codemirror_mode": {
    "name": "ipython",
    "version": 3
   },
   "file_extension": ".py",
   "mimetype": "text/x-python",
   "name": "python",
   "nbconvert_exporter": "python",
   "pygments_lexer": "ipython3",
   "version": "3.8.5-final"
  },
  "orig_nbformat": 2,
  "kernelspec": {
   "name": "python385jvsc74a57bd0fac54e6b642c37966e43cdb643d32d1f4e4fa0317cda1cf8b922991f41f52fc4",
   "display_name": "Python 3.8.5 64-bit ('cap_venv')"
  }
 },
 "nbformat": 4,
 "nbformat_minor": 2,
 "cells": [
  {
   "cell_type": "code",
   "execution_count": 1,
   "metadata": {},
   "outputs": [],
   "source": [
    "import pandas as pd\n",
    "import numpy as np\n",
    "from functools import reduce\n",
    "import wbdata"
   ]
  },
  {
   "cell_type": "code",
   "execution_count": 17,
   "metadata": {},
   "outputs": [],
   "source": [
    "def c_names_as_index(df, cn):\n",
    "    df.index = df.loc[:, cn].apply(lambda x: x.lower())\n",
    "    df.drop([cn], axis=1, inplace=True)\n",
    "    return df"
   ]
  },
  {
   "cell_type": "code",
   "execution_count": 81,
   "metadata": {},
   "outputs": [],
   "source": [
    "rep_map = {\n",
    "    '2(5)': np.nan,\n",
    "    'nan': np.nan,\n",
    "    '3(6)': np.nan\n",
    "}"
   ]
  },
  {
   "cell_type": "code",
   "execution_count": 9,
   "metadata": {},
   "outputs": [],
   "source": [
    "freedom_house13_21 = c_names_as_index(pd.read_csv('./raw_data/All_data_FIW_2013-2021.csv', sep=';', skiprows=1), 'Country/Territory')"
   ]
  },
  {
   "cell_type": "code",
   "execution_count": 39,
   "metadata": {},
   "outputs": [
    {
     "output_type": "execute_result",
     "data": {
      "text/plain": [
       "                    Region C/T  Edition Status  PR rating  CL rating  A1  A2  \\\n",
       "Country/Territory                                                              \n",
       "abkhazia           Eurasia   t     2021     PF          5          5   2   2   \n",
       "afghanistan           Asia   c     2021     NF          5          6   1   1   \n",
       "albania             Europe   c     2021     PF          3          3   3   3   \n",
       "algeria               MENA   c     2021     NF          6          5   1   1   \n",
       "andorra             Europe   c     2021      F          1          1   4   4   \n",
       "\n",
       "                   A3   A  ...  F3  F4   F  G1  G2  G3  G4   G  CL  Total  \n",
       "Country/Territory          ...                                             \n",
       "abkhazia            1   5  ...   1   1   4   1   1   2   1   5  23     40  \n",
       "afghanistan         1   3  ...   0   1   2   0   1   0   1   2  14     27  \n",
       "albania             2   8  ...   2   3   9   3   2   2   2   9  39     66  \n",
       "algeria             1   3  ...   2   2   6   2   2   2   1   7  22     32  \n",
       "andorra             4  12  ...   4   3  15   4   4   3   4  15  55     93  \n",
       "\n",
       "[5 rows x 43 columns]"
      ],
      "text/html": "<div>\n<style scoped>\n    .dataframe tbody tr th:only-of-type {\n        vertical-align: middle;\n    }\n\n    .dataframe tbody tr th {\n        vertical-align: top;\n    }\n\n    .dataframe thead th {\n        text-align: right;\n    }\n</style>\n<table border=\"1\" class=\"dataframe\">\n  <thead>\n    <tr style=\"text-align: right;\">\n      <th></th>\n      <th>Region</th>\n      <th>C/T</th>\n      <th>Edition</th>\n      <th>Status</th>\n      <th>PR rating</th>\n      <th>CL rating</th>\n      <th>A1</th>\n      <th>A2</th>\n      <th>A3</th>\n      <th>A</th>\n      <th>...</th>\n      <th>F3</th>\n      <th>F4</th>\n      <th>F</th>\n      <th>G1</th>\n      <th>G2</th>\n      <th>G3</th>\n      <th>G4</th>\n      <th>G</th>\n      <th>CL</th>\n      <th>Total</th>\n    </tr>\n    <tr>\n      <th>Country/Territory</th>\n      <th></th>\n      <th></th>\n      <th></th>\n      <th></th>\n      <th></th>\n      <th></th>\n      <th></th>\n      <th></th>\n      <th></th>\n      <th></th>\n      <th></th>\n      <th></th>\n      <th></th>\n      <th></th>\n      <th></th>\n      <th></th>\n      <th></th>\n      <th></th>\n      <th></th>\n      <th></th>\n      <th></th>\n    </tr>\n  </thead>\n  <tbody>\n    <tr>\n      <th>abkhazia</th>\n      <td>Eurasia</td>\n      <td>t</td>\n      <td>2021</td>\n      <td>PF</td>\n      <td>5</td>\n      <td>5</td>\n      <td>2</td>\n      <td>2</td>\n      <td>1</td>\n      <td>5</td>\n      <td>...</td>\n      <td>1</td>\n      <td>1</td>\n      <td>4</td>\n      <td>1</td>\n      <td>1</td>\n      <td>2</td>\n      <td>1</td>\n      <td>5</td>\n      <td>23</td>\n      <td>40</td>\n    </tr>\n    <tr>\n      <th>afghanistan</th>\n      <td>Asia</td>\n      <td>c</td>\n      <td>2021</td>\n      <td>NF</td>\n      <td>5</td>\n      <td>6</td>\n      <td>1</td>\n      <td>1</td>\n      <td>1</td>\n      <td>3</td>\n      <td>...</td>\n      <td>0</td>\n      <td>1</td>\n      <td>2</td>\n      <td>0</td>\n      <td>1</td>\n      <td>0</td>\n      <td>1</td>\n      <td>2</td>\n      <td>14</td>\n      <td>27</td>\n    </tr>\n    <tr>\n      <th>albania</th>\n      <td>Europe</td>\n      <td>c</td>\n      <td>2021</td>\n      <td>PF</td>\n      <td>3</td>\n      <td>3</td>\n      <td>3</td>\n      <td>3</td>\n      <td>2</td>\n      <td>8</td>\n      <td>...</td>\n      <td>2</td>\n      <td>3</td>\n      <td>9</td>\n      <td>3</td>\n      <td>2</td>\n      <td>2</td>\n      <td>2</td>\n      <td>9</td>\n      <td>39</td>\n      <td>66</td>\n    </tr>\n    <tr>\n      <th>algeria</th>\n      <td>MENA</td>\n      <td>c</td>\n      <td>2021</td>\n      <td>NF</td>\n      <td>6</td>\n      <td>5</td>\n      <td>1</td>\n      <td>1</td>\n      <td>1</td>\n      <td>3</td>\n      <td>...</td>\n      <td>2</td>\n      <td>2</td>\n      <td>6</td>\n      <td>2</td>\n      <td>2</td>\n      <td>2</td>\n      <td>1</td>\n      <td>7</td>\n      <td>22</td>\n      <td>32</td>\n    </tr>\n    <tr>\n      <th>andorra</th>\n      <td>Europe</td>\n      <td>c</td>\n      <td>2021</td>\n      <td>F</td>\n      <td>1</td>\n      <td>1</td>\n      <td>4</td>\n      <td>4</td>\n      <td>4</td>\n      <td>12</td>\n      <td>...</td>\n      <td>4</td>\n      <td>3</td>\n      <td>15</td>\n      <td>4</td>\n      <td>4</td>\n      <td>3</td>\n      <td>4</td>\n      <td>15</td>\n      <td>55</td>\n      <td>93</td>\n    </tr>\n  </tbody>\n</table>\n<p>5 rows × 43 columns</p>\n</div>"
     },
     "metadata": {},
     "execution_count": 39
    }
   ],
   "source": [
    "freedom_house13_21.head()"
   ]
  },
  {
   "cell_type": "code",
   "execution_count": 18,
   "metadata": {},
   "outputs": [],
   "source": [
    "freedom_house73_21_ctr = pd.read_csv('./raw_data/Country_and_Territory_Ratings_and_Statuses_FIW1973-2021.csv', sep=';')"
   ]
  },
  {
   "cell_type": "code",
   "execution_count": 19,
   "metadata": {},
   "outputs": [],
   "source": [
    "freedom_house73_21_ctr.iloc[0,0] = np.nan\n",
    "freedom_house73_21_ctr.iloc[0].replace(np.nan, None, inplace=True)\n",
    "freedom_house73_21_ctr.columns = pd.MultiIndex.from_tuples(list(zip(freedom_house73_21_ctr.iloc[0], freedom_house73_21_ctr.iloc[1])))\n",
    "freedom_house73_21_ctr.drop([0,1], inplace=True)\n",
    "freedom_house73_21_ctr = freedom_house73_21_ctr[freedom_house73_21_ctr.iloc[:, 0].notna()]\n",
    "freedom_house73_21_ctr.index = freedom_house73_21_ctr.loc[:, freedom_house73_21_ctr.columns[0]].apply(lambda x: x.lower())\n",
    "freedom_house73_21_ctr.drop(freedom_house73_21_ctr.columns[0], axis=1, inplace=True)\n",
    "freedom_house73_21_ctr = freedom_house73_21_ctr.replace('-', np.nan)"
   ]
  },
  {
   "cell_type": "code",
   "execution_count": 20,
   "metadata": {
    "tags": []
   },
   "outputs": [],
   "source": [
    "y_list = [int(i.split('.')[-1].strip()) for i in freedom_house73_21_ctr.columns.get_level_values(0).unique()]\n",
    "_df = pd.DataFrame(columns=[i.strip() for i in list(freedom_house73_21_ctr.columns.get_level_values(1)[:3])], index=pd.MultiIndex.from_tuples(list(zip(np.repeat(freedom_house73_21_ctr.index, len(y_list)), y_list * len(y_list)))))\n",
    "for i in freedom_house73_21_ctr.index:\n",
    "    for j in freedom_house73_21_ctr.columns.get_level_values(0).unique():\n",
    "        _df.loc[(i, int(j.split('.')[-1].strip())), :] = [*list(freedom_house73_21_ctr.loc[i, j])]\n",
    "freedom_house73_21_ctr = _df\n",
    "freedom_house73_21_ctr.index.names = ['country', 'year']"
   ]
  },
  {
   "cell_type": "code",
   "execution_count": 122,
   "metadata": {},
   "outputs": [],
   "source": [
    "#freedom_house73_21_ctr.iloc[:, :-1] = freedom_house73_21_ctr.iloc[:, :-1].replace(rep_map)\n",
    "#freedom_house73_21_ctr.iloc[:, :-1] = freedom_house73_21_ctr.iloc[:, :-1].apply(pd.to_numeric, errors='coerce')"
   ]
  },
  {
   "cell_type": "code",
   "execution_count": 121,
   "metadata": {},
   "outputs": [
    {
     "output_type": "execute_result",
     "data": {
      "text/plain": [
       "                 PR CL Status\n",
       "country     year             \n",
       "afghanistan 1972  4  5     PF\n",
       "            1973  7  6     NF\n",
       "            1974  7  6     NF\n",
       "            1975  7  6     NF\n",
       "            1976  7  6     NF"
      ],
      "text/html": "<div>\n<style scoped>\n    .dataframe tbody tr th:only-of-type {\n        vertical-align: middle;\n    }\n\n    .dataframe tbody tr th {\n        vertical-align: top;\n    }\n\n    .dataframe thead th {\n        text-align: right;\n    }\n</style>\n<table border=\"1\" class=\"dataframe\">\n  <thead>\n    <tr style=\"text-align: right;\">\n      <th></th>\n      <th></th>\n      <th>PR</th>\n      <th>CL</th>\n      <th>Status</th>\n    </tr>\n    <tr>\n      <th>country</th>\n      <th>year</th>\n      <th></th>\n      <th></th>\n      <th></th>\n    </tr>\n  </thead>\n  <tbody>\n    <tr>\n      <th rowspan=\"5\" valign=\"top\">afghanistan</th>\n      <th>1972</th>\n      <td>4</td>\n      <td>5</td>\n      <td>PF</td>\n    </tr>\n    <tr>\n      <th>1973</th>\n      <td>7</td>\n      <td>6</td>\n      <td>NF</td>\n    </tr>\n    <tr>\n      <th>1974</th>\n      <td>7</td>\n      <td>6</td>\n      <td>NF</td>\n    </tr>\n    <tr>\n      <th>1975</th>\n      <td>7</td>\n      <td>6</td>\n      <td>NF</td>\n    </tr>\n    <tr>\n      <th>1976</th>\n      <td>7</td>\n      <td>6</td>\n      <td>NF</td>\n    </tr>\n  </tbody>\n</table>\n</div>"
     },
     "metadata": {},
     "execution_count": 121
    }
   ],
   "source": [
    "freedom_house73_21_ctr.head()"
   ]
  },
  {
   "cell_type": "code",
   "execution_count": 127,
   "metadata": {},
   "outputs": [
    {
     "output_type": "execute_result",
     "data": {
      "text/plain": [
       "                   PR   CL\n",
       "country     year          \n",
       "afghanistan 1972  4.0  5.0\n",
       "            1973  7.0  6.0\n",
       "            1974  7.0  6.0\n",
       "            1975  7.0  6.0\n",
       "            1976  7.0  6.0\n",
       "...               ...  ...\n",
       "zimbabwe    2016  5.0  5.0\n",
       "            2017  6.0  5.0\n",
       "            2018  5.0  5.0\n",
       "            2019  5.0  5.0\n",
       "            2020  6.0  5.0\n",
       "\n",
       "[9840 rows x 2 columns]"
      ],
      "text/html": "<div>\n<style scoped>\n    .dataframe tbody tr th:only-of-type {\n        vertical-align: middle;\n    }\n\n    .dataframe tbody tr th {\n        vertical-align: top;\n    }\n\n    .dataframe thead th {\n        text-align: right;\n    }\n</style>\n<table border=\"1\" class=\"dataframe\">\n  <thead>\n    <tr style=\"text-align: right;\">\n      <th></th>\n      <th></th>\n      <th>PR</th>\n      <th>CL</th>\n    </tr>\n    <tr>\n      <th>country</th>\n      <th>year</th>\n      <th></th>\n      <th></th>\n    </tr>\n  </thead>\n  <tbody>\n    <tr>\n      <th rowspan=\"5\" valign=\"top\">afghanistan</th>\n      <th>1972</th>\n      <td>4.0</td>\n      <td>5.0</td>\n    </tr>\n    <tr>\n      <th>1973</th>\n      <td>7.0</td>\n      <td>6.0</td>\n    </tr>\n    <tr>\n      <th>1974</th>\n      <td>7.0</td>\n      <td>6.0</td>\n    </tr>\n    <tr>\n      <th>1975</th>\n      <td>7.0</td>\n      <td>6.0</td>\n    </tr>\n    <tr>\n      <th>1976</th>\n      <td>7.0</td>\n      <td>6.0</td>\n    </tr>\n    <tr>\n      <th>...</th>\n      <th>...</th>\n      <td>...</td>\n      <td>...</td>\n    </tr>\n    <tr>\n      <th rowspan=\"5\" valign=\"top\">zimbabwe</th>\n      <th>2016</th>\n      <td>5.0</td>\n      <td>5.0</td>\n    </tr>\n    <tr>\n      <th>2017</th>\n      <td>6.0</td>\n      <td>5.0</td>\n    </tr>\n    <tr>\n      <th>2018</th>\n      <td>5.0</td>\n      <td>5.0</td>\n    </tr>\n    <tr>\n      <th>2019</th>\n      <td>5.0</td>\n      <td>5.0</td>\n    </tr>\n    <tr>\n      <th>2020</th>\n      <td>6.0</td>\n      <td>5.0</td>\n    </tr>\n  </tbody>\n</table>\n<p>9840 rows × 2 columns</p>\n</div>"
     },
     "metadata": {},
     "execution_count": 127
    }
   ],
   "source": [
    "freedom_house73_21_ctr.iloc[:, :-1].apply(pd.to_numeric, errors='coerce')"
   ]
  },
  {
   "cell_type": "code",
   "execution_count": 116,
   "metadata": {},
   "outputs": [],
   "source": [
    "freedom_house73_21_hd = pd.read_csv('./raw_data/Country_and_Territory_Ratings_and_Statuses_FIW1973-2021_hd.csv', sep=';')"
   ]
  },
  {
   "cell_type": "code",
   "execution_count": 45,
   "metadata": {},
   "outputs": [
    {
     "output_type": "execute_result",
     "data": {
      "text/plain": [
       "  FIW Survey Edition* Year(s) Under Review**  Total Countries  \\\n",
       "0                2021                   2020            195.0   \n",
       "1                2020                   2019            195.0   \n",
       "2                2019                   2018            195.0   \n",
       "3                2018                   2017            195.0   \n",
       "4                2017                   2016            195.0   \n",
       "\n",
       "   Number of F Countries % of F Countries  Number of PF Countries  \\\n",
       "0                   82.0          42,05 %                    59.0   \n",
       "1                   83.0          42,56 %                    63.0   \n",
       "2                   86.0          44,10 %                    59.0   \n",
       "3                   88.0          45,13 %                    58.0   \n",
       "4                   87.0          44,62 %                    59.0   \n",
       "\n",
       "  % of PF Countries  Number of NF Countries % of NF Countries  Unnamed: 9  \\\n",
       "0           30,26 %                    54.0           27,69 %         NaN   \n",
       "1           32,31 %                    49.0           25,13 %         NaN   \n",
       "2           30,26 %                    50.0           25,64 %         NaN   \n",
       "3           29,74 %                    49.0           25,13 %         NaN   \n",
       "4           30,26 %                    49.0           25,13 %         NaN   \n",
       "\n",
       "   ...  Unnamed: 12  Unnamed: 13  Unnamed: 14  Unnamed: 15  Unnamed: 16  \\\n",
       "0  ...          NaN          NaN          NaN          NaN          NaN   \n",
       "1  ...          NaN          NaN          NaN          NaN          NaN   \n",
       "2  ...          NaN          NaN          NaN          NaN          NaN   \n",
       "3  ...          NaN          NaN          NaN          NaN          NaN   \n",
       "4  ...          NaN          NaN          NaN          NaN          NaN   \n",
       "\n",
       "   Unnamed: 17  Unnamed: 18  Unnamed: 19  Unnamed: 20  Unnamed: 21  \n",
       "0          NaN          NaN          NaN          NaN          NaN  \n",
       "1          NaN          NaN          NaN          NaN          NaN  \n",
       "2          NaN          NaN          NaN          NaN         True  \n",
       "3          NaN          NaN          NaN          NaN         True  \n",
       "4          NaN          NaN          NaN          NaN         True  \n",
       "\n",
       "[5 rows x 22 columns]"
      ],
      "text/html": "<div>\n<style scoped>\n    .dataframe tbody tr th:only-of-type {\n        vertical-align: middle;\n    }\n\n    .dataframe tbody tr th {\n        vertical-align: top;\n    }\n\n    .dataframe thead th {\n        text-align: right;\n    }\n</style>\n<table border=\"1\" class=\"dataframe\">\n  <thead>\n    <tr style=\"text-align: right;\">\n      <th></th>\n      <th>FIW Survey Edition*</th>\n      <th>Year(s) Under Review**</th>\n      <th>Total Countries</th>\n      <th>Number of F Countries</th>\n      <th>% of F Countries</th>\n      <th>Number of PF Countries</th>\n      <th>% of PF Countries</th>\n      <th>Number of NF Countries</th>\n      <th>% of NF Countries</th>\n      <th>Unnamed: 9</th>\n      <th>...</th>\n      <th>Unnamed: 12</th>\n      <th>Unnamed: 13</th>\n      <th>Unnamed: 14</th>\n      <th>Unnamed: 15</th>\n      <th>Unnamed: 16</th>\n      <th>Unnamed: 17</th>\n      <th>Unnamed: 18</th>\n      <th>Unnamed: 19</th>\n      <th>Unnamed: 20</th>\n      <th>Unnamed: 21</th>\n    </tr>\n  </thead>\n  <tbody>\n    <tr>\n      <th>0</th>\n      <td>2021</td>\n      <td>2020</td>\n      <td>195.0</td>\n      <td>82.0</td>\n      <td>42,05 %</td>\n      <td>59.0</td>\n      <td>30,26 %</td>\n      <td>54.0</td>\n      <td>27,69 %</td>\n      <td>NaN</td>\n      <td>...</td>\n      <td>NaN</td>\n      <td>NaN</td>\n      <td>NaN</td>\n      <td>NaN</td>\n      <td>NaN</td>\n      <td>NaN</td>\n      <td>NaN</td>\n      <td>NaN</td>\n      <td>NaN</td>\n      <td>NaN</td>\n    </tr>\n    <tr>\n      <th>1</th>\n      <td>2020</td>\n      <td>2019</td>\n      <td>195.0</td>\n      <td>83.0</td>\n      <td>42,56 %</td>\n      <td>63.0</td>\n      <td>32,31 %</td>\n      <td>49.0</td>\n      <td>25,13 %</td>\n      <td>NaN</td>\n      <td>...</td>\n      <td>NaN</td>\n      <td>NaN</td>\n      <td>NaN</td>\n      <td>NaN</td>\n      <td>NaN</td>\n      <td>NaN</td>\n      <td>NaN</td>\n      <td>NaN</td>\n      <td>NaN</td>\n      <td>NaN</td>\n    </tr>\n    <tr>\n      <th>2</th>\n      <td>2019</td>\n      <td>2018</td>\n      <td>195.0</td>\n      <td>86.0</td>\n      <td>44,10 %</td>\n      <td>59.0</td>\n      <td>30,26 %</td>\n      <td>50.0</td>\n      <td>25,64 %</td>\n      <td>NaN</td>\n      <td>...</td>\n      <td>NaN</td>\n      <td>NaN</td>\n      <td>NaN</td>\n      <td>NaN</td>\n      <td>NaN</td>\n      <td>NaN</td>\n      <td>NaN</td>\n      <td>NaN</td>\n      <td>NaN</td>\n      <td>True</td>\n    </tr>\n    <tr>\n      <th>3</th>\n      <td>2018</td>\n      <td>2017</td>\n      <td>195.0</td>\n      <td>88.0</td>\n      <td>45,13 %</td>\n      <td>58.0</td>\n      <td>29,74 %</td>\n      <td>49.0</td>\n      <td>25,13 %</td>\n      <td>NaN</td>\n      <td>...</td>\n      <td>NaN</td>\n      <td>NaN</td>\n      <td>NaN</td>\n      <td>NaN</td>\n      <td>NaN</td>\n      <td>NaN</td>\n      <td>NaN</td>\n      <td>NaN</td>\n      <td>NaN</td>\n      <td>True</td>\n    </tr>\n    <tr>\n      <th>4</th>\n      <td>2017</td>\n      <td>2016</td>\n      <td>195.0</td>\n      <td>87.0</td>\n      <td>44,62 %</td>\n      <td>59.0</td>\n      <td>30,26 %</td>\n      <td>49.0</td>\n      <td>25,13 %</td>\n      <td>NaN</td>\n      <td>...</td>\n      <td>NaN</td>\n      <td>NaN</td>\n      <td>NaN</td>\n      <td>NaN</td>\n      <td>NaN</td>\n      <td>NaN</td>\n      <td>NaN</td>\n      <td>NaN</td>\n      <td>NaN</td>\n      <td>True</td>\n    </tr>\n  </tbody>\n</table>\n<p>5 rows × 22 columns</p>\n</div>"
     },
     "metadata": {},
     "execution_count": 45
    }
   ],
   "source": [
    "freedom_house73_21_hd.head()"
   ]
  },
  {
   "cell_type": "code",
   "execution_count": 46,
   "metadata": {},
   "outputs": [],
   "source": [
    "freedom_house_aggregate03_05 = c_names_as_index(pd.read_csv('./raw_data/Aggregate_Category_and_Subcategory_Scores_FIW_2003-2021_a.csv', sep=';', skiprows=1), 'Abkhazia')"
   ]
  },
  {
   "cell_type": "code",
   "execution_count": 47,
   "metadata": {},
   "outputs": [
    {
     "output_type": "execute_result",
     "data": {
      "text/plain": [
       "            Eurasia  t  2021  PF  5  5.1  5.2   8   4  0  ...  Unnamed: 26  \\\n",
       "Abkhazia                                                  ...                \n",
       "afghanistan    Asia  c  2021  NF  5    6    3   7   3  0  ...          NaN   \n",
       "albania      Europe  c  2021  PF  3    3    8  12   7  0  ...          NaN   \n",
       "algeria        MENA  c  2021  NF  6    5    3   4   3  0  ...          NaN   \n",
       "andorra      Europe  c  2021   F  1    1   12  15  11  0  ...          NaN   \n",
       "angola          SSA  c  2021  NF  6    5    3   5   2  0  ...          NaN   \n",
       "\n",
       "             Unnamed: 27  Unnamed: 28  Unnamed: 29  Unnamed: 30  Unnamed: 31  \\\n",
       "Abkhazia                                                                       \n",
       "afghanistan          NaN          NaN          NaN          NaN          NaN   \n",
       "albania              NaN          NaN          NaN          NaN          NaN   \n",
       "algeria              NaN          NaN          NaN          NaN          NaN   \n",
       "andorra              NaN          NaN          NaN          NaN          NaN   \n",
       "angola               NaN          NaN          NaN          NaN          NaN   \n",
       "\n",
       "             Unnamed: 32  Unnamed: 33  Unnamed: 34  Unnamed: 35  \n",
       "Abkhazia                                                         \n",
       "afghanistan          NaN          NaN          NaN          NaN  \n",
       "albania              NaN          NaN          NaN          NaN  \n",
       "algeria              NaN          NaN          NaN          NaN  \n",
       "andorra              NaN          NaN          NaN          NaN  \n",
       "angola               NaN          NaN          NaN          NaN  \n",
       "\n",
       "[5 rows x 35 columns]"
      ],
      "text/html": "<div>\n<style scoped>\n    .dataframe tbody tr th:only-of-type {\n        vertical-align: middle;\n    }\n\n    .dataframe tbody tr th {\n        vertical-align: top;\n    }\n\n    .dataframe thead th {\n        text-align: right;\n    }\n</style>\n<table border=\"1\" class=\"dataframe\">\n  <thead>\n    <tr style=\"text-align: right;\">\n      <th></th>\n      <th>Eurasia</th>\n      <th>t</th>\n      <th>2021</th>\n      <th>PF</th>\n      <th>5</th>\n      <th>5.1</th>\n      <th>5.2</th>\n      <th>8</th>\n      <th>4</th>\n      <th>0</th>\n      <th>...</th>\n      <th>Unnamed: 26</th>\n      <th>Unnamed: 27</th>\n      <th>Unnamed: 28</th>\n      <th>Unnamed: 29</th>\n      <th>Unnamed: 30</th>\n      <th>Unnamed: 31</th>\n      <th>Unnamed: 32</th>\n      <th>Unnamed: 33</th>\n      <th>Unnamed: 34</th>\n      <th>Unnamed: 35</th>\n    </tr>\n    <tr>\n      <th>Abkhazia</th>\n      <th></th>\n      <th></th>\n      <th></th>\n      <th></th>\n      <th></th>\n      <th></th>\n      <th></th>\n      <th></th>\n      <th></th>\n      <th></th>\n      <th></th>\n      <th></th>\n      <th></th>\n      <th></th>\n      <th></th>\n      <th></th>\n      <th></th>\n      <th></th>\n      <th></th>\n      <th></th>\n      <th></th>\n    </tr>\n  </thead>\n  <tbody>\n    <tr>\n      <th>afghanistan</th>\n      <td>Asia</td>\n      <td>c</td>\n      <td>2021</td>\n      <td>NF</td>\n      <td>5</td>\n      <td>6</td>\n      <td>3</td>\n      <td>7</td>\n      <td>3</td>\n      <td>0</td>\n      <td>...</td>\n      <td>NaN</td>\n      <td>NaN</td>\n      <td>NaN</td>\n      <td>NaN</td>\n      <td>NaN</td>\n      <td>NaN</td>\n      <td>NaN</td>\n      <td>NaN</td>\n      <td>NaN</td>\n      <td>NaN</td>\n    </tr>\n    <tr>\n      <th>albania</th>\n      <td>Europe</td>\n      <td>c</td>\n      <td>2021</td>\n      <td>PF</td>\n      <td>3</td>\n      <td>3</td>\n      <td>8</td>\n      <td>12</td>\n      <td>7</td>\n      <td>0</td>\n      <td>...</td>\n      <td>NaN</td>\n      <td>NaN</td>\n      <td>NaN</td>\n      <td>NaN</td>\n      <td>NaN</td>\n      <td>NaN</td>\n      <td>NaN</td>\n      <td>NaN</td>\n      <td>NaN</td>\n      <td>NaN</td>\n    </tr>\n    <tr>\n      <th>algeria</th>\n      <td>MENA</td>\n      <td>c</td>\n      <td>2021</td>\n      <td>NF</td>\n      <td>6</td>\n      <td>5</td>\n      <td>3</td>\n      <td>4</td>\n      <td>3</td>\n      <td>0</td>\n      <td>...</td>\n      <td>NaN</td>\n      <td>NaN</td>\n      <td>NaN</td>\n      <td>NaN</td>\n      <td>NaN</td>\n      <td>NaN</td>\n      <td>NaN</td>\n      <td>NaN</td>\n      <td>NaN</td>\n      <td>NaN</td>\n    </tr>\n    <tr>\n      <th>andorra</th>\n      <td>Europe</td>\n      <td>c</td>\n      <td>2021</td>\n      <td>F</td>\n      <td>1</td>\n      <td>1</td>\n      <td>12</td>\n      <td>15</td>\n      <td>11</td>\n      <td>0</td>\n      <td>...</td>\n      <td>NaN</td>\n      <td>NaN</td>\n      <td>NaN</td>\n      <td>NaN</td>\n      <td>NaN</td>\n      <td>NaN</td>\n      <td>NaN</td>\n      <td>NaN</td>\n      <td>NaN</td>\n      <td>NaN</td>\n    </tr>\n    <tr>\n      <th>angola</th>\n      <td>SSA</td>\n      <td>c</td>\n      <td>2021</td>\n      <td>NF</td>\n      <td>6</td>\n      <td>5</td>\n      <td>3</td>\n      <td>5</td>\n      <td>2</td>\n      <td>0</td>\n      <td>...</td>\n      <td>NaN</td>\n      <td>NaN</td>\n      <td>NaN</td>\n      <td>NaN</td>\n      <td>NaN</td>\n      <td>NaN</td>\n      <td>NaN</td>\n      <td>NaN</td>\n      <td>NaN</td>\n      <td>NaN</td>\n    </tr>\n  </tbody>\n</table>\n<p>5 rows × 35 columns</p>\n</div>"
     },
     "metadata": {},
     "execution_count": 47
    }
   ],
   "source": [
    "freedom_house_aggregate03_05.head()"
   ]
  },
  {
   "cell_type": "code",
   "execution_count": 48,
   "metadata": {},
   "outputs": [],
   "source": [
    "freedom_house_aggregate06_21 = c_names_as_index(pd.read_csv('./raw_data/Aggregate_Category_and_Subcategory_Scores_FIW_2003-2021_b.csv', sep=';', skiprows=1), 'Abkhazia')"
   ]
  },
  {
   "cell_type": "code",
   "execution_count": 49,
   "metadata": {},
   "outputs": [
    {
     "output_type": "execute_result",
     "data": {
      "text/plain": [
       "             t   9 9.1 9.2  20  21 21.1  29  30 30.1\n",
       "Abkhazia                                            \n",
       "afghanistan  c   8   9  13  15  14   14  23  23   27\n",
       "albania      c  26  26  26  42  42   40  68  68   66\n",
       "algeria      c  11  11  10  22  22   25  33  33   35\n",
       "andorra      c  39  39  39  57  58   58  96  97   97\n",
       "angola       c   8   7   8  22  22   22  30  29   30"
      ],
      "text/html": "<div>\n<style scoped>\n    .dataframe tbody tr th:only-of-type {\n        vertical-align: middle;\n    }\n\n    .dataframe tbody tr th {\n        vertical-align: top;\n    }\n\n    .dataframe thead th {\n        text-align: right;\n    }\n</style>\n<table border=\"1\" class=\"dataframe\">\n  <thead>\n    <tr style=\"text-align: right;\">\n      <th></th>\n      <th>t</th>\n      <th>9</th>\n      <th>9.1</th>\n      <th>9.2</th>\n      <th>20</th>\n      <th>21</th>\n      <th>21.1</th>\n      <th>29</th>\n      <th>30</th>\n      <th>30.1</th>\n    </tr>\n    <tr>\n      <th>Abkhazia</th>\n      <th></th>\n      <th></th>\n      <th></th>\n      <th></th>\n      <th></th>\n      <th></th>\n      <th></th>\n      <th></th>\n      <th></th>\n      <th></th>\n    </tr>\n  </thead>\n  <tbody>\n    <tr>\n      <th>afghanistan</th>\n      <td>c</td>\n      <td>8</td>\n      <td>9</td>\n      <td>13</td>\n      <td>15</td>\n      <td>14</td>\n      <td>14</td>\n      <td>23</td>\n      <td>23</td>\n      <td>27</td>\n    </tr>\n    <tr>\n      <th>albania</th>\n      <td>c</td>\n      <td>26</td>\n      <td>26</td>\n      <td>26</td>\n      <td>42</td>\n      <td>42</td>\n      <td>40</td>\n      <td>68</td>\n      <td>68</td>\n      <td>66</td>\n    </tr>\n    <tr>\n      <th>algeria</th>\n      <td>c</td>\n      <td>11</td>\n      <td>11</td>\n      <td>10</td>\n      <td>22</td>\n      <td>22</td>\n      <td>25</td>\n      <td>33</td>\n      <td>33</td>\n      <td>35</td>\n    </tr>\n    <tr>\n      <th>andorra</th>\n      <td>c</td>\n      <td>39</td>\n      <td>39</td>\n      <td>39</td>\n      <td>57</td>\n      <td>58</td>\n      <td>58</td>\n      <td>96</td>\n      <td>97</td>\n      <td>97</td>\n    </tr>\n    <tr>\n      <th>angola</th>\n      <td>c</td>\n      <td>8</td>\n      <td>7</td>\n      <td>8</td>\n      <td>22</td>\n      <td>22</td>\n      <td>22</td>\n      <td>30</td>\n      <td>29</td>\n      <td>30</td>\n    </tr>\n  </tbody>\n</table>\n</div>"
     },
     "metadata": {},
     "execution_count": 49
    }
   ],
   "source": [
    "freedom_house_aggregate06_21.head()"
   ]
  },
  {
   "cell_type": "code",
   "execution_count": 30,
   "metadata": {},
   "outputs": [],
   "source": [
    "bjorskov_integrated = c_names_as_index(pd.read_csv('./raw_data/Bjørnskov-Rode-integrated-dataset-v3.2.csv', sep=';'), 'country')\n",
    "bjorskov_integrated.index = pd.MultiIndex.from_tuples(list(zip(\n",
    "    bjorskov_integrated.index,\n",
    "    bjorskov_integrated.year.astype('int')\n",
    ")))\n",
    "bjorskov_integrated.drop(['country isocode', 'year'] + [i for i in bjorskov_integrated if 'Unnamed' in i], axis=1, inplace=True)\n",
    "bjorskov_integrated.index.names = ['country', 'year']"
   ]
  },
  {
   "cell_type": "code",
   "execution_count": 7,
   "metadata": {},
   "outputs": [
    {
     "output_type": "execute_result",
     "data": {
      "text/plain": [
       "                  DD regime         DD category  Monarchy  Commonwealth  \\\n",
       "country     year                                                          \n",
       "afghanistan 1950        5.0  Royal dictatorship       1.0           0.0   \n",
       "            1951        5.0  Royal dictatorship       1.0           0.0   \n",
       "            1952        5.0  Royal dictatorship       1.0           0.0   \n",
       "            1953        5.0  Royal dictatorship       1.0           0.0   \n",
       "            1954        5.0  Royal dictatorship       1.0           0.0   \n",
       "\n",
       "                         Monarch name  Monarch accession  Monarch birthyear  \\\n",
       "country     year                                                              \n",
       "afghanistan 1950  Mohammed Zahir Shah             1933.0             1914.0   \n",
       "            1951  Mohammed Zahir Shah             1933.0             1914.0   \n",
       "            1952  Mohammed Zahir Shah             1933.0             1914.0   \n",
       "            1953  Mohammed Zahir Shah             1933.0             1914.0   \n",
       "            1954  Mohammed Zahir Shah             1933.0             1914.0   \n",
       "\n",
       "                  Female monarch (0: No; 1: Yes)  Democracy  Presidential  \\\n",
       "country     year                                                            \n",
       "afghanistan 1950                             0.0        0.0           0.0   \n",
       "            1951                             0.0        0.0           0.0   \n",
       "            1952                             0.0        0.0           0.0   \n",
       "            1953                             0.0        0.0           0.0   \n",
       "            1954                             0.0        0.0           0.0   \n",
       "\n",
       "                  ... fullsuffrage  Suffrage restriction  electoral  \\\n",
       "country     year  ...                                                 \n",
       "afghanistan 1950  ...          0.0        Male vote only        2.0   \n",
       "            1951  ...          0.0        Male vote only        2.0   \n",
       "            1952  ...          0.0        Male vote only        2.0   \n",
       "            1953  ...          0.0        Male vote only        2.0   \n",
       "            1954  ...          0.0        Male vote only        2.0   \n",
       "\n",
       "                  spatial electoral  alternation  multiparty  \\\n",
       "country     year                                               \n",
       "afghanistan 1950                1,5          0.0         1.0   \n",
       "            1951                1,5          0.0         1.0   \n",
       "            1952               1,75          0.0         1.0   \n",
       "            1953               1,75          0.0         1.0   \n",
       "            1954               1,75          0.0         1.0   \n",
       "\n",
       "                 free and fair election parliamentary election year  \\\n",
       "country     year                                                      \n",
       "afghanistan 1950                    0.0                         0.0   \n",
       "            1951                    0.0                         0.0   \n",
       "            1952                    0.0                         1.0   \n",
       "            1953                    0.0                         0.0   \n",
       "            1954                    0.0                         0.0   \n",
       "\n",
       "                  election month, year  postponed election  \n",
       "country     year                                            \n",
       "afghanistan 1950                   NaN                 0.0  \n",
       "            1951                   NaN                 0.0  \n",
       "            1952         February 1952                 0.0  \n",
       "            1953                   NaN                 0.0  \n",
       "            1954                   NaN                 0.0  \n",
       "\n",
       "[5 rows x 39 columns]"
      ],
      "text/html": "<div>\n<style scoped>\n    .dataframe tbody tr th:only-of-type {\n        vertical-align: middle;\n    }\n\n    .dataframe tbody tr th {\n        vertical-align: top;\n    }\n\n    .dataframe thead th {\n        text-align: right;\n    }\n</style>\n<table border=\"1\" class=\"dataframe\">\n  <thead>\n    <tr style=\"text-align: right;\">\n      <th></th>\n      <th></th>\n      <th>DD regime</th>\n      <th>DD category</th>\n      <th>Monarchy</th>\n      <th>Commonwealth</th>\n      <th>Monarch name</th>\n      <th>Monarch accession</th>\n      <th>Monarch birthyear</th>\n      <th>Female monarch (0: No; 1: Yes)</th>\n      <th>Democracy</th>\n      <th>Presidential</th>\n      <th>...</th>\n      <th>fullsuffrage</th>\n      <th>Suffrage restriction</th>\n      <th>electoral</th>\n      <th>spatial electoral</th>\n      <th>alternation</th>\n      <th>multiparty</th>\n      <th>free and fair election</th>\n      <th>parliamentary election year</th>\n      <th>election month, year</th>\n      <th>postponed election</th>\n    </tr>\n    <tr>\n      <th>country</th>\n      <th>year</th>\n      <th></th>\n      <th></th>\n      <th></th>\n      <th></th>\n      <th></th>\n      <th></th>\n      <th></th>\n      <th></th>\n      <th></th>\n      <th></th>\n      <th></th>\n      <th></th>\n      <th></th>\n      <th></th>\n      <th></th>\n      <th></th>\n      <th></th>\n      <th></th>\n      <th></th>\n      <th></th>\n      <th></th>\n    </tr>\n  </thead>\n  <tbody>\n    <tr>\n      <th rowspan=\"5\" valign=\"top\">afghanistan</th>\n      <th>1950</th>\n      <td>5.0</td>\n      <td>Royal dictatorship</td>\n      <td>1.0</td>\n      <td>0.0</td>\n      <td>Mohammed Zahir Shah</td>\n      <td>1933.0</td>\n      <td>1914.0</td>\n      <td>0.0</td>\n      <td>0.0</td>\n      <td>0.0</td>\n      <td>...</td>\n      <td>0.0</td>\n      <td>Male vote only</td>\n      <td>2.0</td>\n      <td>1,5</td>\n      <td>0.0</td>\n      <td>1.0</td>\n      <td>0.0</td>\n      <td>0.0</td>\n      <td>NaN</td>\n      <td>0.0</td>\n    </tr>\n    <tr>\n      <th>1951</th>\n      <td>5.0</td>\n      <td>Royal dictatorship</td>\n      <td>1.0</td>\n      <td>0.0</td>\n      <td>Mohammed Zahir Shah</td>\n      <td>1933.0</td>\n      <td>1914.0</td>\n      <td>0.0</td>\n      <td>0.0</td>\n      <td>0.0</td>\n      <td>...</td>\n      <td>0.0</td>\n      <td>Male vote only</td>\n      <td>2.0</td>\n      <td>1,5</td>\n      <td>0.0</td>\n      <td>1.0</td>\n      <td>0.0</td>\n      <td>0.0</td>\n      <td>NaN</td>\n      <td>0.0</td>\n    </tr>\n    <tr>\n      <th>1952</th>\n      <td>5.0</td>\n      <td>Royal dictatorship</td>\n      <td>1.0</td>\n      <td>0.0</td>\n      <td>Mohammed Zahir Shah</td>\n      <td>1933.0</td>\n      <td>1914.0</td>\n      <td>0.0</td>\n      <td>0.0</td>\n      <td>0.0</td>\n      <td>...</td>\n      <td>0.0</td>\n      <td>Male vote only</td>\n      <td>2.0</td>\n      <td>1,75</td>\n      <td>0.0</td>\n      <td>1.0</td>\n      <td>0.0</td>\n      <td>1.0</td>\n      <td>February 1952</td>\n      <td>0.0</td>\n    </tr>\n    <tr>\n      <th>1953</th>\n      <td>5.0</td>\n      <td>Royal dictatorship</td>\n      <td>1.0</td>\n      <td>0.0</td>\n      <td>Mohammed Zahir Shah</td>\n      <td>1933.0</td>\n      <td>1914.0</td>\n      <td>0.0</td>\n      <td>0.0</td>\n      <td>0.0</td>\n      <td>...</td>\n      <td>0.0</td>\n      <td>Male vote only</td>\n      <td>2.0</td>\n      <td>1,75</td>\n      <td>0.0</td>\n      <td>1.0</td>\n      <td>0.0</td>\n      <td>0.0</td>\n      <td>NaN</td>\n      <td>0.0</td>\n    </tr>\n    <tr>\n      <th>1954</th>\n      <td>5.0</td>\n      <td>Royal dictatorship</td>\n      <td>1.0</td>\n      <td>0.0</td>\n      <td>Mohammed Zahir Shah</td>\n      <td>1933.0</td>\n      <td>1914.0</td>\n      <td>0.0</td>\n      <td>0.0</td>\n      <td>0.0</td>\n      <td>...</td>\n      <td>0.0</td>\n      <td>Male vote only</td>\n      <td>2.0</td>\n      <td>1,75</td>\n      <td>0.0</td>\n      <td>1.0</td>\n      <td>0.0</td>\n      <td>0.0</td>\n      <td>NaN</td>\n      <td>0.0</td>\n    </tr>\n  </tbody>\n</table>\n<p>5 rows × 39 columns</p>\n</div>"
     },
     "metadata": {},
     "execution_count": 7
    }
   ],
   "source": [
    "bjorskov_integrated.head()"
   ]
  },
  {
   "cell_type": "code",
   "execution_count": 52,
   "metadata": {},
   "outputs": [],
   "source": [
    "bjorskov_integrated_coups = c_names_as_index(pd.read_csv('./raw_data/Bjørnskov-Rode-integrated-dataset-v3.2_coups.csv', sep=';'), 'country')"
   ]
  },
  {
   "cell_type": "code",
   "execution_count": 53,
   "metadata": {},
   "outputs": [
    {
     "output_type": "execute_result",
     "data": {
      "text/plain": [
       "            country isocode  year  DD regime         DD category  Unnamed: 5  \\\n",
       "country                                                                        \n",
       "afghanistan             AFG  1950        5.0  Royal dictatorship         NaN   \n",
       "afghanistan             AFG  1951        5.0  Royal dictatorship         NaN   \n",
       "afghanistan             AFG  1952        5.0  Royal dictatorship         NaN   \n",
       "afghanistan             AFG  1953        5.0  Royal dictatorship         NaN   \n",
       "afghanistan             AFG  1954        5.0  Royal dictatorship         NaN   \n",
       "\n",
       "             Failed coups  Successful coups  All coups  First coup  year.1  \\\n",
       "country                                                                      \n",
       "afghanistan           0.0               0.0        0.0         0.0     NaN   \n",
       "afghanistan           0.0               0.0        0.0         0.0     NaN   \n",
       "afghanistan           0.0               0.0        0.0         0.0     NaN   \n",
       "afghanistan           0.0               0.0        0.0         0.0     NaN   \n",
       "afghanistan           0.0               0.0        0.0         0.0     NaN   \n",
       "\n",
       "             ...  month.2 Type.2  Third coup success  \\\n",
       "country      ...                                       \n",
       "afghanistan  ...      NaN    NaN                 NaN   \n",
       "afghanistan  ...      NaN    NaN                 NaN   \n",
       "afghanistan  ...      NaN    NaN                 NaN   \n",
       "afghanistan  ...      NaN    NaN                 NaN   \n",
       "afghanistan  ...      NaN    NaN                 NaN   \n",
       "\n",
       "             Category type third coup Coup leaders.2  Age of leaders.1  \\\n",
       "country                                                                  \n",
       "afghanistan                       0.0            NaN               NaN   \n",
       "afghanistan                       0.0            NaN               NaN   \n",
       "afghanistan                       0.0            NaN               NaN   \n",
       "afghanistan                       0.0            NaN               NaN   \n",
       "afghanistan                       0.0            NaN               NaN   \n",
       "\n",
       "            Military Rank (Nato code).2  Militaryrankindex.2  \\\n",
       "country                                                        \n",
       "afghanistan                         NaN                  NaN   \n",
       "afghanistan                         NaN                  NaN   \n",
       "afghanistan                         NaN                  NaN   \n",
       "afghanistan                         NaN                  NaN   \n",
       "afghanistan                         NaN                  NaN   \n",
       "\n",
       "             Civilrankindex.2  spatial total coups  \n",
       "country                                             \n",
       "afghanistan               NaN                    0  \n",
       "afghanistan               NaN                 0,25  \n",
       "afghanistan               NaN                    0  \n",
       "afghanistan               NaN                    0  \n",
       "afghanistan               NaN                 0,25  \n",
       "\n",
       "[5 rows x 42 columns]"
      ],
      "text/html": "<div>\n<style scoped>\n    .dataframe tbody tr th:only-of-type {\n        vertical-align: middle;\n    }\n\n    .dataframe tbody tr th {\n        vertical-align: top;\n    }\n\n    .dataframe thead th {\n        text-align: right;\n    }\n</style>\n<table border=\"1\" class=\"dataframe\">\n  <thead>\n    <tr style=\"text-align: right;\">\n      <th></th>\n      <th>country isocode</th>\n      <th>year</th>\n      <th>DD regime</th>\n      <th>DD category</th>\n      <th>Unnamed: 5</th>\n      <th>Failed coups</th>\n      <th>Successful coups</th>\n      <th>All coups</th>\n      <th>First coup</th>\n      <th>year.1</th>\n      <th>...</th>\n      <th>month.2</th>\n      <th>Type.2</th>\n      <th>Third coup success</th>\n      <th>Category type third coup</th>\n      <th>Coup leaders.2</th>\n      <th>Age of leaders.1</th>\n      <th>Military Rank (Nato code).2</th>\n      <th>Militaryrankindex.2</th>\n      <th>Civilrankindex.2</th>\n      <th>spatial total coups</th>\n    </tr>\n    <tr>\n      <th>country</th>\n      <th></th>\n      <th></th>\n      <th></th>\n      <th></th>\n      <th></th>\n      <th></th>\n      <th></th>\n      <th></th>\n      <th></th>\n      <th></th>\n      <th></th>\n      <th></th>\n      <th></th>\n      <th></th>\n      <th></th>\n      <th></th>\n      <th></th>\n      <th></th>\n      <th></th>\n      <th></th>\n      <th></th>\n    </tr>\n  </thead>\n  <tbody>\n    <tr>\n      <th>afghanistan</th>\n      <td>AFG</td>\n      <td>1950</td>\n      <td>5.0</td>\n      <td>Royal dictatorship</td>\n      <td>NaN</td>\n      <td>0.0</td>\n      <td>0.0</td>\n      <td>0.0</td>\n      <td>0.0</td>\n      <td>NaN</td>\n      <td>...</td>\n      <td>NaN</td>\n      <td>NaN</td>\n      <td>NaN</td>\n      <td>0.0</td>\n      <td>NaN</td>\n      <td>NaN</td>\n      <td>NaN</td>\n      <td>NaN</td>\n      <td>NaN</td>\n      <td>0</td>\n    </tr>\n    <tr>\n      <th>afghanistan</th>\n      <td>AFG</td>\n      <td>1951</td>\n      <td>5.0</td>\n      <td>Royal dictatorship</td>\n      <td>NaN</td>\n      <td>0.0</td>\n      <td>0.0</td>\n      <td>0.0</td>\n      <td>0.0</td>\n      <td>NaN</td>\n      <td>...</td>\n      <td>NaN</td>\n      <td>NaN</td>\n      <td>NaN</td>\n      <td>0.0</td>\n      <td>NaN</td>\n      <td>NaN</td>\n      <td>NaN</td>\n      <td>NaN</td>\n      <td>NaN</td>\n      <td>0,25</td>\n    </tr>\n    <tr>\n      <th>afghanistan</th>\n      <td>AFG</td>\n      <td>1952</td>\n      <td>5.0</td>\n      <td>Royal dictatorship</td>\n      <td>NaN</td>\n      <td>0.0</td>\n      <td>0.0</td>\n      <td>0.0</td>\n      <td>0.0</td>\n      <td>NaN</td>\n      <td>...</td>\n      <td>NaN</td>\n      <td>NaN</td>\n      <td>NaN</td>\n      <td>0.0</td>\n      <td>NaN</td>\n      <td>NaN</td>\n      <td>NaN</td>\n      <td>NaN</td>\n      <td>NaN</td>\n      <td>0</td>\n    </tr>\n    <tr>\n      <th>afghanistan</th>\n      <td>AFG</td>\n      <td>1953</td>\n      <td>5.0</td>\n      <td>Royal dictatorship</td>\n      <td>NaN</td>\n      <td>0.0</td>\n      <td>0.0</td>\n      <td>0.0</td>\n      <td>0.0</td>\n      <td>NaN</td>\n      <td>...</td>\n      <td>NaN</td>\n      <td>NaN</td>\n      <td>NaN</td>\n      <td>0.0</td>\n      <td>NaN</td>\n      <td>NaN</td>\n      <td>NaN</td>\n      <td>NaN</td>\n      <td>NaN</td>\n      <td>0</td>\n    </tr>\n    <tr>\n      <th>afghanistan</th>\n      <td>AFG</td>\n      <td>1954</td>\n      <td>5.0</td>\n      <td>Royal dictatorship</td>\n      <td>NaN</td>\n      <td>0.0</td>\n      <td>0.0</td>\n      <td>0.0</td>\n      <td>0.0</td>\n      <td>NaN</td>\n      <td>...</td>\n      <td>NaN</td>\n      <td>NaN</td>\n      <td>NaN</td>\n      <td>0.0</td>\n      <td>NaN</td>\n      <td>NaN</td>\n      <td>NaN</td>\n      <td>NaN</td>\n      <td>NaN</td>\n      <td>0,25</td>\n    </tr>\n  </tbody>\n</table>\n<p>5 rows × 42 columns</p>\n</div>"
     },
     "metadata": {},
     "execution_count": 53
    }
   ],
   "source": [
    "bjorskov_integrated_coups.head()"
   ]
  },
  {
   "cell_type": "code",
   "execution_count": 54,
   "metadata": {},
   "outputs": [],
   "source": [
    "bjorskov_integrated_colonial_institutions = c_names_as_index(pd.read_csv('./raw_data/Bjørnskov-Rode-integrated-dataset-v3.2_colonial_institutions.csv', sep=';'), 'country')"
   ]
  },
  {
   "cell_type": "code",
   "execution_count": 55,
   "metadata": {},
   "outputs": [
    {
     "output_type": "execute_result",
     "data": {
      "text/plain": [
       "            country isocode  year  DD regime         DD category  Democracy  \\\n",
       "country                                                                       \n",
       "afghanistan             AFG  1950        5.0  Royal dictatorship        0.0   \n",
       "afghanistan             AFG  1951        5.0  Royal dictatorship        0.0   \n",
       "afghanistan             AFG  1952        5.0  Royal dictatorship        0.0   \n",
       "afghanistan             AFG  1953        5.0  Royal dictatorship        0.0   \n",
       "afghanistan             AFG  1954        5.0  Royal dictatorship        0.0   \n",
       "\n",
       "             Presidential  countrycode  No. of chambers in parliament  \\\n",
       "country                                                                 \n",
       "afghanistan           0.0          1.0                            2.0   \n",
       "afghanistan           0.0          1.0                            2.0   \n",
       "afghanistan           0.0          1.0                            2.0   \n",
       "afghanistan           0.0          1.0                            2.0   \n",
       "afghanistan           0.0          1.0                            2.0   \n",
       "\n",
       "             proportional voting Election system  ...  \\\n",
       "country                                           ...   \n",
       "afghanistan                  0.0             NaN  ...   \n",
       "afghanistan                  0.0             NaN  ...   \n",
       "afghanistan                  0.0             NaN  ...   \n",
       "afghanistan                  0.0             NaN  ...   \n",
       "afghanistan                  NaN             NaN  ...   \n",
       "\n",
       "             No. of members in upper house No. of members in third house  \\\n",
       "country                                                                    \n",
       "afghanistan                            NaN                           NaN   \n",
       "afghanistan                            NaN                           NaN   \n",
       "afghanistan                            NaN                           NaN   \n",
       "afghanistan                            NaN                           NaN   \n",
       "afghanistan                            NaN                           NaN   \n",
       "\n",
       "             New constitution  fullsuffrage  Suffrage restriction electoral  \\\n",
       "country                                                                       \n",
       "afghanistan               0.0           0.0        Male vote only       2.0   \n",
       "afghanistan               0.0           0.0        Male vote only       2.0   \n",
       "afghanistan               0.0           0.0        Male vote only       2.0   \n",
       "afghanistan               0.0           0.0        Male vote only       2.0   \n",
       "afghanistan               0.0           0.0        Male vote only       2.0   \n",
       "\n",
       "             Details Unnamed: 19 Unnamed: 20  Self-governing  \n",
       "country                                                       \n",
       "afghanistan      NaN         NaN         NaN             NaN  \n",
       "afghanistan      NaN         NaN         NaN             NaN  \n",
       "afghanistan      NaN         NaN         NaN             NaN  \n",
       "afghanistan      NaN         NaN         NaN             NaN  \n",
       "afghanistan      NaN         NaN         NaN             NaN  \n",
       "\n",
       "[5 rows x 21 columns]"
      ],
      "text/html": "<div>\n<style scoped>\n    .dataframe tbody tr th:only-of-type {\n        vertical-align: middle;\n    }\n\n    .dataframe tbody tr th {\n        vertical-align: top;\n    }\n\n    .dataframe thead th {\n        text-align: right;\n    }\n</style>\n<table border=\"1\" class=\"dataframe\">\n  <thead>\n    <tr style=\"text-align: right;\">\n      <th></th>\n      <th>country isocode</th>\n      <th>year</th>\n      <th>DD regime</th>\n      <th>DD category</th>\n      <th>Democracy</th>\n      <th>Presidential</th>\n      <th>countrycode</th>\n      <th>No. of chambers in parliament</th>\n      <th>proportional voting</th>\n      <th>Election system</th>\n      <th>...</th>\n      <th>No. of members in upper house</th>\n      <th>No. of members in third house</th>\n      <th>New constitution</th>\n      <th>fullsuffrage</th>\n      <th>Suffrage restriction</th>\n      <th>electoral</th>\n      <th>Details</th>\n      <th>Unnamed: 19</th>\n      <th>Unnamed: 20</th>\n      <th>Self-governing</th>\n    </tr>\n    <tr>\n      <th>country</th>\n      <th></th>\n      <th></th>\n      <th></th>\n      <th></th>\n      <th></th>\n      <th></th>\n      <th></th>\n      <th></th>\n      <th></th>\n      <th></th>\n      <th></th>\n      <th></th>\n      <th></th>\n      <th></th>\n      <th></th>\n      <th></th>\n      <th></th>\n      <th></th>\n      <th></th>\n      <th></th>\n      <th></th>\n    </tr>\n  </thead>\n  <tbody>\n    <tr>\n      <th>afghanistan</th>\n      <td>AFG</td>\n      <td>1950</td>\n      <td>5.0</td>\n      <td>Royal dictatorship</td>\n      <td>0.0</td>\n      <td>0.0</td>\n      <td>1.0</td>\n      <td>2.0</td>\n      <td>0.0</td>\n      <td>NaN</td>\n      <td>...</td>\n      <td>NaN</td>\n      <td>NaN</td>\n      <td>0.0</td>\n      <td>0.0</td>\n      <td>Male vote only</td>\n      <td>2.0</td>\n      <td>NaN</td>\n      <td>NaN</td>\n      <td>NaN</td>\n      <td>NaN</td>\n    </tr>\n    <tr>\n      <th>afghanistan</th>\n      <td>AFG</td>\n      <td>1951</td>\n      <td>5.0</td>\n      <td>Royal dictatorship</td>\n      <td>0.0</td>\n      <td>0.0</td>\n      <td>1.0</td>\n      <td>2.0</td>\n      <td>0.0</td>\n      <td>NaN</td>\n      <td>...</td>\n      <td>NaN</td>\n      <td>NaN</td>\n      <td>0.0</td>\n      <td>0.0</td>\n      <td>Male vote only</td>\n      <td>2.0</td>\n      <td>NaN</td>\n      <td>NaN</td>\n      <td>NaN</td>\n      <td>NaN</td>\n    </tr>\n    <tr>\n      <th>afghanistan</th>\n      <td>AFG</td>\n      <td>1952</td>\n      <td>5.0</td>\n      <td>Royal dictatorship</td>\n      <td>0.0</td>\n      <td>0.0</td>\n      <td>1.0</td>\n      <td>2.0</td>\n      <td>0.0</td>\n      <td>NaN</td>\n      <td>...</td>\n      <td>NaN</td>\n      <td>NaN</td>\n      <td>0.0</td>\n      <td>0.0</td>\n      <td>Male vote only</td>\n      <td>2.0</td>\n      <td>NaN</td>\n      <td>NaN</td>\n      <td>NaN</td>\n      <td>NaN</td>\n    </tr>\n    <tr>\n      <th>afghanistan</th>\n      <td>AFG</td>\n      <td>1953</td>\n      <td>5.0</td>\n      <td>Royal dictatorship</td>\n      <td>0.0</td>\n      <td>0.0</td>\n      <td>1.0</td>\n      <td>2.0</td>\n      <td>0.0</td>\n      <td>NaN</td>\n      <td>...</td>\n      <td>NaN</td>\n      <td>NaN</td>\n      <td>0.0</td>\n      <td>0.0</td>\n      <td>Male vote only</td>\n      <td>2.0</td>\n      <td>NaN</td>\n      <td>NaN</td>\n      <td>NaN</td>\n      <td>NaN</td>\n    </tr>\n    <tr>\n      <th>afghanistan</th>\n      <td>AFG</td>\n      <td>1954</td>\n      <td>5.0</td>\n      <td>Royal dictatorship</td>\n      <td>0.0</td>\n      <td>0.0</td>\n      <td>1.0</td>\n      <td>2.0</td>\n      <td>NaN</td>\n      <td>NaN</td>\n      <td>...</td>\n      <td>NaN</td>\n      <td>NaN</td>\n      <td>0.0</td>\n      <td>0.0</td>\n      <td>Male vote only</td>\n      <td>2.0</td>\n      <td>NaN</td>\n      <td>NaN</td>\n      <td>NaN</td>\n      <td>NaN</td>\n    </tr>\n  </tbody>\n</table>\n<p>5 rows × 21 columns</p>\n</div>"
     },
     "metadata": {},
     "execution_count": 55
    }
   ],
   "source": [
    "bjorskov_integrated_colonial_institutions.head()"
   ]
  },
  {
   "cell_type": "code",
   "execution_count": 21,
   "metadata": {},
   "outputs": [],
   "source": [
    "OECD_union = c_names_as_index(pd.read_csv('./raw_data/TUD_21032021172006040.csv', sep=','), 'Country')\n",
    "OECD_union.drop(OECD_union.columns[:4], inplace=True, axis=1)\n",
    "OECD_union.drop(OECD_union.columns[1], inplace=True, axis=1)\n",
    "OECD_union.drop(OECD_union.columns[2:8], inplace=True, axis=1)\n",
    "OECD_union.drop(OECD_union.columns[3:], inplace=True, axis=1)\n",
    "OECD_union['id'] = OECD_union.index\n",
    "OECD_union.drop_duplicates(['Series', 'Year', 'id'], inplace=True)\n",
    "OECD_union.drop(['id'], axis=1, inplace=True)"
   ]
  },
  {
   "cell_type": "code",
   "execution_count": 22,
   "metadata": {
    "tags": []
   },
   "outputs": [],
   "source": [
    "_df = pd.DataFrame(columns=OECD_union.Series.unique(), index=pd.MultiIndex.from_tuples(list(zip(\n",
    "    np.repeat(OECD_union.index.unique(), len(OECD_union.Year.unique())), \n",
    "    sorted(OECD_union.Year.unique().astype('int')) * len(OECD_union.Year.unique())\n",
    "))))\n",
    "\n",
    "for i in _df.index:\n",
    "    for j in _df.columns:\n",
    "        val = OECD_union.loc[i[0]][(OECD_union.loc[i[0]].Year == i[1]) & (OECD_union.loc[i[0]].Series.str.match(j))].Value\n",
    "        _df.loc[i, j] = int(val) if not val.empty else np.nan\n",
    "OECD_union = _df\n",
    "OECD_union.index.names = ['country', 'year']"
   ]
  },
  {
   "cell_type": "code",
   "execution_count": 58,
   "metadata": {},
   "outputs": [
    {
     "output_type": "execute_result",
     "data": {
      "text/plain": [
       "             Employees Union members Trade union  density\n",
       "country year                                             \n",
       "hungary 1998      3088           840                   27\n",
       "        1999       NaN           NaN                  NaN\n",
       "        2000      3256           775                   23\n",
       "        2001      3314           654                   19\n",
       "        2002       NaN           NaN                  NaN"
      ],
      "text/html": "<div>\n<style scoped>\n    .dataframe tbody tr th:only-of-type {\n        vertical-align: middle;\n    }\n\n    .dataframe tbody tr th {\n        vertical-align: top;\n    }\n\n    .dataframe thead th {\n        text-align: right;\n    }\n</style>\n<table border=\"1\" class=\"dataframe\">\n  <thead>\n    <tr style=\"text-align: right;\">\n      <th></th>\n      <th></th>\n      <th>Employees</th>\n      <th>Union members</th>\n      <th>Trade union  density</th>\n    </tr>\n    <tr>\n      <th>country</th>\n      <th>year</th>\n      <th></th>\n      <th></th>\n      <th></th>\n    </tr>\n  </thead>\n  <tbody>\n    <tr>\n      <th rowspan=\"5\" valign=\"top\">hungary</th>\n      <th>1998</th>\n      <td>3088</td>\n      <td>840</td>\n      <td>27</td>\n    </tr>\n    <tr>\n      <th>1999</th>\n      <td>NaN</td>\n      <td>NaN</td>\n      <td>NaN</td>\n    </tr>\n    <tr>\n      <th>2000</th>\n      <td>3256</td>\n      <td>775</td>\n      <td>23</td>\n    </tr>\n    <tr>\n      <th>2001</th>\n      <td>3314</td>\n      <td>654</td>\n      <td>19</td>\n    </tr>\n    <tr>\n      <th>2002</th>\n      <td>NaN</td>\n      <td>NaN</td>\n      <td>NaN</td>\n    </tr>\n  </tbody>\n</table>\n</div>"
     },
     "metadata": {},
     "execution_count": 58
    }
   ],
   "source": [
    "OECD_union.head()"
   ]
  },
  {
   "cell_type": "code",
   "execution_count": 23,
   "metadata": {},
   "outputs": [],
   "source": [
    "WB_civil_soc_participation = c_names_as_index(pd.read_csv('./raw_data/worldbank_civil_society_participation.csv', sep=','), 'Country Name')"
   ]
  },
  {
   "cell_type": "code",
   "execution_count": 24,
   "metadata": {},
   "outputs": [],
   "source": [
    "WB_civil_soc_participation.index = pd.MultiIndex.from_tuples(list(zip(\n",
    "    WB_civil_soc_participation.index, \n",
    "    WB_civil_soc_participation.loc[:, 'Indicator'])))\n",
    "WB_civil_soc_participation.drop(['Country ISO3', 'Indicator Id', 'Indicator', 'Subindicator Type'], axis=1, inplace=True)\n",
    "WB_civil_soc_participation.index.names = ['country', 'year']"
   ]
  },
  {
   "cell_type": "code",
   "execution_count": 25,
   "metadata": {
    "tags": []
   },
   "outputs": [],
   "source": [
    "_df = pd.DataFrame(columns=WB_civil_soc_participation.index.get_level_values(1).unique(), \\\n",
    "    index=pd.MultiIndex.from_tuples(\\\n",
    "        list(zip(np.repeat(WB_civil_soc_participation.index.get_level_values(0).unique(), \n",
    "        len(WB_civil_soc_participation.columns)),\\\n",
    "            len(WB_civil_soc_participation.index.get_level_values(0).unique()) * list(WB_civil_soc_participation.columns.astype('int'))))))\n",
    "for i in _df.index:\n",
    "    for j in _df.columns:\n",
    "        try:\n",
    "            _df.loc[i, j] = WB_civil_soc_participation.loc[(i[0], j), str(i[1])]\n",
    "        except:\n",
    "            _df.loc[i, j] = np.nan\n",
    "WB_civil_soc_participation = _df\n",
    "WB_civil_soc_participation.index.names = ['country', 'year']"
   ]
  },
  {
   "cell_type": "code",
   "execution_count": 24,
   "metadata": {},
   "outputs": [
    {
     "output_type": "execute_result",
     "data": {
      "text/plain": [
       "year             Anticorruption policy Civil rights  \\\n",
       "country     year                                      \n",
       "afghanistan 2006                   1.0          2.0   \n",
       "            2008                   1.0          3.0   \n",
       "            2010                   1.0          2.0   \n",
       "            2012                   1.0          2.0   \n",
       "            2014                   1.0          2.0   \n",
       "...                                ...          ...   \n",
       "zimbabwe    2010                   1.0          2.0   \n",
       "            2012                   1.0          2.0   \n",
       "            2014                   3.0          3.0   \n",
       "            2016                   2.0          4.0   \n",
       "            2018                   2.0          3.0   \n",
       "\n",
       "year             Civil society participation Civil society traditions  \\\n",
       "country     year                                                        \n",
       "afghanistan 2006                         4.0                     10.0   \n",
       "            2008                         4.0                     10.0   \n",
       "            2010                         3.0                     10.0   \n",
       "            2012                         3.0                     10.0   \n",
       "            2014                         3.0                     10.0   \n",
       "...                                      ...                      ...   \n",
       "zimbabwe    2010                         1.0                      7.0   \n",
       "            2012                         2.0                      7.0   \n",
       "            2014                         3.0                      6.0   \n",
       "            2016                         4.0                      6.0   \n",
       "            2018                         2.0                      6.0   \n",
       "\n",
       "year             Cleavage conflict management  \\\n",
       "country     year                                \n",
       "afghanistan 2006                          4.0   \n",
       "            2008                          4.0   \n",
       "            2010                          4.0   \n",
       "            2012                          4.0   \n",
       "            2014                          4.0   \n",
       "...                                       ...   \n",
       "zimbabwe    2010                          1.0   \n",
       "            2012                          2.0   \n",
       "            2014                          2.0   \n",
       "            2016                          3.0   \n",
       "            2018                          3.0   \n",
       "\n",
       "year             Commitment to democratic institutions Conflict intensity  \\\n",
       "country     year                                                            \n",
       "afghanistan 2006                                   3.0                9.0   \n",
       "            2008                                   3.0                9.0   \n",
       "            2010                                   3.0               10.0   \n",
       "            2012                                   3.0               10.0   \n",
       "            2014                                   3.0                9.0   \n",
       "...                                                ...                ...   \n",
       "zimbabwe    2010                                   2.0                6.0   \n",
       "            2012                                   3.0                7.0   \n",
       "            2014                                   3.0                7.0   \n",
       "            2016                                   3.0                5.0   \n",
       "            2018                                   2.0                6.0   \n",
       "\n",
       "year             Consensus on goals Antidemocratic actors  \\\n",
       "country     year                                            \n",
       "afghanistan 2006                3.0                   5.0   \n",
       "            2008                3.0                   4.0   \n",
       "            2010                3.0                   4.0   \n",
       "            2012                3.0                   3.0   \n",
       "            2014                3.0                   4.0   \n",
       "...                             ...                   ...   \n",
       "zimbabwe    2010                3.0                   3.0   \n",
       "            2012                4.0                   3.0   \n",
       "            2014                4.0                   4.0   \n",
       "            2016                3.0                   2.0   \n",
       "            2018                3.0                   2.0   \n",
       "\n",
       "year             Education policy R&D  ... Social capital Social safety nets  \\\n",
       "country     year                       ...                                     \n",
       "afghanistan 2006                  1.0  ...            4.0                1.0   \n",
       "            2008                  1.0  ...            4.0                1.0   \n",
       "            2010                  1.0  ...            2.0                1.0   \n",
       "            2012                  1.0  ...            2.0                1.0   \n",
       "            2014                  2.0  ...            2.0                1.0   \n",
       "...                               ...  ...            ...                ...   \n",
       "zimbabwe    2010                  3.0  ...            5.0                2.0   \n",
       "            2012                  4.0  ...            5.0                2.0   \n",
       "            2014                  4.0  ...            4.0                3.0   \n",
       "            2016                  4.0  ...            4.0                3.0   \n",
       "            2018                  4.0  ...            4.0                3.0   \n",
       "\n",
       "year             Socioeconomic barriers Stability of Democratic Institutions  \\\n",
       "country     year                                                               \n",
       "afghanistan 2006                    1.0                                  3.0   \n",
       "            2008                    1.0                                  3.0   \n",
       "            2010                    1.0                                  3.0   \n",
       "            2012                    1.0                                  3.0   \n",
       "            2014                    1.0                                  3.0   \n",
       "...                                 ...                                  ...   \n",
       "zimbabwe    2010                    2.0                                  2.0   \n",
       "            2012                    3.0                                  3.0   \n",
       "            2014                    3.0                                  3.0   \n",
       "            2016                    3.0                                  3.0   \n",
       "            2018                    2.0                                  2.5   \n",
       "\n",
       "year             State identity Basic administration Steering Capability  \\\n",
       "country     year                                                           \n",
       "afghanistan 2006            6.0                  2.0            4.333333   \n",
       "            2008            6.0                  2.0            4.333333   \n",
       "            2010            6.0                  1.0                 3.0   \n",
       "            2012            6.0                  2.0                 3.0   \n",
       "            2014            6.0                  2.0                 3.0   \n",
       "...                         ...                  ...                 ...   \n",
       "zimbabwe    2010            9.0                  4.0            1.333333   \n",
       "            2012            9.0                  5.0            2.333333   \n",
       "            2014            7.0                  5.0            3.333333   \n",
       "            2016            7.0                  5.0            2.666667   \n",
       "            2018            7.0                  4.0            2.333333   \n",
       "\n",
       "year             Structural constraints Welfare Regime Approval of democracy  \n",
       "country     year                                                              \n",
       "afghanistan 2006                   10.0            1.0                   NaN  \n",
       "            2008                   10.0            1.5                   NaN  \n",
       "            2010                   10.0            1.5                   NaN  \n",
       "            2012                   10.0            1.5                   NaN  \n",
       "            2014                   10.0            1.5                   NaN  \n",
       "...                                 ...            ...                   ...  \n",
       "zimbabwe    2010                    7.0            2.5                   NaN  \n",
       "            2012                    7.0            2.5                   NaN  \n",
       "            2014                    7.0            3.0                   NaN  \n",
       "            2016                    7.0            3.0                   NaN  \n",
       "            2018                    7.0            3.0                   NaN  \n",
       "\n",
       "[896 rows x 45 columns]"
      ],
      "text/html": "<div>\n<style scoped>\n    .dataframe tbody tr th:only-of-type {\n        vertical-align: middle;\n    }\n\n    .dataframe tbody tr th {\n        vertical-align: top;\n    }\n\n    .dataframe thead th {\n        text-align: right;\n    }\n</style>\n<table border=\"1\" class=\"dataframe\">\n  <thead>\n    <tr style=\"text-align: right;\">\n      <th></th>\n      <th>year</th>\n      <th>Anticorruption policy</th>\n      <th>Civil rights</th>\n      <th>Civil society participation</th>\n      <th>Civil society traditions</th>\n      <th>Cleavage conflict management</th>\n      <th>Commitment to democratic institutions</th>\n      <th>Conflict intensity</th>\n      <th>Consensus on goals</th>\n      <th>Antidemocratic actors</th>\n      <th>Education policy R&amp;D</th>\n      <th>...</th>\n      <th>Social capital</th>\n      <th>Social safety nets</th>\n      <th>Socioeconomic barriers</th>\n      <th>Stability of Democratic Institutions</th>\n      <th>State identity</th>\n      <th>Basic administration</th>\n      <th>Steering Capability</th>\n      <th>Structural constraints</th>\n      <th>Welfare Regime</th>\n      <th>Approval of democracy</th>\n    </tr>\n    <tr>\n      <th>country</th>\n      <th>year</th>\n      <th></th>\n      <th></th>\n      <th></th>\n      <th></th>\n      <th></th>\n      <th></th>\n      <th></th>\n      <th></th>\n      <th></th>\n      <th></th>\n      <th></th>\n      <th></th>\n      <th></th>\n      <th></th>\n      <th></th>\n      <th></th>\n      <th></th>\n      <th></th>\n      <th></th>\n      <th></th>\n      <th></th>\n    </tr>\n  </thead>\n  <tbody>\n    <tr>\n      <th rowspan=\"5\" valign=\"top\">afghanistan</th>\n      <th>2006</th>\n      <td>1.0</td>\n      <td>2.0</td>\n      <td>4.0</td>\n      <td>10.0</td>\n      <td>4.0</td>\n      <td>3.0</td>\n      <td>9.0</td>\n      <td>3.0</td>\n      <td>5.0</td>\n      <td>1.0</td>\n      <td>...</td>\n      <td>4.0</td>\n      <td>1.0</td>\n      <td>1.0</td>\n      <td>3.0</td>\n      <td>6.0</td>\n      <td>2.0</td>\n      <td>4.333333</td>\n      <td>10.0</td>\n      <td>1.0</td>\n      <td>NaN</td>\n    </tr>\n    <tr>\n      <th>2008</th>\n      <td>1.0</td>\n      <td>3.0</td>\n      <td>4.0</td>\n      <td>10.0</td>\n      <td>4.0</td>\n      <td>3.0</td>\n      <td>9.0</td>\n      <td>3.0</td>\n      <td>4.0</td>\n      <td>1.0</td>\n      <td>...</td>\n      <td>4.0</td>\n      <td>1.0</td>\n      <td>1.0</td>\n      <td>3.0</td>\n      <td>6.0</td>\n      <td>2.0</td>\n      <td>4.333333</td>\n      <td>10.0</td>\n      <td>1.5</td>\n      <td>NaN</td>\n    </tr>\n    <tr>\n      <th>2010</th>\n      <td>1.0</td>\n      <td>2.0</td>\n      <td>3.0</td>\n      <td>10.0</td>\n      <td>4.0</td>\n      <td>3.0</td>\n      <td>10.0</td>\n      <td>3.0</td>\n      <td>4.0</td>\n      <td>1.0</td>\n      <td>...</td>\n      <td>2.0</td>\n      <td>1.0</td>\n      <td>1.0</td>\n      <td>3.0</td>\n      <td>6.0</td>\n      <td>1.0</td>\n      <td>3.0</td>\n      <td>10.0</td>\n      <td>1.5</td>\n      <td>NaN</td>\n    </tr>\n    <tr>\n      <th>2012</th>\n      <td>1.0</td>\n      <td>2.0</td>\n      <td>3.0</td>\n      <td>10.0</td>\n      <td>4.0</td>\n      <td>3.0</td>\n      <td>10.0</td>\n      <td>3.0</td>\n      <td>3.0</td>\n      <td>1.0</td>\n      <td>...</td>\n      <td>2.0</td>\n      <td>1.0</td>\n      <td>1.0</td>\n      <td>3.0</td>\n      <td>6.0</td>\n      <td>2.0</td>\n      <td>3.0</td>\n      <td>10.0</td>\n      <td>1.5</td>\n      <td>NaN</td>\n    </tr>\n    <tr>\n      <th>2014</th>\n      <td>1.0</td>\n      <td>2.0</td>\n      <td>3.0</td>\n      <td>10.0</td>\n      <td>4.0</td>\n      <td>3.0</td>\n      <td>9.0</td>\n      <td>3.0</td>\n      <td>4.0</td>\n      <td>2.0</td>\n      <td>...</td>\n      <td>2.0</td>\n      <td>1.0</td>\n      <td>1.0</td>\n      <td>3.0</td>\n      <td>6.0</td>\n      <td>2.0</td>\n      <td>3.0</td>\n      <td>10.0</td>\n      <td>1.5</td>\n      <td>NaN</td>\n    </tr>\n    <tr>\n      <th>...</th>\n      <th>...</th>\n      <td>...</td>\n      <td>...</td>\n      <td>...</td>\n      <td>...</td>\n      <td>...</td>\n      <td>...</td>\n      <td>...</td>\n      <td>...</td>\n      <td>...</td>\n      <td>...</td>\n      <td>...</td>\n      <td>...</td>\n      <td>...</td>\n      <td>...</td>\n      <td>...</td>\n      <td>...</td>\n      <td>...</td>\n      <td>...</td>\n      <td>...</td>\n      <td>...</td>\n      <td>...</td>\n    </tr>\n    <tr>\n      <th rowspan=\"5\" valign=\"top\">zimbabwe</th>\n      <th>2010</th>\n      <td>1.0</td>\n      <td>2.0</td>\n      <td>1.0</td>\n      <td>7.0</td>\n      <td>1.0</td>\n      <td>2.0</td>\n      <td>6.0</td>\n      <td>3.0</td>\n      <td>3.0</td>\n      <td>3.0</td>\n      <td>...</td>\n      <td>5.0</td>\n      <td>2.0</td>\n      <td>2.0</td>\n      <td>2.0</td>\n      <td>9.0</td>\n      <td>4.0</td>\n      <td>1.333333</td>\n      <td>7.0</td>\n      <td>2.5</td>\n      <td>NaN</td>\n    </tr>\n    <tr>\n      <th>2012</th>\n      <td>1.0</td>\n      <td>2.0</td>\n      <td>2.0</td>\n      <td>7.0</td>\n      <td>2.0</td>\n      <td>3.0</td>\n      <td>7.0</td>\n      <td>4.0</td>\n      <td>3.0</td>\n      <td>4.0</td>\n      <td>...</td>\n      <td>5.0</td>\n      <td>2.0</td>\n      <td>3.0</td>\n      <td>3.0</td>\n      <td>9.0</td>\n      <td>5.0</td>\n      <td>2.333333</td>\n      <td>7.0</td>\n      <td>2.5</td>\n      <td>NaN</td>\n    </tr>\n    <tr>\n      <th>2014</th>\n      <td>3.0</td>\n      <td>3.0</td>\n      <td>3.0</td>\n      <td>6.0</td>\n      <td>2.0</td>\n      <td>3.0</td>\n      <td>7.0</td>\n      <td>4.0</td>\n      <td>4.0</td>\n      <td>4.0</td>\n      <td>...</td>\n      <td>4.0</td>\n      <td>3.0</td>\n      <td>3.0</td>\n      <td>3.0</td>\n      <td>7.0</td>\n      <td>5.0</td>\n      <td>3.333333</td>\n      <td>7.0</td>\n      <td>3.0</td>\n      <td>NaN</td>\n    </tr>\n    <tr>\n      <th>2016</th>\n      <td>2.0</td>\n      <td>4.0</td>\n      <td>4.0</td>\n      <td>6.0</td>\n      <td>3.0</td>\n      <td>3.0</td>\n      <td>5.0</td>\n      <td>3.0</td>\n      <td>2.0</td>\n      <td>4.0</td>\n      <td>...</td>\n      <td>4.0</td>\n      <td>3.0</td>\n      <td>3.0</td>\n      <td>3.0</td>\n      <td>7.0</td>\n      <td>5.0</td>\n      <td>2.666667</td>\n      <td>7.0</td>\n      <td>3.0</td>\n      <td>NaN</td>\n    </tr>\n    <tr>\n      <th>2018</th>\n      <td>2.0</td>\n      <td>3.0</td>\n      <td>2.0</td>\n      <td>6.0</td>\n      <td>3.0</td>\n      <td>2.0</td>\n      <td>6.0</td>\n      <td>3.0</td>\n      <td>2.0</td>\n      <td>4.0</td>\n      <td>...</td>\n      <td>4.0</td>\n      <td>3.0</td>\n      <td>2.0</td>\n      <td>2.5</td>\n      <td>7.0</td>\n      <td>4.0</td>\n      <td>2.333333</td>\n      <td>7.0</td>\n      <td>3.0</td>\n      <td>NaN</td>\n    </tr>\n  </tbody>\n</table>\n<p>896 rows × 45 columns</p>\n</div>"
     },
     "metadata": {},
     "execution_count": 24
    }
   ],
   "source": [
    "WB_civil_soc_participation"
   ]
  },
  {
   "cell_type": "code",
   "execution_count": 16,
   "metadata": {},
   "outputs": [],
   "source": [
    "gdp = c_names_as_index(pd.read_csv('./raw_data/gdp-per-capita-worldbank.csv', sep=','), 'Entity')\n",
    "gdp = gdp.rename(columns={gdp.columns[-1]: 'gdp'})\n",
    "gdp.index = pd.MultiIndex.from_tuples(list(zip(gdp.index, gdp.Year)))\n",
    "gdp.index = gdp.index.set_names(['country', 'year'])\n",
    "gdp.drop(['Code', 'Year'], axis=1 ,inplace=True)"
   ]
  },
  {
   "cell_type": "code",
   "execution_count": 7,
   "metadata": {},
   "outputs": [
    {
     "output_type": "execute_result",
     "data": {
      "text/plain": [
       "Int64Index([2002, 2003, 2004, 2005, 2006, 2007, 2008, 2009, 2010, 2011, 2012,\n",
       "            2013, 2014, 2015, 2016, 2017, 1990, 1991, 1992, 1993, 1994, 1995,\n",
       "            1996, 1997, 1998, 1999, 2000, 2001],\n",
       "           dtype='int64', name='year')"
      ]
     },
     "metadata": {},
     "execution_count": 7
    }
   ],
   "source": [
    "gdp.index.get_level_values(1).unique()"
   ]
  },
  {
   "cell_type": "code",
   "execution_count": 66,
   "metadata": {},
   "outputs": [
    {
     "output_type": "execute_result",
     "data": {
      "text/plain": [
       "                          gdp\n",
       "country     year             \n",
       "afghanistan 2002  1063.635574\n",
       "            2003  1099.194507\n",
       "            2004  1062.249360\n",
       "            2005  1136.123214\n",
       "            2006  1161.124889"
      ],
      "text/html": "<div>\n<style scoped>\n    .dataframe tbody tr th:only-of-type {\n        vertical-align: middle;\n    }\n\n    .dataframe tbody tr th {\n        vertical-align: top;\n    }\n\n    .dataframe thead th {\n        text-align: right;\n    }\n</style>\n<table border=\"1\" class=\"dataframe\">\n  <thead>\n    <tr style=\"text-align: right;\">\n      <th></th>\n      <th></th>\n      <th>gdp</th>\n    </tr>\n    <tr>\n      <th>country</th>\n      <th>year</th>\n      <th></th>\n    </tr>\n  </thead>\n  <tbody>\n    <tr>\n      <th rowspan=\"5\" valign=\"top\">afghanistan</th>\n      <th>2002</th>\n      <td>1063.635574</td>\n    </tr>\n    <tr>\n      <th>2003</th>\n      <td>1099.194507</td>\n    </tr>\n    <tr>\n      <th>2004</th>\n      <td>1062.249360</td>\n    </tr>\n    <tr>\n      <th>2005</th>\n      <td>1136.123214</td>\n    </tr>\n    <tr>\n      <th>2006</th>\n      <td>1161.124889</td>\n    </tr>\n  </tbody>\n</table>\n</div>"
     },
     "metadata": {},
     "execution_count": 66
    }
   ],
   "source": [
    "gdp.head()"
   ]
  },
  {
   "cell_type": "code",
   "execution_count": 26,
   "metadata": {},
   "outputs": [],
   "source": [
    "def wb_clear(df, x):\n",
    "    df.index = df.index.set_levels(df.index.levels[1].astype(int), level=1)\n",
    "    df.index = df.index.set_levels(df.index.levels[0].str.lower(), level=0)\n",
    "    df = df[df.index.get_level_values(1) >= 2006]\n",
    "    df = df[df.loc[:, x].notna()]\n",
    "    df.index = df.index.set_names('year', level=1)\n",
    "    return df"
   ]
  },
  {
   "cell_type": "code",
   "execution_count": 27,
   "metadata": {},
   "outputs": [],
   "source": [
    "#https://data.worldbank.org/indicator/NY.GDP.PCAP.CD\n",
    "\n",
    "gdp_pc = wbdata.get_dataframe({'NY.GDP.PCAP.CD':'gdp'})\n",
    "gdp_pc = wb_clear(gdp_pc, 'gdp')"
   ]
  },
  {
   "cell_type": "code",
   "execution_count": 12,
   "metadata": {},
   "outputs": [
    {
     "output_type": "execute_result",
     "data": {
      "text/plain": [
       "                         gdp\n",
       "country    year             \n",
       "arab world 2019  6584.740241\n",
       "           2018  6601.825189\n",
       "           2017  6108.588220\n",
       "           2016  6112.105953\n",
       "           2015  6400.360350\n",
       "...                      ...\n",
       "zimbabwe   2010   948.331854\n",
       "           2009   771.598786\n",
       "           2008   356.693350\n",
       "           2007   431.787188\n",
       "           2006   447.854924\n",
       "\n",
       "[3504 rows x 1 columns]"
      ],
      "text/html": "<div>\n<style scoped>\n    .dataframe tbody tr th:only-of-type {\n        vertical-align: middle;\n    }\n\n    .dataframe tbody tr th {\n        vertical-align: top;\n    }\n\n    .dataframe thead th {\n        text-align: right;\n    }\n</style>\n<table border=\"1\" class=\"dataframe\">\n  <thead>\n    <tr style=\"text-align: right;\">\n      <th></th>\n      <th></th>\n      <th>gdp</th>\n    </tr>\n    <tr>\n      <th>country</th>\n      <th>year</th>\n      <th></th>\n    </tr>\n  </thead>\n  <tbody>\n    <tr>\n      <th rowspan=\"5\" valign=\"top\">arab world</th>\n      <th>2019</th>\n      <td>6584.740241</td>\n    </tr>\n    <tr>\n      <th>2018</th>\n      <td>6601.825189</td>\n    </tr>\n    <tr>\n      <th>2017</th>\n      <td>6108.588220</td>\n    </tr>\n    <tr>\n      <th>2016</th>\n      <td>6112.105953</td>\n    </tr>\n    <tr>\n      <th>2015</th>\n      <td>6400.360350</td>\n    </tr>\n    <tr>\n      <th>...</th>\n      <th>...</th>\n      <td>...</td>\n    </tr>\n    <tr>\n      <th rowspan=\"5\" valign=\"top\">zimbabwe</th>\n      <th>2010</th>\n      <td>948.331854</td>\n    </tr>\n    <tr>\n      <th>2009</th>\n      <td>771.598786</td>\n    </tr>\n    <tr>\n      <th>2008</th>\n      <td>356.693350</td>\n    </tr>\n    <tr>\n      <th>2007</th>\n      <td>431.787188</td>\n    </tr>\n    <tr>\n      <th>2006</th>\n      <td>447.854924</td>\n    </tr>\n  </tbody>\n</table>\n<p>3504 rows × 1 columns</p>\n</div>"
     },
     "metadata": {},
     "execution_count": 12
    }
   ],
   "source": [
    "gdp_pc"
   ]
  },
  {
   "cell_type": "code",
   "execution_count": 28,
   "metadata": {},
   "outputs": [],
   "source": [
    "gov_spending = wbdata.get_dataframe({'GC.XPN.TOTL.GD.ZS':'gs'})\n",
    "gov_spending = wb_clear(gov_spending, 'gs')"
   ]
  },
  {
   "cell_type": "code",
   "execution_count": 14,
   "metadata": {},
   "outputs": [
    {
     "output_type": "execute_result",
     "data": {
      "text/plain": [
       "                                    gs\n",
       "country                year           \n",
       "caribbean small states 2018  27.267112\n",
       "                       2017  29.108126\n",
       "                       2016  29.504582\n",
       "                       2015  29.262266\n",
       "                       2014  27.823598"
      ],
      "text/html": "<div>\n<style scoped>\n    .dataframe tbody tr th:only-of-type {\n        vertical-align: middle;\n    }\n\n    .dataframe tbody tr th {\n        vertical-align: top;\n    }\n\n    .dataframe thead th {\n        text-align: right;\n    }\n</style>\n<table border=\"1\" class=\"dataframe\">\n  <thead>\n    <tr style=\"text-align: right;\">\n      <th></th>\n      <th></th>\n      <th>gs</th>\n    </tr>\n    <tr>\n      <th>country</th>\n      <th>year</th>\n      <th></th>\n    </tr>\n  </thead>\n  <tbody>\n    <tr>\n      <th rowspan=\"5\" valign=\"top\">caribbean small states</th>\n      <th>2018</th>\n      <td>27.267112</td>\n    </tr>\n    <tr>\n      <th>2017</th>\n      <td>29.108126</td>\n    </tr>\n    <tr>\n      <th>2016</th>\n      <td>29.504582</td>\n    </tr>\n    <tr>\n      <th>2015</th>\n      <td>29.262266</td>\n    </tr>\n    <tr>\n      <th>2014</th>\n      <td>27.823598</td>\n    </tr>\n  </tbody>\n</table>\n</div>"
     },
     "metadata": {},
     "execution_count": 14
    }
   ],
   "source": [
    "gov_spending.head()"
   ]
  },
  {
   "cell_type": "code",
   "execution_count": 37,
   "metadata": {},
   "outputs": [],
   "source": [
    "#GC.TAX.TOTL.GD.ZS\n",
    "taxes = wbdata.get_dataframe({'GC.TAX.TOTL.GD.ZS':'t'})\n",
    "taxes = wb_clear(taxes, 't')"
   ]
  },
  {
   "cell_type": "code",
   "execution_count": 40,
   "metadata": {},
   "outputs": [],
   "source": [
    "# freedom_house73_21_ctr\n",
    "# bjorskov_integrated\n",
    "# OECD_union\n",
    "# WB_civil_soc_participation\n",
    "dfs = [freedom_house73_21_ctr, bjorskov_integrated, WB_civil_soc_participation, gov_spending, taxes, gdp_pc]"
   ]
  },
  {
   "cell_type": "code",
   "execution_count": 41,
   "metadata": {},
   "outputs": [],
   "source": [
    "all_df = reduce(lambda l, r: l.join(r), dfs)"
   ]
  },
  {
   "cell_type": "code",
   "execution_count": 42,
   "metadata": {},
   "outputs": [
    {
     "output_type": "execute_result",
     "data": {
      "text/plain": [
       "(9840, 90)"
      ]
     },
     "metadata": {},
     "execution_count": 42
    }
   ],
   "source": [
    "all_df.shape"
   ]
  },
  {
   "cell_type": "code",
   "execution_count": 43,
   "metadata": {},
   "outputs": [],
   "source": [
    "all_df.to_csv('raw_data/master.csv')"
   ]
  },
  {
   "cell_type": "code",
   "execution_count": 120,
   "metadata": {},
   "outputs": [
    {
     "output_type": "execute_result",
     "data": {
      "text/plain": [
       "                 PR CL Status  DD regime            DD category  Monarchy  \\\n",
       "country     year                                                            \n",
       "afghanistan 1972  4  5     PF        5.0     Royal dictatorship       1.0   \n",
       "            1973  7  6     NF        5.0     Royal dictatorship       1.0   \n",
       "            1974  7  6     NF        3.0  Civilian dictatorship       0.0   \n",
       "            1975  7  6     NF        3.0  Civilian dictatorship       0.0   \n",
       "            1976  7  6     NF        3.0  Civilian dictatorship       0.0   \n",
       "...              .. ..    ...        ...                    ...       ...   \n",
       "zimbabwe    2016  5  5     PF        3.0  Civilian dictatorship       0.0   \n",
       "            2017  6  5     NF        3.0  Civilian dictatorship       0.0   \n",
       "            2018  5  5     PF        4.0  Military dictatorship       0.0   \n",
       "            2019  5  5     PF        4.0  Military dictatorship       0.0   \n",
       "            2020  6  5     NF        4.0  Military dictatorship       0.0   \n",
       "\n",
       "                  Commonwealth         Monarch name  Monarch accession  \\\n",
       "country     year                                                         \n",
       "afghanistan 1972           0.0  Mohammed Zahir Shah             1933.0   \n",
       "            1973           0.0  Mohammed Zahir Shah             1933.0   \n",
       "            1974           0.0                  NaN                NaN   \n",
       "            1975           0.0                  NaN                NaN   \n",
       "            1976           0.0                  NaN                NaN   \n",
       "...                        ...                  ...                ...   \n",
       "zimbabwe    2016           0.0                  NaN                NaN   \n",
       "            2017           0.0                  NaN                NaN   \n",
       "            2018           0.0                  NaN                NaN   \n",
       "            2019           0.0                  NaN                NaN   \n",
       "            2020           0.0                  NaN                NaN   \n",
       "\n",
       "                  Monarch birthyear  ...  Social safety nets  \\\n",
       "country     year                     ...                       \n",
       "afghanistan 1972             1914.0  ...                 NaN   \n",
       "            1973             1914.0  ...                 NaN   \n",
       "            1974                NaN  ...                 NaN   \n",
       "            1975                NaN  ...                 NaN   \n",
       "            1976                NaN  ...                 NaN   \n",
       "...                             ...  ...                 ...   \n",
       "zimbabwe    2016                NaN  ...                 NaN   \n",
       "            2017                NaN  ...                 NaN   \n",
       "            2018                NaN  ...                 NaN   \n",
       "            2019                NaN  ...                 NaN   \n",
       "            2020                NaN  ...                 NaN   \n",
       "\n",
       "                  Socioeconomic barriers  \\\n",
       "country     year                           \n",
       "afghanistan 1972                     NaN   \n",
       "            1973                     NaN   \n",
       "            1974                     NaN   \n",
       "            1975                     NaN   \n",
       "            1976                     NaN   \n",
       "...                                  ...   \n",
       "zimbabwe    2016                     NaN   \n",
       "            2017                     NaN   \n",
       "            2018                     NaN   \n",
       "            2019                     NaN   \n",
       "            2020                     NaN   \n",
       "\n",
       "                  Stability of Democratic Institutions State identity  \\\n",
       "country     year                                                        \n",
       "afghanistan 1972                                   NaN            NaN   \n",
       "            1973                                   NaN            NaN   \n",
       "            1974                                   NaN            NaN   \n",
       "            1975                                   NaN            NaN   \n",
       "            1976                                   NaN            NaN   \n",
       "...                                                ...            ...   \n",
       "zimbabwe    2016                                   NaN            NaN   \n",
       "            2017                                   NaN            NaN   \n",
       "            2018                                   NaN            NaN   \n",
       "            2019                                   NaN            NaN   \n",
       "            2020                                   NaN            NaN   \n",
       "\n",
       "                  Basic administration  Steering Capability  \\\n",
       "country     year                                              \n",
       "afghanistan 1972                   NaN                  NaN   \n",
       "            1973                   NaN                  NaN   \n",
       "            1974                   NaN                  NaN   \n",
       "            1975                   NaN                  NaN   \n",
       "            1976                   NaN                  NaN   \n",
       "...                                ...                  ...   \n",
       "zimbabwe    2016                   NaN                  NaN   \n",
       "            2017                   NaN                  NaN   \n",
       "            2018                   NaN                  NaN   \n",
       "            2019                   NaN                  NaN   \n",
       "            2020                   NaN                  NaN   \n",
       "\n",
       "                  Structural constraints  Welfare Regime  \\\n",
       "country     year                                           \n",
       "afghanistan 1972                     NaN             NaN   \n",
       "            1973                     NaN             NaN   \n",
       "            1974                     NaN             NaN   \n",
       "            1975                     NaN             NaN   \n",
       "            1976                     NaN             NaN   \n",
       "...                                  ...             ...   \n",
       "zimbabwe    2016                     NaN             NaN   \n",
       "            2017                     NaN             NaN   \n",
       "            2018                     NaN             NaN   \n",
       "            2019                     NaN             NaN   \n",
       "            2020                     NaN             NaN   \n",
       "\n",
       "                  Approval of democracy          gdp  \n",
       "country     year                                      \n",
       "afghanistan 1972                    NaN          NaN  \n",
       "            1973                    NaN          NaN  \n",
       "            1974                    NaN          NaN  \n",
       "            1975                    NaN          NaN  \n",
       "            1976                    NaN          NaN  \n",
       "...                                 ...          ...  \n",
       "zimbabwe    2016                    NaN  1464.583529  \n",
       "            2017                    NaN  1548.170056  \n",
       "            2018                    NaN  1683.740577  \n",
       "            2019                    NaN  1463.985910  \n",
       "            2020                    NaN          NaN  \n",
       "\n",
       "[9840 rows x 91 columns]"
      ],
      "text/html": "<div>\n<style scoped>\n    .dataframe tbody tr th:only-of-type {\n        vertical-align: middle;\n    }\n\n    .dataframe tbody tr th {\n        vertical-align: top;\n    }\n\n    .dataframe thead th {\n        text-align: right;\n    }\n</style>\n<table border=\"1\" class=\"dataframe\">\n  <thead>\n    <tr style=\"text-align: right;\">\n      <th></th>\n      <th></th>\n      <th>PR</th>\n      <th>CL</th>\n      <th>Status</th>\n      <th>DD regime</th>\n      <th>DD category</th>\n      <th>Monarchy</th>\n      <th>Commonwealth</th>\n      <th>Monarch name</th>\n      <th>Monarch accession</th>\n      <th>Monarch birthyear</th>\n      <th>...</th>\n      <th>Social safety nets</th>\n      <th>Socioeconomic barriers</th>\n      <th>Stability of Democratic Institutions</th>\n      <th>State identity</th>\n      <th>Basic administration</th>\n      <th>Steering Capability</th>\n      <th>Structural constraints</th>\n      <th>Welfare Regime</th>\n      <th>Approval of democracy</th>\n      <th>gdp</th>\n    </tr>\n    <tr>\n      <th>country</th>\n      <th>year</th>\n      <th></th>\n      <th></th>\n      <th></th>\n      <th></th>\n      <th></th>\n      <th></th>\n      <th></th>\n      <th></th>\n      <th></th>\n      <th></th>\n      <th></th>\n      <th></th>\n      <th></th>\n      <th></th>\n      <th></th>\n      <th></th>\n      <th></th>\n      <th></th>\n      <th></th>\n      <th></th>\n      <th></th>\n    </tr>\n  </thead>\n  <tbody>\n    <tr>\n      <th rowspan=\"5\" valign=\"top\">afghanistan</th>\n      <th>1972</th>\n      <td>4</td>\n      <td>5</td>\n      <td>PF</td>\n      <td>5.0</td>\n      <td>Royal dictatorship</td>\n      <td>1.0</td>\n      <td>0.0</td>\n      <td>Mohammed Zahir Shah</td>\n      <td>1933.0</td>\n      <td>1914.0</td>\n      <td>...</td>\n      <td>NaN</td>\n      <td>NaN</td>\n      <td>NaN</td>\n      <td>NaN</td>\n      <td>NaN</td>\n      <td>NaN</td>\n      <td>NaN</td>\n      <td>NaN</td>\n      <td>NaN</td>\n      <td>NaN</td>\n    </tr>\n    <tr>\n      <th>1973</th>\n      <td>7</td>\n      <td>6</td>\n      <td>NF</td>\n      <td>5.0</td>\n      <td>Royal dictatorship</td>\n      <td>1.0</td>\n      <td>0.0</td>\n      <td>Mohammed Zahir Shah</td>\n      <td>1933.0</td>\n      <td>1914.0</td>\n      <td>...</td>\n      <td>NaN</td>\n      <td>NaN</td>\n      <td>NaN</td>\n      <td>NaN</td>\n      <td>NaN</td>\n      <td>NaN</td>\n      <td>NaN</td>\n      <td>NaN</td>\n      <td>NaN</td>\n      <td>NaN</td>\n    </tr>\n    <tr>\n      <th>1974</th>\n      <td>7</td>\n      <td>6</td>\n      <td>NF</td>\n      <td>3.0</td>\n      <td>Civilian dictatorship</td>\n      <td>0.0</td>\n      <td>0.0</td>\n      <td>NaN</td>\n      <td>NaN</td>\n      <td>NaN</td>\n      <td>...</td>\n      <td>NaN</td>\n      <td>NaN</td>\n      <td>NaN</td>\n      <td>NaN</td>\n      <td>NaN</td>\n      <td>NaN</td>\n      <td>NaN</td>\n      <td>NaN</td>\n      <td>NaN</td>\n      <td>NaN</td>\n    </tr>\n    <tr>\n      <th>1975</th>\n      <td>7</td>\n      <td>6</td>\n      <td>NF</td>\n      <td>3.0</td>\n      <td>Civilian dictatorship</td>\n      <td>0.0</td>\n      <td>0.0</td>\n      <td>NaN</td>\n      <td>NaN</td>\n      <td>NaN</td>\n      <td>...</td>\n      <td>NaN</td>\n      <td>NaN</td>\n      <td>NaN</td>\n      <td>NaN</td>\n      <td>NaN</td>\n      <td>NaN</td>\n      <td>NaN</td>\n      <td>NaN</td>\n      <td>NaN</td>\n      <td>NaN</td>\n    </tr>\n    <tr>\n      <th>1976</th>\n      <td>7</td>\n      <td>6</td>\n      <td>NF</td>\n      <td>3.0</td>\n      <td>Civilian dictatorship</td>\n      <td>0.0</td>\n      <td>0.0</td>\n      <td>NaN</td>\n      <td>NaN</td>\n      <td>NaN</td>\n      <td>...</td>\n      <td>NaN</td>\n      <td>NaN</td>\n      <td>NaN</td>\n      <td>NaN</td>\n      <td>NaN</td>\n      <td>NaN</td>\n      <td>NaN</td>\n      <td>NaN</td>\n      <td>NaN</td>\n      <td>NaN</td>\n    </tr>\n    <tr>\n      <th>...</th>\n      <th>...</th>\n      <td>...</td>\n      <td>...</td>\n      <td>...</td>\n      <td>...</td>\n      <td>...</td>\n      <td>...</td>\n      <td>...</td>\n      <td>...</td>\n      <td>...</td>\n      <td>...</td>\n      <td>...</td>\n      <td>...</td>\n      <td>...</td>\n      <td>...</td>\n      <td>...</td>\n      <td>...</td>\n      <td>...</td>\n      <td>...</td>\n      <td>...</td>\n      <td>...</td>\n      <td>...</td>\n    </tr>\n    <tr>\n      <th rowspan=\"5\" valign=\"top\">zimbabwe</th>\n      <th>2016</th>\n      <td>5</td>\n      <td>5</td>\n      <td>PF</td>\n      <td>3.0</td>\n      <td>Civilian dictatorship</td>\n      <td>0.0</td>\n      <td>0.0</td>\n      <td>NaN</td>\n      <td>NaN</td>\n      <td>NaN</td>\n      <td>...</td>\n      <td>NaN</td>\n      <td>NaN</td>\n      <td>NaN</td>\n      <td>NaN</td>\n      <td>NaN</td>\n      <td>NaN</td>\n      <td>NaN</td>\n      <td>NaN</td>\n      <td>NaN</td>\n      <td>1464.583529</td>\n    </tr>\n    <tr>\n      <th>2017</th>\n      <td>6</td>\n      <td>5</td>\n      <td>NF</td>\n      <td>3.0</td>\n      <td>Civilian dictatorship</td>\n      <td>0.0</td>\n      <td>0.0</td>\n      <td>NaN</td>\n      <td>NaN</td>\n      <td>NaN</td>\n      <td>...</td>\n      <td>NaN</td>\n      <td>NaN</td>\n      <td>NaN</td>\n      <td>NaN</td>\n      <td>NaN</td>\n      <td>NaN</td>\n      <td>NaN</td>\n      <td>NaN</td>\n      <td>NaN</td>\n      <td>1548.170056</td>\n    </tr>\n    <tr>\n      <th>2018</th>\n      <td>5</td>\n      <td>5</td>\n      <td>PF</td>\n      <td>4.0</td>\n      <td>Military dictatorship</td>\n      <td>0.0</td>\n      <td>0.0</td>\n      <td>NaN</td>\n      <td>NaN</td>\n      <td>NaN</td>\n      <td>...</td>\n      <td>NaN</td>\n      <td>NaN</td>\n      <td>NaN</td>\n      <td>NaN</td>\n      <td>NaN</td>\n      <td>NaN</td>\n      <td>NaN</td>\n      <td>NaN</td>\n      <td>NaN</td>\n      <td>1683.740577</td>\n    </tr>\n    <tr>\n      <th>2019</th>\n      <td>5</td>\n      <td>5</td>\n      <td>PF</td>\n      <td>4.0</td>\n      <td>Military dictatorship</td>\n      <td>0.0</td>\n      <td>0.0</td>\n      <td>NaN</td>\n      <td>NaN</td>\n      <td>NaN</td>\n      <td>...</td>\n      <td>NaN</td>\n      <td>NaN</td>\n      <td>NaN</td>\n      <td>NaN</td>\n      <td>NaN</td>\n      <td>NaN</td>\n      <td>NaN</td>\n      <td>NaN</td>\n      <td>NaN</td>\n      <td>1463.985910</td>\n    </tr>\n    <tr>\n      <th>2020</th>\n      <td>6</td>\n      <td>5</td>\n      <td>NF</td>\n      <td>4.0</td>\n      <td>Military dictatorship</td>\n      <td>0.0</td>\n      <td>0.0</td>\n      <td>NaN</td>\n      <td>NaN</td>\n      <td>NaN</td>\n      <td>...</td>\n      <td>NaN</td>\n      <td>NaN</td>\n      <td>NaN</td>\n      <td>NaN</td>\n      <td>NaN</td>\n      <td>NaN</td>\n      <td>NaN</td>\n      <td>NaN</td>\n      <td>NaN</td>\n      <td>NaN</td>\n    </tr>\n  </tbody>\n</table>\n<p>9840 rows × 91 columns</p>\n</div>"
     },
     "metadata": {},
     "execution_count": 120
    }
   ],
   "source": [
    "all_df"
   ]
  },
  {
   "cell_type": "code",
   "execution_count": 122,
   "metadata": {},
   "outputs": [],
   "source": [
    "all_df.reset_index(inplace=True)\n",
    "all_df = all_df[(all_df.year >= 2006) & (all_df.year % 2 == 0) & (all_df.year <= 2018)]"
   ]
  },
  {
   "cell_type": "code",
   "execution_count": 123,
   "metadata": {},
   "outputs": [
    {
     "output_type": "execute_result",
     "data": {
      "text/plain": [
       "(1435, 93)"
      ]
     },
     "metadata": {},
     "execution_count": 123
    }
   ],
   "source": [
    "all_df.shape"
   ]
  },
  {
   "cell_type": "code",
   "execution_count": 124,
   "metadata": {},
   "outputs": [
    {
     "output_type": "execute_result",
     "data": {
      "text/plain": [
       "          country  year PR CL Status  DD regime            DD category  \\\n",
       "33    afghanistan  2006  5  5     PF        3.0  Civilian dictatorship   \n",
       "35    afghanistan  2008  5  6     NF        3.0  Civilian dictatorship   \n",
       "37    afghanistan  2010  6  6     NF        3.0  Civilian dictatorship   \n",
       "39    afghanistan  2012  6  6     NF        3.0  Civilian dictatorship   \n",
       "41    afghanistan  2014  6  6     NF        3.0  Civilian dictatorship   \n",
       "...           ...   ... .. ..    ...        ...                    ...   \n",
       "9829     zimbabwe  2010  6  6     NF        3.0  Civilian dictatorship   \n",
       "9831     zimbabwe  2012  6  6     NF        3.0  Civilian dictatorship   \n",
       "9833     zimbabwe  2014  5  6     NF        3.0  Civilian dictatorship   \n",
       "9835     zimbabwe  2016  5  5     PF        3.0  Civilian dictatorship   \n",
       "9837     zimbabwe  2018  5  5     PF        4.0  Military dictatorship   \n",
       "\n",
       "      Monarchy  Commonwealth Monarch name  ...  Social safety nets  \\\n",
       "33         0.0           0.0          NaN  ...                 1.0   \n",
       "35         0.0           0.0          NaN  ...                 1.0   \n",
       "37         0.0           0.0          NaN  ...                 1.0   \n",
       "39         0.0           0.0          NaN  ...                 1.0   \n",
       "41         0.0           0.0          NaN  ...                 1.0   \n",
       "...        ...           ...          ...  ...                 ...   \n",
       "9829       0.0           0.0          NaN  ...                 NaN   \n",
       "9831       0.0           0.0          NaN  ...                 NaN   \n",
       "9833       0.0           0.0          NaN  ...                 NaN   \n",
       "9835       0.0           0.0          NaN  ...                 NaN   \n",
       "9837       0.0           0.0          NaN  ...                 NaN   \n",
       "\n",
       "      Socioeconomic barriers  Stability of Democratic Institutions  \\\n",
       "33                       1.0                                   3.0   \n",
       "35                       1.0                                   3.0   \n",
       "37                       1.0                                   3.0   \n",
       "39                       1.0                                   3.0   \n",
       "41                       1.0                                   3.0   \n",
       "...                      ...                                   ...   \n",
       "9829                     NaN                                   NaN   \n",
       "9831                     NaN                                   NaN   \n",
       "9833                     NaN                                   NaN   \n",
       "9835                     NaN                                   NaN   \n",
       "9837                     NaN                                   NaN   \n",
       "\n",
       "      State identity  Basic administration Steering Capability  \\\n",
       "33               6.0                   2.0            4.333333   \n",
       "35               6.0                   2.0            4.333333   \n",
       "37               6.0                   1.0                 3.0   \n",
       "39               6.0                   2.0                 3.0   \n",
       "41               6.0                   2.0                 3.0   \n",
       "...              ...                   ...                 ...   \n",
       "9829             NaN                   NaN                 NaN   \n",
       "9831             NaN                   NaN                 NaN   \n",
       "9833             NaN                   NaN                 NaN   \n",
       "9835             NaN                   NaN                 NaN   \n",
       "9837             NaN                   NaN                 NaN   \n",
       "\n",
       "      Structural constraints  Welfare Regime  Approval of democracy  \\\n",
       "33                      10.0             1.0                    NaN   \n",
       "35                      10.0             1.5                    NaN   \n",
       "37                      10.0             1.5                    NaN   \n",
       "39                      10.0             1.5                    NaN   \n",
       "41                      10.0             1.5                    NaN   \n",
       "...                      ...             ...                    ...   \n",
       "9829                     NaN             NaN                    NaN   \n",
       "9831                     NaN             NaN                    NaN   \n",
       "9833                     NaN             NaN                    NaN   \n",
       "9835                     NaN             NaN                    NaN   \n",
       "9837                     NaN             NaN                    NaN   \n",
       "\n",
       "              gdp  \n",
       "33     263.733692  \n",
       "35     364.660745  \n",
       "37     543.303042  \n",
       "39     641.871479  \n",
       "41     613.856689  \n",
       "...           ...  \n",
       "9829   948.331854  \n",
       "9831  1304.969802  \n",
       "9833  1434.899340  \n",
       "9835  1464.583529  \n",
       "9837  1683.740577  \n",
       "\n",
       "[1435 rows x 93 columns]"
      ],
      "text/html": "<div>\n<style scoped>\n    .dataframe tbody tr th:only-of-type {\n        vertical-align: middle;\n    }\n\n    .dataframe tbody tr th {\n        vertical-align: top;\n    }\n\n    .dataframe thead th {\n        text-align: right;\n    }\n</style>\n<table border=\"1\" class=\"dataframe\">\n  <thead>\n    <tr style=\"text-align: right;\">\n      <th></th>\n      <th>country</th>\n      <th>year</th>\n      <th>PR</th>\n      <th>CL</th>\n      <th>Status</th>\n      <th>DD regime</th>\n      <th>DD category</th>\n      <th>Monarchy</th>\n      <th>Commonwealth</th>\n      <th>Monarch name</th>\n      <th>...</th>\n      <th>Social safety nets</th>\n      <th>Socioeconomic barriers</th>\n      <th>Stability of Democratic Institutions</th>\n      <th>State identity</th>\n      <th>Basic administration</th>\n      <th>Steering Capability</th>\n      <th>Structural constraints</th>\n      <th>Welfare Regime</th>\n      <th>Approval of democracy</th>\n      <th>gdp</th>\n    </tr>\n  </thead>\n  <tbody>\n    <tr>\n      <th>33</th>\n      <td>afghanistan</td>\n      <td>2006</td>\n      <td>5</td>\n      <td>5</td>\n      <td>PF</td>\n      <td>3.0</td>\n      <td>Civilian dictatorship</td>\n      <td>0.0</td>\n      <td>0.0</td>\n      <td>NaN</td>\n      <td>...</td>\n      <td>1.0</td>\n      <td>1.0</td>\n      <td>3.0</td>\n      <td>6.0</td>\n      <td>2.0</td>\n      <td>4.333333</td>\n      <td>10.0</td>\n      <td>1.0</td>\n      <td>NaN</td>\n      <td>263.733692</td>\n    </tr>\n    <tr>\n      <th>35</th>\n      <td>afghanistan</td>\n      <td>2008</td>\n      <td>5</td>\n      <td>6</td>\n      <td>NF</td>\n      <td>3.0</td>\n      <td>Civilian dictatorship</td>\n      <td>0.0</td>\n      <td>0.0</td>\n      <td>NaN</td>\n      <td>...</td>\n      <td>1.0</td>\n      <td>1.0</td>\n      <td>3.0</td>\n      <td>6.0</td>\n      <td>2.0</td>\n      <td>4.333333</td>\n      <td>10.0</td>\n      <td>1.5</td>\n      <td>NaN</td>\n      <td>364.660745</td>\n    </tr>\n    <tr>\n      <th>37</th>\n      <td>afghanistan</td>\n      <td>2010</td>\n      <td>6</td>\n      <td>6</td>\n      <td>NF</td>\n      <td>3.0</td>\n      <td>Civilian dictatorship</td>\n      <td>0.0</td>\n      <td>0.0</td>\n      <td>NaN</td>\n      <td>...</td>\n      <td>1.0</td>\n      <td>1.0</td>\n      <td>3.0</td>\n      <td>6.0</td>\n      <td>1.0</td>\n      <td>3.0</td>\n      <td>10.0</td>\n      <td>1.5</td>\n      <td>NaN</td>\n      <td>543.303042</td>\n    </tr>\n    <tr>\n      <th>39</th>\n      <td>afghanistan</td>\n      <td>2012</td>\n      <td>6</td>\n      <td>6</td>\n      <td>NF</td>\n      <td>3.0</td>\n      <td>Civilian dictatorship</td>\n      <td>0.0</td>\n      <td>0.0</td>\n      <td>NaN</td>\n      <td>...</td>\n      <td>1.0</td>\n      <td>1.0</td>\n      <td>3.0</td>\n      <td>6.0</td>\n      <td>2.0</td>\n      <td>3.0</td>\n      <td>10.0</td>\n      <td>1.5</td>\n      <td>NaN</td>\n      <td>641.871479</td>\n    </tr>\n    <tr>\n      <th>41</th>\n      <td>afghanistan</td>\n      <td>2014</td>\n      <td>6</td>\n      <td>6</td>\n      <td>NF</td>\n      <td>3.0</td>\n      <td>Civilian dictatorship</td>\n      <td>0.0</td>\n      <td>0.0</td>\n      <td>NaN</td>\n      <td>...</td>\n      <td>1.0</td>\n      <td>1.0</td>\n      <td>3.0</td>\n      <td>6.0</td>\n      <td>2.0</td>\n      <td>3.0</td>\n      <td>10.0</td>\n      <td>1.5</td>\n      <td>NaN</td>\n      <td>613.856689</td>\n    </tr>\n    <tr>\n      <th>...</th>\n      <td>...</td>\n      <td>...</td>\n      <td>...</td>\n      <td>...</td>\n      <td>...</td>\n      <td>...</td>\n      <td>...</td>\n      <td>...</td>\n      <td>...</td>\n      <td>...</td>\n      <td>...</td>\n      <td>...</td>\n      <td>...</td>\n      <td>...</td>\n      <td>...</td>\n      <td>...</td>\n      <td>...</td>\n      <td>...</td>\n      <td>...</td>\n      <td>...</td>\n      <td>...</td>\n    </tr>\n    <tr>\n      <th>9829</th>\n      <td>zimbabwe</td>\n      <td>2010</td>\n      <td>6</td>\n      <td>6</td>\n      <td>NF</td>\n      <td>3.0</td>\n      <td>Civilian dictatorship</td>\n      <td>0.0</td>\n      <td>0.0</td>\n      <td>NaN</td>\n      <td>...</td>\n      <td>NaN</td>\n      <td>NaN</td>\n      <td>NaN</td>\n      <td>NaN</td>\n      <td>NaN</td>\n      <td>NaN</td>\n      <td>NaN</td>\n      <td>NaN</td>\n      <td>NaN</td>\n      <td>948.331854</td>\n    </tr>\n    <tr>\n      <th>9831</th>\n      <td>zimbabwe</td>\n      <td>2012</td>\n      <td>6</td>\n      <td>6</td>\n      <td>NF</td>\n      <td>3.0</td>\n      <td>Civilian dictatorship</td>\n      <td>0.0</td>\n      <td>0.0</td>\n      <td>NaN</td>\n      <td>...</td>\n      <td>NaN</td>\n      <td>NaN</td>\n      <td>NaN</td>\n      <td>NaN</td>\n      <td>NaN</td>\n      <td>NaN</td>\n      <td>NaN</td>\n      <td>NaN</td>\n      <td>NaN</td>\n      <td>1304.969802</td>\n    </tr>\n    <tr>\n      <th>9833</th>\n      <td>zimbabwe</td>\n      <td>2014</td>\n      <td>5</td>\n      <td>6</td>\n      <td>NF</td>\n      <td>3.0</td>\n      <td>Civilian dictatorship</td>\n      <td>0.0</td>\n      <td>0.0</td>\n      <td>NaN</td>\n      <td>...</td>\n      <td>NaN</td>\n      <td>NaN</td>\n      <td>NaN</td>\n      <td>NaN</td>\n      <td>NaN</td>\n      <td>NaN</td>\n      <td>NaN</td>\n      <td>NaN</td>\n      <td>NaN</td>\n      <td>1434.899340</td>\n    </tr>\n    <tr>\n      <th>9835</th>\n      <td>zimbabwe</td>\n      <td>2016</td>\n      <td>5</td>\n      <td>5</td>\n      <td>PF</td>\n      <td>3.0</td>\n      <td>Civilian dictatorship</td>\n      <td>0.0</td>\n      <td>0.0</td>\n      <td>NaN</td>\n      <td>...</td>\n      <td>NaN</td>\n      <td>NaN</td>\n      <td>NaN</td>\n      <td>NaN</td>\n      <td>NaN</td>\n      <td>NaN</td>\n      <td>NaN</td>\n      <td>NaN</td>\n      <td>NaN</td>\n      <td>1464.583529</td>\n    </tr>\n    <tr>\n      <th>9837</th>\n      <td>zimbabwe</td>\n      <td>2018</td>\n      <td>5</td>\n      <td>5</td>\n      <td>PF</td>\n      <td>4.0</td>\n      <td>Military dictatorship</td>\n      <td>0.0</td>\n      <td>0.0</td>\n      <td>NaN</td>\n      <td>...</td>\n      <td>NaN</td>\n      <td>NaN</td>\n      <td>NaN</td>\n      <td>NaN</td>\n      <td>NaN</td>\n      <td>NaN</td>\n      <td>NaN</td>\n      <td>NaN</td>\n      <td>NaN</td>\n      <td>1683.740577</td>\n    </tr>\n  </tbody>\n</table>\n<p>1435 rows × 93 columns</p>\n</div>"
     },
     "metadata": {},
     "execution_count": 124
    }
   ],
   "source": [
    "all_df"
   ]
  },
  {
   "cell_type": "code",
   "execution_count": 3,
   "metadata": {},
   "outputs": [
    {
     "output_type": "execute_result",
     "data": {
      "text/plain": [
       "  id  name\n",
       "----  --------------------------------------------------------------------\n",
       "   1  Doing Business\n",
       "   2  World Development Indicators\n",
       "   3  Worldwide Governance Indicators\n",
       "   5  Subnational Malnutrition Database\n",
       "   6  International Debt Statistics\n",
       "  11  Africa Development Indicators\n",
       "  12  Education Statistics\n",
       "  13  Enterprise Surveys\n",
       "  14  Gender Statistics\n",
       "  15  Global Economic Monitor\n",
       "  16  Health Nutrition and Population Statistics\n",
       "  18  IDA Results Measurement System\n",
       "  19  Millennium Development Goals\n",
       "  20  Quarterly Public Sector Debt\n",
       "  22  Quarterly External Debt Statistics SDDS\n",
       "  23  Quarterly External Debt Statistics GDDS\n",
       "  24  Poverty and Equity\n",
       "  25  Jobs\n",
       "  27  Global Economic Prospects\n",
       "  28  Global Financial Inclusion\n",
       "  29  The Atlas of Social Protection: Indicators of Resilience and Equity\n",
       "  30  Exporter Dynamics Database – Indicators at Country-Year Level\n",
       "  31  Country Policy and Institutional Assessment\n",
       "  32  Global Financial Development\n",
       "  33  G20 Financial Inclusion Indicators\n",
       "  34  Global Partnership for Education\n",
       "  35  Sustainable Energy for All\n",
       "  36  Statistical Capacity Indicators\n",
       "  37  LAC Equity Lab\n",
       "  38  Subnational Poverty\n",
       "  39  Health Nutrition and Population Statistics by Wealth Quintile\n",
       "  40  Population estimates and projections\n",
       "  41  Country Partnership Strategy for India (FY2013 - 17)\n",
       "  43  Adjusted Net Savings\n",
       "  45  Indonesia Database for Policy and Economic Research\n",
       "  46  Sustainable Development Goals\n",
       "  50  Subnational Population\n",
       "  54  Joint External Debt Hub\n",
       "  57  WDI Database Archives\n",
       "  58  Universal Health Coverage\n",
       "  59  Wealth Accounts\n",
       "  60  Economic Fitness\n",
       "  61  PPPs Regulatory Quality\n",
       "  62  International Comparison Program (ICP) 2011\n",
       "  63  Human Capital Index\n",
       "  64  Worldwide Bureaucracy Indicators\n",
       "  65  Health Equity and Financial Protection Indicators\n",
       "  66  Logistics Performance Index\n",
       "  67  PEFA 2011\n",
       "  68  PEFA 2016\n",
       "  69  Global Financial Inclusion and Consumer Protection Survey\n",
       "  70  Economic Fitness 2\n",
       "  71  International Comparison Program (ICP) 2005\n",
       "  72  PEFA_Test\n",
       "  73  Global Financial Inclusion and Consumer Protection Survey (Internal)\n",
       "  75  Environment, Social and Governance (ESG) Data\n",
       "  76  Remittance Prices Worldwide (Sending Countries)\n",
       "  77  Remittance Prices Worldwide (Receiving Countries)\n",
       "  78  ICP 2017\n",
       "  79  PEFA_GRPFM\n",
       "  80  Gender Disaggregated Labor Database (GDLD)\n",
       "  81  International Debt Statistics: DSSI\n",
       "  82  Global Public Procurement\n",
       "  83  Statistical Performance Indicators (SPI)"
      ]
     },
     "metadata": {},
     "execution_count": 3
    }
   ],
   "source": [
    "wbdata.get_source()"
   ]
  },
  {
   "cell_type": "code",
   "execution_count": 4,
   "metadata": {},
   "outputs": [
    {
     "output_type": "execute_result",
     "data": {
      "text/plain": [
       "uth male (% of male labor force ages 15-24) (national estimate)\n",
       "SL.UEM.1524.MA.ZS          Unemployment, youth male (% of male labor force ages 15-24) (modeled ILO estimate)\n",
       "SL.UEM.1524.NE.ZS          Unemployment, youth total (% of total labor force ages 15-24) (national estimate)\n",
       "SL.UEM.1524.ZS             Unemployment, youth total (% of total labor force ages 15-24) (modeled ILO estimate)\n",
       "SL.UEM.ADVN.FE.ZS          Unemployment with advanced education, female (% of female labor force with advanced education)\n",
       "SL.UEM.ADVN.MA.ZS          Unemployment with advanced education, male (% of male labor force with advanced education)\n",
       "SL.UEM.ADVN.ZS             Unemployment with advanced education (% of total labor force with advanced education)\n",
       "SL.UEM.BASC.FE.ZS          Unemployment with basic education, female (% of female labor force with basic education)\n",
       "SL.UEM.BASC.MA.ZS          Unemployment with basic education, male (% of male labor force with basic education)\n",
       "SL.UEM.BASC.ZS             Unemployment with basic education (% of total labor force with basic education)\n",
       "SL.UEM.INTM.FE.ZS          Unemployment with intermediate education, female (% of female labor force with intermediate education)\n",
       "SL.UEM.INTM.MA.ZS          Unemployment with intermediate education, male (% of male labor force with intermediate education)\n",
       "SL.UEM.INTM.ZS             Unemployment with intermediate education (% of total labor force with intermediate education)\n",
       "SL.UEM.NEET.FE.ZS          Share of youth not in education, employment or training, female (% of female youth population)\n",
       "SL.UEM.NEET.MA.ZS          Share of youth not in education, employment or training, male (% of male youth population)\n",
       "SL.UEM.NEET.ZS             Share of youth not in education, employment or training, total (% of youth population)\n",
       "SL.UEM.TOTL.FE.NE.ZS       Unemployment, female (% of female labor force) (national estimate)\n",
       "SL.UEM.TOTL.FE.ZS          Unemployment, female (% of female labor force) (modeled ILO estimate)\n",
       "SL.UEM.TOTL.MA.NE.ZS       Unemployment, male (% of male labor force) (national estimate)\n",
       "SL.UEM.TOTL.MA.ZS          Unemployment, male (% of male labor force) (modeled ILO estimate)\n",
       "SL.UEM.TOTL.NE.ZS          Unemployment, total (% of total labor force) (national estimate)\n",
       "SL.UEM.TOTL.ZS             Unemployment, total (% of total labor force) (modeled ILO estimate)\n",
       "SL.WAG.0714.FE.ZS          Children in employment, wage workers, female (% of female children in employment, ages 7-14)\n",
       "SL.WAG.0714.MA.ZS          Children in employment, wage workers, male (% of male children in employment, ages 7-14)\n",
       "SL.WAG.0714.ZS             Children in employment, wage workers (% of children in employment, ages 7-14)\n",
       "SM.POP.NETM                Net migration\n",
       "SM.POP.REFG                Refugee population by country or territory of asylum\n",
       "SM.POP.REFG.OR             Refugee population by country or territory of origin\n",
       "SM.POP.TOTL                International migrant stock, total\n",
       "SM.POP.TOTL.ZS             International migrant stock (% of population)\n",
       "SN.ITK.DEFC.ZS             Prevalence of undernourishment (% of population)\n",
       "SN.ITK.MSFI.ZS             Prevalence of moderate or severe food insecurity in the population (%)\n",
       "SN.ITK.SALT.ZS             Consumption of iodized salt (% of households)\n",
       "SN.ITK.SVFI.ZS             Prevalence of severe food insecurity in the population (%)\n",
       "SN.ITK.VITA.ZS             Vitamin A supplementation coverage rate (% of children ages 6-59 months)\n",
       "SP.ADO.TFRT                Adolescent fertility rate (births per 1,000 women ages 15-19)\n",
       "SP.DYN.AMRT.FE             Mortality rate, adult, female (per 1,000 female adults)\n",
       "SP.DYN.AMRT.MA             Mortality rate, adult, male (per 1,000 male adults)\n",
       "SP.DYN.CBRT.IN             Birth rate, crude (per 1,000 people)\n",
       "SP.DYN.CDRT.IN             Death rate, crude (per 1,000 people)\n",
       "SP.DYN.CONM.ZS             Contraceptive prevalence, modern methods (% of women ages 15-49)\n",
       "SP.DYN.CONU.ZS             Contraceptive prevalence, any methods (% of women ages 15-49)\n",
       "SP.DYN.IMRT.FE.IN          Mortality rate, infant, female (per 1,000 live births)\n",
       "SP.DYN.IMRT.IN             Mortality rate, infant (per 1,000 live births)\n",
       "SP.DYN.IMRT.MA.IN          Mortality rate, infant, male (per 1,000 live births)\n",
       "SP.DYN.LE00.FE.IN          Life expectancy at birth, female (years)\n",
       "SP.DYN.LE00.IN             Life expectancy at birth, total (years)\n",
       "SP.DYN.LE00.MA.IN          Life expectancy at birth, male (years)\n",
       "SP.DYN.TFRT.IN             Fertility rate, total (births per woman)\n",
       "SP.DYN.TO65.FE.ZS          Survival to age 65, female (% of cohort)\n",
       "SP.DYN.TO65.MA.ZS          Survival to age 65, male (% of cohort)\n",
       "SP.DYN.WFRT                Wanted fertility rate (births per woman)\n",
       "SP.HOU.FEMA.ZS             Female headed households (% of households with a female head)\n",
       "SP.M15.2024.FE.ZS          Women who were first married by age 15 (% of women ages 20-24)\n",
       "SP.M18.2024.FE.ZS          Women who were first married by age 18 (% of women ages 20-24)\n",
       "SP.MTR.1519.ZS             Teenage mothers (% of women ages 15-19 who have had children or are currently pregnant)\n",
       "SP.POP.0004.FE.5Y          Population ages 00-04, female (% of female population)\n",
       "SP.POP.0004.MA.5Y          Population ages 00-04, male (% of male population)\n",
       "SP.POP.0014.FE.IN          Population ages 0-14, female\n",
       "SP.POP.0014.FE.ZS          Population ages 0-14, female (% of female population)\n",
       "SP.POP.0014.MA.IN          Population ages 0-14, male\n",
       "SP.POP.0014.MA.ZS          Population ages 0-14, male (% of male population)\n",
       "SP.POP.0014.TO             Population ages 0-14, total\n",
       "SP.POP.0014.TO.ZS          Population ages 0-14 (% of total population)\n",
       "SP.POP.0509.FE.5Y          Population ages 05-09, female (% of female population)\n",
       "SP.POP.0509.MA.5Y          Population ages 05-09, male (% of male population)\n",
       "SP.POP.1014.FE.5Y          Population ages 10-14, female (% of female population)\n",
       "SP.POP.1014.MA.5Y          Population ages 10-14, male (% of male population)\n",
       "SP.POP.1519.FE.5Y          Population ages 15-19, female (% of female population)\n",
       "SP.POP.1519.MA.5Y          Population ages 15-19, male (% of male population)\n",
       "SP.POP.1564.FE.IN          Population ages 15-64, female\n",
       "SP.POP.1564.FE.ZS          Population ages 15-64, female (% of female population)\n",
       "SP.POP.1564.MA.IN          Population ages 15-64, male\n",
       "SP.POP.1564.MA.ZS          Population ages 15-64, male (% of male population)\n",
       "SP.POP.1564.TO             Population ages 15-64, total\n",
       "SP.POP.1564.TO.ZS          Population ages 15-64 (% of total population)\n",
       "SP.POP.2024.FE.5Y          Population ages 20-24, female (% of female population)\n",
       "SP.POP.2024.MA.5Y          Population ages 20-24, male (% of male population)\n",
       "SP.POP.2529.FE.5Y          Population ages 25-29, female (% of female population)\n",
       "SP.POP.2529.MA.5Y          Population ages 25-29, male (% of male population)\n",
       "SP.POP.3034.FE.5Y          Population ages 30-34, female (% of female population)\n",
       "SP.POP.3034.MA.5Y          Population ages 30-34, male (% of male population)\n",
       "SP.POP.3539.FE.5Y          Population ages 35-39, female (% of female population)\n",
       "SP.POP.3539.MA.5Y          Population ages 35-39, male (% of male population)\n",
       "SP.POP.4044.FE.5Y          Population ages 40-44, female (% of female population)\n",
       "SP.POP.4044.MA.5Y          Population ages 40-44, male (% of male population)\n",
       "SP.POP.4549.FE.5Y          Population ages 45-49, female (% of female population)\n",
       "SP.POP.4549.MA.5Y          Population ages 45-49, male (% of male population)\n",
       "SP.POP.5054.FE.5Y          Population ages 50-54, female (% of female population)\n",
       "SP.POP.5054.MA.5Y          Population ages 50-54, male (% of male population)\n",
       "SP.POP.5559.FE.5Y          Population ages 55-59, female (% of female population)\n",
       "SP.POP.5559.MA.5Y          Population ages 55-59, male (% of male population)\n",
       "SP.POP.6064.FE.5Y          Population ages 60-64, female (% of female population)\n",
       "SP.POP.6064.MA.5Y          Population ages 60-64, male (% of male population)\n",
       "SP.POP.6569.FE.5Y          Population ages 65-69, female (% of female population)\n",
       "SP.POP.6569.MA.5Y          Population ages 65-69, male (% of male population)\n",
       "SP.POP.65UP.FE.IN          Population ages 65 and above, female\n",
       "SP.POP.65UP.FE.ZS          Population ages 65 and above, female (% of female population)\n",
       "SP.POP.65UP.MA.IN          Population ages 65 and above, male\n",
       "SP.POP.65UP.MA.ZS          Population ages 65 and above, male (% of male population)\n",
       "SP.POP.65UP.TO             Population ages 65 and above, total\n",
       "SP.POP.65UP.TO.ZS          Population ages 65 and above (% of total population)\n",
       "SP.POP.7074.FE.5Y          Population ages 70-74, female (% of female population)\n",
       "SP.POP.7074.MA.5Y          Population ages 70-74, male (% of male population)\n",
       "SP.POP.7579.FE.5Y          Population ages 75-79, female (% of female population)\n",
       "SP.POP.7579.MA.5Y          Population ages 75-79, male (% of male population)\n",
       "SP.POP.80UP.FE.5Y          Population ages 80 and above, female (% of female population)\n",
       "SP.POP.80UP.MA.5Y          Population ages 80 and above, male (% of male population)\n",
       "SP.POP.BRTH.MF             Sex ratio at birth (male births per female births)\n",
       "SP.POP.DPND                Age dependency ratio (% of working-age population)\n",
       "SP.POP.DPND.OL             Age dependency ratio, old (% of working-age population)\n",
       "SP.POP.DPND.YG             Age dependency ratio, young (% of working-age population)\n",
       "SP.POP.GROW                Population growth (annual %)\n",
       "SP.POP.SCIE.RD.P6          Researchers in R&D (per million people)\n",
       "SP.POP.TECH.RD.P6          Technicians in R&D (per million people)\n",
       "SP.POP.TOTL                Population, total\n",
       "SP.POP.TOTL.FE.IN          Population, female\n",
       "SP.POP.TOTL.FE.ZS          Population, female (% of total population)\n",
       "SP.POP.TOTL.MA.IN          Population, male\n",
       "SP.POP.TOTL.MA.ZS          Population, male (% of total population)\n",
       "SP.REG.BRTH.FE.ZS          Completeness of birth registration, female (%)\n",
       "SP.REG.BRTH.MA.ZS          Completeness of birth registration, male (%)\n",
       "SP.REG.BRTH.RU.ZS          Completeness of birth registration, rural (%)\n",
       "SP.REG.BRTH.UR.ZS          Completeness of birth registration, urban (%)\n",
       "SP.REG.BRTH.ZS             Completeness of birth registration (%)\n",
       "SP.REG.DTHS.ZS             Completeness of death registration with cause-of-death information (%)\n",
       "SP.RUR.TOTL                Rural population\n",
       "SP.RUR.TOTL.ZG             Rural population growth (annual %)\n",
       "SP.RUR.TOTL.ZS             Rural population (% of total population)\n",
       "SP.URB.GROW                Urban population growth (annual %)\n",
       "SP.URB.TOTL                Urban population\n",
       "SP.URB.TOTL.IN.ZS          Urban population (% of total population)\n",
       "SP.UWT.TFRT                Unmet need for contraception (% of married women ages 15-49)\n",
       "ST.INT.ARVL                International tourism, number of arrivals\n",
       "ST.INT.DPRT                International tourism, number of departures\n",
       "ST.INT.RCPT.CD             International tourism, receipts (current US$)\n",
       "ST.INT.RCPT.XP.ZS          International tourism, receipts (% of total exports)\n",
       "ST.INT.TRNR.CD             International tourism, receipts for passenger transport items (current US$)\n",
       "ST.INT.TRNX.CD             International tourism, expenditures for passenger transport items (current US$)\n",
       "ST.INT.TVLR.CD             International tourism, receipts for travel items (current US$)\n",
       "ST.INT.TVLX.CD             International tourism, expenditures for travel items (current US$)\n",
       "ST.INT.XPND.CD             International tourism, expenditures (current US$)\n",
       "ST.INT.XPND.MP.ZS          International tourism, expenditures (% of total imports)\n",
       "TG.VAL.TOTL.GD.ZS          Merchandise trade (% of GDP)\n",
       "TM.QTY.MRCH.XD.WD          Import volume index (2000 = 100)\n",
       "TM.TAX.MANF.BC.ZS          Binding coverage, manufactured products (%)\n",
       "TM.TAX.MANF.BR.ZS          Bound rate, simple mean, manufactured products (%)\n",
       "TM.TAX.MANF.IP.ZS          Share of tariff lines with international peaks, manufactured products (%)\n",
       "TM.TAX.MANF.SM.AR.ZS       Tariff rate, applied, simple mean, manufactured products (%)\n",
       "TM.TAX.MANF.SM.FN.ZS       Tariff rate, most favored nation, simple mean, manufactured products (%)\n",
       "TM.TAX.MANF.SR.ZS          Share of tariff lines with specific rates, manufactured products (%)\n",
       "TM.TAX.MANF.WM.AR.ZS       Tariff rate, applied, weighted mean, manufactured products (%)\n",
       "TM.TAX.MANF.WM.FN.ZS       Tariff rate, most favored nation, weighted mean, manufactured products (%)\n",
       "TM.TAX.MRCH.BC.ZS          Binding coverage, all products (%)\n",
       "TM.TAX.MRCH.BR.ZS          Bound rate, simple mean, all products (%)\n",
       "TM.TAX.MRCH.IP.ZS          Share of tariff lines with international peaks, all products (%)\n",
       "TM.TAX.MRCH.SM.AR.ZS       Tariff rate, applied, simple mean, all products (%)\n",
       "TM.TAX.MRCH.SM.FN.ZS       Tariff rate, most favored nation, simple mean, all products (%)\n",
       "TM.TAX.MRCH.SR.ZS          Share of tariff lines with specific rates, all products (%)\n",
       "TM.TAX.MRCH.WM.AR.ZS       Tariff rate, applied, weighted mean, all products (%)\n",
       "TM.TAX.MRCH.WM.FN.ZS       Tariff rate, most favored nation, weighted mean, all products (%)\n",
       "TM.TAX.TCOM.BC.ZS          Binding coverage, primary products (%)\n",
       "TM.TAX.TCOM.BR.ZS          Bound rate, simple mean, primary products (%)\n",
       "TM.TAX.TCOM.IP.ZS          Share of tariff lines with international peaks, primary products (%)\n",
       "TM.TAX.TCOM.SM.AR.ZS       Tariff rate, applied, simple mean, primary products (%)\n",
       "TM.TAX.TCOM.SM.FN.ZS       Tariff rate, most favored nation, simple mean, primary products (%)\n",
       "TM.TAX.TCOM.SR.ZS          Share of tariff lines with specific rates, primary products (%)\n",
       "TM.TAX.TCOM.WM.AR.ZS       Tariff rate, applied, weighted mean, primary products (%)\n",
       "TM.TAX.TCOM.WM.FN.ZS       Tariff rate, most favored nation, weighted mean, primary products (%)\n",
       "TM.UVI.MRCH.XD.WD          Import unit value index (2000 = 100)\n",
       "TM.VAL.AGRI.ZS.UN          Agricultural raw materials imports (% of merchandise imports)\n",
       "TM.VAL.FOOD.ZS.UN          Food imports (% of merchandise imports)\n",
       "TM.VAL.FUEL.ZS.UN          Fuel imports (% of merchandise imports)\n",
       "TM.VAL.ICTG.ZS.UN          ICT goods imports (% total goods imports)\n",
       "TM.VAL.INSF.ZS.WT          Insurance and financial services (% of commercial service imports)\n",
       "TM.VAL.MANF.ZS.UN          Manufactures imports (% of merchandise imports)\n",
       "TM.VAL.MMTL.ZS.UN          Ores and metals imports (% of merchandise imports)\n",
       "TM.VAL.MRCH.AL.ZS          Merchandise imports from economies in the Arab World (% of total merchandise imports)\n",
       "TM.VAL.MRCH.CD.WT          Merchandise imports (current US$)\n",
       "TM.VAL.MRCH.HI.ZS          Merchandise imports from high-income economies (% of total merchandise imports)\n",
       "TM.VAL.MRCH.OR.ZS          Merchandise imports from low- and middle-income economies outside region (% of total merchandise imports)\n",
       "TM.VAL.MRCH.R1.ZS          Merchandise imports from low- and middle-income economies in East Asia & Pacific (% of total merchandise imports)\n",
       "TM.VAL.MRCH.R2.ZS          Merchandise imports from low- and middle-income economies in Europe & Central Asia (% of total merchandise imports)\n",
       "TM.VAL.MRCH.R3.ZS          Merchandise imports from low- and middle-income economies in Latin America & the Caribbean (% of total merchandise imports)\n",
       "TM.VAL.MRCH.R4.ZS          Merchandise imports from low- and middle-income economies in Middle East & North Africa (% of total merchandise imports)\n",
       "TM.VAL.MRCH.R5.ZS          Merchandise imports from low- and middle-income economies in South Asia (% of total merchandise imports)\n",
       "TM.VAL.MRCH.R6.ZS          Merchandise imports from low- and middle-income economies in Sub-Saharan Africa (% of total merchandise imports)\n",
       "TM.VAL.MRCH.RS.ZS          Merchandise imports by the reporting economy, residual (% of total merchandise imports)\n",
       "TM.VAL.MRCH.WL.CD          Merchandise imports by the reporting economy (current US$)\n",
       "TM.VAL.MRCH.WR.ZS          Merchandise imports from low- and middle-income economies within region (% of total merchandise imports)\n",
       "TM.VAL.MRCH.XD.WD          Import value index (2000 = 100)\n",
       "TM.VAL.OTHR.ZS.WT          Computer, communications and other services (% of commercial service imports)\n",
       "TM.VAL.SERV.CD.WT          Commercial service imports (current US$)\n",
       "TM.VAL.TRAN.ZS.WT          Transport services (% of commercial service imports)\n",
       "TM.VAL.TRVL.ZS.WT          Travel services (% of commercial service imports)\n",
       "TT.PRI.MRCH.XD.WD          Net barter terms of trade index (2000 = 100)\n",
       "TX.MNF.TECH.ZS.UN          Medium and high-tech exports (% manufactured exports)\n",
       "TX.QTY.MRCH.XD.WD          Export volume index (2000 = 100)\n",
       "TX.UVI.MRCH.XD.WD          Export unit value index (2000 = 100)\n",
       "TX.VAL.AGRI.ZS.UN          Agricultural raw materials exports (% of merchandise exports)\n",
       "TX.VAL.FOOD.ZS.UN          Food exports (% of merchandise exports)\n",
       "TX.VAL.FUEL.ZS.UN          Fuel exports (% of merchandise exports)\n",
       "TX.VAL.ICTG.ZS.UN          ICT goods exports (% of total goods exports)\n",
       "TX.VAL.INSF.ZS.WT          Insurance and financial services (% of commercial service exports)\n",
       "TX.VAL.MANF.ZS.UN          Manufactures exports (% of merchandise exports)\n",
       "TX.VAL.MMTL.ZS.UN          Ores and metals exports (% of merchandise exports)\n",
       "TX.VAL.MRCH.AL.ZS          Merchandise exports to economies in the Arab World (% of total merchandise exports)\n",
       "TX.VAL.MRCH.CD.WT          Merchandise exports (current US$)\n",
       "TX.VAL.MRCH.HI.ZS          Merchandise exports to high-income economies (% of total merchandise exports)\n",
       "TX.VAL.MRCH.OR.ZS          Merchandise exports to low- and middle-income economies outside region (% of total merchandise exports)\n",
       "TX.VAL.MRCH.R1.ZS          Merchandise exports to low- and middle-income economies in East Asia & Pacific (% of total merchandise exports)\n",
       "TX.VAL.MRCH.R2.ZS          Merchandise exports to low- and middle-income economies in Europe & Central Asia (% of total merchandise exports)\n",
       "TX.VAL.MRCH.R3.ZS          Merchandise exports to low- and middle-income economies in Latin America & the Caribbean (% of total merchandise exports)\n",
       "TX.VAL.MRCH.R4.ZS          Merchandise exports to low- and middle-income economies in Middle East & North Africa (% of total merchandise exports)\n",
       "TX.VAL.MRCH.R5.ZS          Merchandise exports to low- and middle-income economies in South Asia (% of total merchandise exports)\n",
       "TX.VAL.MRCH.R6.ZS          Merchandise exports to low- and middle-income economies in Sub-Saharan Africa (% of total merchandise exports)\n",
       "TX.VAL.MRCH.RS.ZS          Merchandise exports by the reporting economy, residual (% of total merchandise exports)\n",
       "TX.VAL.MRCH.WL.CD          Merchandise exports by the reporting economy (current US$)\n",
       "TX.VAL.MRCH.WR.ZS          Merchandise exports to low- and middle-income economies within region (% of total merchandise exports)\n",
       "TX.VAL.MRCH.XD.WD          Export value index (2000 = 100)\n",
       "TX.VAL.OTHR.ZS.WT          Computer, communications and other services (% of commercial service exports)\n",
       "TX.VAL.SERV.CD.WT          Commercial service exports (current US$)\n",
       "TX.VAL.TECH.CD             High-technology exports (current US$)\n",
       "TX.VAL.TECH.MF.ZS          High-technology exports (% of manufactured exports)\n",
       "TX.VAL.TRAN.ZS.WT          Transport services (% of commercial service exports)\n",
       "TX.VAL.TRVL.ZS.WT          Travel services (% of commercial service exports)\n",
       "VC.BTL.DETH                Battle-related deaths (number of people)\n",
       "VC.IDP.NWCV                Internally displaced persons, new displacement associated with conflict and violence (number of cases)\n",
       "VC.IDP.NWDS                Internally displaced persons, new displacement associated with disasters (number of cases)\n",
       "VC.IDP.TOCV                Internally displaced persons, total displaced by conflict and violence (number of people)\n",
       "VC.IHR.PSRC.FE.P5          Intentional homicides, female (per 100,000 female)\n",
       "VC.IHR.PSRC.MA.P5          Intentional homicides, male (per 100,000 male)\n",
       "VC.IHR.PSRC.P5             Intentional homicides (per 100,000 people)"
      ]
     },
     "metadata": {},
     "execution_count": 4
    }
   ],
   "source": [
    "wbdata.get_indicator(source=2)"
   ]
  },
  {
   "cell_type": "code",
   "execution_count": null,
   "metadata": {},
   "outputs": [],
   "source": []
  }
 ]
}