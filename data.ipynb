{
 "metadata": {
  "language_info": {
   "codemirror_mode": {
    "name": "ipython",
    "version": 3
   },
   "file_extension": ".py",
   "mimetype": "text/x-python",
   "name": "python",
   "nbconvert_exporter": "python",
   "pygments_lexer": "ipython3",
   "version": "3.8.5-final"
  },
  "orig_nbformat": 2,
  "kernelspec": {
   "name": "python3",
   "display_name": "Python 3",
   "language": "python"
  }
 },
 "nbformat": 4,
 "nbformat_minor": 2,
 "cells": [
  {
   "cell_type": "code",
   "execution_count": 1,
   "metadata": {},
   "outputs": [],
   "source": [
    "import pandas as pd\n",
    "import numpy as np"
   ]
  },
  {
   "cell_type": "code",
   "execution_count": 5,
   "metadata": {},
   "outputs": [],
   "source": [
    "def c_names_as_index(df, cn):\n",
    "    df.index = df.loc[:, cn].apply(lambda x: x.lower())\n",
    "    df.drop(cn, axis=1, inplace=True)\n",
    "    return df"
   ]
  },
  {
   "cell_type": "code",
   "execution_count": 7,
   "metadata": {},
   "outputs": [],
   "source": [
    "freedom_house13_21 = c_names_as_index(pd.read_csv('./raw_data/All_data_FIW_2013-2021.csv', sep=';', skiprows=1), 'Country/Territory')"
   ]
  },
  {
   "cell_type": "code",
   "execution_count": 8,
   "metadata": {},
   "outputs": [
    {
     "output_type": "execute_result",
     "data": {
      "text/plain": [
       "                    Region C/T  Edition Status  PR rating  CL rating  A1  A2  \\\n",
       "Country/Territory                                                              \n",
       "abkhazia           Eurasia   t     2021     PF          5          5   2   2   \n",
       "afghanistan           Asia   c     2021     NF          5          6   1   1   \n",
       "albania             Europe   c     2021     PF          3          3   3   3   \n",
       "algeria               MENA   c     2021     NF          6          5   1   1   \n",
       "andorra             Europe   c     2021      F          1          1   4   4   \n",
       "\n",
       "                   A3   A  ...  F3  F4   F  G1  G2  G3  G4   G  CL  Total  \n",
       "Country/Territory          ...                                             \n",
       "abkhazia            1   5  ...   1   1   4   1   1   2   1   5  23     40  \n",
       "afghanistan         1   3  ...   0   1   2   0   1   0   1   2  14     27  \n",
       "albania             2   8  ...   2   3   9   3   2   2   2   9  39     66  \n",
       "algeria             1   3  ...   2   2   6   2   2   2   1   7  22     32  \n",
       "andorra             4  12  ...   4   3  15   4   4   3   4  15  55     93  \n",
       "\n",
       "[5 rows x 43 columns]"
      ],
      "text/html": "<div>\n<style scoped>\n    .dataframe tbody tr th:only-of-type {\n        vertical-align: middle;\n    }\n\n    .dataframe tbody tr th {\n        vertical-align: top;\n    }\n\n    .dataframe thead th {\n        text-align: right;\n    }\n</style>\n<table border=\"1\" class=\"dataframe\">\n  <thead>\n    <tr style=\"text-align: right;\">\n      <th></th>\n      <th>Region</th>\n      <th>C/T</th>\n      <th>Edition</th>\n      <th>Status</th>\n      <th>PR rating</th>\n      <th>CL rating</th>\n      <th>A1</th>\n      <th>A2</th>\n      <th>A3</th>\n      <th>A</th>\n      <th>...</th>\n      <th>F3</th>\n      <th>F4</th>\n      <th>F</th>\n      <th>G1</th>\n      <th>G2</th>\n      <th>G3</th>\n      <th>G4</th>\n      <th>G</th>\n      <th>CL</th>\n      <th>Total</th>\n    </tr>\n    <tr>\n      <th>Country/Territory</th>\n      <th></th>\n      <th></th>\n      <th></th>\n      <th></th>\n      <th></th>\n      <th></th>\n      <th></th>\n      <th></th>\n      <th></th>\n      <th></th>\n      <th></th>\n      <th></th>\n      <th></th>\n      <th></th>\n      <th></th>\n      <th></th>\n      <th></th>\n      <th></th>\n      <th></th>\n      <th></th>\n      <th></th>\n    </tr>\n  </thead>\n  <tbody>\n    <tr>\n      <th>abkhazia</th>\n      <td>Eurasia</td>\n      <td>t</td>\n      <td>2021</td>\n      <td>PF</td>\n      <td>5</td>\n      <td>5</td>\n      <td>2</td>\n      <td>2</td>\n      <td>1</td>\n      <td>5</td>\n      <td>...</td>\n      <td>1</td>\n      <td>1</td>\n      <td>4</td>\n      <td>1</td>\n      <td>1</td>\n      <td>2</td>\n      <td>1</td>\n      <td>5</td>\n      <td>23</td>\n      <td>40</td>\n    </tr>\n    <tr>\n      <th>afghanistan</th>\n      <td>Asia</td>\n      <td>c</td>\n      <td>2021</td>\n      <td>NF</td>\n      <td>5</td>\n      <td>6</td>\n      <td>1</td>\n      <td>1</td>\n      <td>1</td>\n      <td>3</td>\n      <td>...</td>\n      <td>0</td>\n      <td>1</td>\n      <td>2</td>\n      <td>0</td>\n      <td>1</td>\n      <td>0</td>\n      <td>1</td>\n      <td>2</td>\n      <td>14</td>\n      <td>27</td>\n    </tr>\n    <tr>\n      <th>albania</th>\n      <td>Europe</td>\n      <td>c</td>\n      <td>2021</td>\n      <td>PF</td>\n      <td>3</td>\n      <td>3</td>\n      <td>3</td>\n      <td>3</td>\n      <td>2</td>\n      <td>8</td>\n      <td>...</td>\n      <td>2</td>\n      <td>3</td>\n      <td>9</td>\n      <td>3</td>\n      <td>2</td>\n      <td>2</td>\n      <td>2</td>\n      <td>9</td>\n      <td>39</td>\n      <td>66</td>\n    </tr>\n    <tr>\n      <th>algeria</th>\n      <td>MENA</td>\n      <td>c</td>\n      <td>2021</td>\n      <td>NF</td>\n      <td>6</td>\n      <td>5</td>\n      <td>1</td>\n      <td>1</td>\n      <td>1</td>\n      <td>3</td>\n      <td>...</td>\n      <td>2</td>\n      <td>2</td>\n      <td>6</td>\n      <td>2</td>\n      <td>2</td>\n      <td>2</td>\n      <td>1</td>\n      <td>7</td>\n      <td>22</td>\n      <td>32</td>\n    </tr>\n    <tr>\n      <th>andorra</th>\n      <td>Europe</td>\n      <td>c</td>\n      <td>2021</td>\n      <td>F</td>\n      <td>1</td>\n      <td>1</td>\n      <td>4</td>\n      <td>4</td>\n      <td>4</td>\n      <td>12</td>\n      <td>...</td>\n      <td>4</td>\n      <td>3</td>\n      <td>15</td>\n      <td>4</td>\n      <td>4</td>\n      <td>3</td>\n      <td>4</td>\n      <td>15</td>\n      <td>55</td>\n      <td>93</td>\n    </tr>\n  </tbody>\n</table>\n<p>5 rows × 43 columns</p>\n</div>"
     },
     "metadata": {},
     "execution_count": 8
    }
   ],
   "source": [
    "freedom_house13_21.head()"
   ]
  },
  {
   "cell_type": "code",
   "execution_count": 10,
   "metadata": {},
   "outputs": [],
   "source": [
    "freedom_house73_21_ctr = pd.read_csv('./raw_data/Country_and_Territory_Ratings_and_Statuses_FIW1973-2021.csv', sep=';')"
   ]
  },
  {
   "cell_type": "code",
   "execution_count": 11,
   "metadata": {},
   "outputs": [],
   "source": [
    "freedom_house73_21_ctr.iloc[0,0] = np.nan\n",
    "freedom_house73_21_ctr.iloc[0].replace(np.nan, None, inplace=True)\n",
    "freedom_house73_21_ctr.columns = pd.MultiIndex.from_tuples(list(zip(freedom_house73_21_ctr.iloc[0], freedom_house73_21_ctr.iloc[1])))\n",
    "freedom_house73_21_ctr.drop([0,1], inplace=True)\n",
    "freedom_house73_21_ctr = freedom_house73_21_ctr[freedom_house73_21_ctr.iloc[:, 0].notna()]\n",
    "c_names_as_index(freedom_house73_21_ctr, freedom_house73_21_ctr.columns[0])\n",
    "freedom_house73_21_ctr.columns = ['_'.join(col).strip() for col in freedom_house73_21_ctr.columns.values]"
   ]
  },
  {
   "cell_type": "code",
   "execution_count": 12,
   "metadata": {},
   "outputs": [
    {
     "output_type": "execute_result",
     "data": {
      "text/plain": [
       "            1972_PR 1972_CL 1972_Status 1973_PR 1973_CL 1973_Status 1974_PR  \\\n",
       "(nan, nan)                                                                    \n",
       "afghanistan       4       5          PF       7       6          NF       7   \n",
       "albania           7       7          NF       7       7          NF       7   \n",
       "algeria           6       6          NF       6       6          NF       6   \n",
       "andorra           4       3          PF       4       4          PF       4   \n",
       "angola            -       -           -       -       -           -       -   \n",
       "\n",
       "            1974_CL 1974_Status 1975_PR  ... 2017_Status 2018_PR 2018_CL  \\\n",
       "(nan, nan)                               ...                               \n",
       "afghanistan       6          NF       7  ...          NF       5       6   \n",
       "albania           7          NF       7  ...          PF       3       3   \n",
       "algeria           6          NF       7  ...          NF       6       5   \n",
       "andorra           4          PF       4  ...           F       1       1   \n",
       "angola            -           -       6  ...          NF       6       5   \n",
       "\n",
       "            2018_Status 2019_PR 2019_CL 2019_Status 2020_PR 2020_CL  \\\n",
       "(nan, nan)                                                            \n",
       "afghanistan          NF       5       6          NF       5       6   \n",
       "albania              PF       3       3          PF       3       3   \n",
       "algeria              NF       6       5          NF       6       5   \n",
       "andorra               F       1       1           F       1       1   \n",
       "angola               NF       6       5          NF       6       5   \n",
       "\n",
       "            2020_Status  \n",
       "(nan, nan)               \n",
       "afghanistan          NF  \n",
       "albania              PF  \n",
       "algeria              NF  \n",
       "andorra               F  \n",
       "angola               NF  \n",
       "\n",
       "[5 rows x 144 columns]"
      ],
      "text/html": "<div>\n<style scoped>\n    .dataframe tbody tr th:only-of-type {\n        vertical-align: middle;\n    }\n\n    .dataframe tbody tr th {\n        vertical-align: top;\n    }\n\n    .dataframe thead th {\n        text-align: right;\n    }\n</style>\n<table border=\"1\" class=\"dataframe\">\n  <thead>\n    <tr style=\"text-align: right;\">\n      <th></th>\n      <th>1972_PR</th>\n      <th>1972_CL</th>\n      <th>1972_Status</th>\n      <th>1973_PR</th>\n      <th>1973_CL</th>\n      <th>1973_Status</th>\n      <th>1974_PR</th>\n      <th>1974_CL</th>\n      <th>1974_Status</th>\n      <th>1975_PR</th>\n      <th>...</th>\n      <th>2017_Status</th>\n      <th>2018_PR</th>\n      <th>2018_CL</th>\n      <th>2018_Status</th>\n      <th>2019_PR</th>\n      <th>2019_CL</th>\n      <th>2019_Status</th>\n      <th>2020_PR</th>\n      <th>2020_CL</th>\n      <th>2020_Status</th>\n    </tr>\n    <tr>\n      <th>(nan, nan)</th>\n      <th></th>\n      <th></th>\n      <th></th>\n      <th></th>\n      <th></th>\n      <th></th>\n      <th></th>\n      <th></th>\n      <th></th>\n      <th></th>\n      <th></th>\n      <th></th>\n      <th></th>\n      <th></th>\n      <th></th>\n      <th></th>\n      <th></th>\n      <th></th>\n      <th></th>\n      <th></th>\n      <th></th>\n    </tr>\n  </thead>\n  <tbody>\n    <tr>\n      <th>afghanistan</th>\n      <td>4</td>\n      <td>5</td>\n      <td>PF</td>\n      <td>7</td>\n      <td>6</td>\n      <td>NF</td>\n      <td>7</td>\n      <td>6</td>\n      <td>NF</td>\n      <td>7</td>\n      <td>...</td>\n      <td>NF</td>\n      <td>5</td>\n      <td>6</td>\n      <td>NF</td>\n      <td>5</td>\n      <td>6</td>\n      <td>NF</td>\n      <td>5</td>\n      <td>6</td>\n      <td>NF</td>\n    </tr>\n    <tr>\n      <th>albania</th>\n      <td>7</td>\n      <td>7</td>\n      <td>NF</td>\n      <td>7</td>\n      <td>7</td>\n      <td>NF</td>\n      <td>7</td>\n      <td>7</td>\n      <td>NF</td>\n      <td>7</td>\n      <td>...</td>\n      <td>PF</td>\n      <td>3</td>\n      <td>3</td>\n      <td>PF</td>\n      <td>3</td>\n      <td>3</td>\n      <td>PF</td>\n      <td>3</td>\n      <td>3</td>\n      <td>PF</td>\n    </tr>\n    <tr>\n      <th>algeria</th>\n      <td>6</td>\n      <td>6</td>\n      <td>NF</td>\n      <td>6</td>\n      <td>6</td>\n      <td>NF</td>\n      <td>6</td>\n      <td>6</td>\n      <td>NF</td>\n      <td>7</td>\n      <td>...</td>\n      <td>NF</td>\n      <td>6</td>\n      <td>5</td>\n      <td>NF</td>\n      <td>6</td>\n      <td>5</td>\n      <td>NF</td>\n      <td>6</td>\n      <td>5</td>\n      <td>NF</td>\n    </tr>\n    <tr>\n      <th>andorra</th>\n      <td>4</td>\n      <td>3</td>\n      <td>PF</td>\n      <td>4</td>\n      <td>4</td>\n      <td>PF</td>\n      <td>4</td>\n      <td>4</td>\n      <td>PF</td>\n      <td>4</td>\n      <td>...</td>\n      <td>F</td>\n      <td>1</td>\n      <td>1</td>\n      <td>F</td>\n      <td>1</td>\n      <td>1</td>\n      <td>F</td>\n      <td>1</td>\n      <td>1</td>\n      <td>F</td>\n    </tr>\n    <tr>\n      <th>angola</th>\n      <td>-</td>\n      <td>-</td>\n      <td>-</td>\n      <td>-</td>\n      <td>-</td>\n      <td>-</td>\n      <td>-</td>\n      <td>-</td>\n      <td>-</td>\n      <td>6</td>\n      <td>...</td>\n      <td>NF</td>\n      <td>6</td>\n      <td>5</td>\n      <td>NF</td>\n      <td>6</td>\n      <td>5</td>\n      <td>NF</td>\n      <td>6</td>\n      <td>5</td>\n      <td>NF</td>\n    </tr>\n  </tbody>\n</table>\n<p>5 rows × 144 columns</p>\n</div>"
     },
     "metadata": {},
     "execution_count": 12
    }
   ],
   "source": [
    "freedom_house73_21_ctr.head()"
   ]
  },
  {
   "cell_type": "code",
   "execution_count": 10,
   "metadata": {},
   "outputs": [],
   "source": [
    "freedom_house73_21_hd = pd.read_csv('./raw_data/Country_and_Territory_Ratings_and_Statuses_FIW1973-2021_hd.csv', sep=';')"
   ]
  },
  {
   "cell_type": "code",
   "execution_count": 11,
   "metadata": {},
   "outputs": [
    {
     "output_type": "execute_result",
     "data": {
      "text/plain": [
       "  FIW Survey Edition* Year(s) Under Review**  Total Countries  \\\n",
       "0                2021                   2020            195.0   \n",
       "1                2020                   2019            195.0   \n",
       "2                2019                   2018            195.0   \n",
       "3                2018                   2017            195.0   \n",
       "4                2017                   2016            195.0   \n",
       "\n",
       "   Number of F Countries % of F Countries  Number of PF Countries  \\\n",
       "0                   82.0          42,05 %                    59.0   \n",
       "1                   83.0          42,56 %                    63.0   \n",
       "2                   86.0          44,10 %                    59.0   \n",
       "3                   88.0          45,13 %                    58.0   \n",
       "4                   87.0          44,62 %                    59.0   \n",
       "\n",
       "  % of PF Countries  Number of NF Countries % of NF Countries  Unnamed: 9  \\\n",
       "0           30,26 %                    54.0           27,69 %         NaN   \n",
       "1           32,31 %                    49.0           25,13 %         NaN   \n",
       "2           30,26 %                    50.0           25,64 %         NaN   \n",
       "3           29,74 %                    49.0           25,13 %         NaN   \n",
       "4           30,26 %                    49.0           25,13 %         NaN   \n",
       "\n",
       "   ...  Unnamed: 12  Unnamed: 13  Unnamed: 14  Unnamed: 15  Unnamed: 16  \\\n",
       "0  ...          NaN          NaN          NaN          NaN          NaN   \n",
       "1  ...          NaN          NaN          NaN          NaN          NaN   \n",
       "2  ...          NaN          NaN          NaN          NaN          NaN   \n",
       "3  ...          NaN          NaN          NaN          NaN          NaN   \n",
       "4  ...          NaN          NaN          NaN          NaN          NaN   \n",
       "\n",
       "   Unnamed: 17  Unnamed: 18  Unnamed: 19  Unnamed: 20  Unnamed: 21  \n",
       "0          NaN          NaN          NaN          NaN          NaN  \n",
       "1          NaN          NaN          NaN          NaN          NaN  \n",
       "2          NaN          NaN          NaN          NaN         True  \n",
       "3          NaN          NaN          NaN          NaN         True  \n",
       "4          NaN          NaN          NaN          NaN         True  \n",
       "\n",
       "[5 rows x 22 columns]"
      ],
      "text/html": "<div>\n<style scoped>\n    .dataframe tbody tr th:only-of-type {\n        vertical-align: middle;\n    }\n\n    .dataframe tbody tr th {\n        vertical-align: top;\n    }\n\n    .dataframe thead th {\n        text-align: right;\n    }\n</style>\n<table border=\"1\" class=\"dataframe\">\n  <thead>\n    <tr style=\"text-align: right;\">\n      <th></th>\n      <th>FIW Survey Edition*</th>\n      <th>Year(s) Under Review**</th>\n      <th>Total Countries</th>\n      <th>Number of F Countries</th>\n      <th>% of F Countries</th>\n      <th>Number of PF Countries</th>\n      <th>% of PF Countries</th>\n      <th>Number of NF Countries</th>\n      <th>% of NF Countries</th>\n      <th>Unnamed: 9</th>\n      <th>...</th>\n      <th>Unnamed: 12</th>\n      <th>Unnamed: 13</th>\n      <th>Unnamed: 14</th>\n      <th>Unnamed: 15</th>\n      <th>Unnamed: 16</th>\n      <th>Unnamed: 17</th>\n      <th>Unnamed: 18</th>\n      <th>Unnamed: 19</th>\n      <th>Unnamed: 20</th>\n      <th>Unnamed: 21</th>\n    </tr>\n  </thead>\n  <tbody>\n    <tr>\n      <th>0</th>\n      <td>2021</td>\n      <td>2020</td>\n      <td>195.0</td>\n      <td>82.0</td>\n      <td>42,05 %</td>\n      <td>59.0</td>\n      <td>30,26 %</td>\n      <td>54.0</td>\n      <td>27,69 %</td>\n      <td>NaN</td>\n      <td>...</td>\n      <td>NaN</td>\n      <td>NaN</td>\n      <td>NaN</td>\n      <td>NaN</td>\n      <td>NaN</td>\n      <td>NaN</td>\n      <td>NaN</td>\n      <td>NaN</td>\n      <td>NaN</td>\n      <td>NaN</td>\n    </tr>\n    <tr>\n      <th>1</th>\n      <td>2020</td>\n      <td>2019</td>\n      <td>195.0</td>\n      <td>83.0</td>\n      <td>42,56 %</td>\n      <td>63.0</td>\n      <td>32,31 %</td>\n      <td>49.0</td>\n      <td>25,13 %</td>\n      <td>NaN</td>\n      <td>...</td>\n      <td>NaN</td>\n      <td>NaN</td>\n      <td>NaN</td>\n      <td>NaN</td>\n      <td>NaN</td>\n      <td>NaN</td>\n      <td>NaN</td>\n      <td>NaN</td>\n      <td>NaN</td>\n      <td>NaN</td>\n    </tr>\n    <tr>\n      <th>2</th>\n      <td>2019</td>\n      <td>2018</td>\n      <td>195.0</td>\n      <td>86.0</td>\n      <td>44,10 %</td>\n      <td>59.0</td>\n      <td>30,26 %</td>\n      <td>50.0</td>\n      <td>25,64 %</td>\n      <td>NaN</td>\n      <td>...</td>\n      <td>NaN</td>\n      <td>NaN</td>\n      <td>NaN</td>\n      <td>NaN</td>\n      <td>NaN</td>\n      <td>NaN</td>\n      <td>NaN</td>\n      <td>NaN</td>\n      <td>NaN</td>\n      <td>True</td>\n    </tr>\n    <tr>\n      <th>3</th>\n      <td>2018</td>\n      <td>2017</td>\n      <td>195.0</td>\n      <td>88.0</td>\n      <td>45,13 %</td>\n      <td>58.0</td>\n      <td>29,74 %</td>\n      <td>49.0</td>\n      <td>25,13 %</td>\n      <td>NaN</td>\n      <td>...</td>\n      <td>NaN</td>\n      <td>NaN</td>\n      <td>NaN</td>\n      <td>NaN</td>\n      <td>NaN</td>\n      <td>NaN</td>\n      <td>NaN</td>\n      <td>NaN</td>\n      <td>NaN</td>\n      <td>True</td>\n    </tr>\n    <tr>\n      <th>4</th>\n      <td>2017</td>\n      <td>2016</td>\n      <td>195.0</td>\n      <td>87.0</td>\n      <td>44,62 %</td>\n      <td>59.0</td>\n      <td>30,26 %</td>\n      <td>49.0</td>\n      <td>25,13 %</td>\n      <td>NaN</td>\n      <td>...</td>\n      <td>NaN</td>\n      <td>NaN</td>\n      <td>NaN</td>\n      <td>NaN</td>\n      <td>NaN</td>\n      <td>NaN</td>\n      <td>NaN</td>\n      <td>NaN</td>\n      <td>NaN</td>\n      <td>True</td>\n    </tr>\n  </tbody>\n</table>\n<p>5 rows × 22 columns</p>\n</div>"
     },
     "metadata": {},
     "execution_count": 11
    }
   ],
   "source": [
    "freedom_house73_21_hd.head()"
   ]
  },
  {
   "cell_type": "code",
   "execution_count": 13,
   "metadata": {},
   "outputs": [],
   "source": [
    "freedom_house_aggregate03_05 = c_names_as_index(pd.read_csv('./raw_data/Aggregate_Category_and_Subcategory_Scores_FIW_2003-2021_a.csv', sep=';', skiprows=1), 'Abkhazia')"
   ]
  },
  {
   "cell_type": "code",
   "execution_count": 14,
   "metadata": {},
   "outputs": [
    {
     "output_type": "execute_result",
     "data": {
      "text/plain": [
       "            Eurasia  t  2021  PF  5  5.1  5.2   8   4  0  ...  Unnamed: 26  \\\n",
       "Abkhazia                                                  ...                \n",
       "afghanistan    Asia  c  2021  NF  5    6    3   7   3  0  ...          NaN   \n",
       "albania      Europe  c  2021  PF  3    3    8  12   7  0  ...          NaN   \n",
       "algeria        MENA  c  2021  NF  6    5    3   4   3  0  ...          NaN   \n",
       "andorra      Europe  c  2021   F  1    1   12  15  11  0  ...          NaN   \n",
       "angola          SSA  c  2021  NF  6    5    3   5   2  0  ...          NaN   \n",
       "\n",
       "             Unnamed: 27  Unnamed: 28  Unnamed: 29  Unnamed: 30  Unnamed: 31  \\\n",
       "Abkhazia                                                                       \n",
       "afghanistan          NaN          NaN          NaN          NaN          NaN   \n",
       "albania              NaN          NaN          NaN          NaN          NaN   \n",
       "algeria              NaN          NaN          NaN          NaN          NaN   \n",
       "andorra              NaN          NaN          NaN          NaN          NaN   \n",
       "angola               NaN          NaN          NaN          NaN          NaN   \n",
       "\n",
       "             Unnamed: 32  Unnamed: 33  Unnamed: 34  Unnamed: 35  \n",
       "Abkhazia                                                         \n",
       "afghanistan          NaN          NaN          NaN          NaN  \n",
       "albania              NaN          NaN          NaN          NaN  \n",
       "algeria              NaN          NaN          NaN          NaN  \n",
       "andorra              NaN          NaN          NaN          NaN  \n",
       "angola               NaN          NaN          NaN          NaN  \n",
       "\n",
       "[5 rows x 35 columns]"
      ],
      "text/html": "<div>\n<style scoped>\n    .dataframe tbody tr th:only-of-type {\n        vertical-align: middle;\n    }\n\n    .dataframe tbody tr th {\n        vertical-align: top;\n    }\n\n    .dataframe thead th {\n        text-align: right;\n    }\n</style>\n<table border=\"1\" class=\"dataframe\">\n  <thead>\n    <tr style=\"text-align: right;\">\n      <th></th>\n      <th>Eurasia</th>\n      <th>t</th>\n      <th>2021</th>\n      <th>PF</th>\n      <th>5</th>\n      <th>5.1</th>\n      <th>5.2</th>\n      <th>8</th>\n      <th>4</th>\n      <th>0</th>\n      <th>...</th>\n      <th>Unnamed: 26</th>\n      <th>Unnamed: 27</th>\n      <th>Unnamed: 28</th>\n      <th>Unnamed: 29</th>\n      <th>Unnamed: 30</th>\n      <th>Unnamed: 31</th>\n      <th>Unnamed: 32</th>\n      <th>Unnamed: 33</th>\n      <th>Unnamed: 34</th>\n      <th>Unnamed: 35</th>\n    </tr>\n    <tr>\n      <th>Abkhazia</th>\n      <th></th>\n      <th></th>\n      <th></th>\n      <th></th>\n      <th></th>\n      <th></th>\n      <th></th>\n      <th></th>\n      <th></th>\n      <th></th>\n      <th></th>\n      <th></th>\n      <th></th>\n      <th></th>\n      <th></th>\n      <th></th>\n      <th></th>\n      <th></th>\n      <th></th>\n      <th></th>\n      <th></th>\n    </tr>\n  </thead>\n  <tbody>\n    <tr>\n      <th>afghanistan</th>\n      <td>Asia</td>\n      <td>c</td>\n      <td>2021</td>\n      <td>NF</td>\n      <td>5</td>\n      <td>6</td>\n      <td>3</td>\n      <td>7</td>\n      <td>3</td>\n      <td>0</td>\n      <td>...</td>\n      <td>NaN</td>\n      <td>NaN</td>\n      <td>NaN</td>\n      <td>NaN</td>\n      <td>NaN</td>\n      <td>NaN</td>\n      <td>NaN</td>\n      <td>NaN</td>\n      <td>NaN</td>\n      <td>NaN</td>\n    </tr>\n    <tr>\n      <th>albania</th>\n      <td>Europe</td>\n      <td>c</td>\n      <td>2021</td>\n      <td>PF</td>\n      <td>3</td>\n      <td>3</td>\n      <td>8</td>\n      <td>12</td>\n      <td>7</td>\n      <td>0</td>\n      <td>...</td>\n      <td>NaN</td>\n      <td>NaN</td>\n      <td>NaN</td>\n      <td>NaN</td>\n      <td>NaN</td>\n      <td>NaN</td>\n      <td>NaN</td>\n      <td>NaN</td>\n      <td>NaN</td>\n      <td>NaN</td>\n    </tr>\n    <tr>\n      <th>algeria</th>\n      <td>MENA</td>\n      <td>c</td>\n      <td>2021</td>\n      <td>NF</td>\n      <td>6</td>\n      <td>5</td>\n      <td>3</td>\n      <td>4</td>\n      <td>3</td>\n      <td>0</td>\n      <td>...</td>\n      <td>NaN</td>\n      <td>NaN</td>\n      <td>NaN</td>\n      <td>NaN</td>\n      <td>NaN</td>\n      <td>NaN</td>\n      <td>NaN</td>\n      <td>NaN</td>\n      <td>NaN</td>\n      <td>NaN</td>\n    </tr>\n    <tr>\n      <th>andorra</th>\n      <td>Europe</td>\n      <td>c</td>\n      <td>2021</td>\n      <td>F</td>\n      <td>1</td>\n      <td>1</td>\n      <td>12</td>\n      <td>15</td>\n      <td>11</td>\n      <td>0</td>\n      <td>...</td>\n      <td>NaN</td>\n      <td>NaN</td>\n      <td>NaN</td>\n      <td>NaN</td>\n      <td>NaN</td>\n      <td>NaN</td>\n      <td>NaN</td>\n      <td>NaN</td>\n      <td>NaN</td>\n      <td>NaN</td>\n    </tr>\n    <tr>\n      <th>angola</th>\n      <td>SSA</td>\n      <td>c</td>\n      <td>2021</td>\n      <td>NF</td>\n      <td>6</td>\n      <td>5</td>\n      <td>3</td>\n      <td>5</td>\n      <td>2</td>\n      <td>0</td>\n      <td>...</td>\n      <td>NaN</td>\n      <td>NaN</td>\n      <td>NaN</td>\n      <td>NaN</td>\n      <td>NaN</td>\n      <td>NaN</td>\n      <td>NaN</td>\n      <td>NaN</td>\n      <td>NaN</td>\n      <td>NaN</td>\n    </tr>\n  </tbody>\n</table>\n<p>5 rows × 35 columns</p>\n</div>"
     },
     "metadata": {},
     "execution_count": 14
    }
   ],
   "source": [
    "freedom_house_aggregate03_05.head()"
   ]
  },
  {
   "cell_type": "code",
   "execution_count": 15,
   "metadata": {},
   "outputs": [],
   "source": [
    "freedom_house_aggregate06_21 = c_names_as_index(pd.read_csv('./raw_data/Aggregate_Category_and_Subcategory_Scores_FIW_2003-2021_b.csv', sep=';', skiprows=1), 'Abkhazia')"
   ]
  },
  {
   "cell_type": "code",
   "execution_count": 16,
   "metadata": {},
   "outputs": [
    {
     "output_type": "execute_result",
     "data": {
      "text/plain": [
       "             t   9 9.1 9.2  20  21 21.1  29  30 30.1\n",
       "Abkhazia                                            \n",
       "afghanistan  c   8   9  13  15  14   14  23  23   27\n",
       "albania      c  26  26  26  42  42   40  68  68   66\n",
       "algeria      c  11  11  10  22  22   25  33  33   35\n",
       "andorra      c  39  39  39  57  58   58  96  97   97\n",
       "angola       c   8   7   8  22  22   22  30  29   30"
      ],
      "text/html": "<div>\n<style scoped>\n    .dataframe tbody tr th:only-of-type {\n        vertical-align: middle;\n    }\n\n    .dataframe tbody tr th {\n        vertical-align: top;\n    }\n\n    .dataframe thead th {\n        text-align: right;\n    }\n</style>\n<table border=\"1\" class=\"dataframe\">\n  <thead>\n    <tr style=\"text-align: right;\">\n      <th></th>\n      <th>t</th>\n      <th>9</th>\n      <th>9.1</th>\n      <th>9.2</th>\n      <th>20</th>\n      <th>21</th>\n      <th>21.1</th>\n      <th>29</th>\n      <th>30</th>\n      <th>30.1</th>\n    </tr>\n    <tr>\n      <th>Abkhazia</th>\n      <th></th>\n      <th></th>\n      <th></th>\n      <th></th>\n      <th></th>\n      <th></th>\n      <th></th>\n      <th></th>\n      <th></th>\n      <th></th>\n    </tr>\n  </thead>\n  <tbody>\n    <tr>\n      <th>afghanistan</th>\n      <td>c</td>\n      <td>8</td>\n      <td>9</td>\n      <td>13</td>\n      <td>15</td>\n      <td>14</td>\n      <td>14</td>\n      <td>23</td>\n      <td>23</td>\n      <td>27</td>\n    </tr>\n    <tr>\n      <th>albania</th>\n      <td>c</td>\n      <td>26</td>\n      <td>26</td>\n      <td>26</td>\n      <td>42</td>\n      <td>42</td>\n      <td>40</td>\n      <td>68</td>\n      <td>68</td>\n      <td>66</td>\n    </tr>\n    <tr>\n      <th>algeria</th>\n      <td>c</td>\n      <td>11</td>\n      <td>11</td>\n      <td>10</td>\n      <td>22</td>\n      <td>22</td>\n      <td>25</td>\n      <td>33</td>\n      <td>33</td>\n      <td>35</td>\n    </tr>\n    <tr>\n      <th>andorra</th>\n      <td>c</td>\n      <td>39</td>\n      <td>39</td>\n      <td>39</td>\n      <td>57</td>\n      <td>58</td>\n      <td>58</td>\n      <td>96</td>\n      <td>97</td>\n      <td>97</td>\n    </tr>\n    <tr>\n      <th>angola</th>\n      <td>c</td>\n      <td>8</td>\n      <td>7</td>\n      <td>8</td>\n      <td>22</td>\n      <td>22</td>\n      <td>22</td>\n      <td>30</td>\n      <td>29</td>\n      <td>30</td>\n    </tr>\n  </tbody>\n</table>\n</div>"
     },
     "metadata": {},
     "execution_count": 16
    }
   ],
   "source": [
    "freedom_house_aggregate06_21.head()"
   ]
  },
  {
   "cell_type": "code",
   "execution_count": 17,
   "metadata": {},
   "outputs": [],
   "source": [
    "bjorskov_integrated = c_names_as_index(pd.read_csv('./raw_data/Bjørnskov-Rode-integrated-dataset-v3.2.csv', sep=';'), 'country')"
   ]
  },
  {
   "cell_type": "code",
   "execution_count": 18,
   "metadata": {},
   "outputs": [
    {
     "output_type": "execute_result",
     "data": {
      "text/plain": [
       "            country isocode  year  DD regime         DD category  Unnamed: 5  \\\n",
       "country                                                                        \n",
       "afghanistan             AFG  1950        5.0  Royal dictatorship         NaN   \n",
       "afghanistan             AFG  1951        5.0  Royal dictatorship         NaN   \n",
       "afghanistan             AFG  1952        5.0  Royal dictatorship         NaN   \n",
       "afghanistan             AFG  1953        5.0  Royal dictatorship         NaN   \n",
       "afghanistan             AFG  1954        5.0  Royal dictatorship         NaN   \n",
       "\n",
       "             Monarchy  Commonwealth         Monarch name  Monarch accession  \\\n",
       "country                                                                       \n",
       "afghanistan       1.0           0.0  Mohammed Zahir Shah             1933.0   \n",
       "afghanistan       1.0           0.0  Mohammed Zahir Shah             1933.0   \n",
       "afghanistan       1.0           0.0  Mohammed Zahir Shah             1933.0   \n",
       "afghanistan       1.0           0.0  Mohammed Zahir Shah             1933.0   \n",
       "afghanistan       1.0           0.0  Mohammed Zahir Shah             1933.0   \n",
       "\n",
       "             Monarch birthyear  ...  spatial electoral  Unnamed: 42  \\\n",
       "country                         ...                                   \n",
       "afghanistan             1914.0  ...                1,5          NaN   \n",
       "afghanistan             1914.0  ...                1,5          NaN   \n",
       "afghanistan             1914.0  ...               1,75          NaN   \n",
       "afghanistan             1914.0  ...               1,75          NaN   \n",
       "afghanistan             1914.0  ...               1,75          NaN   \n",
       "\n",
       "             alternation multiparty  free and fair election  Unnamed: 46  \\\n",
       "country                                                                    \n",
       "afghanistan          0.0        1.0                     0.0          NaN   \n",
       "afghanistan          0.0        1.0                     0.0          NaN   \n",
       "afghanistan          0.0        1.0                     0.0          NaN   \n",
       "afghanistan          0.0        1.0                     0.0          NaN   \n",
       "afghanistan          0.0        1.0                     0.0          NaN   \n",
       "\n",
       "             parliamentary election year  election month, year  \\\n",
       "country                                                          \n",
       "afghanistan                          0.0                   NaN   \n",
       "afghanistan                          0.0                   NaN   \n",
       "afghanistan                          1.0         February 1952   \n",
       "afghanistan                          0.0                   NaN   \n",
       "afghanistan                          0.0                   NaN   \n",
       "\n",
       "             postponed election Unnamed: 50  \n",
       "country                                      \n",
       "afghanistan                 0.0         NaN  \n",
       "afghanistan                 0.0         NaN  \n",
       "afghanistan                 0.0         NaN  \n",
       "afghanistan                 0.0         NaN  \n",
       "afghanistan                 0.0         NaN  \n",
       "\n",
       "[5 rows x 50 columns]"
      ],
      "text/html": "<div>\n<style scoped>\n    .dataframe tbody tr th:only-of-type {\n        vertical-align: middle;\n    }\n\n    .dataframe tbody tr th {\n        vertical-align: top;\n    }\n\n    .dataframe thead th {\n        text-align: right;\n    }\n</style>\n<table border=\"1\" class=\"dataframe\">\n  <thead>\n    <tr style=\"text-align: right;\">\n      <th></th>\n      <th>country isocode</th>\n      <th>year</th>\n      <th>DD regime</th>\n      <th>DD category</th>\n      <th>Unnamed: 5</th>\n      <th>Monarchy</th>\n      <th>Commonwealth</th>\n      <th>Monarch name</th>\n      <th>Monarch accession</th>\n      <th>Monarch birthyear</th>\n      <th>...</th>\n      <th>spatial electoral</th>\n      <th>Unnamed: 42</th>\n      <th>alternation</th>\n      <th>multiparty</th>\n      <th>free and fair election</th>\n      <th>Unnamed: 46</th>\n      <th>parliamentary election year</th>\n      <th>election month, year</th>\n      <th>postponed election</th>\n      <th>Unnamed: 50</th>\n    </tr>\n    <tr>\n      <th>country</th>\n      <th></th>\n      <th></th>\n      <th></th>\n      <th></th>\n      <th></th>\n      <th></th>\n      <th></th>\n      <th></th>\n      <th></th>\n      <th></th>\n      <th></th>\n      <th></th>\n      <th></th>\n      <th></th>\n      <th></th>\n      <th></th>\n      <th></th>\n      <th></th>\n      <th></th>\n      <th></th>\n      <th></th>\n    </tr>\n  </thead>\n  <tbody>\n    <tr>\n      <th>afghanistan</th>\n      <td>AFG</td>\n      <td>1950</td>\n      <td>5.0</td>\n      <td>Royal dictatorship</td>\n      <td>NaN</td>\n      <td>1.0</td>\n      <td>0.0</td>\n      <td>Mohammed Zahir Shah</td>\n      <td>1933.0</td>\n      <td>1914.0</td>\n      <td>...</td>\n      <td>1,5</td>\n      <td>NaN</td>\n      <td>0.0</td>\n      <td>1.0</td>\n      <td>0.0</td>\n      <td>NaN</td>\n      <td>0.0</td>\n      <td>NaN</td>\n      <td>0.0</td>\n      <td>NaN</td>\n    </tr>\n    <tr>\n      <th>afghanistan</th>\n      <td>AFG</td>\n      <td>1951</td>\n      <td>5.0</td>\n      <td>Royal dictatorship</td>\n      <td>NaN</td>\n      <td>1.0</td>\n      <td>0.0</td>\n      <td>Mohammed Zahir Shah</td>\n      <td>1933.0</td>\n      <td>1914.0</td>\n      <td>...</td>\n      <td>1,5</td>\n      <td>NaN</td>\n      <td>0.0</td>\n      <td>1.0</td>\n      <td>0.0</td>\n      <td>NaN</td>\n      <td>0.0</td>\n      <td>NaN</td>\n      <td>0.0</td>\n      <td>NaN</td>\n    </tr>\n    <tr>\n      <th>afghanistan</th>\n      <td>AFG</td>\n      <td>1952</td>\n      <td>5.0</td>\n      <td>Royal dictatorship</td>\n      <td>NaN</td>\n      <td>1.0</td>\n      <td>0.0</td>\n      <td>Mohammed Zahir Shah</td>\n      <td>1933.0</td>\n      <td>1914.0</td>\n      <td>...</td>\n      <td>1,75</td>\n      <td>NaN</td>\n      <td>0.0</td>\n      <td>1.0</td>\n      <td>0.0</td>\n      <td>NaN</td>\n      <td>1.0</td>\n      <td>February 1952</td>\n      <td>0.0</td>\n      <td>NaN</td>\n    </tr>\n    <tr>\n      <th>afghanistan</th>\n      <td>AFG</td>\n      <td>1953</td>\n      <td>5.0</td>\n      <td>Royal dictatorship</td>\n      <td>NaN</td>\n      <td>1.0</td>\n      <td>0.0</td>\n      <td>Mohammed Zahir Shah</td>\n      <td>1933.0</td>\n      <td>1914.0</td>\n      <td>...</td>\n      <td>1,75</td>\n      <td>NaN</td>\n      <td>0.0</td>\n      <td>1.0</td>\n      <td>0.0</td>\n      <td>NaN</td>\n      <td>0.0</td>\n      <td>NaN</td>\n      <td>0.0</td>\n      <td>NaN</td>\n    </tr>\n    <tr>\n      <th>afghanistan</th>\n      <td>AFG</td>\n      <td>1954</td>\n      <td>5.0</td>\n      <td>Royal dictatorship</td>\n      <td>NaN</td>\n      <td>1.0</td>\n      <td>0.0</td>\n      <td>Mohammed Zahir Shah</td>\n      <td>1933.0</td>\n      <td>1914.0</td>\n      <td>...</td>\n      <td>1,75</td>\n      <td>NaN</td>\n      <td>0.0</td>\n      <td>1.0</td>\n      <td>0.0</td>\n      <td>NaN</td>\n      <td>0.0</td>\n      <td>NaN</td>\n      <td>0.0</td>\n      <td>NaN</td>\n    </tr>\n  </tbody>\n</table>\n<p>5 rows × 50 columns</p>\n</div>"
     },
     "metadata": {},
     "execution_count": 18
    }
   ],
   "source": [
    "bjorskov_integrated.head()"
   ]
  },
  {
   "cell_type": "code",
   "execution_count": 22,
   "metadata": {},
   "outputs": [],
   "source": [
    "bjorskov_integrated_coups = c_names_as_index(pd.read_csv('./raw_data/Bjørnskov-Rode-integrated-dataset-v3.2_coups.csv', sep=';'), 'country')"
   ]
  },
  {
   "cell_type": "code",
   "execution_count": 23,
   "metadata": {},
   "outputs": [
    {
     "output_type": "execute_result",
     "data": {
      "text/plain": [
       "            country isocode  year  DD regime         DD category  Unnamed: 5  \\\n",
       "country                                                                        \n",
       "afghanistan             AFG  1950        5.0  Royal dictatorship         NaN   \n",
       "afghanistan             AFG  1951        5.0  Royal dictatorship         NaN   \n",
       "afghanistan             AFG  1952        5.0  Royal dictatorship         NaN   \n",
       "afghanistan             AFG  1953        5.0  Royal dictatorship         NaN   \n",
       "afghanistan             AFG  1954        5.0  Royal dictatorship         NaN   \n",
       "\n",
       "             Failed coups  Successful coups  All coups  First coup  year.1  \\\n",
       "country                                                                      \n",
       "afghanistan           0.0               0.0        0.0         0.0     NaN   \n",
       "afghanistan           0.0               0.0        0.0         0.0     NaN   \n",
       "afghanistan           0.0               0.0        0.0         0.0     NaN   \n",
       "afghanistan           0.0               0.0        0.0         0.0     NaN   \n",
       "afghanistan           0.0               0.0        0.0         0.0     NaN   \n",
       "\n",
       "             ...  month.2 Type.2  Third coup success  \\\n",
       "country      ...                                       \n",
       "afghanistan  ...      NaN    NaN                 NaN   \n",
       "afghanistan  ...      NaN    NaN                 NaN   \n",
       "afghanistan  ...      NaN    NaN                 NaN   \n",
       "afghanistan  ...      NaN    NaN                 NaN   \n",
       "afghanistan  ...      NaN    NaN                 NaN   \n",
       "\n",
       "             Category type third coup Coup leaders.2  Age of leaders.1  \\\n",
       "country                                                                  \n",
       "afghanistan                       0.0            NaN               NaN   \n",
       "afghanistan                       0.0            NaN               NaN   \n",
       "afghanistan                       0.0            NaN               NaN   \n",
       "afghanistan                       0.0            NaN               NaN   \n",
       "afghanistan                       0.0            NaN               NaN   \n",
       "\n",
       "            Military Rank (Nato code).2  Militaryrankindex.2  \\\n",
       "country                                                        \n",
       "afghanistan                         NaN                  NaN   \n",
       "afghanistan                         NaN                  NaN   \n",
       "afghanistan                         NaN                  NaN   \n",
       "afghanistan                         NaN                  NaN   \n",
       "afghanistan                         NaN                  NaN   \n",
       "\n",
       "             Civilrankindex.2  spatial total coups  \n",
       "country                                             \n",
       "afghanistan               NaN                    0  \n",
       "afghanistan               NaN                 0,25  \n",
       "afghanistan               NaN                    0  \n",
       "afghanistan               NaN                    0  \n",
       "afghanistan               NaN                 0,25  \n",
       "\n",
       "[5 rows x 42 columns]"
      ],
      "text/html": "<div>\n<style scoped>\n    .dataframe tbody tr th:only-of-type {\n        vertical-align: middle;\n    }\n\n    .dataframe tbody tr th {\n        vertical-align: top;\n    }\n\n    .dataframe thead th {\n        text-align: right;\n    }\n</style>\n<table border=\"1\" class=\"dataframe\">\n  <thead>\n    <tr style=\"text-align: right;\">\n      <th></th>\n      <th>country isocode</th>\n      <th>year</th>\n      <th>DD regime</th>\n      <th>DD category</th>\n      <th>Unnamed: 5</th>\n      <th>Failed coups</th>\n      <th>Successful coups</th>\n      <th>All coups</th>\n      <th>First coup</th>\n      <th>year.1</th>\n      <th>...</th>\n      <th>month.2</th>\n      <th>Type.2</th>\n      <th>Third coup success</th>\n      <th>Category type third coup</th>\n      <th>Coup leaders.2</th>\n      <th>Age of leaders.1</th>\n      <th>Military Rank (Nato code).2</th>\n      <th>Militaryrankindex.2</th>\n      <th>Civilrankindex.2</th>\n      <th>spatial total coups</th>\n    </tr>\n    <tr>\n      <th>country</th>\n      <th></th>\n      <th></th>\n      <th></th>\n      <th></th>\n      <th></th>\n      <th></th>\n      <th></th>\n      <th></th>\n      <th></th>\n      <th></th>\n      <th></th>\n      <th></th>\n      <th></th>\n      <th></th>\n      <th></th>\n      <th></th>\n      <th></th>\n      <th></th>\n      <th></th>\n      <th></th>\n      <th></th>\n    </tr>\n  </thead>\n  <tbody>\n    <tr>\n      <th>afghanistan</th>\n      <td>AFG</td>\n      <td>1950</td>\n      <td>5.0</td>\n      <td>Royal dictatorship</td>\n      <td>NaN</td>\n      <td>0.0</td>\n      <td>0.0</td>\n      <td>0.0</td>\n      <td>0.0</td>\n      <td>NaN</td>\n      <td>...</td>\n      <td>NaN</td>\n      <td>NaN</td>\n      <td>NaN</td>\n      <td>0.0</td>\n      <td>NaN</td>\n      <td>NaN</td>\n      <td>NaN</td>\n      <td>NaN</td>\n      <td>NaN</td>\n      <td>0</td>\n    </tr>\n    <tr>\n      <th>afghanistan</th>\n      <td>AFG</td>\n      <td>1951</td>\n      <td>5.0</td>\n      <td>Royal dictatorship</td>\n      <td>NaN</td>\n      <td>0.0</td>\n      <td>0.0</td>\n      <td>0.0</td>\n      <td>0.0</td>\n      <td>NaN</td>\n      <td>...</td>\n      <td>NaN</td>\n      <td>NaN</td>\n      <td>NaN</td>\n      <td>0.0</td>\n      <td>NaN</td>\n      <td>NaN</td>\n      <td>NaN</td>\n      <td>NaN</td>\n      <td>NaN</td>\n      <td>0,25</td>\n    </tr>\n    <tr>\n      <th>afghanistan</th>\n      <td>AFG</td>\n      <td>1952</td>\n      <td>5.0</td>\n      <td>Royal dictatorship</td>\n      <td>NaN</td>\n      <td>0.0</td>\n      <td>0.0</td>\n      <td>0.0</td>\n      <td>0.0</td>\n      <td>NaN</td>\n      <td>...</td>\n      <td>NaN</td>\n      <td>NaN</td>\n      <td>NaN</td>\n      <td>0.0</td>\n      <td>NaN</td>\n      <td>NaN</td>\n      <td>NaN</td>\n      <td>NaN</td>\n      <td>NaN</td>\n      <td>0</td>\n    </tr>\n    <tr>\n      <th>afghanistan</th>\n      <td>AFG</td>\n      <td>1953</td>\n      <td>5.0</td>\n      <td>Royal dictatorship</td>\n      <td>NaN</td>\n      <td>0.0</td>\n      <td>0.0</td>\n      <td>0.0</td>\n      <td>0.0</td>\n      <td>NaN</td>\n      <td>...</td>\n      <td>NaN</td>\n      <td>NaN</td>\n      <td>NaN</td>\n      <td>0.0</td>\n      <td>NaN</td>\n      <td>NaN</td>\n      <td>NaN</td>\n      <td>NaN</td>\n      <td>NaN</td>\n      <td>0</td>\n    </tr>\n    <tr>\n      <th>afghanistan</th>\n      <td>AFG</td>\n      <td>1954</td>\n      <td>5.0</td>\n      <td>Royal dictatorship</td>\n      <td>NaN</td>\n      <td>0.0</td>\n      <td>0.0</td>\n      <td>0.0</td>\n      <td>0.0</td>\n      <td>NaN</td>\n      <td>...</td>\n      <td>NaN</td>\n      <td>NaN</td>\n      <td>NaN</td>\n      <td>0.0</td>\n      <td>NaN</td>\n      <td>NaN</td>\n      <td>NaN</td>\n      <td>NaN</td>\n      <td>NaN</td>\n      <td>0,25</td>\n    </tr>\n  </tbody>\n</table>\n<p>5 rows × 42 columns</p>\n</div>"
     },
     "metadata": {},
     "execution_count": 23
    }
   ],
   "source": [
    "bjorskov_integrated_coups.head()"
   ]
  },
  {
   "cell_type": "code",
   "execution_count": 24,
   "metadata": {},
   "outputs": [],
   "source": [
    "bjorskov_integrated_colonial_institutions = c_names_as_index(pd.read_csv('./raw_data/Bjørnskov-Rode-integrated-dataset-v3.2_colonial_institutions.csv', sep=';'), 'country')"
   ]
  },
  {
   "cell_type": "code",
   "execution_count": 25,
   "metadata": {},
   "outputs": [
    {
     "output_type": "execute_result",
     "data": {
      "text/plain": [
       "            country isocode  year  DD regime         DD category  Democracy  \\\n",
       "country                                                                       \n",
       "afghanistan             AFG  1950        5.0  Royal dictatorship        0.0   \n",
       "afghanistan             AFG  1951        5.0  Royal dictatorship        0.0   \n",
       "afghanistan             AFG  1952        5.0  Royal dictatorship        0.0   \n",
       "afghanistan             AFG  1953        5.0  Royal dictatorship        0.0   \n",
       "afghanistan             AFG  1954        5.0  Royal dictatorship        0.0   \n",
       "\n",
       "             Presidential  countrycode  No. of chambers in parliament  \\\n",
       "country                                                                 \n",
       "afghanistan           0.0          1.0                            2.0   \n",
       "afghanistan           0.0          1.0                            2.0   \n",
       "afghanistan           0.0          1.0                            2.0   \n",
       "afghanistan           0.0          1.0                            2.0   \n",
       "afghanistan           0.0          1.0                            2.0   \n",
       "\n",
       "             proportional voting Election system  ...  \\\n",
       "country                                           ...   \n",
       "afghanistan                  0.0             NaN  ...   \n",
       "afghanistan                  0.0             NaN  ...   \n",
       "afghanistan                  0.0             NaN  ...   \n",
       "afghanistan                  0.0             NaN  ...   \n",
       "afghanistan                  NaN             NaN  ...   \n",
       "\n",
       "             No. of members in upper house No. of members in third house  \\\n",
       "country                                                                    \n",
       "afghanistan                            NaN                           NaN   \n",
       "afghanistan                            NaN                           NaN   \n",
       "afghanistan                            NaN                           NaN   \n",
       "afghanistan                            NaN                           NaN   \n",
       "afghanistan                            NaN                           NaN   \n",
       "\n",
       "             New constitution  fullsuffrage  Suffrage restriction electoral  \\\n",
       "country                                                                       \n",
       "afghanistan               0.0           0.0        Male vote only       2.0   \n",
       "afghanistan               0.0           0.0        Male vote only       2.0   \n",
       "afghanistan               0.0           0.0        Male vote only       2.0   \n",
       "afghanistan               0.0           0.0        Male vote only       2.0   \n",
       "afghanistan               0.0           0.0        Male vote only       2.0   \n",
       "\n",
       "             Details Unnamed: 19 Unnamed: 20  Self-governing  \n",
       "country                                                       \n",
       "afghanistan      NaN         NaN         NaN             NaN  \n",
       "afghanistan      NaN         NaN         NaN             NaN  \n",
       "afghanistan      NaN         NaN         NaN             NaN  \n",
       "afghanistan      NaN         NaN         NaN             NaN  \n",
       "afghanistan      NaN         NaN         NaN             NaN  \n",
       "\n",
       "[5 rows x 21 columns]"
      ],
      "text/html": "<div>\n<style scoped>\n    .dataframe tbody tr th:only-of-type {\n        vertical-align: middle;\n    }\n\n    .dataframe tbody tr th {\n        vertical-align: top;\n    }\n\n    .dataframe thead th {\n        text-align: right;\n    }\n</style>\n<table border=\"1\" class=\"dataframe\">\n  <thead>\n    <tr style=\"text-align: right;\">\n      <th></th>\n      <th>country isocode</th>\n      <th>year</th>\n      <th>DD regime</th>\n      <th>DD category</th>\n      <th>Democracy</th>\n      <th>Presidential</th>\n      <th>countrycode</th>\n      <th>No. of chambers in parliament</th>\n      <th>proportional voting</th>\n      <th>Election system</th>\n      <th>...</th>\n      <th>No. of members in upper house</th>\n      <th>No. of members in third house</th>\n      <th>New constitution</th>\n      <th>fullsuffrage</th>\n      <th>Suffrage restriction</th>\n      <th>electoral</th>\n      <th>Details</th>\n      <th>Unnamed: 19</th>\n      <th>Unnamed: 20</th>\n      <th>Self-governing</th>\n    </tr>\n    <tr>\n      <th>country</th>\n      <th></th>\n      <th></th>\n      <th></th>\n      <th></th>\n      <th></th>\n      <th></th>\n      <th></th>\n      <th></th>\n      <th></th>\n      <th></th>\n      <th></th>\n      <th></th>\n      <th></th>\n      <th></th>\n      <th></th>\n      <th></th>\n      <th></th>\n      <th></th>\n      <th></th>\n      <th></th>\n      <th></th>\n    </tr>\n  </thead>\n  <tbody>\n    <tr>\n      <th>afghanistan</th>\n      <td>AFG</td>\n      <td>1950</td>\n      <td>5.0</td>\n      <td>Royal dictatorship</td>\n      <td>0.0</td>\n      <td>0.0</td>\n      <td>1.0</td>\n      <td>2.0</td>\n      <td>0.0</td>\n      <td>NaN</td>\n      <td>...</td>\n      <td>NaN</td>\n      <td>NaN</td>\n      <td>0.0</td>\n      <td>0.0</td>\n      <td>Male vote only</td>\n      <td>2.0</td>\n      <td>NaN</td>\n      <td>NaN</td>\n      <td>NaN</td>\n      <td>NaN</td>\n    </tr>\n    <tr>\n      <th>afghanistan</th>\n      <td>AFG</td>\n      <td>1951</td>\n      <td>5.0</td>\n      <td>Royal dictatorship</td>\n      <td>0.0</td>\n      <td>0.0</td>\n      <td>1.0</td>\n      <td>2.0</td>\n      <td>0.0</td>\n      <td>NaN</td>\n      <td>...</td>\n      <td>NaN</td>\n      <td>NaN</td>\n      <td>0.0</td>\n      <td>0.0</td>\n      <td>Male vote only</td>\n      <td>2.0</td>\n      <td>NaN</td>\n      <td>NaN</td>\n      <td>NaN</td>\n      <td>NaN</td>\n    </tr>\n    <tr>\n      <th>afghanistan</th>\n      <td>AFG</td>\n      <td>1952</td>\n      <td>5.0</td>\n      <td>Royal dictatorship</td>\n      <td>0.0</td>\n      <td>0.0</td>\n      <td>1.0</td>\n      <td>2.0</td>\n      <td>0.0</td>\n      <td>NaN</td>\n      <td>...</td>\n      <td>NaN</td>\n      <td>NaN</td>\n      <td>0.0</td>\n      <td>0.0</td>\n      <td>Male vote only</td>\n      <td>2.0</td>\n      <td>NaN</td>\n      <td>NaN</td>\n      <td>NaN</td>\n      <td>NaN</td>\n    </tr>\n    <tr>\n      <th>afghanistan</th>\n      <td>AFG</td>\n      <td>1953</td>\n      <td>5.0</td>\n      <td>Royal dictatorship</td>\n      <td>0.0</td>\n      <td>0.0</td>\n      <td>1.0</td>\n      <td>2.0</td>\n      <td>0.0</td>\n      <td>NaN</td>\n      <td>...</td>\n      <td>NaN</td>\n      <td>NaN</td>\n      <td>0.0</td>\n      <td>0.0</td>\n      <td>Male vote only</td>\n      <td>2.0</td>\n      <td>NaN</td>\n      <td>NaN</td>\n      <td>NaN</td>\n      <td>NaN</td>\n    </tr>\n    <tr>\n      <th>afghanistan</th>\n      <td>AFG</td>\n      <td>1954</td>\n      <td>5.0</td>\n      <td>Royal dictatorship</td>\n      <td>0.0</td>\n      <td>0.0</td>\n      <td>1.0</td>\n      <td>2.0</td>\n      <td>NaN</td>\n      <td>NaN</td>\n      <td>...</td>\n      <td>NaN</td>\n      <td>NaN</td>\n      <td>0.0</td>\n      <td>0.0</td>\n      <td>Male vote only</td>\n      <td>2.0</td>\n      <td>NaN</td>\n      <td>NaN</td>\n      <td>NaN</td>\n      <td>NaN</td>\n    </tr>\n  </tbody>\n</table>\n<p>5 rows × 21 columns</p>\n</div>"
     },
     "metadata": {},
     "execution_count": 25
    }
   ],
   "source": [
    "bjorskov_integrated_colonial_institutions.head()"
   ]
  },
  {
   "cell_type": "code",
   "execution_count": 26,
   "metadata": {},
   "outputs": [],
   "source": [
    "OECD_union = c_names_as_index(pd.read_csv('./raw_data/TUD_21032021172006040.csv', sep=','), 'Country')"
   ]
  },
  {
   "cell_type": "code",
   "execution_count": 27,
   "metadata": {},
   "outputs": [
    {
     "output_type": "execute_result",
     "data": {
      "text/plain": [
       "         COU SOURCE               Source SERIES     Series  TIME  Year  \\\n",
       "Country                                                                  \n",
       "hungary  HUN    ADM  Administrative data    EEM  Employees  1998  1998   \n",
       "hungary  HUN    ADM  Administrative data    EEM  Employees  2000  2000   \n",
       "hungary  HUN    ADM  Administrative data    EEM  Employees  2001  2001   \n",
       "hungary  HUN    ADM  Administrative data    EEM  Employees  2003  2003   \n",
       "hungary  HUN    ADM  Administrative data    EEM  Employees  2005  2005   \n",
       "\n",
       "        Unit Code    Unit  PowerCode Code  PowerCode  Reference Period Code  \\\n",
       "Country                                                                       \n",
       "hungary       NBR  Number               3  Thousands                    NaN   \n",
       "hungary       NBR  Number               3  Thousands                    NaN   \n",
       "hungary       NBR  Number               3  Thousands                    NaN   \n",
       "hungary       NBR  Number               3  Thousands                    NaN   \n",
       "hungary       NBR  Number               3  Thousands                    NaN   \n",
       "\n",
       "         Reference Period   Value Flag Codes Flags  \n",
       "Country                                             \n",
       "hungary               NaN  3088.0        NaN   NaN  \n",
       "hungary               NaN  3256.0        NaN   NaN  \n",
       "hungary               NaN  3314.0        NaN   NaN  \n",
       "hungary               NaN  3399.0        NaN   NaN  \n",
       "hungary               NaN  3367.0        NaN   NaN  "
      ],
      "text/html": "<div>\n<style scoped>\n    .dataframe tbody tr th:only-of-type {\n        vertical-align: middle;\n    }\n\n    .dataframe tbody tr th {\n        vertical-align: top;\n    }\n\n    .dataframe thead th {\n        text-align: right;\n    }\n</style>\n<table border=\"1\" class=\"dataframe\">\n  <thead>\n    <tr style=\"text-align: right;\">\n      <th></th>\n      <th>COU</th>\n      <th>SOURCE</th>\n      <th>Source</th>\n      <th>SERIES</th>\n      <th>Series</th>\n      <th>TIME</th>\n      <th>Year</th>\n      <th>Unit Code</th>\n      <th>Unit</th>\n      <th>PowerCode Code</th>\n      <th>PowerCode</th>\n      <th>Reference Period Code</th>\n      <th>Reference Period</th>\n      <th>Value</th>\n      <th>Flag Codes</th>\n      <th>Flags</th>\n    </tr>\n    <tr>\n      <th>Country</th>\n      <th></th>\n      <th></th>\n      <th></th>\n      <th></th>\n      <th></th>\n      <th></th>\n      <th></th>\n      <th></th>\n      <th></th>\n      <th></th>\n      <th></th>\n      <th></th>\n      <th></th>\n      <th></th>\n      <th></th>\n      <th></th>\n    </tr>\n  </thead>\n  <tbody>\n    <tr>\n      <th>hungary</th>\n      <td>HUN</td>\n      <td>ADM</td>\n      <td>Administrative data</td>\n      <td>EEM</td>\n      <td>Employees</td>\n      <td>1998</td>\n      <td>1998</td>\n      <td>NBR</td>\n      <td>Number</td>\n      <td>3</td>\n      <td>Thousands</td>\n      <td>NaN</td>\n      <td>NaN</td>\n      <td>3088.0</td>\n      <td>NaN</td>\n      <td>NaN</td>\n    </tr>\n    <tr>\n      <th>hungary</th>\n      <td>HUN</td>\n      <td>ADM</td>\n      <td>Administrative data</td>\n      <td>EEM</td>\n      <td>Employees</td>\n      <td>2000</td>\n      <td>2000</td>\n      <td>NBR</td>\n      <td>Number</td>\n      <td>3</td>\n      <td>Thousands</td>\n      <td>NaN</td>\n      <td>NaN</td>\n      <td>3256.0</td>\n      <td>NaN</td>\n      <td>NaN</td>\n    </tr>\n    <tr>\n      <th>hungary</th>\n      <td>HUN</td>\n      <td>ADM</td>\n      <td>Administrative data</td>\n      <td>EEM</td>\n      <td>Employees</td>\n      <td>2001</td>\n      <td>2001</td>\n      <td>NBR</td>\n      <td>Number</td>\n      <td>3</td>\n      <td>Thousands</td>\n      <td>NaN</td>\n      <td>NaN</td>\n      <td>3314.0</td>\n      <td>NaN</td>\n      <td>NaN</td>\n    </tr>\n    <tr>\n      <th>hungary</th>\n      <td>HUN</td>\n      <td>ADM</td>\n      <td>Administrative data</td>\n      <td>EEM</td>\n      <td>Employees</td>\n      <td>2003</td>\n      <td>2003</td>\n      <td>NBR</td>\n      <td>Number</td>\n      <td>3</td>\n      <td>Thousands</td>\n      <td>NaN</td>\n      <td>NaN</td>\n      <td>3399.0</td>\n      <td>NaN</td>\n      <td>NaN</td>\n    </tr>\n    <tr>\n      <th>hungary</th>\n      <td>HUN</td>\n      <td>ADM</td>\n      <td>Administrative data</td>\n      <td>EEM</td>\n      <td>Employees</td>\n      <td>2005</td>\n      <td>2005</td>\n      <td>NBR</td>\n      <td>Number</td>\n      <td>3</td>\n      <td>Thousands</td>\n      <td>NaN</td>\n      <td>NaN</td>\n      <td>3367.0</td>\n      <td>NaN</td>\n      <td>NaN</td>\n    </tr>\n  </tbody>\n</table>\n</div>"
     },
     "metadata": {},
     "execution_count": 27
    }
   ],
   "source": [
    "OECD_union.head()"
   ]
  },
  {
   "cell_type": "code",
   "execution_count": 28,
   "metadata": {},
   "outputs": [],
   "source": [
    "WB_civil_soc_participation = c_names_as_index(pd.read_csv('./raw_data/worldbank_civil_society_participation.csv', sep=','), 'Country Name')"
   ]
  },
  {
   "cell_type": "code",
   "execution_count": 29,
   "metadata": {},
   "outputs": [
    {
     "output_type": "execute_result",
     "data": {
      "text/plain": [
       "             Country ISO3  Indicator Id                     Indicator  \\\n",
       "Country Name                                                            \n",
       "afghanistan           AFG         28736         Anticorruption policy   \n",
       "afghanistan           AFG         28737                  Civil rights   \n",
       "afghanistan           AFG         28738   Civil society participation   \n",
       "afghanistan           AFG         28739      Civil society traditions   \n",
       "afghanistan           AFG         28740  Cleavage conflict management   \n",
       "\n",
       "             Subindicator Type  2006  2008  2010  2012  2014  2016  2018  \n",
       "Country Name                                                              \n",
       "afghanistan              Score   1.0   1.0   1.0   1.0   1.0   3.0   2.0  \n",
       "afghanistan              Score   2.0   3.0   2.0   2.0   2.0   2.0   2.0  \n",
       "afghanistan              Score   4.0   4.0   3.0   3.0   3.0   4.0   4.0  \n",
       "afghanistan              Score  10.0  10.0  10.0  10.0  10.0  10.0  10.0  \n",
       "afghanistan              Score   4.0   4.0   4.0   4.0   4.0   4.0   4.0  "
      ],
      "text/html": "<div>\n<style scoped>\n    .dataframe tbody tr th:only-of-type {\n        vertical-align: middle;\n    }\n\n    .dataframe tbody tr th {\n        vertical-align: top;\n    }\n\n    .dataframe thead th {\n        text-align: right;\n    }\n</style>\n<table border=\"1\" class=\"dataframe\">\n  <thead>\n    <tr style=\"text-align: right;\">\n      <th></th>\n      <th>Country ISO3</th>\n      <th>Indicator Id</th>\n      <th>Indicator</th>\n      <th>Subindicator Type</th>\n      <th>2006</th>\n      <th>2008</th>\n      <th>2010</th>\n      <th>2012</th>\n      <th>2014</th>\n      <th>2016</th>\n      <th>2018</th>\n    </tr>\n    <tr>\n      <th>Country Name</th>\n      <th></th>\n      <th></th>\n      <th></th>\n      <th></th>\n      <th></th>\n      <th></th>\n      <th></th>\n      <th></th>\n      <th></th>\n      <th></th>\n      <th></th>\n    </tr>\n  </thead>\n  <tbody>\n    <tr>\n      <th>afghanistan</th>\n      <td>AFG</td>\n      <td>28736</td>\n      <td>Anticorruption policy</td>\n      <td>Score</td>\n      <td>1.0</td>\n      <td>1.0</td>\n      <td>1.0</td>\n      <td>1.0</td>\n      <td>1.0</td>\n      <td>3.0</td>\n      <td>2.0</td>\n    </tr>\n    <tr>\n      <th>afghanistan</th>\n      <td>AFG</td>\n      <td>28737</td>\n      <td>Civil rights</td>\n      <td>Score</td>\n      <td>2.0</td>\n      <td>3.0</td>\n      <td>2.0</td>\n      <td>2.0</td>\n      <td>2.0</td>\n      <td>2.0</td>\n      <td>2.0</td>\n    </tr>\n    <tr>\n      <th>afghanistan</th>\n      <td>AFG</td>\n      <td>28738</td>\n      <td>Civil society participation</td>\n      <td>Score</td>\n      <td>4.0</td>\n      <td>4.0</td>\n      <td>3.0</td>\n      <td>3.0</td>\n      <td>3.0</td>\n      <td>4.0</td>\n      <td>4.0</td>\n    </tr>\n    <tr>\n      <th>afghanistan</th>\n      <td>AFG</td>\n      <td>28739</td>\n      <td>Civil society traditions</td>\n      <td>Score</td>\n      <td>10.0</td>\n      <td>10.0</td>\n      <td>10.0</td>\n      <td>10.0</td>\n      <td>10.0</td>\n      <td>10.0</td>\n      <td>10.0</td>\n    </tr>\n    <tr>\n      <th>afghanistan</th>\n      <td>AFG</td>\n      <td>28740</td>\n      <td>Cleavage conflict management</td>\n      <td>Score</td>\n      <td>4.0</td>\n      <td>4.0</td>\n      <td>4.0</td>\n      <td>4.0</td>\n      <td>4.0</td>\n      <td>4.0</td>\n      <td>4.0</td>\n    </tr>\n  </tbody>\n</table>\n</div>"
     },
     "metadata": {},
     "execution_count": 29
    }
   ],
   "source": [
    "WB_civil_soc_participation.head()"
   ]
  },
  {
   "cell_type": "code",
   "execution_count": 33,
   "metadata": {},
   "outputs": [],
   "source": [
    "all_df = pd.concat([\n",
    "    freedom_house13_21, \n",
    "    freedom_house73_21_ctr, \n",
    "    freedom_house_aggregate03_05, \n",
    "    freedom_house_aggregate06_21, \n",
    "    bjorskov_integrated, \n",
    "    bjorskov_integrated_coups, \n",
    "    bjorskov_integrated_colonial_institutions, \n",
    "    OECD_union, \n",
    "    WB_civil_soc_participation], \n",
    "    axis=0)"
   ]
  },
  {
   "cell_type": "code",
   "execution_count": 34,
   "metadata": {},
   "outputs": [],
   "source": [
    "all_df.to_csv('raw_data/master.csv')"
   ]
  },
  {
   "cell_type": "code",
   "execution_count": null,
   "metadata": {},
   "outputs": [],
   "source": []
  }
 ]
}