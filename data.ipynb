{
 "metadata": {
  "language_info": {
   "codemirror_mode": {
    "name": "ipython",
    "version": 3
   },
   "file_extension": ".py",
   "mimetype": "text/x-python",
   "name": "python",
   "nbconvert_exporter": "python",
   "pygments_lexer": "ipython3",
   "version": "3.8.5-final"
  },
  "orig_nbformat": 2,
  "kernelspec": {
   "name": "python3",
   "display_name": "Python 3",
   "language": "python"
  }
 },
 "nbformat": 4,
 "nbformat_minor": 2,
 "cells": [
  {
   "cell_type": "code",
   "execution_count": 1,
   "metadata": {},
   "outputs": [],
   "source": [
    "import pandas as pd\n",
    "import numpy as np"
   ]
  },
  {
   "cell_type": "code",
   "execution_count": 2,
   "metadata": {},
   "outputs": [],
   "source": [
    "def c_names_as_index(df, cn):\n",
    "    df.loc[:, cn] = df.loc[:, cn].apply(lambda x: x.lower())\n",
    "    df.index = df.loc[:, cn]\n",
    "    df = df.rename(columns={cn: 'country'})\n",
    "    return df"
   ]
  },
  {
   "cell_type": "code",
   "execution_count": 39,
   "metadata": {},
   "outputs": [],
   "source": [
    "freedom_house13_21 = c_names_as_index(pd.read_csv('./raw_data/All_data_FIW_2013-2021.csv', sep=';', skiprows=1), 'Country/Territory')"
   ]
  },
  {
   "cell_type": "code",
   "execution_count": 40,
   "metadata": {},
   "outputs": [
    {
     "output_type": "execute_result",
     "data": {
      "text/plain": [
       "                       country   Region C/T  Edition Status  PR rating  \\\n",
       "Country/Territory                                                        \n",
       "abkhazia              abkhazia  Eurasia   t     2021     PF          5   \n",
       "afghanistan        afghanistan     Asia   c     2021     NF          5   \n",
       "albania                albania   Europe   c     2021     PF          3   \n",
       "algeria                algeria     MENA   c     2021     NF          6   \n",
       "andorra                andorra   Europe   c     2021      F          1   \n",
       "\n",
       "                   CL rating  A1  A2  A3  ...  F3  F4   F  G1  G2  G3  G4   G  \\\n",
       "Country/Territory                         ...                                   \n",
       "abkhazia                   5   2   2   1  ...   1   1   4   1   1   2   1   5   \n",
       "afghanistan                6   1   1   1  ...   0   1   2   0   1   0   1   2   \n",
       "albania                    3   3   3   2  ...   2   3   9   3   2   2   2   9   \n",
       "algeria                    5   1   1   1  ...   2   2   6   2   2   2   1   7   \n",
       "andorra                    1   4   4   4  ...   4   3  15   4   4   3   4  15   \n",
       "\n",
       "                   CL  Total  \n",
       "Country/Territory             \n",
       "abkhazia           23     40  \n",
       "afghanistan        14     27  \n",
       "albania            39     66  \n",
       "algeria            22     32  \n",
       "andorra            55     93  \n",
       "\n",
       "[5 rows x 44 columns]"
      ],
      "text/html": "<div>\n<style scoped>\n    .dataframe tbody tr th:only-of-type {\n        vertical-align: middle;\n    }\n\n    .dataframe tbody tr th {\n        vertical-align: top;\n    }\n\n    .dataframe thead th {\n        text-align: right;\n    }\n</style>\n<table border=\"1\" class=\"dataframe\">\n  <thead>\n    <tr style=\"text-align: right;\">\n      <th></th>\n      <th>country</th>\n      <th>Region</th>\n      <th>C/T</th>\n      <th>Edition</th>\n      <th>Status</th>\n      <th>PR rating</th>\n      <th>CL rating</th>\n      <th>A1</th>\n      <th>A2</th>\n      <th>A3</th>\n      <th>...</th>\n      <th>F3</th>\n      <th>F4</th>\n      <th>F</th>\n      <th>G1</th>\n      <th>G2</th>\n      <th>G3</th>\n      <th>G4</th>\n      <th>G</th>\n      <th>CL</th>\n      <th>Total</th>\n    </tr>\n    <tr>\n      <th>Country/Territory</th>\n      <th></th>\n      <th></th>\n      <th></th>\n      <th></th>\n      <th></th>\n      <th></th>\n      <th></th>\n      <th></th>\n      <th></th>\n      <th></th>\n      <th></th>\n      <th></th>\n      <th></th>\n      <th></th>\n      <th></th>\n      <th></th>\n      <th></th>\n      <th></th>\n      <th></th>\n      <th></th>\n      <th></th>\n    </tr>\n  </thead>\n  <tbody>\n    <tr>\n      <th>abkhazia</th>\n      <td>abkhazia</td>\n      <td>Eurasia</td>\n      <td>t</td>\n      <td>2021</td>\n      <td>PF</td>\n      <td>5</td>\n      <td>5</td>\n      <td>2</td>\n      <td>2</td>\n      <td>1</td>\n      <td>...</td>\n      <td>1</td>\n      <td>1</td>\n      <td>4</td>\n      <td>1</td>\n      <td>1</td>\n      <td>2</td>\n      <td>1</td>\n      <td>5</td>\n      <td>23</td>\n      <td>40</td>\n    </tr>\n    <tr>\n      <th>afghanistan</th>\n      <td>afghanistan</td>\n      <td>Asia</td>\n      <td>c</td>\n      <td>2021</td>\n      <td>NF</td>\n      <td>5</td>\n      <td>6</td>\n      <td>1</td>\n      <td>1</td>\n      <td>1</td>\n      <td>...</td>\n      <td>0</td>\n      <td>1</td>\n      <td>2</td>\n      <td>0</td>\n      <td>1</td>\n      <td>0</td>\n      <td>1</td>\n      <td>2</td>\n      <td>14</td>\n      <td>27</td>\n    </tr>\n    <tr>\n      <th>albania</th>\n      <td>albania</td>\n      <td>Europe</td>\n      <td>c</td>\n      <td>2021</td>\n      <td>PF</td>\n      <td>3</td>\n      <td>3</td>\n      <td>3</td>\n      <td>3</td>\n      <td>2</td>\n      <td>...</td>\n      <td>2</td>\n      <td>3</td>\n      <td>9</td>\n      <td>3</td>\n      <td>2</td>\n      <td>2</td>\n      <td>2</td>\n      <td>9</td>\n      <td>39</td>\n      <td>66</td>\n    </tr>\n    <tr>\n      <th>algeria</th>\n      <td>algeria</td>\n      <td>MENA</td>\n      <td>c</td>\n      <td>2021</td>\n      <td>NF</td>\n      <td>6</td>\n      <td>5</td>\n      <td>1</td>\n      <td>1</td>\n      <td>1</td>\n      <td>...</td>\n      <td>2</td>\n      <td>2</td>\n      <td>6</td>\n      <td>2</td>\n      <td>2</td>\n      <td>2</td>\n      <td>1</td>\n      <td>7</td>\n      <td>22</td>\n      <td>32</td>\n    </tr>\n    <tr>\n      <th>andorra</th>\n      <td>andorra</td>\n      <td>Europe</td>\n      <td>c</td>\n      <td>2021</td>\n      <td>F</td>\n      <td>1</td>\n      <td>1</td>\n      <td>4</td>\n      <td>4</td>\n      <td>4</td>\n      <td>...</td>\n      <td>4</td>\n      <td>3</td>\n      <td>15</td>\n      <td>4</td>\n      <td>4</td>\n      <td>3</td>\n      <td>4</td>\n      <td>15</td>\n      <td>55</td>\n      <td>93</td>\n    </tr>\n  </tbody>\n</table>\n<p>5 rows × 44 columns</p>\n</div>"
     },
     "metadata": {},
     "execution_count": 40
    }
   ],
   "source": [
    "freedom_house13_21.head()"
   ]
  },
  {
   "cell_type": "code",
   "execution_count": 148,
   "metadata": {},
   "outputs": [],
   "source": [
    "freedom_house73_21_ctr = pd.read_csv('./raw_data/Country_and_Territory_Ratings_and_Statuses_FIW1973-2021.csv', sep=';')"
   ]
  },
  {
   "cell_type": "code",
   "execution_count": 149,
   "metadata": {},
   "outputs": [],
   "source": [
    "freedom_house73_21_ctr.iloc[0,0] = np.nan\n",
    "freedom_house73_21_ctr.iloc[0].replace(np.nan, None, inplace=True)\n",
    "freedom_house73_21_ctr.columns = pd.MultiIndex.from_tuples(list(zip(freedom_house73_21_ctr.iloc[0], freedom_house73_21_ctr.iloc[1])))\n",
    "freedom_house73_21_ctr.drop([0,1], inplace=True)\n",
    "freedom_house73_21_ctr = freedom_house73_21_ctr[freedom_house73_21_ctr.iloc[:, 0].notna()]\n",
    "#freedom_house73_21_ctr = c_names_as_index(freedom_house73_21_ctr, freedom_house73_21_ctr.columns[0])\n",
    "freedom_house73_21_ctr.index = freedom_house73_21_ctr.loc[:, freedom_house73_21_ctr.columns[0]].apply(lambda x: x.lower())\n",
    "freedom_house73_21_ctr.drop(freedom_house73_21_ctr.columns[0], axis=1, inplace=True)\n",
    "df = freedom_house73_21_ctr\n",
    "\n",
    "freedom_house73_21_ctr.T.assign(year=freedom_house73_21_ctr.columns.get_level_values(0)).droplevel(level=0, axis=0).T.droplevel(level=0, axis=0).T\n",
    "#freedom_house73_21_ctr = freedom_house73_21_ctr.rename(columns={freedom_house73_21_ctr.columns[0]: 'country'})"
   ]
  },
  {
   "cell_type": "code",
   "execution_count": 150,
   "metadata": {},
   "outputs": [],
   "source": [
    "df = df.loc[['afghanistan', 'albania'], ['1972', '1973']]"
   ]
  },
  {
   "cell_type": "code",
   "execution_count": 151,
   "metadata": {},
   "outputs": [],
   "source": [
    "#list(zip(df.columns.get_level_values(0), df.columns.get_level_values(1)))\n",
    "df = df.T.assign(comb=list(zip(df.columns.get_level_values(0), df.columns.get_level_values(1)))).droplevel(level=0, axis=0).T"
   ]
  },
  {
   "cell_type": "code",
   "execution_count": 153,
   "metadata": {},
   "outputs": [
    {
     "output_type": "execute_result",
     "data": {
      "text/plain": [
       "                     PR          CL           Status          PR          CL   \\\n",
       "(nan, nan)                                                                      \n",
       "afghanistan           4            5              PF           7            6   \n",
       "albania               7            7              NF           7            7   \n",
       "comb         (1972, PR)  (1972, CL )  (1972, Status)  (1973, PR)  (1973, CL )   \n",
       "\n",
       "                     Status  \n",
       "(nan, nan)                   \n",
       "afghanistan              NF  \n",
       "albania                  NF  \n",
       "comb         (1973, Status)  "
      ],
      "text/html": "<div>\n<style scoped>\n    .dataframe tbody tr th:only-of-type {\n        vertical-align: middle;\n    }\n\n    .dataframe tbody tr th {\n        vertical-align: top;\n    }\n\n    .dataframe thead th {\n        text-align: right;\n    }\n</style>\n<table border=\"1\" class=\"dataframe\">\n  <thead>\n    <tr style=\"text-align: right;\">\n      <th></th>\n      <th>PR</th>\n      <th>CL</th>\n      <th>Status</th>\n      <th>PR</th>\n      <th>CL</th>\n      <th>Status</th>\n    </tr>\n    <tr>\n      <th>(nan, nan)</th>\n      <th></th>\n      <th></th>\n      <th></th>\n      <th></th>\n      <th></th>\n      <th></th>\n    </tr>\n  </thead>\n  <tbody>\n    <tr>\n      <th>afghanistan</th>\n      <td>4</td>\n      <td>5</td>\n      <td>PF</td>\n      <td>7</td>\n      <td>6</td>\n      <td>NF</td>\n    </tr>\n    <tr>\n      <th>albania</th>\n      <td>7</td>\n      <td>7</td>\n      <td>NF</td>\n      <td>7</td>\n      <td>7</td>\n      <td>NF</td>\n    </tr>\n    <tr>\n      <th>comb</th>\n      <td>(1972, PR)</td>\n      <td>(1972, CL )</td>\n      <td>(1972, Status)</td>\n      <td>(1973, PR)</td>\n      <td>(1973, CL )</td>\n      <td>(1973, Status)</td>\n    </tr>\n  </tbody>\n</table>\n</div>"
     },
     "metadata": {},
     "execution_count": 153
    }
   ],
   "source": [
    "df"
   ]
  },
  {
   "cell_type": "code",
   "execution_count": 104,
   "metadata": {},
   "outputs": [
    {
     "output_type": "execute_result",
     "data": {
      "text/plain": [
       "                     PR          CL           Status          PR          CL   \\\n",
       "(nan, nan)                                                                      \n",
       "comb         (1972, PR)  (1972, CL )  (1972, Status)  (1973, PR)  (1973, CL )   \n",
       "zimbabwe              6            5              NF           6            5   \n",
       "zambia                5            5              PF           5            5   \n",
       "yugoslavia            6            6              NF           6            6   \n",
       "yemen, s.             7            7              NF           7            7   \n",
       "...                 ...          ...             ...         ...          ...   \n",
       "angola                -            -               -           -            -   \n",
       "andorra               4            3              PF           4            4   \n",
       "algeria               6            6              NF           6            6   \n",
       "albania               7            7              NF           7            7   \n",
       "afghanistan           4            5              PF           7            6   \n",
       "\n",
       "                     Status          PR          CL           Status  \\\n",
       "(nan, nan)                                                             \n",
       "comb         (1973, Status)  (1974, PR)  (1974, CL )  (1974, Status)   \n",
       "zimbabwe                 NF           6            5              NF   \n",
       "zambia                   PF           5            4              PF   \n",
       "yugoslavia               NF           6            6              NF   \n",
       "yemen, s.                NF           7            7              NF   \n",
       "...                     ...         ...          ...             ...   \n",
       "angola                    -           -            -               -   \n",
       "andorra                  PF           4            4              PF   \n",
       "algeria                  NF           6            6              NF   \n",
       "albania                  NF           7            7              NF   \n",
       "afghanistan              NF           7            6              NF   \n",
       "\n",
       "                     PR  ...          Status          PR          CL  \\\n",
       "(nan, nan)               ...                                           \n",
       "comb         (1975, PR)  ...  (2017, Status)  (2018, PR)  (2018, CL)   \n",
       "zimbabwe              6  ...              NF           5           5   \n",
       "zambia                5  ...              PF           4           4   \n",
       "yugoslavia            6  ...               -           -           -   \n",
       "yemen, s.             7  ...               -           -           -   \n",
       "...                 ...  ...             ...         ...         ...   \n",
       "angola                6  ...              NF           6           5   \n",
       "andorra               4  ...               F           1           1   \n",
       "algeria               7  ...              NF           6           5   \n",
       "albania               7  ...              PF           3           3   \n",
       "afghanistan           7  ...              NF           5           6   \n",
       "\n",
       "                     Status          PR          CL          Status  \\\n",
       "(nan, nan)                                                            \n",
       "comb         (2018, Status)  (2019, PR)  (2019, CL)  (2019, Status)   \n",
       "zimbabwe                 PF           5           5              PF   \n",
       "zambia                   PF           4           4              PF   \n",
       "yugoslavia                -           -           -               -   \n",
       "yemen, s.                 -           -           -               -   \n",
       "...                     ...         ...         ...             ...   \n",
       "angola                   NF           6           5              NF   \n",
       "andorra                   F           1           1               F   \n",
       "algeria                  NF           6           5              NF   \n",
       "albania                  PF           3           3              PF   \n",
       "afghanistan              NF           5           6              NF   \n",
       "\n",
       "                     PR          CL          Status  \n",
       "(nan, nan)                                           \n",
       "comb         (2020, PR)  (2020, CL)  (2020, Status)  \n",
       "zimbabwe              6           5              NF  \n",
       "zambia                4           4              PF  \n",
       "yugoslavia            -           -               -  \n",
       "yemen, s.             -           -               -  \n",
       "...                 ...         ...             ...  \n",
       "angola                6           5              NF  \n",
       "andorra               1           1               F  \n",
       "algeria               6           5              NF  \n",
       "albania               3           3              PF  \n",
       "afghanistan           5           6              NF  \n",
       "\n",
       "[206 rows x 144 columns]"
      ],
      "text/html": "<div>\n<style scoped>\n    .dataframe tbody tr th:only-of-type {\n        vertical-align: middle;\n    }\n\n    .dataframe tbody tr th {\n        vertical-align: top;\n    }\n\n    .dataframe thead th {\n        text-align: right;\n    }\n</style>\n<table border=\"1\" class=\"dataframe\">\n  <thead>\n    <tr style=\"text-align: right;\">\n      <th></th>\n      <th>PR</th>\n      <th>CL</th>\n      <th>Status</th>\n      <th>PR</th>\n      <th>CL</th>\n      <th>Status</th>\n      <th>PR</th>\n      <th>CL</th>\n      <th>Status</th>\n      <th>PR</th>\n      <th>...</th>\n      <th>Status</th>\n      <th>PR</th>\n      <th>CL</th>\n      <th>Status</th>\n      <th>PR</th>\n      <th>CL</th>\n      <th>Status</th>\n      <th>PR</th>\n      <th>CL</th>\n      <th>Status</th>\n    </tr>\n    <tr>\n      <th>(nan, nan)</th>\n      <th></th>\n      <th></th>\n      <th></th>\n      <th></th>\n      <th></th>\n      <th></th>\n      <th></th>\n      <th></th>\n      <th></th>\n      <th></th>\n      <th></th>\n      <th></th>\n      <th></th>\n      <th></th>\n      <th></th>\n      <th></th>\n      <th></th>\n      <th></th>\n      <th></th>\n      <th></th>\n      <th></th>\n    </tr>\n  </thead>\n  <tbody>\n    <tr>\n      <th>comb</th>\n      <td>(1972, PR)</td>\n      <td>(1972, CL )</td>\n      <td>(1972, Status)</td>\n      <td>(1973, PR)</td>\n      <td>(1973, CL )</td>\n      <td>(1973, Status)</td>\n      <td>(1974, PR)</td>\n      <td>(1974, CL )</td>\n      <td>(1974, Status)</td>\n      <td>(1975, PR)</td>\n      <td>...</td>\n      <td>(2017, Status)</td>\n      <td>(2018, PR)</td>\n      <td>(2018, CL)</td>\n      <td>(2018, Status)</td>\n      <td>(2019, PR)</td>\n      <td>(2019, CL)</td>\n      <td>(2019, Status)</td>\n      <td>(2020, PR)</td>\n      <td>(2020, CL)</td>\n      <td>(2020, Status)</td>\n    </tr>\n    <tr>\n      <th>zimbabwe</th>\n      <td>6</td>\n      <td>5</td>\n      <td>NF</td>\n      <td>6</td>\n      <td>5</td>\n      <td>NF</td>\n      <td>6</td>\n      <td>5</td>\n      <td>NF</td>\n      <td>6</td>\n      <td>...</td>\n      <td>NF</td>\n      <td>5</td>\n      <td>5</td>\n      <td>PF</td>\n      <td>5</td>\n      <td>5</td>\n      <td>PF</td>\n      <td>6</td>\n      <td>5</td>\n      <td>NF</td>\n    </tr>\n    <tr>\n      <th>zambia</th>\n      <td>5</td>\n      <td>5</td>\n      <td>PF</td>\n      <td>5</td>\n      <td>5</td>\n      <td>PF</td>\n      <td>5</td>\n      <td>4</td>\n      <td>PF</td>\n      <td>5</td>\n      <td>...</td>\n      <td>PF</td>\n      <td>4</td>\n      <td>4</td>\n      <td>PF</td>\n      <td>4</td>\n      <td>4</td>\n      <td>PF</td>\n      <td>4</td>\n      <td>4</td>\n      <td>PF</td>\n    </tr>\n    <tr>\n      <th>yugoslavia</th>\n      <td>6</td>\n      <td>6</td>\n      <td>NF</td>\n      <td>6</td>\n      <td>6</td>\n      <td>NF</td>\n      <td>6</td>\n      <td>6</td>\n      <td>NF</td>\n      <td>6</td>\n      <td>...</td>\n      <td>-</td>\n      <td>-</td>\n      <td>-</td>\n      <td>-</td>\n      <td>-</td>\n      <td>-</td>\n      <td>-</td>\n      <td>-</td>\n      <td>-</td>\n      <td>-</td>\n    </tr>\n    <tr>\n      <th>yemen, s.</th>\n      <td>7</td>\n      <td>7</td>\n      <td>NF</td>\n      <td>7</td>\n      <td>7</td>\n      <td>NF</td>\n      <td>7</td>\n      <td>7</td>\n      <td>NF</td>\n      <td>7</td>\n      <td>...</td>\n      <td>-</td>\n      <td>-</td>\n      <td>-</td>\n      <td>-</td>\n      <td>-</td>\n      <td>-</td>\n      <td>-</td>\n      <td>-</td>\n      <td>-</td>\n      <td>-</td>\n    </tr>\n    <tr>\n      <th>...</th>\n      <td>...</td>\n      <td>...</td>\n      <td>...</td>\n      <td>...</td>\n      <td>...</td>\n      <td>...</td>\n      <td>...</td>\n      <td>...</td>\n      <td>...</td>\n      <td>...</td>\n      <td>...</td>\n      <td>...</td>\n      <td>...</td>\n      <td>...</td>\n      <td>...</td>\n      <td>...</td>\n      <td>...</td>\n      <td>...</td>\n      <td>...</td>\n      <td>...</td>\n      <td>...</td>\n    </tr>\n    <tr>\n      <th>angola</th>\n      <td>-</td>\n      <td>-</td>\n      <td>-</td>\n      <td>-</td>\n      <td>-</td>\n      <td>-</td>\n      <td>-</td>\n      <td>-</td>\n      <td>-</td>\n      <td>6</td>\n      <td>...</td>\n      <td>NF</td>\n      <td>6</td>\n      <td>5</td>\n      <td>NF</td>\n      <td>6</td>\n      <td>5</td>\n      <td>NF</td>\n      <td>6</td>\n      <td>5</td>\n      <td>NF</td>\n    </tr>\n    <tr>\n      <th>andorra</th>\n      <td>4</td>\n      <td>3</td>\n      <td>PF</td>\n      <td>4</td>\n      <td>4</td>\n      <td>PF</td>\n      <td>4</td>\n      <td>4</td>\n      <td>PF</td>\n      <td>4</td>\n      <td>...</td>\n      <td>F</td>\n      <td>1</td>\n      <td>1</td>\n      <td>F</td>\n      <td>1</td>\n      <td>1</td>\n      <td>F</td>\n      <td>1</td>\n      <td>1</td>\n      <td>F</td>\n    </tr>\n    <tr>\n      <th>algeria</th>\n      <td>6</td>\n      <td>6</td>\n      <td>NF</td>\n      <td>6</td>\n      <td>6</td>\n      <td>NF</td>\n      <td>6</td>\n      <td>6</td>\n      <td>NF</td>\n      <td>7</td>\n      <td>...</td>\n      <td>NF</td>\n      <td>6</td>\n      <td>5</td>\n      <td>NF</td>\n      <td>6</td>\n      <td>5</td>\n      <td>NF</td>\n      <td>6</td>\n      <td>5</td>\n      <td>NF</td>\n    </tr>\n    <tr>\n      <th>albania</th>\n      <td>7</td>\n      <td>7</td>\n      <td>NF</td>\n      <td>7</td>\n      <td>7</td>\n      <td>NF</td>\n      <td>7</td>\n      <td>7</td>\n      <td>NF</td>\n      <td>7</td>\n      <td>...</td>\n      <td>PF</td>\n      <td>3</td>\n      <td>3</td>\n      <td>PF</td>\n      <td>3</td>\n      <td>3</td>\n      <td>PF</td>\n      <td>3</td>\n      <td>3</td>\n      <td>PF</td>\n    </tr>\n    <tr>\n      <th>afghanistan</th>\n      <td>4</td>\n      <td>5</td>\n      <td>PF</td>\n      <td>7</td>\n      <td>6</td>\n      <td>NF</td>\n      <td>7</td>\n      <td>6</td>\n      <td>NF</td>\n      <td>7</td>\n      <td>...</td>\n      <td>NF</td>\n      <td>5</td>\n      <td>6</td>\n      <td>NF</td>\n      <td>5</td>\n      <td>6</td>\n      <td>NF</td>\n      <td>5</td>\n      <td>6</td>\n      <td>NF</td>\n    </tr>\n  </tbody>\n</table>\n<p>206 rows × 144 columns</p>\n</div>"
     },
     "metadata": {},
     "execution_count": 104
    }
   ],
   "source": [
    "freedom_house73_21_ctr.loc['comb'] = list(zip(freedom_house73_21_ctr.loc['year'], freedom_house73_21_ctr.columns))\n",
    "freedom_house73_21_ctr.drop(['year'], inplace=True)\n",
    "freedom_house73_21_ctr.reindex(index=freedom_house73_21_ctr.index[::-1])"
   ]
  },
  {
   "cell_type": "code",
   "execution_count": 89,
   "metadata": {},
   "outputs": [
    {
     "output_type": "execute_result",
     "data": {
      "text/plain": [
       "            PR CL  Status PR CL  Status PR CL  Status PR  ... Status PR CL  \\\n",
       "(nan, nan)                                                ...                \n",
       "afghanistan  4   5     PF  7   6     NF  7   6     NF  7  ...     NF  5  6   \n",
       "albania      7   7     NF  7   7     NF  7   7     NF  7  ...     PF  3  3   \n",
       "algeria      6   6     NF  6   6     NF  6   6     NF  7  ...     NF  6  5   \n",
       "andorra      4   3     PF  4   4     PF  4   4     PF  4  ...      F  1  1   \n",
       "angola       -   -      -  -   -      -  -   -      -  6  ...     NF  6  5   \n",
       "\n",
       "            Status PR CL Status PR CL Status  \n",
       "(nan, nan)                                    \n",
       "afghanistan     NF  5  6     NF  5  6     NF  \n",
       "albania         PF  3  3     PF  3  3     PF  \n",
       "algeria         NF  6  5     NF  6  5     NF  \n",
       "andorra          F  1  1      F  1  1      F  \n",
       "angola          NF  6  5     NF  6  5     NF  \n",
       "\n",
       "[5 rows x 144 columns]"
      ],
      "text/html": "<div>\n<style scoped>\n    .dataframe tbody tr th:only-of-type {\n        vertical-align: middle;\n    }\n\n    .dataframe tbody tr th {\n        vertical-align: top;\n    }\n\n    .dataframe thead th {\n        text-align: right;\n    }\n</style>\n<table border=\"1\" class=\"dataframe\">\n  <thead>\n    <tr style=\"text-align: right;\">\n      <th></th>\n      <th>PR</th>\n      <th>CL</th>\n      <th>Status</th>\n      <th>PR</th>\n      <th>CL</th>\n      <th>Status</th>\n      <th>PR</th>\n      <th>CL</th>\n      <th>Status</th>\n      <th>PR</th>\n      <th>...</th>\n      <th>Status</th>\n      <th>PR</th>\n      <th>CL</th>\n      <th>Status</th>\n      <th>PR</th>\n      <th>CL</th>\n      <th>Status</th>\n      <th>PR</th>\n      <th>CL</th>\n      <th>Status</th>\n    </tr>\n    <tr>\n      <th>(nan, nan)</th>\n      <th></th>\n      <th></th>\n      <th></th>\n      <th></th>\n      <th></th>\n      <th></th>\n      <th></th>\n      <th></th>\n      <th></th>\n      <th></th>\n      <th></th>\n      <th></th>\n      <th></th>\n      <th></th>\n      <th></th>\n      <th></th>\n      <th></th>\n      <th></th>\n      <th></th>\n      <th></th>\n      <th></th>\n    </tr>\n  </thead>\n  <tbody>\n    <tr>\n      <th>afghanistan</th>\n      <td>4</td>\n      <td>5</td>\n      <td>PF</td>\n      <td>7</td>\n      <td>6</td>\n      <td>NF</td>\n      <td>7</td>\n      <td>6</td>\n      <td>NF</td>\n      <td>7</td>\n      <td>...</td>\n      <td>NF</td>\n      <td>5</td>\n      <td>6</td>\n      <td>NF</td>\n      <td>5</td>\n      <td>6</td>\n      <td>NF</td>\n      <td>5</td>\n      <td>6</td>\n      <td>NF</td>\n    </tr>\n    <tr>\n      <th>albania</th>\n      <td>7</td>\n      <td>7</td>\n      <td>NF</td>\n      <td>7</td>\n      <td>7</td>\n      <td>NF</td>\n      <td>7</td>\n      <td>7</td>\n      <td>NF</td>\n      <td>7</td>\n      <td>...</td>\n      <td>PF</td>\n      <td>3</td>\n      <td>3</td>\n      <td>PF</td>\n      <td>3</td>\n      <td>3</td>\n      <td>PF</td>\n      <td>3</td>\n      <td>3</td>\n      <td>PF</td>\n    </tr>\n    <tr>\n      <th>algeria</th>\n      <td>6</td>\n      <td>6</td>\n      <td>NF</td>\n      <td>6</td>\n      <td>6</td>\n      <td>NF</td>\n      <td>6</td>\n      <td>6</td>\n      <td>NF</td>\n      <td>7</td>\n      <td>...</td>\n      <td>NF</td>\n      <td>6</td>\n      <td>5</td>\n      <td>NF</td>\n      <td>6</td>\n      <td>5</td>\n      <td>NF</td>\n      <td>6</td>\n      <td>5</td>\n      <td>NF</td>\n    </tr>\n    <tr>\n      <th>andorra</th>\n      <td>4</td>\n      <td>3</td>\n      <td>PF</td>\n      <td>4</td>\n      <td>4</td>\n      <td>PF</td>\n      <td>4</td>\n      <td>4</td>\n      <td>PF</td>\n      <td>4</td>\n      <td>...</td>\n      <td>F</td>\n      <td>1</td>\n      <td>1</td>\n      <td>F</td>\n      <td>1</td>\n      <td>1</td>\n      <td>F</td>\n      <td>1</td>\n      <td>1</td>\n      <td>F</td>\n    </tr>\n    <tr>\n      <th>angola</th>\n      <td>-</td>\n      <td>-</td>\n      <td>-</td>\n      <td>-</td>\n      <td>-</td>\n      <td>-</td>\n      <td>-</td>\n      <td>-</td>\n      <td>-</td>\n      <td>6</td>\n      <td>...</td>\n      <td>NF</td>\n      <td>6</td>\n      <td>5</td>\n      <td>NF</td>\n      <td>6</td>\n      <td>5</td>\n      <td>NF</td>\n      <td>6</td>\n      <td>5</td>\n      <td>NF</td>\n    </tr>\n  </tbody>\n</table>\n<p>5 rows × 144 columns</p>\n</div>"
     },
     "metadata": {},
     "execution_count": 89
    }
   ],
   "source": [
    "freedom_house73_21_ctr.head()"
   ]
  },
  {
   "cell_type": "code",
   "execution_count": 12,
   "metadata": {},
   "outputs": [],
   "source": [
    "freedom_house73_21_hd = pd.read_csv('./raw_data/Country_and_Territory_Ratings_and_Statuses_FIW1973-2021_hd.csv', sep=';')"
   ]
  },
  {
   "cell_type": "code",
   "execution_count": 13,
   "metadata": {},
   "outputs": [
    {
     "output_type": "execute_result",
     "data": {
      "text/plain": [
       "  FIW Survey Edition* Year(s) Under Review**  Total Countries  \\\n",
       "0                2021                   2020            195.0   \n",
       "1                2020                   2019            195.0   \n",
       "2                2019                   2018            195.0   \n",
       "3                2018                   2017            195.0   \n",
       "4                2017                   2016            195.0   \n",
       "\n",
       "   Number of F Countries % of F Countries  Number of PF Countries  \\\n",
       "0                   82.0          42,05 %                    59.0   \n",
       "1                   83.0          42,56 %                    63.0   \n",
       "2                   86.0          44,10 %                    59.0   \n",
       "3                   88.0          45,13 %                    58.0   \n",
       "4                   87.0          44,62 %                    59.0   \n",
       "\n",
       "  % of PF Countries  Number of NF Countries % of NF Countries  Unnamed: 9  \\\n",
       "0           30,26 %                    54.0           27,69 %         NaN   \n",
       "1           32,31 %                    49.0           25,13 %         NaN   \n",
       "2           30,26 %                    50.0           25,64 %         NaN   \n",
       "3           29,74 %                    49.0           25,13 %         NaN   \n",
       "4           30,26 %                    49.0           25,13 %         NaN   \n",
       "\n",
       "   ...  Unnamed: 12  Unnamed: 13  Unnamed: 14  Unnamed: 15  Unnamed: 16  \\\n",
       "0  ...          NaN          NaN          NaN          NaN          NaN   \n",
       "1  ...          NaN          NaN          NaN          NaN          NaN   \n",
       "2  ...          NaN          NaN          NaN          NaN          NaN   \n",
       "3  ...          NaN          NaN          NaN          NaN          NaN   \n",
       "4  ...          NaN          NaN          NaN          NaN          NaN   \n",
       "\n",
       "   Unnamed: 17  Unnamed: 18  Unnamed: 19  Unnamed: 20  Unnamed: 21  \n",
       "0          NaN          NaN          NaN          NaN          NaN  \n",
       "1          NaN          NaN          NaN          NaN          NaN  \n",
       "2          NaN          NaN          NaN          NaN         True  \n",
       "3          NaN          NaN          NaN          NaN         True  \n",
       "4          NaN          NaN          NaN          NaN         True  \n",
       "\n",
       "[5 rows x 22 columns]"
      ],
      "text/html": "<div>\n<style scoped>\n    .dataframe tbody tr th:only-of-type {\n        vertical-align: middle;\n    }\n\n    .dataframe tbody tr th {\n        vertical-align: top;\n    }\n\n    .dataframe thead th {\n        text-align: right;\n    }\n</style>\n<table border=\"1\" class=\"dataframe\">\n  <thead>\n    <tr style=\"text-align: right;\">\n      <th></th>\n      <th>FIW Survey Edition*</th>\n      <th>Year(s) Under Review**</th>\n      <th>Total Countries</th>\n      <th>Number of F Countries</th>\n      <th>% of F Countries</th>\n      <th>Number of PF Countries</th>\n      <th>% of PF Countries</th>\n      <th>Number of NF Countries</th>\n      <th>% of NF Countries</th>\n      <th>Unnamed: 9</th>\n      <th>...</th>\n      <th>Unnamed: 12</th>\n      <th>Unnamed: 13</th>\n      <th>Unnamed: 14</th>\n      <th>Unnamed: 15</th>\n      <th>Unnamed: 16</th>\n      <th>Unnamed: 17</th>\n      <th>Unnamed: 18</th>\n      <th>Unnamed: 19</th>\n      <th>Unnamed: 20</th>\n      <th>Unnamed: 21</th>\n    </tr>\n  </thead>\n  <tbody>\n    <tr>\n      <th>0</th>\n      <td>2021</td>\n      <td>2020</td>\n      <td>195.0</td>\n      <td>82.0</td>\n      <td>42,05 %</td>\n      <td>59.0</td>\n      <td>30,26 %</td>\n      <td>54.0</td>\n      <td>27,69 %</td>\n      <td>NaN</td>\n      <td>...</td>\n      <td>NaN</td>\n      <td>NaN</td>\n      <td>NaN</td>\n      <td>NaN</td>\n      <td>NaN</td>\n      <td>NaN</td>\n      <td>NaN</td>\n      <td>NaN</td>\n      <td>NaN</td>\n      <td>NaN</td>\n    </tr>\n    <tr>\n      <th>1</th>\n      <td>2020</td>\n      <td>2019</td>\n      <td>195.0</td>\n      <td>83.0</td>\n      <td>42,56 %</td>\n      <td>63.0</td>\n      <td>32,31 %</td>\n      <td>49.0</td>\n      <td>25,13 %</td>\n      <td>NaN</td>\n      <td>...</td>\n      <td>NaN</td>\n      <td>NaN</td>\n      <td>NaN</td>\n      <td>NaN</td>\n      <td>NaN</td>\n      <td>NaN</td>\n      <td>NaN</td>\n      <td>NaN</td>\n      <td>NaN</td>\n      <td>NaN</td>\n    </tr>\n    <tr>\n      <th>2</th>\n      <td>2019</td>\n      <td>2018</td>\n      <td>195.0</td>\n      <td>86.0</td>\n      <td>44,10 %</td>\n      <td>59.0</td>\n      <td>30,26 %</td>\n      <td>50.0</td>\n      <td>25,64 %</td>\n      <td>NaN</td>\n      <td>...</td>\n      <td>NaN</td>\n      <td>NaN</td>\n      <td>NaN</td>\n      <td>NaN</td>\n      <td>NaN</td>\n      <td>NaN</td>\n      <td>NaN</td>\n      <td>NaN</td>\n      <td>NaN</td>\n      <td>True</td>\n    </tr>\n    <tr>\n      <th>3</th>\n      <td>2018</td>\n      <td>2017</td>\n      <td>195.0</td>\n      <td>88.0</td>\n      <td>45,13 %</td>\n      <td>58.0</td>\n      <td>29,74 %</td>\n      <td>49.0</td>\n      <td>25,13 %</td>\n      <td>NaN</td>\n      <td>...</td>\n      <td>NaN</td>\n      <td>NaN</td>\n      <td>NaN</td>\n      <td>NaN</td>\n      <td>NaN</td>\n      <td>NaN</td>\n      <td>NaN</td>\n      <td>NaN</td>\n      <td>NaN</td>\n      <td>True</td>\n    </tr>\n    <tr>\n      <th>4</th>\n      <td>2017</td>\n      <td>2016</td>\n      <td>195.0</td>\n      <td>87.0</td>\n      <td>44,62 %</td>\n      <td>59.0</td>\n      <td>30,26 %</td>\n      <td>49.0</td>\n      <td>25,13 %</td>\n      <td>NaN</td>\n      <td>...</td>\n      <td>NaN</td>\n      <td>NaN</td>\n      <td>NaN</td>\n      <td>NaN</td>\n      <td>NaN</td>\n      <td>NaN</td>\n      <td>NaN</td>\n      <td>NaN</td>\n      <td>NaN</td>\n      <td>True</td>\n    </tr>\n  </tbody>\n</table>\n<p>5 rows × 22 columns</p>\n</div>"
     },
     "metadata": {},
     "execution_count": 13
    }
   ],
   "source": [
    "freedom_house73_21_hd.head()"
   ]
  },
  {
   "cell_type": "code",
   "execution_count": 14,
   "metadata": {},
   "outputs": [],
   "source": [
    "freedom_house_aggregate03_05 = c_names_as_index(pd.read_csv('./raw_data/Aggregate_Category_and_Subcategory_Scores_FIW_2003-2021_a.csv', sep=';', skiprows=1), 'Abkhazia')"
   ]
  },
  {
   "cell_type": "code",
   "execution_count": 15,
   "metadata": {},
   "outputs": [
    {
     "output_type": "execute_result",
     "data": {
      "text/plain": [
       "                 country Eurasia  t  2021  PF  5  5.1  5.2   8   4  ...  \\\n",
       "Abkhazia                                                            ...   \n",
       "afghanistan  afghanistan    Asia  c  2021  NF  5    6    3   7   3  ...   \n",
       "albania          albania  Europe  c  2021  PF  3    3    8  12   7  ...   \n",
       "algeria          algeria    MENA  c  2021  NF  6    5    3   4   3  ...   \n",
       "andorra          andorra  Europe  c  2021   F  1    1   12  15  11  ...   \n",
       "angola            angola     SSA  c  2021  NF  6    5    3   5   2  ...   \n",
       "\n",
       "             Unnamed: 26  Unnamed: 27  Unnamed: 28  Unnamed: 29  Unnamed: 30  \\\n",
       "Abkhazia                                                                       \n",
       "afghanistan          NaN          NaN          NaN          NaN          NaN   \n",
       "albania              NaN          NaN          NaN          NaN          NaN   \n",
       "algeria              NaN          NaN          NaN          NaN          NaN   \n",
       "andorra              NaN          NaN          NaN          NaN          NaN   \n",
       "angola               NaN          NaN          NaN          NaN          NaN   \n",
       "\n",
       "             Unnamed: 31  Unnamed: 32  Unnamed: 33  Unnamed: 34  Unnamed: 35  \n",
       "Abkhazia                                                                      \n",
       "afghanistan          NaN          NaN          NaN          NaN          NaN  \n",
       "albania              NaN          NaN          NaN          NaN          NaN  \n",
       "algeria              NaN          NaN          NaN          NaN          NaN  \n",
       "andorra              NaN          NaN          NaN          NaN          NaN  \n",
       "angola               NaN          NaN          NaN          NaN          NaN  \n",
       "\n",
       "[5 rows x 36 columns]"
      ],
      "text/html": "<div>\n<style scoped>\n    .dataframe tbody tr th:only-of-type {\n        vertical-align: middle;\n    }\n\n    .dataframe tbody tr th {\n        vertical-align: top;\n    }\n\n    .dataframe thead th {\n        text-align: right;\n    }\n</style>\n<table border=\"1\" class=\"dataframe\">\n  <thead>\n    <tr style=\"text-align: right;\">\n      <th></th>\n      <th>country</th>\n      <th>Eurasia</th>\n      <th>t</th>\n      <th>2021</th>\n      <th>PF</th>\n      <th>5</th>\n      <th>5.1</th>\n      <th>5.2</th>\n      <th>8</th>\n      <th>4</th>\n      <th>...</th>\n      <th>Unnamed: 26</th>\n      <th>Unnamed: 27</th>\n      <th>Unnamed: 28</th>\n      <th>Unnamed: 29</th>\n      <th>Unnamed: 30</th>\n      <th>Unnamed: 31</th>\n      <th>Unnamed: 32</th>\n      <th>Unnamed: 33</th>\n      <th>Unnamed: 34</th>\n      <th>Unnamed: 35</th>\n    </tr>\n    <tr>\n      <th>Abkhazia</th>\n      <th></th>\n      <th></th>\n      <th></th>\n      <th></th>\n      <th></th>\n      <th></th>\n      <th></th>\n      <th></th>\n      <th></th>\n      <th></th>\n      <th></th>\n      <th></th>\n      <th></th>\n      <th></th>\n      <th></th>\n      <th></th>\n      <th></th>\n      <th></th>\n      <th></th>\n      <th></th>\n      <th></th>\n    </tr>\n  </thead>\n  <tbody>\n    <tr>\n      <th>afghanistan</th>\n      <td>afghanistan</td>\n      <td>Asia</td>\n      <td>c</td>\n      <td>2021</td>\n      <td>NF</td>\n      <td>5</td>\n      <td>6</td>\n      <td>3</td>\n      <td>7</td>\n      <td>3</td>\n      <td>...</td>\n      <td>NaN</td>\n      <td>NaN</td>\n      <td>NaN</td>\n      <td>NaN</td>\n      <td>NaN</td>\n      <td>NaN</td>\n      <td>NaN</td>\n      <td>NaN</td>\n      <td>NaN</td>\n      <td>NaN</td>\n    </tr>\n    <tr>\n      <th>albania</th>\n      <td>albania</td>\n      <td>Europe</td>\n      <td>c</td>\n      <td>2021</td>\n      <td>PF</td>\n      <td>3</td>\n      <td>3</td>\n      <td>8</td>\n      <td>12</td>\n      <td>7</td>\n      <td>...</td>\n      <td>NaN</td>\n      <td>NaN</td>\n      <td>NaN</td>\n      <td>NaN</td>\n      <td>NaN</td>\n      <td>NaN</td>\n      <td>NaN</td>\n      <td>NaN</td>\n      <td>NaN</td>\n      <td>NaN</td>\n    </tr>\n    <tr>\n      <th>algeria</th>\n      <td>algeria</td>\n      <td>MENA</td>\n      <td>c</td>\n      <td>2021</td>\n      <td>NF</td>\n      <td>6</td>\n      <td>5</td>\n      <td>3</td>\n      <td>4</td>\n      <td>3</td>\n      <td>...</td>\n      <td>NaN</td>\n      <td>NaN</td>\n      <td>NaN</td>\n      <td>NaN</td>\n      <td>NaN</td>\n      <td>NaN</td>\n      <td>NaN</td>\n      <td>NaN</td>\n      <td>NaN</td>\n      <td>NaN</td>\n    </tr>\n    <tr>\n      <th>andorra</th>\n      <td>andorra</td>\n      <td>Europe</td>\n      <td>c</td>\n      <td>2021</td>\n      <td>F</td>\n      <td>1</td>\n      <td>1</td>\n      <td>12</td>\n      <td>15</td>\n      <td>11</td>\n      <td>...</td>\n      <td>NaN</td>\n      <td>NaN</td>\n      <td>NaN</td>\n      <td>NaN</td>\n      <td>NaN</td>\n      <td>NaN</td>\n      <td>NaN</td>\n      <td>NaN</td>\n      <td>NaN</td>\n      <td>NaN</td>\n    </tr>\n    <tr>\n      <th>angola</th>\n      <td>angola</td>\n      <td>SSA</td>\n      <td>c</td>\n      <td>2021</td>\n      <td>NF</td>\n      <td>6</td>\n      <td>5</td>\n      <td>3</td>\n      <td>5</td>\n      <td>2</td>\n      <td>...</td>\n      <td>NaN</td>\n      <td>NaN</td>\n      <td>NaN</td>\n      <td>NaN</td>\n      <td>NaN</td>\n      <td>NaN</td>\n      <td>NaN</td>\n      <td>NaN</td>\n      <td>NaN</td>\n      <td>NaN</td>\n    </tr>\n  </tbody>\n</table>\n<p>5 rows × 36 columns</p>\n</div>"
     },
     "metadata": {},
     "execution_count": 15
    }
   ],
   "source": [
    "freedom_house_aggregate03_05.head()"
   ]
  },
  {
   "cell_type": "code",
   "execution_count": 16,
   "metadata": {},
   "outputs": [],
   "source": [
    "freedom_house_aggregate06_21 = c_names_as_index(pd.read_csv('./raw_data/Aggregate_Category_and_Subcategory_Scores_FIW_2003-2021_b.csv', sep=';', skiprows=1), 'Abkhazia')"
   ]
  },
  {
   "cell_type": "code",
   "execution_count": 17,
   "metadata": {},
   "outputs": [
    {
     "output_type": "execute_result",
     "data": {
      "text/plain": [
       "                 country  t   9 9.1 9.2  20  21 21.1  29  30 30.1\n",
       "Abkhazia                                                         \n",
       "afghanistan  afghanistan  c   8   9  13  15  14   14  23  23   27\n",
       "albania          albania  c  26  26  26  42  42   40  68  68   66\n",
       "algeria          algeria  c  11  11  10  22  22   25  33  33   35\n",
       "andorra          andorra  c  39  39  39  57  58   58  96  97   97\n",
       "angola            angola  c   8   7   8  22  22   22  30  29   30"
      ],
      "text/html": "<div>\n<style scoped>\n    .dataframe tbody tr th:only-of-type {\n        vertical-align: middle;\n    }\n\n    .dataframe tbody tr th {\n        vertical-align: top;\n    }\n\n    .dataframe thead th {\n        text-align: right;\n    }\n</style>\n<table border=\"1\" class=\"dataframe\">\n  <thead>\n    <tr style=\"text-align: right;\">\n      <th></th>\n      <th>country</th>\n      <th>t</th>\n      <th>9</th>\n      <th>9.1</th>\n      <th>9.2</th>\n      <th>20</th>\n      <th>21</th>\n      <th>21.1</th>\n      <th>29</th>\n      <th>30</th>\n      <th>30.1</th>\n    </tr>\n    <tr>\n      <th>Abkhazia</th>\n      <th></th>\n      <th></th>\n      <th></th>\n      <th></th>\n      <th></th>\n      <th></th>\n      <th></th>\n      <th></th>\n      <th></th>\n      <th></th>\n      <th></th>\n    </tr>\n  </thead>\n  <tbody>\n    <tr>\n      <th>afghanistan</th>\n      <td>afghanistan</td>\n      <td>c</td>\n      <td>8</td>\n      <td>9</td>\n      <td>13</td>\n      <td>15</td>\n      <td>14</td>\n      <td>14</td>\n      <td>23</td>\n      <td>23</td>\n      <td>27</td>\n    </tr>\n    <tr>\n      <th>albania</th>\n      <td>albania</td>\n      <td>c</td>\n      <td>26</td>\n      <td>26</td>\n      <td>26</td>\n      <td>42</td>\n      <td>42</td>\n      <td>40</td>\n      <td>68</td>\n      <td>68</td>\n      <td>66</td>\n    </tr>\n    <tr>\n      <th>algeria</th>\n      <td>algeria</td>\n      <td>c</td>\n      <td>11</td>\n      <td>11</td>\n      <td>10</td>\n      <td>22</td>\n      <td>22</td>\n      <td>25</td>\n      <td>33</td>\n      <td>33</td>\n      <td>35</td>\n    </tr>\n    <tr>\n      <th>andorra</th>\n      <td>andorra</td>\n      <td>c</td>\n      <td>39</td>\n      <td>39</td>\n      <td>39</td>\n      <td>57</td>\n      <td>58</td>\n      <td>58</td>\n      <td>96</td>\n      <td>97</td>\n      <td>97</td>\n    </tr>\n    <tr>\n      <th>angola</th>\n      <td>angola</td>\n      <td>c</td>\n      <td>8</td>\n      <td>7</td>\n      <td>8</td>\n      <td>22</td>\n      <td>22</td>\n      <td>22</td>\n      <td>30</td>\n      <td>29</td>\n      <td>30</td>\n    </tr>\n  </tbody>\n</table>\n</div>"
     },
     "metadata": {},
     "execution_count": 17
    }
   ],
   "source": [
    "freedom_house_aggregate06_21.head()"
   ]
  },
  {
   "cell_type": "code",
   "execution_count": 18,
   "metadata": {},
   "outputs": [],
   "source": [
    "bjorskov_integrated = c_names_as_index(pd.read_csv('./raw_data/Bjørnskov-Rode-integrated-dataset-v3.2.csv', sep=';'), 'country')"
   ]
  },
  {
   "cell_type": "code",
   "execution_count": 19,
   "metadata": {},
   "outputs": [
    {
     "output_type": "execute_result",
     "data": {
      "text/plain": [
       "                 country country isocode  year  DD regime         DD category  \\\n",
       "country                                                                         \n",
       "afghanistan  afghanistan             AFG  1950        5.0  Royal dictatorship   \n",
       "afghanistan  afghanistan             AFG  1951        5.0  Royal dictatorship   \n",
       "afghanistan  afghanistan             AFG  1952        5.0  Royal dictatorship   \n",
       "afghanistan  afghanistan             AFG  1953        5.0  Royal dictatorship   \n",
       "afghanistan  afghanistan             AFG  1954        5.0  Royal dictatorship   \n",
       "\n",
       "             Unnamed: 5  Monarchy  Commonwealth         Monarch name  \\\n",
       "country                                                                \n",
       "afghanistan         NaN       1.0           0.0  Mohammed Zahir Shah   \n",
       "afghanistan         NaN       1.0           0.0  Mohammed Zahir Shah   \n",
       "afghanistan         NaN       1.0           0.0  Mohammed Zahir Shah   \n",
       "afghanistan         NaN       1.0           0.0  Mohammed Zahir Shah   \n",
       "afghanistan         NaN       1.0           0.0  Mohammed Zahir Shah   \n",
       "\n",
       "             Monarch accession  ...  spatial electoral  Unnamed: 42  \\\n",
       "country                         ...                                   \n",
       "afghanistan             1933.0  ...                1,5          NaN   \n",
       "afghanistan             1933.0  ...                1,5          NaN   \n",
       "afghanistan             1933.0  ...               1,75          NaN   \n",
       "afghanistan             1933.0  ...               1,75          NaN   \n",
       "afghanistan             1933.0  ...               1,75          NaN   \n",
       "\n",
       "             alternation  multiparty free and fair election  Unnamed: 46  \\\n",
       "country                                                                    \n",
       "afghanistan          0.0         1.0                    0.0          NaN   \n",
       "afghanistan          0.0         1.0                    0.0          NaN   \n",
       "afghanistan          0.0         1.0                    0.0          NaN   \n",
       "afghanistan          0.0         1.0                    0.0          NaN   \n",
       "afghanistan          0.0         1.0                    0.0          NaN   \n",
       "\n",
       "             parliamentary election year  election month, year  \\\n",
       "country                                                          \n",
       "afghanistan                          0.0                   NaN   \n",
       "afghanistan                          0.0                   NaN   \n",
       "afghanistan                          1.0         February 1952   \n",
       "afghanistan                          0.0                   NaN   \n",
       "afghanistan                          0.0                   NaN   \n",
       "\n",
       "             postponed election  Unnamed: 50  \n",
       "country                                       \n",
       "afghanistan                 0.0          NaN  \n",
       "afghanistan                 0.0          NaN  \n",
       "afghanistan                 0.0          NaN  \n",
       "afghanistan                 0.0          NaN  \n",
       "afghanistan                 0.0          NaN  \n",
       "\n",
       "[5 rows x 51 columns]"
      ],
      "text/html": "<div>\n<style scoped>\n    .dataframe tbody tr th:only-of-type {\n        vertical-align: middle;\n    }\n\n    .dataframe tbody tr th {\n        vertical-align: top;\n    }\n\n    .dataframe thead th {\n        text-align: right;\n    }\n</style>\n<table border=\"1\" class=\"dataframe\">\n  <thead>\n    <tr style=\"text-align: right;\">\n      <th></th>\n      <th>country</th>\n      <th>country isocode</th>\n      <th>year</th>\n      <th>DD regime</th>\n      <th>DD category</th>\n      <th>Unnamed: 5</th>\n      <th>Monarchy</th>\n      <th>Commonwealth</th>\n      <th>Monarch name</th>\n      <th>Monarch accession</th>\n      <th>...</th>\n      <th>spatial electoral</th>\n      <th>Unnamed: 42</th>\n      <th>alternation</th>\n      <th>multiparty</th>\n      <th>free and fair election</th>\n      <th>Unnamed: 46</th>\n      <th>parliamentary election year</th>\n      <th>election month, year</th>\n      <th>postponed election</th>\n      <th>Unnamed: 50</th>\n    </tr>\n    <tr>\n      <th>country</th>\n      <th></th>\n      <th></th>\n      <th></th>\n      <th></th>\n      <th></th>\n      <th></th>\n      <th></th>\n      <th></th>\n      <th></th>\n      <th></th>\n      <th></th>\n      <th></th>\n      <th></th>\n      <th></th>\n      <th></th>\n      <th></th>\n      <th></th>\n      <th></th>\n      <th></th>\n      <th></th>\n      <th></th>\n    </tr>\n  </thead>\n  <tbody>\n    <tr>\n      <th>afghanistan</th>\n      <td>afghanistan</td>\n      <td>AFG</td>\n      <td>1950</td>\n      <td>5.0</td>\n      <td>Royal dictatorship</td>\n      <td>NaN</td>\n      <td>1.0</td>\n      <td>0.0</td>\n      <td>Mohammed Zahir Shah</td>\n      <td>1933.0</td>\n      <td>...</td>\n      <td>1,5</td>\n      <td>NaN</td>\n      <td>0.0</td>\n      <td>1.0</td>\n      <td>0.0</td>\n      <td>NaN</td>\n      <td>0.0</td>\n      <td>NaN</td>\n      <td>0.0</td>\n      <td>NaN</td>\n    </tr>\n    <tr>\n      <th>afghanistan</th>\n      <td>afghanistan</td>\n      <td>AFG</td>\n      <td>1951</td>\n      <td>5.0</td>\n      <td>Royal dictatorship</td>\n      <td>NaN</td>\n      <td>1.0</td>\n      <td>0.0</td>\n      <td>Mohammed Zahir Shah</td>\n      <td>1933.0</td>\n      <td>...</td>\n      <td>1,5</td>\n      <td>NaN</td>\n      <td>0.0</td>\n      <td>1.0</td>\n      <td>0.0</td>\n      <td>NaN</td>\n      <td>0.0</td>\n      <td>NaN</td>\n      <td>0.0</td>\n      <td>NaN</td>\n    </tr>\n    <tr>\n      <th>afghanistan</th>\n      <td>afghanistan</td>\n      <td>AFG</td>\n      <td>1952</td>\n      <td>5.0</td>\n      <td>Royal dictatorship</td>\n      <td>NaN</td>\n      <td>1.0</td>\n      <td>0.0</td>\n      <td>Mohammed Zahir Shah</td>\n      <td>1933.0</td>\n      <td>...</td>\n      <td>1,75</td>\n      <td>NaN</td>\n      <td>0.0</td>\n      <td>1.0</td>\n      <td>0.0</td>\n      <td>NaN</td>\n      <td>1.0</td>\n      <td>February 1952</td>\n      <td>0.0</td>\n      <td>NaN</td>\n    </tr>\n    <tr>\n      <th>afghanistan</th>\n      <td>afghanistan</td>\n      <td>AFG</td>\n      <td>1953</td>\n      <td>5.0</td>\n      <td>Royal dictatorship</td>\n      <td>NaN</td>\n      <td>1.0</td>\n      <td>0.0</td>\n      <td>Mohammed Zahir Shah</td>\n      <td>1933.0</td>\n      <td>...</td>\n      <td>1,75</td>\n      <td>NaN</td>\n      <td>0.0</td>\n      <td>1.0</td>\n      <td>0.0</td>\n      <td>NaN</td>\n      <td>0.0</td>\n      <td>NaN</td>\n      <td>0.0</td>\n      <td>NaN</td>\n    </tr>\n    <tr>\n      <th>afghanistan</th>\n      <td>afghanistan</td>\n      <td>AFG</td>\n      <td>1954</td>\n      <td>5.0</td>\n      <td>Royal dictatorship</td>\n      <td>NaN</td>\n      <td>1.0</td>\n      <td>0.0</td>\n      <td>Mohammed Zahir Shah</td>\n      <td>1933.0</td>\n      <td>...</td>\n      <td>1,75</td>\n      <td>NaN</td>\n      <td>0.0</td>\n      <td>1.0</td>\n      <td>0.0</td>\n      <td>NaN</td>\n      <td>0.0</td>\n      <td>NaN</td>\n      <td>0.0</td>\n      <td>NaN</td>\n    </tr>\n  </tbody>\n</table>\n<p>5 rows × 51 columns</p>\n</div>"
     },
     "metadata": {},
     "execution_count": 19
    }
   ],
   "source": [
    "bjorskov_integrated.head()"
   ]
  },
  {
   "cell_type": "code",
   "execution_count": 20,
   "metadata": {},
   "outputs": [],
   "source": [
    "bjorskov_integrated_coups = c_names_as_index(pd.read_csv('./raw_data/Bjørnskov-Rode-integrated-dataset-v3.2_coups.csv', sep=';'), 'country')"
   ]
  },
  {
   "cell_type": "code",
   "execution_count": 21,
   "metadata": {},
   "outputs": [
    {
     "output_type": "execute_result",
     "data": {
      "text/plain": [
       "                 country country isocode  year  DD regime         DD category  \\\n",
       "country                                                                         \n",
       "afghanistan  afghanistan             AFG  1950        5.0  Royal dictatorship   \n",
       "afghanistan  afghanistan             AFG  1951        5.0  Royal dictatorship   \n",
       "afghanistan  afghanistan             AFG  1952        5.0  Royal dictatorship   \n",
       "afghanistan  afghanistan             AFG  1953        5.0  Royal dictatorship   \n",
       "afghanistan  afghanistan             AFG  1954        5.0  Royal dictatorship   \n",
       "\n",
       "             Unnamed: 5  Failed coups  Successful coups  All coups  \\\n",
       "country                                                              \n",
       "afghanistan         NaN           0.0               0.0        0.0   \n",
       "afghanistan         NaN           0.0               0.0        0.0   \n",
       "afghanistan         NaN           0.0               0.0        0.0   \n",
       "afghanistan         NaN           0.0               0.0        0.0   \n",
       "afghanistan         NaN           0.0               0.0        0.0   \n",
       "\n",
       "             First coup  ...  month.2  Type.2 Third coup success  \\\n",
       "country                  ...                                       \n",
       "afghanistan         0.0  ...      NaN     NaN                NaN   \n",
       "afghanistan         0.0  ...      NaN     NaN                NaN   \n",
       "afghanistan         0.0  ...      NaN     NaN                NaN   \n",
       "afghanistan         0.0  ...      NaN     NaN                NaN   \n",
       "afghanistan         0.0  ...      NaN     NaN                NaN   \n",
       "\n",
       "             Category type third coup  Coup leaders.2 Age of leaders.1  \\\n",
       "country                                                                  \n",
       "afghanistan                       0.0             NaN              NaN   \n",
       "afghanistan                       0.0             NaN              NaN   \n",
       "afghanistan                       0.0             NaN              NaN   \n",
       "afghanistan                       0.0             NaN              NaN   \n",
       "afghanistan                       0.0             NaN              NaN   \n",
       "\n",
       "             Military Rank (Nato code).2 Militaryrankindex.2  \\\n",
       "country                                                        \n",
       "afghanistan                          NaN                 NaN   \n",
       "afghanistan                          NaN                 NaN   \n",
       "afghanistan                          NaN                 NaN   \n",
       "afghanistan                          NaN                 NaN   \n",
       "afghanistan                          NaN                 NaN   \n",
       "\n",
       "             Civilrankindex.2  spatial total coups  \n",
       "country                                             \n",
       "afghanistan               NaN                    0  \n",
       "afghanistan               NaN                 0,25  \n",
       "afghanistan               NaN                    0  \n",
       "afghanistan               NaN                    0  \n",
       "afghanistan               NaN                 0,25  \n",
       "\n",
       "[5 rows x 43 columns]"
      ],
      "text/html": "<div>\n<style scoped>\n    .dataframe tbody tr th:only-of-type {\n        vertical-align: middle;\n    }\n\n    .dataframe tbody tr th {\n        vertical-align: top;\n    }\n\n    .dataframe thead th {\n        text-align: right;\n    }\n</style>\n<table border=\"1\" class=\"dataframe\">\n  <thead>\n    <tr style=\"text-align: right;\">\n      <th></th>\n      <th>country</th>\n      <th>country isocode</th>\n      <th>year</th>\n      <th>DD regime</th>\n      <th>DD category</th>\n      <th>Unnamed: 5</th>\n      <th>Failed coups</th>\n      <th>Successful coups</th>\n      <th>All coups</th>\n      <th>First coup</th>\n      <th>...</th>\n      <th>month.2</th>\n      <th>Type.2</th>\n      <th>Third coup success</th>\n      <th>Category type third coup</th>\n      <th>Coup leaders.2</th>\n      <th>Age of leaders.1</th>\n      <th>Military Rank (Nato code).2</th>\n      <th>Militaryrankindex.2</th>\n      <th>Civilrankindex.2</th>\n      <th>spatial total coups</th>\n    </tr>\n    <tr>\n      <th>country</th>\n      <th></th>\n      <th></th>\n      <th></th>\n      <th></th>\n      <th></th>\n      <th></th>\n      <th></th>\n      <th></th>\n      <th></th>\n      <th></th>\n      <th></th>\n      <th></th>\n      <th></th>\n      <th></th>\n      <th></th>\n      <th></th>\n      <th></th>\n      <th></th>\n      <th></th>\n      <th></th>\n      <th></th>\n    </tr>\n  </thead>\n  <tbody>\n    <tr>\n      <th>afghanistan</th>\n      <td>afghanistan</td>\n      <td>AFG</td>\n      <td>1950</td>\n      <td>5.0</td>\n      <td>Royal dictatorship</td>\n      <td>NaN</td>\n      <td>0.0</td>\n      <td>0.0</td>\n      <td>0.0</td>\n      <td>0.0</td>\n      <td>...</td>\n      <td>NaN</td>\n      <td>NaN</td>\n      <td>NaN</td>\n      <td>0.0</td>\n      <td>NaN</td>\n      <td>NaN</td>\n      <td>NaN</td>\n      <td>NaN</td>\n      <td>NaN</td>\n      <td>0</td>\n    </tr>\n    <tr>\n      <th>afghanistan</th>\n      <td>afghanistan</td>\n      <td>AFG</td>\n      <td>1951</td>\n      <td>5.0</td>\n      <td>Royal dictatorship</td>\n      <td>NaN</td>\n      <td>0.0</td>\n      <td>0.0</td>\n      <td>0.0</td>\n      <td>0.0</td>\n      <td>...</td>\n      <td>NaN</td>\n      <td>NaN</td>\n      <td>NaN</td>\n      <td>0.0</td>\n      <td>NaN</td>\n      <td>NaN</td>\n      <td>NaN</td>\n      <td>NaN</td>\n      <td>NaN</td>\n      <td>0,25</td>\n    </tr>\n    <tr>\n      <th>afghanistan</th>\n      <td>afghanistan</td>\n      <td>AFG</td>\n      <td>1952</td>\n      <td>5.0</td>\n      <td>Royal dictatorship</td>\n      <td>NaN</td>\n      <td>0.0</td>\n      <td>0.0</td>\n      <td>0.0</td>\n      <td>0.0</td>\n      <td>...</td>\n      <td>NaN</td>\n      <td>NaN</td>\n      <td>NaN</td>\n      <td>0.0</td>\n      <td>NaN</td>\n      <td>NaN</td>\n      <td>NaN</td>\n      <td>NaN</td>\n      <td>NaN</td>\n      <td>0</td>\n    </tr>\n    <tr>\n      <th>afghanistan</th>\n      <td>afghanistan</td>\n      <td>AFG</td>\n      <td>1953</td>\n      <td>5.0</td>\n      <td>Royal dictatorship</td>\n      <td>NaN</td>\n      <td>0.0</td>\n      <td>0.0</td>\n      <td>0.0</td>\n      <td>0.0</td>\n      <td>...</td>\n      <td>NaN</td>\n      <td>NaN</td>\n      <td>NaN</td>\n      <td>0.0</td>\n      <td>NaN</td>\n      <td>NaN</td>\n      <td>NaN</td>\n      <td>NaN</td>\n      <td>NaN</td>\n      <td>0</td>\n    </tr>\n    <tr>\n      <th>afghanistan</th>\n      <td>afghanistan</td>\n      <td>AFG</td>\n      <td>1954</td>\n      <td>5.0</td>\n      <td>Royal dictatorship</td>\n      <td>NaN</td>\n      <td>0.0</td>\n      <td>0.0</td>\n      <td>0.0</td>\n      <td>0.0</td>\n      <td>...</td>\n      <td>NaN</td>\n      <td>NaN</td>\n      <td>NaN</td>\n      <td>0.0</td>\n      <td>NaN</td>\n      <td>NaN</td>\n      <td>NaN</td>\n      <td>NaN</td>\n      <td>NaN</td>\n      <td>0,25</td>\n    </tr>\n  </tbody>\n</table>\n<p>5 rows × 43 columns</p>\n</div>"
     },
     "metadata": {},
     "execution_count": 21
    }
   ],
   "source": [
    "bjorskov_integrated_coups.head()"
   ]
  },
  {
   "cell_type": "code",
   "execution_count": 22,
   "metadata": {},
   "outputs": [],
   "source": [
    "bjorskov_integrated_colonial_institutions = c_names_as_index(pd.read_csv('./raw_data/Bjørnskov-Rode-integrated-dataset-v3.2_colonial_institutions.csv', sep=';'), 'country')"
   ]
  },
  {
   "cell_type": "code",
   "execution_count": 23,
   "metadata": {},
   "outputs": [
    {
     "output_type": "execute_result",
     "data": {
      "text/plain": [
       "                 country country isocode  year  DD regime         DD category  \\\n",
       "country                                                                         \n",
       "afghanistan  afghanistan             AFG  1950        5.0  Royal dictatorship   \n",
       "afghanistan  afghanistan             AFG  1951        5.0  Royal dictatorship   \n",
       "afghanistan  afghanistan             AFG  1952        5.0  Royal dictatorship   \n",
       "afghanistan  afghanistan             AFG  1953        5.0  Royal dictatorship   \n",
       "afghanistan  afghanistan             AFG  1954        5.0  Royal dictatorship   \n",
       "\n",
       "             Democracy  Presidential  countrycode  \\\n",
       "country                                             \n",
       "afghanistan        0.0           0.0          1.0   \n",
       "afghanistan        0.0           0.0          1.0   \n",
       "afghanistan        0.0           0.0          1.0   \n",
       "afghanistan        0.0           0.0          1.0   \n",
       "afghanistan        0.0           0.0          1.0   \n",
       "\n",
       "             No. of chambers in parliament  proportional voting  ...  \\\n",
       "country                                                          ...   \n",
       "afghanistan                            2.0                  0.0  ...   \n",
       "afghanistan                            2.0                  0.0  ...   \n",
       "afghanistan                            2.0                  0.0  ...   \n",
       "afghanistan                            2.0                  0.0  ...   \n",
       "afghanistan                            2.0                  NaN  ...   \n",
       "\n",
       "            No. of members in upper house  No. of members in third house  \\\n",
       "country                                                                    \n",
       "afghanistan                           NaN                            NaN   \n",
       "afghanistan                           NaN                            NaN   \n",
       "afghanistan                           NaN                            NaN   \n",
       "afghanistan                           NaN                            NaN   \n",
       "afghanistan                           NaN                            NaN   \n",
       "\n",
       "            New constitution  fullsuffrage  Suffrage restriction  electoral  \\\n",
       "country                                                                       \n",
       "afghanistan              0.0           0.0        Male vote only        2.0   \n",
       "afghanistan              0.0           0.0        Male vote only        2.0   \n",
       "afghanistan              0.0           0.0        Male vote only        2.0   \n",
       "afghanistan              0.0           0.0        Male vote only        2.0   \n",
       "afghanistan              0.0           0.0        Male vote only        2.0   \n",
       "\n",
       "            Details  Unnamed: 19 Unnamed: 20 Self-governing  \n",
       "country                                                      \n",
       "afghanistan     NaN          NaN         NaN            NaN  \n",
       "afghanistan     NaN          NaN         NaN            NaN  \n",
       "afghanistan     NaN          NaN         NaN            NaN  \n",
       "afghanistan     NaN          NaN         NaN            NaN  \n",
       "afghanistan     NaN          NaN         NaN            NaN  \n",
       "\n",
       "[5 rows x 22 columns]"
      ],
      "text/html": "<div>\n<style scoped>\n    .dataframe tbody tr th:only-of-type {\n        vertical-align: middle;\n    }\n\n    .dataframe tbody tr th {\n        vertical-align: top;\n    }\n\n    .dataframe thead th {\n        text-align: right;\n    }\n</style>\n<table border=\"1\" class=\"dataframe\">\n  <thead>\n    <tr style=\"text-align: right;\">\n      <th></th>\n      <th>country</th>\n      <th>country isocode</th>\n      <th>year</th>\n      <th>DD regime</th>\n      <th>DD category</th>\n      <th>Democracy</th>\n      <th>Presidential</th>\n      <th>countrycode</th>\n      <th>No. of chambers in parliament</th>\n      <th>proportional voting</th>\n      <th>...</th>\n      <th>No. of members in upper house</th>\n      <th>No. of members in third house</th>\n      <th>New constitution</th>\n      <th>fullsuffrage</th>\n      <th>Suffrage restriction</th>\n      <th>electoral</th>\n      <th>Details</th>\n      <th>Unnamed: 19</th>\n      <th>Unnamed: 20</th>\n      <th>Self-governing</th>\n    </tr>\n    <tr>\n      <th>country</th>\n      <th></th>\n      <th></th>\n      <th></th>\n      <th></th>\n      <th></th>\n      <th></th>\n      <th></th>\n      <th></th>\n      <th></th>\n      <th></th>\n      <th></th>\n      <th></th>\n      <th></th>\n      <th></th>\n      <th></th>\n      <th></th>\n      <th></th>\n      <th></th>\n      <th></th>\n      <th></th>\n      <th></th>\n    </tr>\n  </thead>\n  <tbody>\n    <tr>\n      <th>afghanistan</th>\n      <td>afghanistan</td>\n      <td>AFG</td>\n      <td>1950</td>\n      <td>5.0</td>\n      <td>Royal dictatorship</td>\n      <td>0.0</td>\n      <td>0.0</td>\n      <td>1.0</td>\n      <td>2.0</td>\n      <td>0.0</td>\n      <td>...</td>\n      <td>NaN</td>\n      <td>NaN</td>\n      <td>0.0</td>\n      <td>0.0</td>\n      <td>Male vote only</td>\n      <td>2.0</td>\n      <td>NaN</td>\n      <td>NaN</td>\n      <td>NaN</td>\n      <td>NaN</td>\n    </tr>\n    <tr>\n      <th>afghanistan</th>\n      <td>afghanistan</td>\n      <td>AFG</td>\n      <td>1951</td>\n      <td>5.0</td>\n      <td>Royal dictatorship</td>\n      <td>0.0</td>\n      <td>0.0</td>\n      <td>1.0</td>\n      <td>2.0</td>\n      <td>0.0</td>\n      <td>...</td>\n      <td>NaN</td>\n      <td>NaN</td>\n      <td>0.0</td>\n      <td>0.0</td>\n      <td>Male vote only</td>\n      <td>2.0</td>\n      <td>NaN</td>\n      <td>NaN</td>\n      <td>NaN</td>\n      <td>NaN</td>\n    </tr>\n    <tr>\n      <th>afghanistan</th>\n      <td>afghanistan</td>\n      <td>AFG</td>\n      <td>1952</td>\n      <td>5.0</td>\n      <td>Royal dictatorship</td>\n      <td>0.0</td>\n      <td>0.0</td>\n      <td>1.0</td>\n      <td>2.0</td>\n      <td>0.0</td>\n      <td>...</td>\n      <td>NaN</td>\n      <td>NaN</td>\n      <td>0.0</td>\n      <td>0.0</td>\n      <td>Male vote only</td>\n      <td>2.0</td>\n      <td>NaN</td>\n      <td>NaN</td>\n      <td>NaN</td>\n      <td>NaN</td>\n    </tr>\n    <tr>\n      <th>afghanistan</th>\n      <td>afghanistan</td>\n      <td>AFG</td>\n      <td>1953</td>\n      <td>5.0</td>\n      <td>Royal dictatorship</td>\n      <td>0.0</td>\n      <td>0.0</td>\n      <td>1.0</td>\n      <td>2.0</td>\n      <td>0.0</td>\n      <td>...</td>\n      <td>NaN</td>\n      <td>NaN</td>\n      <td>0.0</td>\n      <td>0.0</td>\n      <td>Male vote only</td>\n      <td>2.0</td>\n      <td>NaN</td>\n      <td>NaN</td>\n      <td>NaN</td>\n      <td>NaN</td>\n    </tr>\n    <tr>\n      <th>afghanistan</th>\n      <td>afghanistan</td>\n      <td>AFG</td>\n      <td>1954</td>\n      <td>5.0</td>\n      <td>Royal dictatorship</td>\n      <td>0.0</td>\n      <td>0.0</td>\n      <td>1.0</td>\n      <td>2.0</td>\n      <td>NaN</td>\n      <td>...</td>\n      <td>NaN</td>\n      <td>NaN</td>\n      <td>0.0</td>\n      <td>0.0</td>\n      <td>Male vote only</td>\n      <td>2.0</td>\n      <td>NaN</td>\n      <td>NaN</td>\n      <td>NaN</td>\n      <td>NaN</td>\n    </tr>\n  </tbody>\n</table>\n<p>5 rows × 22 columns</p>\n</div>"
     },
     "metadata": {},
     "execution_count": 23
    }
   ],
   "source": [
    "bjorskov_integrated_colonial_institutions.head()"
   ]
  },
  {
   "cell_type": "code",
   "execution_count": 24,
   "metadata": {},
   "outputs": [],
   "source": [
    "OECD_union = c_names_as_index(pd.read_csv('./raw_data/TUD_21032021172006040.csv', sep=','), 'Country')"
   ]
  },
  {
   "cell_type": "code",
   "execution_count": 25,
   "metadata": {},
   "outputs": [
    {
     "output_type": "execute_result",
     "data": {
      "text/plain": [
       "         COU  country SOURCE               Source SERIES     Series  TIME  \\\n",
       "Country                                                                     \n",
       "hungary  HUN  hungary    ADM  Administrative data    EEM  Employees  1998   \n",
       "hungary  HUN  hungary    ADM  Administrative data    EEM  Employees  2000   \n",
       "hungary  HUN  hungary    ADM  Administrative data    EEM  Employees  2001   \n",
       "hungary  HUN  hungary    ADM  Administrative data    EEM  Employees  2003   \n",
       "hungary  HUN  hungary    ADM  Administrative data    EEM  Employees  2005   \n",
       "\n",
       "         Year Unit Code    Unit  PowerCode Code  PowerCode  \\\n",
       "Country                                                      \n",
       "hungary  1998       NBR  Number               3  Thousands   \n",
       "hungary  2000       NBR  Number               3  Thousands   \n",
       "hungary  2001       NBR  Number               3  Thousands   \n",
       "hungary  2003       NBR  Number               3  Thousands   \n",
       "hungary  2005       NBR  Number               3  Thousands   \n",
       "\n",
       "         Reference Period Code  Reference Period   Value Flag Codes Flags  \n",
       "Country                                                                    \n",
       "hungary                    NaN               NaN  3088.0        NaN   NaN  \n",
       "hungary                    NaN               NaN  3256.0        NaN   NaN  \n",
       "hungary                    NaN               NaN  3314.0        NaN   NaN  \n",
       "hungary                    NaN               NaN  3399.0        NaN   NaN  \n",
       "hungary                    NaN               NaN  3367.0        NaN   NaN  "
      ],
      "text/html": "<div>\n<style scoped>\n    .dataframe tbody tr th:only-of-type {\n        vertical-align: middle;\n    }\n\n    .dataframe tbody tr th {\n        vertical-align: top;\n    }\n\n    .dataframe thead th {\n        text-align: right;\n    }\n</style>\n<table border=\"1\" class=\"dataframe\">\n  <thead>\n    <tr style=\"text-align: right;\">\n      <th></th>\n      <th>COU</th>\n      <th>country</th>\n      <th>SOURCE</th>\n      <th>Source</th>\n      <th>SERIES</th>\n      <th>Series</th>\n      <th>TIME</th>\n      <th>Year</th>\n      <th>Unit Code</th>\n      <th>Unit</th>\n      <th>PowerCode Code</th>\n      <th>PowerCode</th>\n      <th>Reference Period Code</th>\n      <th>Reference Period</th>\n      <th>Value</th>\n      <th>Flag Codes</th>\n      <th>Flags</th>\n    </tr>\n    <tr>\n      <th>Country</th>\n      <th></th>\n      <th></th>\n      <th></th>\n      <th></th>\n      <th></th>\n      <th></th>\n      <th></th>\n      <th></th>\n      <th></th>\n      <th></th>\n      <th></th>\n      <th></th>\n      <th></th>\n      <th></th>\n      <th></th>\n      <th></th>\n      <th></th>\n    </tr>\n  </thead>\n  <tbody>\n    <tr>\n      <th>hungary</th>\n      <td>HUN</td>\n      <td>hungary</td>\n      <td>ADM</td>\n      <td>Administrative data</td>\n      <td>EEM</td>\n      <td>Employees</td>\n      <td>1998</td>\n      <td>1998</td>\n      <td>NBR</td>\n      <td>Number</td>\n      <td>3</td>\n      <td>Thousands</td>\n      <td>NaN</td>\n      <td>NaN</td>\n      <td>3088.0</td>\n      <td>NaN</td>\n      <td>NaN</td>\n    </tr>\n    <tr>\n      <th>hungary</th>\n      <td>HUN</td>\n      <td>hungary</td>\n      <td>ADM</td>\n      <td>Administrative data</td>\n      <td>EEM</td>\n      <td>Employees</td>\n      <td>2000</td>\n      <td>2000</td>\n      <td>NBR</td>\n      <td>Number</td>\n      <td>3</td>\n      <td>Thousands</td>\n      <td>NaN</td>\n      <td>NaN</td>\n      <td>3256.0</td>\n      <td>NaN</td>\n      <td>NaN</td>\n    </tr>\n    <tr>\n      <th>hungary</th>\n      <td>HUN</td>\n      <td>hungary</td>\n      <td>ADM</td>\n      <td>Administrative data</td>\n      <td>EEM</td>\n      <td>Employees</td>\n      <td>2001</td>\n      <td>2001</td>\n      <td>NBR</td>\n      <td>Number</td>\n      <td>3</td>\n      <td>Thousands</td>\n      <td>NaN</td>\n      <td>NaN</td>\n      <td>3314.0</td>\n      <td>NaN</td>\n      <td>NaN</td>\n    </tr>\n    <tr>\n      <th>hungary</th>\n      <td>HUN</td>\n      <td>hungary</td>\n      <td>ADM</td>\n      <td>Administrative data</td>\n      <td>EEM</td>\n      <td>Employees</td>\n      <td>2003</td>\n      <td>2003</td>\n      <td>NBR</td>\n      <td>Number</td>\n      <td>3</td>\n      <td>Thousands</td>\n      <td>NaN</td>\n      <td>NaN</td>\n      <td>3399.0</td>\n      <td>NaN</td>\n      <td>NaN</td>\n    </tr>\n    <tr>\n      <th>hungary</th>\n      <td>HUN</td>\n      <td>hungary</td>\n      <td>ADM</td>\n      <td>Administrative data</td>\n      <td>EEM</td>\n      <td>Employees</td>\n      <td>2005</td>\n      <td>2005</td>\n      <td>NBR</td>\n      <td>Number</td>\n      <td>3</td>\n      <td>Thousands</td>\n      <td>NaN</td>\n      <td>NaN</td>\n      <td>3367.0</td>\n      <td>NaN</td>\n      <td>NaN</td>\n    </tr>\n  </tbody>\n</table>\n</div>"
     },
     "metadata": {},
     "execution_count": 25
    }
   ],
   "source": [
    "OECD_union.head()"
   ]
  },
  {
   "cell_type": "code",
   "execution_count": 28,
   "metadata": {},
   "outputs": [],
   "source": [
    "WB_civil_soc_participation = c_names_as_index(pd.read_csv('./raw_data/worldbank_civil_society_participation.csv', sep=','), 'Country Name')"
   ]
  },
  {
   "cell_type": "code",
   "execution_count": 29,
   "metadata": {},
   "outputs": [
    {
     "output_type": "execute_result",
     "data": {
      "text/plain": [
       "             Country ISO3      country  Indicator Id  \\\n",
       "Country Name                                           \n",
       "afghanistan           AFG  afghanistan         28736   \n",
       "afghanistan           AFG  afghanistan         28737   \n",
       "afghanistan           AFG  afghanistan         28738   \n",
       "afghanistan           AFG  afghanistan         28739   \n",
       "afghanistan           AFG  afghanistan         28740   \n",
       "\n",
       "                                 Indicator Subindicator Type  2006  2008  \\\n",
       "Country Name                                                               \n",
       "afghanistan          Anticorruption policy             Score   1.0   1.0   \n",
       "afghanistan                   Civil rights             Score   2.0   3.0   \n",
       "afghanistan    Civil society participation             Score   4.0   4.0   \n",
       "afghanistan       Civil society traditions             Score  10.0  10.0   \n",
       "afghanistan   Cleavage conflict management             Score   4.0   4.0   \n",
       "\n",
       "              2010  2012  2014  2016  2018  \n",
       "Country Name                                \n",
       "afghanistan    1.0   1.0   1.0   3.0   2.0  \n",
       "afghanistan    2.0   2.0   2.0   2.0   2.0  \n",
       "afghanistan    3.0   3.0   3.0   4.0   4.0  \n",
       "afghanistan   10.0  10.0  10.0  10.0  10.0  \n",
       "afghanistan    4.0   4.0   4.0   4.0   4.0  "
      ],
      "text/html": "<div>\n<style scoped>\n    .dataframe tbody tr th:only-of-type {\n        vertical-align: middle;\n    }\n\n    .dataframe tbody tr th {\n        vertical-align: top;\n    }\n\n    .dataframe thead th {\n        text-align: right;\n    }\n</style>\n<table border=\"1\" class=\"dataframe\">\n  <thead>\n    <tr style=\"text-align: right;\">\n      <th></th>\n      <th>Country ISO3</th>\n      <th>country</th>\n      <th>Indicator Id</th>\n      <th>Indicator</th>\n      <th>Subindicator Type</th>\n      <th>2006</th>\n      <th>2008</th>\n      <th>2010</th>\n      <th>2012</th>\n      <th>2014</th>\n      <th>2016</th>\n      <th>2018</th>\n    </tr>\n    <tr>\n      <th>Country Name</th>\n      <th></th>\n      <th></th>\n      <th></th>\n      <th></th>\n      <th></th>\n      <th></th>\n      <th></th>\n      <th></th>\n      <th></th>\n      <th></th>\n      <th></th>\n      <th></th>\n    </tr>\n  </thead>\n  <tbody>\n    <tr>\n      <th>afghanistan</th>\n      <td>AFG</td>\n      <td>afghanistan</td>\n      <td>28736</td>\n      <td>Anticorruption policy</td>\n      <td>Score</td>\n      <td>1.0</td>\n      <td>1.0</td>\n      <td>1.0</td>\n      <td>1.0</td>\n      <td>1.0</td>\n      <td>3.0</td>\n      <td>2.0</td>\n    </tr>\n    <tr>\n      <th>afghanistan</th>\n      <td>AFG</td>\n      <td>afghanistan</td>\n      <td>28737</td>\n      <td>Civil rights</td>\n      <td>Score</td>\n      <td>2.0</td>\n      <td>3.0</td>\n      <td>2.0</td>\n      <td>2.0</td>\n      <td>2.0</td>\n      <td>2.0</td>\n      <td>2.0</td>\n    </tr>\n    <tr>\n      <th>afghanistan</th>\n      <td>AFG</td>\n      <td>afghanistan</td>\n      <td>28738</td>\n      <td>Civil society participation</td>\n      <td>Score</td>\n      <td>4.0</td>\n      <td>4.0</td>\n      <td>3.0</td>\n      <td>3.0</td>\n      <td>3.0</td>\n      <td>4.0</td>\n      <td>4.0</td>\n    </tr>\n    <tr>\n      <th>afghanistan</th>\n      <td>AFG</td>\n      <td>afghanistan</td>\n      <td>28739</td>\n      <td>Civil society traditions</td>\n      <td>Score</td>\n      <td>10.0</td>\n      <td>10.0</td>\n      <td>10.0</td>\n      <td>10.0</td>\n      <td>10.0</td>\n      <td>10.0</td>\n      <td>10.0</td>\n    </tr>\n    <tr>\n      <th>afghanistan</th>\n      <td>AFG</td>\n      <td>afghanistan</td>\n      <td>28740</td>\n      <td>Cleavage conflict management</td>\n      <td>Score</td>\n      <td>4.0</td>\n      <td>4.0</td>\n      <td>4.0</td>\n      <td>4.0</td>\n      <td>4.0</td>\n      <td>4.0</td>\n      <td>4.0</td>\n    </tr>\n  </tbody>\n</table>\n</div>"
     },
     "metadata": {},
     "execution_count": 29
    }
   ],
   "source": [
    "WB_civil_soc_participation.head()"
   ]
  },
  {
   "cell_type": "code",
   "execution_count": 33,
   "metadata": {},
   "outputs": [],
   "source": [
    "all_df = pd.concat([\n",
    "    freedom_house13_21, \n",
    "    freedom_house73_21_ctr, \n",
    "    freedom_house_aggregate03_05, \n",
    "    freedom_house_aggregate06_21, \n",
    "    bjorskov_integrated, \n",
    "    bjorskov_integrated_coups, \n",
    "    bjorskov_integrated_colonial_institutions, \n",
    "    OECD_union, \n",
    "    WB_civil_soc_participation], \n",
    "    axis=0)"
   ]
  },
  {
   "cell_type": "code",
   "execution_count": 34,
   "metadata": {},
   "outputs": [],
   "source": [
    "all_df.to_csv('raw_data/master.csv')"
   ]
  },
  {
   "cell_type": "code",
   "execution_count": null,
   "metadata": {},
   "outputs": [],
   "source": []
  }
 ]
}