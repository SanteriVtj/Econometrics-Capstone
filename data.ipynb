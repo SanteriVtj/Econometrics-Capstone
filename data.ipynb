{
 "metadata": {
  "language_info": {
   "codemirror_mode": {
    "name": "ipython",
    "version": 3
   },
   "file_extension": ".py",
   "mimetype": "text/x-python",
   "name": "python",
   "nbconvert_exporter": "python",
   "pygments_lexer": "ipython3",
   "version": "3.8.5-final"
  },
  "orig_nbformat": 2,
  "kernelspec": {
   "name": "python385jvsc74a57bd0fac54e6b642c37966e43cdb643d32d1f4e4fa0317cda1cf8b922991f41f52fc4",
   "display_name": "Python 3.8.5 64-bit ('cap_venv')"
  }
 },
 "nbformat": 4,
 "nbformat_minor": 2,
 "cells": [
  {
   "cell_type": "code",
   "execution_count": 1,
   "metadata": {},
   "outputs": [],
   "source": [
    "import pandas as pd\n",
    "import numpy as np\n",
    "from functools import reduce\n",
    "import wbdata\n",
    "import matplotlib.pyplot as plt"
   ]
  },
  {
   "cell_type": "code",
   "execution_count": 2,
   "metadata": {},
   "outputs": [],
   "source": [
    "def c_names_as_index(df, cn):\n",
    "    df.index = df.loc[:, cn].apply(lambda x: x.lower())\n",
    "    df.drop([cn], axis=1, inplace=True)\n",
    "    return df"
   ]
  },
  {
   "cell_type": "code",
   "execution_count": 81,
   "metadata": {},
   "outputs": [],
   "source": [
    "rep_map = {\n",
    "    '2(5)': np.nan,\n",
    "    'nan': np.nan,\n",
    "    '3(6)': np.nan\n",
    "}"
   ]
  },
  {
   "cell_type": "code",
   "execution_count": 9,
   "metadata": {},
   "outputs": [],
   "source": [
    "freedom_house13_21 = c_names_as_index(pd.read_csv('./raw_data/All_data_FIW_2013-2021.csv', sep=';', skiprows=1), 'Country/Territory')"
   ]
  },
  {
   "cell_type": "code",
   "execution_count": 39,
   "metadata": {},
   "outputs": [
    {
     "output_type": "execute_result",
     "data": {
      "text/plain": [
       "                    Region C/T  Edition Status  PR rating  CL rating  A1  A2  \\\n",
       "Country/Territory                                                              \n",
       "abkhazia           Eurasia   t     2021     PF          5          5   2   2   \n",
       "afghanistan           Asia   c     2021     NF          5          6   1   1   \n",
       "albania             Europe   c     2021     PF          3          3   3   3   \n",
       "algeria               MENA   c     2021     NF          6          5   1   1   \n",
       "andorra             Europe   c     2021      F          1          1   4   4   \n",
       "\n",
       "                   A3   A  ...  F3  F4   F  G1  G2  G3  G4   G  CL  Total  \n",
       "Country/Territory          ...                                             \n",
       "abkhazia            1   5  ...   1   1   4   1   1   2   1   5  23     40  \n",
       "afghanistan         1   3  ...   0   1   2   0   1   0   1   2  14     27  \n",
       "albania             2   8  ...   2   3   9   3   2   2   2   9  39     66  \n",
       "algeria             1   3  ...   2   2   6   2   2   2   1   7  22     32  \n",
       "andorra             4  12  ...   4   3  15   4   4   3   4  15  55     93  \n",
       "\n",
       "[5 rows x 43 columns]"
      ],
      "text/html": "<div>\n<style scoped>\n    .dataframe tbody tr th:only-of-type {\n        vertical-align: middle;\n    }\n\n    .dataframe tbody tr th {\n        vertical-align: top;\n    }\n\n    .dataframe thead th {\n        text-align: right;\n    }\n</style>\n<table border=\"1\" class=\"dataframe\">\n  <thead>\n    <tr style=\"text-align: right;\">\n      <th></th>\n      <th>Region</th>\n      <th>C/T</th>\n      <th>Edition</th>\n      <th>Status</th>\n      <th>PR rating</th>\n      <th>CL rating</th>\n      <th>A1</th>\n      <th>A2</th>\n      <th>A3</th>\n      <th>A</th>\n      <th>...</th>\n      <th>F3</th>\n      <th>F4</th>\n      <th>F</th>\n      <th>G1</th>\n      <th>G2</th>\n      <th>G3</th>\n      <th>G4</th>\n      <th>G</th>\n      <th>CL</th>\n      <th>Total</th>\n    </tr>\n    <tr>\n      <th>Country/Territory</th>\n      <th></th>\n      <th></th>\n      <th></th>\n      <th></th>\n      <th></th>\n      <th></th>\n      <th></th>\n      <th></th>\n      <th></th>\n      <th></th>\n      <th></th>\n      <th></th>\n      <th></th>\n      <th></th>\n      <th></th>\n      <th></th>\n      <th></th>\n      <th></th>\n      <th></th>\n      <th></th>\n      <th></th>\n    </tr>\n  </thead>\n  <tbody>\n    <tr>\n      <th>abkhazia</th>\n      <td>Eurasia</td>\n      <td>t</td>\n      <td>2021</td>\n      <td>PF</td>\n      <td>5</td>\n      <td>5</td>\n      <td>2</td>\n      <td>2</td>\n      <td>1</td>\n      <td>5</td>\n      <td>...</td>\n      <td>1</td>\n      <td>1</td>\n      <td>4</td>\n      <td>1</td>\n      <td>1</td>\n      <td>2</td>\n      <td>1</td>\n      <td>5</td>\n      <td>23</td>\n      <td>40</td>\n    </tr>\n    <tr>\n      <th>afghanistan</th>\n      <td>Asia</td>\n      <td>c</td>\n      <td>2021</td>\n      <td>NF</td>\n      <td>5</td>\n      <td>6</td>\n      <td>1</td>\n      <td>1</td>\n      <td>1</td>\n      <td>3</td>\n      <td>...</td>\n      <td>0</td>\n      <td>1</td>\n      <td>2</td>\n      <td>0</td>\n      <td>1</td>\n      <td>0</td>\n      <td>1</td>\n      <td>2</td>\n      <td>14</td>\n      <td>27</td>\n    </tr>\n    <tr>\n      <th>albania</th>\n      <td>Europe</td>\n      <td>c</td>\n      <td>2021</td>\n      <td>PF</td>\n      <td>3</td>\n      <td>3</td>\n      <td>3</td>\n      <td>3</td>\n      <td>2</td>\n      <td>8</td>\n      <td>...</td>\n      <td>2</td>\n      <td>3</td>\n      <td>9</td>\n      <td>3</td>\n      <td>2</td>\n      <td>2</td>\n      <td>2</td>\n      <td>9</td>\n      <td>39</td>\n      <td>66</td>\n    </tr>\n    <tr>\n      <th>algeria</th>\n      <td>MENA</td>\n      <td>c</td>\n      <td>2021</td>\n      <td>NF</td>\n      <td>6</td>\n      <td>5</td>\n      <td>1</td>\n      <td>1</td>\n      <td>1</td>\n      <td>3</td>\n      <td>...</td>\n      <td>2</td>\n      <td>2</td>\n      <td>6</td>\n      <td>2</td>\n      <td>2</td>\n      <td>2</td>\n      <td>1</td>\n      <td>7</td>\n      <td>22</td>\n      <td>32</td>\n    </tr>\n    <tr>\n      <th>andorra</th>\n      <td>Europe</td>\n      <td>c</td>\n      <td>2021</td>\n      <td>F</td>\n      <td>1</td>\n      <td>1</td>\n      <td>4</td>\n      <td>4</td>\n      <td>4</td>\n      <td>12</td>\n      <td>...</td>\n      <td>4</td>\n      <td>3</td>\n      <td>15</td>\n      <td>4</td>\n      <td>4</td>\n      <td>3</td>\n      <td>4</td>\n      <td>15</td>\n      <td>55</td>\n      <td>93</td>\n    </tr>\n  </tbody>\n</table>\n<p>5 rows × 43 columns</p>\n</div>"
     },
     "metadata": {},
     "execution_count": 39
    }
   ],
   "source": [
    "freedom_house13_21.head()"
   ]
  },
  {
   "cell_type": "code",
   "execution_count": 27,
   "metadata": {},
   "outputs": [],
   "source": [
    "freedom_house73_21_ctr = pd.read_csv('./raw_data/Country_and_Territory_Ratings_and_Statuses_FIW1973-2021.csv', sep=';')"
   ]
  },
  {
   "cell_type": "code",
   "execution_count": 28,
   "metadata": {},
   "outputs": [],
   "source": [
    "freedom_house73_21_ctr.iloc[0,0] = np.nan\n",
    "freedom_house73_21_ctr.iloc[0].replace(np.nan, None, inplace=True)\n",
    "freedom_house73_21_ctr.columns = pd.MultiIndex.from_tuples(list(zip(freedom_house73_21_ctr.iloc[0], freedom_house73_21_ctr.iloc[1])))\n",
    "freedom_house73_21_ctr.drop([0,1], inplace=True)\n",
    "freedom_house73_21_ctr = freedom_house73_21_ctr[freedom_house73_21_ctr.iloc[:, 0].notna()]\n",
    "freedom_house73_21_ctr.index = freedom_house73_21_ctr.loc[:, freedom_house73_21_ctr.columns[0]].apply(lambda x: x.lower())\n",
    "freedom_house73_21_ctr.drop(freedom_house73_21_ctr.columns[0], axis=1, inplace=True)\n",
    "freedom_house73_21_ctr = freedom_house73_21_ctr.replace('-', np.nan)"
   ]
  },
  {
   "cell_type": "code",
   "execution_count": 29,
   "metadata": {
    "tags": []
   },
   "outputs": [
    {
     "output_type": "error",
     "ename": "KeyboardInterrupt",
     "evalue": "",
     "traceback": [
      "\u001b[0;31m---------------------------------------------------------------------------\u001b[0m",
      "\u001b[0;31mKeyboardInterrupt\u001b[0m                         Traceback (most recent call last)",
      "\u001b[0;32m<ipython-input-29-67a580d78156>\u001b[0m in \u001b[0;36m<module>\u001b[0;34m\u001b[0m\n\u001b[1;32m      3\u001b[0m \u001b[0;32mfor\u001b[0m \u001b[0mi\u001b[0m \u001b[0;32min\u001b[0m \u001b[0mfreedom_house73_21_ctr\u001b[0m\u001b[0;34m.\u001b[0m\u001b[0mindex\u001b[0m\u001b[0;34m:\u001b[0m\u001b[0;34m\u001b[0m\u001b[0;34m\u001b[0m\u001b[0m\n\u001b[1;32m      4\u001b[0m     \u001b[0;32mfor\u001b[0m \u001b[0mj\u001b[0m \u001b[0;32min\u001b[0m \u001b[0mfreedom_house73_21_ctr\u001b[0m\u001b[0;34m.\u001b[0m\u001b[0mcolumns\u001b[0m\u001b[0;34m.\u001b[0m\u001b[0mget_level_values\u001b[0m\u001b[0;34m(\u001b[0m\u001b[0;36m0\u001b[0m\u001b[0;34m)\u001b[0m\u001b[0;34m.\u001b[0m\u001b[0munique\u001b[0m\u001b[0;34m(\u001b[0m\u001b[0;34m)\u001b[0m\u001b[0;34m:\u001b[0m\u001b[0;34m\u001b[0m\u001b[0;34m\u001b[0m\u001b[0m\n\u001b[0;32m----> 5\u001b[0;31m         \u001b[0m_df\u001b[0m\u001b[0;34m.\u001b[0m\u001b[0mloc\u001b[0m\u001b[0;34m[\u001b[0m\u001b[0;34m(\u001b[0m\u001b[0mi\u001b[0m\u001b[0;34m,\u001b[0m \u001b[0mint\u001b[0m\u001b[0;34m(\u001b[0m\u001b[0mj\u001b[0m\u001b[0;34m.\u001b[0m\u001b[0msplit\u001b[0m\u001b[0;34m(\u001b[0m\u001b[0;34m'.'\u001b[0m\u001b[0;34m)\u001b[0m\u001b[0;34m[\u001b[0m\u001b[0;34m-\u001b[0m\u001b[0;36m1\u001b[0m\u001b[0;34m]\u001b[0m\u001b[0;34m.\u001b[0m\u001b[0mstrip\u001b[0m\u001b[0;34m(\u001b[0m\u001b[0;34m)\u001b[0m\u001b[0;34m)\u001b[0m\u001b[0;34m)\u001b[0m\u001b[0;34m,\u001b[0m \u001b[0;34m:\u001b[0m\u001b[0;34m]\u001b[0m \u001b[0;34m=\u001b[0m \u001b[0;34m[\u001b[0m\u001b[0;34m*\u001b[0m\u001b[0mlist\u001b[0m\u001b[0;34m(\u001b[0m\u001b[0mfreedom_house73_21_ctr\u001b[0m\u001b[0;34m.\u001b[0m\u001b[0mloc\u001b[0m\u001b[0;34m[\u001b[0m\u001b[0mi\u001b[0m\u001b[0;34m,\u001b[0m \u001b[0mj\u001b[0m\u001b[0;34m]\u001b[0m\u001b[0;34m)\u001b[0m\u001b[0;34m]\u001b[0m\u001b[0;34m\u001b[0m\u001b[0;34m\u001b[0m\u001b[0m\n\u001b[0m\u001b[1;32m      6\u001b[0m \u001b[0mfreedom_house73_21_ctr\u001b[0m \u001b[0;34m=\u001b[0m \u001b[0m_df\u001b[0m\u001b[0;34m\u001b[0m\u001b[0;34m\u001b[0m\u001b[0m\n\u001b[1;32m      7\u001b[0m \u001b[0mfreedom_house73_21_ctr\u001b[0m\u001b[0;34m.\u001b[0m\u001b[0mindex\u001b[0m\u001b[0;34m.\u001b[0m\u001b[0mnames\u001b[0m \u001b[0;34m=\u001b[0m \u001b[0;34m[\u001b[0m\u001b[0;34m'country'\u001b[0m\u001b[0;34m,\u001b[0m \u001b[0;34m'year'\u001b[0m\u001b[0;34m]\u001b[0m\u001b[0;34m\u001b[0m\u001b[0;34m\u001b[0m\u001b[0m\n",
      "\u001b[0;32m~/Desktop/Taloustieteen_kursseja/Econometrics/Capstone.nosync/cap_venv/lib/python3.8/site-packages/pandas/core/indexing.py\u001b[0m in \u001b[0;36m__setitem__\u001b[0;34m(self, key, value)\u001b[0m\n\u001b[1;32m    690\u001b[0m \u001b[0;34m\u001b[0m\u001b[0m\n\u001b[1;32m    691\u001b[0m         \u001b[0miloc\u001b[0m \u001b[0;34m=\u001b[0m \u001b[0mself\u001b[0m \u001b[0;32mif\u001b[0m \u001b[0mself\u001b[0m\u001b[0;34m.\u001b[0m\u001b[0mname\u001b[0m \u001b[0;34m==\u001b[0m \u001b[0;34m\"iloc\"\u001b[0m \u001b[0;32melse\u001b[0m \u001b[0mself\u001b[0m\u001b[0;34m.\u001b[0m\u001b[0mobj\u001b[0m\u001b[0;34m.\u001b[0m\u001b[0miloc\u001b[0m\u001b[0;34m\u001b[0m\u001b[0;34m\u001b[0m\u001b[0m\n\u001b[0;32m--> 692\u001b[0;31m         \u001b[0miloc\u001b[0m\u001b[0;34m.\u001b[0m\u001b[0m_setitem_with_indexer\u001b[0m\u001b[0;34m(\u001b[0m\u001b[0mindexer\u001b[0m\u001b[0;34m,\u001b[0m \u001b[0mvalue\u001b[0m\u001b[0;34m,\u001b[0m \u001b[0mself\u001b[0m\u001b[0;34m.\u001b[0m\u001b[0mname\u001b[0m\u001b[0;34m)\u001b[0m\u001b[0;34m\u001b[0m\u001b[0;34m\u001b[0m\u001b[0m\n\u001b[0m\u001b[1;32m    693\u001b[0m \u001b[0;34m\u001b[0m\u001b[0m\n\u001b[1;32m    694\u001b[0m     \u001b[0;32mdef\u001b[0m \u001b[0m_validate_key\u001b[0m\u001b[0;34m(\u001b[0m\u001b[0mself\u001b[0m\u001b[0;34m,\u001b[0m \u001b[0mkey\u001b[0m\u001b[0;34m,\u001b[0m \u001b[0maxis\u001b[0m\u001b[0;34m:\u001b[0m \u001b[0mint\u001b[0m\u001b[0;34m)\u001b[0m\u001b[0;34m:\u001b[0m\u001b[0;34m\u001b[0m\u001b[0;34m\u001b[0m\u001b[0m\n",
      "\u001b[0;32m~/Desktop/Taloustieteen_kursseja/Econometrics/Capstone.nosync/cap_venv/lib/python3.8/site-packages/pandas/core/indexing.py\u001b[0m in \u001b[0;36m_setitem_with_indexer\u001b[0;34m(self, indexer, value, name)\u001b[0m\n\u001b[1;32m   1633\u001b[0m         \u001b[0;32mif\u001b[0m \u001b[0mtake_split_path\u001b[0m\u001b[0;34m:\u001b[0m\u001b[0;34m\u001b[0m\u001b[0;34m\u001b[0m\u001b[0m\n\u001b[1;32m   1634\u001b[0m             \u001b[0;31m# We have to operate column-wise\u001b[0m\u001b[0;34m\u001b[0m\u001b[0;34m\u001b[0m\u001b[0;34m\u001b[0m\u001b[0m\n\u001b[0;32m-> 1635\u001b[0;31m             \u001b[0mself\u001b[0m\u001b[0;34m.\u001b[0m\u001b[0m_setitem_with_indexer_split_path\u001b[0m\u001b[0;34m(\u001b[0m\u001b[0mindexer\u001b[0m\u001b[0;34m,\u001b[0m \u001b[0mvalue\u001b[0m\u001b[0;34m,\u001b[0m \u001b[0mname\u001b[0m\u001b[0;34m)\u001b[0m\u001b[0;34m\u001b[0m\u001b[0;34m\u001b[0m\u001b[0m\n\u001b[0m\u001b[1;32m   1636\u001b[0m         \u001b[0;32melse\u001b[0m\u001b[0;34m:\u001b[0m\u001b[0;34m\u001b[0m\u001b[0;34m\u001b[0m\u001b[0m\n\u001b[1;32m   1637\u001b[0m             \u001b[0mself\u001b[0m\u001b[0;34m.\u001b[0m\u001b[0m_setitem_single_block\u001b[0m\u001b[0;34m(\u001b[0m\u001b[0mindexer\u001b[0m\u001b[0;34m,\u001b[0m \u001b[0mvalue\u001b[0m\u001b[0;34m,\u001b[0m \u001b[0mname\u001b[0m\u001b[0;34m)\u001b[0m\u001b[0;34m\u001b[0m\u001b[0;34m\u001b[0m\u001b[0m\n",
      "\u001b[0;32m~/Desktop/Taloustieteen_kursseja/Econometrics/Capstone.nosync/cap_venv/lib/python3.8/site-packages/pandas/core/indexing.py\u001b[0m in \u001b[0;36m_setitem_with_indexer_split_path\u001b[0;34m(self, indexer, value, name)\u001b[0m\n\u001b[1;32m   1698\u001b[0m                 \u001b[0;31m# We are setting multiple columns in a single row.\u001b[0m\u001b[0;34m\u001b[0m\u001b[0;34m\u001b[0m\u001b[0;34m\u001b[0m\u001b[0m\n\u001b[1;32m   1699\u001b[0m                 \u001b[0;32mfor\u001b[0m \u001b[0mloc\u001b[0m\u001b[0;34m,\u001b[0m \u001b[0mv\u001b[0m \u001b[0;32min\u001b[0m \u001b[0mzip\u001b[0m\u001b[0;34m(\u001b[0m\u001b[0milocs\u001b[0m\u001b[0;34m,\u001b[0m \u001b[0mvalue\u001b[0m\u001b[0;34m)\u001b[0m\u001b[0;34m:\u001b[0m\u001b[0;34m\u001b[0m\u001b[0;34m\u001b[0m\u001b[0m\n\u001b[0;32m-> 1700\u001b[0;31m                     \u001b[0mself\u001b[0m\u001b[0;34m.\u001b[0m\u001b[0m_setitem_single_column\u001b[0m\u001b[0;34m(\u001b[0m\u001b[0mloc\u001b[0m\u001b[0;34m,\u001b[0m \u001b[0mv\u001b[0m\u001b[0;34m,\u001b[0m \u001b[0mpi\u001b[0m\u001b[0;34m)\u001b[0m\u001b[0;34m\u001b[0m\u001b[0;34m\u001b[0m\u001b[0m\n\u001b[0m\u001b[1;32m   1701\u001b[0m \u001b[0;34m\u001b[0m\u001b[0m\n\u001b[1;32m   1702\u001b[0m             \u001b[0;32melif\u001b[0m \u001b[0mlen\u001b[0m\u001b[0;34m(\u001b[0m\u001b[0milocs\u001b[0m\u001b[0;34m)\u001b[0m \u001b[0;34m==\u001b[0m \u001b[0;36m1\u001b[0m \u001b[0;32mand\u001b[0m \u001b[0mcom\u001b[0m\u001b[0;34m.\u001b[0m\u001b[0mis_null_slice\u001b[0m\u001b[0;34m(\u001b[0m\u001b[0mpi\u001b[0m\u001b[0;34m)\u001b[0m \u001b[0;32mand\u001b[0m \u001b[0mlen\u001b[0m\u001b[0;34m(\u001b[0m\u001b[0mself\u001b[0m\u001b[0;34m.\u001b[0m\u001b[0mobj\u001b[0m\u001b[0;34m)\u001b[0m \u001b[0;34m==\u001b[0m \u001b[0;36m0\u001b[0m\u001b[0;34m:\u001b[0m\u001b[0;34m\u001b[0m\u001b[0;34m\u001b[0m\u001b[0m\n",
      "\u001b[0;32m~/Desktop/Taloustieteen_kursseja/Econometrics/Capstone.nosync/cap_venv/lib/python3.8/site-packages/pandas/core/indexing.py\u001b[0m in \u001b[0;36m_setitem_single_column\u001b[0;34m(self, loc, value, plane_indexer)\u001b[0m\n\u001b[1;32m   1811\u001b[0m             \u001b[0;31m# set the item, possibly having a dtype change\u001b[0m\u001b[0;34m\u001b[0m\u001b[0;34m\u001b[0m\u001b[0;34m\u001b[0m\u001b[0m\n\u001b[1;32m   1812\u001b[0m             \u001b[0mser\u001b[0m \u001b[0;34m=\u001b[0m \u001b[0mser\u001b[0m\u001b[0;34m.\u001b[0m\u001b[0mcopy\u001b[0m\u001b[0;34m(\u001b[0m\u001b[0;34m)\u001b[0m\u001b[0;34m\u001b[0m\u001b[0;34m\u001b[0m\u001b[0m\n\u001b[0;32m-> 1813\u001b[0;31m             \u001b[0mser\u001b[0m\u001b[0;34m.\u001b[0m\u001b[0m_mgr\u001b[0m \u001b[0;34m=\u001b[0m \u001b[0mser\u001b[0m\u001b[0;34m.\u001b[0m\u001b[0m_mgr\u001b[0m\u001b[0;34m.\u001b[0m\u001b[0msetitem\u001b[0m\u001b[0;34m(\u001b[0m\u001b[0mindexer\u001b[0m\u001b[0;34m=\u001b[0m\u001b[0;34m(\u001b[0m\u001b[0mpi\u001b[0m\u001b[0;34m,\u001b[0m\u001b[0;34m)\u001b[0m\u001b[0;34m,\u001b[0m \u001b[0mvalue\u001b[0m\u001b[0;34m=\u001b[0m\u001b[0mvalue\u001b[0m\u001b[0;34m)\u001b[0m\u001b[0;34m\u001b[0m\u001b[0;34m\u001b[0m\u001b[0m\n\u001b[0m\u001b[1;32m   1814\u001b[0m             \u001b[0mser\u001b[0m\u001b[0;34m.\u001b[0m\u001b[0m_maybe_update_cacher\u001b[0m\u001b[0;34m(\u001b[0m\u001b[0mclear\u001b[0m\u001b[0;34m=\u001b[0m\u001b[0;32mTrue\u001b[0m\u001b[0;34m)\u001b[0m\u001b[0;34m\u001b[0m\u001b[0;34m\u001b[0m\u001b[0m\n\u001b[1;32m   1815\u001b[0m \u001b[0;34m\u001b[0m\u001b[0m\n",
      "\u001b[0;32m~/Desktop/Taloustieteen_kursseja/Econometrics/Capstone.nosync/cap_venv/lib/python3.8/site-packages/pandas/core/internals/managers.py\u001b[0m in \u001b[0;36msetitem\u001b[0;34m(self, indexer, value)\u001b[0m\n\u001b[1;32m    566\u001b[0m \u001b[0;34m\u001b[0m\u001b[0m\n\u001b[1;32m    567\u001b[0m     \u001b[0;32mdef\u001b[0m \u001b[0msetitem\u001b[0m\u001b[0;34m(\u001b[0m\u001b[0mself\u001b[0m\u001b[0;34m,\u001b[0m \u001b[0mindexer\u001b[0m\u001b[0;34m,\u001b[0m \u001b[0mvalue\u001b[0m\u001b[0;34m)\u001b[0m \u001b[0;34m->\u001b[0m \u001b[0;34m\"BlockManager\"\u001b[0m\u001b[0;34m:\u001b[0m\u001b[0;34m\u001b[0m\u001b[0;34m\u001b[0m\u001b[0m\n\u001b[0;32m--> 568\u001b[0;31m         \u001b[0;32mreturn\u001b[0m \u001b[0mself\u001b[0m\u001b[0;34m.\u001b[0m\u001b[0mapply\u001b[0m\u001b[0;34m(\u001b[0m\u001b[0;34m\"setitem\"\u001b[0m\u001b[0;34m,\u001b[0m \u001b[0mindexer\u001b[0m\u001b[0;34m=\u001b[0m\u001b[0mindexer\u001b[0m\u001b[0;34m,\u001b[0m \u001b[0mvalue\u001b[0m\u001b[0;34m=\u001b[0m\u001b[0mvalue\u001b[0m\u001b[0;34m)\u001b[0m\u001b[0;34m\u001b[0m\u001b[0;34m\u001b[0m\u001b[0m\n\u001b[0m\u001b[1;32m    569\u001b[0m \u001b[0;34m\u001b[0m\u001b[0m\n\u001b[1;32m    570\u001b[0m     \u001b[0;32mdef\u001b[0m \u001b[0mputmask\u001b[0m\u001b[0;34m(\u001b[0m\u001b[0mself\u001b[0m\u001b[0;34m,\u001b[0m \u001b[0mmask\u001b[0m\u001b[0;34m,\u001b[0m \u001b[0mnew\u001b[0m\u001b[0;34m,\u001b[0m \u001b[0malign\u001b[0m\u001b[0;34m:\u001b[0m \u001b[0mbool\u001b[0m \u001b[0;34m=\u001b[0m \u001b[0;32mTrue\u001b[0m\u001b[0;34m,\u001b[0m \u001b[0maxis\u001b[0m\u001b[0;34m:\u001b[0m \u001b[0mint\u001b[0m \u001b[0;34m=\u001b[0m \u001b[0;36m0\u001b[0m\u001b[0;34m)\u001b[0m\u001b[0;34m:\u001b[0m\u001b[0;34m\u001b[0m\u001b[0;34m\u001b[0m\u001b[0m\n",
      "\u001b[0;32m~/Desktop/Taloustieteen_kursseja/Econometrics/Capstone.nosync/cap_venv/lib/python3.8/site-packages/pandas/core/internals/managers.py\u001b[0m in \u001b[0;36mapply\u001b[0;34m(self, f, align_keys, ignore_failures, **kwargs)\u001b[0m\n\u001b[1;32m    425\u001b[0m                     \u001b[0mapplied\u001b[0m \u001b[0;34m=\u001b[0m \u001b[0mb\u001b[0m\u001b[0;34m.\u001b[0m\u001b[0mapply\u001b[0m\u001b[0;34m(\u001b[0m\u001b[0mf\u001b[0m\u001b[0;34m,\u001b[0m \u001b[0;34m**\u001b[0m\u001b[0mkwargs\u001b[0m\u001b[0;34m)\u001b[0m\u001b[0;34m\u001b[0m\u001b[0;34m\u001b[0m\u001b[0m\n\u001b[1;32m    426\u001b[0m                 \u001b[0;32melse\u001b[0m\u001b[0;34m:\u001b[0m\u001b[0;34m\u001b[0m\u001b[0;34m\u001b[0m\u001b[0m\n\u001b[0;32m--> 427\u001b[0;31m                     \u001b[0mapplied\u001b[0m \u001b[0;34m=\u001b[0m \u001b[0mgetattr\u001b[0m\u001b[0;34m(\u001b[0m\u001b[0mb\u001b[0m\u001b[0;34m,\u001b[0m \u001b[0mf\u001b[0m\u001b[0;34m)\u001b[0m\u001b[0;34m(\u001b[0m\u001b[0;34m**\u001b[0m\u001b[0mkwargs\u001b[0m\u001b[0;34m)\u001b[0m\u001b[0;34m\u001b[0m\u001b[0;34m\u001b[0m\u001b[0m\n\u001b[0m\u001b[1;32m    428\u001b[0m             \u001b[0;32mexcept\u001b[0m \u001b[0;34m(\u001b[0m\u001b[0mTypeError\u001b[0m\u001b[0;34m,\u001b[0m \u001b[0mNotImplementedError\u001b[0m\u001b[0;34m)\u001b[0m\u001b[0;34m:\u001b[0m\u001b[0;34m\u001b[0m\u001b[0;34m\u001b[0m\u001b[0m\n\u001b[1;32m    429\u001b[0m                 \u001b[0;32mif\u001b[0m \u001b[0;32mnot\u001b[0m \u001b[0mignore_failures\u001b[0m\u001b[0;34m:\u001b[0m\u001b[0;34m\u001b[0m\u001b[0;34m\u001b[0m\u001b[0m\n",
      "\u001b[0;32m~/Desktop/Taloustieteen_kursseja/Econometrics/Capstone.nosync/cap_venv/lib/python3.8/site-packages/pandas/core/internals/blocks.py\u001b[0m in \u001b[0;36msetitem\u001b[0;34m(self, indexer, value)\u001b[0m\n\u001b[1;32m   1037\u001b[0m         \u001b[0;32mif\u001b[0m \u001b[0mtranspose\u001b[0m\u001b[0;34m:\u001b[0m\u001b[0;34m\u001b[0m\u001b[0;34m\u001b[0m\u001b[0m\n\u001b[1;32m   1038\u001b[0m             \u001b[0mvalues\u001b[0m \u001b[0;34m=\u001b[0m \u001b[0mvalues\u001b[0m\u001b[0;34m.\u001b[0m\u001b[0mT\u001b[0m\u001b[0;34m\u001b[0m\u001b[0;34m\u001b[0m\u001b[0m\n\u001b[0;32m-> 1039\u001b[0;31m         \u001b[0mblock\u001b[0m \u001b[0;34m=\u001b[0m \u001b[0mself\u001b[0m\u001b[0;34m.\u001b[0m\u001b[0mmake_block\u001b[0m\u001b[0;34m(\u001b[0m\u001b[0mvalues\u001b[0m\u001b[0;34m)\u001b[0m\u001b[0;34m\u001b[0m\u001b[0;34m\u001b[0m\u001b[0m\n\u001b[0m\u001b[1;32m   1040\u001b[0m         \u001b[0;32mreturn\u001b[0m \u001b[0mblock\u001b[0m\u001b[0;34m\u001b[0m\u001b[0;34m\u001b[0m\u001b[0m\n\u001b[1;32m   1041\u001b[0m \u001b[0;34m\u001b[0m\u001b[0m\n",
      "\u001b[0;32m~/Desktop/Taloustieteen_kursseja/Econometrics/Capstone.nosync/cap_venv/lib/python3.8/site-packages/pandas/core/internals/blocks.py\u001b[0m in \u001b[0;36mmake_block\u001b[0;34m(self, values, placement)\u001b[0m\n\u001b[1;32m    284\u001b[0m             \u001b[0mvalues\u001b[0m \u001b[0;34m=\u001b[0m \u001b[0m_block_shape\u001b[0m\u001b[0;34m(\u001b[0m\u001b[0mvalues\u001b[0m\u001b[0;34m,\u001b[0m \u001b[0mndim\u001b[0m\u001b[0;34m=\u001b[0m\u001b[0mself\u001b[0m\u001b[0;34m.\u001b[0m\u001b[0mndim\u001b[0m\u001b[0;34m)\u001b[0m\u001b[0;34m\u001b[0m\u001b[0;34m\u001b[0m\u001b[0m\n\u001b[1;32m    285\u001b[0m \u001b[0;34m\u001b[0m\u001b[0m\n\u001b[0;32m--> 286\u001b[0;31m         \u001b[0;32mreturn\u001b[0m \u001b[0mmake_block\u001b[0m\u001b[0;34m(\u001b[0m\u001b[0mvalues\u001b[0m\u001b[0;34m,\u001b[0m \u001b[0mplacement\u001b[0m\u001b[0;34m=\u001b[0m\u001b[0mplacement\u001b[0m\u001b[0;34m,\u001b[0m \u001b[0mndim\u001b[0m\u001b[0;34m=\u001b[0m\u001b[0mself\u001b[0m\u001b[0;34m.\u001b[0m\u001b[0mndim\u001b[0m\u001b[0;34m)\u001b[0m\u001b[0;34m\u001b[0m\u001b[0;34m\u001b[0m\u001b[0m\n\u001b[0m\u001b[1;32m    287\u001b[0m \u001b[0;34m\u001b[0m\u001b[0m\n\u001b[1;32m    288\u001b[0m     \u001b[0;32mdef\u001b[0m \u001b[0mmake_block_same_class\u001b[0m\u001b[0;34m(\u001b[0m\u001b[0mself\u001b[0m\u001b[0;34m,\u001b[0m \u001b[0mvalues\u001b[0m\u001b[0;34m,\u001b[0m \u001b[0mplacement\u001b[0m\u001b[0;34m=\u001b[0m\u001b[0;32mNone\u001b[0m\u001b[0;34m,\u001b[0m \u001b[0mndim\u001b[0m\u001b[0;34m=\u001b[0m\u001b[0;32mNone\u001b[0m\u001b[0;34m)\u001b[0m\u001b[0;34m:\u001b[0m\u001b[0;34m\u001b[0m\u001b[0;34m\u001b[0m\u001b[0m\n",
      "\u001b[0;32m~/Desktop/Taloustieteen_kursseja/Econometrics/Capstone.nosync/cap_venv/lib/python3.8/site-packages/pandas/core/internals/blocks.py\u001b[0m in \u001b[0;36mmake_block\u001b[0;34m(values, placement, klass, ndim, dtype)\u001b[0m\n\u001b[1;32m   2733\u001b[0m     \u001b[0;32mif\u001b[0m \u001b[0mklass\u001b[0m \u001b[0;32mis\u001b[0m \u001b[0;32mNone\u001b[0m\u001b[0;34m:\u001b[0m\u001b[0;34m\u001b[0m\u001b[0;34m\u001b[0m\u001b[0m\n\u001b[1;32m   2734\u001b[0m         \u001b[0mdtype\u001b[0m \u001b[0;34m=\u001b[0m \u001b[0mdtype\u001b[0m \u001b[0;32mor\u001b[0m \u001b[0mvalues\u001b[0m\u001b[0;34m.\u001b[0m\u001b[0mdtype\u001b[0m\u001b[0;34m\u001b[0m\u001b[0;34m\u001b[0m\u001b[0m\n\u001b[0;32m-> 2735\u001b[0;31m         \u001b[0mklass\u001b[0m \u001b[0;34m=\u001b[0m \u001b[0mget_block_type\u001b[0m\u001b[0;34m(\u001b[0m\u001b[0mvalues\u001b[0m\u001b[0;34m,\u001b[0m \u001b[0mdtype\u001b[0m\u001b[0;34m)\u001b[0m\u001b[0;34m\u001b[0m\u001b[0;34m\u001b[0m\u001b[0m\n\u001b[0m\u001b[1;32m   2736\u001b[0m \u001b[0;34m\u001b[0m\u001b[0m\n\u001b[1;32m   2737\u001b[0m     \u001b[0;32melif\u001b[0m \u001b[0mklass\u001b[0m \u001b[0;32mis\u001b[0m \u001b[0mDatetimeTZBlock\u001b[0m \u001b[0;32mand\u001b[0m \u001b[0;32mnot\u001b[0m \u001b[0mis_datetime64tz_dtype\u001b[0m\u001b[0;34m(\u001b[0m\u001b[0mvalues\u001b[0m\u001b[0;34m.\u001b[0m\u001b[0mdtype\u001b[0m\u001b[0;34m)\u001b[0m\u001b[0;34m:\u001b[0m\u001b[0;34m\u001b[0m\u001b[0;34m\u001b[0m\u001b[0m\n",
      "\u001b[0;32m~/Desktop/Taloustieteen_kursseja/Econometrics/Capstone.nosync/cap_venv/lib/python3.8/site-packages/pandas/core/internals/blocks.py\u001b[0m in \u001b[0;36mget_block_type\u001b[0;34m(values, dtype)\u001b[0m\n\u001b[1;32m   2698\u001b[0m     \u001b[0;32melif\u001b[0m \u001b[0mis_datetime64tz_dtype\u001b[0m\u001b[0;34m(\u001b[0m\u001b[0mvalues\u001b[0m\u001b[0;34m.\u001b[0m\u001b[0mdtype\u001b[0m\u001b[0;34m)\u001b[0m\u001b[0;34m:\u001b[0m\u001b[0;34m\u001b[0m\u001b[0;34m\u001b[0m\u001b[0m\n\u001b[1;32m   2699\u001b[0m         \u001b[0mcls\u001b[0m \u001b[0;34m=\u001b[0m \u001b[0mDatetimeTZBlock\u001b[0m\u001b[0;34m\u001b[0m\u001b[0;34m\u001b[0m\u001b[0m\n\u001b[0;32m-> 2700\u001b[0;31m     \u001b[0;32melif\u001b[0m \u001b[0mis_interval_dtype\u001b[0m\u001b[0;34m(\u001b[0m\u001b[0mdtype\u001b[0m\u001b[0;34m)\u001b[0m \u001b[0;32mor\u001b[0m \u001b[0mis_period_dtype\u001b[0m\u001b[0;34m(\u001b[0m\u001b[0mdtype\u001b[0m\u001b[0;34m)\u001b[0m\u001b[0;34m:\u001b[0m\u001b[0;34m\u001b[0m\u001b[0;34m\u001b[0m\u001b[0m\n\u001b[0m\u001b[1;32m   2701\u001b[0m         \u001b[0mcls\u001b[0m \u001b[0;34m=\u001b[0m \u001b[0mObjectValuesExtensionBlock\u001b[0m\u001b[0;34m\u001b[0m\u001b[0;34m\u001b[0m\u001b[0m\n\u001b[1;32m   2702\u001b[0m     \u001b[0;32melif\u001b[0m \u001b[0mis_extension_array_dtype\u001b[0m\u001b[0;34m(\u001b[0m\u001b[0mvalues\u001b[0m\u001b[0;34m.\u001b[0m\u001b[0mdtype\u001b[0m\u001b[0;34m)\u001b[0m\u001b[0;34m:\u001b[0m\u001b[0;34m\u001b[0m\u001b[0;34m\u001b[0m\u001b[0m\n",
      "\u001b[0;32m~/Desktop/Taloustieteen_kursseja/Econometrics/Capstone.nosync/cap_venv/lib/python3.8/site-packages/pandas/core/dtypes/common.py\u001b[0m in \u001b[0;36mis_interval_dtype\u001b[0;34m(arr_or_dtype)\u001b[0m\n\u001b[1;32m    532\u001b[0m     \u001b[0;32mif\u001b[0m \u001b[0marr_or_dtype\u001b[0m \u001b[0;32mis\u001b[0m \u001b[0;32mNone\u001b[0m\u001b[0;34m:\u001b[0m\u001b[0;34m\u001b[0m\u001b[0;34m\u001b[0m\u001b[0m\n\u001b[1;32m    533\u001b[0m         \u001b[0;32mreturn\u001b[0m \u001b[0;32mFalse\u001b[0m\u001b[0;34m\u001b[0m\u001b[0;34m\u001b[0m\u001b[0m\n\u001b[0;32m--> 534\u001b[0;31m     \u001b[0;32mreturn\u001b[0m \u001b[0mIntervalDtype\u001b[0m\u001b[0;34m.\u001b[0m\u001b[0mis_dtype\u001b[0m\u001b[0;34m(\u001b[0m\u001b[0marr_or_dtype\u001b[0m\u001b[0;34m)\u001b[0m\u001b[0;34m\u001b[0m\u001b[0;34m\u001b[0m\u001b[0m\n\u001b[0m\u001b[1;32m    535\u001b[0m \u001b[0;34m\u001b[0m\u001b[0m\n\u001b[1;32m    536\u001b[0m \u001b[0;34m\u001b[0m\u001b[0m\n",
      "\u001b[0;32m~/Desktop/Taloustieteen_kursseja/Econometrics/Capstone.nosync/cap_venv/lib/python3.8/site-packages/pandas/core/dtypes/dtypes.py\u001b[0m in \u001b[0;36mis_dtype\u001b[0;34m(cls, dtype)\u001b[0m\n\u001b[1;32m   1147\u001b[0m             \u001b[0;32melse\u001b[0m\u001b[0;34m:\u001b[0m\u001b[0;34m\u001b[0m\u001b[0;34m\u001b[0m\u001b[0m\n\u001b[1;32m   1148\u001b[0m                 \u001b[0;32mreturn\u001b[0m \u001b[0;32mFalse\u001b[0m\u001b[0;34m\u001b[0m\u001b[0;34m\u001b[0m\u001b[0m\n\u001b[0;32m-> 1149\u001b[0;31m         \u001b[0;32mreturn\u001b[0m \u001b[0msuper\u001b[0m\u001b[0;34m(\u001b[0m\u001b[0;34m)\u001b[0m\u001b[0;34m.\u001b[0m\u001b[0mis_dtype\u001b[0m\u001b[0;34m(\u001b[0m\u001b[0mdtype\u001b[0m\u001b[0;34m)\u001b[0m\u001b[0;34m\u001b[0m\u001b[0;34m\u001b[0m\u001b[0m\n\u001b[0m\u001b[1;32m   1150\u001b[0m \u001b[0;34m\u001b[0m\u001b[0m\n\u001b[1;32m   1151\u001b[0m     def __from_arrow__(\n",
      "\u001b[0;32m~/Desktop/Taloustieteen_kursseja/Econometrics/Capstone.nosync/cap_venv/lib/python3.8/site-packages/pandas/core/dtypes/base.py\u001b[0m in \u001b[0;36mis_dtype\u001b[0;34m(cls, dtype)\u001b[0m\n\u001b[1;32m    278\u001b[0m         \u001b[0mdtype\u001b[0m \u001b[0;34m=\u001b[0m \u001b[0mgetattr\u001b[0m\u001b[0;34m(\u001b[0m\u001b[0mdtype\u001b[0m\u001b[0;34m,\u001b[0m \u001b[0;34m\"dtype\"\u001b[0m\u001b[0;34m,\u001b[0m \u001b[0mdtype\u001b[0m\u001b[0;34m)\u001b[0m\u001b[0;34m\u001b[0m\u001b[0;34m\u001b[0m\u001b[0m\n\u001b[1;32m    279\u001b[0m \u001b[0;34m\u001b[0m\u001b[0m\n\u001b[0;32m--> 280\u001b[0;31m         \u001b[0;32mif\u001b[0m \u001b[0misinstance\u001b[0m\u001b[0;34m(\u001b[0m\u001b[0mdtype\u001b[0m\u001b[0;34m,\u001b[0m \u001b[0;34m(\u001b[0m\u001b[0mABCSeries\u001b[0m\u001b[0;34m,\u001b[0m \u001b[0mABCIndexClass\u001b[0m\u001b[0;34m,\u001b[0m \u001b[0mABCDataFrame\u001b[0m\u001b[0;34m,\u001b[0m \u001b[0mnp\u001b[0m\u001b[0;34m.\u001b[0m\u001b[0mdtype\u001b[0m\u001b[0;34m)\u001b[0m\u001b[0;34m)\u001b[0m\u001b[0;34m:\u001b[0m\u001b[0;34m\u001b[0m\u001b[0;34m\u001b[0m\u001b[0m\n\u001b[0m\u001b[1;32m    281\u001b[0m             \u001b[0;31m# https://github.com/pandas-dev/pandas/issues/22960\u001b[0m\u001b[0;34m\u001b[0m\u001b[0;34m\u001b[0m\u001b[0;34m\u001b[0m\u001b[0m\n\u001b[1;32m    282\u001b[0m             \u001b[0;31m# avoid passing data to `construct_from_string`. This could\u001b[0m\u001b[0;34m\u001b[0m\u001b[0;34m\u001b[0m\u001b[0;34m\u001b[0m\u001b[0m\n",
      "\u001b[0;31mKeyboardInterrupt\u001b[0m: "
     ]
    }
   ],
   "source": [
    "y_list = [int(i.split('.')[-1].strip()) for i in freedom_house73_21_ctr.columns.get_level_values(0).unique()]\n",
    "_df = pd.DataFrame(columns=[i.strip() for i in list(freedom_house73_21_ctr.columns.get_level_values(1)[:3])], index=pd.MultiIndex.from_tuples(list(zip(np.repeat(freedom_house73_21_ctr.index, len(y_list)), y_list * len(y_list)))))\n",
    "for i in freedom_house73_21_ctr.index:\n",
    "    for j in freedom_house73_21_ctr.columns.get_level_values(0).unique():\n",
    "        _df.loc[(i, int(j.split('.')[-1].strip())), :] = [*list(freedom_house73_21_ctr.loc[i, j])]\n",
    "freedom_house73_21_ctr = _df\n",
    "freedom_house73_21_ctr.index.names = ['country', 'year']"
   ]
  },
  {
   "cell_type": "code",
   "execution_count": 122,
   "metadata": {},
   "outputs": [],
   "source": [
    "#freedom_house73_21_ctr.iloc[:, :-1] = freedom_house73_21_ctr.iloc[:, :-1].replace(rep_map)\n",
    "#freedom_house73_21_ctr.iloc[:, :-1] = freedom_house73_21_ctr.iloc[:, :-1].apply(pd.to_numeric, errors='coerce')"
   ]
  },
  {
   "cell_type": "code",
   "execution_count": 121,
   "metadata": {},
   "outputs": [
    {
     "output_type": "execute_result",
     "data": {
      "text/plain": [
       "                 PR CL Status\n",
       "country     year             \n",
       "afghanistan 1972  4  5     PF\n",
       "            1973  7  6     NF\n",
       "            1974  7  6     NF\n",
       "            1975  7  6     NF\n",
       "            1976  7  6     NF"
      ],
      "text/html": "<div>\n<style scoped>\n    .dataframe tbody tr th:only-of-type {\n        vertical-align: middle;\n    }\n\n    .dataframe tbody tr th {\n        vertical-align: top;\n    }\n\n    .dataframe thead th {\n        text-align: right;\n    }\n</style>\n<table border=\"1\" class=\"dataframe\">\n  <thead>\n    <tr style=\"text-align: right;\">\n      <th></th>\n      <th></th>\n      <th>PR</th>\n      <th>CL</th>\n      <th>Status</th>\n    </tr>\n    <tr>\n      <th>country</th>\n      <th>year</th>\n      <th></th>\n      <th></th>\n      <th></th>\n    </tr>\n  </thead>\n  <tbody>\n    <tr>\n      <th rowspan=\"5\" valign=\"top\">afghanistan</th>\n      <th>1972</th>\n      <td>4</td>\n      <td>5</td>\n      <td>PF</td>\n    </tr>\n    <tr>\n      <th>1973</th>\n      <td>7</td>\n      <td>6</td>\n      <td>NF</td>\n    </tr>\n    <tr>\n      <th>1974</th>\n      <td>7</td>\n      <td>6</td>\n      <td>NF</td>\n    </tr>\n    <tr>\n      <th>1975</th>\n      <td>7</td>\n      <td>6</td>\n      <td>NF</td>\n    </tr>\n    <tr>\n      <th>1976</th>\n      <td>7</td>\n      <td>6</td>\n      <td>NF</td>\n    </tr>\n  </tbody>\n</table>\n</div>"
     },
     "metadata": {},
     "execution_count": 121
    }
   ],
   "source": [
    "freedom_house73_21_ctr.head()"
   ]
  },
  {
   "cell_type": "code",
   "execution_count": 127,
   "metadata": {},
   "outputs": [
    {
     "output_type": "execute_result",
     "data": {
      "text/plain": [
       "                   PR   CL\n",
       "country     year          \n",
       "afghanistan 1972  4.0  5.0\n",
       "            1973  7.0  6.0\n",
       "            1974  7.0  6.0\n",
       "            1975  7.0  6.0\n",
       "            1976  7.0  6.0\n",
       "...               ...  ...\n",
       "zimbabwe    2016  5.0  5.0\n",
       "            2017  6.0  5.0\n",
       "            2018  5.0  5.0\n",
       "            2019  5.0  5.0\n",
       "            2020  6.0  5.0\n",
       "\n",
       "[9840 rows x 2 columns]"
      ],
      "text/html": "<div>\n<style scoped>\n    .dataframe tbody tr th:only-of-type {\n        vertical-align: middle;\n    }\n\n    .dataframe tbody tr th {\n        vertical-align: top;\n    }\n\n    .dataframe thead th {\n        text-align: right;\n    }\n</style>\n<table border=\"1\" class=\"dataframe\">\n  <thead>\n    <tr style=\"text-align: right;\">\n      <th></th>\n      <th></th>\n      <th>PR</th>\n      <th>CL</th>\n    </tr>\n    <tr>\n      <th>country</th>\n      <th>year</th>\n      <th></th>\n      <th></th>\n    </tr>\n  </thead>\n  <tbody>\n    <tr>\n      <th rowspan=\"5\" valign=\"top\">afghanistan</th>\n      <th>1972</th>\n      <td>4.0</td>\n      <td>5.0</td>\n    </tr>\n    <tr>\n      <th>1973</th>\n      <td>7.0</td>\n      <td>6.0</td>\n    </tr>\n    <tr>\n      <th>1974</th>\n      <td>7.0</td>\n      <td>6.0</td>\n    </tr>\n    <tr>\n      <th>1975</th>\n      <td>7.0</td>\n      <td>6.0</td>\n    </tr>\n    <tr>\n      <th>1976</th>\n      <td>7.0</td>\n      <td>6.0</td>\n    </tr>\n    <tr>\n      <th>...</th>\n      <th>...</th>\n      <td>...</td>\n      <td>...</td>\n    </tr>\n    <tr>\n      <th rowspan=\"5\" valign=\"top\">zimbabwe</th>\n      <th>2016</th>\n      <td>5.0</td>\n      <td>5.0</td>\n    </tr>\n    <tr>\n      <th>2017</th>\n      <td>6.0</td>\n      <td>5.0</td>\n    </tr>\n    <tr>\n      <th>2018</th>\n      <td>5.0</td>\n      <td>5.0</td>\n    </tr>\n    <tr>\n      <th>2019</th>\n      <td>5.0</td>\n      <td>5.0</td>\n    </tr>\n    <tr>\n      <th>2020</th>\n      <td>6.0</td>\n      <td>5.0</td>\n    </tr>\n  </tbody>\n</table>\n<p>9840 rows × 2 columns</p>\n</div>"
     },
     "metadata": {},
     "execution_count": 127
    }
   ],
   "source": [
    "freedom_house73_21_ctr.iloc[:, :-1].apply(pd.to_numeric, errors='coerce')"
   ]
  },
  {
   "cell_type": "code",
   "execution_count": 116,
   "metadata": {},
   "outputs": [],
   "source": [
    "freedom_house73_21_hd = pd.read_csv('./raw_data/Country_and_Territory_Ratings_and_Statuses_FIW1973-2021_hd.csv', sep=';')"
   ]
  },
  {
   "cell_type": "code",
   "execution_count": 45,
   "metadata": {},
   "outputs": [
    {
     "output_type": "execute_result",
     "data": {
      "text/plain": [
       "  FIW Survey Edition* Year(s) Under Review**  Total Countries  \\\n",
       "0                2021                   2020            195.0   \n",
       "1                2020                   2019            195.0   \n",
       "2                2019                   2018            195.0   \n",
       "3                2018                   2017            195.0   \n",
       "4                2017                   2016            195.0   \n",
       "\n",
       "   Number of F Countries % of F Countries  Number of PF Countries  \\\n",
       "0                   82.0          42,05 %                    59.0   \n",
       "1                   83.0          42,56 %                    63.0   \n",
       "2                   86.0          44,10 %                    59.0   \n",
       "3                   88.0          45,13 %                    58.0   \n",
       "4                   87.0          44,62 %                    59.0   \n",
       "\n",
       "  % of PF Countries  Number of NF Countries % of NF Countries  Unnamed: 9  \\\n",
       "0           30,26 %                    54.0           27,69 %         NaN   \n",
       "1           32,31 %                    49.0           25,13 %         NaN   \n",
       "2           30,26 %                    50.0           25,64 %         NaN   \n",
       "3           29,74 %                    49.0           25,13 %         NaN   \n",
       "4           30,26 %                    49.0           25,13 %         NaN   \n",
       "\n",
       "   ...  Unnamed: 12  Unnamed: 13  Unnamed: 14  Unnamed: 15  Unnamed: 16  \\\n",
       "0  ...          NaN          NaN          NaN          NaN          NaN   \n",
       "1  ...          NaN          NaN          NaN          NaN          NaN   \n",
       "2  ...          NaN          NaN          NaN          NaN          NaN   \n",
       "3  ...          NaN          NaN          NaN          NaN          NaN   \n",
       "4  ...          NaN          NaN          NaN          NaN          NaN   \n",
       "\n",
       "   Unnamed: 17  Unnamed: 18  Unnamed: 19  Unnamed: 20  Unnamed: 21  \n",
       "0          NaN          NaN          NaN          NaN          NaN  \n",
       "1          NaN          NaN          NaN          NaN          NaN  \n",
       "2          NaN          NaN          NaN          NaN         True  \n",
       "3          NaN          NaN          NaN          NaN         True  \n",
       "4          NaN          NaN          NaN          NaN         True  \n",
       "\n",
       "[5 rows x 22 columns]"
      ],
      "text/html": "<div>\n<style scoped>\n    .dataframe tbody tr th:only-of-type {\n        vertical-align: middle;\n    }\n\n    .dataframe tbody tr th {\n        vertical-align: top;\n    }\n\n    .dataframe thead th {\n        text-align: right;\n    }\n</style>\n<table border=\"1\" class=\"dataframe\">\n  <thead>\n    <tr style=\"text-align: right;\">\n      <th></th>\n      <th>FIW Survey Edition*</th>\n      <th>Year(s) Under Review**</th>\n      <th>Total Countries</th>\n      <th>Number of F Countries</th>\n      <th>% of F Countries</th>\n      <th>Number of PF Countries</th>\n      <th>% of PF Countries</th>\n      <th>Number of NF Countries</th>\n      <th>% of NF Countries</th>\n      <th>Unnamed: 9</th>\n      <th>...</th>\n      <th>Unnamed: 12</th>\n      <th>Unnamed: 13</th>\n      <th>Unnamed: 14</th>\n      <th>Unnamed: 15</th>\n      <th>Unnamed: 16</th>\n      <th>Unnamed: 17</th>\n      <th>Unnamed: 18</th>\n      <th>Unnamed: 19</th>\n      <th>Unnamed: 20</th>\n      <th>Unnamed: 21</th>\n    </tr>\n  </thead>\n  <tbody>\n    <tr>\n      <th>0</th>\n      <td>2021</td>\n      <td>2020</td>\n      <td>195.0</td>\n      <td>82.0</td>\n      <td>42,05 %</td>\n      <td>59.0</td>\n      <td>30,26 %</td>\n      <td>54.0</td>\n      <td>27,69 %</td>\n      <td>NaN</td>\n      <td>...</td>\n      <td>NaN</td>\n      <td>NaN</td>\n      <td>NaN</td>\n      <td>NaN</td>\n      <td>NaN</td>\n      <td>NaN</td>\n      <td>NaN</td>\n      <td>NaN</td>\n      <td>NaN</td>\n      <td>NaN</td>\n    </tr>\n    <tr>\n      <th>1</th>\n      <td>2020</td>\n      <td>2019</td>\n      <td>195.0</td>\n      <td>83.0</td>\n      <td>42,56 %</td>\n      <td>63.0</td>\n      <td>32,31 %</td>\n      <td>49.0</td>\n      <td>25,13 %</td>\n      <td>NaN</td>\n      <td>...</td>\n      <td>NaN</td>\n      <td>NaN</td>\n      <td>NaN</td>\n      <td>NaN</td>\n      <td>NaN</td>\n      <td>NaN</td>\n      <td>NaN</td>\n      <td>NaN</td>\n      <td>NaN</td>\n      <td>NaN</td>\n    </tr>\n    <tr>\n      <th>2</th>\n      <td>2019</td>\n      <td>2018</td>\n      <td>195.0</td>\n      <td>86.0</td>\n      <td>44,10 %</td>\n      <td>59.0</td>\n      <td>30,26 %</td>\n      <td>50.0</td>\n      <td>25,64 %</td>\n      <td>NaN</td>\n      <td>...</td>\n      <td>NaN</td>\n      <td>NaN</td>\n      <td>NaN</td>\n      <td>NaN</td>\n      <td>NaN</td>\n      <td>NaN</td>\n      <td>NaN</td>\n      <td>NaN</td>\n      <td>NaN</td>\n      <td>True</td>\n    </tr>\n    <tr>\n      <th>3</th>\n      <td>2018</td>\n      <td>2017</td>\n      <td>195.0</td>\n      <td>88.0</td>\n      <td>45,13 %</td>\n      <td>58.0</td>\n      <td>29,74 %</td>\n      <td>49.0</td>\n      <td>25,13 %</td>\n      <td>NaN</td>\n      <td>...</td>\n      <td>NaN</td>\n      <td>NaN</td>\n      <td>NaN</td>\n      <td>NaN</td>\n      <td>NaN</td>\n      <td>NaN</td>\n      <td>NaN</td>\n      <td>NaN</td>\n      <td>NaN</td>\n      <td>True</td>\n    </tr>\n    <tr>\n      <th>4</th>\n      <td>2017</td>\n      <td>2016</td>\n      <td>195.0</td>\n      <td>87.0</td>\n      <td>44,62 %</td>\n      <td>59.0</td>\n      <td>30,26 %</td>\n      <td>49.0</td>\n      <td>25,13 %</td>\n      <td>NaN</td>\n      <td>...</td>\n      <td>NaN</td>\n      <td>NaN</td>\n      <td>NaN</td>\n      <td>NaN</td>\n      <td>NaN</td>\n      <td>NaN</td>\n      <td>NaN</td>\n      <td>NaN</td>\n      <td>NaN</td>\n      <td>True</td>\n    </tr>\n  </tbody>\n</table>\n<p>5 rows × 22 columns</p>\n</div>"
     },
     "metadata": {},
     "execution_count": 45
    }
   ],
   "source": [
    "freedom_house73_21_hd.head()"
   ]
  },
  {
   "cell_type": "code",
   "execution_count": 6,
   "metadata": {},
   "outputs": [],
   "source": [
    "continent = c_names_as_index(pd.read_csv('./raw_data/Aggregate_Category_and_Subcategory_Scores_FIW_2003-2021_a.csv', sep=';', skiprows=1), 'Abkhazia')\n",
    "continent = continent.drop(continent.columns[1:], axis=1)\n",
    "continent.loc[:, 'continent cat'] = continent.Eurasia.astype('category').cat.codes\n",
    "continent.index = continent.index.rename('country')"
   ]
  },
  {
   "cell_type": "code",
   "execution_count": 7,
   "metadata": {},
   "outputs": [
    {
     "output_type": "execute_result",
     "data": {
      "text/plain": [
       "               Eurasia  continent cat\n",
       "country                              \n",
       "afghanistan       Asia              1\n",
       "albania         Europe              3\n",
       "algeria           MENA              4\n",
       "andorra         Europe              3\n",
       "angola             SSA              5\n",
       "...                ...            ...\n",
       "vietnam           Asia              1\n",
       "western sahara    MENA              4\n",
       "yemen             MENA              4\n",
       "zambia             SSA              5\n",
       "zimbabwe           SSA              5\n",
       "\n",
       "[3338 rows x 2 columns]"
      ],
      "text/html": "<div>\n<style scoped>\n    .dataframe tbody tr th:only-of-type {\n        vertical-align: middle;\n    }\n\n    .dataframe tbody tr th {\n        vertical-align: top;\n    }\n\n    .dataframe thead th {\n        text-align: right;\n    }\n</style>\n<table border=\"1\" class=\"dataframe\">\n  <thead>\n    <tr style=\"text-align: right;\">\n      <th></th>\n      <th>Eurasia</th>\n      <th>continent cat</th>\n    </tr>\n    <tr>\n      <th>country</th>\n      <th></th>\n      <th></th>\n    </tr>\n  </thead>\n  <tbody>\n    <tr>\n      <th>afghanistan</th>\n      <td>Asia</td>\n      <td>1</td>\n    </tr>\n    <tr>\n      <th>albania</th>\n      <td>Europe</td>\n      <td>3</td>\n    </tr>\n    <tr>\n      <th>algeria</th>\n      <td>MENA</td>\n      <td>4</td>\n    </tr>\n    <tr>\n      <th>andorra</th>\n      <td>Europe</td>\n      <td>3</td>\n    </tr>\n    <tr>\n      <th>angola</th>\n      <td>SSA</td>\n      <td>5</td>\n    </tr>\n    <tr>\n      <th>...</th>\n      <td>...</td>\n      <td>...</td>\n    </tr>\n    <tr>\n      <th>vietnam</th>\n      <td>Asia</td>\n      <td>1</td>\n    </tr>\n    <tr>\n      <th>western sahara</th>\n      <td>MENA</td>\n      <td>4</td>\n    </tr>\n    <tr>\n      <th>yemen</th>\n      <td>MENA</td>\n      <td>4</td>\n    </tr>\n    <tr>\n      <th>zambia</th>\n      <td>SSA</td>\n      <td>5</td>\n    </tr>\n    <tr>\n      <th>zimbabwe</th>\n      <td>SSA</td>\n      <td>5</td>\n    </tr>\n  </tbody>\n</table>\n<p>3338 rows × 2 columns</p>\n</div>"
     },
     "metadata": {},
     "execution_count": 7
    }
   ],
   "source": [
    "continent"
   ]
  },
  {
   "cell_type": "code",
   "execution_count": 48,
   "metadata": {},
   "outputs": [],
   "source": [
    "freedom_house_aggregate06_21 = c_names_as_index(pd.read_csv('./raw_data/Aggregate_Category_and_Subcategory_Scores_FIW_2003-2021_b.csv', sep=';', skiprows=1), 'Abkhazia')"
   ]
  },
  {
   "cell_type": "code",
   "execution_count": 49,
   "metadata": {},
   "outputs": [
    {
     "output_type": "execute_result",
     "data": {
      "text/plain": [
       "             t   9 9.1 9.2  20  21 21.1  29  30 30.1\n",
       "Abkhazia                                            \n",
       "afghanistan  c   8   9  13  15  14   14  23  23   27\n",
       "albania      c  26  26  26  42  42   40  68  68   66\n",
       "algeria      c  11  11  10  22  22   25  33  33   35\n",
       "andorra      c  39  39  39  57  58   58  96  97   97\n",
       "angola       c   8   7   8  22  22   22  30  29   30"
      ],
      "text/html": "<div>\n<style scoped>\n    .dataframe tbody tr th:only-of-type {\n        vertical-align: middle;\n    }\n\n    .dataframe tbody tr th {\n        vertical-align: top;\n    }\n\n    .dataframe thead th {\n        text-align: right;\n    }\n</style>\n<table border=\"1\" class=\"dataframe\">\n  <thead>\n    <tr style=\"text-align: right;\">\n      <th></th>\n      <th>t</th>\n      <th>9</th>\n      <th>9.1</th>\n      <th>9.2</th>\n      <th>20</th>\n      <th>21</th>\n      <th>21.1</th>\n      <th>29</th>\n      <th>30</th>\n      <th>30.1</th>\n    </tr>\n    <tr>\n      <th>Abkhazia</th>\n      <th></th>\n      <th></th>\n      <th></th>\n      <th></th>\n      <th></th>\n      <th></th>\n      <th></th>\n      <th></th>\n      <th></th>\n      <th></th>\n    </tr>\n  </thead>\n  <tbody>\n    <tr>\n      <th>afghanistan</th>\n      <td>c</td>\n      <td>8</td>\n      <td>9</td>\n      <td>13</td>\n      <td>15</td>\n      <td>14</td>\n      <td>14</td>\n      <td>23</td>\n      <td>23</td>\n      <td>27</td>\n    </tr>\n    <tr>\n      <th>albania</th>\n      <td>c</td>\n      <td>26</td>\n      <td>26</td>\n      <td>26</td>\n      <td>42</td>\n      <td>42</td>\n      <td>40</td>\n      <td>68</td>\n      <td>68</td>\n      <td>66</td>\n    </tr>\n    <tr>\n      <th>algeria</th>\n      <td>c</td>\n      <td>11</td>\n      <td>11</td>\n      <td>10</td>\n      <td>22</td>\n      <td>22</td>\n      <td>25</td>\n      <td>33</td>\n      <td>33</td>\n      <td>35</td>\n    </tr>\n    <tr>\n      <th>andorra</th>\n      <td>c</td>\n      <td>39</td>\n      <td>39</td>\n      <td>39</td>\n      <td>57</td>\n      <td>58</td>\n      <td>58</td>\n      <td>96</td>\n      <td>97</td>\n      <td>97</td>\n    </tr>\n    <tr>\n      <th>angola</th>\n      <td>c</td>\n      <td>8</td>\n      <td>7</td>\n      <td>8</td>\n      <td>22</td>\n      <td>22</td>\n      <td>22</td>\n      <td>30</td>\n      <td>29</td>\n      <td>30</td>\n    </tr>\n  </tbody>\n</table>\n</div>"
     },
     "metadata": {},
     "execution_count": 49
    }
   ],
   "source": [
    "freedom_house_aggregate06_21.head()"
   ]
  },
  {
   "cell_type": "code",
   "execution_count": 130,
   "metadata": {},
   "outputs": [],
   "source": [
    "x = c_names_as_index(pd.read_csv('./raw_data/Bjørnskov-Rode-integrated-dataset-v3.2.csv', sep=';'), 'country')"
   ]
  },
  {
   "cell_type": "code",
   "execution_count": null,
   "metadata": {},
   "outputs": [],
   "source": [
    "bjorskov_integrated = c_names_as_index(pd.read_csv('./raw_data/Bjørnskov-Rode-integrated-dataset-v3.2.csv', sep=';'), 'country')\n",
    "bjorskov_integrated.index = pd.MultiIndex.from_tuples(list(zip(\n",
    "    bjorskov_integrated.index,\n",
    "    bjorskov_integrated.year.astype('int')\n",
    ")))\n",
    "bjorskov_integrated.drop(['country isocode', 'year'] + [i for i in bjorskov_integrated if 'Unnamed' in i], axis=1, inplace=True)\n",
    "bjorskov_integrated.index.names = ['country', 'year']"
   ]
  },
  {
   "cell_type": "code",
   "execution_count": 7,
   "metadata": {},
   "outputs": [
    {
     "output_type": "execute_result",
     "data": {
      "text/plain": [
       "                  DD regime         DD category  Monarchy  Commonwealth  \\\n",
       "country     year                                                          \n",
       "afghanistan 1950        5.0  Royal dictatorship       1.0           0.0   \n",
       "            1951        5.0  Royal dictatorship       1.0           0.0   \n",
       "            1952        5.0  Royal dictatorship       1.0           0.0   \n",
       "            1953        5.0  Royal dictatorship       1.0           0.0   \n",
       "            1954        5.0  Royal dictatorship       1.0           0.0   \n",
       "\n",
       "                         Monarch name  Monarch accession  Monarch birthyear  \\\n",
       "country     year                                                              \n",
       "afghanistan 1950  Mohammed Zahir Shah             1933.0             1914.0   \n",
       "            1951  Mohammed Zahir Shah             1933.0             1914.0   \n",
       "            1952  Mohammed Zahir Shah             1933.0             1914.0   \n",
       "            1953  Mohammed Zahir Shah             1933.0             1914.0   \n",
       "            1954  Mohammed Zahir Shah             1933.0             1914.0   \n",
       "\n",
       "                  Female monarch (0: No; 1: Yes)  Democracy  Presidential  \\\n",
       "country     year                                                            \n",
       "afghanistan 1950                             0.0        0.0           0.0   \n",
       "            1951                             0.0        0.0           0.0   \n",
       "            1952                             0.0        0.0           0.0   \n",
       "            1953                             0.0        0.0           0.0   \n",
       "            1954                             0.0        0.0           0.0   \n",
       "\n",
       "                  ... fullsuffrage  Suffrage restriction  electoral  \\\n",
       "country     year  ...                                                 \n",
       "afghanistan 1950  ...          0.0        Male vote only        2.0   \n",
       "            1951  ...          0.0        Male vote only        2.0   \n",
       "            1952  ...          0.0        Male vote only        2.0   \n",
       "            1953  ...          0.0        Male vote only        2.0   \n",
       "            1954  ...          0.0        Male vote only        2.0   \n",
       "\n",
       "                  spatial electoral  alternation  multiparty  \\\n",
       "country     year                                               \n",
       "afghanistan 1950                1,5          0.0         1.0   \n",
       "            1951                1,5          0.0         1.0   \n",
       "            1952               1,75          0.0         1.0   \n",
       "            1953               1,75          0.0         1.0   \n",
       "            1954               1,75          0.0         1.0   \n",
       "\n",
       "                 free and fair election parliamentary election year  \\\n",
       "country     year                                                      \n",
       "afghanistan 1950                    0.0                         0.0   \n",
       "            1951                    0.0                         0.0   \n",
       "            1952                    0.0                         1.0   \n",
       "            1953                    0.0                         0.0   \n",
       "            1954                    0.0                         0.0   \n",
       "\n",
       "                  election month, year  postponed election  \n",
       "country     year                                            \n",
       "afghanistan 1950                   NaN                 0.0  \n",
       "            1951                   NaN                 0.0  \n",
       "            1952         February 1952                 0.0  \n",
       "            1953                   NaN                 0.0  \n",
       "            1954                   NaN                 0.0  \n",
       "\n",
       "[5 rows x 39 columns]"
      ],
      "text/html": "<div>\n<style scoped>\n    .dataframe tbody tr th:only-of-type {\n        vertical-align: middle;\n    }\n\n    .dataframe tbody tr th {\n        vertical-align: top;\n    }\n\n    .dataframe thead th {\n        text-align: right;\n    }\n</style>\n<table border=\"1\" class=\"dataframe\">\n  <thead>\n    <tr style=\"text-align: right;\">\n      <th></th>\n      <th></th>\n      <th>DD regime</th>\n      <th>DD category</th>\n      <th>Monarchy</th>\n      <th>Commonwealth</th>\n      <th>Monarch name</th>\n      <th>Monarch accession</th>\n      <th>Monarch birthyear</th>\n      <th>Female monarch (0: No; 1: Yes)</th>\n      <th>Democracy</th>\n      <th>Presidential</th>\n      <th>...</th>\n      <th>fullsuffrage</th>\n      <th>Suffrage restriction</th>\n      <th>electoral</th>\n      <th>spatial electoral</th>\n      <th>alternation</th>\n      <th>multiparty</th>\n      <th>free and fair election</th>\n      <th>parliamentary election year</th>\n      <th>election month, year</th>\n      <th>postponed election</th>\n    </tr>\n    <tr>\n      <th>country</th>\n      <th>year</th>\n      <th></th>\n      <th></th>\n      <th></th>\n      <th></th>\n      <th></th>\n      <th></th>\n      <th></th>\n      <th></th>\n      <th></th>\n      <th></th>\n      <th></th>\n      <th></th>\n      <th></th>\n      <th></th>\n      <th></th>\n      <th></th>\n      <th></th>\n      <th></th>\n      <th></th>\n      <th></th>\n      <th></th>\n    </tr>\n  </thead>\n  <tbody>\n    <tr>\n      <th rowspan=\"5\" valign=\"top\">afghanistan</th>\n      <th>1950</th>\n      <td>5.0</td>\n      <td>Royal dictatorship</td>\n      <td>1.0</td>\n      <td>0.0</td>\n      <td>Mohammed Zahir Shah</td>\n      <td>1933.0</td>\n      <td>1914.0</td>\n      <td>0.0</td>\n      <td>0.0</td>\n      <td>0.0</td>\n      <td>...</td>\n      <td>0.0</td>\n      <td>Male vote only</td>\n      <td>2.0</td>\n      <td>1,5</td>\n      <td>0.0</td>\n      <td>1.0</td>\n      <td>0.0</td>\n      <td>0.0</td>\n      <td>NaN</td>\n      <td>0.0</td>\n    </tr>\n    <tr>\n      <th>1951</th>\n      <td>5.0</td>\n      <td>Royal dictatorship</td>\n      <td>1.0</td>\n      <td>0.0</td>\n      <td>Mohammed Zahir Shah</td>\n      <td>1933.0</td>\n      <td>1914.0</td>\n      <td>0.0</td>\n      <td>0.0</td>\n      <td>0.0</td>\n      <td>...</td>\n      <td>0.0</td>\n      <td>Male vote only</td>\n      <td>2.0</td>\n      <td>1,5</td>\n      <td>0.0</td>\n      <td>1.0</td>\n      <td>0.0</td>\n      <td>0.0</td>\n      <td>NaN</td>\n      <td>0.0</td>\n    </tr>\n    <tr>\n      <th>1952</th>\n      <td>5.0</td>\n      <td>Royal dictatorship</td>\n      <td>1.0</td>\n      <td>0.0</td>\n      <td>Mohammed Zahir Shah</td>\n      <td>1933.0</td>\n      <td>1914.0</td>\n      <td>0.0</td>\n      <td>0.0</td>\n      <td>0.0</td>\n      <td>...</td>\n      <td>0.0</td>\n      <td>Male vote only</td>\n      <td>2.0</td>\n      <td>1,75</td>\n      <td>0.0</td>\n      <td>1.0</td>\n      <td>0.0</td>\n      <td>1.0</td>\n      <td>February 1952</td>\n      <td>0.0</td>\n    </tr>\n    <tr>\n      <th>1953</th>\n      <td>5.0</td>\n      <td>Royal dictatorship</td>\n      <td>1.0</td>\n      <td>0.0</td>\n      <td>Mohammed Zahir Shah</td>\n      <td>1933.0</td>\n      <td>1914.0</td>\n      <td>0.0</td>\n      <td>0.0</td>\n      <td>0.0</td>\n      <td>...</td>\n      <td>0.0</td>\n      <td>Male vote only</td>\n      <td>2.0</td>\n      <td>1,75</td>\n      <td>0.0</td>\n      <td>1.0</td>\n      <td>0.0</td>\n      <td>0.0</td>\n      <td>NaN</td>\n      <td>0.0</td>\n    </tr>\n    <tr>\n      <th>1954</th>\n      <td>5.0</td>\n      <td>Royal dictatorship</td>\n      <td>1.0</td>\n      <td>0.0</td>\n      <td>Mohammed Zahir Shah</td>\n      <td>1933.0</td>\n      <td>1914.0</td>\n      <td>0.0</td>\n      <td>0.0</td>\n      <td>0.0</td>\n      <td>...</td>\n      <td>0.0</td>\n      <td>Male vote only</td>\n      <td>2.0</td>\n      <td>1,75</td>\n      <td>0.0</td>\n      <td>1.0</td>\n      <td>0.0</td>\n      <td>0.0</td>\n      <td>NaN</td>\n      <td>0.0</td>\n    </tr>\n  </tbody>\n</table>\n<p>5 rows × 39 columns</p>\n</div>"
     },
     "metadata": {},
     "execution_count": 7
    }
   ],
   "source": [
    "bjorskov_integrated.head()"
   ]
  },
  {
   "cell_type": "code",
   "execution_count": 52,
   "metadata": {},
   "outputs": [],
   "source": [
    "bjorskov_integrated_coups = c_names_as_index(pd.read_csv('./raw_data/Bjørnskov-Rode-integrated-dataset-v3.2_coups.csv', sep=';'), 'country')"
   ]
  },
  {
   "cell_type": "code",
   "execution_count": 53,
   "metadata": {},
   "outputs": [
    {
     "output_type": "execute_result",
     "data": {
      "text/plain": [
       "            country isocode  year  DD regime         DD category  Unnamed: 5  \\\n",
       "country                                                                        \n",
       "afghanistan             AFG  1950        5.0  Royal dictatorship         NaN   \n",
       "afghanistan             AFG  1951        5.0  Royal dictatorship         NaN   \n",
       "afghanistan             AFG  1952        5.0  Royal dictatorship         NaN   \n",
       "afghanistan             AFG  1953        5.0  Royal dictatorship         NaN   \n",
       "afghanistan             AFG  1954        5.0  Royal dictatorship         NaN   \n",
       "\n",
       "             Failed coups  Successful coups  All coups  First coup  year.1  \\\n",
       "country                                                                      \n",
       "afghanistan           0.0               0.0        0.0         0.0     NaN   \n",
       "afghanistan           0.0               0.0        0.0         0.0     NaN   \n",
       "afghanistan           0.0               0.0        0.0         0.0     NaN   \n",
       "afghanistan           0.0               0.0        0.0         0.0     NaN   \n",
       "afghanistan           0.0               0.0        0.0         0.0     NaN   \n",
       "\n",
       "             ...  month.2 Type.2  Third coup success  \\\n",
       "country      ...                                       \n",
       "afghanistan  ...      NaN    NaN                 NaN   \n",
       "afghanistan  ...      NaN    NaN                 NaN   \n",
       "afghanistan  ...      NaN    NaN                 NaN   \n",
       "afghanistan  ...      NaN    NaN                 NaN   \n",
       "afghanistan  ...      NaN    NaN                 NaN   \n",
       "\n",
       "             Category type third coup Coup leaders.2  Age of leaders.1  \\\n",
       "country                                                                  \n",
       "afghanistan                       0.0            NaN               NaN   \n",
       "afghanistan                       0.0            NaN               NaN   \n",
       "afghanistan                       0.0            NaN               NaN   \n",
       "afghanistan                       0.0            NaN               NaN   \n",
       "afghanistan                       0.0            NaN               NaN   \n",
       "\n",
       "            Military Rank (Nato code).2  Militaryrankindex.2  \\\n",
       "country                                                        \n",
       "afghanistan                         NaN                  NaN   \n",
       "afghanistan                         NaN                  NaN   \n",
       "afghanistan                         NaN                  NaN   \n",
       "afghanistan                         NaN                  NaN   \n",
       "afghanistan                         NaN                  NaN   \n",
       "\n",
       "             Civilrankindex.2  spatial total coups  \n",
       "country                                             \n",
       "afghanistan               NaN                    0  \n",
       "afghanistan               NaN                 0,25  \n",
       "afghanistan               NaN                    0  \n",
       "afghanistan               NaN                    0  \n",
       "afghanistan               NaN                 0,25  \n",
       "\n",
       "[5 rows x 42 columns]"
      ],
      "text/html": "<div>\n<style scoped>\n    .dataframe tbody tr th:only-of-type {\n        vertical-align: middle;\n    }\n\n    .dataframe tbody tr th {\n        vertical-align: top;\n    }\n\n    .dataframe thead th {\n        text-align: right;\n    }\n</style>\n<table border=\"1\" class=\"dataframe\">\n  <thead>\n    <tr style=\"text-align: right;\">\n      <th></th>\n      <th>country isocode</th>\n      <th>year</th>\n      <th>DD regime</th>\n      <th>DD category</th>\n      <th>Unnamed: 5</th>\n      <th>Failed coups</th>\n      <th>Successful coups</th>\n      <th>All coups</th>\n      <th>First coup</th>\n      <th>year.1</th>\n      <th>...</th>\n      <th>month.2</th>\n      <th>Type.2</th>\n      <th>Third coup success</th>\n      <th>Category type third coup</th>\n      <th>Coup leaders.2</th>\n      <th>Age of leaders.1</th>\n      <th>Military Rank (Nato code).2</th>\n      <th>Militaryrankindex.2</th>\n      <th>Civilrankindex.2</th>\n      <th>spatial total coups</th>\n    </tr>\n    <tr>\n      <th>country</th>\n      <th></th>\n      <th></th>\n      <th></th>\n      <th></th>\n      <th></th>\n      <th></th>\n      <th></th>\n      <th></th>\n      <th></th>\n      <th></th>\n      <th></th>\n      <th></th>\n      <th></th>\n      <th></th>\n      <th></th>\n      <th></th>\n      <th></th>\n      <th></th>\n      <th></th>\n      <th></th>\n      <th></th>\n    </tr>\n  </thead>\n  <tbody>\n    <tr>\n      <th>afghanistan</th>\n      <td>AFG</td>\n      <td>1950</td>\n      <td>5.0</td>\n      <td>Royal dictatorship</td>\n      <td>NaN</td>\n      <td>0.0</td>\n      <td>0.0</td>\n      <td>0.0</td>\n      <td>0.0</td>\n      <td>NaN</td>\n      <td>...</td>\n      <td>NaN</td>\n      <td>NaN</td>\n      <td>NaN</td>\n      <td>0.0</td>\n      <td>NaN</td>\n      <td>NaN</td>\n      <td>NaN</td>\n      <td>NaN</td>\n      <td>NaN</td>\n      <td>0</td>\n    </tr>\n    <tr>\n      <th>afghanistan</th>\n      <td>AFG</td>\n      <td>1951</td>\n      <td>5.0</td>\n      <td>Royal dictatorship</td>\n      <td>NaN</td>\n      <td>0.0</td>\n      <td>0.0</td>\n      <td>0.0</td>\n      <td>0.0</td>\n      <td>NaN</td>\n      <td>...</td>\n      <td>NaN</td>\n      <td>NaN</td>\n      <td>NaN</td>\n      <td>0.0</td>\n      <td>NaN</td>\n      <td>NaN</td>\n      <td>NaN</td>\n      <td>NaN</td>\n      <td>NaN</td>\n      <td>0,25</td>\n    </tr>\n    <tr>\n      <th>afghanistan</th>\n      <td>AFG</td>\n      <td>1952</td>\n      <td>5.0</td>\n      <td>Royal dictatorship</td>\n      <td>NaN</td>\n      <td>0.0</td>\n      <td>0.0</td>\n      <td>0.0</td>\n      <td>0.0</td>\n      <td>NaN</td>\n      <td>...</td>\n      <td>NaN</td>\n      <td>NaN</td>\n      <td>NaN</td>\n      <td>0.0</td>\n      <td>NaN</td>\n      <td>NaN</td>\n      <td>NaN</td>\n      <td>NaN</td>\n      <td>NaN</td>\n      <td>0</td>\n    </tr>\n    <tr>\n      <th>afghanistan</th>\n      <td>AFG</td>\n      <td>1953</td>\n      <td>5.0</td>\n      <td>Royal dictatorship</td>\n      <td>NaN</td>\n      <td>0.0</td>\n      <td>0.0</td>\n      <td>0.0</td>\n      <td>0.0</td>\n      <td>NaN</td>\n      <td>...</td>\n      <td>NaN</td>\n      <td>NaN</td>\n      <td>NaN</td>\n      <td>0.0</td>\n      <td>NaN</td>\n      <td>NaN</td>\n      <td>NaN</td>\n      <td>NaN</td>\n      <td>NaN</td>\n      <td>0</td>\n    </tr>\n    <tr>\n      <th>afghanistan</th>\n      <td>AFG</td>\n      <td>1954</td>\n      <td>5.0</td>\n      <td>Royal dictatorship</td>\n      <td>NaN</td>\n      <td>0.0</td>\n      <td>0.0</td>\n      <td>0.0</td>\n      <td>0.0</td>\n      <td>NaN</td>\n      <td>...</td>\n      <td>NaN</td>\n      <td>NaN</td>\n      <td>NaN</td>\n      <td>0.0</td>\n      <td>NaN</td>\n      <td>NaN</td>\n      <td>NaN</td>\n      <td>NaN</td>\n      <td>NaN</td>\n      <td>0,25</td>\n    </tr>\n  </tbody>\n</table>\n<p>5 rows × 42 columns</p>\n</div>"
     },
     "metadata": {},
     "execution_count": 53
    }
   ],
   "source": [
    "bjorskov_integrated_coups.head()"
   ]
  },
  {
   "cell_type": "code",
   "execution_count": 54,
   "metadata": {},
   "outputs": [],
   "source": [
    "bjorskov_integrated_colonial_institutions = c_names_as_index(pd.read_csv('./raw_data/Bjørnskov-Rode-integrated-dataset-v3.2_colonial_institutions.csv', sep=';'), 'country')"
   ]
  },
  {
   "cell_type": "code",
   "execution_count": 55,
   "metadata": {},
   "outputs": [
    {
     "output_type": "execute_result",
     "data": {
      "text/plain": [
       "            country isocode  year  DD regime         DD category  Democracy  \\\n",
       "country                                                                       \n",
       "afghanistan             AFG  1950        5.0  Royal dictatorship        0.0   \n",
       "afghanistan             AFG  1951        5.0  Royal dictatorship        0.0   \n",
       "afghanistan             AFG  1952        5.0  Royal dictatorship        0.0   \n",
       "afghanistan             AFG  1953        5.0  Royal dictatorship        0.0   \n",
       "afghanistan             AFG  1954        5.0  Royal dictatorship        0.0   \n",
       "\n",
       "             Presidential  countrycode  No. of chambers in parliament  \\\n",
       "country                                                                 \n",
       "afghanistan           0.0          1.0                            2.0   \n",
       "afghanistan           0.0          1.0                            2.0   \n",
       "afghanistan           0.0          1.0                            2.0   \n",
       "afghanistan           0.0          1.0                            2.0   \n",
       "afghanistan           0.0          1.0                            2.0   \n",
       "\n",
       "             proportional voting Election system  ...  \\\n",
       "country                                           ...   \n",
       "afghanistan                  0.0             NaN  ...   \n",
       "afghanistan                  0.0             NaN  ...   \n",
       "afghanistan                  0.0             NaN  ...   \n",
       "afghanistan                  0.0             NaN  ...   \n",
       "afghanistan                  NaN             NaN  ...   \n",
       "\n",
       "             No. of members in upper house No. of members in third house  \\\n",
       "country                                                                    \n",
       "afghanistan                            NaN                           NaN   \n",
       "afghanistan                            NaN                           NaN   \n",
       "afghanistan                            NaN                           NaN   \n",
       "afghanistan                            NaN                           NaN   \n",
       "afghanistan                            NaN                           NaN   \n",
       "\n",
       "             New constitution  fullsuffrage  Suffrage restriction electoral  \\\n",
       "country                                                                       \n",
       "afghanistan               0.0           0.0        Male vote only       2.0   \n",
       "afghanistan               0.0           0.0        Male vote only       2.0   \n",
       "afghanistan               0.0           0.0        Male vote only       2.0   \n",
       "afghanistan               0.0           0.0        Male vote only       2.0   \n",
       "afghanistan               0.0           0.0        Male vote only       2.0   \n",
       "\n",
       "             Details Unnamed: 19 Unnamed: 20  Self-governing  \n",
       "country                                                       \n",
       "afghanistan      NaN         NaN         NaN             NaN  \n",
       "afghanistan      NaN         NaN         NaN             NaN  \n",
       "afghanistan      NaN         NaN         NaN             NaN  \n",
       "afghanistan      NaN         NaN         NaN             NaN  \n",
       "afghanistan      NaN         NaN         NaN             NaN  \n",
       "\n",
       "[5 rows x 21 columns]"
      ],
      "text/html": "<div>\n<style scoped>\n    .dataframe tbody tr th:only-of-type {\n        vertical-align: middle;\n    }\n\n    .dataframe tbody tr th {\n        vertical-align: top;\n    }\n\n    .dataframe thead th {\n        text-align: right;\n    }\n</style>\n<table border=\"1\" class=\"dataframe\">\n  <thead>\n    <tr style=\"text-align: right;\">\n      <th></th>\n      <th>country isocode</th>\n      <th>year</th>\n      <th>DD regime</th>\n      <th>DD category</th>\n      <th>Democracy</th>\n      <th>Presidential</th>\n      <th>countrycode</th>\n      <th>No. of chambers in parliament</th>\n      <th>proportional voting</th>\n      <th>Election system</th>\n      <th>...</th>\n      <th>No. of members in upper house</th>\n      <th>No. of members in third house</th>\n      <th>New constitution</th>\n      <th>fullsuffrage</th>\n      <th>Suffrage restriction</th>\n      <th>electoral</th>\n      <th>Details</th>\n      <th>Unnamed: 19</th>\n      <th>Unnamed: 20</th>\n      <th>Self-governing</th>\n    </tr>\n    <tr>\n      <th>country</th>\n      <th></th>\n      <th></th>\n      <th></th>\n      <th></th>\n      <th></th>\n      <th></th>\n      <th></th>\n      <th></th>\n      <th></th>\n      <th></th>\n      <th></th>\n      <th></th>\n      <th></th>\n      <th></th>\n      <th></th>\n      <th></th>\n      <th></th>\n      <th></th>\n      <th></th>\n      <th></th>\n      <th></th>\n    </tr>\n  </thead>\n  <tbody>\n    <tr>\n      <th>afghanistan</th>\n      <td>AFG</td>\n      <td>1950</td>\n      <td>5.0</td>\n      <td>Royal dictatorship</td>\n      <td>0.0</td>\n      <td>0.0</td>\n      <td>1.0</td>\n      <td>2.0</td>\n      <td>0.0</td>\n      <td>NaN</td>\n      <td>...</td>\n      <td>NaN</td>\n      <td>NaN</td>\n      <td>0.0</td>\n      <td>0.0</td>\n      <td>Male vote only</td>\n      <td>2.0</td>\n      <td>NaN</td>\n      <td>NaN</td>\n      <td>NaN</td>\n      <td>NaN</td>\n    </tr>\n    <tr>\n      <th>afghanistan</th>\n      <td>AFG</td>\n      <td>1951</td>\n      <td>5.0</td>\n      <td>Royal dictatorship</td>\n      <td>0.0</td>\n      <td>0.0</td>\n      <td>1.0</td>\n      <td>2.0</td>\n      <td>0.0</td>\n      <td>NaN</td>\n      <td>...</td>\n      <td>NaN</td>\n      <td>NaN</td>\n      <td>0.0</td>\n      <td>0.0</td>\n      <td>Male vote only</td>\n      <td>2.0</td>\n      <td>NaN</td>\n      <td>NaN</td>\n      <td>NaN</td>\n      <td>NaN</td>\n    </tr>\n    <tr>\n      <th>afghanistan</th>\n      <td>AFG</td>\n      <td>1952</td>\n      <td>5.0</td>\n      <td>Royal dictatorship</td>\n      <td>0.0</td>\n      <td>0.0</td>\n      <td>1.0</td>\n      <td>2.0</td>\n      <td>0.0</td>\n      <td>NaN</td>\n      <td>...</td>\n      <td>NaN</td>\n      <td>NaN</td>\n      <td>0.0</td>\n      <td>0.0</td>\n      <td>Male vote only</td>\n      <td>2.0</td>\n      <td>NaN</td>\n      <td>NaN</td>\n      <td>NaN</td>\n      <td>NaN</td>\n    </tr>\n    <tr>\n      <th>afghanistan</th>\n      <td>AFG</td>\n      <td>1953</td>\n      <td>5.0</td>\n      <td>Royal dictatorship</td>\n      <td>0.0</td>\n      <td>0.0</td>\n      <td>1.0</td>\n      <td>2.0</td>\n      <td>0.0</td>\n      <td>NaN</td>\n      <td>...</td>\n      <td>NaN</td>\n      <td>NaN</td>\n      <td>0.0</td>\n      <td>0.0</td>\n      <td>Male vote only</td>\n      <td>2.0</td>\n      <td>NaN</td>\n      <td>NaN</td>\n      <td>NaN</td>\n      <td>NaN</td>\n    </tr>\n    <tr>\n      <th>afghanistan</th>\n      <td>AFG</td>\n      <td>1954</td>\n      <td>5.0</td>\n      <td>Royal dictatorship</td>\n      <td>0.0</td>\n      <td>0.0</td>\n      <td>1.0</td>\n      <td>2.0</td>\n      <td>NaN</td>\n      <td>NaN</td>\n      <td>...</td>\n      <td>NaN</td>\n      <td>NaN</td>\n      <td>0.0</td>\n      <td>0.0</td>\n      <td>Male vote only</td>\n      <td>2.0</td>\n      <td>NaN</td>\n      <td>NaN</td>\n      <td>NaN</td>\n      <td>NaN</td>\n    </tr>\n  </tbody>\n</table>\n<p>5 rows × 21 columns</p>\n</div>"
     },
     "metadata": {},
     "execution_count": 55
    }
   ],
   "source": [
    "bjorskov_integrated_colonial_institutions.head()"
   ]
  },
  {
   "cell_type": "code",
   "execution_count": 21,
   "metadata": {},
   "outputs": [],
   "source": [
    "OECD_union = c_names_as_index(pd.read_csv('./raw_data/TUD_21032021172006040.csv', sep=','), 'Country')\n",
    "OECD_union.drop(OECD_union.columns[:4], inplace=True, axis=1)\n",
    "OECD_union.drop(OECD_union.columns[1], inplace=True, axis=1)\n",
    "OECD_union.drop(OECD_union.columns[2:8], inplace=True, axis=1)\n",
    "OECD_union.drop(OECD_union.columns[3:], inplace=True, axis=1)\n",
    "OECD_union['id'] = OECD_union.index\n",
    "OECD_union.drop_duplicates(['Series', 'Year', 'id'], inplace=True)\n",
    "OECD_union.drop(['id'], axis=1, inplace=True)"
   ]
  },
  {
   "cell_type": "code",
   "execution_count": 22,
   "metadata": {
    "tags": []
   },
   "outputs": [],
   "source": [
    "_df = pd.DataFrame(columns=OECD_union.Series.unique(), index=pd.MultiIndex.from_tuples(list(zip(\n",
    "    np.repeat(OECD_union.index.unique(), len(OECD_union.Year.unique())), \n",
    "    sorted(OECD_union.Year.unique().astype('int')) * len(OECD_union.Year.unique())\n",
    "))))\n",
    "\n",
    "for i in _df.index:\n",
    "    for j in _df.columns:\n",
    "        val = OECD_union.loc[i[0]][(OECD_union.loc[i[0]].Year == i[1]) & (OECD_union.loc[i[0]].Series.str.match(j))].Value\n",
    "        _df.loc[i, j] = int(val) if not val.empty else np.nan\n",
    "OECD_union = _df\n",
    "OECD_union.index.names = ['country', 'year']"
   ]
  },
  {
   "cell_type": "code",
   "execution_count": 58,
   "metadata": {},
   "outputs": [
    {
     "output_type": "execute_result",
     "data": {
      "text/plain": [
       "             Employees Union members Trade union  density\n",
       "country year                                             \n",
       "hungary 1998      3088           840                   27\n",
       "        1999       NaN           NaN                  NaN\n",
       "        2000      3256           775                   23\n",
       "        2001      3314           654                   19\n",
       "        2002       NaN           NaN                  NaN"
      ],
      "text/html": "<div>\n<style scoped>\n    .dataframe tbody tr th:only-of-type {\n        vertical-align: middle;\n    }\n\n    .dataframe tbody tr th {\n        vertical-align: top;\n    }\n\n    .dataframe thead th {\n        text-align: right;\n    }\n</style>\n<table border=\"1\" class=\"dataframe\">\n  <thead>\n    <tr style=\"text-align: right;\">\n      <th></th>\n      <th></th>\n      <th>Employees</th>\n      <th>Union members</th>\n      <th>Trade union  density</th>\n    </tr>\n    <tr>\n      <th>country</th>\n      <th>year</th>\n      <th></th>\n      <th></th>\n      <th></th>\n    </tr>\n  </thead>\n  <tbody>\n    <tr>\n      <th rowspan=\"5\" valign=\"top\">hungary</th>\n      <th>1998</th>\n      <td>3088</td>\n      <td>840</td>\n      <td>27</td>\n    </tr>\n    <tr>\n      <th>1999</th>\n      <td>NaN</td>\n      <td>NaN</td>\n      <td>NaN</td>\n    </tr>\n    <tr>\n      <th>2000</th>\n      <td>3256</td>\n      <td>775</td>\n      <td>23</td>\n    </tr>\n    <tr>\n      <th>2001</th>\n      <td>3314</td>\n      <td>654</td>\n      <td>19</td>\n    </tr>\n    <tr>\n      <th>2002</th>\n      <td>NaN</td>\n      <td>NaN</td>\n      <td>NaN</td>\n    </tr>\n  </tbody>\n</table>\n</div>"
     },
     "metadata": {},
     "execution_count": 58
    }
   ],
   "source": [
    "OECD_union.head()"
   ]
  },
  {
   "cell_type": "code",
   "execution_count": null,
   "metadata": {},
   "outputs": [],
   "source": [
    "WB_civil_soc_participation = c_names_as_index(pd.read_csv('./raw_data/worldbank_civil_society_participation.csv', sep=','), 'Country Name')"
   ]
  },
  {
   "cell_type": "code",
   "execution_count": null,
   "metadata": {},
   "outputs": [],
   "source": [
    "WB_civil_soc_participation.index = pd.MultiIndex.from_tuples(list(zip(\n",
    "    WB_civil_soc_participation.index, \n",
    "    WB_civil_soc_participation.loc[:, 'Indicator'])))\n",
    "WB_civil_soc_participation.drop(['Country ISO3', 'Indicator Id', 'Indicator', 'Subindicator Type'], axis=1, inplace=True)\n",
    "WB_civil_soc_participation.index.names = ['country', 'year']"
   ]
  },
  {
   "cell_type": "code",
   "execution_count": null,
   "metadata": {
    "tags": []
   },
   "outputs": [],
   "source": [
    "_df = pd.DataFrame(columns=WB_civil_soc_participation.index.get_level_values(1).unique(), \\\n",
    "    index=pd.MultiIndex.from_tuples(\\\n",
    "        list(zip(np.repeat(WB_civil_soc_participation.index.get_level_values(0).unique(), \n",
    "        len(WB_civil_soc_participation.columns)),\\\n",
    "            len(WB_civil_soc_participation.index.get_level_values(0).unique()) * list(WB_civil_soc_participation.columns.astype('int'))))))\n",
    "for i in _df.index:\n",
    "    for j in _df.columns:\n",
    "        try:\n",
    "            _df.loc[i, j] = WB_civil_soc_participation.loc[(i[0], j), str(i[1])]\n",
    "        except:\n",
    "            _df.loc[i, j] = np.nan\n",
    "WB_civil_soc_participation = _df\n",
    "WB_civil_soc_participation.index.names = ['country', 'year']"
   ]
  },
  {
   "cell_type": "code",
   "execution_count": 24,
   "metadata": {},
   "outputs": [
    {
     "output_type": "execute_result",
     "data": {
      "text/plain": [
       "year             Anticorruption policy Civil rights  \\\n",
       "country     year                                      \n",
       "afghanistan 2006                   1.0          2.0   \n",
       "            2008                   1.0          3.0   \n",
       "            2010                   1.0          2.0   \n",
       "            2012                   1.0          2.0   \n",
       "            2014                   1.0          2.0   \n",
       "...                                ...          ...   \n",
       "zimbabwe    2010                   1.0          2.0   \n",
       "            2012                   1.0          2.0   \n",
       "            2014                   3.0          3.0   \n",
       "            2016                   2.0          4.0   \n",
       "            2018                   2.0          3.0   \n",
       "\n",
       "year             Civil society participation Civil society traditions  \\\n",
       "country     year                                                        \n",
       "afghanistan 2006                         4.0                     10.0   \n",
       "            2008                         4.0                     10.0   \n",
       "            2010                         3.0                     10.0   \n",
       "            2012                         3.0                     10.0   \n",
       "            2014                         3.0                     10.0   \n",
       "...                                      ...                      ...   \n",
       "zimbabwe    2010                         1.0                      7.0   \n",
       "            2012                         2.0                      7.0   \n",
       "            2014                         3.0                      6.0   \n",
       "            2016                         4.0                      6.0   \n",
       "            2018                         2.0                      6.0   \n",
       "\n",
       "year             Cleavage conflict management  \\\n",
       "country     year                                \n",
       "afghanistan 2006                          4.0   \n",
       "            2008                          4.0   \n",
       "            2010                          4.0   \n",
       "            2012                          4.0   \n",
       "            2014                          4.0   \n",
       "...                                       ...   \n",
       "zimbabwe    2010                          1.0   \n",
       "            2012                          2.0   \n",
       "            2014                          2.0   \n",
       "            2016                          3.0   \n",
       "            2018                          3.0   \n",
       "\n",
       "year             Commitment to democratic institutions Conflict intensity  \\\n",
       "country     year                                                            \n",
       "afghanistan 2006                                   3.0                9.0   \n",
       "            2008                                   3.0                9.0   \n",
       "            2010                                   3.0               10.0   \n",
       "            2012                                   3.0               10.0   \n",
       "            2014                                   3.0                9.0   \n",
       "...                                                ...                ...   \n",
       "zimbabwe    2010                                   2.0                6.0   \n",
       "            2012                                   3.0                7.0   \n",
       "            2014                                   3.0                7.0   \n",
       "            2016                                   3.0                5.0   \n",
       "            2018                                   2.0                6.0   \n",
       "\n",
       "year             Consensus on goals Antidemocratic actors  \\\n",
       "country     year                                            \n",
       "afghanistan 2006                3.0                   5.0   \n",
       "            2008                3.0                   4.0   \n",
       "            2010                3.0                   4.0   \n",
       "            2012                3.0                   3.0   \n",
       "            2014                3.0                   4.0   \n",
       "...                             ...                   ...   \n",
       "zimbabwe    2010                3.0                   3.0   \n",
       "            2012                4.0                   3.0   \n",
       "            2014                4.0                   4.0   \n",
       "            2016                3.0                   2.0   \n",
       "            2018                3.0                   2.0   \n",
       "\n",
       "year             Education policy R&D  ... Social capital Social safety nets  \\\n",
       "country     year                       ...                                     \n",
       "afghanistan 2006                  1.0  ...            4.0                1.0   \n",
       "            2008                  1.0  ...            4.0                1.0   \n",
       "            2010                  1.0  ...            2.0                1.0   \n",
       "            2012                  1.0  ...            2.0                1.0   \n",
       "            2014                  2.0  ...            2.0                1.0   \n",
       "...                               ...  ...            ...                ...   \n",
       "zimbabwe    2010                  3.0  ...            5.0                2.0   \n",
       "            2012                  4.0  ...            5.0                2.0   \n",
       "            2014                  4.0  ...            4.0                3.0   \n",
       "            2016                  4.0  ...            4.0                3.0   \n",
       "            2018                  4.0  ...            4.0                3.0   \n",
       "\n",
       "year             Socioeconomic barriers Stability of Democratic Institutions  \\\n",
       "country     year                                                               \n",
       "afghanistan 2006                    1.0                                  3.0   \n",
       "            2008                    1.0                                  3.0   \n",
       "            2010                    1.0                                  3.0   \n",
       "            2012                    1.0                                  3.0   \n",
       "            2014                    1.0                                  3.0   \n",
       "...                                 ...                                  ...   \n",
       "zimbabwe    2010                    2.0                                  2.0   \n",
       "            2012                    3.0                                  3.0   \n",
       "            2014                    3.0                                  3.0   \n",
       "            2016                    3.0                                  3.0   \n",
       "            2018                    2.0                                  2.5   \n",
       "\n",
       "year             State identity Basic administration Steering Capability  \\\n",
       "country     year                                                           \n",
       "afghanistan 2006            6.0                  2.0            4.333333   \n",
       "            2008            6.0                  2.0            4.333333   \n",
       "            2010            6.0                  1.0                 3.0   \n",
       "            2012            6.0                  2.0                 3.0   \n",
       "            2014            6.0                  2.0                 3.0   \n",
       "...                         ...                  ...                 ...   \n",
       "zimbabwe    2010            9.0                  4.0            1.333333   \n",
       "            2012            9.0                  5.0            2.333333   \n",
       "            2014            7.0                  5.0            3.333333   \n",
       "            2016            7.0                  5.0            2.666667   \n",
       "            2018            7.0                  4.0            2.333333   \n",
       "\n",
       "year             Structural constraints Welfare Regime Approval of democracy  \n",
       "country     year                                                              \n",
       "afghanistan 2006                   10.0            1.0                   NaN  \n",
       "            2008                   10.0            1.5                   NaN  \n",
       "            2010                   10.0            1.5                   NaN  \n",
       "            2012                   10.0            1.5                   NaN  \n",
       "            2014                   10.0            1.5                   NaN  \n",
       "...                                 ...            ...                   ...  \n",
       "zimbabwe    2010                    7.0            2.5                   NaN  \n",
       "            2012                    7.0            2.5                   NaN  \n",
       "            2014                    7.0            3.0                   NaN  \n",
       "            2016                    7.0            3.0                   NaN  \n",
       "            2018                    7.0            3.0                   NaN  \n",
       "\n",
       "[896 rows x 45 columns]"
      ],
      "text/html": "<div>\n<style scoped>\n    .dataframe tbody tr th:only-of-type {\n        vertical-align: middle;\n    }\n\n    .dataframe tbody tr th {\n        vertical-align: top;\n    }\n\n    .dataframe thead th {\n        text-align: right;\n    }\n</style>\n<table border=\"1\" class=\"dataframe\">\n  <thead>\n    <tr style=\"text-align: right;\">\n      <th></th>\n      <th>year</th>\n      <th>Anticorruption policy</th>\n      <th>Civil rights</th>\n      <th>Civil society participation</th>\n      <th>Civil society traditions</th>\n      <th>Cleavage conflict management</th>\n      <th>Commitment to democratic institutions</th>\n      <th>Conflict intensity</th>\n      <th>Consensus on goals</th>\n      <th>Antidemocratic actors</th>\n      <th>Education policy R&amp;D</th>\n      <th>...</th>\n      <th>Social capital</th>\n      <th>Social safety nets</th>\n      <th>Socioeconomic barriers</th>\n      <th>Stability of Democratic Institutions</th>\n      <th>State identity</th>\n      <th>Basic administration</th>\n      <th>Steering Capability</th>\n      <th>Structural constraints</th>\n      <th>Welfare Regime</th>\n      <th>Approval of democracy</th>\n    </tr>\n    <tr>\n      <th>country</th>\n      <th>year</th>\n      <th></th>\n      <th></th>\n      <th></th>\n      <th></th>\n      <th></th>\n      <th></th>\n      <th></th>\n      <th></th>\n      <th></th>\n      <th></th>\n      <th></th>\n      <th></th>\n      <th></th>\n      <th></th>\n      <th></th>\n      <th></th>\n      <th></th>\n      <th></th>\n      <th></th>\n      <th></th>\n      <th></th>\n    </tr>\n  </thead>\n  <tbody>\n    <tr>\n      <th rowspan=\"5\" valign=\"top\">afghanistan</th>\n      <th>2006</th>\n      <td>1.0</td>\n      <td>2.0</td>\n      <td>4.0</td>\n      <td>10.0</td>\n      <td>4.0</td>\n      <td>3.0</td>\n      <td>9.0</td>\n      <td>3.0</td>\n      <td>5.0</td>\n      <td>1.0</td>\n      <td>...</td>\n      <td>4.0</td>\n      <td>1.0</td>\n      <td>1.0</td>\n      <td>3.0</td>\n      <td>6.0</td>\n      <td>2.0</td>\n      <td>4.333333</td>\n      <td>10.0</td>\n      <td>1.0</td>\n      <td>NaN</td>\n    </tr>\n    <tr>\n      <th>2008</th>\n      <td>1.0</td>\n      <td>3.0</td>\n      <td>4.0</td>\n      <td>10.0</td>\n      <td>4.0</td>\n      <td>3.0</td>\n      <td>9.0</td>\n      <td>3.0</td>\n      <td>4.0</td>\n      <td>1.0</td>\n      <td>...</td>\n      <td>4.0</td>\n      <td>1.0</td>\n      <td>1.0</td>\n      <td>3.0</td>\n      <td>6.0</td>\n      <td>2.0</td>\n      <td>4.333333</td>\n      <td>10.0</td>\n      <td>1.5</td>\n      <td>NaN</td>\n    </tr>\n    <tr>\n      <th>2010</th>\n      <td>1.0</td>\n      <td>2.0</td>\n      <td>3.0</td>\n      <td>10.0</td>\n      <td>4.0</td>\n      <td>3.0</td>\n      <td>10.0</td>\n      <td>3.0</td>\n      <td>4.0</td>\n      <td>1.0</td>\n      <td>...</td>\n      <td>2.0</td>\n      <td>1.0</td>\n      <td>1.0</td>\n      <td>3.0</td>\n      <td>6.0</td>\n      <td>1.0</td>\n      <td>3.0</td>\n      <td>10.0</td>\n      <td>1.5</td>\n      <td>NaN</td>\n    </tr>\n    <tr>\n      <th>2012</th>\n      <td>1.0</td>\n      <td>2.0</td>\n      <td>3.0</td>\n      <td>10.0</td>\n      <td>4.0</td>\n      <td>3.0</td>\n      <td>10.0</td>\n      <td>3.0</td>\n      <td>3.0</td>\n      <td>1.0</td>\n      <td>...</td>\n      <td>2.0</td>\n      <td>1.0</td>\n      <td>1.0</td>\n      <td>3.0</td>\n      <td>6.0</td>\n      <td>2.0</td>\n      <td>3.0</td>\n      <td>10.0</td>\n      <td>1.5</td>\n      <td>NaN</td>\n    </tr>\n    <tr>\n      <th>2014</th>\n      <td>1.0</td>\n      <td>2.0</td>\n      <td>3.0</td>\n      <td>10.0</td>\n      <td>4.0</td>\n      <td>3.0</td>\n      <td>9.0</td>\n      <td>3.0</td>\n      <td>4.0</td>\n      <td>2.0</td>\n      <td>...</td>\n      <td>2.0</td>\n      <td>1.0</td>\n      <td>1.0</td>\n      <td>3.0</td>\n      <td>6.0</td>\n      <td>2.0</td>\n      <td>3.0</td>\n      <td>10.0</td>\n      <td>1.5</td>\n      <td>NaN</td>\n    </tr>\n    <tr>\n      <th>...</th>\n      <th>...</th>\n      <td>...</td>\n      <td>...</td>\n      <td>...</td>\n      <td>...</td>\n      <td>...</td>\n      <td>...</td>\n      <td>...</td>\n      <td>...</td>\n      <td>...</td>\n      <td>...</td>\n      <td>...</td>\n      <td>...</td>\n      <td>...</td>\n      <td>...</td>\n      <td>...</td>\n      <td>...</td>\n      <td>...</td>\n      <td>...</td>\n      <td>...</td>\n      <td>...</td>\n      <td>...</td>\n    </tr>\n    <tr>\n      <th rowspan=\"5\" valign=\"top\">zimbabwe</th>\n      <th>2010</th>\n      <td>1.0</td>\n      <td>2.0</td>\n      <td>1.0</td>\n      <td>7.0</td>\n      <td>1.0</td>\n      <td>2.0</td>\n      <td>6.0</td>\n      <td>3.0</td>\n      <td>3.0</td>\n      <td>3.0</td>\n      <td>...</td>\n      <td>5.0</td>\n      <td>2.0</td>\n      <td>2.0</td>\n      <td>2.0</td>\n      <td>9.0</td>\n      <td>4.0</td>\n      <td>1.333333</td>\n      <td>7.0</td>\n      <td>2.5</td>\n      <td>NaN</td>\n    </tr>\n    <tr>\n      <th>2012</th>\n      <td>1.0</td>\n      <td>2.0</td>\n      <td>2.0</td>\n      <td>7.0</td>\n      <td>2.0</td>\n      <td>3.0</td>\n      <td>7.0</td>\n      <td>4.0</td>\n      <td>3.0</td>\n      <td>4.0</td>\n      <td>...</td>\n      <td>5.0</td>\n      <td>2.0</td>\n      <td>3.0</td>\n      <td>3.0</td>\n      <td>9.0</td>\n      <td>5.0</td>\n      <td>2.333333</td>\n      <td>7.0</td>\n      <td>2.5</td>\n      <td>NaN</td>\n    </tr>\n    <tr>\n      <th>2014</th>\n      <td>3.0</td>\n      <td>3.0</td>\n      <td>3.0</td>\n      <td>6.0</td>\n      <td>2.0</td>\n      <td>3.0</td>\n      <td>7.0</td>\n      <td>4.0</td>\n      <td>4.0</td>\n      <td>4.0</td>\n      <td>...</td>\n      <td>4.0</td>\n      <td>3.0</td>\n      <td>3.0</td>\n      <td>3.0</td>\n      <td>7.0</td>\n      <td>5.0</td>\n      <td>3.333333</td>\n      <td>7.0</td>\n      <td>3.0</td>\n      <td>NaN</td>\n    </tr>\n    <tr>\n      <th>2016</th>\n      <td>2.0</td>\n      <td>4.0</td>\n      <td>4.0</td>\n      <td>6.0</td>\n      <td>3.0</td>\n      <td>3.0</td>\n      <td>5.0</td>\n      <td>3.0</td>\n      <td>2.0</td>\n      <td>4.0</td>\n      <td>...</td>\n      <td>4.0</td>\n      <td>3.0</td>\n      <td>3.0</td>\n      <td>3.0</td>\n      <td>7.0</td>\n      <td>5.0</td>\n      <td>2.666667</td>\n      <td>7.0</td>\n      <td>3.0</td>\n      <td>NaN</td>\n    </tr>\n    <tr>\n      <th>2018</th>\n      <td>2.0</td>\n      <td>3.0</td>\n      <td>2.0</td>\n      <td>6.0</td>\n      <td>3.0</td>\n      <td>2.0</td>\n      <td>6.0</td>\n      <td>3.0</td>\n      <td>2.0</td>\n      <td>4.0</td>\n      <td>...</td>\n      <td>4.0</td>\n      <td>3.0</td>\n      <td>2.0</td>\n      <td>2.5</td>\n      <td>7.0</td>\n      <td>4.0</td>\n      <td>2.333333</td>\n      <td>7.0</td>\n      <td>3.0</td>\n      <td>NaN</td>\n    </tr>\n  </tbody>\n</table>\n<p>896 rows × 45 columns</p>\n</div>"
     },
     "metadata": {},
     "execution_count": 24
    }
   ],
   "source": [
    "WB_civil_soc_participation"
   ]
  },
  {
   "cell_type": "code",
   "execution_count": 16,
   "metadata": {},
   "outputs": [],
   "source": [
    "gdp = c_names_as_index(pd.read_csv('./raw_data/gdp-per-capita-worldbank.csv', sep=','), 'Entity')\n",
    "gdp = gdp.rename(columns={gdp.columns[-1]: 'gdp'})\n",
    "gdp.index = pd.MultiIndex.from_tuples(list(zip(gdp.index, gdp.Year)))\n",
    "gdp.index = gdp.index.set_names(['country', 'year'])\n",
    "gdp.drop(['Code', 'Year'], axis=1 ,inplace=True)"
   ]
  },
  {
   "cell_type": "code",
   "execution_count": 7,
   "metadata": {},
   "outputs": [
    {
     "output_type": "execute_result",
     "data": {
      "text/plain": [
       "Int64Index([2002, 2003, 2004, 2005, 2006, 2007, 2008, 2009, 2010, 2011, 2012,\n",
       "            2013, 2014, 2015, 2016, 2017, 1990, 1991, 1992, 1993, 1994, 1995,\n",
       "            1996, 1997, 1998, 1999, 2000, 2001],\n",
       "           dtype='int64', name='year')"
      ]
     },
     "metadata": {},
     "execution_count": 7
    }
   ],
   "source": [
    "gdp.index.get_level_values(1).unique()"
   ]
  },
  {
   "cell_type": "code",
   "execution_count": 66,
   "metadata": {},
   "outputs": [
    {
     "output_type": "execute_result",
     "data": {
      "text/plain": [
       "                          gdp\n",
       "country     year             \n",
       "afghanistan 2002  1063.635574\n",
       "            2003  1099.194507\n",
       "            2004  1062.249360\n",
       "            2005  1136.123214\n",
       "            2006  1161.124889"
      ],
      "text/html": "<div>\n<style scoped>\n    .dataframe tbody tr th:only-of-type {\n        vertical-align: middle;\n    }\n\n    .dataframe tbody tr th {\n        vertical-align: top;\n    }\n\n    .dataframe thead th {\n        text-align: right;\n    }\n</style>\n<table border=\"1\" class=\"dataframe\">\n  <thead>\n    <tr style=\"text-align: right;\">\n      <th></th>\n      <th></th>\n      <th>gdp</th>\n    </tr>\n    <tr>\n      <th>country</th>\n      <th>year</th>\n      <th></th>\n    </tr>\n  </thead>\n  <tbody>\n    <tr>\n      <th rowspan=\"5\" valign=\"top\">afghanistan</th>\n      <th>2002</th>\n      <td>1063.635574</td>\n    </tr>\n    <tr>\n      <th>2003</th>\n      <td>1099.194507</td>\n    </tr>\n    <tr>\n      <th>2004</th>\n      <td>1062.249360</td>\n    </tr>\n    <tr>\n      <th>2005</th>\n      <td>1136.123214</td>\n    </tr>\n    <tr>\n      <th>2006</th>\n      <td>1161.124889</td>\n    </tr>\n  </tbody>\n</table>\n</div>"
     },
     "metadata": {},
     "execution_count": 66
    }
   ],
   "source": [
    "gdp.head()"
   ]
  },
  {
   "cell_type": "code",
   "execution_count": 3,
   "metadata": {},
   "outputs": [],
   "source": [
    "def wb_clear(df, x):\n",
    "    df.index = df.index.set_levels(df.index.levels[1].astype(int), level=1)\n",
    "    df.index = df.index.set_levels(df.index.levels[0].str.lower(), level=0)\n",
    "    df = df[df.index.get_level_values(1) >= 2006]\n",
    "    df = df[df.loc[:, x].notna()]\n",
    "    df.index = df.index.set_names('year', level=1)\n",
    "    return df"
   ]
  },
  {
   "cell_type": "code",
   "execution_count": null,
   "metadata": {},
   "outputs": [],
   "source": [
    "#https://data.worldbank.org/indicator/NY.GDP.PCAP.CD\n",
    "\n",
    "gdp_pc = wbdata.get_dataframe({'NY.GDP.PCAP.CD':'gdp'})\n",
    "gdp_pc = wb_clear(gdp_pc, 'gdp')"
   ]
  },
  {
   "cell_type": "code",
   "execution_count": null,
   "metadata": {},
   "outputs": [],
   "source": [
    "gov_spending = wbdata.get_dataframe({'GC.XPN.TOTL.GD.ZS':'gs'})\n",
    "gov_spending = wb_clear(gov_spending, 'gs')"
   ]
  },
  {
   "cell_type": "code",
   "execution_count": null,
   "metadata": {},
   "outputs": [],
   "source": [
    "#GC.TAX.TOTL.GD.ZS\n",
    "taxes = wbdata.get_dataframe({'GC.TAX.TOTL.GD.ZS':'t'})\n",
    "taxes = wb_clear(taxes, 't')"
   ]
  },
  {
   "source": [
    "CC.EST - corruption estimate\n",
    "\n",
    "GE.EST   - government effectiveness\n",
    "\n",
    "PV.EST - political stability & absence of violence/terrorism \n",
    "\n",
    "RL.EST - Rule of Law estimate\n",
    "\n",
    "RQ.EST -  Regulatory Quality estimate\n",
    "\n",
    "VA.EST - Voice and Accountability estimate"
   ],
   "cell_type": "markdown",
   "metadata": {}
  },
  {
   "cell_type": "code",
   "execution_count": null,
   "metadata": {},
   "outputs": [],
   "source": [
    "corruption = wbdata.get_dataframe({'CC.EST':'corruption'})\n",
    "corruption = wb_clear(corruption, 'corruption')"
   ]
  },
  {
   "cell_type": "code",
   "execution_count": null,
   "metadata": {},
   "outputs": [],
   "source": [
    "gov_effectivenes = wbdata.get_dataframe({'GE.EST':'efficiency'})\n",
    "gov_effectivenes = wb_clear(gov_effectivenes, 'efficiency')"
   ]
  },
  {
   "cell_type": "code",
   "execution_count": null,
   "metadata": {},
   "outputs": [],
   "source": [
    "rol = wbdata.get_dataframe({'RL.EST':'rol'})\n",
    "rol = wb_clear(rol, 'rol')"
   ]
  },
  {
   "cell_type": "code",
   "execution_count": null,
   "metadata": {},
   "outputs": [],
   "source": [
    "mortality = wbdata.get_dataframe({'SP.DYN.IMRT.IN':'mortality'})\n",
    "mortality = wb_clear(mortality, 'mortality')"
   ]
  },
  {
   "cell_type": "code",
   "execution_count": 80,
   "metadata": {},
   "outputs": [],
   "source": [
    "#req_quality = wbdata.get_dataframe({'RQ.EST':'r'})\n",
    "#req_quality = wb_clear(req_quality, 'req_q')"
   ]
  },
  {
   "cell_type": "code",
   "execution_count": null,
   "metadata": {},
   "outputs": [],
   "source": [
    "accountability = wbdata.get_dataframe({'VA.EST':'acc'})\n",
    "accountability = wb_clear(accountability, 'acc')"
   ]
  },
  {
   "cell_type": "code",
   "execution_count": null,
   "metadata": {},
   "outputs": [],
   "source": [
    "trade = wbdata.get_dataframe({'NE.TRD.GNFS.ZS':'trade'})\n",
    "trade = wb_clear(trade, 'trade')"
   ]
  },
  {
   "cell_type": "code",
   "execution_count": 107,
   "metadata": {},
   "outputs": [],
   "source": [
    "#investment = wbdata.get_dataframe({'GC.NFN.TOTL.CN':'investment'})\n",
    "#investment = wb_clear(investment, 'investment')"
   ]
  },
  {
   "cell_type": "code",
   "execution_count": 9,
   "metadata": {},
   "outputs": [],
   "source": [
    "#FM.AST.NFRG.CN net foreign assets\n",
    "#gdp current NY.GDP.MKTP.CD\n",
    "gdp = wbdata.get_dataframe({'NY.GDP.MKTP.CD':'gdp'})\n",
    "foreign_assets = wbdata.get_dataframe({'FM.AST.NFRG.CN':'foreign_assets'})"
   ]
  },
  {
   "cell_type": "code",
   "execution_count": 11,
   "metadata": {},
   "outputs": [],
   "source": [
    "#SE.PRM.UNER.ZS childred out of school\n",
    "out_of_school = wbdata.get_dataframe({'SE.PRM.UNER.ZS': 'outofschool'})\n",
    "out_of_school = wb_clear(out_of_school, 'outofschool')"
   ]
  },
  {
   "cell_type": "code",
   "execution_count": null,
   "metadata": {},
   "outputs": [],
   "source": [
    "# freedom_house73_21_ctr\n",
    "# bjorskov_integrated\n",
    "# OECD_union\n",
    "# WB_civil_soc_participation\n",
    "dfs = [freedom_house73_21_ctr, bjorskov_integrated, WB_civil_soc_participation, gov_spending, taxes, corruption, gov_effectivenes, stab, rol, accountability, mortality, trade, gdp_pc]"
   ]
  },
  {
   "cell_type": "code",
   "execution_count": 8,
   "metadata": {},
   "outputs": [
    {
     "output_type": "stream",
     "name": "stderr",
     "text": [
      "/Users/santerivaataja/Desktop/Taloustieteen_kursseja/Econometrics/Capstone.nosync/cap_venv/lib/python3.8/site-packages/IPython/core/interactiveshell.py:3165: DtypeWarning: Columns (2,3) have mixed types.Specify dtype option on import or set low_memory=False.\n  has_raised = await self.run_ast_nodes(code_ast.body, cell_name,\n"
     ]
    }
   ],
   "source": [
    "all_df = pd.read_csv('raw_data/master.csv').set_index(['country', 'year'])"
   ]
  },
  {
   "cell_type": "code",
   "execution_count": 9,
   "metadata": {},
   "outputs": [
    {
     "output_type": "execute_result",
     "data": {
      "text/plain": [
       "                 PR CL Status  DD regime            DD category  Monarchy  \\\n",
       "country     year                                                            \n",
       "afghanistan 1972  4  5     PF        5.0     Royal dictatorship       1.0   \n",
       "            1973  7  6     NF        5.0     Royal dictatorship       1.0   \n",
       "            1974  7  6     NF        3.0  Civilian dictatorship       0.0   \n",
       "            1975  7  6     NF        3.0  Civilian dictatorship       0.0   \n",
       "            1976  7  6     NF        3.0  Civilian dictatorship       0.0   \n",
       "\n",
       "                  Commonwealth         Monarch name  Monarch accession  \\\n",
       "country     year                                                         \n",
       "afghanistan 1972           0.0  Mohammed Zahir Shah             1933.0   \n",
       "            1973           0.0  Mohammed Zahir Shah             1933.0   \n",
       "            1974           0.0                  NaN                NaN   \n",
       "            1975           0.0                  NaN                NaN   \n",
       "            1976           0.0                  NaN                NaN   \n",
       "\n",
       "                  Monarch birthyear  ...  gs   t  corruption efficiency  \\\n",
       "country     year                     ...                                  \n",
       "afghanistan 1972             1914.0  ... NaN NaN         NaN        NaN   \n",
       "            1973             1914.0  ... NaN NaN         NaN        NaN   \n",
       "            1974                NaN  ... NaN NaN         NaN        NaN   \n",
       "            1975                NaN  ... NaN NaN         NaN        NaN   \n",
       "            1976                NaN  ... NaN NaN         NaN        NaN   \n",
       "\n",
       "                  stability  rol  acc  mortality  trade gdp  \n",
       "country     year                                             \n",
       "afghanistan 1972        NaN  NaN  NaN        NaN    NaN NaN  \n",
       "            1973        NaN  NaN  NaN        NaN    NaN NaN  \n",
       "            1974        NaN  NaN  NaN        NaN    NaN NaN  \n",
       "            1975        NaN  NaN  NaN        NaN    NaN NaN  \n",
       "            1976        NaN  NaN  NaN        NaN    NaN NaN  \n",
       "\n",
       "[5 rows x 97 columns]"
      ],
      "text/html": "<div>\n<style scoped>\n    .dataframe tbody tr th:only-of-type {\n        vertical-align: middle;\n    }\n\n    .dataframe tbody tr th {\n        vertical-align: top;\n    }\n\n    .dataframe thead th {\n        text-align: right;\n    }\n</style>\n<table border=\"1\" class=\"dataframe\">\n  <thead>\n    <tr style=\"text-align: right;\">\n      <th></th>\n      <th></th>\n      <th>PR</th>\n      <th>CL</th>\n      <th>Status</th>\n      <th>DD regime</th>\n      <th>DD category</th>\n      <th>Monarchy</th>\n      <th>Commonwealth</th>\n      <th>Monarch name</th>\n      <th>Monarch accession</th>\n      <th>Monarch birthyear</th>\n      <th>...</th>\n      <th>gs</th>\n      <th>t</th>\n      <th>corruption</th>\n      <th>efficiency</th>\n      <th>stability</th>\n      <th>rol</th>\n      <th>acc</th>\n      <th>mortality</th>\n      <th>trade</th>\n      <th>gdp</th>\n    </tr>\n    <tr>\n      <th>country</th>\n      <th>year</th>\n      <th></th>\n      <th></th>\n      <th></th>\n      <th></th>\n      <th></th>\n      <th></th>\n      <th></th>\n      <th></th>\n      <th></th>\n      <th></th>\n      <th></th>\n      <th></th>\n      <th></th>\n      <th></th>\n      <th></th>\n      <th></th>\n      <th></th>\n      <th></th>\n      <th></th>\n      <th></th>\n      <th></th>\n    </tr>\n  </thead>\n  <tbody>\n    <tr>\n      <th rowspan=\"5\" valign=\"top\">afghanistan</th>\n      <th>1972</th>\n      <td>4</td>\n      <td>5</td>\n      <td>PF</td>\n      <td>5.0</td>\n      <td>Royal dictatorship</td>\n      <td>1.0</td>\n      <td>0.0</td>\n      <td>Mohammed Zahir Shah</td>\n      <td>1933.0</td>\n      <td>1914.0</td>\n      <td>...</td>\n      <td>NaN</td>\n      <td>NaN</td>\n      <td>NaN</td>\n      <td>NaN</td>\n      <td>NaN</td>\n      <td>NaN</td>\n      <td>NaN</td>\n      <td>NaN</td>\n      <td>NaN</td>\n      <td>NaN</td>\n    </tr>\n    <tr>\n      <th>1973</th>\n      <td>7</td>\n      <td>6</td>\n      <td>NF</td>\n      <td>5.0</td>\n      <td>Royal dictatorship</td>\n      <td>1.0</td>\n      <td>0.0</td>\n      <td>Mohammed Zahir Shah</td>\n      <td>1933.0</td>\n      <td>1914.0</td>\n      <td>...</td>\n      <td>NaN</td>\n      <td>NaN</td>\n      <td>NaN</td>\n      <td>NaN</td>\n      <td>NaN</td>\n      <td>NaN</td>\n      <td>NaN</td>\n      <td>NaN</td>\n      <td>NaN</td>\n      <td>NaN</td>\n    </tr>\n    <tr>\n      <th>1974</th>\n      <td>7</td>\n      <td>6</td>\n      <td>NF</td>\n      <td>3.0</td>\n      <td>Civilian dictatorship</td>\n      <td>0.0</td>\n      <td>0.0</td>\n      <td>NaN</td>\n      <td>NaN</td>\n      <td>NaN</td>\n      <td>...</td>\n      <td>NaN</td>\n      <td>NaN</td>\n      <td>NaN</td>\n      <td>NaN</td>\n      <td>NaN</td>\n      <td>NaN</td>\n      <td>NaN</td>\n      <td>NaN</td>\n      <td>NaN</td>\n      <td>NaN</td>\n    </tr>\n    <tr>\n      <th>1975</th>\n      <td>7</td>\n      <td>6</td>\n      <td>NF</td>\n      <td>3.0</td>\n      <td>Civilian dictatorship</td>\n      <td>0.0</td>\n      <td>0.0</td>\n      <td>NaN</td>\n      <td>NaN</td>\n      <td>NaN</td>\n      <td>...</td>\n      <td>NaN</td>\n      <td>NaN</td>\n      <td>NaN</td>\n      <td>NaN</td>\n      <td>NaN</td>\n      <td>NaN</td>\n      <td>NaN</td>\n      <td>NaN</td>\n      <td>NaN</td>\n      <td>NaN</td>\n    </tr>\n    <tr>\n      <th>1976</th>\n      <td>7</td>\n      <td>6</td>\n      <td>NF</td>\n      <td>3.0</td>\n      <td>Civilian dictatorship</td>\n      <td>0.0</td>\n      <td>0.0</td>\n      <td>NaN</td>\n      <td>NaN</td>\n      <td>NaN</td>\n      <td>...</td>\n      <td>NaN</td>\n      <td>NaN</td>\n      <td>NaN</td>\n      <td>NaN</td>\n      <td>NaN</td>\n      <td>NaN</td>\n      <td>NaN</td>\n      <td>NaN</td>\n      <td>NaN</td>\n      <td>NaN</td>\n    </tr>\n  </tbody>\n</table>\n<p>5 rows × 97 columns</p>\n</div>"
     },
     "metadata": {},
     "execution_count": 9
    }
   ],
   "source": [
    "all_df.head()"
   ]
  },
  {
   "cell_type": "code",
   "execution_count": null,
   "metadata": {},
   "outputs": [],
   "source": [
    "all_df = all_df.join(out_of_scho)"
   ]
  },
  {
   "source": [
    "all_df = reduce(lambda l, r: l.join(r), dfs)"
   ],
   "cell_type": "code",
   "metadata": {},
   "execution_count": 126,
   "outputs": []
  },
  {
   "cell_type": "code",
   "execution_count": 128,
   "metadata": {},
   "outputs": [],
   "source": [
    "all_df.to_csv('raw_data/master.csv')"
   ]
  },
  {
   "cell_type": "code",
   "execution_count": 2,
   "metadata": {},
   "outputs": [
    {
     "output_type": "stream",
     "name": "stderr",
     "text": [
      "/Users/santerivaataja/Desktop/Taloustieteen_kursseja/Econometrics/Capstone.nosync/cap_venv/lib/python3.8/site-packages/IPython/core/interactiveshell.py:3165: DtypeWarning: Columns (2,3) have mixed types.Specify dtype option on import or set low_memory=False.\n  has_raised = await self.run_ast_nodes(code_ast.body, cell_name,\n"
     ]
    }
   ],
   "source": [
    "df = pd.read_csv('raw_data/master.csv')"
   ]
  },
  {
   "cell_type": "code",
   "execution_count": 3,
   "metadata": {},
   "outputs": [],
   "source": [
    "df_s = df.groupby(['year']).Democracy.sum()\n",
    "df_c = df.groupby(['year']).Democracy.count()"
   ]
  },
  {
   "cell_type": "code",
   "execution_count": 9,
   "metadata": {},
   "outputs": [
    {
     "output_type": "execute_result",
     "data": {
      "text/plain": [
       "<matplotlib.legend.Legend at 0x7f844c1c53a0>"
      ]
     },
     "metadata": {},
     "execution_count": 9
    },
    {
     "output_type": "display_data",
     "data": {
      "text/plain": "<Figure size 432x288 with 1 Axes>",
      "image/svg+xml": "<?xml version=\"1.0\" encoding=\"utf-8\" standalone=\"no\"?>\n<!DOCTYPE svg PUBLIC \"-//W3C//DTD SVG 1.1//EN\"\n  \"http://www.w3.org/Graphics/SVG/1.1/DTD/svg11.dtd\">\n<svg height=\"262.19625pt\" version=\"1.1\" viewBox=\"0 0 375.2875 262.19625\" width=\"375.2875pt\" xmlns=\"http://www.w3.org/2000/svg\" xmlns:xlink=\"http://www.w3.org/1999/xlink\">\n <metadata>\n  <rdf:RDF xmlns:cc=\"http://creativecommons.org/ns#\" xmlns:dc=\"http://purl.org/dc/elements/1.1/\" xmlns:rdf=\"http://www.w3.org/1999/02/22-rdf-syntax-ns#\">\n   <cc:Work>\n    <dc:type rdf:resource=\"http://purl.org/dc/dcmitype/StillImage\"/>\n    <dc:date>2021-04-18T15:40:43.753441</dc:date>\n    <dc:format>image/svg+xml</dc:format>\n    <dc:creator>\n     <cc:Agent>\n      <dc:title>Matplotlib v3.4.1, https://matplotlib.org/</dc:title>\n     </cc:Agent>\n    </dc:creator>\n   </cc:Work>\n  </rdf:RDF>\n </metadata>\n <defs>\n  <style type=\"text/css\">*{stroke-linecap:butt;stroke-linejoin:round;}</style>\n </defs>\n <g id=\"figure_1\">\n  <g id=\"patch_1\">\n   <path d=\"M 0 262.19625 \nL 375.2875 262.19625 \nL 375.2875 0 \nL 0 0 \nz\n\" style=\"fill:none;\"/>\n  </g>\n  <g id=\"axes_1\">\n   <g id=\"patch_2\">\n    <path d=\"M 33.2875 224.64 \nL 368.0875 224.64 \nL 368.0875 7.2 \nL 33.2875 7.2 \nz\n\" style=\"fill:#ffffff;\"/>\n   </g>\n   <g id=\"matplotlib.axis_1\">\n    <g id=\"xtick_1\">\n     <g id=\"line2d_1\">\n      <defs>\n       <path d=\"M 0 0 \nL 0 3.5 \n\" id=\"mff8aa230f7\" style=\"stroke:#000000;stroke-width:0.8;\"/>\n      </defs>\n      <g>\n       <use style=\"stroke:#000000;stroke-width:0.8;\" x=\"35.823864\" xlink:href=\"#mff8aa230f7\" y=\"224.64\"/>\n      </g>\n     </g>\n     <g id=\"text_1\">\n      <!-- 1970 -->\n      <g transform=\"translate(23.098864 239.238437)scale(0.1 -0.1)\">\n       <defs>\n        <path d=\"M 794 531 \nL 1825 531 \nL 1825 4091 \nL 703 3866 \nL 703 4441 \nL 1819 4666 \nL 2450 4666 \nL 2450 531 \nL 3481 531 \nL 3481 0 \nL 794 0 \nL 794 531 \nz\n\" id=\"DejaVuSans-31\" transform=\"scale(0.015625)\"/>\n        <path d=\"M 703 97 \nL 703 672 \nQ 941 559 1184 500 \nQ 1428 441 1663 441 \nQ 2288 441 2617 861 \nQ 2947 1281 2994 2138 \nQ 2813 1869 2534 1725 \nQ 2256 1581 1919 1581 \nQ 1219 1581 811 2004 \nQ 403 2428 403 3163 \nQ 403 3881 828 4315 \nQ 1253 4750 1959 4750 \nQ 2769 4750 3195 4129 \nQ 3622 3509 3622 2328 \nQ 3622 1225 3098 567 \nQ 2575 -91 1691 -91 \nQ 1453 -91 1209 -44 \nQ 966 3 703 97 \nz\nM 1959 2075 \nQ 2384 2075 2632 2365 \nQ 2881 2656 2881 3163 \nQ 2881 3666 2632 3958 \nQ 2384 4250 1959 4250 \nQ 1534 4250 1286 3958 \nQ 1038 3666 1038 3163 \nQ 1038 2656 1286 2365 \nQ 1534 2075 1959 2075 \nz\n\" id=\"DejaVuSans-39\" transform=\"scale(0.015625)\"/>\n        <path d=\"M 525 4666 \nL 3525 4666 \nL 3525 4397 \nL 1831 0 \nL 1172 0 \nL 2766 4134 \nL 525 4134 \nL 525 4666 \nz\n\" id=\"DejaVuSans-37\" transform=\"scale(0.015625)\"/>\n        <path d=\"M 2034 4250 \nQ 1547 4250 1301 3770 \nQ 1056 3291 1056 2328 \nQ 1056 1369 1301 889 \nQ 1547 409 2034 409 \nQ 2525 409 2770 889 \nQ 3016 1369 3016 2328 \nQ 3016 3291 2770 3770 \nQ 2525 4250 2034 4250 \nz\nM 2034 4750 \nQ 2819 4750 3233 4129 \nQ 3647 3509 3647 2328 \nQ 3647 1150 3233 529 \nQ 2819 -91 2034 -91 \nQ 1250 -91 836 529 \nQ 422 1150 422 2328 \nQ 422 3509 836 4129 \nQ 1250 4750 2034 4750 \nz\n\" id=\"DejaVuSans-30\" transform=\"scale(0.015625)\"/>\n       </defs>\n       <use xlink:href=\"#DejaVuSans-31\"/>\n       <use x=\"63.623047\" xlink:href=\"#DejaVuSans-39\"/>\n       <use x=\"127.246094\" xlink:href=\"#DejaVuSans-37\"/>\n       <use x=\"190.869141\" xlink:href=\"#DejaVuSans-30\"/>\n      </g>\n     </g>\n    </g>\n    <g id=\"xtick_2\">\n     <g id=\"line2d_2\">\n      <g>\n       <use style=\"stroke:#000000;stroke-width:0.8;\" x=\"99.232955\" xlink:href=\"#mff8aa230f7\" y=\"224.64\"/>\n      </g>\n     </g>\n     <g id=\"text_2\">\n      <!-- 1980 -->\n      <g transform=\"translate(86.507955 239.238437)scale(0.1 -0.1)\">\n       <defs>\n        <path d=\"M 2034 2216 \nQ 1584 2216 1326 1975 \nQ 1069 1734 1069 1313 \nQ 1069 891 1326 650 \nQ 1584 409 2034 409 \nQ 2484 409 2743 651 \nQ 3003 894 3003 1313 \nQ 3003 1734 2745 1975 \nQ 2488 2216 2034 2216 \nz\nM 1403 2484 \nQ 997 2584 770 2862 \nQ 544 3141 544 3541 \nQ 544 4100 942 4425 \nQ 1341 4750 2034 4750 \nQ 2731 4750 3128 4425 \nQ 3525 4100 3525 3541 \nQ 3525 3141 3298 2862 \nQ 3072 2584 2669 2484 \nQ 3125 2378 3379 2068 \nQ 3634 1759 3634 1313 \nQ 3634 634 3220 271 \nQ 2806 -91 2034 -91 \nQ 1263 -91 848 271 \nQ 434 634 434 1313 \nQ 434 1759 690 2068 \nQ 947 2378 1403 2484 \nz\nM 1172 3481 \nQ 1172 3119 1398 2916 \nQ 1625 2713 2034 2713 \nQ 2441 2713 2670 2916 \nQ 2900 3119 2900 3481 \nQ 2900 3844 2670 4047 \nQ 2441 4250 2034 4250 \nQ 1625 4250 1398 4047 \nQ 1172 3844 1172 3481 \nz\n\" id=\"DejaVuSans-38\" transform=\"scale(0.015625)\"/>\n       </defs>\n       <use xlink:href=\"#DejaVuSans-31\"/>\n       <use x=\"63.623047\" xlink:href=\"#DejaVuSans-39\"/>\n       <use x=\"127.246094\" xlink:href=\"#DejaVuSans-38\"/>\n       <use x=\"190.869141\" xlink:href=\"#DejaVuSans-30\"/>\n      </g>\n     </g>\n    </g>\n    <g id=\"xtick_3\">\n     <g id=\"line2d_3\">\n      <g>\n       <use style=\"stroke:#000000;stroke-width:0.8;\" x=\"162.642045\" xlink:href=\"#mff8aa230f7\" y=\"224.64\"/>\n      </g>\n     </g>\n     <g id=\"text_3\">\n      <!-- 1990 -->\n      <g transform=\"translate(149.917045 239.238437)scale(0.1 -0.1)\">\n       <use xlink:href=\"#DejaVuSans-31\"/>\n       <use x=\"63.623047\" xlink:href=\"#DejaVuSans-39\"/>\n       <use x=\"127.246094\" xlink:href=\"#DejaVuSans-39\"/>\n       <use x=\"190.869141\" xlink:href=\"#DejaVuSans-30\"/>\n      </g>\n     </g>\n    </g>\n    <g id=\"xtick_4\">\n     <g id=\"line2d_4\">\n      <g>\n       <use style=\"stroke:#000000;stroke-width:0.8;\" x=\"226.051136\" xlink:href=\"#mff8aa230f7\" y=\"224.64\"/>\n      </g>\n     </g>\n     <g id=\"text_4\">\n      <!-- 2000 -->\n      <g transform=\"translate(213.326136 239.238437)scale(0.1 -0.1)\">\n       <defs>\n        <path d=\"M 1228 531 \nL 3431 531 \nL 3431 0 \nL 469 0 \nL 469 531 \nQ 828 903 1448 1529 \nQ 2069 2156 2228 2338 \nQ 2531 2678 2651 2914 \nQ 2772 3150 2772 3378 \nQ 2772 3750 2511 3984 \nQ 2250 4219 1831 4219 \nQ 1534 4219 1204 4116 \nQ 875 4013 500 3803 \nL 500 4441 \nQ 881 4594 1212 4672 \nQ 1544 4750 1819 4750 \nQ 2544 4750 2975 4387 \nQ 3406 4025 3406 3419 \nQ 3406 3131 3298 2873 \nQ 3191 2616 2906 2266 \nQ 2828 2175 2409 1742 \nQ 1991 1309 1228 531 \nz\n\" id=\"DejaVuSans-32\" transform=\"scale(0.015625)\"/>\n       </defs>\n       <use xlink:href=\"#DejaVuSans-32\"/>\n       <use x=\"63.623047\" xlink:href=\"#DejaVuSans-30\"/>\n       <use x=\"127.246094\" xlink:href=\"#DejaVuSans-30\"/>\n       <use x=\"190.869141\" xlink:href=\"#DejaVuSans-30\"/>\n      </g>\n     </g>\n    </g>\n    <g id=\"xtick_5\">\n     <g id=\"line2d_5\">\n      <g>\n       <use style=\"stroke:#000000;stroke-width:0.8;\" x=\"289.460227\" xlink:href=\"#mff8aa230f7\" y=\"224.64\"/>\n      </g>\n     </g>\n     <g id=\"text_5\">\n      <!-- 2010 -->\n      <g transform=\"translate(276.735227 239.238437)scale(0.1 -0.1)\">\n       <use xlink:href=\"#DejaVuSans-32\"/>\n       <use x=\"63.623047\" xlink:href=\"#DejaVuSans-30\"/>\n       <use x=\"127.246094\" xlink:href=\"#DejaVuSans-31\"/>\n       <use x=\"190.869141\" xlink:href=\"#DejaVuSans-30\"/>\n      </g>\n     </g>\n    </g>\n    <g id=\"xtick_6\">\n     <g id=\"line2d_6\">\n      <g>\n       <use style=\"stroke:#000000;stroke-width:0.8;\" x=\"352.869318\" xlink:href=\"#mff8aa230f7\" y=\"224.64\"/>\n      </g>\n     </g>\n     <g id=\"text_6\">\n      <!-- 2020 -->\n      <g transform=\"translate(340.144318 239.238437)scale(0.1 -0.1)\">\n       <use xlink:href=\"#DejaVuSans-32\"/>\n       <use x=\"63.623047\" xlink:href=\"#DejaVuSans-30\"/>\n       <use x=\"127.246094\" xlink:href=\"#DejaVuSans-32\"/>\n       <use x=\"190.869141\" xlink:href=\"#DejaVuSans-30\"/>\n      </g>\n     </g>\n    </g>\n    <g id=\"text_7\">\n     <!-- year -->\n     <g transform=\"translate(189.532031 252.916562)scale(0.1 -0.1)\">\n      <defs>\n       <path d=\"M 2059 -325 \nQ 1816 -950 1584 -1140 \nQ 1353 -1331 966 -1331 \nL 506 -1331 \nL 506 -850 \nL 844 -850 \nQ 1081 -850 1212 -737 \nQ 1344 -625 1503 -206 \nL 1606 56 \nL 191 3500 \nL 800 3500 \nL 1894 763 \nL 2988 3500 \nL 3597 3500 \nL 2059 -325 \nz\n\" id=\"DejaVuSans-79\" transform=\"scale(0.015625)\"/>\n       <path d=\"M 3597 1894 \nL 3597 1613 \nL 953 1613 \nQ 991 1019 1311 708 \nQ 1631 397 2203 397 \nQ 2534 397 2845 478 \nQ 3156 559 3463 722 \nL 3463 178 \nQ 3153 47 2828 -22 \nQ 2503 -91 2169 -91 \nQ 1331 -91 842 396 \nQ 353 884 353 1716 \nQ 353 2575 817 3079 \nQ 1281 3584 2069 3584 \nQ 2775 3584 3186 3129 \nQ 3597 2675 3597 1894 \nz\nM 3022 2063 \nQ 3016 2534 2758 2815 \nQ 2500 3097 2075 3097 \nQ 1594 3097 1305 2825 \nQ 1016 2553 972 2059 \nL 3022 2063 \nz\n\" id=\"DejaVuSans-65\" transform=\"scale(0.015625)\"/>\n       <path d=\"M 2194 1759 \nQ 1497 1759 1228 1600 \nQ 959 1441 959 1056 \nQ 959 750 1161 570 \nQ 1363 391 1709 391 \nQ 2188 391 2477 730 \nQ 2766 1069 2766 1631 \nL 2766 1759 \nL 2194 1759 \nz\nM 3341 1997 \nL 3341 0 \nL 2766 0 \nL 2766 531 \nQ 2569 213 2275 61 \nQ 1981 -91 1556 -91 \nQ 1019 -91 701 211 \nQ 384 513 384 1019 \nQ 384 1609 779 1909 \nQ 1175 2209 1959 2209 \nL 2766 2209 \nL 2766 2266 \nQ 2766 2663 2505 2880 \nQ 2244 3097 1772 3097 \nQ 1472 3097 1187 3025 \nQ 903 2953 641 2809 \nL 641 3341 \nQ 956 3463 1253 3523 \nQ 1550 3584 1831 3584 \nQ 2591 3584 2966 3190 \nQ 3341 2797 3341 1997 \nz\n\" id=\"DejaVuSans-61\" transform=\"scale(0.015625)\"/>\n       <path d=\"M 2631 2963 \nQ 2534 3019 2420 3045 \nQ 2306 3072 2169 3072 \nQ 1681 3072 1420 2755 \nQ 1159 2438 1159 1844 \nL 1159 0 \nL 581 0 \nL 581 3500 \nL 1159 3500 \nL 1159 2956 \nQ 1341 3275 1631 3429 \nQ 1922 3584 2338 3584 \nQ 2397 3584 2469 3576 \nQ 2541 3569 2628 3553 \nL 2631 2963 \nz\n\" id=\"DejaVuSans-72\" transform=\"scale(0.015625)\"/>\n      </defs>\n      <use xlink:href=\"#DejaVuSans-79\"/>\n      <use x=\"59.179688\" xlink:href=\"#DejaVuSans-65\"/>\n      <use x=\"120.703125\" xlink:href=\"#DejaVuSans-61\"/>\n      <use x=\"181.982422\" xlink:href=\"#DejaVuSans-72\"/>\n     </g>\n    </g>\n   </g>\n   <g id=\"matplotlib.axis_2\">\n    <g id=\"ytick_1\">\n     <g id=\"line2d_7\">\n      <defs>\n       <path d=\"M 0 0 \nL -3.5 0 \n\" id=\"m356ab9b2e9\" style=\"stroke:#000000;stroke-width:0.8;\"/>\n      </defs>\n      <g>\n       <use style=\"stroke:#000000;stroke-width:0.8;\" x=\"33.2875\" xlink:href=\"#m356ab9b2e9\" y=\"222.992727\"/>\n      </g>\n     </g>\n     <g id=\"text_8\">\n      <!-- 50 -->\n      <g transform=\"translate(13.5625 226.791946)scale(0.1 -0.1)\">\n       <defs>\n        <path d=\"M 691 4666 \nL 3169 4666 \nL 3169 4134 \nL 1269 4134 \nL 1269 2991 \nQ 1406 3038 1543 3061 \nQ 1681 3084 1819 3084 \nQ 2600 3084 3056 2656 \nQ 3513 2228 3513 1497 \nQ 3513 744 3044 326 \nQ 2575 -91 1722 -91 \nQ 1428 -91 1123 -41 \nQ 819 9 494 109 \nL 494 744 \nQ 775 591 1075 516 \nQ 1375 441 1709 441 \nQ 2250 441 2565 725 \nQ 2881 1009 2881 1497 \nQ 2881 1984 2565 2268 \nQ 2250 2553 1709 2553 \nQ 1456 2553 1204 2497 \nQ 953 2441 691 2322 \nL 691 4666 \nz\n\" id=\"DejaVuSans-35\" transform=\"scale(0.015625)\"/>\n       </defs>\n       <use xlink:href=\"#DejaVuSans-35\"/>\n       <use x=\"63.623047\" xlink:href=\"#DejaVuSans-30\"/>\n      </g>\n     </g>\n    </g>\n    <g id=\"ytick_2\">\n     <g id=\"line2d_8\">\n      <g>\n       <use style=\"stroke:#000000;stroke-width:0.8;\" x=\"33.2875\" xlink:href=\"#m356ab9b2e9\" y=\"195.538182\"/>\n      </g>\n     </g>\n     <g id=\"text_9\">\n      <!-- 60 -->\n      <g transform=\"translate(13.5625 199.337401)scale(0.1 -0.1)\">\n       <defs>\n        <path d=\"M 2113 2584 \nQ 1688 2584 1439 2293 \nQ 1191 2003 1191 1497 \nQ 1191 994 1439 701 \nQ 1688 409 2113 409 \nQ 2538 409 2786 701 \nQ 3034 994 3034 1497 \nQ 3034 2003 2786 2293 \nQ 2538 2584 2113 2584 \nz\nM 3366 4563 \nL 3366 3988 \nQ 3128 4100 2886 4159 \nQ 2644 4219 2406 4219 \nQ 1781 4219 1451 3797 \nQ 1122 3375 1075 2522 \nQ 1259 2794 1537 2939 \nQ 1816 3084 2150 3084 \nQ 2853 3084 3261 2657 \nQ 3669 2231 3669 1497 \nQ 3669 778 3244 343 \nQ 2819 -91 2113 -91 \nQ 1303 -91 875 529 \nQ 447 1150 447 2328 \nQ 447 3434 972 4092 \nQ 1497 4750 2381 4750 \nQ 2619 4750 2861 4703 \nQ 3103 4656 3366 4563 \nz\n\" id=\"DejaVuSans-36\" transform=\"scale(0.015625)\"/>\n       </defs>\n       <use xlink:href=\"#DejaVuSans-36\"/>\n       <use x=\"63.623047\" xlink:href=\"#DejaVuSans-30\"/>\n      </g>\n     </g>\n    </g>\n    <g id=\"ytick_3\">\n     <g id=\"line2d_9\">\n      <g>\n       <use style=\"stroke:#000000;stroke-width:0.8;\" x=\"33.2875\" xlink:href=\"#m356ab9b2e9\" y=\"168.083636\"/>\n      </g>\n     </g>\n     <g id=\"text_10\">\n      <!-- 70 -->\n      <g transform=\"translate(13.5625 171.882855)scale(0.1 -0.1)\">\n       <use xlink:href=\"#DejaVuSans-37\"/>\n       <use x=\"63.623047\" xlink:href=\"#DejaVuSans-30\"/>\n      </g>\n     </g>\n    </g>\n    <g id=\"ytick_4\">\n     <g id=\"line2d_10\">\n      <g>\n       <use style=\"stroke:#000000;stroke-width:0.8;\" x=\"33.2875\" xlink:href=\"#m356ab9b2e9\" y=\"140.629091\"/>\n      </g>\n     </g>\n     <g id=\"text_11\">\n      <!-- 80 -->\n      <g transform=\"translate(13.5625 144.42831)scale(0.1 -0.1)\">\n       <use xlink:href=\"#DejaVuSans-38\"/>\n       <use x=\"63.623047\" xlink:href=\"#DejaVuSans-30\"/>\n      </g>\n     </g>\n    </g>\n    <g id=\"ytick_5\">\n     <g id=\"line2d_11\">\n      <g>\n       <use style=\"stroke:#000000;stroke-width:0.8;\" x=\"33.2875\" xlink:href=\"#m356ab9b2e9\" y=\"113.174545\"/>\n      </g>\n     </g>\n     <g id=\"text_12\">\n      <!-- 90 -->\n      <g transform=\"translate(13.5625 116.973764)scale(0.1 -0.1)\">\n       <use xlink:href=\"#DejaVuSans-39\"/>\n       <use x=\"63.623047\" xlink:href=\"#DejaVuSans-30\"/>\n      </g>\n     </g>\n    </g>\n    <g id=\"ytick_6\">\n     <g id=\"line2d_12\">\n      <g>\n       <use style=\"stroke:#000000;stroke-width:0.8;\" x=\"33.2875\" xlink:href=\"#m356ab9b2e9\" y=\"85.72\"/>\n      </g>\n     </g>\n     <g id=\"text_13\">\n      <!-- 100 -->\n      <g transform=\"translate(7.2 89.519219)scale(0.1 -0.1)\">\n       <use xlink:href=\"#DejaVuSans-31\"/>\n       <use x=\"63.623047\" xlink:href=\"#DejaVuSans-30\"/>\n       <use x=\"127.246094\" xlink:href=\"#DejaVuSans-30\"/>\n      </g>\n     </g>\n    </g>\n    <g id=\"ytick_7\">\n     <g id=\"line2d_13\">\n      <g>\n       <use style=\"stroke:#000000;stroke-width:0.8;\" x=\"33.2875\" xlink:href=\"#m356ab9b2e9\" y=\"58.265455\"/>\n      </g>\n     </g>\n     <g id=\"text_14\">\n      <!-- 110 -->\n      <g transform=\"translate(7.2 62.064673)scale(0.1 -0.1)\">\n       <use xlink:href=\"#DejaVuSans-31\"/>\n       <use x=\"63.623047\" xlink:href=\"#DejaVuSans-31\"/>\n       <use x=\"127.246094\" xlink:href=\"#DejaVuSans-30\"/>\n      </g>\n     </g>\n    </g>\n    <g id=\"ytick_8\">\n     <g id=\"line2d_14\">\n      <g>\n       <use style=\"stroke:#000000;stroke-width:0.8;\" x=\"33.2875\" xlink:href=\"#m356ab9b2e9\" y=\"30.810909\"/>\n      </g>\n     </g>\n     <g id=\"text_15\">\n      <!-- 120 -->\n      <g transform=\"translate(7.2 34.610128)scale(0.1 -0.1)\">\n       <use xlink:href=\"#DejaVuSans-31\"/>\n       <use x=\"63.623047\" xlink:href=\"#DejaVuSans-32\"/>\n       <use x=\"127.246094\" xlink:href=\"#DejaVuSans-30\"/>\n      </g>\n     </g>\n    </g>\n   </g>\n   <g id=\"line2d_15\">\n    <path clip-path=\"url(#pce0aa2514f)\" d=\"M 48.505682 209.265455 \nL 54.846591 212.010909 \nL 61.1875 212.010909 \nL 67.528409 206.52 \nL 73.869318 206.52 \nL 80.210227 212.010909 \nL 86.551136 214.756364 \nL 92.892045 206.52 \nL 99.232955 206.52 \nL 111.914773 209.265455 \nL 118.255682 198.283636 \nL 124.596591 198.283636 \nL 130.9375 192.792727 \nL 137.278409 181.810909 \nL 143.619318 181.810909 \nL 149.960227 176.32 \nL 156.301136 165.338182 \nL 162.642045 137.883636 \nL 168.982955 124.156364 \nL 175.323864 107.683636 \nL 181.664773 93.956364 \nL 188.005682 88.465455 \nL 194.346591 88.465455 \nL 200.6875 93.956364 \nL 207.028409 96.701818 \nL 213.369318 96.701818 \nL 219.710227 91.210909 \nL 226.051136 85.72 \nL 232.392045 80.229091 \nL 238.732955 77.483636 \nL 245.073864 80.229091 \nL 251.414773 71.992727 \nL 257.755682 71.992727 \nL 264.096591 63.756364 \nL 270.4375 66.501818 \nL 276.778409 52.774545 \nL 283.119318 58.265455 \nL 289.460227 63.756364 \nL 295.801136 55.52 \nL 302.142045 47.283636 \nL 308.482955 52.774545 \nL 314.823864 50.029091 \nL 321.164773 50.029091 \nL 327.505682 55.52 \nL 333.846591 55.52 \nL 340.1875 58.265455 \nL 346.528409 58.265455 \nL 352.869318 66.501818 \n\" style=\"fill:none;stroke:#1f77b4;stroke-linecap:square;stroke-width:1.5;\"/>\n   </g>\n   <g id=\"line2d_16\">\n    <path clip-path=\"url(#pce0aa2514f)\" d=\"M 48.505682 22.574545 \nL 54.846591 19.829091 \nL 61.1875 19.829091 \nL 67.528409 25.32 \nL 73.869318 25.32 \nL 80.210227 19.829091 \nL 86.551136 17.083636 \nL 92.892045 25.32 \nL 99.232955 25.32 \nL 111.914773 22.574545 \nL 118.255682 33.556364 \nL 124.596591 33.556364 \nL 130.9375 39.047273 \nL 137.278409 50.029091 \nL 143.619318 50.029091 \nL 149.960227 55.52 \nL 156.301136 66.501818 \nL 162.642045 93.956364 \nL 168.982955 107.683636 \nL 175.323864 124.156364 \nL 181.664773 137.883636 \nL 188.005682 143.374545 \nL 194.346591 143.374545 \nL 200.6875 137.883636 \nL 207.028409 135.138182 \nL 213.369318 135.138182 \nL 219.710227 140.629091 \nL 226.051136 146.12 \nL 232.392045 151.610909 \nL 238.732955 154.356364 \nL 245.073864 151.610909 \nL 251.414773 159.847273 \nL 257.755682 159.847273 \nL 264.096591 168.083636 \nL 270.4375 165.338182 \nL 276.778409 179.065455 \nL 283.119318 173.574545 \nL 289.460227 168.083636 \nL 295.801136 173.574545 \nL 302.142045 181.810909 \nL 308.482955 176.32 \nL 314.823864 179.065455 \nL 321.164773 179.065455 \nL 327.505682 173.574545 \nL 333.846591 173.574545 \nL 340.1875 170.829091 \nL 346.528409 170.829091 \nL 352.869318 165.338182 \n\" style=\"fill:none;stroke:#ff7f0e;stroke-linecap:square;stroke-width:1.5;\"/>\n   </g>\n   <g id=\"patch_3\">\n    <path d=\"M 33.2875 224.64 \nL 33.2875 7.2 \n\" style=\"fill:none;stroke:#000000;stroke-linecap:square;stroke-linejoin:miter;stroke-width:0.8;\"/>\n   </g>\n   <g id=\"patch_4\">\n    <path d=\"M 368.0875 224.64 \nL 368.0875 7.2 \n\" style=\"fill:none;stroke:#000000;stroke-linecap:square;stroke-linejoin:miter;stroke-width:0.8;\"/>\n   </g>\n   <g id=\"patch_5\">\n    <path d=\"M 33.2875 224.64 \nL 368.0875 224.64 \n\" style=\"fill:none;stroke:#000000;stroke-linecap:square;stroke-linejoin:miter;stroke-width:0.8;\"/>\n   </g>\n   <g id=\"patch_6\">\n    <path d=\"M 33.2875 7.2 \nL 368.0875 7.2 \n\" style=\"fill:none;stroke:#000000;stroke-linecap:square;stroke-linejoin:miter;stroke-width:0.8;\"/>\n   </g>\n   <g id=\"legend_1\">\n    <g id=\"patch_7\">\n     <path d=\"M 272.220313 44.55625 \nL 361.0875 44.55625 \nQ 363.0875 44.55625 363.0875 42.55625 \nL 363.0875 14.2 \nQ 363.0875 12.2 361.0875 12.2 \nL 272.220313 12.2 \nQ 270.220313 12.2 270.220313 14.2 \nL 270.220313 42.55625 \nQ 270.220313 44.55625 272.220313 44.55625 \nz\n\" style=\"fill:#ffffff;opacity:0.8;stroke:#cccccc;stroke-linejoin:miter;\"/>\n    </g>\n    <g id=\"line2d_17\">\n     <path d=\"M 274.220313 20.298437 \nL 294.220313 20.298437 \n\" style=\"fill:none;stroke:#1f77b4;stroke-linecap:square;stroke-width:1.5;\"/>\n    </g>\n    <g id=\"line2d_18\"/>\n    <g id=\"text_16\">\n     <!-- Democracy -->\n     <g transform=\"translate(302.220313 23.798437)scale(0.1 -0.1)\">\n      <defs>\n       <path d=\"M 1259 4147 \nL 1259 519 \nL 2022 519 \nQ 2988 519 3436 956 \nQ 3884 1394 3884 2338 \nQ 3884 3275 3436 3711 \nQ 2988 4147 2022 4147 \nL 1259 4147 \nz\nM 628 4666 \nL 1925 4666 \nQ 3281 4666 3915 4102 \nQ 4550 3538 4550 2338 \nQ 4550 1131 3912 565 \nQ 3275 0 1925 0 \nL 628 0 \nL 628 4666 \nz\n\" id=\"DejaVuSans-44\" transform=\"scale(0.015625)\"/>\n       <path d=\"M 3328 2828 \nQ 3544 3216 3844 3400 \nQ 4144 3584 4550 3584 \nQ 5097 3584 5394 3201 \nQ 5691 2819 5691 2113 \nL 5691 0 \nL 5113 0 \nL 5113 2094 \nQ 5113 2597 4934 2840 \nQ 4756 3084 4391 3084 \nQ 3944 3084 3684 2787 \nQ 3425 2491 3425 1978 \nL 3425 0 \nL 2847 0 \nL 2847 2094 \nQ 2847 2600 2669 2842 \nQ 2491 3084 2119 3084 \nQ 1678 3084 1418 2786 \nQ 1159 2488 1159 1978 \nL 1159 0 \nL 581 0 \nL 581 3500 \nL 1159 3500 \nL 1159 2956 \nQ 1356 3278 1631 3431 \nQ 1906 3584 2284 3584 \nQ 2666 3584 2933 3390 \nQ 3200 3197 3328 2828 \nz\n\" id=\"DejaVuSans-6d\" transform=\"scale(0.015625)\"/>\n       <path d=\"M 1959 3097 \nQ 1497 3097 1228 2736 \nQ 959 2375 959 1747 \nQ 959 1119 1226 758 \nQ 1494 397 1959 397 \nQ 2419 397 2687 759 \nQ 2956 1122 2956 1747 \nQ 2956 2369 2687 2733 \nQ 2419 3097 1959 3097 \nz\nM 1959 3584 \nQ 2709 3584 3137 3096 \nQ 3566 2609 3566 1747 \nQ 3566 888 3137 398 \nQ 2709 -91 1959 -91 \nQ 1206 -91 779 398 \nQ 353 888 353 1747 \nQ 353 2609 779 3096 \nQ 1206 3584 1959 3584 \nz\n\" id=\"DejaVuSans-6f\" transform=\"scale(0.015625)\"/>\n       <path d=\"M 3122 3366 \nL 3122 2828 \nQ 2878 2963 2633 3030 \nQ 2388 3097 2138 3097 \nQ 1578 3097 1268 2742 \nQ 959 2388 959 1747 \nQ 959 1106 1268 751 \nQ 1578 397 2138 397 \nQ 2388 397 2633 464 \nQ 2878 531 3122 666 \nL 3122 134 \nQ 2881 22 2623 -34 \nQ 2366 -91 2075 -91 \nQ 1284 -91 818 406 \nQ 353 903 353 1747 \nQ 353 2603 823 3093 \nQ 1294 3584 2113 3584 \nQ 2378 3584 2631 3529 \nQ 2884 3475 3122 3366 \nz\n\" id=\"DejaVuSans-63\" transform=\"scale(0.015625)\"/>\n      </defs>\n      <use xlink:href=\"#DejaVuSans-44\"/>\n      <use x=\"77.001953\" xlink:href=\"#DejaVuSans-65\"/>\n      <use x=\"138.525391\" xlink:href=\"#DejaVuSans-6d\"/>\n      <use x=\"235.9375\" xlink:href=\"#DejaVuSans-6f\"/>\n      <use x=\"297.119141\" xlink:href=\"#DejaVuSans-63\"/>\n      <use x=\"352.099609\" xlink:href=\"#DejaVuSans-72\"/>\n      <use x=\"393.212891\" xlink:href=\"#DejaVuSans-61\"/>\n      <use x=\"454.492188\" xlink:href=\"#DejaVuSans-63\"/>\n      <use x=\"509.472656\" xlink:href=\"#DejaVuSans-79\"/>\n     </g>\n    </g>\n    <g id=\"line2d_19\">\n     <path d=\"M 274.220313 34.976562 \nL 294.220313 34.976562 \n\" style=\"fill:none;stroke:#ff7f0e;stroke-linecap:square;stroke-width:1.5;\"/>\n    </g>\n    <g id=\"line2d_20\"/>\n    <g id=\"text_17\">\n     <!-- Democracy -->\n     <g transform=\"translate(302.220313 38.476562)scale(0.1 -0.1)\">\n      <use xlink:href=\"#DejaVuSans-44\"/>\n      <use x=\"77.001953\" xlink:href=\"#DejaVuSans-65\"/>\n      <use x=\"138.525391\" xlink:href=\"#DejaVuSans-6d\"/>\n      <use x=\"235.9375\" xlink:href=\"#DejaVuSans-6f\"/>\n      <use x=\"297.119141\" xlink:href=\"#DejaVuSans-63\"/>\n      <use x=\"352.099609\" xlink:href=\"#DejaVuSans-72\"/>\n      <use x=\"393.212891\" xlink:href=\"#DejaVuSans-61\"/>\n      <use x=\"454.492188\" xlink:href=\"#DejaVuSans-63\"/>\n      <use x=\"509.472656\" xlink:href=\"#DejaVuSans-79\"/>\n     </g>\n    </g>\n   </g>\n  </g>\n </g>\n <defs>\n  <clipPath id=\"pce0aa2514f\">\n   <rect height=\"217.44\" width=\"334.8\" x=\"33.2875\" y=\"7.2\"/>\n  </clipPath>\n </defs>\n</svg>\n",
      "image/png": "[encoded data removed]"
     },
     "metadata": {
      "needs_background": "light"
     }
    }
   ],
   "source": [
    "df_s.plot()\n",
    "(df_c - df_s).plot()\n",
    "plt.legend()"
   ]
  },
  {
   "cell_type": "code",
   "execution_count": null,
   "metadata": {},
   "outputs": [],
   "source": []
  }
 ]
}