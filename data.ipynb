{
 "metadata": {
  "language_info": {
   "codemirror_mode": {
    "name": "ipython",
    "version": 3
   },
   "file_extension": ".py",
   "mimetype": "text/x-python",
   "name": "python",
   "nbconvert_exporter": "python",
   "pygments_lexer": "ipython3",
   "version": "3.8.5-final"
  },
  "orig_nbformat": 2,
  "kernelspec": {
   "name": "python385jvsc74a57bd0fac54e6b642c37966e43cdb643d32d1f4e4fa0317cda1cf8b922991f41f52fc4",
   "display_name": "Python 3.8.5 64-bit ('cap_venv')"
  }
 },
 "nbformat": 4,
 "nbformat_minor": 2,
 "cells": [
  {
   "cell_type": "code",
   "execution_count": 1,
   "metadata": {},
   "outputs": [],
   "source": [
    "import pandas as pd\n",
    "import numpy as np\n",
    "from functools import reduce\n",
    "import wbdata"
   ]
  },
  {
   "cell_type": "code",
   "execution_count": 2,
   "metadata": {},
   "outputs": [],
   "source": [
    "def c_names_as_index(df, cn):\n",
    "    df.index = df.loc[:, cn].apply(lambda x: x.lower())\n",
    "    df.drop([cn], axis=1, inplace=True)\n",
    "    return df"
   ]
  },
  {
   "cell_type": "code",
   "execution_count": 81,
   "metadata": {},
   "outputs": [],
   "source": [
    "rep_map = {\n",
    "    '2(5)': np.nan,\n",
    "    'nan': np.nan,\n",
    "    '3(6)': np.nan\n",
    "}"
   ]
  },
  {
   "cell_type": "code",
   "execution_count": 9,
   "metadata": {},
   "outputs": [],
   "source": [
    "freedom_house13_21 = c_names_as_index(pd.read_csv('./raw_data/All_data_FIW_2013-2021.csv', sep=';', skiprows=1), 'Country/Territory')"
   ]
  },
  {
   "cell_type": "code",
   "execution_count": 39,
   "metadata": {},
   "outputs": [
    {
     "output_type": "execute_result",
     "data": {
      "text/plain": [
       "                    Region C/T  Edition Status  PR rating  CL rating  A1  A2  \\\n",
       "Country/Territory                                                              \n",
       "abkhazia           Eurasia   t     2021     PF          5          5   2   2   \n",
       "afghanistan           Asia   c     2021     NF          5          6   1   1   \n",
       "albania             Europe   c     2021     PF          3          3   3   3   \n",
       "algeria               MENA   c     2021     NF          6          5   1   1   \n",
       "andorra             Europe   c     2021      F          1          1   4   4   \n",
       "\n",
       "                   A3   A  ...  F3  F4   F  G1  G2  G3  G4   G  CL  Total  \n",
       "Country/Territory          ...                                             \n",
       "abkhazia            1   5  ...   1   1   4   1   1   2   1   5  23     40  \n",
       "afghanistan         1   3  ...   0   1   2   0   1   0   1   2  14     27  \n",
       "albania             2   8  ...   2   3   9   3   2   2   2   9  39     66  \n",
       "algeria             1   3  ...   2   2   6   2   2   2   1   7  22     32  \n",
       "andorra             4  12  ...   4   3  15   4   4   3   4  15  55     93  \n",
       "\n",
       "[5 rows x 43 columns]"
      ],
      "text/html": "<div>\n<style scoped>\n    .dataframe tbody tr th:only-of-type {\n        vertical-align: middle;\n    }\n\n    .dataframe tbody tr th {\n        vertical-align: top;\n    }\n\n    .dataframe thead th {\n        text-align: right;\n    }\n</style>\n<table border=\"1\" class=\"dataframe\">\n  <thead>\n    <tr style=\"text-align: right;\">\n      <th></th>\n      <th>Region</th>\n      <th>C/T</th>\n      <th>Edition</th>\n      <th>Status</th>\n      <th>PR rating</th>\n      <th>CL rating</th>\n      <th>A1</th>\n      <th>A2</th>\n      <th>A3</th>\n      <th>A</th>\n      <th>...</th>\n      <th>F3</th>\n      <th>F4</th>\n      <th>F</th>\n      <th>G1</th>\n      <th>G2</th>\n      <th>G3</th>\n      <th>G4</th>\n      <th>G</th>\n      <th>CL</th>\n      <th>Total</th>\n    </tr>\n    <tr>\n      <th>Country/Territory</th>\n      <th></th>\n      <th></th>\n      <th></th>\n      <th></th>\n      <th></th>\n      <th></th>\n      <th></th>\n      <th></th>\n      <th></th>\n      <th></th>\n      <th></th>\n      <th></th>\n      <th></th>\n      <th></th>\n      <th></th>\n      <th></th>\n      <th></th>\n      <th></th>\n      <th></th>\n      <th></th>\n      <th></th>\n    </tr>\n  </thead>\n  <tbody>\n    <tr>\n      <th>abkhazia</th>\n      <td>Eurasia</td>\n      <td>t</td>\n      <td>2021</td>\n      <td>PF</td>\n      <td>5</td>\n      <td>5</td>\n      <td>2</td>\n      <td>2</td>\n      <td>1</td>\n      <td>5</td>\n      <td>...</td>\n      <td>1</td>\n      <td>1</td>\n      <td>4</td>\n      <td>1</td>\n      <td>1</td>\n      <td>2</td>\n      <td>1</td>\n      <td>5</td>\n      <td>23</td>\n      <td>40</td>\n    </tr>\n    <tr>\n      <th>afghanistan</th>\n      <td>Asia</td>\n      <td>c</td>\n      <td>2021</td>\n      <td>NF</td>\n      <td>5</td>\n      <td>6</td>\n      <td>1</td>\n      <td>1</td>\n      <td>1</td>\n      <td>3</td>\n      <td>...</td>\n      <td>0</td>\n      <td>1</td>\n      <td>2</td>\n      <td>0</td>\n      <td>1</td>\n      <td>0</td>\n      <td>1</td>\n      <td>2</td>\n      <td>14</td>\n      <td>27</td>\n    </tr>\n    <tr>\n      <th>albania</th>\n      <td>Europe</td>\n      <td>c</td>\n      <td>2021</td>\n      <td>PF</td>\n      <td>3</td>\n      <td>3</td>\n      <td>3</td>\n      <td>3</td>\n      <td>2</td>\n      <td>8</td>\n      <td>...</td>\n      <td>2</td>\n      <td>3</td>\n      <td>9</td>\n      <td>3</td>\n      <td>2</td>\n      <td>2</td>\n      <td>2</td>\n      <td>9</td>\n      <td>39</td>\n      <td>66</td>\n    </tr>\n    <tr>\n      <th>algeria</th>\n      <td>MENA</td>\n      <td>c</td>\n      <td>2021</td>\n      <td>NF</td>\n      <td>6</td>\n      <td>5</td>\n      <td>1</td>\n      <td>1</td>\n      <td>1</td>\n      <td>3</td>\n      <td>...</td>\n      <td>2</td>\n      <td>2</td>\n      <td>6</td>\n      <td>2</td>\n      <td>2</td>\n      <td>2</td>\n      <td>1</td>\n      <td>7</td>\n      <td>22</td>\n      <td>32</td>\n    </tr>\n    <tr>\n      <th>andorra</th>\n      <td>Europe</td>\n      <td>c</td>\n      <td>2021</td>\n      <td>F</td>\n      <td>1</td>\n      <td>1</td>\n      <td>4</td>\n      <td>4</td>\n      <td>4</td>\n      <td>12</td>\n      <td>...</td>\n      <td>4</td>\n      <td>3</td>\n      <td>15</td>\n      <td>4</td>\n      <td>4</td>\n      <td>3</td>\n      <td>4</td>\n      <td>15</td>\n      <td>55</td>\n      <td>93</td>\n    </tr>\n  </tbody>\n</table>\n<p>5 rows × 43 columns</p>\n</div>"
     },
     "metadata": {},
     "execution_count": 39
    }
   ],
   "source": [
    "freedom_house13_21.head()"
   ]
  },
  {
   "cell_type": "code",
   "execution_count": 27,
   "metadata": {},
   "outputs": [],
   "source": [
    "freedom_house73_21_ctr = pd.read_csv('./raw_data/Country_and_Territory_Ratings_and_Statuses_FIW1973-2021.csv', sep=';')"
   ]
  },
  {
   "cell_type": "code",
   "execution_count": 28,
   "metadata": {},
   "outputs": [],
   "source": [
    "freedom_house73_21_ctr.iloc[0,0] = np.nan\n",
    "freedom_house73_21_ctr.iloc[0].replace(np.nan, None, inplace=True)\n",
    "freedom_house73_21_ctr.columns = pd.MultiIndex.from_tuples(list(zip(freedom_house73_21_ctr.iloc[0], freedom_house73_21_ctr.iloc[1])))\n",
    "freedom_house73_21_ctr.drop([0,1], inplace=True)\n",
    "freedom_house73_21_ctr = freedom_house73_21_ctr[freedom_house73_21_ctr.iloc[:, 0].notna()]\n",
    "freedom_house73_21_ctr.index = freedom_house73_21_ctr.loc[:, freedom_house73_21_ctr.columns[0]].apply(lambda x: x.lower())\n",
    "freedom_house73_21_ctr.drop(freedom_house73_21_ctr.columns[0], axis=1, inplace=True)\n",
    "freedom_house73_21_ctr = freedom_house73_21_ctr.replace('-', np.nan)"
   ]
  },
  {
   "cell_type": "code",
   "execution_count": 29,
   "metadata": {
    "tags": []
   },
   "outputs": [
    {
     "output_type": "error",
     "ename": "KeyboardInterrupt",
     "evalue": "",
     "traceback": [
      "\u001b[0;31m---------------------------------------------------------------------------\u001b[0m",
      "\u001b[0;31mKeyboardInterrupt\u001b[0m                         Traceback (most recent call last)",
      "\u001b[0;32m<ipython-input-29-67a580d78156>\u001b[0m in \u001b[0;36m<module>\u001b[0;34m\u001b[0m\n\u001b[1;32m      3\u001b[0m \u001b[0;32mfor\u001b[0m \u001b[0mi\u001b[0m \u001b[0;32min\u001b[0m \u001b[0mfreedom_house73_21_ctr\u001b[0m\u001b[0;34m.\u001b[0m\u001b[0mindex\u001b[0m\u001b[0;34m:\u001b[0m\u001b[0;34m\u001b[0m\u001b[0;34m\u001b[0m\u001b[0m\n\u001b[1;32m      4\u001b[0m     \u001b[0;32mfor\u001b[0m \u001b[0mj\u001b[0m \u001b[0;32min\u001b[0m \u001b[0mfreedom_house73_21_ctr\u001b[0m\u001b[0;34m.\u001b[0m\u001b[0mcolumns\u001b[0m\u001b[0;34m.\u001b[0m\u001b[0mget_level_values\u001b[0m\u001b[0;34m(\u001b[0m\u001b[0;36m0\u001b[0m\u001b[0;34m)\u001b[0m\u001b[0;34m.\u001b[0m\u001b[0munique\u001b[0m\u001b[0;34m(\u001b[0m\u001b[0;34m)\u001b[0m\u001b[0;34m:\u001b[0m\u001b[0;34m\u001b[0m\u001b[0;34m\u001b[0m\u001b[0m\n\u001b[0;32m----> 5\u001b[0;31m         \u001b[0m_df\u001b[0m\u001b[0;34m.\u001b[0m\u001b[0mloc\u001b[0m\u001b[0;34m[\u001b[0m\u001b[0;34m(\u001b[0m\u001b[0mi\u001b[0m\u001b[0;34m,\u001b[0m \u001b[0mint\u001b[0m\u001b[0;34m(\u001b[0m\u001b[0mj\u001b[0m\u001b[0;34m.\u001b[0m\u001b[0msplit\u001b[0m\u001b[0;34m(\u001b[0m\u001b[0;34m'.'\u001b[0m\u001b[0;34m)\u001b[0m\u001b[0;34m[\u001b[0m\u001b[0;34m-\u001b[0m\u001b[0;36m1\u001b[0m\u001b[0;34m]\u001b[0m\u001b[0;34m.\u001b[0m\u001b[0mstrip\u001b[0m\u001b[0;34m(\u001b[0m\u001b[0;34m)\u001b[0m\u001b[0;34m)\u001b[0m\u001b[0;34m)\u001b[0m\u001b[0;34m,\u001b[0m \u001b[0;34m:\u001b[0m\u001b[0;34m]\u001b[0m \u001b[0;34m=\u001b[0m \u001b[0;34m[\u001b[0m\u001b[0;34m*\u001b[0m\u001b[0mlist\u001b[0m\u001b[0;34m(\u001b[0m\u001b[0mfreedom_house73_21_ctr\u001b[0m\u001b[0;34m.\u001b[0m\u001b[0mloc\u001b[0m\u001b[0;34m[\u001b[0m\u001b[0mi\u001b[0m\u001b[0;34m,\u001b[0m \u001b[0mj\u001b[0m\u001b[0;34m]\u001b[0m\u001b[0;34m)\u001b[0m\u001b[0;34m]\u001b[0m\u001b[0;34m\u001b[0m\u001b[0;34m\u001b[0m\u001b[0m\n\u001b[0m\u001b[1;32m      6\u001b[0m \u001b[0mfreedom_house73_21_ctr\u001b[0m \u001b[0;34m=\u001b[0m \u001b[0m_df\u001b[0m\u001b[0;34m\u001b[0m\u001b[0;34m\u001b[0m\u001b[0m\n\u001b[1;32m      7\u001b[0m \u001b[0mfreedom_house73_21_ctr\u001b[0m\u001b[0;34m.\u001b[0m\u001b[0mindex\u001b[0m\u001b[0;34m.\u001b[0m\u001b[0mnames\u001b[0m \u001b[0;34m=\u001b[0m \u001b[0;34m[\u001b[0m\u001b[0;34m'country'\u001b[0m\u001b[0;34m,\u001b[0m \u001b[0;34m'year'\u001b[0m\u001b[0;34m]\u001b[0m\u001b[0;34m\u001b[0m\u001b[0;34m\u001b[0m\u001b[0m\n",
      "\u001b[0;32m~/Desktop/Taloustieteen_kursseja/Econometrics/Capstone.nosync/cap_venv/lib/python3.8/site-packages/pandas/core/indexing.py\u001b[0m in \u001b[0;36m__setitem__\u001b[0;34m(self, key, value)\u001b[0m\n\u001b[1;32m    690\u001b[0m \u001b[0;34m\u001b[0m\u001b[0m\n\u001b[1;32m    691\u001b[0m         \u001b[0miloc\u001b[0m \u001b[0;34m=\u001b[0m \u001b[0mself\u001b[0m \u001b[0;32mif\u001b[0m \u001b[0mself\u001b[0m\u001b[0;34m.\u001b[0m\u001b[0mname\u001b[0m \u001b[0;34m==\u001b[0m \u001b[0;34m\"iloc\"\u001b[0m \u001b[0;32melse\u001b[0m \u001b[0mself\u001b[0m\u001b[0;34m.\u001b[0m\u001b[0mobj\u001b[0m\u001b[0;34m.\u001b[0m\u001b[0miloc\u001b[0m\u001b[0;34m\u001b[0m\u001b[0;34m\u001b[0m\u001b[0m\n\u001b[0;32m--> 692\u001b[0;31m         \u001b[0miloc\u001b[0m\u001b[0;34m.\u001b[0m\u001b[0m_setitem_with_indexer\u001b[0m\u001b[0;34m(\u001b[0m\u001b[0mindexer\u001b[0m\u001b[0;34m,\u001b[0m \u001b[0mvalue\u001b[0m\u001b[0;34m,\u001b[0m \u001b[0mself\u001b[0m\u001b[0;34m.\u001b[0m\u001b[0mname\u001b[0m\u001b[0;34m)\u001b[0m\u001b[0;34m\u001b[0m\u001b[0;34m\u001b[0m\u001b[0m\n\u001b[0m\u001b[1;32m    693\u001b[0m \u001b[0;34m\u001b[0m\u001b[0m\n\u001b[1;32m    694\u001b[0m     \u001b[0;32mdef\u001b[0m \u001b[0m_validate_key\u001b[0m\u001b[0;34m(\u001b[0m\u001b[0mself\u001b[0m\u001b[0;34m,\u001b[0m \u001b[0mkey\u001b[0m\u001b[0;34m,\u001b[0m \u001b[0maxis\u001b[0m\u001b[0;34m:\u001b[0m \u001b[0mint\u001b[0m\u001b[0;34m)\u001b[0m\u001b[0;34m:\u001b[0m\u001b[0;34m\u001b[0m\u001b[0;34m\u001b[0m\u001b[0m\n",
      "\u001b[0;32m~/Desktop/Taloustieteen_kursseja/Econometrics/Capstone.nosync/cap_venv/lib/python3.8/site-packages/pandas/core/indexing.py\u001b[0m in \u001b[0;36m_setitem_with_indexer\u001b[0;34m(self, indexer, value, name)\u001b[0m\n\u001b[1;32m   1633\u001b[0m         \u001b[0;32mif\u001b[0m \u001b[0mtake_split_path\u001b[0m\u001b[0;34m:\u001b[0m\u001b[0;34m\u001b[0m\u001b[0;34m\u001b[0m\u001b[0m\n\u001b[1;32m   1634\u001b[0m             \u001b[0;31m# We have to operate column-wise\u001b[0m\u001b[0;34m\u001b[0m\u001b[0;34m\u001b[0m\u001b[0;34m\u001b[0m\u001b[0m\n\u001b[0;32m-> 1635\u001b[0;31m             \u001b[0mself\u001b[0m\u001b[0;34m.\u001b[0m\u001b[0m_setitem_with_indexer_split_path\u001b[0m\u001b[0;34m(\u001b[0m\u001b[0mindexer\u001b[0m\u001b[0;34m,\u001b[0m \u001b[0mvalue\u001b[0m\u001b[0;34m,\u001b[0m \u001b[0mname\u001b[0m\u001b[0;34m)\u001b[0m\u001b[0;34m\u001b[0m\u001b[0;34m\u001b[0m\u001b[0m\n\u001b[0m\u001b[1;32m   1636\u001b[0m         \u001b[0;32melse\u001b[0m\u001b[0;34m:\u001b[0m\u001b[0;34m\u001b[0m\u001b[0;34m\u001b[0m\u001b[0m\n\u001b[1;32m   1637\u001b[0m             \u001b[0mself\u001b[0m\u001b[0;34m.\u001b[0m\u001b[0m_setitem_single_block\u001b[0m\u001b[0;34m(\u001b[0m\u001b[0mindexer\u001b[0m\u001b[0;34m,\u001b[0m \u001b[0mvalue\u001b[0m\u001b[0;34m,\u001b[0m \u001b[0mname\u001b[0m\u001b[0;34m)\u001b[0m\u001b[0;34m\u001b[0m\u001b[0;34m\u001b[0m\u001b[0m\n",
      "\u001b[0;32m~/Desktop/Taloustieteen_kursseja/Econometrics/Capstone.nosync/cap_venv/lib/python3.8/site-packages/pandas/core/indexing.py\u001b[0m in \u001b[0;36m_setitem_with_indexer_split_path\u001b[0;34m(self, indexer, value, name)\u001b[0m\n\u001b[1;32m   1698\u001b[0m                 \u001b[0;31m# We are setting multiple columns in a single row.\u001b[0m\u001b[0;34m\u001b[0m\u001b[0;34m\u001b[0m\u001b[0;34m\u001b[0m\u001b[0m\n\u001b[1;32m   1699\u001b[0m                 \u001b[0;32mfor\u001b[0m \u001b[0mloc\u001b[0m\u001b[0;34m,\u001b[0m \u001b[0mv\u001b[0m \u001b[0;32min\u001b[0m \u001b[0mzip\u001b[0m\u001b[0;34m(\u001b[0m\u001b[0milocs\u001b[0m\u001b[0;34m,\u001b[0m \u001b[0mvalue\u001b[0m\u001b[0;34m)\u001b[0m\u001b[0;34m:\u001b[0m\u001b[0;34m\u001b[0m\u001b[0;34m\u001b[0m\u001b[0m\n\u001b[0;32m-> 1700\u001b[0;31m                     \u001b[0mself\u001b[0m\u001b[0;34m.\u001b[0m\u001b[0m_setitem_single_column\u001b[0m\u001b[0;34m(\u001b[0m\u001b[0mloc\u001b[0m\u001b[0;34m,\u001b[0m \u001b[0mv\u001b[0m\u001b[0;34m,\u001b[0m \u001b[0mpi\u001b[0m\u001b[0;34m)\u001b[0m\u001b[0;34m\u001b[0m\u001b[0;34m\u001b[0m\u001b[0m\n\u001b[0m\u001b[1;32m   1701\u001b[0m \u001b[0;34m\u001b[0m\u001b[0m\n\u001b[1;32m   1702\u001b[0m             \u001b[0;32melif\u001b[0m \u001b[0mlen\u001b[0m\u001b[0;34m(\u001b[0m\u001b[0milocs\u001b[0m\u001b[0;34m)\u001b[0m \u001b[0;34m==\u001b[0m \u001b[0;36m1\u001b[0m \u001b[0;32mand\u001b[0m \u001b[0mcom\u001b[0m\u001b[0;34m.\u001b[0m\u001b[0mis_null_slice\u001b[0m\u001b[0;34m(\u001b[0m\u001b[0mpi\u001b[0m\u001b[0;34m)\u001b[0m \u001b[0;32mand\u001b[0m \u001b[0mlen\u001b[0m\u001b[0;34m(\u001b[0m\u001b[0mself\u001b[0m\u001b[0;34m.\u001b[0m\u001b[0mobj\u001b[0m\u001b[0;34m)\u001b[0m \u001b[0;34m==\u001b[0m \u001b[0;36m0\u001b[0m\u001b[0;34m:\u001b[0m\u001b[0;34m\u001b[0m\u001b[0;34m\u001b[0m\u001b[0m\n",
      "\u001b[0;32m~/Desktop/Taloustieteen_kursseja/Econometrics/Capstone.nosync/cap_venv/lib/python3.8/site-packages/pandas/core/indexing.py\u001b[0m in \u001b[0;36m_setitem_single_column\u001b[0;34m(self, loc, value, plane_indexer)\u001b[0m\n\u001b[1;32m   1811\u001b[0m             \u001b[0;31m# set the item, possibly having a dtype change\u001b[0m\u001b[0;34m\u001b[0m\u001b[0;34m\u001b[0m\u001b[0;34m\u001b[0m\u001b[0m\n\u001b[1;32m   1812\u001b[0m             \u001b[0mser\u001b[0m \u001b[0;34m=\u001b[0m \u001b[0mser\u001b[0m\u001b[0;34m.\u001b[0m\u001b[0mcopy\u001b[0m\u001b[0;34m(\u001b[0m\u001b[0;34m)\u001b[0m\u001b[0;34m\u001b[0m\u001b[0;34m\u001b[0m\u001b[0m\n\u001b[0;32m-> 1813\u001b[0;31m             \u001b[0mser\u001b[0m\u001b[0;34m.\u001b[0m\u001b[0m_mgr\u001b[0m \u001b[0;34m=\u001b[0m \u001b[0mser\u001b[0m\u001b[0;34m.\u001b[0m\u001b[0m_mgr\u001b[0m\u001b[0;34m.\u001b[0m\u001b[0msetitem\u001b[0m\u001b[0;34m(\u001b[0m\u001b[0mindexer\u001b[0m\u001b[0;34m=\u001b[0m\u001b[0;34m(\u001b[0m\u001b[0mpi\u001b[0m\u001b[0;34m,\u001b[0m\u001b[0;34m)\u001b[0m\u001b[0;34m,\u001b[0m \u001b[0mvalue\u001b[0m\u001b[0;34m=\u001b[0m\u001b[0mvalue\u001b[0m\u001b[0;34m)\u001b[0m\u001b[0;34m\u001b[0m\u001b[0;34m\u001b[0m\u001b[0m\n\u001b[0m\u001b[1;32m   1814\u001b[0m             \u001b[0mser\u001b[0m\u001b[0;34m.\u001b[0m\u001b[0m_maybe_update_cacher\u001b[0m\u001b[0;34m(\u001b[0m\u001b[0mclear\u001b[0m\u001b[0;34m=\u001b[0m\u001b[0;32mTrue\u001b[0m\u001b[0;34m)\u001b[0m\u001b[0;34m\u001b[0m\u001b[0;34m\u001b[0m\u001b[0m\n\u001b[1;32m   1815\u001b[0m \u001b[0;34m\u001b[0m\u001b[0m\n",
      "\u001b[0;32m~/Desktop/Taloustieteen_kursseja/Econometrics/Capstone.nosync/cap_venv/lib/python3.8/site-packages/pandas/core/internals/managers.py\u001b[0m in \u001b[0;36msetitem\u001b[0;34m(self, indexer, value)\u001b[0m\n\u001b[1;32m    566\u001b[0m \u001b[0;34m\u001b[0m\u001b[0m\n\u001b[1;32m    567\u001b[0m     \u001b[0;32mdef\u001b[0m \u001b[0msetitem\u001b[0m\u001b[0;34m(\u001b[0m\u001b[0mself\u001b[0m\u001b[0;34m,\u001b[0m \u001b[0mindexer\u001b[0m\u001b[0;34m,\u001b[0m \u001b[0mvalue\u001b[0m\u001b[0;34m)\u001b[0m \u001b[0;34m->\u001b[0m \u001b[0;34m\"BlockManager\"\u001b[0m\u001b[0;34m:\u001b[0m\u001b[0;34m\u001b[0m\u001b[0;34m\u001b[0m\u001b[0m\n\u001b[0;32m--> 568\u001b[0;31m         \u001b[0;32mreturn\u001b[0m \u001b[0mself\u001b[0m\u001b[0;34m.\u001b[0m\u001b[0mapply\u001b[0m\u001b[0;34m(\u001b[0m\u001b[0;34m\"setitem\"\u001b[0m\u001b[0;34m,\u001b[0m \u001b[0mindexer\u001b[0m\u001b[0;34m=\u001b[0m\u001b[0mindexer\u001b[0m\u001b[0;34m,\u001b[0m \u001b[0mvalue\u001b[0m\u001b[0;34m=\u001b[0m\u001b[0mvalue\u001b[0m\u001b[0;34m)\u001b[0m\u001b[0;34m\u001b[0m\u001b[0;34m\u001b[0m\u001b[0m\n\u001b[0m\u001b[1;32m    569\u001b[0m \u001b[0;34m\u001b[0m\u001b[0m\n\u001b[1;32m    570\u001b[0m     \u001b[0;32mdef\u001b[0m \u001b[0mputmask\u001b[0m\u001b[0;34m(\u001b[0m\u001b[0mself\u001b[0m\u001b[0;34m,\u001b[0m \u001b[0mmask\u001b[0m\u001b[0;34m,\u001b[0m \u001b[0mnew\u001b[0m\u001b[0;34m,\u001b[0m \u001b[0malign\u001b[0m\u001b[0;34m:\u001b[0m \u001b[0mbool\u001b[0m \u001b[0;34m=\u001b[0m \u001b[0;32mTrue\u001b[0m\u001b[0;34m,\u001b[0m \u001b[0maxis\u001b[0m\u001b[0;34m:\u001b[0m \u001b[0mint\u001b[0m \u001b[0;34m=\u001b[0m \u001b[0;36m0\u001b[0m\u001b[0;34m)\u001b[0m\u001b[0;34m:\u001b[0m\u001b[0;34m\u001b[0m\u001b[0;34m\u001b[0m\u001b[0m\n",
      "\u001b[0;32m~/Desktop/Taloustieteen_kursseja/Econometrics/Capstone.nosync/cap_venv/lib/python3.8/site-packages/pandas/core/internals/managers.py\u001b[0m in \u001b[0;36mapply\u001b[0;34m(self, f, align_keys, ignore_failures, **kwargs)\u001b[0m\n\u001b[1;32m    425\u001b[0m                     \u001b[0mapplied\u001b[0m \u001b[0;34m=\u001b[0m \u001b[0mb\u001b[0m\u001b[0;34m.\u001b[0m\u001b[0mapply\u001b[0m\u001b[0;34m(\u001b[0m\u001b[0mf\u001b[0m\u001b[0;34m,\u001b[0m \u001b[0;34m**\u001b[0m\u001b[0mkwargs\u001b[0m\u001b[0;34m)\u001b[0m\u001b[0;34m\u001b[0m\u001b[0;34m\u001b[0m\u001b[0m\n\u001b[1;32m    426\u001b[0m                 \u001b[0;32melse\u001b[0m\u001b[0;34m:\u001b[0m\u001b[0;34m\u001b[0m\u001b[0;34m\u001b[0m\u001b[0m\n\u001b[0;32m--> 427\u001b[0;31m                     \u001b[0mapplied\u001b[0m \u001b[0;34m=\u001b[0m \u001b[0mgetattr\u001b[0m\u001b[0;34m(\u001b[0m\u001b[0mb\u001b[0m\u001b[0;34m,\u001b[0m \u001b[0mf\u001b[0m\u001b[0;34m)\u001b[0m\u001b[0;34m(\u001b[0m\u001b[0;34m**\u001b[0m\u001b[0mkwargs\u001b[0m\u001b[0;34m)\u001b[0m\u001b[0;34m\u001b[0m\u001b[0;34m\u001b[0m\u001b[0m\n\u001b[0m\u001b[1;32m    428\u001b[0m             \u001b[0;32mexcept\u001b[0m \u001b[0;34m(\u001b[0m\u001b[0mTypeError\u001b[0m\u001b[0;34m,\u001b[0m \u001b[0mNotImplementedError\u001b[0m\u001b[0;34m)\u001b[0m\u001b[0;34m:\u001b[0m\u001b[0;34m\u001b[0m\u001b[0;34m\u001b[0m\u001b[0m\n\u001b[1;32m    429\u001b[0m                 \u001b[0;32mif\u001b[0m \u001b[0;32mnot\u001b[0m \u001b[0mignore_failures\u001b[0m\u001b[0;34m:\u001b[0m\u001b[0;34m\u001b[0m\u001b[0;34m\u001b[0m\u001b[0m\n",
      "\u001b[0;32m~/Desktop/Taloustieteen_kursseja/Econometrics/Capstone.nosync/cap_venv/lib/python3.8/site-packages/pandas/core/internals/blocks.py\u001b[0m in \u001b[0;36msetitem\u001b[0;34m(self, indexer, value)\u001b[0m\n\u001b[1;32m   1037\u001b[0m         \u001b[0;32mif\u001b[0m \u001b[0mtranspose\u001b[0m\u001b[0;34m:\u001b[0m\u001b[0;34m\u001b[0m\u001b[0;34m\u001b[0m\u001b[0m\n\u001b[1;32m   1038\u001b[0m             \u001b[0mvalues\u001b[0m \u001b[0;34m=\u001b[0m \u001b[0mvalues\u001b[0m\u001b[0;34m.\u001b[0m\u001b[0mT\u001b[0m\u001b[0;34m\u001b[0m\u001b[0;34m\u001b[0m\u001b[0m\n\u001b[0;32m-> 1039\u001b[0;31m         \u001b[0mblock\u001b[0m \u001b[0;34m=\u001b[0m \u001b[0mself\u001b[0m\u001b[0;34m.\u001b[0m\u001b[0mmake_block\u001b[0m\u001b[0;34m(\u001b[0m\u001b[0mvalues\u001b[0m\u001b[0;34m)\u001b[0m\u001b[0;34m\u001b[0m\u001b[0;34m\u001b[0m\u001b[0m\n\u001b[0m\u001b[1;32m   1040\u001b[0m         \u001b[0;32mreturn\u001b[0m \u001b[0mblock\u001b[0m\u001b[0;34m\u001b[0m\u001b[0;34m\u001b[0m\u001b[0m\n\u001b[1;32m   1041\u001b[0m \u001b[0;34m\u001b[0m\u001b[0m\n",
      "\u001b[0;32m~/Desktop/Taloustieteen_kursseja/Econometrics/Capstone.nosync/cap_venv/lib/python3.8/site-packages/pandas/core/internals/blocks.py\u001b[0m in \u001b[0;36mmake_block\u001b[0;34m(self, values, placement)\u001b[0m\n\u001b[1;32m    284\u001b[0m             \u001b[0mvalues\u001b[0m \u001b[0;34m=\u001b[0m \u001b[0m_block_shape\u001b[0m\u001b[0;34m(\u001b[0m\u001b[0mvalues\u001b[0m\u001b[0;34m,\u001b[0m \u001b[0mndim\u001b[0m\u001b[0;34m=\u001b[0m\u001b[0mself\u001b[0m\u001b[0;34m.\u001b[0m\u001b[0mndim\u001b[0m\u001b[0;34m)\u001b[0m\u001b[0;34m\u001b[0m\u001b[0;34m\u001b[0m\u001b[0m\n\u001b[1;32m    285\u001b[0m \u001b[0;34m\u001b[0m\u001b[0m\n\u001b[0;32m--> 286\u001b[0;31m         \u001b[0;32mreturn\u001b[0m \u001b[0mmake_block\u001b[0m\u001b[0;34m(\u001b[0m\u001b[0mvalues\u001b[0m\u001b[0;34m,\u001b[0m \u001b[0mplacement\u001b[0m\u001b[0;34m=\u001b[0m\u001b[0mplacement\u001b[0m\u001b[0;34m,\u001b[0m \u001b[0mndim\u001b[0m\u001b[0;34m=\u001b[0m\u001b[0mself\u001b[0m\u001b[0;34m.\u001b[0m\u001b[0mndim\u001b[0m\u001b[0;34m)\u001b[0m\u001b[0;34m\u001b[0m\u001b[0;34m\u001b[0m\u001b[0m\n\u001b[0m\u001b[1;32m    287\u001b[0m \u001b[0;34m\u001b[0m\u001b[0m\n\u001b[1;32m    288\u001b[0m     \u001b[0;32mdef\u001b[0m \u001b[0mmake_block_same_class\u001b[0m\u001b[0;34m(\u001b[0m\u001b[0mself\u001b[0m\u001b[0;34m,\u001b[0m \u001b[0mvalues\u001b[0m\u001b[0;34m,\u001b[0m \u001b[0mplacement\u001b[0m\u001b[0;34m=\u001b[0m\u001b[0;32mNone\u001b[0m\u001b[0;34m,\u001b[0m \u001b[0mndim\u001b[0m\u001b[0;34m=\u001b[0m\u001b[0;32mNone\u001b[0m\u001b[0;34m)\u001b[0m\u001b[0;34m:\u001b[0m\u001b[0;34m\u001b[0m\u001b[0;34m\u001b[0m\u001b[0m\n",
      "\u001b[0;32m~/Desktop/Taloustieteen_kursseja/Econometrics/Capstone.nosync/cap_venv/lib/python3.8/site-packages/pandas/core/internals/blocks.py\u001b[0m in \u001b[0;36mmake_block\u001b[0;34m(values, placement, klass, ndim, dtype)\u001b[0m\n\u001b[1;32m   2733\u001b[0m     \u001b[0;32mif\u001b[0m \u001b[0mklass\u001b[0m \u001b[0;32mis\u001b[0m \u001b[0;32mNone\u001b[0m\u001b[0;34m:\u001b[0m\u001b[0;34m\u001b[0m\u001b[0;34m\u001b[0m\u001b[0m\n\u001b[1;32m   2734\u001b[0m         \u001b[0mdtype\u001b[0m \u001b[0;34m=\u001b[0m \u001b[0mdtype\u001b[0m \u001b[0;32mor\u001b[0m \u001b[0mvalues\u001b[0m\u001b[0;34m.\u001b[0m\u001b[0mdtype\u001b[0m\u001b[0;34m\u001b[0m\u001b[0;34m\u001b[0m\u001b[0m\n\u001b[0;32m-> 2735\u001b[0;31m         \u001b[0mklass\u001b[0m \u001b[0;34m=\u001b[0m \u001b[0mget_block_type\u001b[0m\u001b[0;34m(\u001b[0m\u001b[0mvalues\u001b[0m\u001b[0;34m,\u001b[0m \u001b[0mdtype\u001b[0m\u001b[0;34m)\u001b[0m\u001b[0;34m\u001b[0m\u001b[0;34m\u001b[0m\u001b[0m\n\u001b[0m\u001b[1;32m   2736\u001b[0m \u001b[0;34m\u001b[0m\u001b[0m\n\u001b[1;32m   2737\u001b[0m     \u001b[0;32melif\u001b[0m \u001b[0mklass\u001b[0m \u001b[0;32mis\u001b[0m \u001b[0mDatetimeTZBlock\u001b[0m \u001b[0;32mand\u001b[0m \u001b[0;32mnot\u001b[0m \u001b[0mis_datetime64tz_dtype\u001b[0m\u001b[0;34m(\u001b[0m\u001b[0mvalues\u001b[0m\u001b[0;34m.\u001b[0m\u001b[0mdtype\u001b[0m\u001b[0;34m)\u001b[0m\u001b[0;34m:\u001b[0m\u001b[0;34m\u001b[0m\u001b[0;34m\u001b[0m\u001b[0m\n",
      "\u001b[0;32m~/Desktop/Taloustieteen_kursseja/Econometrics/Capstone.nosync/cap_venv/lib/python3.8/site-packages/pandas/core/internals/blocks.py\u001b[0m in \u001b[0;36mget_block_type\u001b[0;34m(values, dtype)\u001b[0m\n\u001b[1;32m   2698\u001b[0m     \u001b[0;32melif\u001b[0m \u001b[0mis_datetime64tz_dtype\u001b[0m\u001b[0;34m(\u001b[0m\u001b[0mvalues\u001b[0m\u001b[0;34m.\u001b[0m\u001b[0mdtype\u001b[0m\u001b[0;34m)\u001b[0m\u001b[0;34m:\u001b[0m\u001b[0;34m\u001b[0m\u001b[0;34m\u001b[0m\u001b[0m\n\u001b[1;32m   2699\u001b[0m         \u001b[0mcls\u001b[0m \u001b[0;34m=\u001b[0m \u001b[0mDatetimeTZBlock\u001b[0m\u001b[0;34m\u001b[0m\u001b[0;34m\u001b[0m\u001b[0m\n\u001b[0;32m-> 2700\u001b[0;31m     \u001b[0;32melif\u001b[0m \u001b[0mis_interval_dtype\u001b[0m\u001b[0;34m(\u001b[0m\u001b[0mdtype\u001b[0m\u001b[0;34m)\u001b[0m \u001b[0;32mor\u001b[0m \u001b[0mis_period_dtype\u001b[0m\u001b[0;34m(\u001b[0m\u001b[0mdtype\u001b[0m\u001b[0;34m)\u001b[0m\u001b[0;34m:\u001b[0m\u001b[0;34m\u001b[0m\u001b[0;34m\u001b[0m\u001b[0m\n\u001b[0m\u001b[1;32m   2701\u001b[0m         \u001b[0mcls\u001b[0m \u001b[0;34m=\u001b[0m \u001b[0mObjectValuesExtensionBlock\u001b[0m\u001b[0;34m\u001b[0m\u001b[0;34m\u001b[0m\u001b[0m\n\u001b[1;32m   2702\u001b[0m     \u001b[0;32melif\u001b[0m \u001b[0mis_extension_array_dtype\u001b[0m\u001b[0;34m(\u001b[0m\u001b[0mvalues\u001b[0m\u001b[0;34m.\u001b[0m\u001b[0mdtype\u001b[0m\u001b[0;34m)\u001b[0m\u001b[0;34m:\u001b[0m\u001b[0;34m\u001b[0m\u001b[0;34m\u001b[0m\u001b[0m\n",
      "\u001b[0;32m~/Desktop/Taloustieteen_kursseja/Econometrics/Capstone.nosync/cap_venv/lib/python3.8/site-packages/pandas/core/dtypes/common.py\u001b[0m in \u001b[0;36mis_interval_dtype\u001b[0;34m(arr_or_dtype)\u001b[0m\n\u001b[1;32m    532\u001b[0m     \u001b[0;32mif\u001b[0m \u001b[0marr_or_dtype\u001b[0m \u001b[0;32mis\u001b[0m \u001b[0;32mNone\u001b[0m\u001b[0;34m:\u001b[0m\u001b[0;34m\u001b[0m\u001b[0;34m\u001b[0m\u001b[0m\n\u001b[1;32m    533\u001b[0m         \u001b[0;32mreturn\u001b[0m \u001b[0;32mFalse\u001b[0m\u001b[0;34m\u001b[0m\u001b[0;34m\u001b[0m\u001b[0m\n\u001b[0;32m--> 534\u001b[0;31m     \u001b[0;32mreturn\u001b[0m \u001b[0mIntervalDtype\u001b[0m\u001b[0;34m.\u001b[0m\u001b[0mis_dtype\u001b[0m\u001b[0;34m(\u001b[0m\u001b[0marr_or_dtype\u001b[0m\u001b[0;34m)\u001b[0m\u001b[0;34m\u001b[0m\u001b[0;34m\u001b[0m\u001b[0m\n\u001b[0m\u001b[1;32m    535\u001b[0m \u001b[0;34m\u001b[0m\u001b[0m\n\u001b[1;32m    536\u001b[0m \u001b[0;34m\u001b[0m\u001b[0m\n",
      "\u001b[0;32m~/Desktop/Taloustieteen_kursseja/Econometrics/Capstone.nosync/cap_venv/lib/python3.8/site-packages/pandas/core/dtypes/dtypes.py\u001b[0m in \u001b[0;36mis_dtype\u001b[0;34m(cls, dtype)\u001b[0m\n\u001b[1;32m   1147\u001b[0m             \u001b[0;32melse\u001b[0m\u001b[0;34m:\u001b[0m\u001b[0;34m\u001b[0m\u001b[0;34m\u001b[0m\u001b[0m\n\u001b[1;32m   1148\u001b[0m                 \u001b[0;32mreturn\u001b[0m \u001b[0;32mFalse\u001b[0m\u001b[0;34m\u001b[0m\u001b[0;34m\u001b[0m\u001b[0m\n\u001b[0;32m-> 1149\u001b[0;31m         \u001b[0;32mreturn\u001b[0m \u001b[0msuper\u001b[0m\u001b[0;34m(\u001b[0m\u001b[0;34m)\u001b[0m\u001b[0;34m.\u001b[0m\u001b[0mis_dtype\u001b[0m\u001b[0;34m(\u001b[0m\u001b[0mdtype\u001b[0m\u001b[0;34m)\u001b[0m\u001b[0;34m\u001b[0m\u001b[0;34m\u001b[0m\u001b[0m\n\u001b[0m\u001b[1;32m   1150\u001b[0m \u001b[0;34m\u001b[0m\u001b[0m\n\u001b[1;32m   1151\u001b[0m     def __from_arrow__(\n",
      "\u001b[0;32m~/Desktop/Taloustieteen_kursseja/Econometrics/Capstone.nosync/cap_venv/lib/python3.8/site-packages/pandas/core/dtypes/base.py\u001b[0m in \u001b[0;36mis_dtype\u001b[0;34m(cls, dtype)\u001b[0m\n\u001b[1;32m    278\u001b[0m         \u001b[0mdtype\u001b[0m \u001b[0;34m=\u001b[0m \u001b[0mgetattr\u001b[0m\u001b[0;34m(\u001b[0m\u001b[0mdtype\u001b[0m\u001b[0;34m,\u001b[0m \u001b[0;34m\"dtype\"\u001b[0m\u001b[0;34m,\u001b[0m \u001b[0mdtype\u001b[0m\u001b[0;34m)\u001b[0m\u001b[0;34m\u001b[0m\u001b[0;34m\u001b[0m\u001b[0m\n\u001b[1;32m    279\u001b[0m \u001b[0;34m\u001b[0m\u001b[0m\n\u001b[0;32m--> 280\u001b[0;31m         \u001b[0;32mif\u001b[0m \u001b[0misinstance\u001b[0m\u001b[0;34m(\u001b[0m\u001b[0mdtype\u001b[0m\u001b[0;34m,\u001b[0m \u001b[0;34m(\u001b[0m\u001b[0mABCSeries\u001b[0m\u001b[0;34m,\u001b[0m \u001b[0mABCIndexClass\u001b[0m\u001b[0;34m,\u001b[0m \u001b[0mABCDataFrame\u001b[0m\u001b[0;34m,\u001b[0m \u001b[0mnp\u001b[0m\u001b[0;34m.\u001b[0m\u001b[0mdtype\u001b[0m\u001b[0;34m)\u001b[0m\u001b[0;34m)\u001b[0m\u001b[0;34m:\u001b[0m\u001b[0;34m\u001b[0m\u001b[0;34m\u001b[0m\u001b[0m\n\u001b[0m\u001b[1;32m    281\u001b[0m             \u001b[0;31m# https://github.com/pandas-dev/pandas/issues/22960\u001b[0m\u001b[0;34m\u001b[0m\u001b[0;34m\u001b[0m\u001b[0;34m\u001b[0m\u001b[0m\n\u001b[1;32m    282\u001b[0m             \u001b[0;31m# avoid passing data to `construct_from_string`. This could\u001b[0m\u001b[0;34m\u001b[0m\u001b[0;34m\u001b[0m\u001b[0;34m\u001b[0m\u001b[0m\n",
      "\u001b[0;31mKeyboardInterrupt\u001b[0m: "
     ]
    }
   ],
   "source": [
    "y_list = [int(i.split('.')[-1].strip()) for i in freedom_house73_21_ctr.columns.get_level_values(0).unique()]\n",
    "_df = pd.DataFrame(columns=[i.strip() for i in list(freedom_house73_21_ctr.columns.get_level_values(1)[:3])], index=pd.MultiIndex.from_tuples(list(zip(np.repeat(freedom_house73_21_ctr.index, len(y_list)), y_list * len(y_list)))))\n",
    "for i in freedom_house73_21_ctr.index:\n",
    "    for j in freedom_house73_21_ctr.columns.get_level_values(0).unique():\n",
    "        _df.loc[(i, int(j.split('.')[-1].strip())), :] = [*list(freedom_house73_21_ctr.loc[i, j])]\n",
    "freedom_house73_21_ctr = _df\n",
    "freedom_house73_21_ctr.index.names = ['country', 'year']"
   ]
  },
  {
   "cell_type": "code",
   "execution_count": 122,
   "metadata": {},
   "outputs": [],
   "source": [
    "#freedom_house73_21_ctr.iloc[:, :-1] = freedom_house73_21_ctr.iloc[:, :-1].replace(rep_map)\n",
    "#freedom_house73_21_ctr.iloc[:, :-1] = freedom_house73_21_ctr.iloc[:, :-1].apply(pd.to_numeric, errors='coerce')"
   ]
  },
  {
   "cell_type": "code",
   "execution_count": 121,
   "metadata": {},
   "outputs": [
    {
     "output_type": "execute_result",
     "data": {
      "text/plain": [
       "                 PR CL Status\n",
       "country     year             \n",
       "afghanistan 1972  4  5     PF\n",
       "            1973  7  6     NF\n",
       "            1974  7  6     NF\n",
       "            1975  7  6     NF\n",
       "            1976  7  6     NF"
      ],
      "text/html": "<div>\n<style scoped>\n    .dataframe tbody tr th:only-of-type {\n        vertical-align: middle;\n    }\n\n    .dataframe tbody tr th {\n        vertical-align: top;\n    }\n\n    .dataframe thead th {\n        text-align: right;\n    }\n</style>\n<table border=\"1\" class=\"dataframe\">\n  <thead>\n    <tr style=\"text-align: right;\">\n      <th></th>\n      <th></th>\n      <th>PR</th>\n      <th>CL</th>\n      <th>Status</th>\n    </tr>\n    <tr>\n      <th>country</th>\n      <th>year</th>\n      <th></th>\n      <th></th>\n      <th></th>\n    </tr>\n  </thead>\n  <tbody>\n    <tr>\n      <th rowspan=\"5\" valign=\"top\">afghanistan</th>\n      <th>1972</th>\n      <td>4</td>\n      <td>5</td>\n      <td>PF</td>\n    </tr>\n    <tr>\n      <th>1973</th>\n      <td>7</td>\n      <td>6</td>\n      <td>NF</td>\n    </tr>\n    <tr>\n      <th>1974</th>\n      <td>7</td>\n      <td>6</td>\n      <td>NF</td>\n    </tr>\n    <tr>\n      <th>1975</th>\n      <td>7</td>\n      <td>6</td>\n      <td>NF</td>\n    </tr>\n    <tr>\n      <th>1976</th>\n      <td>7</td>\n      <td>6</td>\n      <td>NF</td>\n    </tr>\n  </tbody>\n</table>\n</div>"
     },
     "metadata": {},
     "execution_count": 121
    }
   ],
   "source": [
    "freedom_house73_21_ctr.head()"
   ]
  },
  {
   "cell_type": "code",
   "execution_count": 127,
   "metadata": {},
   "outputs": [
    {
     "output_type": "execute_result",
     "data": {
      "text/plain": [
       "                   PR   CL\n",
       "country     year          \n",
       "afghanistan 1972  4.0  5.0\n",
       "            1973  7.0  6.0\n",
       "            1974  7.0  6.0\n",
       "            1975  7.0  6.0\n",
       "            1976  7.0  6.0\n",
       "...               ...  ...\n",
       "zimbabwe    2016  5.0  5.0\n",
       "            2017  6.0  5.0\n",
       "            2018  5.0  5.0\n",
       "            2019  5.0  5.0\n",
       "            2020  6.0  5.0\n",
       "\n",
       "[9840 rows x 2 columns]"
      ],
      "text/html": "<div>\n<style scoped>\n    .dataframe tbody tr th:only-of-type {\n        vertical-align: middle;\n    }\n\n    .dataframe tbody tr th {\n        vertical-align: top;\n    }\n\n    .dataframe thead th {\n        text-align: right;\n    }\n</style>\n<table border=\"1\" class=\"dataframe\">\n  <thead>\n    <tr style=\"text-align: right;\">\n      <th></th>\n      <th></th>\n      <th>PR</th>\n      <th>CL</th>\n    </tr>\n    <tr>\n      <th>country</th>\n      <th>year</th>\n      <th></th>\n      <th></th>\n    </tr>\n  </thead>\n  <tbody>\n    <tr>\n      <th rowspan=\"5\" valign=\"top\">afghanistan</th>\n      <th>1972</th>\n      <td>4.0</td>\n      <td>5.0</td>\n    </tr>\n    <tr>\n      <th>1973</th>\n      <td>7.0</td>\n      <td>6.0</td>\n    </tr>\n    <tr>\n      <th>1974</th>\n      <td>7.0</td>\n      <td>6.0</td>\n    </tr>\n    <tr>\n      <th>1975</th>\n      <td>7.0</td>\n      <td>6.0</td>\n    </tr>\n    <tr>\n      <th>1976</th>\n      <td>7.0</td>\n      <td>6.0</td>\n    </tr>\n    <tr>\n      <th>...</th>\n      <th>...</th>\n      <td>...</td>\n      <td>...</td>\n    </tr>\n    <tr>\n      <th rowspan=\"5\" valign=\"top\">zimbabwe</th>\n      <th>2016</th>\n      <td>5.0</td>\n      <td>5.0</td>\n    </tr>\n    <tr>\n      <th>2017</th>\n      <td>6.0</td>\n      <td>5.0</td>\n    </tr>\n    <tr>\n      <th>2018</th>\n      <td>5.0</td>\n      <td>5.0</td>\n    </tr>\n    <tr>\n      <th>2019</th>\n      <td>5.0</td>\n      <td>5.0</td>\n    </tr>\n    <tr>\n      <th>2020</th>\n      <td>6.0</td>\n      <td>5.0</td>\n    </tr>\n  </tbody>\n</table>\n<p>9840 rows × 2 columns</p>\n</div>"
     },
     "metadata": {},
     "execution_count": 127
    }
   ],
   "source": [
    "freedom_house73_21_ctr.iloc[:, :-1].apply(pd.to_numeric, errors='coerce')"
   ]
  },
  {
   "cell_type": "code",
   "execution_count": 116,
   "metadata": {},
   "outputs": [],
   "source": [
    "freedom_house73_21_hd = pd.read_csv('./raw_data/Country_and_Territory_Ratings_and_Statuses_FIW1973-2021_hd.csv', sep=';')"
   ]
  },
  {
   "cell_type": "code",
   "execution_count": 45,
   "metadata": {},
   "outputs": [
    {
     "output_type": "execute_result",
     "data": {
      "text/plain": [
       "  FIW Survey Edition* Year(s) Under Review**  Total Countries  \\\n",
       "0                2021                   2020            195.0   \n",
       "1                2020                   2019            195.0   \n",
       "2                2019                   2018            195.0   \n",
       "3                2018                   2017            195.0   \n",
       "4                2017                   2016            195.0   \n",
       "\n",
       "   Number of F Countries % of F Countries  Number of PF Countries  \\\n",
       "0                   82.0          42,05 %                    59.0   \n",
       "1                   83.0          42,56 %                    63.0   \n",
       "2                   86.0          44,10 %                    59.0   \n",
       "3                   88.0          45,13 %                    58.0   \n",
       "4                   87.0          44,62 %                    59.0   \n",
       "\n",
       "  % of PF Countries  Number of NF Countries % of NF Countries  Unnamed: 9  \\\n",
       "0           30,26 %                    54.0           27,69 %         NaN   \n",
       "1           32,31 %                    49.0           25,13 %         NaN   \n",
       "2           30,26 %                    50.0           25,64 %         NaN   \n",
       "3           29,74 %                    49.0           25,13 %         NaN   \n",
       "4           30,26 %                    49.0           25,13 %         NaN   \n",
       "\n",
       "   ...  Unnamed: 12  Unnamed: 13  Unnamed: 14  Unnamed: 15  Unnamed: 16  \\\n",
       "0  ...          NaN          NaN          NaN          NaN          NaN   \n",
       "1  ...          NaN          NaN          NaN          NaN          NaN   \n",
       "2  ...          NaN          NaN          NaN          NaN          NaN   \n",
       "3  ...          NaN          NaN          NaN          NaN          NaN   \n",
       "4  ...          NaN          NaN          NaN          NaN          NaN   \n",
       "\n",
       "   Unnamed: 17  Unnamed: 18  Unnamed: 19  Unnamed: 20  Unnamed: 21  \n",
       "0          NaN          NaN          NaN          NaN          NaN  \n",
       "1          NaN          NaN          NaN          NaN          NaN  \n",
       "2          NaN          NaN          NaN          NaN         True  \n",
       "3          NaN          NaN          NaN          NaN         True  \n",
       "4          NaN          NaN          NaN          NaN         True  \n",
       "\n",
       "[5 rows x 22 columns]"
      ],
      "text/html": "<div>\n<style scoped>\n    .dataframe tbody tr th:only-of-type {\n        vertical-align: middle;\n    }\n\n    .dataframe tbody tr th {\n        vertical-align: top;\n    }\n\n    .dataframe thead th {\n        text-align: right;\n    }\n</style>\n<table border=\"1\" class=\"dataframe\">\n  <thead>\n    <tr style=\"text-align: right;\">\n      <th></th>\n      <th>FIW Survey Edition*</th>\n      <th>Year(s) Under Review**</th>\n      <th>Total Countries</th>\n      <th>Number of F Countries</th>\n      <th>% of F Countries</th>\n      <th>Number of PF Countries</th>\n      <th>% of PF Countries</th>\n      <th>Number of NF Countries</th>\n      <th>% of NF Countries</th>\n      <th>Unnamed: 9</th>\n      <th>...</th>\n      <th>Unnamed: 12</th>\n      <th>Unnamed: 13</th>\n      <th>Unnamed: 14</th>\n      <th>Unnamed: 15</th>\n      <th>Unnamed: 16</th>\n      <th>Unnamed: 17</th>\n      <th>Unnamed: 18</th>\n      <th>Unnamed: 19</th>\n      <th>Unnamed: 20</th>\n      <th>Unnamed: 21</th>\n    </tr>\n  </thead>\n  <tbody>\n    <tr>\n      <th>0</th>\n      <td>2021</td>\n      <td>2020</td>\n      <td>195.0</td>\n      <td>82.0</td>\n      <td>42,05 %</td>\n      <td>59.0</td>\n      <td>30,26 %</td>\n      <td>54.0</td>\n      <td>27,69 %</td>\n      <td>NaN</td>\n      <td>...</td>\n      <td>NaN</td>\n      <td>NaN</td>\n      <td>NaN</td>\n      <td>NaN</td>\n      <td>NaN</td>\n      <td>NaN</td>\n      <td>NaN</td>\n      <td>NaN</td>\n      <td>NaN</td>\n      <td>NaN</td>\n    </tr>\n    <tr>\n      <th>1</th>\n      <td>2020</td>\n      <td>2019</td>\n      <td>195.0</td>\n      <td>83.0</td>\n      <td>42,56 %</td>\n      <td>63.0</td>\n      <td>32,31 %</td>\n      <td>49.0</td>\n      <td>25,13 %</td>\n      <td>NaN</td>\n      <td>...</td>\n      <td>NaN</td>\n      <td>NaN</td>\n      <td>NaN</td>\n      <td>NaN</td>\n      <td>NaN</td>\n      <td>NaN</td>\n      <td>NaN</td>\n      <td>NaN</td>\n      <td>NaN</td>\n      <td>NaN</td>\n    </tr>\n    <tr>\n      <th>2</th>\n      <td>2019</td>\n      <td>2018</td>\n      <td>195.0</td>\n      <td>86.0</td>\n      <td>44,10 %</td>\n      <td>59.0</td>\n      <td>30,26 %</td>\n      <td>50.0</td>\n      <td>25,64 %</td>\n      <td>NaN</td>\n      <td>...</td>\n      <td>NaN</td>\n      <td>NaN</td>\n      <td>NaN</td>\n      <td>NaN</td>\n      <td>NaN</td>\n      <td>NaN</td>\n      <td>NaN</td>\n      <td>NaN</td>\n      <td>NaN</td>\n      <td>True</td>\n    </tr>\n    <tr>\n      <th>3</th>\n      <td>2018</td>\n      <td>2017</td>\n      <td>195.0</td>\n      <td>88.0</td>\n      <td>45,13 %</td>\n      <td>58.0</td>\n      <td>29,74 %</td>\n      <td>49.0</td>\n      <td>25,13 %</td>\n      <td>NaN</td>\n      <td>...</td>\n      <td>NaN</td>\n      <td>NaN</td>\n      <td>NaN</td>\n      <td>NaN</td>\n      <td>NaN</td>\n      <td>NaN</td>\n      <td>NaN</td>\n      <td>NaN</td>\n      <td>NaN</td>\n      <td>True</td>\n    </tr>\n    <tr>\n      <th>4</th>\n      <td>2017</td>\n      <td>2016</td>\n      <td>195.0</td>\n      <td>87.0</td>\n      <td>44,62 %</td>\n      <td>59.0</td>\n      <td>30,26 %</td>\n      <td>49.0</td>\n      <td>25,13 %</td>\n      <td>NaN</td>\n      <td>...</td>\n      <td>NaN</td>\n      <td>NaN</td>\n      <td>NaN</td>\n      <td>NaN</td>\n      <td>NaN</td>\n      <td>NaN</td>\n      <td>NaN</td>\n      <td>NaN</td>\n      <td>NaN</td>\n      <td>True</td>\n    </tr>\n  </tbody>\n</table>\n<p>5 rows × 22 columns</p>\n</div>"
     },
     "metadata": {},
     "execution_count": 45
    }
   ],
   "source": [
    "freedom_house73_21_hd.head()"
   ]
  },
  {
   "cell_type": "code",
   "execution_count": 6,
   "metadata": {},
   "outputs": [],
   "source": [
    "continent = c_names_as_index(pd.read_csv('./raw_data/Aggregate_Category_and_Subcategory_Scores_FIW_2003-2021_a.csv', sep=';', skiprows=1), 'Abkhazia')\n",
    "continent = continent.drop(continent.columns[1:], axis=1)\n",
    "continent.loc[:, 'continent cat'] = continent.Eurasia.astype('category').cat.codes\n",
    "continent.index = continent.index.rename('country')"
   ]
  },
  {
   "cell_type": "code",
   "execution_count": 7,
   "metadata": {},
   "outputs": [
    {
     "output_type": "execute_result",
     "data": {
      "text/plain": [
       "               Eurasia  continent cat\n",
       "country                              \n",
       "afghanistan       Asia              1\n",
       "albania         Europe              3\n",
       "algeria           MENA              4\n",
       "andorra         Europe              3\n",
       "angola             SSA              5\n",
       "...                ...            ...\n",
       "vietnam           Asia              1\n",
       "western sahara    MENA              4\n",
       "yemen             MENA              4\n",
       "zambia             SSA              5\n",
       "zimbabwe           SSA              5\n",
       "\n",
       "[3338 rows x 2 columns]"
      ],
      "text/html": "<div>\n<style scoped>\n    .dataframe tbody tr th:only-of-type {\n        vertical-align: middle;\n    }\n\n    .dataframe tbody tr th {\n        vertical-align: top;\n    }\n\n    .dataframe thead th {\n        text-align: right;\n    }\n</style>\n<table border=\"1\" class=\"dataframe\">\n  <thead>\n    <tr style=\"text-align: right;\">\n      <th></th>\n      <th>Eurasia</th>\n      <th>continent cat</th>\n    </tr>\n    <tr>\n      <th>country</th>\n      <th></th>\n      <th></th>\n    </tr>\n  </thead>\n  <tbody>\n    <tr>\n      <th>afghanistan</th>\n      <td>Asia</td>\n      <td>1</td>\n    </tr>\n    <tr>\n      <th>albania</th>\n      <td>Europe</td>\n      <td>3</td>\n    </tr>\n    <tr>\n      <th>algeria</th>\n      <td>MENA</td>\n      <td>4</td>\n    </tr>\n    <tr>\n      <th>andorra</th>\n      <td>Europe</td>\n      <td>3</td>\n    </tr>\n    <tr>\n      <th>angola</th>\n      <td>SSA</td>\n      <td>5</td>\n    </tr>\n    <tr>\n      <th>...</th>\n      <td>...</td>\n      <td>...</td>\n    </tr>\n    <tr>\n      <th>vietnam</th>\n      <td>Asia</td>\n      <td>1</td>\n    </tr>\n    <tr>\n      <th>western sahara</th>\n      <td>MENA</td>\n      <td>4</td>\n    </tr>\n    <tr>\n      <th>yemen</th>\n      <td>MENA</td>\n      <td>4</td>\n    </tr>\n    <tr>\n      <th>zambia</th>\n      <td>SSA</td>\n      <td>5</td>\n    </tr>\n    <tr>\n      <th>zimbabwe</th>\n      <td>SSA</td>\n      <td>5</td>\n    </tr>\n  </tbody>\n</table>\n<p>3338 rows × 2 columns</p>\n</div>"
     },
     "metadata": {},
     "execution_count": 7
    }
   ],
   "source": [
    "continent"
   ]
  },
  {
   "cell_type": "code",
   "execution_count": 48,
   "metadata": {},
   "outputs": [],
   "source": [
    "freedom_house_aggregate06_21 = c_names_as_index(pd.read_csv('./raw_data/Aggregate_Category_and_Subcategory_Scores_FIW_2003-2021_b.csv', sep=';', skiprows=1), 'Abkhazia')"
   ]
  },
  {
   "cell_type": "code",
   "execution_count": 49,
   "metadata": {},
   "outputs": [
    {
     "output_type": "execute_result",
     "data": {
      "text/plain": [
       "             t   9 9.1 9.2  20  21 21.1  29  30 30.1\n",
       "Abkhazia                                            \n",
       "afghanistan  c   8   9  13  15  14   14  23  23   27\n",
       "albania      c  26  26  26  42  42   40  68  68   66\n",
       "algeria      c  11  11  10  22  22   25  33  33   35\n",
       "andorra      c  39  39  39  57  58   58  96  97   97\n",
       "angola       c   8   7   8  22  22   22  30  29   30"
      ],
      "text/html": "<div>\n<style scoped>\n    .dataframe tbody tr th:only-of-type {\n        vertical-align: middle;\n    }\n\n    .dataframe tbody tr th {\n        vertical-align: top;\n    }\n\n    .dataframe thead th {\n        text-align: right;\n    }\n</style>\n<table border=\"1\" class=\"dataframe\">\n  <thead>\n    <tr style=\"text-align: right;\">\n      <th></th>\n      <th>t</th>\n      <th>9</th>\n      <th>9.1</th>\n      <th>9.2</th>\n      <th>20</th>\n      <th>21</th>\n      <th>21.1</th>\n      <th>29</th>\n      <th>30</th>\n      <th>30.1</th>\n    </tr>\n    <tr>\n      <th>Abkhazia</th>\n      <th></th>\n      <th></th>\n      <th></th>\n      <th></th>\n      <th></th>\n      <th></th>\n      <th></th>\n      <th></th>\n      <th></th>\n      <th></th>\n    </tr>\n  </thead>\n  <tbody>\n    <tr>\n      <th>afghanistan</th>\n      <td>c</td>\n      <td>8</td>\n      <td>9</td>\n      <td>13</td>\n      <td>15</td>\n      <td>14</td>\n      <td>14</td>\n      <td>23</td>\n      <td>23</td>\n      <td>27</td>\n    </tr>\n    <tr>\n      <th>albania</th>\n      <td>c</td>\n      <td>26</td>\n      <td>26</td>\n      <td>26</td>\n      <td>42</td>\n      <td>42</td>\n      <td>40</td>\n      <td>68</td>\n      <td>68</td>\n      <td>66</td>\n    </tr>\n    <tr>\n      <th>algeria</th>\n      <td>c</td>\n      <td>11</td>\n      <td>11</td>\n      <td>10</td>\n      <td>22</td>\n      <td>22</td>\n      <td>25</td>\n      <td>33</td>\n      <td>33</td>\n      <td>35</td>\n    </tr>\n    <tr>\n      <th>andorra</th>\n      <td>c</td>\n      <td>39</td>\n      <td>39</td>\n      <td>39</td>\n      <td>57</td>\n      <td>58</td>\n      <td>58</td>\n      <td>96</td>\n      <td>97</td>\n      <td>97</td>\n    </tr>\n    <tr>\n      <th>angola</th>\n      <td>c</td>\n      <td>8</td>\n      <td>7</td>\n      <td>8</td>\n      <td>22</td>\n      <td>22</td>\n      <td>22</td>\n      <td>30</td>\n      <td>29</td>\n      <td>30</td>\n    </tr>\n  </tbody>\n</table>\n</div>"
     },
     "metadata": {},
     "execution_count": 49
    }
   ],
   "source": [
    "freedom_house_aggregate06_21.head()"
   ]
  },
  {
   "cell_type": "code",
   "execution_count": 130,
   "metadata": {},
   "outputs": [],
   "source": [
    "x = c_names_as_index(pd.read_csv('./raw_data/Bjørnskov-Rode-integrated-dataset-v3.2.csv', sep=';'), 'country')"
   ]
  },
  {
   "cell_type": "code",
   "execution_count": null,
   "metadata": {},
   "outputs": [],
   "source": [
    "bjorskov_integrated = c_names_as_index(pd.read_csv('./raw_data/Bjørnskov-Rode-integrated-dataset-v3.2.csv', sep=';'), 'country')\n",
    "bjorskov_integrated.index = pd.MultiIndex.from_tuples(list(zip(\n",
    "    bjorskov_integrated.index,\n",
    "    bjorskov_integrated.year.astype('int')\n",
    ")))\n",
    "bjorskov_integrated.drop(['country isocode', 'year'] + [i for i in bjorskov_integrated if 'Unnamed' in i], axis=1, inplace=True)\n",
    "bjorskov_integrated.index.names = ['country', 'year']"
   ]
  },
  {
   "cell_type": "code",
   "execution_count": 7,
   "metadata": {},
   "outputs": [
    {
     "output_type": "execute_result",
     "data": {
      "text/plain": [
       "                  DD regime         DD category  Monarchy  Commonwealth  \\\n",
       "country     year                                                          \n",
       "afghanistan 1950        5.0  Royal dictatorship       1.0           0.0   \n",
       "            1951        5.0  Royal dictatorship       1.0           0.0   \n",
       "            1952        5.0  Royal dictatorship       1.0           0.0   \n",
       "            1953        5.0  Royal dictatorship       1.0           0.0   \n",
       "            1954        5.0  Royal dictatorship       1.0           0.0   \n",
       "\n",
       "                         Monarch name  Monarch accession  Monarch birthyear  \\\n",
       "country     year                                                              \n",
       "afghanistan 1950  Mohammed Zahir Shah             1933.0             1914.0   \n",
       "            1951  Mohammed Zahir Shah             1933.0             1914.0   \n",
       "            1952  Mohammed Zahir Shah             1933.0             1914.0   \n",
       "            1953  Mohammed Zahir Shah             1933.0             1914.0   \n",
       "            1954  Mohammed Zahir Shah             1933.0             1914.0   \n",
       "\n",
       "                  Female monarch (0: No; 1: Yes)  Democracy  Presidential  \\\n",
       "country     year                                                            \n",
       "afghanistan 1950                             0.0        0.0           0.0   \n",
       "            1951                             0.0        0.0           0.0   \n",
       "            1952                             0.0        0.0           0.0   \n",
       "            1953                             0.0        0.0           0.0   \n",
       "            1954                             0.0        0.0           0.0   \n",
       "\n",
       "                  ... fullsuffrage  Suffrage restriction  electoral  \\\n",
       "country     year  ...                                                 \n",
       "afghanistan 1950  ...          0.0        Male vote only        2.0   \n",
       "            1951  ...          0.0        Male vote only        2.0   \n",
       "            1952  ...          0.0        Male vote only        2.0   \n",
       "            1953  ...          0.0        Male vote only        2.0   \n",
       "            1954  ...          0.0        Male vote only        2.0   \n",
       "\n",
       "                  spatial electoral  alternation  multiparty  \\\n",
       "country     year                                               \n",
       "afghanistan 1950                1,5          0.0         1.0   \n",
       "            1951                1,5          0.0         1.0   \n",
       "            1952               1,75          0.0         1.0   \n",
       "            1953               1,75          0.0         1.0   \n",
       "            1954               1,75          0.0         1.0   \n",
       "\n",
       "                 free and fair election parliamentary election year  \\\n",
       "country     year                                                      \n",
       "afghanistan 1950                    0.0                         0.0   \n",
       "            1951                    0.0                         0.0   \n",
       "            1952                    0.0                         1.0   \n",
       "            1953                    0.0                         0.0   \n",
       "            1954                    0.0                         0.0   \n",
       "\n",
       "                  election month, year  postponed election  \n",
       "country     year                                            \n",
       "afghanistan 1950                   NaN                 0.0  \n",
       "            1951                   NaN                 0.0  \n",
       "            1952         February 1952                 0.0  \n",
       "            1953                   NaN                 0.0  \n",
       "            1954                   NaN                 0.0  \n",
       "\n",
       "[5 rows x 39 columns]"
      ],
      "text/html": "<div>\n<style scoped>\n    .dataframe tbody tr th:only-of-type {\n        vertical-align: middle;\n    }\n\n    .dataframe tbody tr th {\n        vertical-align: top;\n    }\n\n    .dataframe thead th {\n        text-align: right;\n    }\n</style>\n<table border=\"1\" class=\"dataframe\">\n  <thead>\n    <tr style=\"text-align: right;\">\n      <th></th>\n      <th></th>\n      <th>DD regime</th>\n      <th>DD category</th>\n      <th>Monarchy</th>\n      <th>Commonwealth</th>\n      <th>Monarch name</th>\n      <th>Monarch accession</th>\n      <th>Monarch birthyear</th>\n      <th>Female monarch (0: No; 1: Yes)</th>\n      <th>Democracy</th>\n      <th>Presidential</th>\n      <th>...</th>\n      <th>fullsuffrage</th>\n      <th>Suffrage restriction</th>\n      <th>electoral</th>\n      <th>spatial electoral</th>\n      <th>alternation</th>\n      <th>multiparty</th>\n      <th>free and fair election</th>\n      <th>parliamentary election year</th>\n      <th>election month, year</th>\n      <th>postponed election</th>\n    </tr>\n    <tr>\n      <th>country</th>\n      <th>year</th>\n      <th></th>\n      <th></th>\n      <th></th>\n      <th></th>\n      <th></th>\n      <th></th>\n      <th></th>\n      <th></th>\n      <th></th>\n      <th></th>\n      <th></th>\n      <th></th>\n      <th></th>\n      <th></th>\n      <th></th>\n      <th></th>\n      <th></th>\n      <th></th>\n      <th></th>\n      <th></th>\n      <th></th>\n    </tr>\n  </thead>\n  <tbody>\n    <tr>\n      <th rowspan=\"5\" valign=\"top\">afghanistan</th>\n      <th>1950</th>\n      <td>5.0</td>\n      <td>Royal dictatorship</td>\n      <td>1.0</td>\n      <td>0.0</td>\n      <td>Mohammed Zahir Shah</td>\n      <td>1933.0</td>\n      <td>1914.0</td>\n      <td>0.0</td>\n      <td>0.0</td>\n      <td>0.0</td>\n      <td>...</td>\n      <td>0.0</td>\n      <td>Male vote only</td>\n      <td>2.0</td>\n      <td>1,5</td>\n      <td>0.0</td>\n      <td>1.0</td>\n      <td>0.0</td>\n      <td>0.0</td>\n      <td>NaN</td>\n      <td>0.0</td>\n    </tr>\n    <tr>\n      <th>1951</th>\n      <td>5.0</td>\n      <td>Royal dictatorship</td>\n      <td>1.0</td>\n      <td>0.0</td>\n      <td>Mohammed Zahir Shah</td>\n      <td>1933.0</td>\n      <td>1914.0</td>\n      <td>0.0</td>\n      <td>0.0</td>\n      <td>0.0</td>\n      <td>...</td>\n      <td>0.0</td>\n      <td>Male vote only</td>\n      <td>2.0</td>\n      <td>1,5</td>\n      <td>0.0</td>\n      <td>1.0</td>\n      <td>0.0</td>\n      <td>0.0</td>\n      <td>NaN</td>\n      <td>0.0</td>\n    </tr>\n    <tr>\n      <th>1952</th>\n      <td>5.0</td>\n      <td>Royal dictatorship</td>\n      <td>1.0</td>\n      <td>0.0</td>\n      <td>Mohammed Zahir Shah</td>\n      <td>1933.0</td>\n      <td>1914.0</td>\n      <td>0.0</td>\n      <td>0.0</td>\n      <td>0.0</td>\n      <td>...</td>\n      <td>0.0</td>\n      <td>Male vote only</td>\n      <td>2.0</td>\n      <td>1,75</td>\n      <td>0.0</td>\n      <td>1.0</td>\n      <td>0.0</td>\n      <td>1.0</td>\n      <td>February 1952</td>\n      <td>0.0</td>\n    </tr>\n    <tr>\n      <th>1953</th>\n      <td>5.0</td>\n      <td>Royal dictatorship</td>\n      <td>1.0</td>\n      <td>0.0</td>\n      <td>Mohammed Zahir Shah</td>\n      <td>1933.0</td>\n      <td>1914.0</td>\n      <td>0.0</td>\n      <td>0.0</td>\n      <td>0.0</td>\n      <td>...</td>\n      <td>0.0</td>\n      <td>Male vote only</td>\n      <td>2.0</td>\n      <td>1,75</td>\n      <td>0.0</td>\n      <td>1.0</td>\n      <td>0.0</td>\n      <td>0.0</td>\n      <td>NaN</td>\n      <td>0.0</td>\n    </tr>\n    <tr>\n      <th>1954</th>\n      <td>5.0</td>\n      <td>Royal dictatorship</td>\n      <td>1.0</td>\n      <td>0.0</td>\n      <td>Mohammed Zahir Shah</td>\n      <td>1933.0</td>\n      <td>1914.0</td>\n      <td>0.0</td>\n      <td>0.0</td>\n      <td>0.0</td>\n      <td>...</td>\n      <td>0.0</td>\n      <td>Male vote only</td>\n      <td>2.0</td>\n      <td>1,75</td>\n      <td>0.0</td>\n      <td>1.0</td>\n      <td>0.0</td>\n      <td>0.0</td>\n      <td>NaN</td>\n      <td>0.0</td>\n    </tr>\n  </tbody>\n</table>\n<p>5 rows × 39 columns</p>\n</div>"
     },
     "metadata": {},
     "execution_count": 7
    }
   ],
   "source": [
    "bjorskov_integrated.head()"
   ]
  },
  {
   "cell_type": "code",
   "execution_count": 52,
   "metadata": {},
   "outputs": [],
   "source": [
    "bjorskov_integrated_coups = c_names_as_index(pd.read_csv('./raw_data/Bjørnskov-Rode-integrated-dataset-v3.2_coups.csv', sep=';'), 'country')"
   ]
  },
  {
   "cell_type": "code",
   "execution_count": 53,
   "metadata": {},
   "outputs": [
    {
     "output_type": "execute_result",
     "data": {
      "text/plain": [
       "            country isocode  year  DD regime         DD category  Unnamed: 5  \\\n",
       "country                                                                        \n",
       "afghanistan             AFG  1950        5.0  Royal dictatorship         NaN   \n",
       "afghanistan             AFG  1951        5.0  Royal dictatorship         NaN   \n",
       "afghanistan             AFG  1952        5.0  Royal dictatorship         NaN   \n",
       "afghanistan             AFG  1953        5.0  Royal dictatorship         NaN   \n",
       "afghanistan             AFG  1954        5.0  Royal dictatorship         NaN   \n",
       "\n",
       "             Failed coups  Successful coups  All coups  First coup  year.1  \\\n",
       "country                                                                      \n",
       "afghanistan           0.0               0.0        0.0         0.0     NaN   \n",
       "afghanistan           0.0               0.0        0.0         0.0     NaN   \n",
       "afghanistan           0.0               0.0        0.0         0.0     NaN   \n",
       "afghanistan           0.0               0.0        0.0         0.0     NaN   \n",
       "afghanistan           0.0               0.0        0.0         0.0     NaN   \n",
       "\n",
       "             ...  month.2 Type.2  Third coup success  \\\n",
       "country      ...                                       \n",
       "afghanistan  ...      NaN    NaN                 NaN   \n",
       "afghanistan  ...      NaN    NaN                 NaN   \n",
       "afghanistan  ...      NaN    NaN                 NaN   \n",
       "afghanistan  ...      NaN    NaN                 NaN   \n",
       "afghanistan  ...      NaN    NaN                 NaN   \n",
       "\n",
       "             Category type third coup Coup leaders.2  Age of leaders.1  \\\n",
       "country                                                                  \n",
       "afghanistan                       0.0            NaN               NaN   \n",
       "afghanistan                       0.0            NaN               NaN   \n",
       "afghanistan                       0.0            NaN               NaN   \n",
       "afghanistan                       0.0            NaN               NaN   \n",
       "afghanistan                       0.0            NaN               NaN   \n",
       "\n",
       "            Military Rank (Nato code).2  Militaryrankindex.2  \\\n",
       "country                                                        \n",
       "afghanistan                         NaN                  NaN   \n",
       "afghanistan                         NaN                  NaN   \n",
       "afghanistan                         NaN                  NaN   \n",
       "afghanistan                         NaN                  NaN   \n",
       "afghanistan                         NaN                  NaN   \n",
       "\n",
       "             Civilrankindex.2  spatial total coups  \n",
       "country                                             \n",
       "afghanistan               NaN                    0  \n",
       "afghanistan               NaN                 0,25  \n",
       "afghanistan               NaN                    0  \n",
       "afghanistan               NaN                    0  \n",
       "afghanistan               NaN                 0,25  \n",
       "\n",
       "[5 rows x 42 columns]"
      ],
      "text/html": "<div>\n<style scoped>\n    .dataframe tbody tr th:only-of-type {\n        vertical-align: middle;\n    }\n\n    .dataframe tbody tr th {\n        vertical-align: top;\n    }\n\n    .dataframe thead th {\n        text-align: right;\n    }\n</style>\n<table border=\"1\" class=\"dataframe\">\n  <thead>\n    <tr style=\"text-align: right;\">\n      <th></th>\n      <th>country isocode</th>\n      <th>year</th>\n      <th>DD regime</th>\n      <th>DD category</th>\n      <th>Unnamed: 5</th>\n      <th>Failed coups</th>\n      <th>Successful coups</th>\n      <th>All coups</th>\n      <th>First coup</th>\n      <th>year.1</th>\n      <th>...</th>\n      <th>month.2</th>\n      <th>Type.2</th>\n      <th>Third coup success</th>\n      <th>Category type third coup</th>\n      <th>Coup leaders.2</th>\n      <th>Age of leaders.1</th>\n      <th>Military Rank (Nato code).2</th>\n      <th>Militaryrankindex.2</th>\n      <th>Civilrankindex.2</th>\n      <th>spatial total coups</th>\n    </tr>\n    <tr>\n      <th>country</th>\n      <th></th>\n      <th></th>\n      <th></th>\n      <th></th>\n      <th></th>\n      <th></th>\n      <th></th>\n      <th></th>\n      <th></th>\n      <th></th>\n      <th></th>\n      <th></th>\n      <th></th>\n      <th></th>\n      <th></th>\n      <th></th>\n      <th></th>\n      <th></th>\n      <th></th>\n      <th></th>\n      <th></th>\n    </tr>\n  </thead>\n  <tbody>\n    <tr>\n      <th>afghanistan</th>\n      <td>AFG</td>\n      <td>1950</td>\n      <td>5.0</td>\n      <td>Royal dictatorship</td>\n      <td>NaN</td>\n      <td>0.0</td>\n      <td>0.0</td>\n      <td>0.0</td>\n      <td>0.0</td>\n      <td>NaN</td>\n      <td>...</td>\n      <td>NaN</td>\n      <td>NaN</td>\n      <td>NaN</td>\n      <td>0.0</td>\n      <td>NaN</td>\n      <td>NaN</td>\n      <td>NaN</td>\n      <td>NaN</td>\n      <td>NaN</td>\n      <td>0</td>\n    </tr>\n    <tr>\n      <th>afghanistan</th>\n      <td>AFG</td>\n      <td>1951</td>\n      <td>5.0</td>\n      <td>Royal dictatorship</td>\n      <td>NaN</td>\n      <td>0.0</td>\n      <td>0.0</td>\n      <td>0.0</td>\n      <td>0.0</td>\n      <td>NaN</td>\n      <td>...</td>\n      <td>NaN</td>\n      <td>NaN</td>\n      <td>NaN</td>\n      <td>0.0</td>\n      <td>NaN</td>\n      <td>NaN</td>\n      <td>NaN</td>\n      <td>NaN</td>\n      <td>NaN</td>\n      <td>0,25</td>\n    </tr>\n    <tr>\n      <th>afghanistan</th>\n      <td>AFG</td>\n      <td>1952</td>\n      <td>5.0</td>\n      <td>Royal dictatorship</td>\n      <td>NaN</td>\n      <td>0.0</td>\n      <td>0.0</td>\n      <td>0.0</td>\n      <td>0.0</td>\n      <td>NaN</td>\n      <td>...</td>\n      <td>NaN</td>\n      <td>NaN</td>\n      <td>NaN</td>\n      <td>0.0</td>\n      <td>NaN</td>\n      <td>NaN</td>\n      <td>NaN</td>\n      <td>NaN</td>\n      <td>NaN</td>\n      <td>0</td>\n    </tr>\n    <tr>\n      <th>afghanistan</th>\n      <td>AFG</td>\n      <td>1953</td>\n      <td>5.0</td>\n      <td>Royal dictatorship</td>\n      <td>NaN</td>\n      <td>0.0</td>\n      <td>0.0</td>\n      <td>0.0</td>\n      <td>0.0</td>\n      <td>NaN</td>\n      <td>...</td>\n      <td>NaN</td>\n      <td>NaN</td>\n      <td>NaN</td>\n      <td>0.0</td>\n      <td>NaN</td>\n      <td>NaN</td>\n      <td>NaN</td>\n      <td>NaN</td>\n      <td>NaN</td>\n      <td>0</td>\n    </tr>\n    <tr>\n      <th>afghanistan</th>\n      <td>AFG</td>\n      <td>1954</td>\n      <td>5.0</td>\n      <td>Royal dictatorship</td>\n      <td>NaN</td>\n      <td>0.0</td>\n      <td>0.0</td>\n      <td>0.0</td>\n      <td>0.0</td>\n      <td>NaN</td>\n      <td>...</td>\n      <td>NaN</td>\n      <td>NaN</td>\n      <td>NaN</td>\n      <td>0.0</td>\n      <td>NaN</td>\n      <td>NaN</td>\n      <td>NaN</td>\n      <td>NaN</td>\n      <td>NaN</td>\n      <td>0,25</td>\n    </tr>\n  </tbody>\n</table>\n<p>5 rows × 42 columns</p>\n</div>"
     },
     "metadata": {},
     "execution_count": 53
    }
   ],
   "source": [
    "bjorskov_integrated_coups.head()"
   ]
  },
  {
   "cell_type": "code",
   "execution_count": 54,
   "metadata": {},
   "outputs": [],
   "source": [
    "bjorskov_integrated_colonial_institutions = c_names_as_index(pd.read_csv('./raw_data/Bjørnskov-Rode-integrated-dataset-v3.2_colonial_institutions.csv', sep=';'), 'country')"
   ]
  },
  {
   "cell_type": "code",
   "execution_count": 55,
   "metadata": {},
   "outputs": [
    {
     "output_type": "execute_result",
     "data": {
      "text/plain": [
       "            country isocode  year  DD regime         DD category  Democracy  \\\n",
       "country                                                                       \n",
       "afghanistan             AFG  1950        5.0  Royal dictatorship        0.0   \n",
       "afghanistan             AFG  1951        5.0  Royal dictatorship        0.0   \n",
       "afghanistan             AFG  1952        5.0  Royal dictatorship        0.0   \n",
       "afghanistan             AFG  1953        5.0  Royal dictatorship        0.0   \n",
       "afghanistan             AFG  1954        5.0  Royal dictatorship        0.0   \n",
       "\n",
       "             Presidential  countrycode  No. of chambers in parliament  \\\n",
       "country                                                                 \n",
       "afghanistan           0.0          1.0                            2.0   \n",
       "afghanistan           0.0          1.0                            2.0   \n",
       "afghanistan           0.0          1.0                            2.0   \n",
       "afghanistan           0.0          1.0                            2.0   \n",
       "afghanistan           0.0          1.0                            2.0   \n",
       "\n",
       "             proportional voting Election system  ...  \\\n",
       "country                                           ...   \n",
       "afghanistan                  0.0             NaN  ...   \n",
       "afghanistan                  0.0             NaN  ...   \n",
       "afghanistan                  0.0             NaN  ...   \n",
       "afghanistan                  0.0             NaN  ...   \n",
       "afghanistan                  NaN             NaN  ...   \n",
       "\n",
       "             No. of members in upper house No. of members in third house  \\\n",
       "country                                                                    \n",
       "afghanistan                            NaN                           NaN   \n",
       "afghanistan                            NaN                           NaN   \n",
       "afghanistan                            NaN                           NaN   \n",
       "afghanistan                            NaN                           NaN   \n",
       "afghanistan                            NaN                           NaN   \n",
       "\n",
       "             New constitution  fullsuffrage  Suffrage restriction electoral  \\\n",
       "country                                                                       \n",
       "afghanistan               0.0           0.0        Male vote only       2.0   \n",
       "afghanistan               0.0           0.0        Male vote only       2.0   \n",
       "afghanistan               0.0           0.0        Male vote only       2.0   \n",
       "afghanistan               0.0           0.0        Male vote only       2.0   \n",
       "afghanistan               0.0           0.0        Male vote only       2.0   \n",
       "\n",
       "             Details Unnamed: 19 Unnamed: 20  Self-governing  \n",
       "country                                                       \n",
       "afghanistan      NaN         NaN         NaN             NaN  \n",
       "afghanistan      NaN         NaN         NaN             NaN  \n",
       "afghanistan      NaN         NaN         NaN             NaN  \n",
       "afghanistan      NaN         NaN         NaN             NaN  \n",
       "afghanistan      NaN         NaN         NaN             NaN  \n",
       "\n",
       "[5 rows x 21 columns]"
      ],
      "text/html": "<div>\n<style scoped>\n    .dataframe tbody tr th:only-of-type {\n        vertical-align: middle;\n    }\n\n    .dataframe tbody tr th {\n        vertical-align: top;\n    }\n\n    .dataframe thead th {\n        text-align: right;\n    }\n</style>\n<table border=\"1\" class=\"dataframe\">\n  <thead>\n    <tr style=\"text-align: right;\">\n      <th></th>\n      <th>country isocode</th>\n      <th>year</th>\n      <th>DD regime</th>\n      <th>DD category</th>\n      <th>Democracy</th>\n      <th>Presidential</th>\n      <th>countrycode</th>\n      <th>No. of chambers in parliament</th>\n      <th>proportional voting</th>\n      <th>Election system</th>\n      <th>...</th>\n      <th>No. of members in upper house</th>\n      <th>No. of members in third house</th>\n      <th>New constitution</th>\n      <th>fullsuffrage</th>\n      <th>Suffrage restriction</th>\n      <th>electoral</th>\n      <th>Details</th>\n      <th>Unnamed: 19</th>\n      <th>Unnamed: 20</th>\n      <th>Self-governing</th>\n    </tr>\n    <tr>\n      <th>country</th>\n      <th></th>\n      <th></th>\n      <th></th>\n      <th></th>\n      <th></th>\n      <th></th>\n      <th></th>\n      <th></th>\n      <th></th>\n      <th></th>\n      <th></th>\n      <th></th>\n      <th></th>\n      <th></th>\n      <th></th>\n      <th></th>\n      <th></th>\n      <th></th>\n      <th></th>\n      <th></th>\n      <th></th>\n    </tr>\n  </thead>\n  <tbody>\n    <tr>\n      <th>afghanistan</th>\n      <td>AFG</td>\n      <td>1950</td>\n      <td>5.0</td>\n      <td>Royal dictatorship</td>\n      <td>0.0</td>\n      <td>0.0</td>\n      <td>1.0</td>\n      <td>2.0</td>\n      <td>0.0</td>\n      <td>NaN</td>\n      <td>...</td>\n      <td>NaN</td>\n      <td>NaN</td>\n      <td>0.0</td>\n      <td>0.0</td>\n      <td>Male vote only</td>\n      <td>2.0</td>\n      <td>NaN</td>\n      <td>NaN</td>\n      <td>NaN</td>\n      <td>NaN</td>\n    </tr>\n    <tr>\n      <th>afghanistan</th>\n      <td>AFG</td>\n      <td>1951</td>\n      <td>5.0</td>\n      <td>Royal dictatorship</td>\n      <td>0.0</td>\n      <td>0.0</td>\n      <td>1.0</td>\n      <td>2.0</td>\n      <td>0.0</td>\n      <td>NaN</td>\n      <td>...</td>\n      <td>NaN</td>\n      <td>NaN</td>\n      <td>0.0</td>\n      <td>0.0</td>\n      <td>Male vote only</td>\n      <td>2.0</td>\n      <td>NaN</td>\n      <td>NaN</td>\n      <td>NaN</td>\n      <td>NaN</td>\n    </tr>\n    <tr>\n      <th>afghanistan</th>\n      <td>AFG</td>\n      <td>1952</td>\n      <td>5.0</td>\n      <td>Royal dictatorship</td>\n      <td>0.0</td>\n      <td>0.0</td>\n      <td>1.0</td>\n      <td>2.0</td>\n      <td>0.0</td>\n      <td>NaN</td>\n      <td>...</td>\n      <td>NaN</td>\n      <td>NaN</td>\n      <td>0.0</td>\n      <td>0.0</td>\n      <td>Male vote only</td>\n      <td>2.0</td>\n      <td>NaN</td>\n      <td>NaN</td>\n      <td>NaN</td>\n      <td>NaN</td>\n    </tr>\n    <tr>\n      <th>afghanistan</th>\n      <td>AFG</td>\n      <td>1953</td>\n      <td>5.0</td>\n      <td>Royal dictatorship</td>\n      <td>0.0</td>\n      <td>0.0</td>\n      <td>1.0</td>\n      <td>2.0</td>\n      <td>0.0</td>\n      <td>NaN</td>\n      <td>...</td>\n      <td>NaN</td>\n      <td>NaN</td>\n      <td>0.0</td>\n      <td>0.0</td>\n      <td>Male vote only</td>\n      <td>2.0</td>\n      <td>NaN</td>\n      <td>NaN</td>\n      <td>NaN</td>\n      <td>NaN</td>\n    </tr>\n    <tr>\n      <th>afghanistan</th>\n      <td>AFG</td>\n      <td>1954</td>\n      <td>5.0</td>\n      <td>Royal dictatorship</td>\n      <td>0.0</td>\n      <td>0.0</td>\n      <td>1.0</td>\n      <td>2.0</td>\n      <td>NaN</td>\n      <td>NaN</td>\n      <td>...</td>\n      <td>NaN</td>\n      <td>NaN</td>\n      <td>0.0</td>\n      <td>0.0</td>\n      <td>Male vote only</td>\n      <td>2.0</td>\n      <td>NaN</td>\n      <td>NaN</td>\n      <td>NaN</td>\n      <td>NaN</td>\n    </tr>\n  </tbody>\n</table>\n<p>5 rows × 21 columns</p>\n</div>"
     },
     "metadata": {},
     "execution_count": 55
    }
   ],
   "source": [
    "bjorskov_integrated_colonial_institutions.head()"
   ]
  },
  {
   "cell_type": "code",
   "execution_count": 21,
   "metadata": {},
   "outputs": [],
   "source": [
    "OECD_union = c_names_as_index(pd.read_csv('./raw_data/TUD_21032021172006040.csv', sep=','), 'Country')\n",
    "OECD_union.drop(OECD_union.columns[:4], inplace=True, axis=1)\n",
    "OECD_union.drop(OECD_union.columns[1], inplace=True, axis=1)\n",
    "OECD_union.drop(OECD_union.columns[2:8], inplace=True, axis=1)\n",
    "OECD_union.drop(OECD_union.columns[3:], inplace=True, axis=1)\n",
    "OECD_union['id'] = OECD_union.index\n",
    "OECD_union.drop_duplicates(['Series', 'Year', 'id'], inplace=True)\n",
    "OECD_union.drop(['id'], axis=1, inplace=True)"
   ]
  },
  {
   "cell_type": "code",
   "execution_count": 22,
   "metadata": {
    "tags": []
   },
   "outputs": [],
   "source": [
    "_df = pd.DataFrame(columns=OECD_union.Series.unique(), index=pd.MultiIndex.from_tuples(list(zip(\n",
    "    np.repeat(OECD_union.index.unique(), len(OECD_union.Year.unique())), \n",
    "    sorted(OECD_union.Year.unique().astype('int')) * len(OECD_union.Year.unique())\n",
    "))))\n",
    "\n",
    "for i in _df.index:\n",
    "    for j in _df.columns:\n",
    "        val = OECD_union.loc[i[0]][(OECD_union.loc[i[0]].Year == i[1]) & (OECD_union.loc[i[0]].Series.str.match(j))].Value\n",
    "        _df.loc[i, j] = int(val) if not val.empty else np.nan\n",
    "OECD_union = _df\n",
    "OECD_union.index.names = ['country', 'year']"
   ]
  },
  {
   "cell_type": "code",
   "execution_count": 58,
   "metadata": {},
   "outputs": [
    {
     "output_type": "execute_result",
     "data": {
      "text/plain": [
       "             Employees Union members Trade union  density\n",
       "country year                                             \n",
       "hungary 1998      3088           840                   27\n",
       "        1999       NaN           NaN                  NaN\n",
       "        2000      3256           775                   23\n",
       "        2001      3314           654                   19\n",
       "        2002       NaN           NaN                  NaN"
      ],
      "text/html": "<div>\n<style scoped>\n    .dataframe tbody tr th:only-of-type {\n        vertical-align: middle;\n    }\n\n    .dataframe tbody tr th {\n        vertical-align: top;\n    }\n\n    .dataframe thead th {\n        text-align: right;\n    }\n</style>\n<table border=\"1\" class=\"dataframe\">\n  <thead>\n    <tr style=\"text-align: right;\">\n      <th></th>\n      <th></th>\n      <th>Employees</th>\n      <th>Union members</th>\n      <th>Trade union  density</th>\n    </tr>\n    <tr>\n      <th>country</th>\n      <th>year</th>\n      <th></th>\n      <th></th>\n      <th></th>\n    </tr>\n  </thead>\n  <tbody>\n    <tr>\n      <th rowspan=\"5\" valign=\"top\">hungary</th>\n      <th>1998</th>\n      <td>3088</td>\n      <td>840</td>\n      <td>27</td>\n    </tr>\n    <tr>\n      <th>1999</th>\n      <td>NaN</td>\n      <td>NaN</td>\n      <td>NaN</td>\n    </tr>\n    <tr>\n      <th>2000</th>\n      <td>3256</td>\n      <td>775</td>\n      <td>23</td>\n    </tr>\n    <tr>\n      <th>2001</th>\n      <td>3314</td>\n      <td>654</td>\n      <td>19</td>\n    </tr>\n    <tr>\n      <th>2002</th>\n      <td>NaN</td>\n      <td>NaN</td>\n      <td>NaN</td>\n    </tr>\n  </tbody>\n</table>\n</div>"
     },
     "metadata": {},
     "execution_count": 58
    }
   ],
   "source": [
    "OECD_union.head()"
   ]
  },
  {
   "cell_type": "code",
   "execution_count": null,
   "metadata": {},
   "outputs": [],
   "source": [
    "WB_civil_soc_participation = c_names_as_index(pd.read_csv('./raw_data/worldbank_civil_society_participation.csv', sep=','), 'Country Name')"
   ]
  },
  {
   "cell_type": "code",
   "execution_count": null,
   "metadata": {},
   "outputs": [],
   "source": [
    "WB_civil_soc_participation.index = pd.MultiIndex.from_tuples(list(zip(\n",
    "    WB_civil_soc_participation.index, \n",
    "    WB_civil_soc_participation.loc[:, 'Indicator'])))\n",
    "WB_civil_soc_participation.drop(['Country ISO3', 'Indicator Id', 'Indicator', 'Subindicator Type'], axis=1, inplace=True)\n",
    "WB_civil_soc_participation.index.names = ['country', 'year']"
   ]
  },
  {
   "cell_type": "code",
   "execution_count": null,
   "metadata": {
    "tags": []
   },
   "outputs": [],
   "source": [
    "_df = pd.DataFrame(columns=WB_civil_soc_participation.index.get_level_values(1).unique(), \\\n",
    "    index=pd.MultiIndex.from_tuples(\\\n",
    "        list(zip(np.repeat(WB_civil_soc_participation.index.get_level_values(0).unique(), \n",
    "        len(WB_civil_soc_participation.columns)),\\\n",
    "            len(WB_civil_soc_participation.index.get_level_values(0).unique()) * list(WB_civil_soc_participation.columns.astype('int'))))))\n",
    "for i in _df.index:\n",
    "    for j in _df.columns:\n",
    "        try:\n",
    "            _df.loc[i, j] = WB_civil_soc_participation.loc[(i[0], j), str(i[1])]\n",
    "        except:\n",
    "            _df.loc[i, j] = np.nan\n",
    "WB_civil_soc_participation = _df\n",
    "WB_civil_soc_participation.index.names = ['country', 'year']"
   ]
  },
  {
   "cell_type": "code",
   "execution_count": 24,
   "metadata": {},
   "outputs": [
    {
     "output_type": "execute_result",
     "data": {
      "text/plain": [
       "year             Anticorruption policy Civil rights  \\\n",
       "country     year                                      \n",
       "afghanistan 2006                   1.0          2.0   \n",
       "            2008                   1.0          3.0   \n",
       "            2010                   1.0          2.0   \n",
       "            2012                   1.0          2.0   \n",
       "            2014                   1.0          2.0   \n",
       "...                                ...          ...   \n",
       "zimbabwe    2010                   1.0          2.0   \n",
       "            2012                   1.0          2.0   \n",
       "            2014                   3.0          3.0   \n",
       "            2016                   2.0          4.0   \n",
       "            2018                   2.0          3.0   \n",
       "\n",
       "year             Civil society participation Civil society traditions  \\\n",
       "country     year                                                        \n",
       "afghanistan 2006                         4.0                     10.0   \n",
       "            2008                         4.0                     10.0   \n",
       "            2010                         3.0                     10.0   \n",
       "            2012                         3.0                     10.0   \n",
       "            2014                         3.0                     10.0   \n",
       "...                                      ...                      ...   \n",
       "zimbabwe    2010                         1.0                      7.0   \n",
       "            2012                         2.0                      7.0   \n",
       "            2014                         3.0                      6.0   \n",
       "            2016                         4.0                      6.0   \n",
       "            2018                         2.0                      6.0   \n",
       "\n",
       "year             Cleavage conflict management  \\\n",
       "country     year                                \n",
       "afghanistan 2006                          4.0   \n",
       "            2008                          4.0   \n",
       "            2010                          4.0   \n",
       "            2012                          4.0   \n",
       "            2014                          4.0   \n",
       "...                                       ...   \n",
       "zimbabwe    2010                          1.0   \n",
       "            2012                          2.0   \n",
       "            2014                          2.0   \n",
       "            2016                          3.0   \n",
       "            2018                          3.0   \n",
       "\n",
       "year             Commitment to democratic institutions Conflict intensity  \\\n",
       "country     year                                                            \n",
       "afghanistan 2006                                   3.0                9.0   \n",
       "            2008                                   3.0                9.0   \n",
       "            2010                                   3.0               10.0   \n",
       "            2012                                   3.0               10.0   \n",
       "            2014                                   3.0                9.0   \n",
       "...                                                ...                ...   \n",
       "zimbabwe    2010                                   2.0                6.0   \n",
       "            2012                                   3.0                7.0   \n",
       "            2014                                   3.0                7.0   \n",
       "            2016                                   3.0                5.0   \n",
       "            2018                                   2.0                6.0   \n",
       "\n",
       "year             Consensus on goals Antidemocratic actors  \\\n",
       "country     year                                            \n",
       "afghanistan 2006                3.0                   5.0   \n",
       "            2008                3.0                   4.0   \n",
       "            2010                3.0                   4.0   \n",
       "            2012                3.0                   3.0   \n",
       "            2014                3.0                   4.0   \n",
       "...                             ...                   ...   \n",
       "zimbabwe    2010                3.0                   3.0   \n",
       "            2012                4.0                   3.0   \n",
       "            2014                4.0                   4.0   \n",
       "            2016                3.0                   2.0   \n",
       "            2018                3.0                   2.0   \n",
       "\n",
       "year             Education policy R&D  ... Social capital Social safety nets  \\\n",
       "country     year                       ...                                     \n",
       "afghanistan 2006                  1.0  ...            4.0                1.0   \n",
       "            2008                  1.0  ...            4.0                1.0   \n",
       "            2010                  1.0  ...            2.0                1.0   \n",
       "            2012                  1.0  ...            2.0                1.0   \n",
       "            2014                  2.0  ...            2.0                1.0   \n",
       "...                               ...  ...            ...                ...   \n",
       "zimbabwe    2010                  3.0  ...            5.0                2.0   \n",
       "            2012                  4.0  ...            5.0                2.0   \n",
       "            2014                  4.0  ...            4.0                3.0   \n",
       "            2016                  4.0  ...            4.0                3.0   \n",
       "            2018                  4.0  ...            4.0                3.0   \n",
       "\n",
       "year             Socioeconomic barriers Stability of Democratic Institutions  \\\n",
       "country     year                                                               \n",
       "afghanistan 2006                    1.0                                  3.0   \n",
       "            2008                    1.0                                  3.0   \n",
       "            2010                    1.0                                  3.0   \n",
       "            2012                    1.0                                  3.0   \n",
       "            2014                    1.0                                  3.0   \n",
       "...                                 ...                                  ...   \n",
       "zimbabwe    2010                    2.0                                  2.0   \n",
       "            2012                    3.0                                  3.0   \n",
       "            2014                    3.0                                  3.0   \n",
       "            2016                    3.0                                  3.0   \n",
       "            2018                    2.0                                  2.5   \n",
       "\n",
       "year             State identity Basic administration Steering Capability  \\\n",
       "country     year                                                           \n",
       "afghanistan 2006            6.0                  2.0            4.333333   \n",
       "            2008            6.0                  2.0            4.333333   \n",
       "            2010            6.0                  1.0                 3.0   \n",
       "            2012            6.0                  2.0                 3.0   \n",
       "            2014            6.0                  2.0                 3.0   \n",
       "...                         ...                  ...                 ...   \n",
       "zimbabwe    2010            9.0                  4.0            1.333333   \n",
       "            2012            9.0                  5.0            2.333333   \n",
       "            2014            7.0                  5.0            3.333333   \n",
       "            2016            7.0                  5.0            2.666667   \n",
       "            2018            7.0                  4.0            2.333333   \n",
       "\n",
       "year             Structural constraints Welfare Regime Approval of democracy  \n",
       "country     year                                                              \n",
       "afghanistan 2006                   10.0            1.0                   NaN  \n",
       "            2008                   10.0            1.5                   NaN  \n",
       "            2010                   10.0            1.5                   NaN  \n",
       "            2012                   10.0            1.5                   NaN  \n",
       "            2014                   10.0            1.5                   NaN  \n",
       "...                                 ...            ...                   ...  \n",
       "zimbabwe    2010                    7.0            2.5                   NaN  \n",
       "            2012                    7.0            2.5                   NaN  \n",
       "            2014                    7.0            3.0                   NaN  \n",
       "            2016                    7.0            3.0                   NaN  \n",
       "            2018                    7.0            3.0                   NaN  \n",
       "\n",
       "[896 rows x 45 columns]"
      ],
      "text/html": "<div>\n<style scoped>\n    .dataframe tbody tr th:only-of-type {\n        vertical-align: middle;\n    }\n\n    .dataframe tbody tr th {\n        vertical-align: top;\n    }\n\n    .dataframe thead th {\n        text-align: right;\n    }\n</style>\n<table border=\"1\" class=\"dataframe\">\n  <thead>\n    <tr style=\"text-align: right;\">\n      <th></th>\n      <th>year</th>\n      <th>Anticorruption policy</th>\n      <th>Civil rights</th>\n      <th>Civil society participation</th>\n      <th>Civil society traditions</th>\n      <th>Cleavage conflict management</th>\n      <th>Commitment to democratic institutions</th>\n      <th>Conflict intensity</th>\n      <th>Consensus on goals</th>\n      <th>Antidemocratic actors</th>\n      <th>Education policy R&amp;D</th>\n      <th>...</th>\n      <th>Social capital</th>\n      <th>Social safety nets</th>\n      <th>Socioeconomic barriers</th>\n      <th>Stability of Democratic Institutions</th>\n      <th>State identity</th>\n      <th>Basic administration</th>\n      <th>Steering Capability</th>\n      <th>Structural constraints</th>\n      <th>Welfare Regime</th>\n      <th>Approval of democracy</th>\n    </tr>\n    <tr>\n      <th>country</th>\n      <th>year</th>\n      <th></th>\n      <th></th>\n      <th></th>\n      <th></th>\n      <th></th>\n      <th></th>\n      <th></th>\n      <th></th>\n      <th></th>\n      <th></th>\n      <th></th>\n      <th></th>\n      <th></th>\n      <th></th>\n      <th></th>\n      <th></th>\n      <th></th>\n      <th></th>\n      <th></th>\n      <th></th>\n      <th></th>\n    </tr>\n  </thead>\n  <tbody>\n    <tr>\n      <th rowspan=\"5\" valign=\"top\">afghanistan</th>\n      <th>2006</th>\n      <td>1.0</td>\n      <td>2.0</td>\n      <td>4.0</td>\n      <td>10.0</td>\n      <td>4.0</td>\n      <td>3.0</td>\n      <td>9.0</td>\n      <td>3.0</td>\n      <td>5.0</td>\n      <td>1.0</td>\n      <td>...</td>\n      <td>4.0</td>\n      <td>1.0</td>\n      <td>1.0</td>\n      <td>3.0</td>\n      <td>6.0</td>\n      <td>2.0</td>\n      <td>4.333333</td>\n      <td>10.0</td>\n      <td>1.0</td>\n      <td>NaN</td>\n    </tr>\n    <tr>\n      <th>2008</th>\n      <td>1.0</td>\n      <td>3.0</td>\n      <td>4.0</td>\n      <td>10.0</td>\n      <td>4.0</td>\n      <td>3.0</td>\n      <td>9.0</td>\n      <td>3.0</td>\n      <td>4.0</td>\n      <td>1.0</td>\n      <td>...</td>\n      <td>4.0</td>\n      <td>1.0</td>\n      <td>1.0</td>\n      <td>3.0</td>\n      <td>6.0</td>\n      <td>2.0</td>\n      <td>4.333333</td>\n      <td>10.0</td>\n      <td>1.5</td>\n      <td>NaN</td>\n    </tr>\n    <tr>\n      <th>2010</th>\n      <td>1.0</td>\n      <td>2.0</td>\n      <td>3.0</td>\n      <td>10.0</td>\n      <td>4.0</td>\n      <td>3.0</td>\n      <td>10.0</td>\n      <td>3.0</td>\n      <td>4.0</td>\n      <td>1.0</td>\n      <td>...</td>\n      <td>2.0</td>\n      <td>1.0</td>\n      <td>1.0</td>\n      <td>3.0</td>\n      <td>6.0</td>\n      <td>1.0</td>\n      <td>3.0</td>\n      <td>10.0</td>\n      <td>1.5</td>\n      <td>NaN</td>\n    </tr>\n    <tr>\n      <th>2012</th>\n      <td>1.0</td>\n      <td>2.0</td>\n      <td>3.0</td>\n      <td>10.0</td>\n      <td>4.0</td>\n      <td>3.0</td>\n      <td>10.0</td>\n      <td>3.0</td>\n      <td>3.0</td>\n      <td>1.0</td>\n      <td>...</td>\n      <td>2.0</td>\n      <td>1.0</td>\n      <td>1.0</td>\n      <td>3.0</td>\n      <td>6.0</td>\n      <td>2.0</td>\n      <td>3.0</td>\n      <td>10.0</td>\n      <td>1.5</td>\n      <td>NaN</td>\n    </tr>\n    <tr>\n      <th>2014</th>\n      <td>1.0</td>\n      <td>2.0</td>\n      <td>3.0</td>\n      <td>10.0</td>\n      <td>4.0</td>\n      <td>3.0</td>\n      <td>9.0</td>\n      <td>3.0</td>\n      <td>4.0</td>\n      <td>2.0</td>\n      <td>...</td>\n      <td>2.0</td>\n      <td>1.0</td>\n      <td>1.0</td>\n      <td>3.0</td>\n      <td>6.0</td>\n      <td>2.0</td>\n      <td>3.0</td>\n      <td>10.0</td>\n      <td>1.5</td>\n      <td>NaN</td>\n    </tr>\n    <tr>\n      <th>...</th>\n      <th>...</th>\n      <td>...</td>\n      <td>...</td>\n      <td>...</td>\n      <td>...</td>\n      <td>...</td>\n      <td>...</td>\n      <td>...</td>\n      <td>...</td>\n      <td>...</td>\n      <td>...</td>\n      <td>...</td>\n      <td>...</td>\n      <td>...</td>\n      <td>...</td>\n      <td>...</td>\n      <td>...</td>\n      <td>...</td>\n      <td>...</td>\n      <td>...</td>\n      <td>...</td>\n      <td>...</td>\n    </tr>\n    <tr>\n      <th rowspan=\"5\" valign=\"top\">zimbabwe</th>\n      <th>2010</th>\n      <td>1.0</td>\n      <td>2.0</td>\n      <td>1.0</td>\n      <td>7.0</td>\n      <td>1.0</td>\n      <td>2.0</td>\n      <td>6.0</td>\n      <td>3.0</td>\n      <td>3.0</td>\n      <td>3.0</td>\n      <td>...</td>\n      <td>5.0</td>\n      <td>2.0</td>\n      <td>2.0</td>\n      <td>2.0</td>\n      <td>9.0</td>\n      <td>4.0</td>\n      <td>1.333333</td>\n      <td>7.0</td>\n      <td>2.5</td>\n      <td>NaN</td>\n    </tr>\n    <tr>\n      <th>2012</th>\n      <td>1.0</td>\n      <td>2.0</td>\n      <td>2.0</td>\n      <td>7.0</td>\n      <td>2.0</td>\n      <td>3.0</td>\n      <td>7.0</td>\n      <td>4.0</td>\n      <td>3.0</td>\n      <td>4.0</td>\n      <td>...</td>\n      <td>5.0</td>\n      <td>2.0</td>\n      <td>3.0</td>\n      <td>3.0</td>\n      <td>9.0</td>\n      <td>5.0</td>\n      <td>2.333333</td>\n      <td>7.0</td>\n      <td>2.5</td>\n      <td>NaN</td>\n    </tr>\n    <tr>\n      <th>2014</th>\n      <td>3.0</td>\n      <td>3.0</td>\n      <td>3.0</td>\n      <td>6.0</td>\n      <td>2.0</td>\n      <td>3.0</td>\n      <td>7.0</td>\n      <td>4.0</td>\n      <td>4.0</td>\n      <td>4.0</td>\n      <td>...</td>\n      <td>4.0</td>\n      <td>3.0</td>\n      <td>3.0</td>\n      <td>3.0</td>\n      <td>7.0</td>\n      <td>5.0</td>\n      <td>3.333333</td>\n      <td>7.0</td>\n      <td>3.0</td>\n      <td>NaN</td>\n    </tr>\n    <tr>\n      <th>2016</th>\n      <td>2.0</td>\n      <td>4.0</td>\n      <td>4.0</td>\n      <td>6.0</td>\n      <td>3.0</td>\n      <td>3.0</td>\n      <td>5.0</td>\n      <td>3.0</td>\n      <td>2.0</td>\n      <td>4.0</td>\n      <td>...</td>\n      <td>4.0</td>\n      <td>3.0</td>\n      <td>3.0</td>\n      <td>3.0</td>\n      <td>7.0</td>\n      <td>5.0</td>\n      <td>2.666667</td>\n      <td>7.0</td>\n      <td>3.0</td>\n      <td>NaN</td>\n    </tr>\n    <tr>\n      <th>2018</th>\n      <td>2.0</td>\n      <td>3.0</td>\n      <td>2.0</td>\n      <td>6.0</td>\n      <td>3.0</td>\n      <td>2.0</td>\n      <td>6.0</td>\n      <td>3.0</td>\n      <td>2.0</td>\n      <td>4.0</td>\n      <td>...</td>\n      <td>4.0</td>\n      <td>3.0</td>\n      <td>2.0</td>\n      <td>2.5</td>\n      <td>7.0</td>\n      <td>4.0</td>\n      <td>2.333333</td>\n      <td>7.0</td>\n      <td>3.0</td>\n      <td>NaN</td>\n    </tr>\n  </tbody>\n</table>\n<p>896 rows × 45 columns</p>\n</div>"
     },
     "metadata": {},
     "execution_count": 24
    }
   ],
   "source": [
    "WB_civil_soc_participation"
   ]
  },
  {
   "cell_type": "code",
   "execution_count": 16,
   "metadata": {},
   "outputs": [],
   "source": [
    "gdp = c_names_as_index(pd.read_csv('./raw_data/gdp-per-capita-worldbank.csv', sep=','), 'Entity')\n",
    "gdp = gdp.rename(columns={gdp.columns[-1]: 'gdp'})\n",
    "gdp.index = pd.MultiIndex.from_tuples(list(zip(gdp.index, gdp.Year)))\n",
    "gdp.index = gdp.index.set_names(['country', 'year'])\n",
    "gdp.drop(['Code', 'Year'], axis=1 ,inplace=True)"
   ]
  },
  {
   "cell_type": "code",
   "execution_count": 7,
   "metadata": {},
   "outputs": [
    {
     "output_type": "execute_result",
     "data": {
      "text/plain": [
       "Int64Index([2002, 2003, 2004, 2005, 2006, 2007, 2008, 2009, 2010, 2011, 2012,\n",
       "            2013, 2014, 2015, 2016, 2017, 1990, 1991, 1992, 1993, 1994, 1995,\n",
       "            1996, 1997, 1998, 1999, 2000, 2001],\n",
       "           dtype='int64', name='year')"
      ]
     },
     "metadata": {},
     "execution_count": 7
    }
   ],
   "source": [
    "gdp.index.get_level_values(1).unique()"
   ]
  },
  {
   "cell_type": "code",
   "execution_count": 66,
   "metadata": {},
   "outputs": [
    {
     "output_type": "execute_result",
     "data": {
      "text/plain": [
       "                          gdp\n",
       "country     year             \n",
       "afghanistan 2002  1063.635574\n",
       "            2003  1099.194507\n",
       "            2004  1062.249360\n",
       "            2005  1136.123214\n",
       "            2006  1161.124889"
      ],
      "text/html": "<div>\n<style scoped>\n    .dataframe tbody tr th:only-of-type {\n        vertical-align: middle;\n    }\n\n    .dataframe tbody tr th {\n        vertical-align: top;\n    }\n\n    .dataframe thead th {\n        text-align: right;\n    }\n</style>\n<table border=\"1\" class=\"dataframe\">\n  <thead>\n    <tr style=\"text-align: right;\">\n      <th></th>\n      <th></th>\n      <th>gdp</th>\n    </tr>\n    <tr>\n      <th>country</th>\n      <th>year</th>\n      <th></th>\n    </tr>\n  </thead>\n  <tbody>\n    <tr>\n      <th rowspan=\"5\" valign=\"top\">afghanistan</th>\n      <th>2002</th>\n      <td>1063.635574</td>\n    </tr>\n    <tr>\n      <th>2003</th>\n      <td>1099.194507</td>\n    </tr>\n    <tr>\n      <th>2004</th>\n      <td>1062.249360</td>\n    </tr>\n    <tr>\n      <th>2005</th>\n      <td>1136.123214</td>\n    </tr>\n    <tr>\n      <th>2006</th>\n      <td>1161.124889</td>\n    </tr>\n  </tbody>\n</table>\n</div>"
     },
     "metadata": {},
     "execution_count": 66
    }
   ],
   "source": [
    "gdp.head()"
   ]
  },
  {
   "cell_type": "code",
   "execution_count": 3,
   "metadata": {},
   "outputs": [],
   "source": [
    "def wb_clear(df, x):\n",
    "    df.index = df.index.set_levels(df.index.levels[1].astype(int), level=1)\n",
    "    df.index = df.index.set_levels(df.index.levels[0].str.lower(), level=0)\n",
    "    df = df[df.index.get_level_values(1) >= 2006]\n",
    "    df = df[df.loc[:, x].notna()]\n",
    "    df.index = df.index.set_names('year', level=1)\n",
    "    return df"
   ]
  },
  {
   "cell_type": "code",
   "execution_count": null,
   "metadata": {},
   "outputs": [],
   "source": [
    "#https://data.worldbank.org/indicator/NY.GDP.PCAP.CD\n",
    "\n",
    "gdp_pc = wbdata.get_dataframe({'NY.GDP.PCAP.CD':'gdp'})\n",
    "gdp_pc = wb_clear(gdp_pc, 'gdp')"
   ]
  },
  {
   "cell_type": "code",
   "execution_count": null,
   "metadata": {},
   "outputs": [],
   "source": [
    "gov_spending = wbdata.get_dataframe({'GC.XPN.TOTL.GD.ZS':'gs'})\n",
    "gov_spending = wb_clear(gov_spending, 'gs')"
   ]
  },
  {
   "cell_type": "code",
   "execution_count": null,
   "metadata": {},
   "outputs": [],
   "source": [
    "#GC.TAX.TOTL.GD.ZS\n",
    "taxes = wbdata.get_dataframe({'GC.TAX.TOTL.GD.ZS':'t'})\n",
    "taxes = wb_clear(taxes, 't')"
   ]
  },
  {
   "source": [
    "CC.EST - corruption estimate\n",
    "\n",
    "GE.EST   - government effectiveness\n",
    "\n",
    "PV.EST - political stability & absence of violence/terrorism \n",
    "\n",
    "RL.EST - Rule of Law estimate\n",
    "\n",
    "RQ.EST -  Regulatory Quality estimate\n",
    "\n",
    "VA.EST - Voice and Accountability estimate"
   ],
   "cell_type": "markdown",
   "metadata": {}
  },
  {
   "cell_type": "code",
   "execution_count": null,
   "metadata": {},
   "outputs": [],
   "source": [
    "corruption = wbdata.get_dataframe({'CC.EST':'corruption'})\n",
    "corruption = wb_clear(corruption, 'corruption')"
   ]
  },
  {
   "cell_type": "code",
   "execution_count": null,
   "metadata": {},
   "outputs": [],
   "source": [
    "gov_effectivenes = wbdata.get_dataframe({'GE.EST':'efficiency'})\n",
    "gov_effectivenes = wb_clear(gov_effectivenes, 'efficiency')"
   ]
  },
  {
   "cell_type": "code",
   "execution_count": null,
   "metadata": {},
   "outputs": [],
   "source": [
    "rol = wbdata.get_dataframe({'RL.EST':'rol'})\n",
    "rol = wb_clear(rol, 'rol')"
   ]
  },
  {
   "cell_type": "code",
   "execution_count": null,
   "metadata": {},
   "outputs": [],
   "source": [
    "mortality = wbdata.get_dataframe({'SP.DYN.IMRT.IN':'mortality'})\n",
    "mortality = wb_clear(mortality, 'mortality')"
   ]
  },
  {
   "cell_type": "code",
   "execution_count": 80,
   "metadata": {},
   "outputs": [],
   "source": [
    "#req_quality = wbdata.get_dataframe({'RQ.EST':'r'})\n",
    "#req_quality = wb_clear(req_quality, 'req_q')"
   ]
  },
  {
   "cell_type": "code",
   "execution_count": null,
   "metadata": {},
   "outputs": [],
   "source": [
    "accountability = wbdata.get_dataframe({'VA.EST':'acc'})\n",
    "accountability = wb_clear(accountability, 'acc')"
   ]
  },
  {
   "cell_type": "code",
   "execution_count": null,
   "metadata": {},
   "outputs": [],
   "source": [
    "trade = wbdata.get_dataframe({'NE.TRD.GNFS.ZS':'trade'})\n",
    "trade = wb_clear(trade, 'trade')"
   ]
  },
  {
   "cell_type": "code",
   "execution_count": 107,
   "metadata": {},
   "outputs": [],
   "source": [
    "#investment = wbdata.get_dataframe({'GC.NFN.TOTL.CN':'investment'})\n",
    "#investment = wb_clear(investment, 'investment')"
   ]
  },
  {
   "cell_type": "code",
   "execution_count": 9,
   "metadata": {},
   "outputs": [],
   "source": [
    "#FM.AST.NFRG.CN net foreign assets\n",
    "#gdp current NY.GDP.MKTP.CD\n",
    "gdp = wbdata.get_dataframe({'NY.GDP.MKTP.CD':'gdp'})\n",
    "foreign_assets = wbdata.get_dataframe({'FM.AST.NFRG.CN':'foreign_assets'})"
   ]
  },
  {
   "cell_type": "code",
   "execution_count": 11,
   "metadata": {},
   "outputs": [],
   "source": [
    "#SE.PRM.UNER.ZS childred out of school\n",
    "out_of_school = wbdata.get_dataframe({'SE.PRM.UNER.ZS': 'outofschool'})\n",
    "out_of_school = wb_clear(out_of_school, 'outofschool')"
   ]
  },
  {
   "cell_type": "code",
   "execution_count": null,
   "metadata": {},
   "outputs": [],
   "source": [
    "# freedom_house73_21_ctr\n",
    "# bjorskov_integrated\n",
    "# OECD_union\n",
    "# WB_civil_soc_participation\n",
    "dfs = [freedom_house73_21_ctr, bjorskov_integrated, WB_civil_soc_participation, gov_spending, taxes, corruption, gov_effectivenes, stab, rol, accountability, mortality, trade, gdp_pc]"
   ]
  },
  {
   "cell_type": "code",
   "execution_count": 8,
   "metadata": {},
   "outputs": [
    {
     "output_type": "stream",
     "name": "stderr",
     "text": [
      "/Users/santerivaataja/Desktop/Taloustieteen_kursseja/Econometrics/Capstone.nosync/cap_venv/lib/python3.8/site-packages/IPython/core/interactiveshell.py:3165: DtypeWarning: Columns (2,3) have mixed types.Specify dtype option on import or set low_memory=False.\n  has_raised = await self.run_ast_nodes(code_ast.body, cell_name,\n"
     ]
    }
   ],
   "source": [
    "all_df = pd.read_csv('raw_data/master.csv').set_index(['country', 'year'])"
   ]
  },
  {
   "cell_type": "code",
   "execution_count": 9,
   "metadata": {},
   "outputs": [
    {
     "output_type": "execute_result",
     "data": {
      "text/plain": [
       "                 PR CL Status  DD regime            DD category  Monarchy  \\\n",
       "country     year                                                            \n",
       "afghanistan 1972  4  5     PF        5.0     Royal dictatorship       1.0   \n",
       "            1973  7  6     NF        5.0     Royal dictatorship       1.0   \n",
       "            1974  7  6     NF        3.0  Civilian dictatorship       0.0   \n",
       "            1975  7  6     NF        3.0  Civilian dictatorship       0.0   \n",
       "            1976  7  6     NF        3.0  Civilian dictatorship       0.0   \n",
       "\n",
       "                  Commonwealth         Monarch name  Monarch accession  \\\n",
       "country     year                                                         \n",
       "afghanistan 1972           0.0  Mohammed Zahir Shah             1933.0   \n",
       "            1973           0.0  Mohammed Zahir Shah             1933.0   \n",
       "            1974           0.0                  NaN                NaN   \n",
       "            1975           0.0                  NaN                NaN   \n",
       "            1976           0.0                  NaN                NaN   \n",
       "\n",
       "                  Monarch birthyear  ...  gs   t  corruption efficiency  \\\n",
       "country     year                     ...                                  \n",
       "afghanistan 1972             1914.0  ... NaN NaN         NaN        NaN   \n",
       "            1973             1914.0  ... NaN NaN         NaN        NaN   \n",
       "            1974                NaN  ... NaN NaN         NaN        NaN   \n",
       "            1975                NaN  ... NaN NaN         NaN        NaN   \n",
       "            1976                NaN  ... NaN NaN         NaN        NaN   \n",
       "\n",
       "                  stability  rol  acc  mortality  trade gdp  \n",
       "country     year                                             \n",
       "afghanistan 1972        NaN  NaN  NaN        NaN    NaN NaN  \n",
       "            1973        NaN  NaN  NaN        NaN    NaN NaN  \n",
       "            1974        NaN  NaN  NaN        NaN    NaN NaN  \n",
       "            1975        NaN  NaN  NaN        NaN    NaN NaN  \n",
       "            1976        NaN  NaN  NaN        NaN    NaN NaN  \n",
       "\n",
       "[5 rows x 97 columns]"
      ],
      "text/html": "<div>\n<style scoped>\n    .dataframe tbody tr th:only-of-type {\n        vertical-align: middle;\n    }\n\n    .dataframe tbody tr th {\n        vertical-align: top;\n    }\n\n    .dataframe thead th {\n        text-align: right;\n    }\n</style>\n<table border=\"1\" class=\"dataframe\">\n  <thead>\n    <tr style=\"text-align: right;\">\n      <th></th>\n      <th></th>\n      <th>PR</th>\n      <th>CL</th>\n      <th>Status</th>\n      <th>DD regime</th>\n      <th>DD category</th>\n      <th>Monarchy</th>\n      <th>Commonwealth</th>\n      <th>Monarch name</th>\n      <th>Monarch accession</th>\n      <th>Monarch birthyear</th>\n      <th>...</th>\n      <th>gs</th>\n      <th>t</th>\n      <th>corruption</th>\n      <th>efficiency</th>\n      <th>stability</th>\n      <th>rol</th>\n      <th>acc</th>\n      <th>mortality</th>\n      <th>trade</th>\n      <th>gdp</th>\n    </tr>\n    <tr>\n      <th>country</th>\n      <th>year</th>\n      <th></th>\n      <th></th>\n      <th></th>\n      <th></th>\n      <th></th>\n      <th></th>\n      <th></th>\n      <th></th>\n      <th></th>\n      <th></th>\n      <th></th>\n      <th></th>\n      <th></th>\n      <th></th>\n      <th></th>\n      <th></th>\n      <th></th>\n      <th></th>\n      <th></th>\n      <th></th>\n      <th></th>\n    </tr>\n  </thead>\n  <tbody>\n    <tr>\n      <th rowspan=\"5\" valign=\"top\">afghanistan</th>\n      <th>1972</th>\n      <td>4</td>\n      <td>5</td>\n      <td>PF</td>\n      <td>5.0</td>\n      <td>Royal dictatorship</td>\n      <td>1.0</td>\n      <td>0.0</td>\n      <td>Mohammed Zahir Shah</td>\n      <td>1933.0</td>\n      <td>1914.0</td>\n      <td>...</td>\n      <td>NaN</td>\n      <td>NaN</td>\n      <td>NaN</td>\n      <td>NaN</td>\n      <td>NaN</td>\n      <td>NaN</td>\n      <td>NaN</td>\n      <td>NaN</td>\n      <td>NaN</td>\n      <td>NaN</td>\n    </tr>\n    <tr>\n      <th>1973</th>\n      <td>7</td>\n      <td>6</td>\n      <td>NF</td>\n      <td>5.0</td>\n      <td>Royal dictatorship</td>\n      <td>1.0</td>\n      <td>0.0</td>\n      <td>Mohammed Zahir Shah</td>\n      <td>1933.0</td>\n      <td>1914.0</td>\n      <td>...</td>\n      <td>NaN</td>\n      <td>NaN</td>\n      <td>NaN</td>\n      <td>NaN</td>\n      <td>NaN</td>\n      <td>NaN</td>\n      <td>NaN</td>\n      <td>NaN</td>\n      <td>NaN</td>\n      <td>NaN</td>\n    </tr>\n    <tr>\n      <th>1974</th>\n      <td>7</td>\n      <td>6</td>\n      <td>NF</td>\n      <td>3.0</td>\n      <td>Civilian dictatorship</td>\n      <td>0.0</td>\n      <td>0.0</td>\n      <td>NaN</td>\n      <td>NaN</td>\n      <td>NaN</td>\n      <td>...</td>\n      <td>NaN</td>\n      <td>NaN</td>\n      <td>NaN</td>\n      <td>NaN</td>\n      <td>NaN</td>\n      <td>NaN</td>\n      <td>NaN</td>\n      <td>NaN</td>\n      <td>NaN</td>\n      <td>NaN</td>\n    </tr>\n    <tr>\n      <th>1975</th>\n      <td>7</td>\n      <td>6</td>\n      <td>NF</td>\n      <td>3.0</td>\n      <td>Civilian dictatorship</td>\n      <td>0.0</td>\n      <td>0.0</td>\n      <td>NaN</td>\n      <td>NaN</td>\n      <td>NaN</td>\n      <td>...</td>\n      <td>NaN</td>\n      <td>NaN</td>\n      <td>NaN</td>\n      <td>NaN</td>\n      <td>NaN</td>\n      <td>NaN</td>\n      <td>NaN</td>\n      <td>NaN</td>\n      <td>NaN</td>\n      <td>NaN</td>\n    </tr>\n    <tr>\n      <th>1976</th>\n      <td>7</td>\n      <td>6</td>\n      <td>NF</td>\n      <td>3.0</td>\n      <td>Civilian dictatorship</td>\n      <td>0.0</td>\n      <td>0.0</td>\n      <td>NaN</td>\n      <td>NaN</td>\n      <td>NaN</td>\n      <td>...</td>\n      <td>NaN</td>\n      <td>NaN</td>\n      <td>NaN</td>\n      <td>NaN</td>\n      <td>NaN</td>\n      <td>NaN</td>\n      <td>NaN</td>\n      <td>NaN</td>\n      <td>NaN</td>\n      <td>NaN</td>\n    </tr>\n  </tbody>\n</table>\n<p>5 rows × 97 columns</p>\n</div>"
     },
     "metadata": {},
     "execution_count": 9
    }
   ],
   "source": [
    "all_df.head()"
   ]
  },
  {
   "cell_type": "code",
   "execution_count": null,
   "metadata": {},
   "outputs": [],
   "source": [
    "all_df = all_df.join(out_of_scho)"
   ]
  },
  {
   "source": [
    "all_df = reduce(lambda l, r: l.join(r), dfs)"
   ],
   "cell_type": "code",
   "metadata": {},
   "execution_count": 126,
   "outputs": []
  },
  {
   "cell_type": "code",
   "execution_count": 128,
   "metadata": {},
   "outputs": [],
   "source": [
    "all_df.to_csv('raw_data/master.csv')"
   ]
  },
  {
   "cell_type": "code",
   "execution_count": null,
   "metadata": {},
   "outputs": [],
   "source": []
  }
 ]
}