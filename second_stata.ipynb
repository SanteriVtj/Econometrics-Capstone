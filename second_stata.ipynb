{
 "metadata": {
  "language_info": {
   "codemirror_mode": {
    "name": "ipython",
    "version": 3
   },
   "file_extension": ".py",
   "mimetype": "text/x-python",
   "name": "python",
   "nbconvert_exporter": "python",
   "pygments_lexer": "ipython3",
   "version": 3
  },
  "orig_nbformat": 2,
  "kernelspec": {
   "name": "stata",
   "display_name": "Stata",
   "language": "stata"
  }
 },
 "nbformat": 4,
 "nbformat_minor": 2,
 "cells": [
  {
   "cell_type": "code",
   "execution_count": 1,
   "metadata": {},
   "outputs": [],
   "source": [
    "set scheme s1mono"
   ]
  },
  {
   "cell_type": "code",
   "execution_count": 2,
   "metadata": {},
   "outputs": [
    {
     "output_type": "stream",
     "name": "stdout",
     "text": [
      "(105 vars, 9,854 obs)\n"
     ]
    }
   ],
   "source": [
    "import delimited \"/Users/santerivaataja/Desktop/Taloustieteen_kursseja/Econometrics/Capstone.nosync/Econometrics-Capstone/raw_data/master.csv\", clear bindquote(nobind)"
   ]
  },
  {
   "cell_type": "code",
   "execution_count": 3,
   "metadata": {},
   "outputs": [
    {
     "output_type": "stream",
     "name": "stdout",
     "text": [
      "\n",
      "democracy: contains nonnumeric characters; dem_int generated as byte\n",
      "(1294 missing values generated)\n",
      "\n",
      "year: contains nonnumeric characters; replaced as int\n",
      "(288 missing values generated)\n"
     ]
    }
   ],
   "source": [
    "destring democracy, generate(dem_int) force\n",
    "destring year, replace force"
   ]
  },
  {
   "cell_type": "code",
   "execution_count": 6,
   "metadata": {},
   "outputs": [
    {
     "output_type": "display_data",
     "data": {
      "text/plain": "This front-end cannot display the desired image type.",
      "text/html": "                <iframe frameborder=\"0\" scrolling=\"no\" height=\"436\" width=\"600\"                srcdoc=\"<html><body>&lt;?xml version=&quot;1.0&quot; encoding=&quot;UTF-8&quot; standalone=&quot;no&quot;?&gt;\n&lt;!-- This is a Stata 16.1 generated SVG file (http://www.stata.com) --&gt;\n\n&lt;svg version=&quot;1.1&quot; width=&quot;600px&quot; height=&quot;436px&quot; viewBox=&quot;0 0 3960 2880&quot; xmlns=&quot;http://www.w3.org/2000/svg&quot; xmlns:xlink=&quot;http://www.w3.org/1999/xlink&quot;&gt;\n\t&lt;desc&gt;Stata Graph - Graph&lt;/desc&gt;\n\t&lt;rect x=&quot;0&quot; y=&quot;0&quot; width=&quot;3960&quot; height=&quot;2880&quot; style=&quot;fill:#FFFFFF;stroke:none&quot;/&gt;\n\t&lt;rect x=&quot;0.00&quot; y=&quot;0.00&quot; width=&quot;3959.88&quot; height=&quot;2880.00&quot; style=&quot;fill:#FFFFFF&quot;/&gt;\n\t&lt;rect x=&quot;2.88&quot; y=&quot;2.88&quot; width=&quot;3954.12&quot; height=&quot;2874.24&quot; style=&quot;fill:none;stroke:#FFFFFF;stroke-width:5.76&quot;/&gt;\n\t&lt;rect x=&quot;393.68&quot; y=&quot;103.74&quot; width=&quot;3462.46&quot; height=&quot;2382.57&quot; style=&quot;fill:none;stroke:#000000;stroke-width:5.76&quot;/&gt;\n\t&lt;path d=&quot; M587.69 1596.67 L654.51 1611.65 L721.46 1611.65 L788.29 1581.57 L855.11 1581.57 L921.94 1611.65 L988.76 1626.74 L1055.59 1581.57 L1122.41 1581.57 L1256.06 1596.67 L1322.89 1536.28 L1389.71 1536.28 L1456.54 1506.21 L1523.36 1445.82 L1590.19 1445.82 L1657.01 1415.74 L1723.84 1355.35 L1790.66 1204.62 L1857.49 1129.25 L1924.31 1038.79 L1991.26 963.30 L2058.09 933.23 L2124.91 933.23 L2191.74 963.30 L2258.56 978.40 L2325.39 978.40 L2392.21 948.33 L2459.04 918.13 L2525.86 887.93 L2592.69 872.84 L2659.51 887.93 L2726.34 842.76 L2793.16 842.76 L2859.99 797.47 L2926.81 812.57 L2993.64 737.20 L3060.46 767.40 L3127.29 797.47 L3194.24 752.30 L3261.06 707.01 L3327.89 737.20 L3394.71 722.10 L3461.53 722.10 L3528.36 752.30 L3595.18 752.30 L3662.01 767.40 L3728.84 767.40 L3795.66 812.57&quot; stroke-linejoin=&quot;round&quot; style=&quot;fill:none;stroke:#606060;stroke-width:8.64&quot;/&gt;\n\t&lt;line x1=&quot;390.80&quot; y1=&quot;2489.19&quot; x2=&quot;390.80&quot; y2=&quot;100.86&quot; style=&quot;stroke:#000000;stroke-width:5.76&quot;/&gt;\n\t&lt;line x1=&quot;390.80&quot; y1=&quot;2425.82&quot; x2=&quot;350.83&quot; y2=&quot;2425.82&quot; style=&quot;stroke:#000000;stroke-width:5.76&quot;/&gt;\n\t&lt;text x=&quot;300.72&quot; y=&quot;2425.82&quot; style=&quot;font-family:&#x27;Helvetica&#x27;;font-size:99.99px;fill:#000000&quot; transform=&quot;rotate(-90 300.72,2425.82)&quot; text-anchor=&quot;middle&quot;&gt;0&lt;/text&gt;\n\t&lt;line x1=&quot;390.80&quot; y1=&quot;1671.91&quot; x2=&quot;350.83&quot; y2=&quot;1671.91&quot; style=&quot;stroke:#000000;stroke-width:5.76&quot;/&gt;\n\t&lt;text x=&quot;300.72&quot; y=&quot;1671.91&quot; style=&quot;font-family:&#x27;Helvetica&#x27;;font-size:99.99px;fill:#000000&quot; transform=&quot;rotate(-90 300.72,1671.91)&quot; text-anchor=&quot;middle&quot;&gt;50&lt;/text&gt;\n\t&lt;line x1=&quot;390.80&quot; y1=&quot;918.01&quot; x2=&quot;350.83&quot; y2=&quot;918.01&quot; style=&quot;stroke:#000000;stroke-width:5.76&quot;/&gt;\n\t&lt;text x=&quot;300.72&quot; y=&quot;918.01&quot; style=&quot;font-family:&#x27;Helvetica&#x27;;font-size:99.99px;fill:#000000&quot; transform=&quot;rotate(-90 300.72,918.01)&quot; text-anchor=&quot;middle&quot;&gt;100&lt;/text&gt;\n\t&lt;line x1=&quot;390.80&quot; y1=&quot;164.22&quot; x2=&quot;350.83&quot; y2=&quot;164.22&quot; style=&quot;stroke:#000000;stroke-width:5.76&quot;/&gt;\n\t&lt;text x=&quot;300.72&quot; y=&quot;164.22&quot; style=&quot;font-family:&#x27;Helvetica&#x27;;font-size:99.99px;fill:#000000&quot; transform=&quot;rotate(-90 300.72,164.22)&quot; text-anchor=&quot;middle&quot;&gt;150&lt;/text&gt;\n\t&lt;text x=&quot;190.71&quot; y=&quot;1294.96&quot; style=&quot;font-family:&#x27;Helvetica&#x27;;font-size:99.99px;fill:#000000&quot; transform=&quot;rotate(-90 190.71,1294.96)&quot; text-anchor=&quot;middle&quot;&gt;Number of democratic states&lt;/text&gt;\n\t&lt;line x1=&quot;390.80&quot; y1=&quot;2489.19&quot; x2=&quot;3859.02&quot; y2=&quot;2489.19&quot; style=&quot;stroke:#000000;stroke-width:5.76&quot;/&gt;\n\t&lt;line x1=&quot;454.16&quot; y1=&quot;2489.19&quot; x2=&quot;454.16&quot; y2=&quot;2529.16&quot; style=&quot;stroke:#000000;stroke-width:5.76&quot;/&gt;\n\t&lt;text x=&quot;454.16&quot; y=&quot;2619.14&quot; style=&quot;font-family:&#x27;Helvetica&#x27;;font-size:99.99px;fill:#000000&quot; text-anchor=&quot;middle&quot;&gt;1970&lt;/text&gt;\n\t&lt;line x1=&quot;1122.41&quot; y1=&quot;2489.19&quot; x2=&quot;1122.41&quot; y2=&quot;2529.16&quot; style=&quot;stroke:#000000;stroke-width:5.76&quot;/&gt;\n\t&lt;text x=&quot;1122.41&quot; y=&quot;2619.14&quot; style=&quot;font-family:&#x27;Helvetica&#x27;;font-size:99.99px;fill:#000000&quot; text-anchor=&quot;middle&quot;&gt;1980&lt;/text&gt;\n\t&lt;line x1=&quot;1790.79&quot; y1=&quot;2489.19&quot; x2=&quot;1790.79&quot; y2=&quot;2529.16&quot; style=&quot;stroke:#000000;stroke-width:5.76&quot;/&gt;\n\t&lt;text x=&quot;1790.79&quot; y=&quot;2619.14&quot; style=&quot;font-family:&#x27;Helvetica&#x27;;font-size:99.99px;fill:#000000&quot; text-anchor=&quot;middle&quot;&gt;1990&lt;/text&gt;\n\t&lt;line x1=&quot;2459.04&quot; y1=&quot;2489.19&quot; x2=&quot;2459.04&quot; y2=&quot;2529.16&quot; style=&quot;stroke:#000000;stroke-width:5.76&quot;/&gt;\n\t&lt;text x=&quot;2459.04&quot; y=&quot;2619.14&quot; style=&quot;font-family:&#x27;Helvetica&#x27;;font-size:99.99px;fill:#000000&quot; text-anchor=&quot;middle&quot;&gt;2000&lt;/text&gt;\n\t&lt;line x1=&quot;3127.41&quot; y1=&quot;2489.19&quot; x2=&quot;3127.41&quot; y2=&quot;2529.16&quot; style=&quot;stroke:#000000;stroke-width:5.76&quot;/&gt;\n\t&lt;text x=&quot;3127.41&quot; y=&quot;2619.14&quot; style=&quot;font-family:&#x27;Helvetica&#x27;;font-size:99.99px;fill:#000000&quot; text-anchor=&quot;middle&quot;&gt;2010&lt;/text&gt;\n\t&lt;line x1=&quot;3795.66&quot; y1=&quot;2489.19&quot; x2=&quot;3795.66&quot; y2=&quot;2529.16&quot; style=&quot;stroke:#000000;stroke-width:5.76&quot;/&gt;\n\t&lt;text x=&quot;3795.66&quot; y=&quot;2619.14&quot; style=&quot;font-family:&#x27;Helvetica&#x27;;font-size:99.99px;fill:#000000&quot; text-anchor=&quot;middle&quot;&gt;2020&lt;/text&gt;\n\t&lt;text x=&quot;2124.91&quot; y=&quot;2729.16&quot; style=&quot;font-family:&#x27;Helvetica&#x27;;font-size:99.99px;fill:#000000&quot; text-anchor=&quot;middle&quot;&gt;year&lt;/text&gt;\n&lt;/svg&gt;\n</body></html>\"></iframe>\n",
      "image/svg+xml": "<?xml version=\"1.0\" encoding=\"UTF-8\" standalone=\"no\"?>\n<!-- This is a Stata 16.1 generated SVG file (http://www.stata.com) -->\n\n<svg version=\"1.1\" width=\"600px\" height=\"436px\" viewBox=\"0 0 3960 2880\" xmlns=\"http://www.w3.org/2000/svg\" xmlns:xlink=\"http://www.w3.org/1999/xlink\">\n\t<desc>Stata Graph - Graph</desc>\n\t<rect x=\"0\" y=\"0\" width=\"3960\" height=\"2880\" style=\"fill:#FFFFFF;stroke:none\"/>\n\t<rect x=\"0.00\" y=\"0.00\" width=\"3959.88\" height=\"2880.00\" style=\"fill:#FFFFFF\"/>\n\t<rect x=\"2.88\" y=\"2.88\" width=\"3954.12\" height=\"2874.24\" style=\"fill:none;stroke:#FFFFFF;stroke-width:5.76\"/>\n\t<rect x=\"393.68\" y=\"103.74\" width=\"3462.46\" height=\"2382.57\" style=\"fill:none;stroke:#000000;stroke-width:5.76\"/>\n\t<path d=\" M587.69 1596.67 L654.51 1611.65 L721.46 1611.65 L788.29 1581.57 L855.11 1581.57 L921.94 1611.65 L988.76 1626.74 L1055.59 1581.57 L1122.41 1581.57 L1256.06 1596.67 L1322.89 1536.28 L1389.71 1536.28 L1456.54 1506.21 L1523.36 1445.82 L1590.19 1445.82 L1657.01 1415.74 L1723.84 1355.35 L1790.66 1204.62 L1857.49 1129.25 L1924.31 1038.79 L1991.26 963.30 L2058.09 933.23 L2124.91 933.23 L2191.74 963.30 L2258.56 978.40 L2325.39 978.40 L2392.21 948.33 L2459.04 918.13 L2525.86 887.93 L2592.69 872.84 L2659.51 887.93 L2726.34 842.76 L2793.16 842.76 L2859.99 797.47 L2926.81 812.57 L2993.64 737.20 L3060.46 767.40 L3127.29 797.47 L3194.24 752.30 L3261.06 707.01 L3327.89 737.20 L3394.71 722.10 L3461.53 722.10 L3528.36 752.30 L3595.18 752.30 L3662.01 767.40 L3728.84 767.40 L3795.66 812.57\" stroke-linejoin=\"round\" style=\"fill:none;stroke:#606060;stroke-width:8.64\"/>\n\t<line x1=\"390.80\" y1=\"2489.19\" x2=\"390.80\" y2=\"100.86\" style=\"stroke:#000000;stroke-width:5.76\"/>\n\t<line x1=\"390.80\" y1=\"2425.82\" x2=\"350.83\" y2=\"2425.82\" style=\"stroke:#000000;stroke-width:5.76\"/>\n\t<text x=\"300.72\" y=\"2425.82\" style=\"font-family:'Helvetica';font-size:99.99px;fill:#000000\" transform=\"rotate(-90 300.72,2425.82)\" text-anchor=\"middle\">0</text>\n\t<line x1=\"390.80\" y1=\"1671.91\" x2=\"350.83\" y2=\"1671.91\" style=\"stroke:#000000;stroke-width:5.76\"/>\n\t<text x=\"300.72\" y=\"1671.91\" style=\"font-family:'Helvetica';font-size:99.99px;fill:#000000\" transform=\"rotate(-90 300.72,1671.91)\" text-anchor=\"middle\">50</text>\n\t<line x1=\"390.80\" y1=\"918.01\" x2=\"350.83\" y2=\"918.01\" style=\"stroke:#000000;stroke-width:5.76\"/>\n\t<text x=\"300.72\" y=\"918.01\" style=\"font-family:'Helvetica';font-size:99.99px;fill:#000000\" transform=\"rotate(-90 300.72,918.01)\" text-anchor=\"middle\">100</text>\n\t<line x1=\"390.80\" y1=\"164.22\" x2=\"350.83\" y2=\"164.22\" style=\"stroke:#000000;stroke-width:5.76\"/>\n\t<text x=\"300.72\" y=\"164.22\" style=\"font-family:'Helvetica';font-size:99.99px;fill:#000000\" transform=\"rotate(-90 300.72,164.22)\" text-anchor=\"middle\">150</text>\n\t<text x=\"190.71\" y=\"1294.96\" style=\"font-family:'Helvetica';font-size:99.99px;fill:#000000\" transform=\"rotate(-90 190.71,1294.96)\" text-anchor=\"middle\">Number of democratic states</text>\n\t<line x1=\"390.80\" y1=\"2489.19\" x2=\"3859.02\" y2=\"2489.19\" style=\"stroke:#000000;stroke-width:5.76\"/>\n\t<line x1=\"454.16\" y1=\"2489.19\" x2=\"454.16\" y2=\"2529.16\" style=\"stroke:#000000;stroke-width:5.76\"/>\n\t<text x=\"454.16\" y=\"2619.14\" style=\"font-family:'Helvetica';font-size:99.99px;fill:#000000\" text-anchor=\"middle\">1970</text>\n\t<line x1=\"1122.41\" y1=\"2489.19\" x2=\"1122.41\" y2=\"2529.16\" style=\"stroke:#000000;stroke-width:5.76\"/>\n\t<text x=\"1122.41\" y=\"2619.14\" style=\"font-family:'Helvetica';font-size:99.99px;fill:#000000\" text-anchor=\"middle\">1980</text>\n\t<line x1=\"1790.79\" y1=\"2489.19\" x2=\"1790.79\" y2=\"2529.16\" style=\"stroke:#000000;stroke-width:5.76\"/>\n\t<text x=\"1790.79\" y=\"2619.14\" style=\"font-family:'Helvetica';font-size:99.99px;fill:#000000\" text-anchor=\"middle\">1990</text>\n\t<line x1=\"2459.04\" y1=\"2489.19\" x2=\"2459.04\" y2=\"2529.16\" style=\"stroke:#000000;stroke-width:5.76\"/>\n\t<text x=\"2459.04\" y=\"2619.14\" style=\"font-family:'Helvetica';font-size:99.99px;fill:#000000\" text-anchor=\"middle\">2000</text>\n\t<line x1=\"3127.41\" y1=\"2489.19\" x2=\"3127.41\" y2=\"2529.16\" style=\"stroke:#000000;stroke-width:5.76\"/>\n\t<text x=\"3127.41\" y=\"2619.14\" style=\"font-family:'Helvetica';font-size:99.99px;fill:#000000\" text-anchor=\"middle\">2010</text>\n\t<line x1=\"3795.66\" y1=\"2489.19\" x2=\"3795.66\" y2=\"2529.16\" style=\"stroke:#000000;stroke-width:5.76\"/>\n\t<text x=\"3795.66\" y=\"2619.14\" style=\"font-family:'Helvetica';font-size:99.99px;fill:#000000\" text-anchor=\"middle\">2020</text>\n\t<text x=\"2124.91\" y=\"2729.16\" style=\"font-family:'Helvetica';font-size:99.99px;fill:#000000\" text-anchor=\"middle\">year</text>\n</svg>\n",
      "application/pdf": "[encoded data removed]"
     },
     "metadata": {
      "text/html": {
       "width": 600,
       "height": 436
      },
      "image/svg+xml": {
       "width": 600,
       "height": 436
      }
     }
    }
   ],
   "source": [
    "qui {\n",
    "    preserve\n",
    "    collapse (sum) dem_int, by(year)\n",
    "    line dem_int year if year >= 1970, ysc(r(50 150)) ytitle(\"Number of democratic states\") //ylabel(50(10)150)\n",
    "    graph export \"saved_outputs/n_dem.pdf\", replace\n",
    "    restore\n",
    "}"
   ]
  },
  {
   "cell_type": "code",
   "execution_count": null,
   "metadata": {},
   "outputs": [],
   "source": []
  }
 ]
}