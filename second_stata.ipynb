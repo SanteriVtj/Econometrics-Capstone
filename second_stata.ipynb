{
 "metadata": {
  "language_info": {
   "codemirror_mode": {
    "name": "ipython",
    "version": 3
   },
   "file_extension": ".py",
   "mimetype": "text/x-python",
   "name": "python",
   "nbconvert_exporter": "python",
   "pygments_lexer": "ipython3",
   "version": 3
  },
  "orig_nbformat": 2,
  "kernelspec": {
   "name": "stata",
   "display_name": "Stata",
   "language": "stata"
  }
 },
 "nbformat": 4,
 "nbformat_minor": 2,
 "cells": [
  {
   "cell_type": "code",
   "execution_count": 2,
   "metadata": {},
   "outputs": [],
   "source": [
    "set scheme s1mono"
   ]
  },
  {
   "cell_type": "code",
   "execution_count": 4,
   "metadata": {},
   "outputs": [],
   "source": [
    "use ./formatted_data/master.dta, clear\n",
    "// import delimited \"/Users/santerivaataja/Desktop/Taloustieteen_kursseja/Econometrics/Capstone.nosync/Econometrics-Capstone/raw_data/master.csv\", clear // bindquote(nobind)"
   ]
  },
  {
   "cell_type": "code",
   "execution_count": 8,
   "metadata": {},
   "outputs": [
    {
     "output_type": "stream",
     "name": "stdout",
     "text": [
      "\n\n(66 missing values generated)\n"
     ]
    }
   ],
   "source": [
    "sort country year\n",
    "bysort country: gen democracy_chg = democracy - democracy[_n - 1]"
   ]
  },
  {
   "cell_type": "code",
   "execution_count": 10,
   "metadata": {},
   "outputs": [
    {
     "output_type": "stream",
     "name": "stderr",
     "text": [
      "r(621);\n",
      "r(621);\n"
     ]
    }
   ],
   "source": [
    "qui {\n",
    "    preserve\n",
    "    collapse (sum) democracy, by(year)\n",
    "    line democracy year if year >= 1970, ysc(r(50 150)) ytitle(\"Number of democratic states\") //ylabel(50(10)150)\n",
    "    graph export \"saved_outputs/n_dem.pdf\", replace\n",
    "    restore\n",
    "}"
   ]
  },
  {
   "cell_type": "code",
   "execution_count": 5,
   "metadata": {},
   "outputs": [
    {
     "output_type": "display_data",
     "data": {
      "text/plain": "This front-end cannot display the desired image type.",
      "text/html": "                <iframe frameborder=\"0\" scrolling=\"no\" height=\"436\" width=\"600\"                srcdoc=\"<html><body>&lt;?xml version=&quot;1.0&quot; encoding=&quot;UTF-8&quot; standalone=&quot;no&quot;?&gt;\n&lt;!-- This is a Stata 16.1 generated SVG file (http://www.stata.com) --&gt;\n\n&lt;svg version=&quot;1.1&quot; width=&quot;600px&quot; height=&quot;436px&quot; viewBox=&quot;0 0 3960 2880&quot; xmlns=&quot;http://www.w3.org/2000/svg&quot; xmlns:xlink=&quot;http://www.w3.org/1999/xlink&quot;&gt;\n\t&lt;desc&gt;Stata Graph - Graph&lt;/desc&gt;\n\t&lt;rect x=&quot;0&quot; y=&quot;0&quot; width=&quot;3960&quot; height=&quot;2880&quot; style=&quot;fill:#FFFFFF;stroke:none&quot;/&gt;\n\t&lt;rect x=&quot;0.00&quot; y=&quot;0.00&quot; width=&quot;3959.88&quot; height=&quot;2880.00&quot; style=&quot;fill:#FFFFFF&quot;/&gt;\n\t&lt;rect x=&quot;2.88&quot; y=&quot;2.88&quot; width=&quot;3954.12&quot; height=&quot;2874.24&quot; style=&quot;fill:none;stroke:#FFFFFF;stroke-width:5.76&quot;/&gt;\n\t&lt;rect x=&quot;393.68&quot; y=&quot;103.74&quot; width=&quot;3462.46&quot; height=&quot;2127.01&quot; style=&quot;fill:none;stroke:#000000;stroke-width:5.76&quot;/&gt;\n\t&lt;path d=&quot; M587.69 1543.46 L654.51 1292.73 L721.46 1543.46 L788.29 1167.25 L855.11 1418.10 L921.94 1418.10 L988.76 1543.46 L1055.59 1041.88 L1122.41 1292.73 L1256.06 1292.73 L1322.89 1041.88 L1389.71 1418.10 L1456.54 1167.25 L1523.36 1041.88 L1590.19 1543.46 L1657.01 1292.73 L1723.84 916.52 L1790.66 164.22 L1857.49 665.80 L1924.31 791.16 L1991.26 916.52 L2058.09 1292.73 L2124.91 1543.46 L2191.74 1418.10 L2258.56 1418.10 L2325.39 1418.10 L2392.21 1292.73 L2459.04 791.16 L2525.86 1292.73 L2592.69 1292.73 L2659.51 1418.10 L2726.34 1167.25 L2793.16 1543.46 L2859.99 1167.25 L2926.81 1418.10 L2993.64 916.52 L3060.46 1418.10 L3127.29 1543.46 L3194.24 1167.25 L3261.06 916.52 L3327.89 1543.46 L3394.71 1167.25 L3461.53 1418.10 L3528.36 1543.46 L3595.18 1418.10 L3662.01 1418.10 L3728.84 1418.10 L3795.66 1543.46&quot; stroke-linejoin=&quot;round&quot; style=&quot;fill:none;stroke:#606060;stroke-width:8.64&quot;/&gt;\n\t&lt;path d=&quot; M587.69 1543.46 L654.51 1919.67 L721.46 1543.46 L788.29 1668.82 L855.11 1668.82 L921.94 1919.67 L988.76 1668.82 L1055.59 1668.82 L1122.41 1794.18 L1256.06 1919.67 L1322.89 1543.46 L1389.71 1668.82 L1456.54 1668.82 L1523.36 1543.46 L1590.19 1543.46 L1657.01 1543.46 L1723.84 1668.82 L1790.66 1668.82 L1857.49 1794.18 L1924.31 1543.46 L1991.26 1543.46 L2058.09 1543.46 L2124.91 1543.46 L2191.74 1919.67 L2258.56 1794.18 L2325.39 1668.82 L2392.21 1543.46 L2459.04 2045.03 L2525.86 1543.46 L2592.69 1668.82 L2659.51 1794.18 L2726.34 1543.46 L2793.16 1543.46 L2859.99 1543.46 L2926.81 1794.18 L2993.64 1543.46 L3060.46 1919.67 L3127.29 1794.18 L3194.24 1543.46 L3261.06 1794.18 L3327.89 1794.18 L3394.71 1794.18 L3461.53 1668.82 L3528.36 1794.18 L3595.18 1668.82 L3662.01 1794.18 L3728.84 1668.82 L3795.66 1794.18&quot; stroke-linejoin=&quot;round&quot; style=&quot;fill:none;stroke:#A0A0A0;stroke-width:8.64&quot;/&gt;\n\t&lt;line x1=&quot;390.80&quot; y1=&quot;2233.63&quot; x2=&quot;390.80&quot; y2=&quot;100.86&quot; style=&quot;stroke:#000000;stroke-width:5.76&quot;/&gt;\n\t&lt;line x1=&quot;390.80&quot; y1=&quot;2170.27&quot; x2=&quot;350.83&quot; y2=&quot;2170.27&quot; style=&quot;stroke:#000000;stroke-width:5.76&quot;/&gt;\n\t&lt;text x=&quot;300.72&quot; y=&quot;2170.27&quot; style=&quot;font-family:&#x27;Helvetica&#x27;;font-size:99.99px;fill:#000000&quot; transform=&quot;rotate(-90 300.72,2170.27)&quot; text-anchor=&quot;middle&quot;&gt;-5&lt;/text&gt;\n\t&lt;line x1=&quot;390.80&quot; y1=&quot;1543.46&quot; x2=&quot;350.83&quot; y2=&quot;1543.46&quot; style=&quot;stroke:#000000;stroke-width:5.76&quot;/&gt;\n\t&lt;text x=&quot;300.72&quot; y=&quot;1543.46&quot; style=&quot;font-family:&#x27;Helvetica&#x27;;font-size:99.99px;fill:#000000&quot; transform=&quot;rotate(-90 300.72,1543.46)&quot; text-anchor=&quot;middle&quot;&gt;0&lt;/text&gt;\n\t&lt;line x1=&quot;390.80&quot; y1=&quot;916.52&quot; x2=&quot;350.83&quot; y2=&quot;916.52&quot; style=&quot;stroke:#000000;stroke-width:5.76&quot;/&gt;\n\t&lt;text x=&quot;300.72&quot; y=&quot;916.52&quot; style=&quot;font-family:&#x27;Helvetica&#x27;;font-size:99.99px;fill:#000000&quot; transform=&quot;rotate(-90 300.72,916.52)&quot; text-anchor=&quot;middle&quot;&gt;5&lt;/text&gt;\n\t&lt;line x1=&quot;390.80&quot; y1=&quot;289.58&quot; x2=&quot;350.83&quot; y2=&quot;289.58&quot; style=&quot;stroke:#000000;stroke-width:5.76&quot;/&gt;\n\t&lt;text x=&quot;300.72&quot; y=&quot;289.58&quot; style=&quot;font-family:&#x27;Helvetica&#x27;;font-size:99.99px;fill:#000000&quot; transform=&quot;rotate(-90 300.72,289.58)&quot; text-anchor=&quot;middle&quot;&gt;10&lt;/text&gt;\n\t&lt;text x=&quot;190.71&quot; y=&quot;1167.25&quot; style=&quot;font-family:&#x27;Helvetica&#x27;;font-size:99.99px;fill:#000000&quot; transform=&quot;rotate(-90 190.71,1167.25)&quot; text-anchor=&quot;middle&quot;&gt;Change in democracy status&lt;/text&gt;\n\t&lt;line x1=&quot;390.80&quot; y1=&quot;2233.63&quot; x2=&quot;3859.02&quot; y2=&quot;2233.63&quot; style=&quot;stroke:#000000;stroke-width:5.76&quot;/&gt;\n\t&lt;line x1=&quot;454.16&quot; y1=&quot;2233.63&quot; x2=&quot;454.16&quot; y2=&quot;2273.73&quot; style=&quot;stroke:#000000;stroke-width:5.76&quot;/&gt;\n\t&lt;text x=&quot;454.16&quot; y=&quot;2363.59&quot; style=&quot;font-family:&#x27;Helvetica&#x27;;font-size:99.99px;fill:#000000&quot; text-anchor=&quot;middle&quot;&gt;1970&lt;/text&gt;\n\t&lt;line x1=&quot;1122.41&quot; y1=&quot;2233.63&quot; x2=&quot;1122.41&quot; y2=&quot;2273.73&quot; style=&quot;stroke:#000000;stroke-width:5.76&quot;/&gt;\n\t&lt;text x=&quot;1122.41&quot; y=&quot;2363.59&quot; style=&quot;font-family:&#x27;Helvetica&#x27;;font-size:99.99px;fill:#000000&quot; text-anchor=&quot;middle&quot;&gt;1980&lt;/text&gt;\n\t&lt;line x1=&quot;1790.79&quot; y1=&quot;2233.63&quot; x2=&quot;1790.79&quot; y2=&quot;2273.73&quot; style=&quot;stroke:#000000;stroke-width:5.76&quot;/&gt;\n\t&lt;text x=&quot;1790.79&quot; y=&quot;2363.59&quot; style=&quot;font-family:&#x27;Helvetica&#x27;;font-size:99.99px;fill:#000000&quot; text-anchor=&quot;middle&quot;&gt;1990&lt;/text&gt;\n\t&lt;line x1=&quot;2459.04&quot; y1=&quot;2233.63&quot; x2=&quot;2459.04&quot; y2=&quot;2273.73&quot; style=&quot;stroke:#000000;stroke-width:5.76&quot;/&gt;\n\t&lt;text x=&quot;2459.04&quot; y=&quot;2363.59&quot; style=&quot;font-family:&#x27;Helvetica&#x27;;font-size:99.99px;fill:#000000&quot; text-anchor=&quot;middle&quot;&gt;2000&lt;/text&gt;\n\t&lt;line x1=&quot;3127.41&quot; y1=&quot;2233.63&quot; x2=&quot;3127.41&quot; y2=&quot;2273.73&quot; style=&quot;stroke:#000000;stroke-width:5.76&quot;/&gt;\n\t&lt;text x=&quot;3127.41&quot; y=&quot;2363.59&quot; style=&quot;font-family:&#x27;Helvetica&#x27;;font-size:99.99px;fill:#000000&quot; text-anchor=&quot;middle&quot;&gt;2010&lt;/text&gt;\n\t&lt;line x1=&quot;3795.66&quot; y1=&quot;2233.63&quot; x2=&quot;3795.66&quot; y2=&quot;2273.73&quot; style=&quot;stroke:#000000;stroke-width:5.76&quot;/&gt;\n\t&lt;text x=&quot;3795.66&quot; y=&quot;2363.59&quot; style=&quot;font-family:&#x27;Helvetica&#x27;;font-size:99.99px;fill:#000000&quot; text-anchor=&quot;middle&quot;&gt;2020&lt;/text&gt;\n\t&lt;text x=&quot;2124.91&quot; y=&quot;2473.60&quot; style=&quot;font-family:&#x27;Helvetica&#x27;;font-size:99.99px;fill:#000000&quot; text-anchor=&quot;middle&quot;&gt;year&lt;/text&gt;\n\t&lt;rect x=&quot;448.59&quot; y=&quot;2558.24&quot; width=&quot;3352.64&quot; height=&quot;186.37&quot; style=&quot;fill:#FFFFFF&quot;/&gt;\n\t&lt;rect x=&quot;451.47&quot; y=&quot;2561.12&quot; width=&quot;3346.88&quot; height=&quot;180.61&quot; style=&quot;fill:none;stroke:#000000;stroke-width:5.76&quot;/&gt;\n\t&lt;line x1=&quot;491.78&quot; y1=&quot;2651.43&quot; x2=&quot;866.25&quot; y2=&quot;2651.43&quot; style=&quot;stroke:#606060;stroke-width:8.64&quot;/&gt;\n\t&lt;line x1=&quot;2169.71&quot; y1=&quot;2651.43&quot; x2=&quot;2544.18&quot; y2=&quot;2651.43&quot; style=&quot;stroke:#A0A0A0;stroke-width:8.64&quot;/&gt;\n\t&lt;text x=&quot;926.27&quot; y=&quot;2686.46&quot; style=&quot;font-family:&#x27;Helvetica&#x27;;font-size:99.99px;fill:#000000&quot;&gt;Increase in democracies&lt;/text&gt;\n\t&lt;text x=&quot;2604.07&quot; y=&quot;2686.46&quot; style=&quot;font-family:&#x27;Helvetica&#x27;;font-size:99.99px;fill:#000000&quot;&gt;Decrease in democracies&lt;/text&gt;\n&lt;/svg&gt;\n</body></html>\"></iframe>\n",
      "image/svg+xml": "<?xml version=\"1.0\" encoding=\"UTF-8\" standalone=\"no\"?>\n<!-- This is a Stata 16.1 generated SVG file (http://www.stata.com) -->\n\n<svg version=\"1.1\" width=\"600px\" height=\"436px\" viewBox=\"0 0 3960 2880\" xmlns=\"http://www.w3.org/2000/svg\" xmlns:xlink=\"http://www.w3.org/1999/xlink\">\n\t<desc>Stata Graph - Graph</desc>\n\t<rect x=\"0\" y=\"0\" width=\"3960\" height=\"2880\" style=\"fill:#FFFFFF;stroke:none\"/>\n\t<rect x=\"0.00\" y=\"0.00\" width=\"3959.88\" height=\"2880.00\" style=\"fill:#FFFFFF\"/>\n\t<rect x=\"2.88\" y=\"2.88\" width=\"3954.12\" height=\"2874.24\" style=\"fill:none;stroke:#FFFFFF;stroke-width:5.76\"/>\n\t<rect x=\"393.68\" y=\"103.74\" width=\"3462.46\" height=\"2127.01\" style=\"fill:none;stroke:#000000;stroke-width:5.76\"/>\n\t<path d=\" M587.69 1543.46 L654.51 1292.73 L721.46 1543.46 L788.29 1167.25 L855.11 1418.10 L921.94 1418.10 L988.76 1543.46 L1055.59 1041.88 L1122.41 1292.73 L1256.06 1292.73 L1322.89 1041.88 L1389.71 1418.10 L1456.54 1167.25 L1523.36 1041.88 L1590.19 1543.46 L1657.01 1292.73 L1723.84 916.52 L1790.66 164.22 L1857.49 665.80 L1924.31 791.16 L1991.26 916.52 L2058.09 1292.73 L2124.91 1543.46 L2191.74 1418.10 L2258.56 1418.10 L2325.39 1418.10 L2392.21 1292.73 L2459.04 791.16 L2525.86 1292.73 L2592.69 1292.73 L2659.51 1418.10 L2726.34 1167.25 L2793.16 1543.46 L2859.99 1167.25 L2926.81 1418.10 L2993.64 916.52 L3060.46 1418.10 L3127.29 1543.46 L3194.24 1167.25 L3261.06 916.52 L3327.89 1543.46 L3394.71 1167.25 L3461.53 1418.10 L3528.36 1543.46 L3595.18 1418.10 L3662.01 1418.10 L3728.84 1418.10 L3795.66 1543.46\" stroke-linejoin=\"round\" style=\"fill:none;stroke:#606060;stroke-width:8.64\"/>\n\t<path d=\" M587.69 1543.46 L654.51 1919.67 L721.46 1543.46 L788.29 1668.82 L855.11 1668.82 L921.94 1919.67 L988.76 1668.82 L1055.59 1668.82 L1122.41 1794.18 L1256.06 1919.67 L1322.89 1543.46 L1389.71 1668.82 L1456.54 1668.82 L1523.36 1543.46 L1590.19 1543.46 L1657.01 1543.46 L1723.84 1668.82 L1790.66 1668.82 L1857.49 1794.18 L1924.31 1543.46 L1991.26 1543.46 L2058.09 1543.46 L2124.91 1543.46 L2191.74 1919.67 L2258.56 1794.18 L2325.39 1668.82 L2392.21 1543.46 L2459.04 2045.03 L2525.86 1543.46 L2592.69 1668.82 L2659.51 1794.18 L2726.34 1543.46 L2793.16 1543.46 L2859.99 1543.46 L2926.81 1794.18 L2993.64 1543.46 L3060.46 1919.67 L3127.29 1794.18 L3194.24 1543.46 L3261.06 1794.18 L3327.89 1794.18 L3394.71 1794.18 L3461.53 1668.82 L3528.36 1794.18 L3595.18 1668.82 L3662.01 1794.18 L3728.84 1668.82 L3795.66 1794.18\" stroke-linejoin=\"round\" style=\"fill:none;stroke:#A0A0A0;stroke-width:8.64\"/>\n\t<line x1=\"390.80\" y1=\"2233.63\" x2=\"390.80\" y2=\"100.86\" style=\"stroke:#000000;stroke-width:5.76\"/>\n\t<line x1=\"390.80\" y1=\"2170.27\" x2=\"350.83\" y2=\"2170.27\" style=\"stroke:#000000;stroke-width:5.76\"/>\n\t<text x=\"300.72\" y=\"2170.27\" style=\"font-family:'Helvetica';font-size:99.99px;fill:#000000\" transform=\"rotate(-90 300.72,2170.27)\" text-anchor=\"middle\">-5</text>\n\t<line x1=\"390.80\" y1=\"1543.46\" x2=\"350.83\" y2=\"1543.46\" style=\"stroke:#000000;stroke-width:5.76\"/>\n\t<text x=\"300.72\" y=\"1543.46\" style=\"font-family:'Helvetica';font-size:99.99px;fill:#000000\" transform=\"rotate(-90 300.72,1543.46)\" text-anchor=\"middle\">0</text>\n\t<line x1=\"390.80\" y1=\"916.52\" x2=\"350.83\" y2=\"916.52\" style=\"stroke:#000000;stroke-width:5.76\"/>\n\t<text x=\"300.72\" y=\"916.52\" style=\"font-family:'Helvetica';font-size:99.99px;fill:#000000\" transform=\"rotate(-90 300.72,916.52)\" text-anchor=\"middle\">5</text>\n\t<line x1=\"390.80\" y1=\"289.58\" x2=\"350.83\" y2=\"289.58\" style=\"stroke:#000000;stroke-width:5.76\"/>\n\t<text x=\"300.72\" y=\"289.58\" style=\"font-family:'Helvetica';font-size:99.99px;fill:#000000\" transform=\"rotate(-90 300.72,289.58)\" text-anchor=\"middle\">10</text>\n\t<text x=\"190.71\" y=\"1167.25\" style=\"font-family:'Helvetica';font-size:99.99px;fill:#000000\" transform=\"rotate(-90 190.71,1167.25)\" text-anchor=\"middle\">Change in democracy status</text>\n\t<line x1=\"390.80\" y1=\"2233.63\" x2=\"3859.02\" y2=\"2233.63\" style=\"stroke:#000000;stroke-width:5.76\"/>\n\t<line x1=\"454.16\" y1=\"2233.63\" x2=\"454.16\" y2=\"2273.73\" style=\"stroke:#000000;stroke-width:5.76\"/>\n\t<text x=\"454.16\" y=\"2363.59\" style=\"font-family:'Helvetica';font-size:99.99px;fill:#000000\" text-anchor=\"middle\">1970</text>\n\t<line x1=\"1122.41\" y1=\"2233.63\" x2=\"1122.41\" y2=\"2273.73\" style=\"stroke:#000000;stroke-width:5.76\"/>\n\t<text x=\"1122.41\" y=\"2363.59\" style=\"font-family:'Helvetica';font-size:99.99px;fill:#000000\" text-anchor=\"middle\">1980</text>\n\t<line x1=\"1790.79\" y1=\"2233.63\" x2=\"1790.79\" y2=\"2273.73\" style=\"stroke:#000000;stroke-width:5.76\"/>\n\t<text x=\"1790.79\" y=\"2363.59\" style=\"font-family:'Helvetica';font-size:99.99px;fill:#000000\" text-anchor=\"middle\">1990</text>\n\t<line x1=\"2459.04\" y1=\"2233.63\" x2=\"2459.04\" y2=\"2273.73\" style=\"stroke:#000000;stroke-width:5.76\"/>\n\t<text x=\"2459.04\" y=\"2363.59\" style=\"font-family:'Helvetica';font-size:99.99px;fill:#000000\" text-anchor=\"middle\">2000</text>\n\t<line x1=\"3127.41\" y1=\"2233.63\" x2=\"3127.41\" y2=\"2273.73\" style=\"stroke:#000000;stroke-width:5.76\"/>\n\t<text x=\"3127.41\" y=\"2363.59\" style=\"font-family:'Helvetica';font-size:99.99px;fill:#000000\" text-anchor=\"middle\">2010</text>\n\t<line x1=\"3795.66\" y1=\"2233.63\" x2=\"3795.66\" y2=\"2273.73\" style=\"stroke:#000000;stroke-width:5.76\"/>\n\t<text x=\"3795.66\" y=\"2363.59\" style=\"font-family:'Helvetica';font-size:99.99px;fill:#000000\" text-anchor=\"middle\">2020</text>\n\t<text x=\"2124.91\" y=\"2473.60\" style=\"font-family:'Helvetica';font-size:99.99px;fill:#000000\" text-anchor=\"middle\">year</text>\n\t<rect x=\"448.59\" y=\"2558.24\" width=\"3352.64\" height=\"186.37\" style=\"fill:#FFFFFF\"/>\n\t<rect x=\"451.47\" y=\"2561.12\" width=\"3346.88\" height=\"180.61\" style=\"fill:none;stroke:#000000;stroke-width:5.76\"/>\n\t<line x1=\"491.78\" y1=\"2651.43\" x2=\"866.25\" y2=\"2651.43\" style=\"stroke:#606060;stroke-width:8.64\"/>\n\t<line x1=\"2169.71\" y1=\"2651.43\" x2=\"2544.18\" y2=\"2651.43\" style=\"stroke:#A0A0A0;stroke-width:8.64\"/>\n\t<text x=\"926.27\" y=\"2686.46\" style=\"font-family:'Helvetica';font-size:99.99px;fill:#000000\">Increase in democracies</text>\n\t<text x=\"2604.07\" y=\"2686.46\" style=\"font-family:'Helvetica';font-size:99.99px;fill:#000000\">Decrease in democracies</text>\n</svg>\n",
      "application/pdf": "[encoded data removed]"
     },
     "metadata": {
      "text/html": {
       "width": 600,
       "height": 436
      },
      "image/svg+xml": {
       "width": 600,
       "height": 436
      }
     }
    }
   ],
   "source": [
    "qui {\n",
    "    preserve\n",
    "    egen new_dem = group(year democracy_chg) if democracy_chg == 1, label\n",
    "    egen not_dem = group(year democracy_chg) if democracy_chg == -1, label\n",
    "    collapse (count) new_dem (count) not_dem, by(year)\n",
    "    replace not_dem = -not_dem\n",
    "    twoway line new_dem year if year >= 1970 || /// \n",
    "        line not_dem year if year >= 1970, ///\n",
    "        ytitle(\"Change in democracy status\") ///\n",
    "        legend(label(1 \"Increase in democracies\") label(2 \"Decrease in democracies\"))\n",
    "    graph export \"saved_outputs/change_in_dem.pdf\", replace\n",
    "    restore\n",
    "}"
   ]
  },
  {
   "cell_type": "code",
   "execution_count": null,
   "metadata": {},
   "outputs": [],
   "source": []
  }
 ]
}