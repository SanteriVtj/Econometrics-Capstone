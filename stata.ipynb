{
 "metadata": {
  "language_info": {
   "codemirror_mode": {
    "name": "ipython",
    "version": 3
   },
   "file_extension": ".py",
   "mimetype": "text/x-python",
   "name": "python",
   "nbconvert_exporter": "python",
   "pygments_lexer": "ipython3",
   "version": 3
  },
  "orig_nbformat": 2,
  "kernelspec": {
   "name": "stata",
   "display_name": "Stata",
   "language": "stata"
  }
 },
 "nbformat": 4,
 "nbformat_minor": 2,
 "cells": [
  {
   "cell_type": "code",
   "execution_count": 65,
   "metadata": {},
   "outputs": [
    {
     "output_type": "stream",
     "name": "stdout",
     "text": [
      "(87 vars, 150 obs)\n"
     ]
    }
   ],
   "source": [
    "import delimited \"/Users/santerivaataja/Desktop/Taloustieteen_kursseja/Econometrics/Capstone.nosync/Econometrics-Capstone/raw_data/small_master.csv\", clear"
   ]
  },
  {
   "cell_type": "code",
   "execution_count": 66,
   "metadata": {},
   "outputs": [
    {
     "output_type": "stream",
     "name": "stdout",
     "text": [
      "\n",
      "Contains data\n",
      "  obs:           150                          \n",
      " vars:            87                          \n",
      "--------------------------------------------------------------------------------\n",
      "              storage   display    value\n",
      "variable name   type    format     label      variable label\n",
      "--------------------------------------------------------------------------------\n",
      "v1              int     %8.0g                 \n",
      "country         str24   %24s                  \n",
      "year            int     %8.0g                 \n",
      "pr              byte    %8.0g                 PR\n",
      "cl              byte    %8.0g                 CL\n",
      "status          str2    %9s                   Status\n",
      "ddregime        byte    %8.0g                 DD regime\n",
      "ddcategory      str23   %23s                  DD category\n",
      "monarchy        byte    %8.0g                 Monarchy\n",
      "commonwealth    byte    %8.0g                 Commonwealth\n",
      "democracy       byte    %8.0g                 Democracy\n",
      "presidential    byte    %8.0g                 Presidential\n",
      "presidentname   str44   %44s                  President name\n",
      "presidentacce~n int     %8.0g                 President accesion\n",
      "presidentbirt~r int     %8.0g                 President birthyear\n",
      "interimphasem~y byte    %8.0g                 Interim phase (more than 2\n",
      "                                                Presidents/year=1)\n",
      "femalepreside~s byte    %8.0g                 Female president (0: No; 1: Yes)\n",
      "colony          byte    %8.0g                 Colony\n",
      "communist       byte    %8.0g                 Communist\n",
      "regimechangelag byte    %8.0g                 Regime change lag\n",
      "spatialdemocr~y str11   %11s                  spatial democracy\n",
      "countrycode     int     %8.0g                 \n",
      "noofchambersi~t byte    %8.0g                 No. of chambers in parliament\n",
      "proportionalv~g byte    %8.0g                 proportional voting\n",
      "electionsystem  str56   %56s                  Election system\n",
      "noofmembersin~e int     %8.0g                 No. of members in lower house\n",
      "newconstitution byte    %8.0g                 New constitution\n",
      "fullsuffrage    byte    %8.0g                 \n",
      "electoral       byte    %8.0g                 \n",
      "spatialelecto~l str11   %11s                  spatial electoral\n",
      "alternation     byte    %8.0g                 \n",
      "multiparty      byte    %8.0g                 \n",
      "freeandfairel~n byte    %8.0g                 free and fair election\n",
      "parliamentary~r byte    %8.0g                 parliamentary election year\n",
      "postponedelec~n byte    %8.0g                 postponed election\n",
      "anticorruptio~y byte    %8.0g                 Anticorruption policy\n",
      "civilrights     byte    %8.0g                 Civil rights\n",
      "civilsocietyp~n byte    %8.0g                 Civil society participation\n",
      "civilsocietyt~s byte    %8.0g                 Civil society traditions\n",
      "cleavageconfl~t byte    %8.0g                 Cleavage conflict management\n",
      "commitmenttod~o byte    %8.0g                 Commitment to democratic\n",
      "                                                institutions\n",
      "conflictinten~y byte    %8.0g                 Conflict intensity\n",
      "consensusongo~s byte    %8.0g                 Consensus on goals\n",
      "antidemocrati~s byte    %8.0g                 Antidemocratic actors\n",
      "educationpoli~d byte    %8.0g                 Education policy R&D\n",
      "effectivepowe~n byte    %8.0g                 Effective power to govern\n",
      "effectiveuseo~t byte    %8.0g                 Effective use of support\n",
      "efficientuseo~s byte    %8.0g                 Efficient use of assets\n",
      "environmental~y byte    %8.0g                 Environmental policy\n",
      "equalopportun~y byte    %8.0g                 Equal opportunity\n",
      "freeandfairel~s byte    %8.0g                 Free and fair elections\n",
      "freedomofexpr~n byte    %8.0g                 Freedom of expression\n",
      "independentju~y byte    %8.0g                 Independent judiciary\n",
      "interestgroups  byte    %8.0g                 Interest groups\n",
      "international~n float   %9.0g                 International Cooperation\n",
      "monopolyonthe~e byte    %8.0g                 Monopoly on the use of force\n",
      "nointerferenc~s byte    %8.0g                 No interference of religious\n",
      "                                                dogmas\n",
      "associationas~s byte    %8.0g                 Association assembly rights\n",
      "organizationo~t float   %9.0g                 Organization of the Market and\n",
      "                                                Competition\n",
      "partysystem     byte    %8.0g                 Party system\n",
      "performanceof~i byte    %8.0g                 Performance of democratic\n",
      "                                                institutions\n",
      "policycoordin~n byte    %8.0g                 Policy coordination\n",
      "policylearning  byte    %8.0g                 Policy learning\n",
      "politicalpart~n float   %9.0g                 Political Participation\n",
      "politicalands~n float   %9.0g                 Political and Social Integration\n",
      "privateproperty float   %9.0g                 Private Property\n",
      "prosecutionof~e byte    %8.0g                 Prosecution of office abuse\n",
      "regionalcoope~n byte    %8.0g                 Regional cooperation\n",
      "resourceeffic~y float   %9.0g                 Resource Efficiency\n",
      "separationofp~s byte    %8.0g                 Separation of powers\n",
      "socialcapital   byte    %8.0g                 Social capital\n",
      "socialsafetyn~s byte    %8.0g                 Social safety nets\n",
      "socioeconomic~s byte    %8.0g                 Socioeconomic barriers\n",
      "stabilityofde~n float   %9.0g                 Stability of Democratic\n",
      "                                                Institutions\n",
      "stateidentity   byte    %8.0g                 State identity\n",
      "basicadminist~n byte    %8.0g                 Basic administration\n",
      "steeringcapab~y float   %9.0g                 Steering Capability\n",
      "structuralcon~s byte    %8.0g                 Structural constraints\n",
      "welfareregime   float   %9.0g                 Welfare Regime\n",
      "corruption      float   %9.0g                 \n",
      "efficiency      float   %9.0g                 \n",
      "stability       float   %9.0g                 \n",
      "rol             float   %9.0g                 \n",
      "acc             float   %9.0g                 \n",
      "mortality       float   %9.0g                 \n",
      "trade           float   %9.0g                 \n",
      "--more--\n"
     ]
    }
   ],
   "source": [
    "de"
   ]
  },
  {
   "cell_type": "code",
   "execution_count": 67,
   "metadata": {},
   "outputs": [],
   "source": [
    "gen ln_gdp = ln(gdp)"
   ]
  },
  {
   "cell_type": "code",
   "execution_count": 68,
   "metadata": {},
   "outputs": [
    {
     "output_type": "stream",
     "name": "stdout",
     "text": [
      "       panel variable:  countrycode (strongly balanced)\n",
      "        time variable:  year, 2008 to 2018, but with gaps\n",
      "                delta:  1 unit\n"
     ]
    }
   ],
   "source": [
    "xtset countrycode year"
   ]
  },
  {
   "cell_type": "code",
   "execution_count": 88,
   "metadata": {},
   "outputs": [
    {
     "output_type": "stream",
     "name": "stdout",
     "text": [
      "\n",
      "Fixed-effects (within) regression               Number of obs     =        150\n",
      "Group variable: countrycode                     Number of groups  =         75\n",
      "\n",
      "R-sq:                                           Obs per group:\n",
      "     within  = 0.5339                                         min =          2\n",
      "     between = 0.4998                                         avg =        2.0\n",
      "     overall = 0.4988                                         max =          2\n",
      "\n",
      "                                                F(6,74)           =      11.18\n",
      "corr(u_i, Xb)  = 0.2527                         Prob > F          =     0.0000\n",
      "\n",
      "                            (Std. Err. adjusted for 75 clusters in countrycode)\n",
      "-------------------------------------------------------------------------------\n",
      "              |               Robust\n",
      "       ln_gdp |      Coef.   Std. Err.      t    P>|t|     [95% Conf. Interval]\n",
      "--------------+----------------------------------------------------------------\n",
      "    democracy |  -.0125842    .062671    -0.20   0.841    -.1374589    .1122904\n",
      "civilsociet~s |  -.0902268   .0369401    -2.44   0.017    -.1638315   -.0166221\n",
      "   efficiency |   .1921013   .1876513     1.02   0.309     -.181802    .5660047\n",
      "          rol |   .1877917   .1809227     1.04   0.303    -.1727047    .5482881\n",
      "    mortality |  -.0141745   .0025141    -5.64   0.000     -.019184   -.0091651\n",
      "        trade |  -.0064275   .0011595    -5.54   0.000    -.0087379   -.0041171\n",
      "        _cons |   9.659862   .2266837    42.61   0.000     9.208185    10.11154\n",
      "--------------+----------------------------------------------------------------\n",
      "      sigma_u |  .87235594\n",
      "      sigma_e |  .21018866\n",
      "          rho |  .94513147   (fraction of variance due to u_i)\n",
      "-------------------------------------------------------------------------------\n"
     ]
    }
   ],
   "source": [
    "xtreg ln_gdp democracy civilsocietytraditions efficiency rol mortality trade, fe r"
   ]
  },
  {
   "cell_type": "code",
   "execution_count": null,
   "metadata": {},
   "outputs": [],
   "source": []
  }
 ]
}