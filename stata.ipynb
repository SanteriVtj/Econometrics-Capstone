{
 "metadata": {
  "language_info": {
   "codemirror_mode": {
    "name": "ipython",
    "version": 3
   },
   "file_extension": ".py",
   "mimetype": "text/x-python",
   "name": "python",
   "nbconvert_exporter": "python",
   "pygments_lexer": "ipython3",
   "version": 3
  },
  "orig_nbformat": 2,
  "kernelspec": {
   "name": "stata",
   "display_name": "Stata",
   "language": "stata"
  }
 },
 "nbformat": 4,
 "nbformat_minor": 2,
 "cells": [
  {
   "cell_type": "code",
   "execution_count": 18,
   "metadata": {},
   "outputs": [
    {
     "output_type": "stream",
     "name": "stdout",
     "text": [
      "(92 vars, 110 obs)\n"
     ]
    }
   ],
   "source": [
    "import delimited \"/Users/santerivaataja/Desktop/Taloustieteen_kursseja/Econometrics/Capstone.nosync/Econometrics-Capstone/raw_data/small_master_c.csv\", clear"
   ]
  },
  {
   "cell_type": "code",
   "execution_count": 27,
   "metadata": {},
   "outputs": [],
   "source": [
    "set scheme s1mono"
   ]
  },
  {
   "source": [
    "qui {\n",
    "    gen ln_gdp = ln(gdp)\n",
    "    xtset countrycode year\n",
    "}"
   ],
   "cell_type": "code",
   "metadata": {},
   "execution_count": 19,
   "outputs": []
  },
  {
   "cell_type": "code",
   "execution_count": 21,
   "metadata": {},
   "outputs": [
    {
     "output_type": "stream",
     "name": "stdout",
     "text": [
      "\n",
      "Fixed-effects (within) regression               Number of obs     =        110\n",
      "Group variable: countrycode                     Number of groups  =         55\n",
      "\n",
      "R-sq:                                           Obs per group:\n",
      "     within  = 0.6407                                         min =          2\n",
      "     between = 0.4283                                         avg =        2.0\n",
      "     overall = 0.4321                                         max =          2\n",
      "\n",
      "                                                F(7,54)           =      11.11\n",
      "corr(u_i, Xb)  = 0.2450                         Prob > F          =     0.0000\n",
      "\n",
      "                            (Std. Err. adjusted for 55 clusters in countrycode)\n",
      "-------------------------------------------------------------------------------\n",
      "              |               Robust\n",
      "       ln_gdp |      Coef.   Std. Err.      t    P>|t|     [95% Conf. Interval]\n",
      "--------------+----------------------------------------------------------------\n",
      "    democracy |  -.0413784   .0693185    -0.60   0.553    -.1803535    .0975968\n",
      "civilsociet~s |  -.0552045   .0444766    -1.24   0.220    -.1443748    .0339658\n",
      "          rol |   .4027212   .1000001     4.03   0.000     .2022332    .6032092\n",
      "        trade |   -.006104   .0014124    -4.32   0.000    -.0089358   -.0032723\n",
      "    broadband |   .0077055   .0046311     1.66   0.102    -.0015793    .0169902\n",
      "life_expect~y |   .0323622   .0094181     3.44   0.001     .0134801    .0512443\n",
      "     tech_exp |    .000848   .0031039     0.27   0.786    -.0053749     .007071\n",
      "        _cons |   6.964015   .5990851    11.62   0.000     5.762922    8.165108\n",
      "--------------+----------------------------------------------------------------\n",
      "      sigma_u |  .85765153\n",
      "      sigma_e |  .19976041\n",
      "          rho |  .94854191   (fraction of variance due to u_i)\n",
      "-------------------------------------------------------------------------------\n"
     ]
    }
   ],
   "source": [
    "xtreg ln_gdp democracy civilsocietytraditions rol trade broadband life_expectancy tech_exp, fe r"
   ]
  },
  {
   "cell_type": "code",
   "execution_count": 23,
   "metadata": {},
   "outputs": [
    {
     "output_type": "stream",
     "name": "stdout",
     "text": [
      "\n",
      "             | democr~y civils~s      rol    trade broadb~d life_e~y tech_exp\n",
      "-------------+---------------------------------------------------------------\n",
      "   democracy |   1.0000 \n",
      "civilsocie~s |  -0.5059   1.0000 \n",
      "         rol |   0.3178  -0.6502   1.0000 \n",
      "       trade |  -0.0824  -0.1745   0.5190   1.0000 \n",
      "   broadband |   0.1410  -0.4156   0.5951   0.4695   1.0000 \n",
      "life_expec~y |   0.2572  -0.3335   0.4677   0.2816   0.6118   1.0000 \n",
      "    tech_exp |   0.1241  -0.3335   0.3223   0.2835   0.4103   0.2813   1.0000 \n"
     ]
    }
   ],
   "source": [
    "pwcorr democracy civilsocietytraditions rol trade broadband life_expectancy tech_exp"
   ]
  },
  {
   "cell_type": "code",
   "execution_count": 32,
   "metadata": {},
   "outputs": [
    {
     "output_type": "stream",
     "name": "stdout",
     "text": [
      "\n",
      "\n",
      ". cap noi     line tech_exp* year, xlabel(2008 2018) ysize(5) leg(off)\n",
      "\n",
      ". if _rc == 0 {\n",
      ".     noi gr export `\"/Users/santerivaataja/.stata_kernel_cache/graph$stata_kern\n",
      "> el_graph_counter.svg\"', width(600) replace\n"
     ]
    },
    {
     "output_type": "display_data",
     "data": {
      "text/plain": "This front-end cannot display the desired image type.",
      "text/html": "                <iframe frameborder=\"0\" scrolling=\"no\" height=\"545\" width=\"600\"                srcdoc=\"<html><body>&lt;?xml version=&quot;1.0&quot; encoding=&quot;UTF-8&quot; standalone=&quot;no&quot;?&gt;\n&lt;!-- This is a Stata 16.1 generated SVG file (http://www.stata.com) --&gt;\n\n&lt;svg version=&quot;1.1&quot; width=&quot;600px&quot; height=&quot;545px&quot; viewBox=&quot;0 0 3960 3600&quot; xmlns=&quot;http://www.w3.org/2000/svg&quot; xmlns:xlink=&quot;http://www.w3.org/1999/xlink&quot;&gt;\n\t&lt;desc&gt;Stata Graph - Graph&lt;/desc&gt;\n\t&lt;rect x=&quot;0&quot; y=&quot;0&quot; width=&quot;3960&quot; height=&quot;3600&quot; style=&quot;fill:#FFFFFF;stroke:none&quot;/&gt;\n\t&lt;rect x=&quot;0.00&quot; y=&quot;0.00&quot; width=&quot;3959.88&quot; height=&quot;3600.00&quot; style=&quot;fill:#FFFFFF&quot;/&gt;\n\t&lt;rect x=&quot;3.60&quot; y=&quot;3.60&quot; width=&quot;3952.68&quot; height=&quot;3592.80&quot; style=&quot;fill:none;stroke:#FFFFFF;stroke-width:7.20&quot;/&gt;\n\t&lt;rect x=&quot;367.05&quot; y=&quot;129.58&quot; width=&quot;3463.25&quot; height=&quot;2978.36&quot; style=&quot;fill:none;stroke:#000000;stroke-width:7.20&quot;/&gt;\n\t&lt;path d=&quot; M442.65 476.33 L442.65 1684.41 L442.65 2713.30 L442.65 2542.77 L442.65 2599.57 L442.65 1796.53 L442.65 349.11 L442.65 2003.95 L442.65 1300.90 L442.65 1750.25 L442.65 1955.06 L442.65 914.66 L442.65 867.14 L442.65 2250.84 L442.65 2865.52 L442.65 2666.40 L442.65 2415.43 L442.65 2926.53 L442.65 2338.82 L442.65 2965.76 L442.65 1837.74 L442.65 1907.29 L442.65 1824.75 L442.65 1665.48 L442.65 1247.56 L442.65 1023.69 L442.65 2400.58 L442.65 1559.79 L442.65 2090.45 L442.65 690.79 L442.65 1325.03 L442.65 2353.55 L442.65 3030.11 L442.65 2079.56 L442.65 2169.78 L442.65 2429.54 L442.65 2536.95 L442.65 2538.07 L442.65 1003.15 L442.65 1953.08 L442.65 1559.30 L442.65 2499.09 L442.65 2958.09 L442.65 330.67 L442.65 2709.34 L442.65 1634.66 L442.65 1460.67 L442.65 818.63 L442.65 2642.27 L442.65 325.10 L442.65 2515.79 L442.65 695.00 L442.65 2551.31 L442.65 3006.23 L442.65 1779.58 L3754.57 2354.79 L3754.57 2075.23 L3754.57 1818.69 L3754.57 3031.10 L3754.57 2672.84 L3754.57 2247.49 L3754.57 2282.89 L3754.57 2863.79 L3754.57 1497.17 L3754.57 2665.41 L3754.57 1797.77 L3754.57 2221.26 L3754.57 2501.68 L3754.57 2531.88 L3754.57 1145.59 L3754.57 2522.48 L3754.57 1480.59 L3754.57 2965.64 L3754.57 1440.37 L3754.57 2518.02 L3754.57 2121.14 L3754.57 1468.96 L3754.57 1406.83 L3754.57 205.31 L3754.57 402.70 L3754.57 2638.43 L3754.57 1671.05 L3754.57 1418.34 L3754.57 919.86 L3754.57 1807.30 L3754.57 2870.47 L3754.57 2480.40 L3754.57 1954.57 L3754.57 1519.33 L3754.57 1949.00 L3754.57 1666.59 L3754.57 1581.45 L3754.57 1549.52 L3754.57 2598.34 L3754.57 1161.18 L3754.57 2502.92 L3754.57 1378.12 L3754.57 1251.28 L3754.57 818.63 L3754.57 2894.60 L3754.57 2711.82 L3754.57 2965.39 L3754.57 2020.16 L3754.57 555.90 L3754.57 1707.93 L3754.57 2618.88 L3754.57 808.48 L3754.57 212.49 L3754.57 568.03 L3754.57 2030.18&quot; stroke-linejoin=&quot;round&quot; style=&quot;fill:none;stroke:#606060;stroke-width:10.80&quot;/&gt;\n\t&lt;path d=&quot; M442.65 3006.23 L3754.57 2894.60&quot; stroke-linejoin=&quot;round&quot; style=&quot;fill:none;stroke:#A0A0A0;stroke-width:10.80&quot;/&gt;\n\t&lt;path d=&quot; M442.65 1684.41 L3754.57 1418.34&quot; stroke-linejoin=&quot;round&quot; style=&quot;fill:none;stroke:#808080;stroke-width:10.80&quot;/&gt;\n\t&lt;path d=&quot; M442.65 1955.06 L3754.57 2518.02&quot; stroke-linejoin=&quot;round&quot; style=&quot;fill:none;stroke:#404040;stroke-width:10.80&quot;/&gt;\n\t&lt;path d=&quot; M442.65 2642.27 L3754.57 2221.26&quot; stroke-linejoin=&quot;round&quot; style=&quot;fill:none;stroke:#000000;stroke-width:10.80&quot;/&gt;\n\t&lt;path d=&quot; M442.65 1665.48 L3754.57 1671.05&quot; stroke-linejoin=&quot;round&quot; style=&quot;fill:none;stroke:#C0C0C0;stroke-width:10.80&quot;/&gt;\n\t&lt;path d=&quot; M442.65 2169.78 L3754.57 2598.34&quot; stroke-linejoin=&quot;round&quot; style=&quot;fill:none;stroke:#202020;stroke-width:10.80&quot;/&gt;\n\t&lt;path d=&quot; M442.65 2515.79 L3754.57 2711.82&quot; stroke-linejoin=&quot;round&quot; style=&quot;fill:none;stroke:#707070;stroke-width:10.80&quot;/&gt;\n\t&lt;path d=&quot; M442.65 1003.15 L3754.57 919.86&quot; stroke-linejoin=&quot;round&quot; style=&quot;fill:none;stroke:#909090;stroke-width:10.80&quot;/&gt;\n\t&lt;path d=&quot; M442.65 1824.75 L3754.57 1666.59&quot; stroke-linejoin=&quot;round&quot; style=&quot;fill:none;stroke:#B0B0B0;stroke-width:10.80&quot;/&gt;\n\t&lt;path d=&quot; M442.65 914.66 L3754.57 1251.28&quot; stroke-linejoin=&quot;round&quot; style=&quot;fill:none;stroke:#D0D0D0;stroke-width:10.80&quot;/&gt;\n\t&lt;path d=&quot; M442.65 1300.90 L3754.57 1440.37&quot; stroke-linejoin=&quot;round&quot; style=&quot;fill:none;stroke:#505050;stroke-width:10.80&quot;/&gt;\n\t&lt;path d=&quot; M442.65 818.63 L3754.57 818.63&quot; stroke-linejoin=&quot;round&quot; style=&quot;fill:none;stroke:#303030;stroke-width:10.80&quot;/&gt;\n\t&lt;path d=&quot; M442.65 695.00 L3754.57 555.90&quot; stroke-linejoin=&quot;round&quot; style=&quot;fill:none;stroke:#C0C0C0;stroke-width:10.80&quot;/&gt;\n\t&lt;path d=&quot; M442.65 2338.82 L3754.57 2618.88&quot; stroke-linejoin=&quot;round&quot; style=&quot;fill:none;stroke:#505050;stroke-width:10.80&quot;/&gt;\n\t&lt;path d=&quot; M442.65 2353.55 L3754.57 2502.92&quot; stroke-linejoin=&quot;round&quot; style=&quot;fill:none;stroke:#606060;stroke-width:10.80&quot;/&gt;\n\t&lt;path d=&quot; M442.65 1559.79 L3754.57 1378.12&quot; stroke-linejoin=&quot;round&quot; style=&quot;fill:none;stroke:#A0A0A0;stroke-width:10.80&quot;/&gt;\n\t&lt;path d=&quot; M442.65 1325.03 L3754.57 1949.00&quot; stroke-linejoin=&quot;round&quot; style=&quot;fill:none;stroke:#808080;stroke-width:10.80&quot;/&gt;\n\t&lt;path d=&quot; M442.65 2400.58 L3754.57 2501.68&quot; stroke-linejoin=&quot;round&quot; style=&quot;fill:none;stroke:#404040;stroke-width:10.80&quot;/&gt;\n\t&lt;path d=&quot; M442.65 330.67 L3754.57 402.70&quot; stroke-linejoin=&quot;round&quot; style=&quot;fill:none;stroke:#000000;stroke-width:10.80&quot;/&gt;\n\t&lt;path d=&quot; M442.65 2079.56 L3754.57 1818.69&quot; stroke-linejoin=&quot;round&quot; style=&quot;fill:none;stroke:#C0C0C0;stroke-width:10.80&quot;/&gt;\n\t&lt;path d=&quot; M442.65 2003.95 L3754.57 2030.18&quot; stroke-linejoin=&quot;round&quot; style=&quot;fill:none;stroke:#202020;stroke-width:10.80&quot;/&gt;\n\t&lt;path d=&quot; M442.65 3030.11 L3754.57 3031.10&quot; stroke-linejoin=&quot;round&quot; style=&quot;fill:none;stroke:#707070;stroke-width:10.80&quot;/&gt;\n\t&lt;path d=&quot; M442.65 1796.53 L3754.57 1807.30&quot; stroke-linejoin=&quot;round&quot; style=&quot;fill:none;stroke:#909090;stroke-width:10.80&quot;/&gt;\n\t&lt;path d=&quot; M442.65 2415.43 L3754.57 2282.89&quot; stroke-linejoin=&quot;round&quot; style=&quot;fill:none;stroke:#B0B0B0;stroke-width:10.80&quot;/&gt;\n\t&lt;path d=&quot; M442.65 1837.74 L3754.57 1519.33&quot; stroke-linejoin=&quot;round&quot; style=&quot;fill:none;stroke:#D0D0D0;stroke-width:10.80&quot;/&gt;\n\t&lt;path d=&quot; M442.65 1634.66 L3754.57 1549.52&quot; stroke-linejoin=&quot;round&quot; style=&quot;fill:none;stroke:#505050;stroke-width:10.80&quot;/&gt;\n\t&lt;path d=&quot; M442.65 2958.09 L3754.57 2870.47&quot; stroke-linejoin=&quot;round&quot; style=&quot;fill:none;stroke:#303030;stroke-width:10.80&quot;/&gt;\n\t&lt;path d=&quot; M442.65 2499.09 L3754.57 1581.45&quot; stroke-linejoin=&quot;round&quot; style=&quot;fill:none;stroke:#C0C0C0;stroke-width:10.80&quot;/&gt;\n\t&lt;path d=&quot; M442.65 2599.57 L3754.57 2531.88&quot; stroke-linejoin=&quot;round&quot; style=&quot;fill:none;stroke:#505050;stroke-width:10.80&quot;/&gt;\n\t&lt;path d=&quot; M442.65 349.11 L3754.57 205.31&quot; stroke-linejoin=&quot;round&quot; style=&quot;fill:none;stroke:#606060;stroke-width:10.80&quot;/&gt;\n\t&lt;path d=&quot; M442.65 2536.95 L3754.57 1707.93&quot; stroke-linejoin=&quot;round&quot; style=&quot;fill:none;stroke:#A0A0A0;stroke-width:10.80&quot;/&gt;\n\t&lt;path d=&quot; M442.65 2965.76 L3754.57 2965.39&quot; stroke-linejoin=&quot;round&quot; style=&quot;fill:none;stroke:#808080;stroke-width:10.80&quot;/&gt;\n\t&lt;path d=&quot; M442.65 2090.45 L3754.57 2121.14&quot; stroke-linejoin=&quot;round&quot; style=&quot;fill:none;stroke:#404040;stroke-width:10.80&quot;/&gt;\n\t&lt;path d=&quot; M442.65 1779.58 L3754.57 2480.40&quot; stroke-linejoin=&quot;round&quot; style=&quot;fill:none;stroke:#000000;stroke-width:10.80&quot;/&gt;\n\t&lt;path d=&quot; M442.65 2551.31 L3754.57 2965.64&quot; stroke-linejoin=&quot;round&quot; style=&quot;fill:none;stroke:#C0C0C0;stroke-width:10.80&quot;/&gt;\n\t&lt;path d=&quot; M442.65 476.33 L3754.57 1161.18&quot; stroke-linejoin=&quot;round&quot; style=&quot;fill:none;stroke:#202020;stroke-width:10.80&quot;/&gt;\n\t&lt;path d=&quot; M442.65 2713.30 L3754.57 2672.84&quot; stroke-linejoin=&quot;round&quot; style=&quot;fill:none;stroke:#707070;stroke-width:10.80&quot;/&gt;\n\t&lt;path d=&quot; M442.65 2542.77 L3754.57 1497.17&quot; stroke-linejoin=&quot;round&quot; style=&quot;fill:none;stroke:#909090;stroke-width:10.80&quot;/&gt;\n\t&lt;path d=&quot; M442.65 2666.40 L3754.57 1954.57&quot; stroke-linejoin=&quot;round&quot; style=&quot;fill:none;stroke:#B0B0B0;stroke-width:10.80&quot;/&gt;\n\t&lt;path d=&quot; M442.65 2865.52 L3754.57 2863.79&quot; stroke-linejoin=&quot;round&quot; style=&quot;fill:none;stroke:#D0D0D0;stroke-width:10.80&quot;/&gt;\n\t&lt;path d=&quot; M442.65 325.10 L3754.57 212.49&quot; stroke-linejoin=&quot;round&quot; style=&quot;fill:none;stroke:#505050;stroke-width:10.80&quot;/&gt;\n\t&lt;path d=&quot; M442.65 1023.69 L3754.57 1145.59&quot; stroke-linejoin=&quot;round&quot; style=&quot;fill:none;stroke:#303030;stroke-width:10.80&quot;/&gt;\n\t&lt;path d=&quot; M442.65 2926.53 L3754.57 2638.43&quot; stroke-linejoin=&quot;round&quot; style=&quot;fill:none;stroke:#C0C0C0;stroke-width:10.80&quot;/&gt;\n\t&lt;path d=&quot; M442.65 2429.54 L3754.57 2522.48&quot; stroke-linejoin=&quot;round&quot; style=&quot;fill:none;stroke:#505050;stroke-width:10.80&quot;/&gt;\n\t&lt;path d=&quot; M442.65 1907.29 L3754.57 1468.96&quot; stroke-linejoin=&quot;round&quot; style=&quot;fill:none;stroke:#606060;stroke-width:10.80&quot;/&gt;\n\t&lt;path d=&quot; M442.65 690.79 L3754.57 568.03&quot; stroke-linejoin=&quot;round&quot; style=&quot;fill:none;stroke:#A0A0A0;stroke-width:10.80&quot;/&gt;\n\t&lt;path d=&quot; M442.65 867.14 L3754.57 808.48&quot; stroke-linejoin=&quot;round&quot; style=&quot;fill:none;stroke:#808080;stroke-width:10.80&quot;/&gt;\n\t&lt;path d=&quot; M442.65 1247.56 L3754.57 1406.83&quot; stroke-linejoin=&quot;round&quot; style=&quot;fill:none;stroke:#404040;stroke-width:10.80&quot;/&gt;\n\t&lt;path d=&quot; M442.65 2709.34 L3754.57 2665.41&quot; stroke-linejoin=&quot;round&quot; style=&quot;fill:none;stroke:#000000;stroke-width:10.80&quot;/&gt;\n\t&lt;path d=&quot; M442.65 1559.30 L3754.57 1480.59&quot; stroke-linejoin=&quot;round&quot; style=&quot;fill:none;stroke:#C0C0C0;stroke-width:10.80&quot;/&gt;\n\t&lt;path d=&quot; M442.65 1460.67 L3754.57 1797.77&quot; stroke-linejoin=&quot;round&quot; style=&quot;fill:none;stroke:#202020;stroke-width:10.80&quot;/&gt;\n\t&lt;path d=&quot; M442.65 2250.84 L3754.57 2247.49&quot; stroke-linejoin=&quot;round&quot; style=&quot;fill:none;stroke:#707070;stroke-width:10.80&quot;/&gt;\n\t&lt;path d=&quot; M442.65 1750.25 L3754.57 2020.16&quot; stroke-linejoin=&quot;round&quot; style=&quot;fill:none;stroke:#909090;stroke-width:10.80&quot;/&gt;\n\t&lt;path d=&quot; M442.65 2538.07 L3754.57 2075.23&quot; stroke-linejoin=&quot;round&quot; style=&quot;fill:none;stroke:#B0B0B0;stroke-width:10.80&quot;/&gt;\n\t&lt;path d=&quot; M442.65 1953.08 L3754.57 2354.79&quot; stroke-linejoin=&quot;round&quot; style=&quot;fill:none;stroke:#D0D0D0;stroke-width:10.80&quot;/&gt;\n\t&lt;line x1=&quot;363.45&quot; y1=&quot;3111.54&quot; x2=&quot;363.45&quot; y2=&quot;125.98&quot; style=&quot;stroke:#000000;stroke-width:7.20&quot;/&gt;\n\t&lt;line x1=&quot;363.45&quot; y1=&quot;3032.34&quot; x2=&quot;313.46&quot; y2=&quot;3032.34&quot; style=&quot;stroke:#000000;stroke-width:7.20&quot;/&gt;\n\t&lt;text x=&quot;250.90&quot; y=&quot;3032.34&quot; style=&quot;font-family:&#x27;Helvetica&#x27;;font-size:124.99px;fill:#000000&quot; transform=&quot;rotate(-90 250.90,3032.34)&quot; text-anchor=&quot;middle&quot;&gt;0&lt;/text&gt;\n\t&lt;line x1=&quot;363.45&quot; y1=&quot;2334.25&quot; x2=&quot;313.46&quot; y2=&quot;2334.25&quot; style=&quot;stroke:#000000;stroke-width:7.20&quot;/&gt;\n\t&lt;text x=&quot;250.90&quot; y=&quot;2334.25&quot; style=&quot;font-family:&#x27;Helvetica&#x27;;font-size:124.99px;fill:#000000&quot; transform=&quot;rotate(-90 250.90,2334.25)&quot; text-anchor=&quot;middle&quot;&gt;20&lt;/text&gt;\n\t&lt;line x1=&quot;363.45&quot; y1=&quot;1636.27&quot; x2=&quot;313.46&quot; y2=&quot;1636.27&quot; style=&quot;stroke:#000000;stroke-width:7.20&quot;/&gt;\n\t&lt;text x=&quot;250.90&quot; y=&quot;1636.27&quot; style=&quot;font-family:&#x27;Helvetica&#x27;;font-size:124.99px;fill:#000000&quot; transform=&quot;rotate(-90 250.90,1636.27)&quot; text-anchor=&quot;middle&quot;&gt;40&lt;/text&gt;\n\t&lt;line x1=&quot;363.45&quot; y1=&quot;938.18&quot; x2=&quot;313.46&quot; y2=&quot;938.18&quot; style=&quot;stroke:#000000;stroke-width:7.20&quot;/&gt;\n\t&lt;text x=&quot;250.90&quot; y=&quot;938.18&quot; style=&quot;font-family:&#x27;Helvetica&#x27;;font-size:124.99px;fill:#000000&quot; transform=&quot;rotate(-90 250.90,938.18)&quot; text-anchor=&quot;middle&quot;&gt;60&lt;/text&gt;\n\t&lt;line x1=&quot;363.45&quot; y1=&quot;240.08&quot; x2=&quot;313.46&quot; y2=&quot;240.08&quot; style=&quot;stroke:#000000;stroke-width:7.20&quot;/&gt;\n\t&lt;text x=&quot;250.90&quot; y=&quot;240.08&quot; style=&quot;font-family:&#x27;Helvetica&#x27;;font-size:124.99px;fill:#000000&quot; transform=&quot;rotate(-90 250.90,240.08)&quot; text-anchor=&quot;middle&quot;&gt;80&lt;/text&gt;\n\t&lt;line x1=&quot;363.45&quot; y1=&quot;3111.54&quot; x2=&quot;3833.90&quot; y2=&quot;3111.54&quot; style=&quot;stroke:#000000;stroke-width:7.20&quot;/&gt;\n\t&lt;line x1=&quot;442.65&quot; y1=&quot;3111.54&quot; x2=&quot;442.65&quot; y2=&quot;3161.54&quot; style=&quot;stroke:#000000;stroke-width:7.20&quot;/&gt;\n\t&lt;text x=&quot;442.65&quot; y=&quot;3273.97&quot; style=&quot;font-family:&#x27;Helvetica&#x27;;font-size:124.99px;fill:#000000&quot; text-anchor=&quot;middle&quot;&gt;2008&lt;/text&gt;\n\t&lt;line x1=&quot;3754.70&quot; y1=&quot;3111.54&quot; x2=&quot;3754.70&quot; y2=&quot;3161.54&quot; style=&quot;stroke:#000000;stroke-width:7.20&quot;/&gt;\n\t&lt;text x=&quot;3754.70&quot; y=&quot;3273.97&quot; style=&quot;font-family:&#x27;Helvetica&#x27;;font-size:124.99px;fill:#000000&quot; text-anchor=&quot;middle&quot;&gt;2018&lt;/text&gt;\n\t&lt;text x=&quot;2098.68&quot; y=&quot;3411.46&quot; style=&quot;font-family:&#x27;Helvetica&#x27;;font-size:124.99px;fill:#000000&quot; text-anchor=&quot;middle&quot;&gt;year&lt;/text&gt;\n&lt;/svg&gt;\n</body></html>\"></iframe>\n",
      "image/svg+xml": "<?xml version=\"1.0\" encoding=\"UTF-8\" standalone=\"no\"?>\n<!-- This is a Stata 16.1 generated SVG file (http://www.stata.com) -->\n\n<svg version=\"1.1\" width=\"600px\" height=\"545px\" viewBox=\"0 0 3960 3600\" xmlns=\"http://www.w3.org/2000/svg\" xmlns:xlink=\"http://www.w3.org/1999/xlink\">\n\t<desc>Stata Graph - Graph</desc>\n\t<rect x=\"0\" y=\"0\" width=\"3960\" height=\"3600\" style=\"fill:#FFFFFF;stroke:none\"/>\n\t<rect x=\"0.00\" y=\"0.00\" width=\"3959.88\" height=\"3600.00\" style=\"fill:#FFFFFF\"/>\n\t<rect x=\"3.60\" y=\"3.60\" width=\"3952.68\" height=\"3592.80\" style=\"fill:none;stroke:#FFFFFF;stroke-width:7.20\"/>\n\t<rect x=\"367.05\" y=\"129.58\" width=\"3463.25\" height=\"2978.36\" style=\"fill:none;stroke:#000000;stroke-width:7.20\"/>\n\t<path d=\" M442.65 476.33 L442.65 1684.41 L442.65 2713.30 L442.65 2542.77 L442.65 2599.57 L442.65 1796.53 L442.65 349.11 L442.65 2003.95 L442.65 1300.90 L442.65 1750.25 L442.65 1955.06 L442.65 914.66 L442.65 867.14 L442.65 2250.84 L442.65 2865.52 L442.65 2666.40 L442.65 2415.43 L442.65 2926.53 L442.65 2338.82 L442.65 2965.76 L442.65 1837.74 L442.65 1907.29 L442.65 1824.75 L442.65 1665.48 L442.65 1247.56 L442.65 1023.69 L442.65 2400.58 L442.65 1559.79 L442.65 2090.45 L442.65 690.79 L442.65 1325.03 L442.65 2353.55 L442.65 3030.11 L442.65 2079.56 L442.65 2169.78 L442.65 2429.54 L442.65 2536.95 L442.65 2538.07 L442.65 1003.15 L442.65 1953.08 L442.65 1559.30 L442.65 2499.09 L442.65 2958.09 L442.65 330.67 L442.65 2709.34 L442.65 1634.66 L442.65 1460.67 L442.65 818.63 L442.65 2642.27 L442.65 325.10 L442.65 2515.79 L442.65 695.00 L442.65 2551.31 L442.65 3006.23 L442.65 1779.58 L3754.57 2354.79 L3754.57 2075.23 L3754.57 1818.69 L3754.57 3031.10 L3754.57 2672.84 L3754.57 2247.49 L3754.57 2282.89 L3754.57 2863.79 L3754.57 1497.17 L3754.57 2665.41 L3754.57 1797.77 L3754.57 2221.26 L3754.57 2501.68 L3754.57 2531.88 L3754.57 1145.59 L3754.57 2522.48 L3754.57 1480.59 L3754.57 2965.64 L3754.57 1440.37 L3754.57 2518.02 L3754.57 2121.14 L3754.57 1468.96 L3754.57 1406.83 L3754.57 205.31 L3754.57 402.70 L3754.57 2638.43 L3754.57 1671.05 L3754.57 1418.34 L3754.57 919.86 L3754.57 1807.30 L3754.57 2870.47 L3754.57 2480.40 L3754.57 1954.57 L3754.57 1519.33 L3754.57 1949.00 L3754.57 1666.59 L3754.57 1581.45 L3754.57 1549.52 L3754.57 2598.34 L3754.57 1161.18 L3754.57 2502.92 L3754.57 1378.12 L3754.57 1251.28 L3754.57 818.63 L3754.57 2894.60 L3754.57 2711.82 L3754.57 2965.39 L3754.57 2020.16 L3754.57 555.90 L3754.57 1707.93 L3754.57 2618.88 L3754.57 808.48 L3754.57 212.49 L3754.57 568.03 L3754.57 2030.18\" stroke-linejoin=\"round\" style=\"fill:none;stroke:#606060;stroke-width:10.80\"/>\n\t<path d=\" M442.65 3006.23 L3754.57 2894.60\" stroke-linejoin=\"round\" style=\"fill:none;stroke:#A0A0A0;stroke-width:10.80\"/>\n\t<path d=\" M442.65 1684.41 L3754.57 1418.34\" stroke-linejoin=\"round\" style=\"fill:none;stroke:#808080;stroke-width:10.80\"/>\n\t<path d=\" M442.65 1955.06 L3754.57 2518.02\" stroke-linejoin=\"round\" style=\"fill:none;stroke:#404040;stroke-width:10.80\"/>\n\t<path d=\" M442.65 2642.27 L3754.57 2221.26\" stroke-linejoin=\"round\" style=\"fill:none;stroke:#000000;stroke-width:10.80\"/>\n\t<path d=\" M442.65 1665.48 L3754.57 1671.05\" stroke-linejoin=\"round\" style=\"fill:none;stroke:#C0C0C0;stroke-width:10.80\"/>\n\t<path d=\" M442.65 2169.78 L3754.57 2598.34\" stroke-linejoin=\"round\" style=\"fill:none;stroke:#202020;stroke-width:10.80\"/>\n\t<path d=\" M442.65 2515.79 L3754.57 2711.82\" stroke-linejoin=\"round\" style=\"fill:none;stroke:#707070;stroke-width:10.80\"/>\n\t<path d=\" M442.65 1003.15 L3754.57 919.86\" stroke-linejoin=\"round\" style=\"fill:none;stroke:#909090;stroke-width:10.80\"/>\n\t<path d=\" M442.65 1824.75 L3754.57 1666.59\" stroke-linejoin=\"round\" style=\"fill:none;stroke:#B0B0B0;stroke-width:10.80\"/>\n\t<path d=\" M442.65 914.66 L3754.57 1251.28\" stroke-linejoin=\"round\" style=\"fill:none;stroke:#D0D0D0;stroke-width:10.80\"/>\n\t<path d=\" M442.65 1300.90 L3754.57 1440.37\" stroke-linejoin=\"round\" style=\"fill:none;stroke:#505050;stroke-width:10.80\"/>\n\t<path d=\" M442.65 818.63 L3754.57 818.63\" stroke-linejoin=\"round\" style=\"fill:none;stroke:#303030;stroke-width:10.80\"/>\n\t<path d=\" M442.65 695.00 L3754.57 555.90\" stroke-linejoin=\"round\" style=\"fill:none;stroke:#C0C0C0;stroke-width:10.80\"/>\n\t<path d=\" M442.65 2338.82 L3754.57 2618.88\" stroke-linejoin=\"round\" style=\"fill:none;stroke:#505050;stroke-width:10.80\"/>\n\t<path d=\" M442.65 2353.55 L3754.57 2502.92\" stroke-linejoin=\"round\" style=\"fill:none;stroke:#606060;stroke-width:10.80\"/>\n\t<path d=\" M442.65 1559.79 L3754.57 1378.12\" stroke-linejoin=\"round\" style=\"fill:none;stroke:#A0A0A0;stroke-width:10.80\"/>\n\t<path d=\" M442.65 1325.03 L3754.57 1949.00\" stroke-linejoin=\"round\" style=\"fill:none;stroke:#808080;stroke-width:10.80\"/>\n\t<path d=\" M442.65 2400.58 L3754.57 2501.68\" stroke-linejoin=\"round\" style=\"fill:none;stroke:#404040;stroke-width:10.80\"/>\n\t<path d=\" M442.65 330.67 L3754.57 402.70\" stroke-linejoin=\"round\" style=\"fill:none;stroke:#000000;stroke-width:10.80\"/>\n\t<path d=\" M442.65 2079.56 L3754.57 1818.69\" stroke-linejoin=\"round\" style=\"fill:none;stroke:#C0C0C0;stroke-width:10.80\"/>\n\t<path d=\" M442.65 2003.95 L3754.57 2030.18\" stroke-linejoin=\"round\" style=\"fill:none;stroke:#202020;stroke-width:10.80\"/>\n\t<path d=\" M442.65 3030.11 L3754.57 3031.10\" stroke-linejoin=\"round\" style=\"fill:none;stroke:#707070;stroke-width:10.80\"/>\n\t<path d=\" M442.65 1796.53 L3754.57 1807.30\" stroke-linejoin=\"round\" style=\"fill:none;stroke:#909090;stroke-width:10.80\"/>\n\t<path d=\" M442.65 2415.43 L3754.57 2282.89\" stroke-linejoin=\"round\" style=\"fill:none;stroke:#B0B0B0;stroke-width:10.80\"/>\n\t<path d=\" M442.65 1837.74 L3754.57 1519.33\" stroke-linejoin=\"round\" style=\"fill:none;stroke:#D0D0D0;stroke-width:10.80\"/>\n\t<path d=\" M442.65 1634.66 L3754.57 1549.52\" stroke-linejoin=\"round\" style=\"fill:none;stroke:#505050;stroke-width:10.80\"/>\n\t<path d=\" M442.65 2958.09 L3754.57 2870.47\" stroke-linejoin=\"round\" style=\"fill:none;stroke:#303030;stroke-width:10.80\"/>\n\t<path d=\" M442.65 2499.09 L3754.57 1581.45\" stroke-linejoin=\"round\" style=\"fill:none;stroke:#C0C0C0;stroke-width:10.80\"/>\n\t<path d=\" M442.65 2599.57 L3754.57 2531.88\" stroke-linejoin=\"round\" style=\"fill:none;stroke:#505050;stroke-width:10.80\"/>\n\t<path d=\" M442.65 349.11 L3754.57 205.31\" stroke-linejoin=\"round\" style=\"fill:none;stroke:#606060;stroke-width:10.80\"/>\n\t<path d=\" M442.65 2536.95 L3754.57 1707.93\" stroke-linejoin=\"round\" style=\"fill:none;stroke:#A0A0A0;stroke-width:10.80\"/>\n\t<path d=\" M442.65 2965.76 L3754.57 2965.39\" stroke-linejoin=\"round\" style=\"fill:none;stroke:#808080;stroke-width:10.80\"/>\n\t<path d=\" M442.65 2090.45 L3754.57 2121.14\" stroke-linejoin=\"round\" style=\"fill:none;stroke:#404040;stroke-width:10.80\"/>\n\t<path d=\" M442.65 1779.58 L3754.57 2480.40\" stroke-linejoin=\"round\" style=\"fill:none;stroke:#000000;stroke-width:10.80\"/>\n\t<path d=\" M442.65 2551.31 L3754.57 2965.64\" stroke-linejoin=\"round\" style=\"fill:none;stroke:#C0C0C0;stroke-width:10.80\"/>\n\t<path d=\" M442.65 476.33 L3754.57 1161.18\" stroke-linejoin=\"round\" style=\"fill:none;stroke:#202020;stroke-width:10.80\"/>\n\t<path d=\" M442.65 2713.30 L3754.57 2672.84\" stroke-linejoin=\"round\" style=\"fill:none;stroke:#707070;stroke-width:10.80\"/>\n\t<path d=\" M442.65 2542.77 L3754.57 1497.17\" stroke-linejoin=\"round\" style=\"fill:none;stroke:#909090;stroke-width:10.80\"/>\n\t<path d=\" M442.65 2666.40 L3754.57 1954.57\" stroke-linejoin=\"round\" style=\"fill:none;stroke:#B0B0B0;stroke-width:10.80\"/>\n\t<path d=\" M442.65 2865.52 L3754.57 2863.79\" stroke-linejoin=\"round\" style=\"fill:none;stroke:#D0D0D0;stroke-width:10.80\"/>\n\t<path d=\" M442.65 325.10 L3754.57 212.49\" stroke-linejoin=\"round\" style=\"fill:none;stroke:#505050;stroke-width:10.80\"/>\n\t<path d=\" M442.65 1023.69 L3754.57 1145.59\" stroke-linejoin=\"round\" style=\"fill:none;stroke:#303030;stroke-width:10.80\"/>\n\t<path d=\" M442.65 2926.53 L3754.57 2638.43\" stroke-linejoin=\"round\" style=\"fill:none;stroke:#C0C0C0;stroke-width:10.80\"/>\n\t<path d=\" M442.65 2429.54 L3754.57 2522.48\" stroke-linejoin=\"round\" style=\"fill:none;stroke:#505050;stroke-width:10.80\"/>\n\t<path d=\" M442.65 1907.29 L3754.57 1468.96\" stroke-linejoin=\"round\" style=\"fill:none;stroke:#606060;stroke-width:10.80\"/>\n\t<path d=\" M442.65 690.79 L3754.57 568.03\" stroke-linejoin=\"round\" style=\"fill:none;stroke:#A0A0A0;stroke-width:10.80\"/>\n\t<path d=\" M442.65 867.14 L3754.57 808.48\" stroke-linejoin=\"round\" style=\"fill:none;stroke:#808080;stroke-width:10.80\"/>\n\t<path d=\" M442.65 1247.56 L3754.57 1406.83\" stroke-linejoin=\"round\" style=\"fill:none;stroke:#404040;stroke-width:10.80\"/>\n\t<path d=\" M442.65 2709.34 L3754.57 2665.41\" stroke-linejoin=\"round\" style=\"fill:none;stroke:#000000;stroke-width:10.80\"/>\n\t<path d=\" M442.65 1559.30 L3754.57 1480.59\" stroke-linejoin=\"round\" style=\"fill:none;stroke:#C0C0C0;stroke-width:10.80\"/>\n\t<path d=\" M442.65 1460.67 L3754.57 1797.77\" stroke-linejoin=\"round\" style=\"fill:none;stroke:#202020;stroke-width:10.80\"/>\n\t<path d=\" M442.65 2250.84 L3754.57 2247.49\" stroke-linejoin=\"round\" style=\"fill:none;stroke:#707070;stroke-width:10.80\"/>\n\t<path d=\" M442.65 1750.25 L3754.57 2020.16\" stroke-linejoin=\"round\" style=\"fill:none;stroke:#909090;stroke-width:10.80\"/>\n\t<path d=\" M442.65 2538.07 L3754.57 2075.23\" stroke-linejoin=\"round\" style=\"fill:none;stroke:#B0B0B0;stroke-width:10.80\"/>\n\t<path d=\" M442.65 1953.08 L3754.57 2354.79\" stroke-linejoin=\"round\" style=\"fill:none;stroke:#D0D0D0;stroke-width:10.80\"/>\n\t<line x1=\"363.45\" y1=\"3111.54\" x2=\"363.45\" y2=\"125.98\" style=\"stroke:#000000;stroke-width:7.20\"/>\n\t<line x1=\"363.45\" y1=\"3032.34\" x2=\"313.46\" y2=\"3032.34\" style=\"stroke:#000000;stroke-width:7.20\"/>\n\t<text x=\"250.90\" y=\"3032.34\" style=\"font-family:'Helvetica';font-size:124.99px;fill:#000000\" transform=\"rotate(-90 250.90,3032.34)\" text-anchor=\"middle\">0</text>\n\t<line x1=\"363.45\" y1=\"2334.25\" x2=\"313.46\" y2=\"2334.25\" style=\"stroke:#000000;stroke-width:7.20\"/>\n\t<text x=\"250.90\" y=\"2334.25\" style=\"font-family:'Helvetica';font-size:124.99px;fill:#000000\" transform=\"rotate(-90 250.90,2334.25)\" text-anchor=\"middle\">20</text>\n\t<line x1=\"363.45\" y1=\"1636.27\" x2=\"313.46\" y2=\"1636.27\" style=\"stroke:#000000;stroke-width:7.20\"/>\n\t<text x=\"250.90\" y=\"1636.27\" style=\"font-family:'Helvetica';font-size:124.99px;fill:#000000\" transform=\"rotate(-90 250.90,1636.27)\" text-anchor=\"middle\">40</text>\n\t<line x1=\"363.45\" y1=\"938.18\" x2=\"313.46\" y2=\"938.18\" style=\"stroke:#000000;stroke-width:7.20\"/>\n\t<text x=\"250.90\" y=\"938.18\" style=\"font-family:'Helvetica';font-size:124.99px;fill:#000000\" transform=\"rotate(-90 250.90,938.18)\" text-anchor=\"middle\">60</text>\n\t<line x1=\"363.45\" y1=\"240.08\" x2=\"313.46\" y2=\"240.08\" style=\"stroke:#000000;stroke-width:7.20\"/>\n\t<text x=\"250.90\" y=\"240.08\" style=\"font-family:'Helvetica';font-size:124.99px;fill:#000000\" transform=\"rotate(-90 250.90,240.08)\" text-anchor=\"middle\">80</text>\n\t<line x1=\"363.45\" y1=\"3111.54\" x2=\"3833.90\" y2=\"3111.54\" style=\"stroke:#000000;stroke-width:7.20\"/>\n\t<line x1=\"442.65\" y1=\"3111.54\" x2=\"442.65\" y2=\"3161.54\" style=\"stroke:#000000;stroke-width:7.20\"/>\n\t<text x=\"442.65\" y=\"3273.97\" style=\"font-family:'Helvetica';font-size:124.99px;fill:#000000\" text-anchor=\"middle\">2008</text>\n\t<line x1=\"3754.70\" y1=\"3111.54\" x2=\"3754.70\" y2=\"3161.54\" style=\"stroke:#000000;stroke-width:7.20\"/>\n\t<text x=\"3754.70\" y=\"3273.97\" style=\"font-family:'Helvetica';font-size:124.99px;fill:#000000\" text-anchor=\"middle\">2018</text>\n\t<text x=\"2098.68\" y=\"3411.46\" style=\"font-family:'Helvetica';font-size:124.99px;fill:#000000\" text-anchor=\"middle\">year</text>\n</svg>\n",
      "application/pdf": "[encoded data removed]"
     },
     "metadata": {
      "text/html": {
       "width": 600,
       "height": 545
      },
      "image/svg+xml": {
       "width": 600,
       "height": 545
      }
     }
    },
    {
     "output_type": "stream",
     "name": "stdout",
     "text": [
      ".     global stata_kernel_graph_counter = $stata_kernel_graph_counter + 1\n",
      ". }            \n",
      "\n",
      ". qui restore\n"
     ]
    }
   ],
   "source": [
    "qui {\n",
    "preserve\n",
    "    separate tech_exp, by(country) veryshortlabel \n",
    "    sort year\n",
    "    }\n",
    "    line tech_exp* year, xlabel(2008 2018) ysize(5) leg(off)\n",
    "qui restore"
   ]
  },
  {
   "source": [
    "    broadband |   .0093601   .0045492     2.06   0.044     .0002663    .0184539"
   ],
   "cell_type": "markdown",
   "metadata": {}
  }
 ]
}