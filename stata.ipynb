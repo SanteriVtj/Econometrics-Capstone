{
 "metadata": {
  "language_info": {
   "codemirror_mode": {
    "name": "ipython",
    "version": 3
   },
   "file_extension": ".py",
   "mimetype": "text/x-python",
   "name": "python",
   "nbconvert_exporter": "python",
   "pygments_lexer": "ipython3",
   "version": 3
  },
  "orig_nbformat": 2,
  "kernelspec": {
   "name": "stata",
   "display_name": "Stata",
   "language": "stata"
  }
 },
 "nbformat": 4,
 "nbformat_minor": 2,
 "cells": [
  {
   "cell_type": "code",
   "execution_count": 1,
   "metadata": {},
   "outputs": [
    {
     "output_type": "stream",
     "name": "stdout",
     "text": [
      "(92 vars, 132 obs)\n"
     ]
    }
   ],
   "source": [
    "import delimited \"/Users/santerivaataja/Desktop/Taloustieteen_kursseja/Econometrics/Capstone.nosync/Econometrics-Capstone/raw_data/small_master_c.csv\", clear"
   ]
  },
  {
   "cell_type": "code",
   "execution_count": 2,
   "metadata": {},
   "outputs": [],
   "source": [
    "set scheme s1mono"
   ]
  },
  {
   "source": [
    "qui {\n",
    "    gen ln_gdp = ln(gdp)\n",
    "    \n",
    "    xtset countrycode year\n",
    "    egen civilsocietytraditions_mean = mean(civilsocietytraditions)\n",
    "    gen civilsocietytraditions_c = civilsocietytraditions - civilsocietytraditions_mean\n",
    "    sort country year\n",
    "    bysort country: gen changeindemocracy = democracy[2] - democracy[1]\n",
    "}"
   ],
   "cell_type": "code",
   "metadata": {},
   "execution_count": 3,
   "outputs": []
  },
  {
   "cell_type": "code",
   "execution_count": 4,
   "metadata": {},
   "outputs": [
    {
     "output_type": "stream",
     "name": "stdout",
     "text": [
      "(bin=3, start=-1, width=.66666667)\n"
     ]
    },
    {
     "output_type": "display_data",
     "data": {
      "text/plain": "This front-end cannot display the desired image type.",
      "text/html": "                <iframe frameborder=\"0\" scrolling=\"no\" height=\"436\" width=\"600\"                srcdoc=\"<html><body>&lt;?xml version=&quot;1.0&quot; encoding=&quot;UTF-8&quot; standalone=&quot;no&quot;?&gt;\n&lt;!-- This is a Stata 16.1 generated SVG file (http://www.stata.com) --&gt;\n\n&lt;svg version=&quot;1.1&quot; width=&quot;600px&quot; height=&quot;436px&quot; viewBox=&quot;0 0 3960 2880&quot; xmlns=&quot;http://www.w3.org/2000/svg&quot; xmlns:xlink=&quot;http://www.w3.org/1999/xlink&quot;&gt;\n\t&lt;desc&gt;Stata Graph - Graph&lt;/desc&gt;\n\t&lt;rect x=&quot;0&quot; y=&quot;0&quot; width=&quot;3960&quot; height=&quot;2880&quot; style=&quot;fill:#FFFFFF;stroke:none&quot;/&gt;\n\t&lt;rect x=&quot;0.00&quot; y=&quot;0.00&quot; width=&quot;3959.88&quot; height=&quot;2880.00&quot; style=&quot;fill:#FFFFFF&quot;/&gt;\n\t&lt;rect x=&quot;2.88&quot; y=&quot;2.88&quot; width=&quot;3954.12&quot; height=&quot;2874.24&quot; style=&quot;fill:none;stroke:#FFFFFF;stroke-width:5.76&quot;/&gt;\n\t&lt;rect x=&quot;393.68&quot; y=&quot;103.74&quot; width=&quot;3462.46&quot; height=&quot;2382.57&quot; style=&quot;fill:none;stroke:#000000;stroke-width:5.76&quot;/&gt;\n\t&lt;rect x=&quot;931.47&quot; y=&quot;2313.08&quot; width=&quot;954.73&quot; height=&quot;176.10&quot; style=&quot;fill:#808080&quot;/&gt;\n\t&lt;rect x=&quot;935.79&quot; y=&quot;2317.40&quot; width=&quot;946.09&quot; height=&quot;167.46&quot; style=&quot;fill:none;stroke:#000000;stroke-width:8.64&quot;/&gt;\n\t&lt;rect x=&quot;1886.20&quot; y=&quot;375.47&quot; width=&quot;954.73&quot; height=&quot;2113.72&quot; style=&quot;fill:#808080&quot;/&gt;\n\t&lt;rect x=&quot;1890.52&quot; y=&quot;379.79&quot; width=&quot;946.09&quot; height=&quot;2105.08&quot; style=&quot;fill:none;stroke:#000000;stroke-width:8.64&quot;/&gt;\n\t&lt;rect x=&quot;2840.93&quot; y=&quot;2454.04&quot; width=&quot;954.73&quot; height=&quot;35.15&quot; style=&quot;fill:#808080&quot;/&gt;\n\t&lt;rect x=&quot;2845.25&quot; y=&quot;2458.36&quot; width=&quot;946.09&quot; height=&quot;26.51&quot; style=&quot;fill:none;stroke:#000000;stroke-width:8.64&quot;/&gt;\n\t&lt;line x1=&quot;390.80&quot; y1=&quot;2489.19&quot; x2=&quot;390.80&quot; y2=&quot;100.86&quot; style=&quot;stroke:#000000;stroke-width:5.76&quot;/&gt;\n\t&lt;line x1=&quot;390.80&quot; y1=&quot;2489.19&quot; x2=&quot;350.83&quot; y2=&quot;2489.19&quot; style=&quot;stroke:#000000;stroke-width:5.76&quot;/&gt;\n\t&lt;text x=&quot;300.72&quot; y=&quot;2489.19&quot; style=&quot;font-family:&#x27;Helvetica&#x27;;font-size:99.99px;fill:#000000&quot; transform=&quot;rotate(-90 300.72,2489.19)&quot; text-anchor=&quot;middle&quot;&gt;0&lt;/text&gt;\n\t&lt;line x1=&quot;390.80&quot; y1=&quot;1714.24&quot; x2=&quot;350.83&quot; y2=&quot;1714.24&quot; style=&quot;stroke:#000000;stroke-width:5.76&quot;/&gt;\n\t&lt;text x=&quot;300.72&quot; y=&quot;1714.24&quot; style=&quot;font-family:&#x27;Helvetica&#x27;;font-size:99.99px;fill:#000000&quot; transform=&quot;rotate(-90 300.72,1714.24)&quot; text-anchor=&quot;middle&quot;&gt;.5&lt;/text&gt;\n\t&lt;line x1=&quot;390.80&quot; y1=&quot;939.17&quot; x2=&quot;350.83&quot; y2=&quot;939.17&quot; style=&quot;stroke:#000000;stroke-width:5.76&quot;/&gt;\n\t&lt;text x=&quot;300.72&quot; y=&quot;939.17&quot; style=&quot;font-family:&#x27;Helvetica&#x27;;font-size:99.99px;fill:#000000&quot; transform=&quot;rotate(-90 300.72,939.17)&quot; text-anchor=&quot;middle&quot;&gt;1&lt;/text&gt;\n\t&lt;line x1=&quot;390.80&quot; y1=&quot;164.22&quot; x2=&quot;350.83&quot; y2=&quot;164.22&quot; style=&quot;stroke:#000000;stroke-width:5.76&quot;/&gt;\n\t&lt;text x=&quot;300.72&quot; y=&quot;164.22&quot; style=&quot;font-family:&#x27;Helvetica&#x27;;font-size:99.99px;fill:#000000&quot; transform=&quot;rotate(-90 300.72,164.22)&quot; text-anchor=&quot;middle&quot;&gt;1.5&lt;/text&gt;\n\t&lt;text x=&quot;190.71&quot; y=&quot;1294.96&quot; style=&quot;font-family:&#x27;Helvetica&#x27;;font-size:99.99px;fill:#000000&quot; transform=&quot;rotate(-90 190.71,1294.96)&quot; text-anchor=&quot;middle&quot;&gt;Density&lt;/text&gt;\n\t&lt;line x1=&quot;390.80&quot; y1=&quot;2489.19&quot; x2=&quot;3859.02&quot; y2=&quot;2489.19&quot; style=&quot;stroke:#000000;stroke-width:5.76&quot;/&gt;\n\t&lt;line x1=&quot;931.47&quot; y1=&quot;2489.19&quot; x2=&quot;931.47&quot; y2=&quot;2529.16&quot; style=&quot;stroke:#000000;stroke-width:5.76&quot;/&gt;\n\t&lt;text x=&quot;931.47&quot; y=&quot;2619.14&quot; style=&quot;font-family:&#x27;Helvetica&#x27;;font-size:99.99px;fill:#000000&quot; text-anchor=&quot;middle&quot;&gt;-1&lt;/text&gt;\n\t&lt;line x1=&quot;1647.61&quot; y1=&quot;2489.19&quot; x2=&quot;1647.61&quot; y2=&quot;2529.16&quot; style=&quot;stroke:#000000;stroke-width:5.76&quot;/&gt;\n\t&lt;text x=&quot;1647.61&quot; y=&quot;2619.14&quot; style=&quot;font-family:&#x27;Helvetica&#x27;;font-size:99.99px;fill:#000000&quot; text-anchor=&quot;middle&quot;&gt;-.5&lt;/text&gt;\n\t&lt;line x1=&quot;2363.62&quot; y1=&quot;2489.19&quot; x2=&quot;2363.62&quot; y2=&quot;2529.16&quot; style=&quot;stroke:#000000;stroke-width:5.76&quot;/&gt;\n\t&lt;text x=&quot;2363.62&quot; y=&quot;2619.14&quot; style=&quot;font-family:&#x27;Helvetica&#x27;;font-size:99.99px;fill:#000000&quot; text-anchor=&quot;middle&quot;&gt;0&lt;/text&gt;\n\t&lt;line x1=&quot;3079.64&quot; y1=&quot;2489.19&quot; x2=&quot;3079.64&quot; y2=&quot;2529.16&quot; style=&quot;stroke:#000000;stroke-width:5.76&quot;/&gt;\n\t&lt;text x=&quot;3079.64&quot; y=&quot;2619.14&quot; style=&quot;font-family:&#x27;Helvetica&#x27;;font-size:99.99px;fill:#000000&quot; text-anchor=&quot;middle&quot;&gt;.5&lt;/text&gt;\n\t&lt;line x1=&quot;3795.66&quot; y1=&quot;2489.19&quot; x2=&quot;3795.66&quot; y2=&quot;2529.16&quot; style=&quot;stroke:#000000;stroke-width:5.76&quot;/&gt;\n\t&lt;text x=&quot;3795.66&quot; y=&quot;2619.14&quot; style=&quot;font-family:&#x27;Helvetica&#x27;;font-size:99.99px;fill:#000000&quot; text-anchor=&quot;middle&quot;&gt;1&lt;/text&gt;\n\t&lt;text x=&quot;2124.91&quot; y=&quot;2729.16&quot; style=&quot;font-family:&#x27;Helvetica&#x27;;font-size:99.99px;fill:#000000&quot; text-anchor=&quot;middle&quot;&gt;Change in democracy&lt;/text&gt;\n&lt;/svg&gt;\n</body></html>\"></iframe>\n",
      "image/svg+xml": "<?xml version=\"1.0\" encoding=\"UTF-8\" standalone=\"no\"?>\n<!-- This is a Stata 16.1 generated SVG file (http://www.stata.com) -->\n\n<svg version=\"1.1\" width=\"600px\" height=\"436px\" viewBox=\"0 0 3960 2880\" xmlns=\"http://www.w3.org/2000/svg\" xmlns:xlink=\"http://www.w3.org/1999/xlink\">\n\t<desc>Stata Graph - Graph</desc>\n\t<rect x=\"0\" y=\"0\" width=\"3960\" height=\"2880\" style=\"fill:#FFFFFF;stroke:none\"/>\n\t<rect x=\"0.00\" y=\"0.00\" width=\"3959.88\" height=\"2880.00\" style=\"fill:#FFFFFF\"/>\n\t<rect x=\"2.88\" y=\"2.88\" width=\"3954.12\" height=\"2874.24\" style=\"fill:none;stroke:#FFFFFF;stroke-width:5.76\"/>\n\t<rect x=\"393.68\" y=\"103.74\" width=\"3462.46\" height=\"2382.57\" style=\"fill:none;stroke:#000000;stroke-width:5.76\"/>\n\t<rect x=\"931.47\" y=\"2313.08\" width=\"954.73\" height=\"176.10\" style=\"fill:#808080\"/>\n\t<rect x=\"935.79\" y=\"2317.40\" width=\"946.09\" height=\"167.46\" style=\"fill:none;stroke:#000000;stroke-width:8.64\"/>\n\t<rect x=\"1886.20\" y=\"375.47\" width=\"954.73\" height=\"2113.72\" style=\"fill:#808080\"/>\n\t<rect x=\"1890.52\" y=\"379.79\" width=\"946.09\" height=\"2105.08\" style=\"fill:none;stroke:#000000;stroke-width:8.64\"/>\n\t<rect x=\"2840.93\" y=\"2454.04\" width=\"954.73\" height=\"35.15\" style=\"fill:#808080\"/>\n\t<rect x=\"2845.25\" y=\"2458.36\" width=\"946.09\" height=\"26.51\" style=\"fill:none;stroke:#000000;stroke-width:8.64\"/>\n\t<line x1=\"390.80\" y1=\"2489.19\" x2=\"390.80\" y2=\"100.86\" style=\"stroke:#000000;stroke-width:5.76\"/>\n\t<line x1=\"390.80\" y1=\"2489.19\" x2=\"350.83\" y2=\"2489.19\" style=\"stroke:#000000;stroke-width:5.76\"/>\n\t<text x=\"300.72\" y=\"2489.19\" style=\"font-family:'Helvetica';font-size:99.99px;fill:#000000\" transform=\"rotate(-90 300.72,2489.19)\" text-anchor=\"middle\">0</text>\n\t<line x1=\"390.80\" y1=\"1714.24\" x2=\"350.83\" y2=\"1714.24\" style=\"stroke:#000000;stroke-width:5.76\"/>\n\t<text x=\"300.72\" y=\"1714.24\" style=\"font-family:'Helvetica';font-size:99.99px;fill:#000000\" transform=\"rotate(-90 300.72,1714.24)\" text-anchor=\"middle\">.5</text>\n\t<line x1=\"390.80\" y1=\"939.17\" x2=\"350.83\" y2=\"939.17\" style=\"stroke:#000000;stroke-width:5.76\"/>\n\t<text x=\"300.72\" y=\"939.17\" style=\"font-family:'Helvetica';font-size:99.99px;fill:#000000\" transform=\"rotate(-90 300.72,939.17)\" text-anchor=\"middle\">1</text>\n\t<line x1=\"390.80\" y1=\"164.22\" x2=\"350.83\" y2=\"164.22\" style=\"stroke:#000000;stroke-width:5.76\"/>\n\t<text x=\"300.72\" y=\"164.22\" style=\"font-family:'Helvetica';font-size:99.99px;fill:#000000\" transform=\"rotate(-90 300.72,164.22)\" text-anchor=\"middle\">1.5</text>\n\t<text x=\"190.71\" y=\"1294.96\" style=\"font-family:'Helvetica';font-size:99.99px;fill:#000000\" transform=\"rotate(-90 190.71,1294.96)\" text-anchor=\"middle\">Density</text>\n\t<line x1=\"390.80\" y1=\"2489.19\" x2=\"3859.02\" y2=\"2489.19\" style=\"stroke:#000000;stroke-width:5.76\"/>\n\t<line x1=\"931.47\" y1=\"2489.19\" x2=\"931.47\" y2=\"2529.16\" style=\"stroke:#000000;stroke-width:5.76\"/>\n\t<text x=\"931.47\" y=\"2619.14\" style=\"font-family:'Helvetica';font-size:99.99px;fill:#000000\" text-anchor=\"middle\">-1</text>\n\t<line x1=\"1647.61\" y1=\"2489.19\" x2=\"1647.61\" y2=\"2529.16\" style=\"stroke:#000000;stroke-width:5.76\"/>\n\t<text x=\"1647.61\" y=\"2619.14\" style=\"font-family:'Helvetica';font-size:99.99px;fill:#000000\" text-anchor=\"middle\">-.5</text>\n\t<line x1=\"2363.62\" y1=\"2489.19\" x2=\"2363.62\" y2=\"2529.16\" style=\"stroke:#000000;stroke-width:5.76\"/>\n\t<text x=\"2363.62\" y=\"2619.14\" style=\"font-family:'Helvetica';font-size:99.99px;fill:#000000\" text-anchor=\"middle\">0</text>\n\t<line x1=\"3079.64\" y1=\"2489.19\" x2=\"3079.64\" y2=\"2529.16\" style=\"stroke:#000000;stroke-width:5.76\"/>\n\t<text x=\"3079.64\" y=\"2619.14\" style=\"font-family:'Helvetica';font-size:99.99px;fill:#000000\" text-anchor=\"middle\">.5</text>\n\t<line x1=\"3795.66\" y1=\"2489.19\" x2=\"3795.66\" y2=\"2529.16\" style=\"stroke:#000000;stroke-width:5.76\"/>\n\t<text x=\"3795.66\" y=\"2619.14\" style=\"font-family:'Helvetica';font-size:99.99px;fill:#000000\" text-anchor=\"middle\">1</text>\n\t<text x=\"2124.91\" y=\"2729.16\" style=\"font-family:'Helvetica';font-size:99.99px;fill:#000000\" text-anchor=\"middle\">Change in democracy</text>\n</svg>\n",
      "application/pdf": "[encoded data removed]"
     },
     "metadata": {
      "text/html": {
       "width": 600,
       "height": 436
      },
      "image/svg+xml": {
       "width": 600,
       "height": 436
      }
     }
    },
    {
     "output_type": "stream",
     "name": "stdout",
     "text": [
      "\n"
     ]
    }
   ],
   "source": [
    "hist changeindemocracy, bin(3) xtitle(\"Change in democracy\")"
   ]
  },
  {
   "cell_type": "code",
   "execution_count": 5,
   "metadata": {},
   "outputs": [
    {
     "output_type": "stream",
     "name": "stdout",
     "text": [
      "(file saved_outputs/changeindemocracy.pdf written in PDF format)\n"
     ]
    }
   ],
   "source": [
    "graph export \"saved_outputs/changeindemocracy.pdf\", replace"
   ]
  },
  {
   "cell_type": "code",
   "execution_count": 17,
   "metadata": {},
   "outputs": [
    {
     "output_type": "stream",
     "name": "stdout",
     "text": [
      "\n",
      "\n",
      "Fixed-effects (within) regression               Number of obs      =       132\n",
      "Group variable: countrycode                     Number of groups   =        66\n",
      "\n",
      "R-sq:  within  = 0.0560                         Obs per group: min =         2\n",
      "       between = 0.2040                                        avg =       2.0\n",
      "       overall = 0.1944                                        max =         2\n",
      "\n",
      "                                                F(2,5)             =      7.50\n",
      "corr(u_i, Xb)  = 0.2893                         Prob > F           =    0.0313\n",
      "\n",
      "                            (Std. Err. adjusted for 6 clusters in continentcat)\n",
      "-------------------------------------------------------------------------------\n",
      "              |               Robust\n",
      "       ln_gdp |      Coef.   Std. Err.      t    P>|t|     [95% Conf. Interval]\n",
      "--------------+----------------------------------------------------------------\n",
      "    democracy |   -.119442    .076598    -1.56   0.180    -.3163433    .0774593\n",
      "civilsociet~s |  -.1151412   .0357639    -3.22   0.023    -.2070753   -.0232071\n",
      "        _cons |   8.900244   .1872798    47.52   0.000     8.418826    9.381662\n",
      "--------------+----------------------------------------------------------------\n",
      "      sigma_u |  1.0876309\n",
      "      sigma_e |  .29964034\n",
      "          rho |  .92945505   (fraction of variance due to u_i)\n",
      "-------------------------------------------------------------------------------\n",
      "(est1 stored)\n",
      "\n",
      "\n",
      "Fixed-effects (within) regression               Number of obs      =       132\n",
      "Group variable: countrycode                     Number of groups   =        66\n",
      "\n",
      "R-sq:  within  = 0.4101                         Obs per group: min =         2\n",
      "       between = 0.6637                                        avg =       2.0\n",
      "       overall = 0.6530                                        max =         2\n",
      "\n",
      "                                                F(4,5)             =      8.38\n",
      "corr(u_i, Xb)  = 0.3733                         Prob > F           =    0.0193\n",
      "\n",
      "                            (Std. Err. adjusted for 6 clusters in continentcat)\n",
      "-------------------------------------------------------------------------------\n",
      "              |               Robust\n",
      "       ln_gdp |      Coef.   Std. Err.      t    P>|t|     [95% Conf. Interval]\n",
      "--------------+----------------------------------------------------------------\n",
      "    democracy |  -.0527787   .0488247    -1.08   0.329    -.1782866    .0727293\n",
      "civilsociet~s |  -.0964994   .0335873    -2.87   0.035    -.1828383   -.0101606\n",
      "          rol |   .4338978    .099358     4.37   0.007     .1784898    .6893057\n",
      "life_expect~y |   .0433557   .0107689     4.03   0.010     .0156735     .071038\n",
      "        _cons |   5.879036   .8014622     7.34   0.001     3.818812     7.93926\n",
      "--------------+----------------------------------------------------------------\n",
      "      sigma_u |   .7297459\n",
      "      sigma_e |  .24065666\n",
      "          rho |  .90191185   (fraction of variance due to u_i)\n",
      "-------------------------------------------------------------------------------\n",
      "(est2 stored)\n",
      "\n",
      "\n",
      "Fixed-effects (within) regression               Number of obs      =       132\n",
      "Group variable: countrycode                     Number of groups   =        66\n",
      "\n",
      "R-sq:  within  = 0.2911                         Obs per group: min =         2\n",
      "       between = 0.4027                                        avg =       2.0\n",
      "       overall = 0.3981                                        max =         2\n",
      "\n",
      "                                                F(3,5)             =         .\n",
      "corr(u_i, Xb)  = 0.1886                         Prob > F           =         .\n",
      "\n",
      "                            (Std. Err. adjusted for 6 clusters in continentcat)\n",
      "-------------------------------------------------------------------------------\n",
      "              |               Robust\n",
      "       ln_gdp |      Coef.   Std. Err.      t    P>|t|     [95% Conf. Interval]\n",
      "--------------+----------------------------------------------------------------\n",
      "    democracy |  -.1197395   .0236823    -5.06   0.004    -.1806169   -.0588621\n",
      "civilsociet~s |  -.1118423   .0289391    -3.86   0.012    -.1862328   -.0374519\n",
      "          rol |   .5790287   .0991256     5.84   0.002     .3242182    .8338392\n",
      "    broadband |   3.06e-09   1.24e-10    24.79   0.000     2.75e-09    3.38e-09\n",
      "        _cons |   9.039188   .1767372    51.14   0.000      8.58487    9.493505\n",
      "--------------+----------------------------------------------------------------\n",
      "      sigma_u |  .91628024\n",
      "      sigma_e |  .26382376\n",
      "          rho |  .92344359   (fraction of variance due to u_i)\n",
      "-------------------------------------------------------------------------------\n",
      "(est3 stored)\n",
      "\n",
      "\n",
      "Fixed-effects (within) regression               Number of obs     =        132\n",
      "Group variable: countrycode                     Number of groups  =         66\n",
      "\n",
      "R-sq:                                           Obs per group:\n",
      "     within  = 0.4169                                         min =          2\n",
      "     between = 0.6843                                         avg =        2.0\n",
      "     overall = 0.6608                                         max =          2\n",
      "\n",
      "                                                F(3,65)           =          .\n",
      "corr(u_i, Xb)  = 0.5796                         Prob > F          =          .\n",
      "\n",
      "                            (Std. Err. adjusted for 66 clusters in countrycode)\n",
      "-------------------------------------------------------------------------------\n",
      "              |               Robust\n",
      "       ln_gdp |      Coef.   Std. Err.      t    P>|t|     [95% Conf. Interval]\n",
      "--------------+----------------------------------------------------------------\n",
      "    democracy |  -.0387105   .1195944    -0.32   0.747     -.277557    .2001359\n",
      "civilsociet~s |  -.0994386   .0446069    -2.23   0.029    -.1885247   -.0103526\n",
      "    broadband |   2.96e-09   1.89e-10    15.60   0.000     2.58e-09    3.33e-09\n",
      "life_expect~y |   .0475224   .0124519     3.82   0.000     .0226542    .0723907\n",
      "        _cons |   5.452277   .9623516     5.67   0.000     3.530328    7.374226\n",
      "--------------+----------------------------------------------------------------\n",
      "      sigma_u |  .82115696\n",
      "      sigma_e |  .23927109\n",
      "          rho |  .92174055   (fraction of variance due to u_i)\n",
      "-------------------------------------------------------------------------------\n",
      "(est4 stored)\n",
      "\n",
      "\n",
      "Fixed-effects (within) regression               Number of obs      =       132\n",
      "Group variable: countrycode                     Number of groups   =        66\n",
      "\n",
      "R-sq:  within  = 0.4727                         Obs per group: min =         2\n",
      "       between = 0.6599                                        avg =       2.0\n",
      "       overall = 0.6506                                        max =         2\n",
      "\n",
      "                                                F(3,5)             =         .\n",
      "corr(u_i, Xb)  = 0.3841                         Prob > F           =         .\n",
      "\n",
      "                            (Std. Err. adjusted for 6 clusters in continentcat)\n",
      "-------------------------------------------------------------------------------\n",
      "              |               Robust\n",
      "       ln_gdp |      Coef.   Std. Err.      t    P>|t|     [95% Conf. Interval]\n",
      "--------------+----------------------------------------------------------------\n",
      "civilsociet~s |  -.0982881   .0310627    -3.16   0.025    -.1781374   -.0184388\n",
      "          rol |   .3953175    .075301     5.25   0.003     .2017501    .5888849\n",
      "    broadband |   2.73e-09   1.06e-10    25.89   0.000     2.46e-09    3.01e-09\n",
      "life_expect~y |   .0419871   .0090463     4.64   0.006     .0187329    .0652413\n",
      "        _cons |   5.923549   .6415147     9.23   0.000     4.274483    7.572615\n",
      "--------------+----------------------------------------------------------------\n",
      "      sigma_u |  .73819904\n",
      "      sigma_e |  .22754018\n",
      "          rho |  .91323368   (fraction of variance due to u_i)\n",
      "-------------------------------------------------------------------------------\n",
      "(est5 stored)\n",
      "\n",
      "\n",
      "Fixed-effects (within) regression               Number of obs     =        132\n",
      "Group variable: countrycode                     Number of groups  =         66\n",
      "\n",
      "R-sq:                                           Obs per group:\n",
      "     within  = 0.4740                                         min =          2\n",
      "     between = 0.6663                                         avg =        2.0\n",
      "     overall = 0.6565                                         max =          2\n",
      "\n",
      "                                                F(4,65)           =          .\n",
      "corr(u_i, Xb)  = 0.4032                         Prob > F          =          .\n",
      "\n",
      "                            (Std. Err. adjusted for 66 clusters in countrycode)\n",
      "-------------------------------------------------------------------------------\n",
      "              |               Robust\n",
      "       ln_gdp |      Coef.   Std. Err.      t    P>|t|     [95% Conf. Interval]\n",
      "--------------+----------------------------------------------------------------\n",
      "    democracy |  -.0516336   .0962732    -0.54   0.594    -.2439045    .1406372\n",
      "civilsociet~s |  -.0984079   .0412973    -2.38   0.020    -.1808843   -.0159315\n",
      "          rol |   .3975796   .1246875     3.19   0.002     .1485614    .6465978\n",
      "    broadband |   2.73e-09   1.99e-10    13.75   0.000     2.34e-09    3.13e-09\n",
      "life_expect~y |   .0415979   .0100917     4.12   0.000     .0214433    .0617524\n",
      "        _cons |   5.985507   .7770716     7.70   0.000     4.433588    7.537426\n",
      "--------------+----------------------------------------------------------------\n",
      "      sigma_u |  .73821151\n",
      "      sigma_e |  .22911531\n",
      "          rho |  .91213688   (fraction of variance due to u_i)\n",
      "-------------------------------------------------------------------------------\n",
      "(est6 stored)\n",
      "\n",
      "\n",
      "Fixed-effects (within) regression               Number of obs      =       132\n",
      "Group variable: countrycode                     Number of groups   =        66\n",
      "\n",
      "R-sq:  within  = 0.4740                         Obs per group: min =         2\n",
      "       between = 0.6663                                        avg =       2.0\n",
      "       overall = 0.6565                                        max =         2\n",
      "\n",
      "                                                F(4,5)             =         .\n",
      "corr(u_i, Xb)  = 0.4032                         Prob > F           =         .\n",
      "\n",
      "                            (Std. Err. adjusted for 6 clusters in continentcat)\n",
      "-------------------------------------------------------------------------------\n",
      "              |               Robust\n",
      "       ln_gdp |      Coef.   Std. Err.      t    P>|t|     [95% Conf. Interval]\n",
      "--------------+----------------------------------------------------------------\n",
      "    democracy |  -.0516336   .0550596    -0.94   0.391    -.1931689    .0899016\n",
      "civilsociet~s |  -.0984079   .0326017    -3.02   0.029    -.1822132   -.0146026\n",
      "          rol |   .3975796   .0741903     5.36   0.003     .2068675    .5882917\n",
      "    broadband |   2.73e-09   1.04e-10    26.20   0.000     2.46e-09    3.00e-09\n",
      "life_expect~y |   .0415979   .0090332     4.60   0.006     .0183772    .0648185\n",
      "        _cons |   5.985507   .6752296     8.86   0.000     4.249774     7.72124\n",
      "--------------+----------------------------------------------------------------\n",
      "      sigma_u |  .73821151\n",
      "      sigma_e |  .22911531\n",
      "          rho |  .91213688   (fraction of variance due to u_i)\n",
      "-------------------------------------------------------------------------------\n",
      "(est7 stored)\n"
     ]
    }
   ],
   "source": [
    "eststo: xtreg ln_gdp democracy civilsocietytraditions, fe vce(cluster continentcat)\n",
    "eststo: xtreg ln_gdp democracy civilsocietytraditions rol life_expectancy, fe vce(cluster continentcat)\n",
    "eststo: xtreg ln_gdp democracy civilsocietytraditions rol broadband, fe vce(cluster continentcat)\n",
    "eststo: xtreg ln_gdp democracy civilsocietytraditions broadband life_expectancy, fe r\n",
    "eststo: xtreg ln_gdp civilsocietytraditions rol broadband life_expectancy, fe vce(cluster continentcat)\n",
    "eststo: xtreg ln_gdp democracy civilsocietytraditions rol broadband life_expectancy, fe r\n",
    "eststo: xtreg ln_gdp democracy civilsocietytraditions rol broadband life_expectancy, fe vce(cluster continentcat)"
   ]
  },
  {
   "cell_type": "code",
   "execution_count": 18,
   "metadata": {},
   "outputs": [
    {
     "output_type": "stream",
     "name": "stdout",
     "text": [
      "\n",
      "(output written to saved_outputs/model.tex)\n",
      "\n"
     ]
    }
   ],
   "source": [
    "esttab using saved_outputs/model.tex, se ar2 replace\n",
    "est clear"
   ]
  },
  {
   "cell_type": "code",
   "execution_count": null,
   "metadata": {},
   "outputs": [],
   "source": []
  },
  {
   "cell_type": "code",
   "execution_count": 4,
   "metadata": {},
   "outputs": [
    {
     "output_type": "stream",
     "name": "stdout",
     "text": [
      "\n",
      "\n",
      "\n",
      "    Variable |       VIF       1/VIF  \n",
      "-------------+----------------------\n",
      "civilsocie~s |      1.29    0.776564\n",
      "   democracy |      1.29    0.776564\n",
      "-------------+----------------------\n",
      "    Mean VIF |      1.29\n"
     ]
    }
   ],
   "source": [
    "qui reg ln_gdp democracy civilsocietytraditions, r\n",
    "vif"
   ]
  },
  {
   "cell_type": "code",
   "execution_count": 5,
   "metadata": {},
   "outputs": [
    {
     "output_type": "stream",
     "name": "stdout",
     "text": [
      "\n",
      "\n",
      "\n",
      "    Variable |       VIF       1/VIF  \n",
      "-------------+----------------------\n",
      "   democracy |     10.12    0.098847\n",
      "civilsocie~s |     22.74    0.043983\n",
      "         rol |     31.04    0.032217\n",
      "life_expec~y |     12.78    0.078248\n",
      " countrycode |\n",
      "          7  |      2.89    0.346271\n",
      "          8  |      2.94    0.340324\n",
      "         12  |      2.36    0.423670\n",
      "         17  |      2.20    0.453846\n",
      "         20  |      3.69    0.271228\n",
      "         30  |      3.27    0.306010\n",
      "         33  |      3.13    0.319336\n",
      "         39  |      6.32    0.158147\n",
      "         40  |      3.23    0.309379\n",
      "         41  |      2.75    0.363978\n",
      "         46  |      4.88    0.204746\n",
      "         48  |      3.57    0.280070\n",
      "         49  |      2.36    0.423080\n",
      "         52  |      6.50    0.153859\n",
      "         56  |      2.71    0.369304\n",
      "         57  |      2.69    0.371911\n",
      "         59  |      2.66    0.375655\n",
      "         62  |      6.73    0.148507\n",
      "         69  |      3.30    0.303135\n",
      "         71  |      3.91    0.255545\n",
      "         83  |      5.62    0.178067\n",
      "         85  |      3.49    0.286500\n",
      "         86  |      2.78    0.359395\n",
      "         88  |      3.84    0.260685\n",
      "         95  |      2.28    0.439315\n",
      "         96  |      3.00    0.333210\n",
      "        103  |      5.20    0.192252\n",
      "        106  |      3.26    0.306326\n",
      "        109  |      5.22    0.191515\n",
      "        113  |      2.56    0.390533\n",
      "        114  |      3.85    0.259803\n",
      "        117  |      3.91    0.255548\n",
      "        120  |      2.99    0.334323\n",
      "        121  |      5.22    0.191529\n",
      "        122  |      2.66    0.376424\n",
      "        124  |      2.88    0.347282\n",
      "        126  |      3.16    0.316529\n",
      "        127  |      2.58    0.387694\n",
      "        129  |      3.27    0.305971\n",
      "        131  |      4.43    0.225498\n",
      "        136  |      2.19    0.457499\n",
      "        137  |      3.53    0.283134\n",
      "        138  |      4.12    0.242917\n",
      "        142  |      2.88    0.347010\n",
      "        144  |      2.96    0.337770\n",
      "        146  |      2.65    0.377343\n",
      "        147  |      2.67    0.375102\n",
      "        148  |      2.95    0.339399\n",
      "        149  |      5.29    0.189186\n",
      "        155  |      3.53    0.283111\n",
      "        159  |      3.23    0.309686\n",
      "        160  |      2.97    0.336222\n",
      "        163  |      7.18    0.139347\n",
      "        166  |      6.97    0.143548\n",
      "        169  |      4.17    0.239641\n",
      "        172  |      3.13    0.319960\n",
      "        176  |      2.54    0.394100\n",
      "        187  |      2.88    0.346668\n",
      "        191  |      2.50    0.399787\n",
      "        192  |      4.16    0.240477\n",
      "        196  |      2.78    0.360027\n",
      "        200  |      5.19    0.192822\n",
      "        202  |      2.64    0.379361\n",
      "        207  |      3.28    0.304641\n",
      "        208  |      3.47    0.288372\n",
      "-------------+----------------------\n",
      "    Mean VIF |      4.50\n"
     ]
    }
   ],
   "source": [
    "qui reg ln_gdp democracy civilsocietytraditions rol life_expectancy i.countrycode, r\n",
    "vif"
   ]
  },
  {
   "cell_type": "code",
   "execution_count": 6,
   "metadata": {},
   "outputs": [
    {
     "output_type": "stream",
     "name": "stdout",
     "text": [
      "\n",
      "\n",
      "\n",
      "    Variable |       VIF       1/VIF  \n",
      "-------------+----------------------\n",
      "   democracy |      9.99    0.100081\n",
      "civilsocie~s |     22.66    0.044134\n",
      "         rol |     29.24    0.034199\n",
      "   broadband |      3.26    0.306286\n",
      " countrycode |\n",
      "          7  |      2.89    0.346263\n",
      "          8  |      2.92    0.342321\n",
      "         12  |      2.32    0.430512\n",
      "         17  |      2.19    0.455975\n",
      "         20  |      2.99    0.334367\n",
      "         30  |      2.16    0.462154\n",
      "         33  |      2.25    0.444105\n",
      "         39  |      6.30    0.158775\n",
      "         40  |      5.30    0.188779\n",
      "         41  |      2.75    0.364037\n",
      "         46  |      4.89    0.204419\n",
      "         48  |      3.57    0.280129\n",
      "         49  |      2.34    0.427954\n",
      "         52  |      6.45    0.155117\n",
      "         56  |      2.69    0.371571\n",
      "         57  |      2.67    0.374987\n",
      "         59  |      2.65    0.377622\n",
      "         62  |      6.59    0.151774\n",
      "         69  |      3.24    0.309114\n",
      "         71  |      3.18    0.314602\n",
      "         83  |      5.49    0.182149\n",
      "         85  |      3.18    0.314272\n",
      "         86  |      2.71    0.369204\n",
      "         88  |      3.84    0.260172\n",
      "         95  |      2.18    0.457930\n",
      "         96  |      2.49    0.402391\n",
      "        103  |      5.03    0.198949\n",
      "        106  |      2.89    0.346304\n",
      "        109  |      5.05    0.197902\n",
      "        113  |      2.24    0.447240\n",
      "        114  |      2.87    0.348956\n",
      "        117  |      2.85    0.350839\n",
      "        120  |      2.70    0.370758\n",
      "        121  |      5.04    0.198399\n",
      "        122  |      2.66    0.375915\n",
      "        124  |      2.81    0.355851\n",
      "        126  |      3.00    0.333573\n",
      "        127  |      2.55    0.392902\n",
      "        129  |      2.17    0.460982\n",
      "        131  |      2.98    0.335796\n",
      "        136  |      2.18    0.458053\n",
      "        137  |      2.84    0.352191\n",
      "        138  |      2.86    0.350167\n",
      "        142  |      2.72    0.368040\n",
      "        144  |      2.96    0.337465\n",
      "        146  |      2.65    0.377521\n",
      "        147  |      2.66    0.375400\n",
      "        148  |      2.87    0.348901\n",
      "        149  |      5.24    0.190872\n",
      "        155  |      3.06    0.326453\n",
      "        159  |      2.86    0.349668\n",
      "        160  |      2.97    0.336772\n",
      "        163  |      7.18    0.139334\n",
      "        166  |      6.96    0.143670\n",
      "        169  |      2.96    0.338263\n",
      "        172  |      3.12    0.320110\n",
      "        176  |      2.27    0.440503\n",
      "        187  |      1.99    0.501427\n",
      "        191  |      2.49    0.402075\n",
      "        192  |      4.12    0.243002\n",
      "        196  |      2.72    0.368235\n",
      "        200  |      5.15    0.194039\n",
      "        202  |      2.61    0.382446\n",
      "        207  |      2.28    0.438883\n",
      "        208  |      2.48    0.403103\n",
      "-------------+----------------------\n",
      "    Mean VIF |      4.09\n"
     ]
    }
   ],
   "source": [
    "qui reg ln_gdp democracy civilsocietytraditions rol broadband i.countrycode, r\n",
    "vif"
   ]
  },
  {
   "cell_type": "code",
   "execution_count": 7,
   "metadata": {},
   "outputs": [
    {
     "output_type": "stream",
     "name": "stdout",
     "text": [
      "\n",
      "\n",
      "\n",
      "    Variable |       VIF       1/VIF  \n",
      "-------------+----------------------\n",
      "   democracy |     10.10    0.098987\n",
      "civilsocie~s |     22.74    0.043977\n",
      "life_expec~y |     12.01    0.083260\n",
      "   broadband |      3.26    0.307010\n",
      " countrycode |\n",
      "          7  |      2.83    0.353478\n",
      "          8  |      2.71    0.368452\n",
      "         12  |      2.35    0.425513\n",
      "         17  |      2.19    0.457292\n",
      "         20  |      3.58    0.279229\n",
      "         30  |      2.93    0.341488\n",
      "         33  |      3.14    0.318759\n",
      "         39  |      3.23    0.309722\n",
      "         40  |      5.23    0.191177\n",
      "         41  |      2.66    0.376029\n",
      "         46  |      3.75    0.266801\n",
      "         48  |      2.84    0.351856\n",
      "         49  |      2.36    0.423971\n",
      "         52  |      4.05    0.247055\n",
      "         56  |      2.65    0.376888\n",
      "         57  |      2.66    0.375936\n",
      "         59  |      2.66    0.375764\n",
      "         62  |      3.42    0.292626\n",
      "         69  |      2.72    0.367872\n",
      "         71  |      3.14    0.318181\n",
      "         83  |      3.70    0.270323\n",
      "         85  |      2.78    0.360067\n",
      "         86  |      2.69    0.371837\n",
      "         88  |      3.11    0.321358\n",
      "         95  |      2.23    0.447478\n",
      "         96  |      2.96    0.338228\n",
      "        103  |      2.83    0.353959\n",
      "        106  |      3.26    0.306646\n",
      "        109  |      2.98    0.335730\n",
      "        113  |      2.49    0.401207\n",
      "        114  |      3.35    0.298156\n",
      "        117  |      3.74    0.267519\n",
      "        120  |      2.99    0.334169\n",
      "        121  |      2.83    0.353895\n",
      "        122  |      2.66    0.376447\n",
      "        124  |      2.74    0.364326\n",
      "        126  |      2.90    0.344462\n",
      "        127  |      2.06    0.486034\n",
      "        129  |      3.22    0.310154\n",
      "        131  |      2.91    0.343806\n",
      "        136  |      2.16    0.461960\n",
      "        137  |      3.42    0.292296\n",
      "        138  |      4.11    0.243141\n",
      "        142  |      2.88    0.347131\n",
      "        144  |      2.68    0.373213\n",
      "        146  |      2.65    0.377513\n",
      "        147  |      2.65    0.376762\n",
      "        148  |      2.87    0.348121\n",
      "        149  |      4.03    0.247958\n",
      "        155  |      3.03    0.330009\n",
      "        159  |      2.87    0.348514\n",
      "        160  |      2.82    0.354123\n",
      "        163  |      2.12    0.472097\n",
      "        166  |      4.46    0.224265\n",
      "        169  |      3.32    0.300982\n",
      "        172  |      2.66    0.376131\n",
      "        176  |      2.45    0.408976\n",
      "        187  |      2.80    0.356762\n",
      "        191  |      2.16    0.463077\n",
      "        192  |      3.88    0.257993\n",
      "        196  |      2.77    0.361178\n",
      "        200  |      3.71    0.269559\n",
      "        202  |      2.57    0.389402\n",
      "        207  |      2.93    0.341292\n",
      "        208  |      3.31    0.302167\n",
      "-------------+----------------------\n",
      "    Mean VIF |      3.52\n"
     ]
    }
   ],
   "source": [
    "qui reg ln_gdp democracy civilsocietytraditions life_expectancy broadband i.countrycode, r\n",
    "vif"
   ]
  },
  {
   "cell_type": "code",
   "execution_count": 8,
   "metadata": {},
   "outputs": [
    {
     "output_type": "stream",
     "name": "stdout",
     "text": [
      "\n",
      "\n",
      "\n",
      "    Variable |       VIF       1/VIF  \n",
      "-------------+----------------------\n",
      "civilsocie~s |     22.74    0.043975\n",
      "         rol |     31.23    0.032022\n",
      "life_expec~y |     12.69    0.078821\n",
      "   broadband |      3.28    0.304723\n",
      " countrycode |\n",
      "          7  |      2.24    0.445933\n",
      "          8  |      2.32    0.430532\n",
      "         12  |      2.36    0.423758\n",
      "         17  |      2.20    0.453766\n",
      "         20  |      3.18    0.314117\n",
      "         30  |      3.25    0.307272\n",
      "         33  |      3.13    0.319642\n",
      "         39  |      5.77    0.173445\n",
      "         40  |      5.32    0.187810\n",
      "         41  |      2.10    0.476318\n",
      "         46  |      4.27    0.233969\n",
      "         48  |      2.96    0.338140\n",
      "         49  |      2.36    0.422835\n",
      "         52  |      5.94    0.168446\n",
      "         56  |      2.09    0.479471\n",
      "         57  |      2.01    0.497159\n",
      "         59  |      2.03    0.491473\n",
      "         62  |      6.21    0.161095\n",
      "         69  |      2.71    0.368887\n",
      "         71  |      3.42    0.292509\n",
      "         83  |      5.06    0.197595\n",
      "         85  |      2.95    0.339198\n",
      "         86  |      2.19    0.457539\n",
      "         88  |      3.84    0.260081\n",
      "         95  |      2.28    0.439552\n",
      "         96  |      2.90    0.344896\n",
      "        103  |      4.67    0.214299\n",
      "        106  |      2.72    0.367285\n",
      "        109  |      4.68    0.213557\n",
      "        113  |      2.45    0.408711\n",
      "        114  |      3.37    0.296502\n",
      "        117  |      3.44    0.290540\n",
      "        120  |      2.87    0.347839\n",
      "        121  |      4.69    0.213322\n",
      "        122  |      2.01    0.498138\n",
      "        124  |      2.28    0.438108\n",
      "        126  |      2.59    0.386455\n",
      "        127  |      2.58    0.387097\n",
      "        129  |      3.26    0.306826\n",
      "        131  |      4.41    0.226516\n",
      "        136  |      2.03    0.493201\n",
      "        137  |      3.03    0.330305\n",
      "        138  |      3.66    0.273159\n",
      "        142  |      2.30    0.433888\n",
      "        144  |      2.32    0.431277\n",
      "        146  |      2.01    0.497865\n",
      "        147  |      2.01    0.497235\n",
      "        148  |      2.35    0.425380\n",
      "        149  |      4.70    0.212930\n",
      "        155  |      3.53    0.283583\n",
      "        159  |      2.69    0.371531\n",
      "        160  |      2.35    0.426263\n",
      "        163  |      7.23    0.138338\n",
      "        166  |      6.39    0.156384\n",
      "        169  |      4.16    0.240598\n",
      "        172  |      2.51    0.399124\n",
      "        176  |      2.54    0.393685\n",
      "        187  |      2.88    0.347707\n",
      "        191  |      2.35    0.424872\n",
      "        192  |      4.16    0.240283\n",
      "        196  |      2.17    0.459800\n",
      "        200  |      4.60    0.217195\n",
      "        202  |      2.64    0.379146\n",
      "        207  |      3.20    0.312456\n",
      "        208  |      3.48    0.287743\n",
      "-------------+----------------------\n",
      "    Mean VIF |      4.09\n"
     ]
    }
   ],
   "source": [
    "qui reg ln_gdp civilsocietytraditions rol life_expectancy broadband i.countrycode, r\n",
    "vif"
   ]
  },
  {
   "cell_type": "code",
   "execution_count": 9,
   "metadata": {},
   "outputs": [
    {
     "output_type": "stream",
     "name": "stdout",
     "text": [
      "\n",
      "\n",
      "\n",
      "    Variable |       VIF       1/VIF  \n",
      "-------------+----------------------\n",
      "   democracy |     10.12    0.098846\n",
      "civilsocie~s |     22.74    0.043974\n",
      "         rol |     31.27    0.031976\n",
      "life_expec~y |     12.85    0.077848\n",
      "   broadband |      3.28    0.304720\n",
      " countrycode |\n",
      "          7  |      2.89    0.346262\n",
      "          8  |      2.94    0.340151\n",
      "         12  |      2.36    0.423670\n",
      "         17  |      2.20    0.453746\n",
      "         20  |      3.69    0.271053\n",
      "         30  |      3.27    0.305917\n",
      "         33  |      3.14    0.318583\n",
      "         39  |      6.35    0.157525\n",
      "         40  |      5.32    0.187809\n",
      "         41  |      2.75    0.363961\n",
      "         46  |      4.90    0.204278\n",
      "         48  |      3.58    0.279550\n",
      "         49  |      2.37    0.422781\n",
      "         52  |      6.52    0.153472\n",
      "         56  |      2.71    0.369287\n",
      "         57  |      2.69    0.371905\n",
      "         59  |      2.66    0.375644\n",
      "         62  |      6.76    0.147966\n",
      "         69  |      3.30    0.302789\n",
      "         71  |      3.91    0.255535\n",
      "         83  |      5.63    0.177760\n",
      "         85  |      3.49    0.286423\n",
      "         86  |      2.78    0.359347\n",
      "         88  |      3.84    0.260079\n",
      "         95  |      2.28    0.439314\n",
      "         96  |      3.00    0.332967\n",
      "        103  |      5.22    0.191670\n",
      "        106  |      3.27    0.305921\n",
      "        109  |      5.24    0.190995\n",
      "        113  |      2.56    0.390479\n",
      "        114  |      3.85    0.259784\n",
      "        117  |      3.92    0.255335\n",
      "        120  |      2.99    0.334141\n",
      "        121  |      5.24    0.190934\n",
      "        122  |      2.66    0.375799\n",
      "        124  |      2.88    0.347246\n",
      "        126  |      3.16    0.316483\n",
      "        127  |      2.58    0.386972\n",
      "        129  |      3.27    0.305557\n",
      "        131  |      4.44    0.225464\n",
      "        136  |      2.19    0.457438\n",
      "        137  |      3.53    0.283006\n",
      "        138  |      4.13    0.242390\n",
      "        142  |      2.88    0.346849\n",
      "        144  |      2.96    0.337326\n",
      "        146  |      2.65    0.377342\n",
      "        147  |      2.67    0.375086\n",
      "        148  |      2.95    0.339379\n",
      "        149  |      5.29    0.189060\n",
      "        155  |      3.53    0.283047\n",
      "        159  |      3.23    0.309681\n",
      "        160  |      2.98    0.336127\n",
      "        163  |      7.23    0.138293\n",
      "        166  |      6.99    0.143084\n",
      "        169  |      4.17    0.239639\n",
      "        172  |      3.13    0.319519\n",
      "        176  |      2.54    0.393239\n",
      "        187  |      2.89    0.346364\n",
      "        191  |      2.50    0.399787\n",
      "        192  |      4.16    0.240264\n",
      "        196  |      2.78    0.359870\n",
      "        200  |      5.20    0.192401\n",
      "        202  |      2.64    0.379119\n",
      "        207  |      3.28    0.304577\n",
      "        208  |      3.49    0.286838\n",
      "-------------+----------------------\n",
      "    Mean VIF |      4.53\n"
     ]
    }
   ],
   "source": [
    "qui reg ln_gdp democracy civilsocietytraditions rol life_expectancy broadband i.countrycode, r\n",
    "vif"
   ]
  },
  {
   "cell_type": "code",
   "execution_count": 10,
   "metadata": {},
   "outputs": [
    {
     "output_type": "stream",
     "name": "stdout",
     "text": [
      "(note: file test.tex not found)\n",
      "(output written to test.tex)\n"
     ]
    }
   ],
   "source": [
    "esttab using test.tex, aux(vif 2) wide replace"
   ]
  },
  {
   "cell_type": "code",
   "execution_count": 141,
   "metadata": {},
   "outputs": [
    {
     "output_type": "display_data",
     "data": {
      "text/plain": "\n     +----------+\n     | contin~t |\n     |----------|\n  1. |        . |\n  2. |        . |\n  3. |        . |\n  4. |        . |\n  5. |        . |\n     +----------+\n\n",
      "text/html": "<div>\n<style scoped>\n    .dataframe tbody tr th:only-of-type {\n        vertical-align: middle;\n    }\n\n    .dataframe tbody tr th {\n        vertical-align: top;\n    }\n\n    .dataframe thead th {\n        text-align: right;\n    }\n</style>\n<table border=\"1\" class=\"dataframe\">\n  <thead>\n    <tr style=\"text-align: right;\">\n      <th></th>\n      <th>continentcat</th>\n    </tr>\n  </thead>\n  <tbody>\n  </tbody>\n</table>\n</div>"
     },
     "metadata": {}
    }
   ],
   "source": [
    "%browse 5 continentcat"
   ]
  },
  {
   "cell_type": "code",
   "execution_count": 19,
   "metadata": {},
   "outputs": [
    {
     "output_type": "stream",
     "name": "stdout",
     "text": [
      "\n",
      "             |   ln_gdp democr~y civils~s      rol broadb~d life_e~y\n",
      "-------------+------------------------------------------------------\n",
      "      ln_gdp |   1.0000 \n",
      "   democracy |   0.1677   1.0000 \n",
      "civilsocie~s |  -0.4428  -0.4727   1.0000 \n",
      "         rol |   0.6259   0.3233  -0.6496   1.0000 \n",
      "   broadband |   0.0912  -0.1298   0.1841   0.0138   1.0000 \n",
      "life_expec~y |   0.7949   0.2326  -0.3143   0.4836   0.1123   1.0000 \n"
     ]
    }
   ],
   "source": [
    "pwcorr ln_gdp democracy civilsocietytraditions rol broadband life_expectancy"
   ]
  },
  {
   "cell_type": "code",
   "execution_count": 6,
   "metadata": {},
   "outputs": [
    {
     "output_type": "stream",
     "name": "stdout",
     "text": [
      "\n",
      "\n",
      ".     de\n",
      "\n",
      "Contains data\n",
      "  obs:           110                          \n",
      " vars:            58                          \n",
      "--------------------------------------------------------------------------------\n",
      "              storage   display    value\n",
      "variable name   type    format     label      variable label\n",
      "--------------------------------------------------------------------------------\n",
      "country         str14   %14s                  \n",
      "year            int     %8.0g                 \n",
      "tech_exp        float   %9.0g                 \n",
      "tech_exp1       float   %9.0g                 algeria\n",
      "tech_exp2       float   %9.0g                 argentina\n",
      "tech_exp3       float   %9.0g                 armenia\n",
      "tech_exp4       float   %9.0g                 azerbaijan\n",
      "tech_exp5       float   %9.0g                 belarus\n",
      "tech_exp6       float   %9.0g                 cameroon\n",
      "tech_exp7       float   %9.0g                 chile\n",
      "tech_exp8       float   %9.0g                 china\n",
      "tech_exp9       float   %9.0g                 colombia\n",
      "tech_exp10      float   %9.0g                 costa rica\n",
      "tech_exp11      float   %9.0g                 croatia\n",
      "tech_exp12      float   %9.0g                 cuba\n",
      "tech_exp13      float   %9.0g                 czech republic\n",
      "tech_exp14      float   %9.0g                 ecuador\n",
      "tech_exp15      float   %9.0g                 el salvador\n",
      "tech_exp16      float   %9.0g                 estonia\n",
      "tech_exp17      float   %9.0g                 georgia\n",
      "tech_exp18      float   %9.0g                 ghana\n",
      "tech_exp19      float   %9.0g                 hungary\n",
      "tech_exp20      float   %9.0g                 india\n",
      "tech_exp21      float   %9.0g                 indonesia\n",
      "tech_exp22      float   %9.0g                 iraq\n",
      "tech_exp23      float   %9.0g                 kazakhstan\n",
      "tech_exp24      float   %9.0g                 kenya\n",
      "tech_exp25      float   %9.0g                 latvia\n",
      "tech_exp26      float   %9.0g                 lithuania\n",
      "tech_exp27      float   %9.0g                 madagascar\n",
      "tech_exp28      float   %9.0g                 malawi\n",
      "tech_exp29      float   %9.0g                 mauritius\n",
      "tech_exp30      float   %9.0g                 mexico\n",
      "tech_exp31      float   %9.0g                 moldova\n",
      "tech_exp32      float   %9.0g                 mongolia\n",
      "tech_exp33      float   %9.0g                 montenegro\n",
      "tech_exp34      float   %9.0g                 mozambique\n",
      "tech_exp35      float   %9.0g                 namibia\n",
      "tech_exp36      float   %9.0g                 nigeria\n",
      "tech_exp37      float   %9.0g                 pakistan\n",
      "tech_exp38      float   %9.0g                 panama\n",
      "tech_exp39      float   %9.0g                 paraguay\n",
      "tech_exp40      float   %9.0g                 peru\n",
      "tech_exp41      float   %9.0g                 philippines\n",
      "tech_exp42      float   %9.0g                 poland\n",
      "tech_exp43      float   %9.0g                 rwanda\n",
      "tech_exp44      float   %9.0g                 senegal\n",
      "tech_exp45      float   %9.0g                 serbia\n",
      "tech_exp46      float   %9.0g                 singapore\n",
      "tech_exp47      float   %9.0g                 slovenia\n",
      "tech_exp48      float   %9.0g                 south africa\n",
      "tech_exp49      float   %9.0g                 sri lanka\n",
      "tech_exp50      float   %9.0g                 turkey\n",
      "tech_exp51      float   %9.0g                 ukraine\n",
      "tech_exp52      float   %9.0g                 uruguay\n",
      "tech_exp53      float   %9.0g                 uzbekistan\n",
      "tech_exp54      float   %9.0g                 zambia\n",
      "tech_exp55      float   %9.0g                 zimbabwe\n",
      "--------------------------------------------------------------------------------\n",
      "Sorted by: year\n",
      "     Note: Dataset has changed since last saved.\n",
      "\n",
      ". cap noi     line tech_exp* year, xlabel(2008 2018) ysize(5) leg(off)\n",
      "\n",
      ". if _rc == 0 {\n",
      ".     noi gr export `\"/Users/santerivaataja/.stata_kernel_cache/graph$stata_kern\n",
      "> el_graph_counter.svg\"', width(600) replace\n"
     ]
    },
    {
     "output_type": "display_data",
     "data": {
      "text/plain": "This front-end cannot display the desired image type.",
      "text/html": "                <iframe frameborder=\"0\" scrolling=\"no\" height=\"545\" width=\"600\"                srcdoc=\"<html><body>&lt;?xml version=&quot;1.0&quot; encoding=&quot;UTF-8&quot; standalone=&quot;no&quot;?&gt;\n&lt;!-- This is a Stata 16.1 generated SVG file (http://www.stata.com) --&gt;\n\n&lt;svg version=&quot;1.1&quot; width=&quot;600px&quot; height=&quot;545px&quot; viewBox=&quot;0 0 3960 3600&quot; xmlns=&quot;http://www.w3.org/2000/svg&quot; xmlns:xlink=&quot;http://www.w3.org/1999/xlink&quot;&gt;\n\t&lt;desc&gt;Stata Graph - Graph&lt;/desc&gt;\n\t&lt;rect x=&quot;0&quot; y=&quot;0&quot; width=&quot;3960&quot; height=&quot;3600&quot; style=&quot;fill:#FFFFFF;stroke:none&quot;/&gt;\n\t&lt;rect x=&quot;0.00&quot; y=&quot;0.00&quot; width=&quot;3959.88&quot; height=&quot;3600.00&quot; style=&quot;fill:#FFFFFF&quot;/&gt;\n\t&lt;rect x=&quot;3.60&quot; y=&quot;3.60&quot; width=&quot;3952.68&quot; height=&quot;3592.80&quot; style=&quot;fill:none;stroke:#FFFFFF;stroke-width:7.20&quot;/&gt;\n\t&lt;rect x=&quot;367.05&quot; y=&quot;129.58&quot; width=&quot;3463.25&quot; height=&quot;2978.36&quot; style=&quot;fill:none;stroke:#000000;stroke-width:7.20&quot;/&gt;\n\t&lt;path d=&quot; M442.65 2538.07 L442.65 1634.66 L442.65 2551.31 L442.65 2250.84 L442.65 2353.55 L442.65 330.67 L442.65 2865.52 L442.65 1559.30 L442.65 1003.15 L442.65 2965.76 L442.65 2958.09 L442.65 1837.74 L442.65 695.00 L442.65 1953.08 L442.65 2709.34 L442.65 818.63 L442.65 1750.25 L442.65 867.14 L442.65 1796.53 L442.65 2415.43 L442.65 3030.11 L442.65 2713.30 L442.65 1325.03 L442.65 2079.56 L442.65 2599.57 L442.65 2338.82 L442.65 1907.29 L442.65 2499.09 L442.65 690.79 L442.65 2429.54 L442.65 2090.45 L442.65 3006.23 L442.65 2003.95 L442.65 2542.77 L442.65 2642.27 L442.65 1955.06 L442.65 2515.79 L442.65 349.11 L442.65 2400.58 L442.65 2536.95 L442.65 325.10 L442.65 1824.75 L442.65 914.66 L442.65 1684.41 L442.65 1665.48 L442.65 1460.67 L442.65 476.33 L442.65 1247.56 L442.65 1779.58 L442.65 2169.78 L442.65 1559.79 L442.65 2926.53 L442.65 1023.69 L442.65 2666.40 L442.65 1300.90 L3754.57 1954.57 L3754.57 2870.47 L3754.57 2863.79 L3754.57 2075.23 L3754.57 1549.52 L3754.57 818.63 L3754.57 2501.68 L3754.57 2247.49 L3754.57 1480.59 L3754.57 2638.43 L3754.57 2522.48 L3754.57 2020.16 L3754.57 2502.92 L3754.57 1406.83 L3754.57 2221.26 L3754.57 212.49 L3754.57 919.86 L3754.57 2965.64 L3754.57 568.03 L3754.57 2121.14 L3754.57 1161.18 L3754.57 1251.28 L3754.57 1497.17 L3754.57 205.31 L3754.57 2531.88 L3754.57 1519.33 L3754.57 1949.00 L3754.57 2965.39 L3754.57 1666.59 L3754.57 555.90 L3754.57 2030.18 L3754.57 402.70 L3754.57 1581.45 L3754.57 1378.12 L3754.57 1145.59 L3754.57 1418.34 L3754.57 2282.89 L3754.57 1818.69 L3754.57 2618.88 L3754.57 2665.41 L3754.57 1807.30 L3754.57 2518.02 L3754.57 1440.37 L3754.57 1671.05 L3754.57 2711.82 L3754.57 808.48 L3754.57 2480.40 L3754.57 1797.77 L3754.57 1468.96 L3754.57 2894.60 L3754.57 3031.10 L3754.57 1707.93 L3754.57 2598.34 L3754.57 2672.84 L3754.57 2354.79&quot; stroke-linejoin=&quot;round&quot; style=&quot;fill:none;stroke:#606060;stroke-width:10.80&quot;/&gt;\n\t&lt;path d=&quot; M442.65 3006.23 L3754.57 2894.60&quot; stroke-linejoin=&quot;round&quot; style=&quot;fill:none;stroke:#A0A0A0;stroke-width:10.80&quot;/&gt;\n\t&lt;path d=&quot; M442.65 1684.41 L3754.57 1418.34&quot; stroke-linejoin=&quot;round&quot; style=&quot;fill:none;stroke:#808080;stroke-width:10.80&quot;/&gt;\n\t&lt;path d=&quot; M442.65 1955.06 L3754.57 2518.02&quot; stroke-linejoin=&quot;round&quot; style=&quot;fill:none;stroke:#404040;stroke-width:10.80&quot;/&gt;\n\t&lt;path d=&quot; M442.65 2642.27 L3754.57 2221.26&quot; stroke-linejoin=&quot;round&quot; style=&quot;fill:none;stroke:#000000;stroke-width:10.80&quot;/&gt;\n\t&lt;path d=&quot; M442.65 1665.48 L3754.57 1671.05&quot; stroke-linejoin=&quot;round&quot; style=&quot;fill:none;stroke:#C0C0C0;stroke-width:10.80&quot;/&gt;\n\t&lt;path d=&quot; M442.65 2169.78 L3754.57 2598.34&quot; stroke-linejoin=&quot;round&quot; style=&quot;fill:none;stroke:#202020;stroke-width:10.80&quot;/&gt;\n\t&lt;path d=&quot; M442.65 2515.79 L3754.57 2711.82&quot; stroke-linejoin=&quot;round&quot; style=&quot;fill:none;stroke:#707070;stroke-width:10.80&quot;/&gt;\n\t&lt;path d=&quot; M442.65 1003.15 L3754.57 919.86&quot; stroke-linejoin=&quot;round&quot; style=&quot;fill:none;stroke:#909090;stroke-width:10.80&quot;/&gt;\n\t&lt;path d=&quot; M442.65 1824.75 L3754.57 1666.59&quot; stroke-linejoin=&quot;round&quot; style=&quot;fill:none;stroke:#B0B0B0;stroke-width:10.80&quot;/&gt;\n\t&lt;path d=&quot; M442.65 914.66 L3754.57 1251.28&quot; stroke-linejoin=&quot;round&quot; style=&quot;fill:none;stroke:#D0D0D0;stroke-width:10.80&quot;/&gt;\n\t&lt;path d=&quot; M442.65 1300.90 L3754.57 1440.37&quot; stroke-linejoin=&quot;round&quot; style=&quot;fill:none;stroke:#505050;stroke-width:10.80&quot;/&gt;\n\t&lt;path d=&quot; M442.65 818.63 L3754.57 818.63&quot; stroke-linejoin=&quot;round&quot; style=&quot;fill:none;stroke:#303030;stroke-width:10.80&quot;/&gt;\n\t&lt;path d=&quot; M442.65 695.00 L3754.57 555.90&quot; stroke-linejoin=&quot;round&quot; style=&quot;fill:none;stroke:#C0C0C0;stroke-width:10.80&quot;/&gt;\n\t&lt;path d=&quot; M442.65 2338.82 L3754.57 2618.88&quot; stroke-linejoin=&quot;round&quot; style=&quot;fill:none;stroke:#505050;stroke-width:10.80&quot;/&gt;\n\t&lt;path d=&quot; M442.65 2353.55 L3754.57 2502.92&quot; stroke-linejoin=&quot;round&quot; style=&quot;fill:none;stroke:#606060;stroke-width:10.80&quot;/&gt;\n\t&lt;path d=&quot; M442.65 1559.79 L3754.57 1378.12&quot; stroke-linejoin=&quot;round&quot; style=&quot;fill:none;stroke:#A0A0A0;stroke-width:10.80&quot;/&gt;\n\t&lt;path d=&quot; M442.65 1325.03 L3754.57 1949.00&quot; stroke-linejoin=&quot;round&quot; style=&quot;fill:none;stroke:#808080;stroke-width:10.80&quot;/&gt;\n\t&lt;path d=&quot; M442.65 2400.58 L3754.57 2501.68&quot; stroke-linejoin=&quot;round&quot; style=&quot;fill:none;stroke:#404040;stroke-width:10.80&quot;/&gt;\n\t&lt;path d=&quot; M442.65 330.67 L3754.57 402.70&quot; stroke-linejoin=&quot;round&quot; style=&quot;fill:none;stroke:#000000;stroke-width:10.80&quot;/&gt;\n\t&lt;path d=&quot; M442.65 2079.56 L3754.57 1818.69&quot; stroke-linejoin=&quot;round&quot; style=&quot;fill:none;stroke:#C0C0C0;stroke-width:10.80&quot;/&gt;\n\t&lt;path d=&quot; M442.65 2003.95 L3754.57 2030.18&quot; stroke-linejoin=&quot;round&quot; style=&quot;fill:none;stroke:#202020;stroke-width:10.80&quot;/&gt;\n\t&lt;path d=&quot; M442.65 3030.11 L3754.57 3031.10&quot; stroke-linejoin=&quot;round&quot; style=&quot;fill:none;stroke:#707070;stroke-width:10.80&quot;/&gt;\n\t&lt;path d=&quot; M442.65 1796.53 L3754.57 1807.30&quot; stroke-linejoin=&quot;round&quot; style=&quot;fill:none;stroke:#909090;stroke-width:10.80&quot;/&gt;\n\t&lt;path d=&quot; M442.65 2415.43 L3754.57 2282.89&quot; stroke-linejoin=&quot;round&quot; style=&quot;fill:none;stroke:#B0B0B0;stroke-width:10.80&quot;/&gt;\n\t&lt;path d=&quot; M442.65 1837.74 L3754.57 1519.33&quot; stroke-linejoin=&quot;round&quot; style=&quot;fill:none;stroke:#D0D0D0;stroke-width:10.80&quot;/&gt;\n\t&lt;path d=&quot; M442.65 1634.66 L3754.57 1549.52&quot; stroke-linejoin=&quot;round&quot; style=&quot;fill:none;stroke:#505050;stroke-width:10.80&quot;/&gt;\n\t&lt;path d=&quot; M442.65 2958.09 L3754.57 2870.47&quot; stroke-linejoin=&quot;round&quot; style=&quot;fill:none;stroke:#303030;stroke-width:10.80&quot;/&gt;\n\t&lt;path d=&quot; M442.65 2499.09 L3754.57 1581.45&quot; stroke-linejoin=&quot;round&quot; style=&quot;fill:none;stroke:#C0C0C0;stroke-width:10.80&quot;/&gt;\n\t&lt;path d=&quot; M442.65 2599.57 L3754.57 2531.88&quot; stroke-linejoin=&quot;round&quot; style=&quot;fill:none;stroke:#505050;stroke-width:10.80&quot;/&gt;\n\t&lt;path d=&quot; M442.65 349.11 L3754.57 205.31&quot; stroke-linejoin=&quot;round&quot; style=&quot;fill:none;stroke:#606060;stroke-width:10.80&quot;/&gt;\n\t&lt;path d=&quot; M442.65 2536.95 L3754.57 1707.93&quot; stroke-linejoin=&quot;round&quot; style=&quot;fill:none;stroke:#A0A0A0;stroke-width:10.80&quot;/&gt;\n\t&lt;path d=&quot; M442.65 2965.76 L3754.57 2965.39&quot; stroke-linejoin=&quot;round&quot; style=&quot;fill:none;stroke:#808080;stroke-width:10.80&quot;/&gt;\n\t&lt;path d=&quot; M442.65 2090.45 L3754.57 2121.14&quot; stroke-linejoin=&quot;round&quot; style=&quot;fill:none;stroke:#404040;stroke-width:10.80&quot;/&gt;\n\t&lt;path d=&quot; M442.65 1779.58 L3754.57 2480.40&quot; stroke-linejoin=&quot;round&quot; style=&quot;fill:none;stroke:#000000;stroke-width:10.80&quot;/&gt;\n\t&lt;path d=&quot; M442.65 2551.31 L3754.57 2965.64&quot; stroke-linejoin=&quot;round&quot; style=&quot;fill:none;stroke:#C0C0C0;stroke-width:10.80&quot;/&gt;\n\t&lt;path d=&quot; M442.65 476.33 L3754.57 1161.18&quot; stroke-linejoin=&quot;round&quot; style=&quot;fill:none;stroke:#202020;stroke-width:10.80&quot;/&gt;\n\t&lt;path d=&quot; M442.65 2713.30 L3754.57 2672.84&quot; stroke-linejoin=&quot;round&quot; style=&quot;fill:none;stroke:#707070;stroke-width:10.80&quot;/&gt;\n\t&lt;path d=&quot; M442.65 2542.77 L3754.57 1497.17&quot; stroke-linejoin=&quot;round&quot; style=&quot;fill:none;stroke:#909090;stroke-width:10.80&quot;/&gt;\n\t&lt;path d=&quot; M442.65 2666.40 L3754.57 1954.57&quot; stroke-linejoin=&quot;round&quot; style=&quot;fill:none;stroke:#B0B0B0;stroke-width:10.80&quot;/&gt;\n\t&lt;path d=&quot; M442.65 2865.52 L3754.57 2863.79&quot; stroke-linejoin=&quot;round&quot; style=&quot;fill:none;stroke:#D0D0D0;stroke-width:10.80&quot;/&gt;\n\t&lt;path d=&quot; M442.65 325.10 L3754.57 212.49&quot; stroke-linejoin=&quot;round&quot; style=&quot;fill:none;stroke:#505050;stroke-width:10.80&quot;/&gt;\n\t&lt;path d=&quot; M442.65 1023.69 L3754.57 1145.59&quot; stroke-linejoin=&quot;round&quot; style=&quot;fill:none;stroke:#303030;stroke-width:10.80&quot;/&gt;\n\t&lt;path d=&quot; M442.65 2926.53 L3754.57 2638.43&quot; stroke-linejoin=&quot;round&quot; style=&quot;fill:none;stroke:#C0C0C0;stroke-width:10.80&quot;/&gt;\n\t&lt;path d=&quot; M442.65 2429.54 L3754.57 2522.48&quot; stroke-linejoin=&quot;round&quot; style=&quot;fill:none;stroke:#505050;stroke-width:10.80&quot;/&gt;\n\t&lt;path d=&quot; M442.65 1907.29 L3754.57 1468.96&quot; stroke-linejoin=&quot;round&quot; style=&quot;fill:none;stroke:#606060;stroke-width:10.80&quot;/&gt;\n\t&lt;path d=&quot; M442.65 690.79 L3754.57 568.03&quot; stroke-linejoin=&quot;round&quot; style=&quot;fill:none;stroke:#A0A0A0;stroke-width:10.80&quot;/&gt;\n\t&lt;path d=&quot; M442.65 867.14 L3754.57 808.48&quot; stroke-linejoin=&quot;round&quot; style=&quot;fill:none;stroke:#808080;stroke-width:10.80&quot;/&gt;\n\t&lt;path d=&quot; M442.65 1247.56 L3754.57 1406.83&quot; stroke-linejoin=&quot;round&quot; style=&quot;fill:none;stroke:#404040;stroke-width:10.80&quot;/&gt;\n\t&lt;path d=&quot; M442.65 2709.34 L3754.57 2665.41&quot; stroke-linejoin=&quot;round&quot; style=&quot;fill:none;stroke:#000000;stroke-width:10.80&quot;/&gt;\n\t&lt;path d=&quot; M442.65 1559.30 L3754.57 1480.59&quot; stroke-linejoin=&quot;round&quot; style=&quot;fill:none;stroke:#C0C0C0;stroke-width:10.80&quot;/&gt;\n\t&lt;path d=&quot; M442.65 1460.67 L3754.57 1797.77&quot; stroke-linejoin=&quot;round&quot; style=&quot;fill:none;stroke:#202020;stroke-width:10.80&quot;/&gt;\n\t&lt;path d=&quot; M442.65 2250.84 L3754.57 2247.49&quot; stroke-linejoin=&quot;round&quot; style=&quot;fill:none;stroke:#707070;stroke-width:10.80&quot;/&gt;\n\t&lt;path d=&quot; M442.65 1750.25 L3754.57 2020.16&quot; stroke-linejoin=&quot;round&quot; style=&quot;fill:none;stroke:#909090;stroke-width:10.80&quot;/&gt;\n\t&lt;path d=&quot; M442.65 2538.07 L3754.57 2075.23&quot; stroke-linejoin=&quot;round&quot; style=&quot;fill:none;stroke:#B0B0B0;stroke-width:10.80&quot;/&gt;\n\t&lt;path d=&quot; M442.65 1953.08 L3754.57 2354.79&quot; stroke-linejoin=&quot;round&quot; style=&quot;fill:none;stroke:#D0D0D0;stroke-width:10.80&quot;/&gt;\n\t&lt;line x1=&quot;363.45&quot; y1=&quot;3111.54&quot; x2=&quot;363.45&quot; y2=&quot;125.98&quot; style=&quot;stroke:#000000;stroke-width:7.20&quot;/&gt;\n\t&lt;line x1=&quot;363.45&quot; y1=&quot;3032.34&quot; x2=&quot;313.46&quot; y2=&quot;3032.34&quot; style=&quot;stroke:#000000;stroke-width:7.20&quot;/&gt;\n\t&lt;text x=&quot;250.90&quot; y=&quot;3032.34&quot; style=&quot;font-family:&#x27;Helvetica&#x27;;font-size:124.99px;fill:#000000&quot; transform=&quot;rotate(-90 250.90,3032.34)&quot; text-anchor=&quot;middle&quot;&gt;0&lt;/text&gt;\n\t&lt;line x1=&quot;363.45&quot; y1=&quot;2334.25&quot; x2=&quot;313.46&quot; y2=&quot;2334.25&quot; style=&quot;stroke:#000000;stroke-width:7.20&quot;/&gt;\n\t&lt;text x=&quot;250.90&quot; y=&quot;2334.25&quot; style=&quot;font-family:&#x27;Helvetica&#x27;;font-size:124.99px;fill:#000000&quot; transform=&quot;rotate(-90 250.90,2334.25)&quot; text-anchor=&quot;middle&quot;&gt;20&lt;/text&gt;\n\t&lt;line x1=&quot;363.45&quot; y1=&quot;1636.27&quot; x2=&quot;313.46&quot; y2=&quot;1636.27&quot; style=&quot;stroke:#000000;stroke-width:7.20&quot;/&gt;\n\t&lt;text x=&quot;250.90&quot; y=&quot;1636.27&quot; style=&quot;font-family:&#x27;Helvetica&#x27;;font-size:124.99px;fill:#000000&quot; transform=&quot;rotate(-90 250.90,1636.27)&quot; text-anchor=&quot;middle&quot;&gt;40&lt;/text&gt;\n\t&lt;line x1=&quot;363.45&quot; y1=&quot;938.18&quot; x2=&quot;313.46&quot; y2=&quot;938.18&quot; style=&quot;stroke:#000000;stroke-width:7.20&quot;/&gt;\n\t&lt;text x=&quot;250.90&quot; y=&quot;938.18&quot; style=&quot;font-family:&#x27;Helvetica&#x27;;font-size:124.99px;fill:#000000&quot; transform=&quot;rotate(-90 250.90,938.18)&quot; text-anchor=&quot;middle&quot;&gt;60&lt;/text&gt;\n\t&lt;line x1=&quot;363.45&quot; y1=&quot;240.08&quot; x2=&quot;313.46&quot; y2=&quot;240.08&quot; style=&quot;stroke:#000000;stroke-width:7.20&quot;/&gt;\n\t&lt;text x=&quot;250.90&quot; y=&quot;240.08&quot; style=&quot;font-family:&#x27;Helvetica&#x27;;font-size:124.99px;fill:#000000&quot; transform=&quot;rotate(-90 250.90,240.08)&quot; text-anchor=&quot;middle&quot;&gt;80&lt;/text&gt;\n\t&lt;line x1=&quot;363.45&quot; y1=&quot;3111.54&quot; x2=&quot;3833.90&quot; y2=&quot;3111.54&quot; style=&quot;stroke:#000000;stroke-width:7.20&quot;/&gt;\n\t&lt;line x1=&quot;442.65&quot; y1=&quot;3111.54&quot; x2=&quot;442.65&quot; y2=&quot;3161.54&quot; style=&quot;stroke:#000000;stroke-width:7.20&quot;/&gt;\n\t&lt;text x=&quot;442.65&quot; y=&quot;3273.97&quot; style=&quot;font-family:&#x27;Helvetica&#x27;;font-size:124.99px;fill:#000000&quot; text-anchor=&quot;middle&quot;&gt;2008&lt;/text&gt;\n\t&lt;line x1=&quot;3754.70&quot; y1=&quot;3111.54&quot; x2=&quot;3754.70&quot; y2=&quot;3161.54&quot; style=&quot;stroke:#000000;stroke-width:7.20&quot;/&gt;\n\t&lt;text x=&quot;3754.70&quot; y=&quot;3273.97&quot; style=&quot;font-family:&#x27;Helvetica&#x27;;font-size:124.99px;fill:#000000&quot; text-anchor=&quot;middle&quot;&gt;2018&lt;/text&gt;\n\t&lt;text x=&quot;2098.68&quot; y=&quot;3411.46&quot; style=&quot;font-family:&#x27;Helvetica&#x27;;font-size:124.99px;fill:#000000&quot; text-anchor=&quot;middle&quot;&gt;year&lt;/text&gt;\n&lt;/svg&gt;\n</body></html>\"></iframe>\n",
      "image/svg+xml": "<?xml version=\"1.0\" encoding=\"UTF-8\" standalone=\"no\"?>\n<!-- This is a Stata 16.1 generated SVG file (http://www.stata.com) -->\n\n<svg version=\"1.1\" width=\"600px\" height=\"545px\" viewBox=\"0 0 3960 3600\" xmlns=\"http://www.w3.org/2000/svg\" xmlns:xlink=\"http://www.w3.org/1999/xlink\">\n\t<desc>Stata Graph - Graph</desc>\n\t<rect x=\"0\" y=\"0\" width=\"3960\" height=\"3600\" style=\"fill:#FFFFFF;stroke:none\"/>\n\t<rect x=\"0.00\" y=\"0.00\" width=\"3959.88\" height=\"3600.00\" style=\"fill:#FFFFFF\"/>\n\t<rect x=\"3.60\" y=\"3.60\" width=\"3952.68\" height=\"3592.80\" style=\"fill:none;stroke:#FFFFFF;stroke-width:7.20\"/>\n\t<rect x=\"367.05\" y=\"129.58\" width=\"3463.25\" height=\"2978.36\" style=\"fill:none;stroke:#000000;stroke-width:7.20\"/>\n\t<path d=\" M442.65 2538.07 L442.65 1634.66 L442.65 2551.31 L442.65 2250.84 L442.65 2353.55 L442.65 330.67 L442.65 2865.52 L442.65 1559.30 L442.65 1003.15 L442.65 2965.76 L442.65 2958.09 L442.65 1837.74 L442.65 695.00 L442.65 1953.08 L442.65 2709.34 L442.65 818.63 L442.65 1750.25 L442.65 867.14 L442.65 1796.53 L442.65 2415.43 L442.65 3030.11 L442.65 2713.30 L442.65 1325.03 L442.65 2079.56 L442.65 2599.57 L442.65 2338.82 L442.65 1907.29 L442.65 2499.09 L442.65 690.79 L442.65 2429.54 L442.65 2090.45 L442.65 3006.23 L442.65 2003.95 L442.65 2542.77 L442.65 2642.27 L442.65 1955.06 L442.65 2515.79 L442.65 349.11 L442.65 2400.58 L442.65 2536.95 L442.65 325.10 L442.65 1824.75 L442.65 914.66 L442.65 1684.41 L442.65 1665.48 L442.65 1460.67 L442.65 476.33 L442.65 1247.56 L442.65 1779.58 L442.65 2169.78 L442.65 1559.79 L442.65 2926.53 L442.65 1023.69 L442.65 2666.40 L442.65 1300.90 L3754.57 1954.57 L3754.57 2870.47 L3754.57 2863.79 L3754.57 2075.23 L3754.57 1549.52 L3754.57 818.63 L3754.57 2501.68 L3754.57 2247.49 L3754.57 1480.59 L3754.57 2638.43 L3754.57 2522.48 L3754.57 2020.16 L3754.57 2502.92 L3754.57 1406.83 L3754.57 2221.26 L3754.57 212.49 L3754.57 919.86 L3754.57 2965.64 L3754.57 568.03 L3754.57 2121.14 L3754.57 1161.18 L3754.57 1251.28 L3754.57 1497.17 L3754.57 205.31 L3754.57 2531.88 L3754.57 1519.33 L3754.57 1949.00 L3754.57 2965.39 L3754.57 1666.59 L3754.57 555.90 L3754.57 2030.18 L3754.57 402.70 L3754.57 1581.45 L3754.57 1378.12 L3754.57 1145.59 L3754.57 1418.34 L3754.57 2282.89 L3754.57 1818.69 L3754.57 2618.88 L3754.57 2665.41 L3754.57 1807.30 L3754.57 2518.02 L3754.57 1440.37 L3754.57 1671.05 L3754.57 2711.82 L3754.57 808.48 L3754.57 2480.40 L3754.57 1797.77 L3754.57 1468.96 L3754.57 2894.60 L3754.57 3031.10 L3754.57 1707.93 L3754.57 2598.34 L3754.57 2672.84 L3754.57 2354.79\" stroke-linejoin=\"round\" style=\"fill:none;stroke:#606060;stroke-width:10.80\"/>\n\t<path d=\" M442.65 3006.23 L3754.57 2894.60\" stroke-linejoin=\"round\" style=\"fill:none;stroke:#A0A0A0;stroke-width:10.80\"/>\n\t<path d=\" M442.65 1684.41 L3754.57 1418.34\" stroke-linejoin=\"round\" style=\"fill:none;stroke:#808080;stroke-width:10.80\"/>\n\t<path d=\" M442.65 1955.06 L3754.57 2518.02\" stroke-linejoin=\"round\" style=\"fill:none;stroke:#404040;stroke-width:10.80\"/>\n\t<path d=\" M442.65 2642.27 L3754.57 2221.26\" stroke-linejoin=\"round\" style=\"fill:none;stroke:#000000;stroke-width:10.80\"/>\n\t<path d=\" M442.65 1665.48 L3754.57 1671.05\" stroke-linejoin=\"round\" style=\"fill:none;stroke:#C0C0C0;stroke-width:10.80\"/>\n\t<path d=\" M442.65 2169.78 L3754.57 2598.34\" stroke-linejoin=\"round\" style=\"fill:none;stroke:#202020;stroke-width:10.80\"/>\n\t<path d=\" M442.65 2515.79 L3754.57 2711.82\" stroke-linejoin=\"round\" style=\"fill:none;stroke:#707070;stroke-width:10.80\"/>\n\t<path d=\" M442.65 1003.15 L3754.57 919.86\" stroke-linejoin=\"round\" style=\"fill:none;stroke:#909090;stroke-width:10.80\"/>\n\t<path d=\" M442.65 1824.75 L3754.57 1666.59\" stroke-linejoin=\"round\" style=\"fill:none;stroke:#B0B0B0;stroke-width:10.80\"/>\n\t<path d=\" M442.65 914.66 L3754.57 1251.28\" stroke-linejoin=\"round\" style=\"fill:none;stroke:#D0D0D0;stroke-width:10.80\"/>\n\t<path d=\" M442.65 1300.90 L3754.57 1440.37\" stroke-linejoin=\"round\" style=\"fill:none;stroke:#505050;stroke-width:10.80\"/>\n\t<path d=\" M442.65 818.63 L3754.57 818.63\" stroke-linejoin=\"round\" style=\"fill:none;stroke:#303030;stroke-width:10.80\"/>\n\t<path d=\" M442.65 695.00 L3754.57 555.90\" stroke-linejoin=\"round\" style=\"fill:none;stroke:#C0C0C0;stroke-width:10.80\"/>\n\t<path d=\" M442.65 2338.82 L3754.57 2618.88\" stroke-linejoin=\"round\" style=\"fill:none;stroke:#505050;stroke-width:10.80\"/>\n\t<path d=\" M442.65 2353.55 L3754.57 2502.92\" stroke-linejoin=\"round\" style=\"fill:none;stroke:#606060;stroke-width:10.80\"/>\n\t<path d=\" M442.65 1559.79 L3754.57 1378.12\" stroke-linejoin=\"round\" style=\"fill:none;stroke:#A0A0A0;stroke-width:10.80\"/>\n\t<path d=\" M442.65 1325.03 L3754.57 1949.00\" stroke-linejoin=\"round\" style=\"fill:none;stroke:#808080;stroke-width:10.80\"/>\n\t<path d=\" M442.65 2400.58 L3754.57 2501.68\" stroke-linejoin=\"round\" style=\"fill:none;stroke:#404040;stroke-width:10.80\"/>\n\t<path d=\" M442.65 330.67 L3754.57 402.70\" stroke-linejoin=\"round\" style=\"fill:none;stroke:#000000;stroke-width:10.80\"/>\n\t<path d=\" M442.65 2079.56 L3754.57 1818.69\" stroke-linejoin=\"round\" style=\"fill:none;stroke:#C0C0C0;stroke-width:10.80\"/>\n\t<path d=\" M442.65 2003.95 L3754.57 2030.18\" stroke-linejoin=\"round\" style=\"fill:none;stroke:#202020;stroke-width:10.80\"/>\n\t<path d=\" M442.65 3030.11 L3754.57 3031.10\" stroke-linejoin=\"round\" style=\"fill:none;stroke:#707070;stroke-width:10.80\"/>\n\t<path d=\" M442.65 1796.53 L3754.57 1807.30\" stroke-linejoin=\"round\" style=\"fill:none;stroke:#909090;stroke-width:10.80\"/>\n\t<path d=\" M442.65 2415.43 L3754.57 2282.89\" stroke-linejoin=\"round\" style=\"fill:none;stroke:#B0B0B0;stroke-width:10.80\"/>\n\t<path d=\" M442.65 1837.74 L3754.57 1519.33\" stroke-linejoin=\"round\" style=\"fill:none;stroke:#D0D0D0;stroke-width:10.80\"/>\n\t<path d=\" M442.65 1634.66 L3754.57 1549.52\" stroke-linejoin=\"round\" style=\"fill:none;stroke:#505050;stroke-width:10.80\"/>\n\t<path d=\" M442.65 2958.09 L3754.57 2870.47\" stroke-linejoin=\"round\" style=\"fill:none;stroke:#303030;stroke-width:10.80\"/>\n\t<path d=\" M442.65 2499.09 L3754.57 1581.45\" stroke-linejoin=\"round\" style=\"fill:none;stroke:#C0C0C0;stroke-width:10.80\"/>\n\t<path d=\" M442.65 2599.57 L3754.57 2531.88\" stroke-linejoin=\"round\" style=\"fill:none;stroke:#505050;stroke-width:10.80\"/>\n\t<path d=\" M442.65 349.11 L3754.57 205.31\" stroke-linejoin=\"round\" style=\"fill:none;stroke:#606060;stroke-width:10.80\"/>\n\t<path d=\" M442.65 2536.95 L3754.57 1707.93\" stroke-linejoin=\"round\" style=\"fill:none;stroke:#A0A0A0;stroke-width:10.80\"/>\n\t<path d=\" M442.65 2965.76 L3754.57 2965.39\" stroke-linejoin=\"round\" style=\"fill:none;stroke:#808080;stroke-width:10.80\"/>\n\t<path d=\" M442.65 2090.45 L3754.57 2121.14\" stroke-linejoin=\"round\" style=\"fill:none;stroke:#404040;stroke-width:10.80\"/>\n\t<path d=\" M442.65 1779.58 L3754.57 2480.40\" stroke-linejoin=\"round\" style=\"fill:none;stroke:#000000;stroke-width:10.80\"/>\n\t<path d=\" M442.65 2551.31 L3754.57 2965.64\" stroke-linejoin=\"round\" style=\"fill:none;stroke:#C0C0C0;stroke-width:10.80\"/>\n\t<path d=\" M442.65 476.33 L3754.57 1161.18\" stroke-linejoin=\"round\" style=\"fill:none;stroke:#202020;stroke-width:10.80\"/>\n\t<path d=\" M442.65 2713.30 L3754.57 2672.84\" stroke-linejoin=\"round\" style=\"fill:none;stroke:#707070;stroke-width:10.80\"/>\n\t<path d=\" M442.65 2542.77 L3754.57 1497.17\" stroke-linejoin=\"round\" style=\"fill:none;stroke:#909090;stroke-width:10.80\"/>\n\t<path d=\" M442.65 2666.40 L3754.57 1954.57\" stroke-linejoin=\"round\" style=\"fill:none;stroke:#B0B0B0;stroke-width:10.80\"/>\n\t<path d=\" M442.65 2865.52 L3754.57 2863.79\" stroke-linejoin=\"round\" style=\"fill:none;stroke:#D0D0D0;stroke-width:10.80\"/>\n\t<path d=\" M442.65 325.10 L3754.57 212.49\" stroke-linejoin=\"round\" style=\"fill:none;stroke:#505050;stroke-width:10.80\"/>\n\t<path d=\" M442.65 1023.69 L3754.57 1145.59\" stroke-linejoin=\"round\" style=\"fill:none;stroke:#303030;stroke-width:10.80\"/>\n\t<path d=\" M442.65 2926.53 L3754.57 2638.43\" stroke-linejoin=\"round\" style=\"fill:none;stroke:#C0C0C0;stroke-width:10.80\"/>\n\t<path d=\" M442.65 2429.54 L3754.57 2522.48\" stroke-linejoin=\"round\" style=\"fill:none;stroke:#505050;stroke-width:10.80\"/>\n\t<path d=\" M442.65 1907.29 L3754.57 1468.96\" stroke-linejoin=\"round\" style=\"fill:none;stroke:#606060;stroke-width:10.80\"/>\n\t<path d=\" M442.65 690.79 L3754.57 568.03\" stroke-linejoin=\"round\" style=\"fill:none;stroke:#A0A0A0;stroke-width:10.80\"/>\n\t<path d=\" M442.65 867.14 L3754.57 808.48\" stroke-linejoin=\"round\" style=\"fill:none;stroke:#808080;stroke-width:10.80\"/>\n\t<path d=\" M442.65 1247.56 L3754.57 1406.83\" stroke-linejoin=\"round\" style=\"fill:none;stroke:#404040;stroke-width:10.80\"/>\n\t<path d=\" M442.65 2709.34 L3754.57 2665.41\" stroke-linejoin=\"round\" style=\"fill:none;stroke:#000000;stroke-width:10.80\"/>\n\t<path d=\" M442.65 1559.30 L3754.57 1480.59\" stroke-linejoin=\"round\" style=\"fill:none;stroke:#C0C0C0;stroke-width:10.80\"/>\n\t<path d=\" M442.65 1460.67 L3754.57 1797.77\" stroke-linejoin=\"round\" style=\"fill:none;stroke:#202020;stroke-width:10.80\"/>\n\t<path d=\" M442.65 2250.84 L3754.57 2247.49\" stroke-linejoin=\"round\" style=\"fill:none;stroke:#707070;stroke-width:10.80\"/>\n\t<path d=\" M442.65 1750.25 L3754.57 2020.16\" stroke-linejoin=\"round\" style=\"fill:none;stroke:#909090;stroke-width:10.80\"/>\n\t<path d=\" M442.65 2538.07 L3754.57 2075.23\" stroke-linejoin=\"round\" style=\"fill:none;stroke:#B0B0B0;stroke-width:10.80\"/>\n\t<path d=\" M442.65 1953.08 L3754.57 2354.79\" stroke-linejoin=\"round\" style=\"fill:none;stroke:#D0D0D0;stroke-width:10.80\"/>\n\t<line x1=\"363.45\" y1=\"3111.54\" x2=\"363.45\" y2=\"125.98\" style=\"stroke:#000000;stroke-width:7.20\"/>\n\t<line x1=\"363.45\" y1=\"3032.34\" x2=\"313.46\" y2=\"3032.34\" style=\"stroke:#000000;stroke-width:7.20\"/>\n\t<text x=\"250.90\" y=\"3032.34\" style=\"font-family:'Helvetica';font-size:124.99px;fill:#000000\" transform=\"rotate(-90 250.90,3032.34)\" text-anchor=\"middle\">0</text>\n\t<line x1=\"363.45\" y1=\"2334.25\" x2=\"313.46\" y2=\"2334.25\" style=\"stroke:#000000;stroke-width:7.20\"/>\n\t<text x=\"250.90\" y=\"2334.25\" style=\"font-family:'Helvetica';font-size:124.99px;fill:#000000\" transform=\"rotate(-90 250.90,2334.25)\" text-anchor=\"middle\">20</text>\n\t<line x1=\"363.45\" y1=\"1636.27\" x2=\"313.46\" y2=\"1636.27\" style=\"stroke:#000000;stroke-width:7.20\"/>\n\t<text x=\"250.90\" y=\"1636.27\" style=\"font-family:'Helvetica';font-size:124.99px;fill:#000000\" transform=\"rotate(-90 250.90,1636.27)\" text-anchor=\"middle\">40</text>\n\t<line x1=\"363.45\" y1=\"938.18\" x2=\"313.46\" y2=\"938.18\" style=\"stroke:#000000;stroke-width:7.20\"/>\n\t<text x=\"250.90\" y=\"938.18\" style=\"font-family:'Helvetica';font-size:124.99px;fill:#000000\" transform=\"rotate(-90 250.90,938.18)\" text-anchor=\"middle\">60</text>\n\t<line x1=\"363.45\" y1=\"240.08\" x2=\"313.46\" y2=\"240.08\" style=\"stroke:#000000;stroke-width:7.20\"/>\n\t<text x=\"250.90\" y=\"240.08\" style=\"font-family:'Helvetica';font-size:124.99px;fill:#000000\" transform=\"rotate(-90 250.90,240.08)\" text-anchor=\"middle\">80</text>\n\t<line x1=\"363.45\" y1=\"3111.54\" x2=\"3833.90\" y2=\"3111.54\" style=\"stroke:#000000;stroke-width:7.20\"/>\n\t<line x1=\"442.65\" y1=\"3111.54\" x2=\"442.65\" y2=\"3161.54\" style=\"stroke:#000000;stroke-width:7.20\"/>\n\t<text x=\"442.65\" y=\"3273.97\" style=\"font-family:'Helvetica';font-size:124.99px;fill:#000000\" text-anchor=\"middle\">2008</text>\n\t<line x1=\"3754.70\" y1=\"3111.54\" x2=\"3754.70\" y2=\"3161.54\" style=\"stroke:#000000;stroke-width:7.20\"/>\n\t<text x=\"3754.70\" y=\"3273.97\" style=\"font-family:'Helvetica';font-size:124.99px;fill:#000000\" text-anchor=\"middle\">2018</text>\n\t<text x=\"2098.68\" y=\"3411.46\" style=\"font-family:'Helvetica';font-size:124.99px;fill:#000000\" text-anchor=\"middle\">year</text>\n</svg>\n",
      "application/pdf": "[encoded data removed]"
     },
     "metadata": {
      "text/html": {
       "width": 600,
       "height": 545
      },
      "image/svg+xml": {
       "width": 600,
       "height": 545
      }
     }
    },
    {
     "output_type": "stream",
     "name": "stdout",
     "text": [
      ".     global stata_kernel_graph_counter = $stata_kernel_graph_counter + 1\n",
      ". }            \n",
      "\n",
      ". qui restore\n"
     ]
    }
   ],
   "source": [
    "qui {\n",
    "preserve\n",
    "    keep year country tech_exp\n",
    "    separate tech_exp, by(country) veryshortlabel \n",
    "    sort year\n",
    "    }\n",
    "    de\n",
    "    line tech_exp* year, xlabel(2008 2018) ysize(5) leg(off)\n",
    "qui restore"
   ]
  },
  {
   "cell_type": "code",
   "execution_count": 12,
   "metadata": {},
   "outputs": [
    {
     "output_type": "stream",
     "name": "stdout",
     "text": [
      "checking egenmore consistency and verifying not already installed...\n",
      "all files already exist and are up to date.\n"
     ]
    }
   ],
   "source": [
    "ssc install egenmore"
   ]
  },
  {
   "cell_type": "code",
   "execution_count": 16,
   "metadata": {},
   "outputs": [
    {
     "output_type": "stream",
     "name": "stdout",
     "text": [
      "\n\n(108 missing values generated)\n"
     ]
    }
   ],
   "source": [
    "drop mean_tech_ex\n",
    "bysort year: egen mean_tech_ex = mean(tech_exp) if _n == 1"
   ]
  },
  {
   "cell_type": "code",
   "execution_count": 17,
   "metadata": {},
   "outputs": [
    {
     "output_type": "display_data",
     "data": {
      "text/plain": "This front-end cannot display the desired image type.",
      "text/html": "                <iframe frameborder=\"0\" scrolling=\"no\" height=\"436\" width=\"600\"                srcdoc=\"<html><body>&lt;?xml version=&quot;1.0&quot; encoding=&quot;UTF-8&quot; standalone=&quot;no&quot;?&gt;\n&lt;!-- This is a Stata 16.1 generated SVG file (http://www.stata.com) --&gt;\n\n&lt;svg version=&quot;1.1&quot; width=&quot;600px&quot; height=&quot;436px&quot; viewBox=&quot;0 0 3960 2880&quot; xmlns=&quot;http://www.w3.org/2000/svg&quot; xmlns:xlink=&quot;http://www.w3.org/1999/xlink&quot;&gt;\n\t&lt;desc&gt;Stata Graph - Graph&lt;/desc&gt;\n\t&lt;rect x=&quot;0&quot; y=&quot;0&quot; width=&quot;3960&quot; height=&quot;2880&quot; style=&quot;fill:#FFFFFF;stroke:none&quot;/&gt;\n\t&lt;rect x=&quot;0.00&quot; y=&quot;0.00&quot; width=&quot;3959.88&quot; height=&quot;2880.00&quot; style=&quot;fill:#FFFFFF&quot;/&gt;\n\t&lt;rect x=&quot;2.88&quot; y=&quot;2.88&quot; width=&quot;3954.12&quot; height=&quot;2874.24&quot; style=&quot;fill:none;stroke:#FFFFFF;stroke-width:5.76&quot;/&gt;\n\t&lt;rect x=&quot;393.68&quot; y=&quot;103.74&quot; width=&quot;3462.46&quot; height=&quot;2382.57&quot; style=&quot;fill:none;stroke:#000000;stroke-width:5.76&quot;/&gt;\n\t&lt;path d=&quot; M454.04 1871.03 L454.04 556.03 L454.04 2029.56 L454.04 1663.62 L454.04 279.31 L454.04 2170.64 L454.04 2292.42 L454.04 1247.44 L454.04 2424.09 L454.04 552.68 L454.04 1307.71 L454.04 264.59 L454.04 693.76 L454.04 260.01 L454.04 1332.46 L454.04 1459.80 L454.04 654.91 L454.04 1040.77 L454.04 2041.07 L454.04 1932.29 L454.04 2113.84 L454.04 1920.54 L454.04 2012.61 L454.04 1882.79 L454.04 1999.37 L454.04 1525.89 L454.04 1437.28 L454.04 1470.20 L454.04 1423.66 L454.04 1400.15 L454.04 1247.81 L454.04 1603.11 L454.04 2133.15 L454.04 2366.42 L454.04 2372.61 L454.04 1800.74 L454.04 2034.27 L454.04 1168.61 L454.04 1735.90 L454.04 731.76 L454.04 381.04 L454.04 1564.00 L454.04 1562.52 L454.04 2341.18 L454.04 1943.68 L454.04 802.54 L454.04 1672.41 L454.04 2030.55 L454.04 1347.56 L454.04 2167.55 L454.04 998.07 L454.04 819.00 L454.04 1059.95 L454.04 2405.03 L454.04 2079.68 L3795.66 1883.91 L3795.66 170.04 L3795.66 1776.98 L3795.66 735.96 L3795.66 1454.97 L3795.66 454.42 L3795.66 1125.54 L3795.66 1366.37 L3795.66 2002.34 L3795.66 2424.83 L3795.66 1616.10 L3795.66 916.52 L3795.66 444.77 L3795.66 1184.45 L3795.66 2078.69 L3795.66 2001.35 L3795.66 1102.52 L3795.66 2017.93 L3795.66 1438.14 L3795.66 2138.34 L3795.66 1826.24 L3795.66 1696.91 L3795.66 2169.41 L3795.66 2095.15 L3795.66 2315.68 L3795.66 2110.75 L3795.66 1239.64 L3795.66 1559.17 L3795.66 1563.63 L3795.66 2372.36 L3795.66 2372.49 L3795.66 1333.20 L3795.66 928.90 L3795.66 2291.06 L3795.66 1134.70 L3795.66 1197.81 L3795.66 1152.27 L3795.66 1984.39 L3795.66 646.74 L3795.66 2025.48 L3795.66 654.91 L3795.66 1001.05 L3795.66 1265.14 L3795.66 1624.15 L3795.66 1215.39 L3795.66 2296.38 L3795.66 1798.02 L3795.66 1445.94 L3795.66 2014.47 L3795.66 2132.40 L3795.66 1336.91 L3795.66 1175.17 L3795.66 1660.16 L3795.66 322.13 L3795.66 164.22&quot; stroke-linejoin=&quot;round&quot; style=&quot;fill:none;stroke:#606060;stroke-width:8.64&quot;/&gt;\n\t&lt;line x1=&quot;390.80&quot; y1=&quot;2489.19&quot; x2=&quot;390.80&quot; y2=&quot;100.86&quot; style=&quot;stroke:#000000;stroke-width:5.76&quot;/&gt;\n\t&lt;line x1=&quot;390.80&quot; y1=&quot;2425.82&quot; x2=&quot;350.83&quot; y2=&quot;2425.82&quot; style=&quot;stroke:#000000;stroke-width:5.76&quot;/&gt;\n\t&lt;text x=&quot;300.72&quot; y=&quot;2425.82&quot; style=&quot;font-family:&#x27;Helvetica&#x27;;font-size:99.99px;fill:#000000&quot; transform=&quot;rotate(-90 300.72,2425.82)&quot; text-anchor=&quot;middle&quot;&gt;0&lt;/text&gt;\n\t&lt;line x1=&quot;390.80&quot; y1=&quot;1867.45&quot; x2=&quot;350.83&quot; y2=&quot;1867.45&quot; style=&quot;stroke:#000000;stroke-width:5.76&quot;/&gt;\n\t&lt;text x=&quot;300.72&quot; y=&quot;1867.45&quot; style=&quot;font-family:&#x27;Helvetica&#x27;;font-size:99.99px;fill:#000000&quot; transform=&quot;rotate(-90 300.72,1867.45)&quot; text-anchor=&quot;middle&quot;&gt;20&lt;/text&gt;\n\t&lt;line x1=&quot;390.80&quot; y1=&quot;1308.94&quot; x2=&quot;350.83&quot; y2=&quot;1308.94&quot; style=&quot;stroke:#000000;stroke-width:5.76&quot;/&gt;\n\t&lt;text x=&quot;300.72&quot; y=&quot;1308.94&quot; style=&quot;font-family:&#x27;Helvetica&#x27;;font-size:99.99px;fill:#000000&quot; transform=&quot;rotate(-90 300.72,1308.94)&quot; text-anchor=&quot;middle&quot;&gt;40&lt;/text&gt;\n\t&lt;line x1=&quot;390.80&quot; y1=&quot;750.57&quot; x2=&quot;350.83&quot; y2=&quot;750.57&quot; style=&quot;stroke:#000000;stroke-width:5.76&quot;/&gt;\n\t&lt;text x=&quot;300.72&quot; y=&quot;750.57&quot; style=&quot;font-family:&#x27;Helvetica&#x27;;font-size:99.99px;fill:#000000&quot; transform=&quot;rotate(-90 300.72,750.57)&quot; text-anchor=&quot;middle&quot;&gt;60&lt;/text&gt;\n\t&lt;line x1=&quot;390.80&quot; y1=&quot;192.07&quot; x2=&quot;350.83&quot; y2=&quot;192.07&quot; style=&quot;stroke:#000000;stroke-width:5.76&quot;/&gt;\n\t&lt;text x=&quot;300.72&quot; y=&quot;192.07&quot; style=&quot;font-family:&#x27;Helvetica&#x27;;font-size:99.99px;fill:#000000&quot; transform=&quot;rotate(-90 300.72,192.07)&quot; text-anchor=&quot;middle&quot;&gt;80&lt;/text&gt;\n\t&lt;text x=&quot;190.71&quot; y=&quot;1294.96&quot; style=&quot;font-family:&#x27;Helvetica&#x27;;font-size:99.99px;fill:#000000&quot; transform=&quot;rotate(-90 190.71,1294.96)&quot; text-anchor=&quot;middle&quot;&gt;tech_exp&lt;/text&gt;\n\t&lt;line x1=&quot;390.80&quot; y1=&quot;2489.19&quot; x2=&quot;3859.02&quot; y2=&quot;2489.19&quot; style=&quot;stroke:#000000;stroke-width:5.76&quot;/&gt;\n\t&lt;line x1=&quot;454.16&quot; y1=&quot;2489.19&quot; x2=&quot;454.16&quot; y2=&quot;2529.16&quot; style=&quot;stroke:#000000;stroke-width:5.76&quot;/&gt;\n\t&lt;text x=&quot;454.16&quot; y=&quot;2619.14&quot; style=&quot;font-family:&#x27;Helvetica&#x27;;font-size:99.99px;fill:#000000&quot; text-anchor=&quot;middle&quot;&gt;2008&lt;/text&gt;\n\t&lt;line x1=&quot;1122.41&quot; y1=&quot;2489.19&quot; x2=&quot;1122.41&quot; y2=&quot;2529.16&quot; style=&quot;stroke:#000000;stroke-width:5.76&quot;/&gt;\n\t&lt;text x=&quot;1122.41&quot; y=&quot;2619.14&quot; style=&quot;font-family:&#x27;Helvetica&#x27;;font-size:99.99px;fill:#000000&quot; text-anchor=&quot;middle&quot;&gt;2010&lt;/text&gt;\n\t&lt;line x1=&quot;1790.79&quot; y1=&quot;2489.19&quot; x2=&quot;1790.79&quot; y2=&quot;2529.16&quot; style=&quot;stroke:#000000;stroke-width:5.76&quot;/&gt;\n\t&lt;text x=&quot;1790.79&quot; y=&quot;2619.14&quot; style=&quot;font-family:&#x27;Helvetica&#x27;;font-size:99.99px;fill:#000000&quot; text-anchor=&quot;middle&quot;&gt;2012&lt;/text&gt;\n\t&lt;line x1=&quot;2459.04&quot; y1=&quot;2489.19&quot; x2=&quot;2459.04&quot; y2=&quot;2529.16&quot; style=&quot;stroke:#000000;stroke-width:5.76&quot;/&gt;\n\t&lt;text x=&quot;2459.04&quot; y=&quot;2619.14&quot; style=&quot;font-family:&#x27;Helvetica&#x27;;font-size:99.99px;fill:#000000&quot; text-anchor=&quot;middle&quot;&gt;2014&lt;/text&gt;\n\t&lt;line x1=&quot;3127.41&quot; y1=&quot;2489.19&quot; x2=&quot;3127.41&quot; y2=&quot;2529.16&quot; style=&quot;stroke:#000000;stroke-width:5.76&quot;/&gt;\n\t&lt;text x=&quot;3127.41&quot; y=&quot;2619.14&quot; style=&quot;font-family:&#x27;Helvetica&#x27;;font-size:99.99px;fill:#000000&quot; text-anchor=&quot;middle&quot;&gt;2016&lt;/text&gt;\n\t&lt;line x1=&quot;3795.66&quot; y1=&quot;2489.19&quot; x2=&quot;3795.66&quot; y2=&quot;2529.16&quot; style=&quot;stroke:#000000;stroke-width:5.76&quot;/&gt;\n\t&lt;text x=&quot;3795.66&quot; y=&quot;2619.14&quot; style=&quot;font-family:&#x27;Helvetica&#x27;;font-size:99.99px;fill:#000000&quot; text-anchor=&quot;middle&quot;&gt;2018&lt;/text&gt;\n\t&lt;text x=&quot;2124.91&quot; y=&quot;2729.16&quot; style=&quot;font-family:&#x27;Helvetica&#x27;;font-size:99.99px;fill:#000000&quot; text-anchor=&quot;middle&quot;&gt;year&lt;/text&gt;\n&lt;/svg&gt;\n</body></html>\"></iframe>\n",
      "image/svg+xml": "<?xml version=\"1.0\" encoding=\"UTF-8\" standalone=\"no\"?>\n<!-- This is a Stata 16.1 generated SVG file (http://www.stata.com) -->\n\n<svg version=\"1.1\" width=\"600px\" height=\"436px\" viewBox=\"0 0 3960 2880\" xmlns=\"http://www.w3.org/2000/svg\" xmlns:xlink=\"http://www.w3.org/1999/xlink\">\n\t<desc>Stata Graph - Graph</desc>\n\t<rect x=\"0\" y=\"0\" width=\"3960\" height=\"2880\" style=\"fill:#FFFFFF;stroke:none\"/>\n\t<rect x=\"0.00\" y=\"0.00\" width=\"3959.88\" height=\"2880.00\" style=\"fill:#FFFFFF\"/>\n\t<rect x=\"2.88\" y=\"2.88\" width=\"3954.12\" height=\"2874.24\" style=\"fill:none;stroke:#FFFFFF;stroke-width:5.76\"/>\n\t<rect x=\"393.68\" y=\"103.74\" width=\"3462.46\" height=\"2382.57\" style=\"fill:none;stroke:#000000;stroke-width:5.76\"/>\n\t<path d=\" M454.04 1871.03 L454.04 556.03 L454.04 2029.56 L454.04 1663.62 L454.04 279.31 L454.04 2170.64 L454.04 2292.42 L454.04 1247.44 L454.04 2424.09 L454.04 552.68 L454.04 1307.71 L454.04 264.59 L454.04 693.76 L454.04 260.01 L454.04 1332.46 L454.04 1459.80 L454.04 654.91 L454.04 1040.77 L454.04 2041.07 L454.04 1932.29 L454.04 2113.84 L454.04 1920.54 L454.04 2012.61 L454.04 1882.79 L454.04 1999.37 L454.04 1525.89 L454.04 1437.28 L454.04 1470.20 L454.04 1423.66 L454.04 1400.15 L454.04 1247.81 L454.04 1603.11 L454.04 2133.15 L454.04 2366.42 L454.04 2372.61 L454.04 1800.74 L454.04 2034.27 L454.04 1168.61 L454.04 1735.90 L454.04 731.76 L454.04 381.04 L454.04 1564.00 L454.04 1562.52 L454.04 2341.18 L454.04 1943.68 L454.04 802.54 L454.04 1672.41 L454.04 2030.55 L454.04 1347.56 L454.04 2167.55 L454.04 998.07 L454.04 819.00 L454.04 1059.95 L454.04 2405.03 L454.04 2079.68 L3795.66 1883.91 L3795.66 170.04 L3795.66 1776.98 L3795.66 735.96 L3795.66 1454.97 L3795.66 454.42 L3795.66 1125.54 L3795.66 1366.37 L3795.66 2002.34 L3795.66 2424.83 L3795.66 1616.10 L3795.66 916.52 L3795.66 444.77 L3795.66 1184.45 L3795.66 2078.69 L3795.66 2001.35 L3795.66 1102.52 L3795.66 2017.93 L3795.66 1438.14 L3795.66 2138.34 L3795.66 1826.24 L3795.66 1696.91 L3795.66 2169.41 L3795.66 2095.15 L3795.66 2315.68 L3795.66 2110.75 L3795.66 1239.64 L3795.66 1559.17 L3795.66 1563.63 L3795.66 2372.36 L3795.66 2372.49 L3795.66 1333.20 L3795.66 928.90 L3795.66 2291.06 L3795.66 1134.70 L3795.66 1197.81 L3795.66 1152.27 L3795.66 1984.39 L3795.66 646.74 L3795.66 2025.48 L3795.66 654.91 L3795.66 1001.05 L3795.66 1265.14 L3795.66 1624.15 L3795.66 1215.39 L3795.66 2296.38 L3795.66 1798.02 L3795.66 1445.94 L3795.66 2014.47 L3795.66 2132.40 L3795.66 1336.91 L3795.66 1175.17 L3795.66 1660.16 L3795.66 322.13 L3795.66 164.22\" stroke-linejoin=\"round\" style=\"fill:none;stroke:#606060;stroke-width:8.64\"/>\n\t<line x1=\"390.80\" y1=\"2489.19\" x2=\"390.80\" y2=\"100.86\" style=\"stroke:#000000;stroke-width:5.76\"/>\n\t<line x1=\"390.80\" y1=\"2425.82\" x2=\"350.83\" y2=\"2425.82\" style=\"stroke:#000000;stroke-width:5.76\"/>\n\t<text x=\"300.72\" y=\"2425.82\" style=\"font-family:'Helvetica';font-size:99.99px;fill:#000000\" transform=\"rotate(-90 300.72,2425.82)\" text-anchor=\"middle\">0</text>\n\t<line x1=\"390.80\" y1=\"1867.45\" x2=\"350.83\" y2=\"1867.45\" style=\"stroke:#000000;stroke-width:5.76\"/>\n\t<text x=\"300.72\" y=\"1867.45\" style=\"font-family:'Helvetica';font-size:99.99px;fill:#000000\" transform=\"rotate(-90 300.72,1867.45)\" text-anchor=\"middle\">20</text>\n\t<line x1=\"390.80\" y1=\"1308.94\" x2=\"350.83\" y2=\"1308.94\" style=\"stroke:#000000;stroke-width:5.76\"/>\n\t<text x=\"300.72\" y=\"1308.94\" style=\"font-family:'Helvetica';font-size:99.99px;fill:#000000\" transform=\"rotate(-90 300.72,1308.94)\" text-anchor=\"middle\">40</text>\n\t<line x1=\"390.80\" y1=\"750.57\" x2=\"350.83\" y2=\"750.57\" style=\"stroke:#000000;stroke-width:5.76\"/>\n\t<text x=\"300.72\" y=\"750.57\" style=\"font-family:'Helvetica';font-size:99.99px;fill:#000000\" transform=\"rotate(-90 300.72,750.57)\" text-anchor=\"middle\">60</text>\n\t<line x1=\"390.80\" y1=\"192.07\" x2=\"350.83\" y2=\"192.07\" style=\"stroke:#000000;stroke-width:5.76\"/>\n\t<text x=\"300.72\" y=\"192.07\" style=\"font-family:'Helvetica';font-size:99.99px;fill:#000000\" transform=\"rotate(-90 300.72,192.07)\" text-anchor=\"middle\">80</text>\n\t<text x=\"190.71\" y=\"1294.96\" style=\"font-family:'Helvetica';font-size:99.99px;fill:#000000\" transform=\"rotate(-90 190.71,1294.96)\" text-anchor=\"middle\">tech_exp</text>\n\t<line x1=\"390.80\" y1=\"2489.19\" x2=\"3859.02\" y2=\"2489.19\" style=\"stroke:#000000;stroke-width:5.76\"/>\n\t<line x1=\"454.16\" y1=\"2489.19\" x2=\"454.16\" y2=\"2529.16\" style=\"stroke:#000000;stroke-width:5.76\"/>\n\t<text x=\"454.16\" y=\"2619.14\" style=\"font-family:'Helvetica';font-size:99.99px;fill:#000000\" text-anchor=\"middle\">2008</text>\n\t<line x1=\"1122.41\" y1=\"2489.19\" x2=\"1122.41\" y2=\"2529.16\" style=\"stroke:#000000;stroke-width:5.76\"/>\n\t<text x=\"1122.41\" y=\"2619.14\" style=\"font-family:'Helvetica';font-size:99.99px;fill:#000000\" text-anchor=\"middle\">2010</text>\n\t<line x1=\"1790.79\" y1=\"2489.19\" x2=\"1790.79\" y2=\"2529.16\" style=\"stroke:#000000;stroke-width:5.76\"/>\n\t<text x=\"1790.79\" y=\"2619.14\" style=\"font-family:'Helvetica';font-size:99.99px;fill:#000000\" text-anchor=\"middle\">2012</text>\n\t<line x1=\"2459.04\" y1=\"2489.19\" x2=\"2459.04\" y2=\"2529.16\" style=\"stroke:#000000;stroke-width:5.76\"/>\n\t<text x=\"2459.04\" y=\"2619.14\" style=\"font-family:'Helvetica';font-size:99.99px;fill:#000000\" text-anchor=\"middle\">2014</text>\n\t<line x1=\"3127.41\" y1=\"2489.19\" x2=\"3127.41\" y2=\"2529.16\" style=\"stroke:#000000;stroke-width:5.76\"/>\n\t<text x=\"3127.41\" y=\"2619.14\" style=\"font-family:'Helvetica';font-size:99.99px;fill:#000000\" text-anchor=\"middle\">2016</text>\n\t<line x1=\"3795.66\" y1=\"2489.19\" x2=\"3795.66\" y2=\"2529.16\" style=\"stroke:#000000;stroke-width:5.76\"/>\n\t<text x=\"3795.66\" y=\"2619.14\" style=\"font-family:'Helvetica';font-size:99.99px;fill:#000000\" text-anchor=\"middle\">2018</text>\n\t<text x=\"2124.91\" y=\"2729.16\" style=\"font-family:'Helvetica';font-size:99.99px;fill:#000000\" text-anchor=\"middle\">year</text>\n</svg>\n",
      "application/pdf": "[encoded data removed]"
     },
     "metadata": {
      "text/html": {
       "width": 600,
       "height": 436
      },
      "image/svg+xml": {
       "width": 600,
       "height": 436
      }
     }
    }
   ],
   "source": [
    "line tech_exp year"
   ]
  }
 ]
}