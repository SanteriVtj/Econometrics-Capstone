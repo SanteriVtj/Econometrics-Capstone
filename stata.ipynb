{
 "metadata": {
  "language_info": {
   "codemirror_mode": {
    "name": "ipython",
    "version": 3
   },
   "file_extension": ".py",
   "mimetype": "text/x-python",
   "name": "python",
   "nbconvert_exporter": "python",
   "pygments_lexer": "ipython3",
   "version": 3
  },
  "orig_nbformat": 2,
  "kernelspec": {
   "name": "stata",
   "display_name": "Stata",
   "language": "stata"
  }
 },
 "nbformat": 4,
 "nbformat_minor": 2,
 "cells": [
  {
   "cell_type": "code",
   "execution_count": 144,
   "metadata": {},
   "outputs": [
    {
     "output_type": "stream",
     "name": "stdout",
     "text": [
      "(92 vars, 132 obs)\n"
     ]
    }
   ],
   "source": [
    "import delimited \"/Users/santerivaataja/Desktop/Taloustieteen_kursseja/Econometrics/Capstone.nosync/Econometrics-Capstone/raw_data/small_master_c.csv\", clear"
   ]
  },
  {
   "cell_type": "code",
   "execution_count": 143,
   "metadata": {},
   "outputs": [],
   "source": [
    "set scheme s1mono"
   ]
  },
  {
   "source": [
    "qui {\n",
    "    gen ln_gdp = ln(gdp)\n",
    "    xtset countrycode year\n",
    "    egen civilsocietytraditions_mean = mean(civilsocietytraditions)\n",
    "    gen civilsocietytraditions_c = civilsocietytraditions - civilsocietytraditions_mean\n",
    "}"
   ],
   "cell_type": "code",
   "metadata": {},
   "execution_count": 137,
   "outputs": []
  },
  {
   "cell_type": "code",
   "execution_count": 140,
   "metadata": {},
   "outputs": [
    {
     "output_type": "stream",
     "name": "stdout",
     "text": [
      "no observations\n",
      "r(2000);\n",
      "\n"
     ]
    }
   ],
   "source": [
    "xtreg ln_gdp democracy civilsocietytraditions rol broadband life_expectancy, fe r"
   ]
  },
  {
   "cell_type": "code",
   "execution_count": 139,
   "metadata": {},
   "outputs": [
    {
     "output_type": "stream",
     "name": "stdout",
     "text": [
      "\n",
      "Linear regression                               Number of obs     =        132\n",
      "                                                F(69, 61)         =          .\n",
      "                                                Prob > F          =          .\n",
      "                                                R-squared         =     0.9824\n",
      "                                                Root MSE          =     .22912\n",
      "\n",
      "-------------------------------------------------------------------------------\n",
      "              |               Robust\n",
      "       ln_gdp |      Coef.   Std. Err.      t    P>|t|     [95% Conf. Interval]\n",
      "--------------+----------------------------------------------------------------\n",
      "    democracy |  -.0516336   .0974646    -0.53   0.598    -.2465261    .1432588\n",
      "civilsociet~s |  -.0984079   .0418084    -2.35   0.022    -.1820089   -.0148069\n",
      "          rol |   .3975796   .1262305     3.15   0.003      .145166    .6499932\n",
      "    broadband |   2.73e-09   2.01e-10    13.58   0.000     2.33e-09    3.14e-09\n",
      "life_expect~y |   .0415979   .0102166     4.07   0.000     .0211685    .0620272\n",
      "              |\n",
      "  countrycode |\n",
      "           7  |   .5822497   .2184871     2.66   0.010     .1453578    1.019142\n",
      "           8  |  -.2761872    .215449    -1.28   0.205    -.7070041    .1546297\n",
      "          12  |   .4754856   .2514325     1.89   0.063    -.0272847    .9782559\n",
      "          17  |   .6952735   .2412496     2.88   0.005     .2128651    1.177682\n",
      "          20  |  -.9033624   .2611461    -3.46   0.001    -1.425556   -.3811684\n",
      "          30  |  -1.359365   .2632039    -5.16   0.000    -1.885673   -.8330559\n",
      "          33  |  -.0643586   .2803031    -0.23   0.819    -.6248593     .496142\n",
      "          39  |  -.0659786   .3822827    -0.17   0.864    -.8304001    .6984429\n",
      "          40  |  -.2259865   .2463358    -0.92   0.363    -.7185653    .2665924\n",
      "          41  |   .1248233   .2209157     0.57   0.574    -.3169249    .5665715\n",
      "          46  |  -.2346124   .3788572    -0.62   0.538    -.9921843    .5229594\n",
      "          48  |   .7024218   .2771785     2.53   0.014     .1481692    1.256674\n",
      "          49  |   .4540315   .2395484     1.90   0.063    -.0249751    .9330381\n",
      "          52  |   .4913547   .3327791     1.48   0.145    -.1740781    1.156788\n",
      "          56  |   .3736576   .2456409     1.52   0.133    -.1175318    .8648469\n",
      "          57  |   .2842157   .2200333     1.29   0.201    -.1557681    .7241996\n",
      "          59  |  -.1184172   .2593451    -0.46   0.650    -.6370098    .4001754\n",
      "          62  |   .4667441   .3177433     1.47   0.147    -.1686229    1.102111\n",
      "          69  |  -.1577708    .236292    -0.67   0.507    -.6302659    .3147243\n",
      "          71  |  -.7985815   .2850077    -2.80   0.007     -1.36849   -.2286733\n",
      "          83  |   .4036623   .2890504     1.40   0.168    -.1743297    .9816542\n",
      "          85  |  -1.181778   .3582066    -3.30   0.002    -1.898057   -.4654999\n",
      "          86  |  -.2303874   .2633228    -0.87   0.385    -.7569339    .2961592\n",
      "          88  |   1.139753   .2666875     4.27   0.000     .6064784    1.673028\n",
      "          95  |   1.025682   .2496371     4.11   0.000     .5265018    1.524862\n",
      "          96  |  -.9430577   .2547687    -3.70   0.000    -1.452499   -.4336163\n",
      "         103  |   .6656876   .2802554     2.38   0.021     .1052823    1.226093\n",
      "         106  |  -1.152334   .2503842    -4.60   0.000    -1.653008   -.6516597\n",
      "         109  |    .615485   .2814312     2.19   0.033     .0527285    1.178241\n",
      "         113  |  -1.607912   .2161942    -7.44   0.000    -2.040219   -1.175605\n",
      "         114  |  -1.835366   .2723594    -6.74   0.000    -2.379982    -1.29075\n",
      "         117  |   -1.12885   .3006794    -3.75   0.000    -1.730096   -.5276045\n",
      "         120  |   -.208332   .2900733    -0.72   0.475    -.7883694    .3717054\n",
      "         121  |   .0784299   .3300969     0.24   0.813    -.5816397    .7384994\n",
      "         122  |   .7254241   .2215323     3.27   0.002     .2824428    1.168405\n",
      "         124  |  -.1757955   .3219049    -0.55   0.587    -.8194841    .4678931\n",
      "         126  |  -.0865711   .2724588    -0.32   0.752    -.6313861    .4582439\n",
      "         127  |   .1755602   .2152702     0.82   0.418    -.2548992    .6060195\n",
      "         129  |  -1.137459     .32043    -3.55   0.001    -1.778198   -.4967197\n",
      "         131  |   .2456907   .2930437     0.84   0.405    -.3402863    .8316677\n",
      "         136  |  -.8045225   .1997204    -4.03   0.000    -1.203888    -.405157\n",
      "         137  |  -1.314915   .2580076    -5.10   0.000    -1.830833   -.7989969\n",
      "         138  |   .5048284   .3474016     1.45   0.151    -.1898441    1.199501\n",
      "         142  |  -.7403726   .2251683    -3.29   0.002    -1.190625   -.2901207\n",
      "         144  |   .5282843   .4124278     1.28   0.205     -.296416    1.352985\n",
      "         146  |   .2571289   .2193052     1.17   0.246     -.181399    .6956568\n",
      "         147  |   .2385382   .2668795     0.89   0.375    -.2951203    .7721966\n",
      "         148  |  -.5546376   .2973852    -1.87   0.067    -1.149296    .0400208\n",
      "         149  |   .2860943   .2834591     1.01   0.317    -.2807172    .8529058\n",
      "         155  |  -1.414603   .2656735    -5.32   0.000     -1.94585   -.8833559\n",
      "         159  |  -.9172493   .2432271    -3.77   0.000    -1.403612   -.4308867\n",
      "         160  |   .2194602   .2429863     0.90   0.370    -.2664209    .7053413\n",
      "         163  |   1.225993   .4166508     2.94   0.005     .3928486    2.059138\n",
      "         166  |   .4887881   .3425599     1.43   0.159    -.1962028    1.173779\n",
      "         169  |   .4149798   .2933599     1.41   0.162    -.1716294    1.001589\n",
      "         172  |  -.7694794   .3881427    -1.98   0.052    -1.545619    .0066599\n",
      "         176  |  -.8051038   .5212769    -1.54   0.128    -1.847461    .2372539\n",
      "         187  |  -1.263616   .2877046    -4.39   0.000    -1.838916   -.6883146\n",
      "         191  |   .5095681   .2346068     2.17   0.034     .0404428    .9786935\n",
      "         192  |   1.221468    .373313     3.27   0.002     .4749826    1.967954\n",
      "         196  |   -.107564   .3213871    -0.33   0.739    -.7502172    .5350892\n",
      "         200  |   .1250727   .4139839     0.30   0.764    -.7027393    .9528846\n",
      "         202  |  -.6554112    .300273    -2.18   0.033    -1.255844   -.0549783\n",
      "         207  |  -.4811989   .3073169    -1.57   0.123    -1.095717    .1333191\n",
      "         208  |  -.5037353   .4949337    -1.02   0.313    -1.493416    .4859458\n",
      "              |\n",
      "        _cons |   6.113977   .8415329     7.27   0.000     4.431228    7.796726\n",
      "-------------------------------------------------------------------------------\n"
     ]
    }
   ],
   "source": [
    "reg ln_gdp democracy civilsocietytraditions rol broadband life_expectancy i.countrycode, r"
   ]
  },
  {
   "cell_type": "code",
   "execution_count": 127,
   "metadata": {},
   "outputs": [
    {
     "output_type": "stream",
     "name": "stdout",
     "text": [
      "\n",
      "    Variable |       VIF       1/VIF  \n",
      "-------------+----------------------\n",
      "   democracy |     10.12    0.098846\n",
      "civilsocie~s |     22.74    0.043974\n",
      "         rol |     31.27    0.031976\n",
      "   broadband |      3.28    0.304720\n",
      "life_expec~y |     12.85    0.077848\n",
      " countrycode |\n",
      "          7  |      2.89    0.346262\n",
      "          8  |      2.94    0.340151\n",
      "         12  |      2.36    0.423670\n",
      "         17  |      2.20    0.453746\n",
      "         20  |      3.69    0.271053\n",
      "         30  |      3.27    0.305917\n",
      "         33  |      3.14    0.318583\n",
      "         39  |      6.35    0.157525\n",
      "         40  |      5.32    0.187809\n",
      "         41  |      2.75    0.363961\n",
      "         46  |      4.90    0.204278\n",
      "         48  |      3.58    0.279550\n",
      "         49  |      2.37    0.422781\n",
      "         52  |      6.52    0.153472\n",
      "         56  |      2.71    0.369287\n",
      "         57  |      2.69    0.371905\n",
      "         59  |      2.66    0.375644\n",
      "         62  |      6.76    0.147966\n",
      "         69  |      3.30    0.302789\n",
      "         71  |      3.91    0.255535\n",
      "         83  |      5.63    0.177760\n",
      "         85  |      3.49    0.286423\n",
      "         86  |      2.78    0.359347\n",
      "         88  |      3.84    0.260079\n",
      "         95  |      2.28    0.439314\n",
      "         96  |      3.00    0.332967\n",
      "        103  |      5.22    0.191670\n",
      "        106  |      3.27    0.305921\n",
      "        109  |      5.24    0.190995\n",
      "        113  |      2.56    0.390479\n",
      "        114  |      3.85    0.259784\n",
      "        117  |      3.92    0.255335\n",
      "        120  |      2.99    0.334141\n",
      "        121  |      5.24    0.190934\n",
      "        122  |      2.66    0.375799\n",
      "        124  |      2.88    0.347246\n",
      "        126  |      3.16    0.316483\n",
      "        127  |      2.58    0.386972\n",
      "        129  |      3.27    0.305557\n",
      "        131  |      4.44    0.225464\n",
      "        136  |      2.19    0.457438\n",
      "        137  |      3.53    0.283006\n",
      "        138  |      4.13    0.242390\n",
      "        142  |      2.88    0.346849\n",
      "        144  |      2.96    0.337326\n",
      "        146  |      2.65    0.377342\n",
      "        147  |      2.67    0.375086\n",
      "        148  |      2.95    0.339379\n",
      "        149  |      5.29    0.189060\n",
      "        155  |      3.53    0.283047\n",
      "        159  |      3.23    0.309681\n",
      "        160  |      2.98    0.336127\n",
      "        163  |      7.23    0.138293\n",
      "        166  |      6.99    0.143084\n",
      "        169  |      4.17    0.239639\n",
      "        172  |      3.13    0.319519\n",
      "        176  |      2.54    0.393239\n",
      "        187  |      2.89    0.346364\n",
      "        191  |      2.50    0.399787\n",
      "        192  |      4.16    0.240264\n",
      "        196  |      2.78    0.359870\n",
      "        200  |      5.20    0.192401\n",
      "        202  |      2.64    0.379119\n",
      "        207  |      3.28    0.304577\n",
      "        208  |      3.49    0.286838\n",
      "-------------+----------------------\n",
      "    Mean VIF |      4.53\n"
     ]
    }
   ],
   "source": [
    "vif"
   ]
  },
  {
   "cell_type": "code",
   "execution_count": 141,
   "metadata": {},
   "outputs": [
    {
     "output_type": "display_data",
     "data": {
      "text/plain": "\n     +----------+\n     | contin~t |\n     |----------|\n  1. |        . |\n  2. |        . |\n  3. |        . |\n  4. |        . |\n  5. |        . |\n     +----------+\n\n",
      "text/html": "<div>\n<style scoped>\n    .dataframe tbody tr th:only-of-type {\n        vertical-align: middle;\n    }\n\n    .dataframe tbody tr th {\n        vertical-align: top;\n    }\n\n    .dataframe thead th {\n        text-align: right;\n    }\n</style>\n<table border=\"1\" class=\"dataframe\">\n  <thead>\n    <tr style=\"text-align: right;\">\n      <th></th>\n      <th>continentcat</th>\n    </tr>\n  </thead>\n  <tbody>\n  </tbody>\n</table>\n</div>"
     },
     "metadata": {}
    }
   ],
   "source": [
    "%browse 5 continentcat"
   ]
  },
  {
   "cell_type": "code",
   "execution_count": 27,
   "metadata": {},
   "outputs": [
    {
     "output_type": "stream",
     "name": "stdout",
     "text": [
      "\n",
      "             | democr~y civils~s      rol    trade broadb~d life_e~y tech_exp\n",
      "-------------+---------------------------------------------------------------\n",
      "   democracy |   1.0000 \n",
      "civilsocie~s |  -0.5059   1.0000 \n",
      "         rol |   0.3178  -0.6502   1.0000 \n",
      "       trade |  -0.0824  -0.1745   0.5190   1.0000 \n",
      "   broadband |   0.1410  -0.4156   0.5951   0.4695   1.0000 \n",
      "life_expec~y |   0.2572  -0.3335   0.4677   0.2816   0.6118   1.0000 \n",
      "    tech_exp |   0.1241  -0.3335   0.3223   0.2835   0.4103   0.2813   1.0000 \n",
      "   broadband |   0.1410  -0.4156   0.5951   0.4695   1.0000   0.6118   0.4103 \n",
      "\n",
      "             | broadb~d\n",
      "-------------+---------\n",
      "   broadband |   1.0000 \n"
     ]
    }
   ],
   "source": [
    "pwcorr democracy civilsocietytraditions rol trade broadband life_expectancy tech_exp broadband"
   ]
  },
  {
   "cell_type": "code",
   "execution_count": 6,
   "metadata": {},
   "outputs": [
    {
     "output_type": "stream",
     "name": "stdout",
     "text": [
      "\n",
      "\n",
      ".     de\n",
      "\n",
      "Contains data\n",
      "  obs:           110                          \n",
      " vars:            58                          \n",
      "--------------------------------------------------------------------------------\n",
      "              storage   display    value\n",
      "variable name   type    format     label      variable label\n",
      "--------------------------------------------------------------------------------\n",
      "country         str14   %14s                  \n",
      "year            int     %8.0g                 \n",
      "tech_exp        float   %9.0g                 \n",
      "tech_exp1       float   %9.0g                 algeria\n",
      "tech_exp2       float   %9.0g                 argentina\n",
      "tech_exp3       float   %9.0g                 armenia\n",
      "tech_exp4       float   %9.0g                 azerbaijan\n",
      "tech_exp5       float   %9.0g                 belarus\n",
      "tech_exp6       float   %9.0g                 cameroon\n",
      "tech_exp7       float   %9.0g                 chile\n",
      "tech_exp8       float   %9.0g                 china\n",
      "tech_exp9       float   %9.0g                 colombia\n",
      "tech_exp10      float   %9.0g                 costa rica\n",
      "tech_exp11      float   %9.0g                 croatia\n",
      "tech_exp12      float   %9.0g                 cuba\n",
      "tech_exp13      float   %9.0g                 czech republic\n",
      "tech_exp14      float   %9.0g                 ecuador\n",
      "tech_exp15      float   %9.0g                 el salvador\n",
      "tech_exp16      float   %9.0g                 estonia\n",
      "tech_exp17      float   %9.0g                 georgia\n",
      "tech_exp18      float   %9.0g                 ghana\n",
      "tech_exp19      float   %9.0g                 hungary\n",
      "tech_exp20      float   %9.0g                 india\n",
      "tech_exp21      float   %9.0g                 indonesia\n",
      "tech_exp22      float   %9.0g                 iraq\n",
      "tech_exp23      float   %9.0g                 kazakhstan\n",
      "tech_exp24      float   %9.0g                 kenya\n",
      "tech_exp25      float   %9.0g                 latvia\n",
      "tech_exp26      float   %9.0g                 lithuania\n",
      "tech_exp27      float   %9.0g                 madagascar\n",
      "tech_exp28      float   %9.0g                 malawi\n",
      "tech_exp29      float   %9.0g                 mauritius\n",
      "tech_exp30      float   %9.0g                 mexico\n",
      "tech_exp31      float   %9.0g                 moldova\n",
      "tech_exp32      float   %9.0g                 mongolia\n",
      "tech_exp33      float   %9.0g                 montenegro\n",
      "tech_exp34      float   %9.0g                 mozambique\n",
      "tech_exp35      float   %9.0g                 namibia\n",
      "tech_exp36      float   %9.0g                 nigeria\n",
      "tech_exp37      float   %9.0g                 pakistan\n",
      "tech_exp38      float   %9.0g                 panama\n",
      "tech_exp39      float   %9.0g                 paraguay\n",
      "tech_exp40      float   %9.0g                 peru\n",
      "tech_exp41      float   %9.0g                 philippines\n",
      "tech_exp42      float   %9.0g                 poland\n",
      "tech_exp43      float   %9.0g                 rwanda\n",
      "tech_exp44      float   %9.0g                 senegal\n",
      "tech_exp45      float   %9.0g                 serbia\n",
      "tech_exp46      float   %9.0g                 singapore\n",
      "tech_exp47      float   %9.0g                 slovenia\n",
      "tech_exp48      float   %9.0g                 south africa\n",
      "tech_exp49      float   %9.0g                 sri lanka\n",
      "tech_exp50      float   %9.0g                 turkey\n",
      "tech_exp51      float   %9.0g                 ukraine\n",
      "tech_exp52      float   %9.0g                 uruguay\n",
      "tech_exp53      float   %9.0g                 uzbekistan\n",
      "tech_exp54      float   %9.0g                 zambia\n",
      "tech_exp55      float   %9.0g                 zimbabwe\n",
      "--------------------------------------------------------------------------------\n",
      "Sorted by: year\n",
      "     Note: Dataset has changed since last saved.\n",
      "\n",
      ". cap noi     line tech_exp* year, xlabel(2008 2018) ysize(5) leg(off)\n",
      "\n",
      ". if _rc == 0 {\n",
      ".     noi gr export `\"/Users/santerivaataja/.stata_kernel_cache/graph$stata_kern\n",
      "> el_graph_counter.svg\"', width(600) replace\n"
     ]
    },
    {
     "output_type": "display_data",
     "data": {
      "text/plain": "This front-end cannot display the desired image type.",
      "text/html": "                <iframe frameborder=\"0\" scrolling=\"no\" height=\"545\" width=\"600\"                srcdoc=\"<html><body>&lt;?xml version=&quot;1.0&quot; encoding=&quot;UTF-8&quot; standalone=&quot;no&quot;?&gt;\n&lt;!-- This is a Stata 16.1 generated SVG file (http://www.stata.com) --&gt;\n\n&lt;svg version=&quot;1.1&quot; width=&quot;600px&quot; height=&quot;545px&quot; viewBox=&quot;0 0 3960 3600&quot; xmlns=&quot;http://www.w3.org/2000/svg&quot; xmlns:xlink=&quot;http://www.w3.org/1999/xlink&quot;&gt;\n\t&lt;desc&gt;Stata Graph - Graph&lt;/desc&gt;\n\t&lt;rect x=&quot;0&quot; y=&quot;0&quot; width=&quot;3960&quot; height=&quot;3600&quot; style=&quot;fill:#FFFFFF;stroke:none&quot;/&gt;\n\t&lt;rect x=&quot;0.00&quot; y=&quot;0.00&quot; width=&quot;3959.88&quot; height=&quot;3600.00&quot; style=&quot;fill:#FFFFFF&quot;/&gt;\n\t&lt;rect x=&quot;3.60&quot; y=&quot;3.60&quot; width=&quot;3952.68&quot; height=&quot;3592.80&quot; style=&quot;fill:none;stroke:#FFFFFF;stroke-width:7.20&quot;/&gt;\n\t&lt;rect x=&quot;367.05&quot; y=&quot;129.58&quot; width=&quot;3463.25&quot; height=&quot;2978.36&quot; style=&quot;fill:none;stroke:#000000;stroke-width:7.20&quot;/&gt;\n\t&lt;path d=&quot; M442.65 2538.07 L442.65 1634.66 L442.65 2551.31 L442.65 2250.84 L442.65 2353.55 L442.65 330.67 L442.65 2865.52 L442.65 1559.30 L442.65 1003.15 L442.65 2965.76 L442.65 2958.09 L442.65 1837.74 L442.65 695.00 L442.65 1953.08 L442.65 2709.34 L442.65 818.63 L442.65 1750.25 L442.65 867.14 L442.65 1796.53 L442.65 2415.43 L442.65 3030.11 L442.65 2713.30 L442.65 1325.03 L442.65 2079.56 L442.65 2599.57 L442.65 2338.82 L442.65 1907.29 L442.65 2499.09 L442.65 690.79 L442.65 2429.54 L442.65 2090.45 L442.65 3006.23 L442.65 2003.95 L442.65 2542.77 L442.65 2642.27 L442.65 1955.06 L442.65 2515.79 L442.65 349.11 L442.65 2400.58 L442.65 2536.95 L442.65 325.10 L442.65 1824.75 L442.65 914.66 L442.65 1684.41 L442.65 1665.48 L442.65 1460.67 L442.65 476.33 L442.65 1247.56 L442.65 1779.58 L442.65 2169.78 L442.65 1559.79 L442.65 2926.53 L442.65 1023.69 L442.65 2666.40 L442.65 1300.90 L3754.57 1954.57 L3754.57 2870.47 L3754.57 2863.79 L3754.57 2075.23 L3754.57 1549.52 L3754.57 818.63 L3754.57 2501.68 L3754.57 2247.49 L3754.57 1480.59 L3754.57 2638.43 L3754.57 2522.48 L3754.57 2020.16 L3754.57 2502.92 L3754.57 1406.83 L3754.57 2221.26 L3754.57 212.49 L3754.57 919.86 L3754.57 2965.64 L3754.57 568.03 L3754.57 2121.14 L3754.57 1161.18 L3754.57 1251.28 L3754.57 1497.17 L3754.57 205.31 L3754.57 2531.88 L3754.57 1519.33 L3754.57 1949.00 L3754.57 2965.39 L3754.57 1666.59 L3754.57 555.90 L3754.57 2030.18 L3754.57 402.70 L3754.57 1581.45 L3754.57 1378.12 L3754.57 1145.59 L3754.57 1418.34 L3754.57 2282.89 L3754.57 1818.69 L3754.57 2618.88 L3754.57 2665.41 L3754.57 1807.30 L3754.57 2518.02 L3754.57 1440.37 L3754.57 1671.05 L3754.57 2711.82 L3754.57 808.48 L3754.57 2480.40 L3754.57 1797.77 L3754.57 1468.96 L3754.57 2894.60 L3754.57 3031.10 L3754.57 1707.93 L3754.57 2598.34 L3754.57 2672.84 L3754.57 2354.79&quot; stroke-linejoin=&quot;round&quot; style=&quot;fill:none;stroke:#606060;stroke-width:10.80&quot;/&gt;\n\t&lt;path d=&quot; M442.65 3006.23 L3754.57 2894.60&quot; stroke-linejoin=&quot;round&quot; style=&quot;fill:none;stroke:#A0A0A0;stroke-width:10.80&quot;/&gt;\n\t&lt;path d=&quot; M442.65 1684.41 L3754.57 1418.34&quot; stroke-linejoin=&quot;round&quot; style=&quot;fill:none;stroke:#808080;stroke-width:10.80&quot;/&gt;\n\t&lt;path d=&quot; M442.65 1955.06 L3754.57 2518.02&quot; stroke-linejoin=&quot;round&quot; style=&quot;fill:none;stroke:#404040;stroke-width:10.80&quot;/&gt;\n\t&lt;path d=&quot; M442.65 2642.27 L3754.57 2221.26&quot; stroke-linejoin=&quot;round&quot; style=&quot;fill:none;stroke:#000000;stroke-width:10.80&quot;/&gt;\n\t&lt;path d=&quot; M442.65 1665.48 L3754.57 1671.05&quot; stroke-linejoin=&quot;round&quot; style=&quot;fill:none;stroke:#C0C0C0;stroke-width:10.80&quot;/&gt;\n\t&lt;path d=&quot; M442.65 2169.78 L3754.57 2598.34&quot; stroke-linejoin=&quot;round&quot; style=&quot;fill:none;stroke:#202020;stroke-width:10.80&quot;/&gt;\n\t&lt;path d=&quot; M442.65 2515.79 L3754.57 2711.82&quot; stroke-linejoin=&quot;round&quot; style=&quot;fill:none;stroke:#707070;stroke-width:10.80&quot;/&gt;\n\t&lt;path d=&quot; M442.65 1003.15 L3754.57 919.86&quot; stroke-linejoin=&quot;round&quot; style=&quot;fill:none;stroke:#909090;stroke-width:10.80&quot;/&gt;\n\t&lt;path d=&quot; M442.65 1824.75 L3754.57 1666.59&quot; stroke-linejoin=&quot;round&quot; style=&quot;fill:none;stroke:#B0B0B0;stroke-width:10.80&quot;/&gt;\n\t&lt;path d=&quot; M442.65 914.66 L3754.57 1251.28&quot; stroke-linejoin=&quot;round&quot; style=&quot;fill:none;stroke:#D0D0D0;stroke-width:10.80&quot;/&gt;\n\t&lt;path d=&quot; M442.65 1300.90 L3754.57 1440.37&quot; stroke-linejoin=&quot;round&quot; style=&quot;fill:none;stroke:#505050;stroke-width:10.80&quot;/&gt;\n\t&lt;path d=&quot; M442.65 818.63 L3754.57 818.63&quot; stroke-linejoin=&quot;round&quot; style=&quot;fill:none;stroke:#303030;stroke-width:10.80&quot;/&gt;\n\t&lt;path d=&quot; M442.65 695.00 L3754.57 555.90&quot; stroke-linejoin=&quot;round&quot; style=&quot;fill:none;stroke:#C0C0C0;stroke-width:10.80&quot;/&gt;\n\t&lt;path d=&quot; M442.65 2338.82 L3754.57 2618.88&quot; stroke-linejoin=&quot;round&quot; style=&quot;fill:none;stroke:#505050;stroke-width:10.80&quot;/&gt;\n\t&lt;path d=&quot; M442.65 2353.55 L3754.57 2502.92&quot; stroke-linejoin=&quot;round&quot; style=&quot;fill:none;stroke:#606060;stroke-width:10.80&quot;/&gt;\n\t&lt;path d=&quot; M442.65 1559.79 L3754.57 1378.12&quot; stroke-linejoin=&quot;round&quot; style=&quot;fill:none;stroke:#A0A0A0;stroke-width:10.80&quot;/&gt;\n\t&lt;path d=&quot; M442.65 1325.03 L3754.57 1949.00&quot; stroke-linejoin=&quot;round&quot; style=&quot;fill:none;stroke:#808080;stroke-width:10.80&quot;/&gt;\n\t&lt;path d=&quot; M442.65 2400.58 L3754.57 2501.68&quot; stroke-linejoin=&quot;round&quot; style=&quot;fill:none;stroke:#404040;stroke-width:10.80&quot;/&gt;\n\t&lt;path d=&quot; M442.65 330.67 L3754.57 402.70&quot; stroke-linejoin=&quot;round&quot; style=&quot;fill:none;stroke:#000000;stroke-width:10.80&quot;/&gt;\n\t&lt;path d=&quot; M442.65 2079.56 L3754.57 1818.69&quot; stroke-linejoin=&quot;round&quot; style=&quot;fill:none;stroke:#C0C0C0;stroke-width:10.80&quot;/&gt;\n\t&lt;path d=&quot; M442.65 2003.95 L3754.57 2030.18&quot; stroke-linejoin=&quot;round&quot; style=&quot;fill:none;stroke:#202020;stroke-width:10.80&quot;/&gt;\n\t&lt;path d=&quot; M442.65 3030.11 L3754.57 3031.10&quot; stroke-linejoin=&quot;round&quot; style=&quot;fill:none;stroke:#707070;stroke-width:10.80&quot;/&gt;\n\t&lt;path d=&quot; M442.65 1796.53 L3754.57 1807.30&quot; stroke-linejoin=&quot;round&quot; style=&quot;fill:none;stroke:#909090;stroke-width:10.80&quot;/&gt;\n\t&lt;path d=&quot; M442.65 2415.43 L3754.57 2282.89&quot; stroke-linejoin=&quot;round&quot; style=&quot;fill:none;stroke:#B0B0B0;stroke-width:10.80&quot;/&gt;\n\t&lt;path d=&quot; M442.65 1837.74 L3754.57 1519.33&quot; stroke-linejoin=&quot;round&quot; style=&quot;fill:none;stroke:#D0D0D0;stroke-width:10.80&quot;/&gt;\n\t&lt;path d=&quot; M442.65 1634.66 L3754.57 1549.52&quot; stroke-linejoin=&quot;round&quot; style=&quot;fill:none;stroke:#505050;stroke-width:10.80&quot;/&gt;\n\t&lt;path d=&quot; M442.65 2958.09 L3754.57 2870.47&quot; stroke-linejoin=&quot;round&quot; style=&quot;fill:none;stroke:#303030;stroke-width:10.80&quot;/&gt;\n\t&lt;path d=&quot; M442.65 2499.09 L3754.57 1581.45&quot; stroke-linejoin=&quot;round&quot; style=&quot;fill:none;stroke:#C0C0C0;stroke-width:10.80&quot;/&gt;\n\t&lt;path d=&quot; M442.65 2599.57 L3754.57 2531.88&quot; stroke-linejoin=&quot;round&quot; style=&quot;fill:none;stroke:#505050;stroke-width:10.80&quot;/&gt;\n\t&lt;path d=&quot; M442.65 349.11 L3754.57 205.31&quot; stroke-linejoin=&quot;round&quot; style=&quot;fill:none;stroke:#606060;stroke-width:10.80&quot;/&gt;\n\t&lt;path d=&quot; M442.65 2536.95 L3754.57 1707.93&quot; stroke-linejoin=&quot;round&quot; style=&quot;fill:none;stroke:#A0A0A0;stroke-width:10.80&quot;/&gt;\n\t&lt;path d=&quot; M442.65 2965.76 L3754.57 2965.39&quot; stroke-linejoin=&quot;round&quot; style=&quot;fill:none;stroke:#808080;stroke-width:10.80&quot;/&gt;\n\t&lt;path d=&quot; M442.65 2090.45 L3754.57 2121.14&quot; stroke-linejoin=&quot;round&quot; style=&quot;fill:none;stroke:#404040;stroke-width:10.80&quot;/&gt;\n\t&lt;path d=&quot; M442.65 1779.58 L3754.57 2480.40&quot; stroke-linejoin=&quot;round&quot; style=&quot;fill:none;stroke:#000000;stroke-width:10.80&quot;/&gt;\n\t&lt;path d=&quot; M442.65 2551.31 L3754.57 2965.64&quot; stroke-linejoin=&quot;round&quot; style=&quot;fill:none;stroke:#C0C0C0;stroke-width:10.80&quot;/&gt;\n\t&lt;path d=&quot; M442.65 476.33 L3754.57 1161.18&quot; stroke-linejoin=&quot;round&quot; style=&quot;fill:none;stroke:#202020;stroke-width:10.80&quot;/&gt;\n\t&lt;path d=&quot; M442.65 2713.30 L3754.57 2672.84&quot; stroke-linejoin=&quot;round&quot; style=&quot;fill:none;stroke:#707070;stroke-width:10.80&quot;/&gt;\n\t&lt;path d=&quot; M442.65 2542.77 L3754.57 1497.17&quot; stroke-linejoin=&quot;round&quot; style=&quot;fill:none;stroke:#909090;stroke-width:10.80&quot;/&gt;\n\t&lt;path d=&quot; M442.65 2666.40 L3754.57 1954.57&quot; stroke-linejoin=&quot;round&quot; style=&quot;fill:none;stroke:#B0B0B0;stroke-width:10.80&quot;/&gt;\n\t&lt;path d=&quot; M442.65 2865.52 L3754.57 2863.79&quot; stroke-linejoin=&quot;round&quot; style=&quot;fill:none;stroke:#D0D0D0;stroke-width:10.80&quot;/&gt;\n\t&lt;path d=&quot; M442.65 325.10 L3754.57 212.49&quot; stroke-linejoin=&quot;round&quot; style=&quot;fill:none;stroke:#505050;stroke-width:10.80&quot;/&gt;\n\t&lt;path d=&quot; M442.65 1023.69 L3754.57 1145.59&quot; stroke-linejoin=&quot;round&quot; style=&quot;fill:none;stroke:#303030;stroke-width:10.80&quot;/&gt;\n\t&lt;path d=&quot; M442.65 2926.53 L3754.57 2638.43&quot; stroke-linejoin=&quot;round&quot; style=&quot;fill:none;stroke:#C0C0C0;stroke-width:10.80&quot;/&gt;\n\t&lt;path d=&quot; M442.65 2429.54 L3754.57 2522.48&quot; stroke-linejoin=&quot;round&quot; style=&quot;fill:none;stroke:#505050;stroke-width:10.80&quot;/&gt;\n\t&lt;path d=&quot; M442.65 1907.29 L3754.57 1468.96&quot; stroke-linejoin=&quot;round&quot; style=&quot;fill:none;stroke:#606060;stroke-width:10.80&quot;/&gt;\n\t&lt;path d=&quot; M442.65 690.79 L3754.57 568.03&quot; stroke-linejoin=&quot;round&quot; style=&quot;fill:none;stroke:#A0A0A0;stroke-width:10.80&quot;/&gt;\n\t&lt;path d=&quot; M442.65 867.14 L3754.57 808.48&quot; stroke-linejoin=&quot;round&quot; style=&quot;fill:none;stroke:#808080;stroke-width:10.80&quot;/&gt;\n\t&lt;path d=&quot; M442.65 1247.56 L3754.57 1406.83&quot; stroke-linejoin=&quot;round&quot; style=&quot;fill:none;stroke:#404040;stroke-width:10.80&quot;/&gt;\n\t&lt;path d=&quot; M442.65 2709.34 L3754.57 2665.41&quot; stroke-linejoin=&quot;round&quot; style=&quot;fill:none;stroke:#000000;stroke-width:10.80&quot;/&gt;\n\t&lt;path d=&quot; M442.65 1559.30 L3754.57 1480.59&quot; stroke-linejoin=&quot;round&quot; style=&quot;fill:none;stroke:#C0C0C0;stroke-width:10.80&quot;/&gt;\n\t&lt;path d=&quot; M442.65 1460.67 L3754.57 1797.77&quot; stroke-linejoin=&quot;round&quot; style=&quot;fill:none;stroke:#202020;stroke-width:10.80&quot;/&gt;\n\t&lt;path d=&quot; M442.65 2250.84 L3754.57 2247.49&quot; stroke-linejoin=&quot;round&quot; style=&quot;fill:none;stroke:#707070;stroke-width:10.80&quot;/&gt;\n\t&lt;path d=&quot; M442.65 1750.25 L3754.57 2020.16&quot; stroke-linejoin=&quot;round&quot; style=&quot;fill:none;stroke:#909090;stroke-width:10.80&quot;/&gt;\n\t&lt;path d=&quot; M442.65 2538.07 L3754.57 2075.23&quot; stroke-linejoin=&quot;round&quot; style=&quot;fill:none;stroke:#B0B0B0;stroke-width:10.80&quot;/&gt;\n\t&lt;path d=&quot; M442.65 1953.08 L3754.57 2354.79&quot; stroke-linejoin=&quot;round&quot; style=&quot;fill:none;stroke:#D0D0D0;stroke-width:10.80&quot;/&gt;\n\t&lt;line x1=&quot;363.45&quot; y1=&quot;3111.54&quot; x2=&quot;363.45&quot; y2=&quot;125.98&quot; style=&quot;stroke:#000000;stroke-width:7.20&quot;/&gt;\n\t&lt;line x1=&quot;363.45&quot; y1=&quot;3032.34&quot; x2=&quot;313.46&quot; y2=&quot;3032.34&quot; style=&quot;stroke:#000000;stroke-width:7.20&quot;/&gt;\n\t&lt;text x=&quot;250.90&quot; y=&quot;3032.34&quot; style=&quot;font-family:&#x27;Helvetica&#x27;;font-size:124.99px;fill:#000000&quot; transform=&quot;rotate(-90 250.90,3032.34)&quot; text-anchor=&quot;middle&quot;&gt;0&lt;/text&gt;\n\t&lt;line x1=&quot;363.45&quot; y1=&quot;2334.25&quot; x2=&quot;313.46&quot; y2=&quot;2334.25&quot; style=&quot;stroke:#000000;stroke-width:7.20&quot;/&gt;\n\t&lt;text x=&quot;250.90&quot; y=&quot;2334.25&quot; style=&quot;font-family:&#x27;Helvetica&#x27;;font-size:124.99px;fill:#000000&quot; transform=&quot;rotate(-90 250.90,2334.25)&quot; text-anchor=&quot;middle&quot;&gt;20&lt;/text&gt;\n\t&lt;line x1=&quot;363.45&quot; y1=&quot;1636.27&quot; x2=&quot;313.46&quot; y2=&quot;1636.27&quot; style=&quot;stroke:#000000;stroke-width:7.20&quot;/&gt;\n\t&lt;text x=&quot;250.90&quot; y=&quot;1636.27&quot; style=&quot;font-family:&#x27;Helvetica&#x27;;font-size:124.99px;fill:#000000&quot; transform=&quot;rotate(-90 250.90,1636.27)&quot; text-anchor=&quot;middle&quot;&gt;40&lt;/text&gt;\n\t&lt;line x1=&quot;363.45&quot; y1=&quot;938.18&quot; x2=&quot;313.46&quot; y2=&quot;938.18&quot; style=&quot;stroke:#000000;stroke-width:7.20&quot;/&gt;\n\t&lt;text x=&quot;250.90&quot; y=&quot;938.18&quot; style=&quot;font-family:&#x27;Helvetica&#x27;;font-size:124.99px;fill:#000000&quot; transform=&quot;rotate(-90 250.90,938.18)&quot; text-anchor=&quot;middle&quot;&gt;60&lt;/text&gt;\n\t&lt;line x1=&quot;363.45&quot; y1=&quot;240.08&quot; x2=&quot;313.46&quot; y2=&quot;240.08&quot; style=&quot;stroke:#000000;stroke-width:7.20&quot;/&gt;\n\t&lt;text x=&quot;250.90&quot; y=&quot;240.08&quot; style=&quot;font-family:&#x27;Helvetica&#x27;;font-size:124.99px;fill:#000000&quot; transform=&quot;rotate(-90 250.90,240.08)&quot; text-anchor=&quot;middle&quot;&gt;80&lt;/text&gt;\n\t&lt;line x1=&quot;363.45&quot; y1=&quot;3111.54&quot; x2=&quot;3833.90&quot; y2=&quot;3111.54&quot; style=&quot;stroke:#000000;stroke-width:7.20&quot;/&gt;\n\t&lt;line x1=&quot;442.65&quot; y1=&quot;3111.54&quot; x2=&quot;442.65&quot; y2=&quot;3161.54&quot; style=&quot;stroke:#000000;stroke-width:7.20&quot;/&gt;\n\t&lt;text x=&quot;442.65&quot; y=&quot;3273.97&quot; style=&quot;font-family:&#x27;Helvetica&#x27;;font-size:124.99px;fill:#000000&quot; text-anchor=&quot;middle&quot;&gt;2008&lt;/text&gt;\n\t&lt;line x1=&quot;3754.70&quot; y1=&quot;3111.54&quot; x2=&quot;3754.70&quot; y2=&quot;3161.54&quot; style=&quot;stroke:#000000;stroke-width:7.20&quot;/&gt;\n\t&lt;text x=&quot;3754.70&quot; y=&quot;3273.97&quot; style=&quot;font-family:&#x27;Helvetica&#x27;;font-size:124.99px;fill:#000000&quot; text-anchor=&quot;middle&quot;&gt;2018&lt;/text&gt;\n\t&lt;text x=&quot;2098.68&quot; y=&quot;3411.46&quot; style=&quot;font-family:&#x27;Helvetica&#x27;;font-size:124.99px;fill:#000000&quot; text-anchor=&quot;middle&quot;&gt;year&lt;/text&gt;\n&lt;/svg&gt;\n</body></html>\"></iframe>\n",
      "image/svg+xml": "<?xml version=\"1.0\" encoding=\"UTF-8\" standalone=\"no\"?>\n<!-- This is a Stata 16.1 generated SVG file (http://www.stata.com) -->\n\n<svg version=\"1.1\" width=\"600px\" height=\"545px\" viewBox=\"0 0 3960 3600\" xmlns=\"http://www.w3.org/2000/svg\" xmlns:xlink=\"http://www.w3.org/1999/xlink\">\n\t<desc>Stata Graph - Graph</desc>\n\t<rect x=\"0\" y=\"0\" width=\"3960\" height=\"3600\" style=\"fill:#FFFFFF;stroke:none\"/>\n\t<rect x=\"0.00\" y=\"0.00\" width=\"3959.88\" height=\"3600.00\" style=\"fill:#FFFFFF\"/>\n\t<rect x=\"3.60\" y=\"3.60\" width=\"3952.68\" height=\"3592.80\" style=\"fill:none;stroke:#FFFFFF;stroke-width:7.20\"/>\n\t<rect x=\"367.05\" y=\"129.58\" width=\"3463.25\" height=\"2978.36\" style=\"fill:none;stroke:#000000;stroke-width:7.20\"/>\n\t<path d=\" M442.65 2538.07 L442.65 1634.66 L442.65 2551.31 L442.65 2250.84 L442.65 2353.55 L442.65 330.67 L442.65 2865.52 L442.65 1559.30 L442.65 1003.15 L442.65 2965.76 L442.65 2958.09 L442.65 1837.74 L442.65 695.00 L442.65 1953.08 L442.65 2709.34 L442.65 818.63 L442.65 1750.25 L442.65 867.14 L442.65 1796.53 L442.65 2415.43 L442.65 3030.11 L442.65 2713.30 L442.65 1325.03 L442.65 2079.56 L442.65 2599.57 L442.65 2338.82 L442.65 1907.29 L442.65 2499.09 L442.65 690.79 L442.65 2429.54 L442.65 2090.45 L442.65 3006.23 L442.65 2003.95 L442.65 2542.77 L442.65 2642.27 L442.65 1955.06 L442.65 2515.79 L442.65 349.11 L442.65 2400.58 L442.65 2536.95 L442.65 325.10 L442.65 1824.75 L442.65 914.66 L442.65 1684.41 L442.65 1665.48 L442.65 1460.67 L442.65 476.33 L442.65 1247.56 L442.65 1779.58 L442.65 2169.78 L442.65 1559.79 L442.65 2926.53 L442.65 1023.69 L442.65 2666.40 L442.65 1300.90 L3754.57 1954.57 L3754.57 2870.47 L3754.57 2863.79 L3754.57 2075.23 L3754.57 1549.52 L3754.57 818.63 L3754.57 2501.68 L3754.57 2247.49 L3754.57 1480.59 L3754.57 2638.43 L3754.57 2522.48 L3754.57 2020.16 L3754.57 2502.92 L3754.57 1406.83 L3754.57 2221.26 L3754.57 212.49 L3754.57 919.86 L3754.57 2965.64 L3754.57 568.03 L3754.57 2121.14 L3754.57 1161.18 L3754.57 1251.28 L3754.57 1497.17 L3754.57 205.31 L3754.57 2531.88 L3754.57 1519.33 L3754.57 1949.00 L3754.57 2965.39 L3754.57 1666.59 L3754.57 555.90 L3754.57 2030.18 L3754.57 402.70 L3754.57 1581.45 L3754.57 1378.12 L3754.57 1145.59 L3754.57 1418.34 L3754.57 2282.89 L3754.57 1818.69 L3754.57 2618.88 L3754.57 2665.41 L3754.57 1807.30 L3754.57 2518.02 L3754.57 1440.37 L3754.57 1671.05 L3754.57 2711.82 L3754.57 808.48 L3754.57 2480.40 L3754.57 1797.77 L3754.57 1468.96 L3754.57 2894.60 L3754.57 3031.10 L3754.57 1707.93 L3754.57 2598.34 L3754.57 2672.84 L3754.57 2354.79\" stroke-linejoin=\"round\" style=\"fill:none;stroke:#606060;stroke-width:10.80\"/>\n\t<path d=\" M442.65 3006.23 L3754.57 2894.60\" stroke-linejoin=\"round\" style=\"fill:none;stroke:#A0A0A0;stroke-width:10.80\"/>\n\t<path d=\" M442.65 1684.41 L3754.57 1418.34\" stroke-linejoin=\"round\" style=\"fill:none;stroke:#808080;stroke-width:10.80\"/>\n\t<path d=\" M442.65 1955.06 L3754.57 2518.02\" stroke-linejoin=\"round\" style=\"fill:none;stroke:#404040;stroke-width:10.80\"/>\n\t<path d=\" M442.65 2642.27 L3754.57 2221.26\" stroke-linejoin=\"round\" style=\"fill:none;stroke:#000000;stroke-width:10.80\"/>\n\t<path d=\" M442.65 1665.48 L3754.57 1671.05\" stroke-linejoin=\"round\" style=\"fill:none;stroke:#C0C0C0;stroke-width:10.80\"/>\n\t<path d=\" M442.65 2169.78 L3754.57 2598.34\" stroke-linejoin=\"round\" style=\"fill:none;stroke:#202020;stroke-width:10.80\"/>\n\t<path d=\" M442.65 2515.79 L3754.57 2711.82\" stroke-linejoin=\"round\" style=\"fill:none;stroke:#707070;stroke-width:10.80\"/>\n\t<path d=\" M442.65 1003.15 L3754.57 919.86\" stroke-linejoin=\"round\" style=\"fill:none;stroke:#909090;stroke-width:10.80\"/>\n\t<path d=\" M442.65 1824.75 L3754.57 1666.59\" stroke-linejoin=\"round\" style=\"fill:none;stroke:#B0B0B0;stroke-width:10.80\"/>\n\t<path d=\" M442.65 914.66 L3754.57 1251.28\" stroke-linejoin=\"round\" style=\"fill:none;stroke:#D0D0D0;stroke-width:10.80\"/>\n\t<path d=\" M442.65 1300.90 L3754.57 1440.37\" stroke-linejoin=\"round\" style=\"fill:none;stroke:#505050;stroke-width:10.80\"/>\n\t<path d=\" M442.65 818.63 L3754.57 818.63\" stroke-linejoin=\"round\" style=\"fill:none;stroke:#303030;stroke-width:10.80\"/>\n\t<path d=\" M442.65 695.00 L3754.57 555.90\" stroke-linejoin=\"round\" style=\"fill:none;stroke:#C0C0C0;stroke-width:10.80\"/>\n\t<path d=\" M442.65 2338.82 L3754.57 2618.88\" stroke-linejoin=\"round\" style=\"fill:none;stroke:#505050;stroke-width:10.80\"/>\n\t<path d=\" M442.65 2353.55 L3754.57 2502.92\" stroke-linejoin=\"round\" style=\"fill:none;stroke:#606060;stroke-width:10.80\"/>\n\t<path d=\" M442.65 1559.79 L3754.57 1378.12\" stroke-linejoin=\"round\" style=\"fill:none;stroke:#A0A0A0;stroke-width:10.80\"/>\n\t<path d=\" M442.65 1325.03 L3754.57 1949.00\" stroke-linejoin=\"round\" style=\"fill:none;stroke:#808080;stroke-width:10.80\"/>\n\t<path d=\" M442.65 2400.58 L3754.57 2501.68\" stroke-linejoin=\"round\" style=\"fill:none;stroke:#404040;stroke-width:10.80\"/>\n\t<path d=\" M442.65 330.67 L3754.57 402.70\" stroke-linejoin=\"round\" style=\"fill:none;stroke:#000000;stroke-width:10.80\"/>\n\t<path d=\" M442.65 2079.56 L3754.57 1818.69\" stroke-linejoin=\"round\" style=\"fill:none;stroke:#C0C0C0;stroke-width:10.80\"/>\n\t<path d=\" M442.65 2003.95 L3754.57 2030.18\" stroke-linejoin=\"round\" style=\"fill:none;stroke:#202020;stroke-width:10.80\"/>\n\t<path d=\" M442.65 3030.11 L3754.57 3031.10\" stroke-linejoin=\"round\" style=\"fill:none;stroke:#707070;stroke-width:10.80\"/>\n\t<path d=\" M442.65 1796.53 L3754.57 1807.30\" stroke-linejoin=\"round\" style=\"fill:none;stroke:#909090;stroke-width:10.80\"/>\n\t<path d=\" M442.65 2415.43 L3754.57 2282.89\" stroke-linejoin=\"round\" style=\"fill:none;stroke:#B0B0B0;stroke-width:10.80\"/>\n\t<path d=\" M442.65 1837.74 L3754.57 1519.33\" stroke-linejoin=\"round\" style=\"fill:none;stroke:#D0D0D0;stroke-width:10.80\"/>\n\t<path d=\" M442.65 1634.66 L3754.57 1549.52\" stroke-linejoin=\"round\" style=\"fill:none;stroke:#505050;stroke-width:10.80\"/>\n\t<path d=\" M442.65 2958.09 L3754.57 2870.47\" stroke-linejoin=\"round\" style=\"fill:none;stroke:#303030;stroke-width:10.80\"/>\n\t<path d=\" M442.65 2499.09 L3754.57 1581.45\" stroke-linejoin=\"round\" style=\"fill:none;stroke:#C0C0C0;stroke-width:10.80\"/>\n\t<path d=\" M442.65 2599.57 L3754.57 2531.88\" stroke-linejoin=\"round\" style=\"fill:none;stroke:#505050;stroke-width:10.80\"/>\n\t<path d=\" M442.65 349.11 L3754.57 205.31\" stroke-linejoin=\"round\" style=\"fill:none;stroke:#606060;stroke-width:10.80\"/>\n\t<path d=\" M442.65 2536.95 L3754.57 1707.93\" stroke-linejoin=\"round\" style=\"fill:none;stroke:#A0A0A0;stroke-width:10.80\"/>\n\t<path d=\" M442.65 2965.76 L3754.57 2965.39\" stroke-linejoin=\"round\" style=\"fill:none;stroke:#808080;stroke-width:10.80\"/>\n\t<path d=\" M442.65 2090.45 L3754.57 2121.14\" stroke-linejoin=\"round\" style=\"fill:none;stroke:#404040;stroke-width:10.80\"/>\n\t<path d=\" M442.65 1779.58 L3754.57 2480.40\" stroke-linejoin=\"round\" style=\"fill:none;stroke:#000000;stroke-width:10.80\"/>\n\t<path d=\" M442.65 2551.31 L3754.57 2965.64\" stroke-linejoin=\"round\" style=\"fill:none;stroke:#C0C0C0;stroke-width:10.80\"/>\n\t<path d=\" M442.65 476.33 L3754.57 1161.18\" stroke-linejoin=\"round\" style=\"fill:none;stroke:#202020;stroke-width:10.80\"/>\n\t<path d=\" M442.65 2713.30 L3754.57 2672.84\" stroke-linejoin=\"round\" style=\"fill:none;stroke:#707070;stroke-width:10.80\"/>\n\t<path d=\" M442.65 2542.77 L3754.57 1497.17\" stroke-linejoin=\"round\" style=\"fill:none;stroke:#909090;stroke-width:10.80\"/>\n\t<path d=\" M442.65 2666.40 L3754.57 1954.57\" stroke-linejoin=\"round\" style=\"fill:none;stroke:#B0B0B0;stroke-width:10.80\"/>\n\t<path d=\" M442.65 2865.52 L3754.57 2863.79\" stroke-linejoin=\"round\" style=\"fill:none;stroke:#D0D0D0;stroke-width:10.80\"/>\n\t<path d=\" M442.65 325.10 L3754.57 212.49\" stroke-linejoin=\"round\" style=\"fill:none;stroke:#505050;stroke-width:10.80\"/>\n\t<path d=\" M442.65 1023.69 L3754.57 1145.59\" stroke-linejoin=\"round\" style=\"fill:none;stroke:#303030;stroke-width:10.80\"/>\n\t<path d=\" M442.65 2926.53 L3754.57 2638.43\" stroke-linejoin=\"round\" style=\"fill:none;stroke:#C0C0C0;stroke-width:10.80\"/>\n\t<path d=\" M442.65 2429.54 L3754.57 2522.48\" stroke-linejoin=\"round\" style=\"fill:none;stroke:#505050;stroke-width:10.80\"/>\n\t<path d=\" M442.65 1907.29 L3754.57 1468.96\" stroke-linejoin=\"round\" style=\"fill:none;stroke:#606060;stroke-width:10.80\"/>\n\t<path d=\" M442.65 690.79 L3754.57 568.03\" stroke-linejoin=\"round\" style=\"fill:none;stroke:#A0A0A0;stroke-width:10.80\"/>\n\t<path d=\" M442.65 867.14 L3754.57 808.48\" stroke-linejoin=\"round\" style=\"fill:none;stroke:#808080;stroke-width:10.80\"/>\n\t<path d=\" M442.65 1247.56 L3754.57 1406.83\" stroke-linejoin=\"round\" style=\"fill:none;stroke:#404040;stroke-width:10.80\"/>\n\t<path d=\" M442.65 2709.34 L3754.57 2665.41\" stroke-linejoin=\"round\" style=\"fill:none;stroke:#000000;stroke-width:10.80\"/>\n\t<path d=\" M442.65 1559.30 L3754.57 1480.59\" stroke-linejoin=\"round\" style=\"fill:none;stroke:#C0C0C0;stroke-width:10.80\"/>\n\t<path d=\" M442.65 1460.67 L3754.57 1797.77\" stroke-linejoin=\"round\" style=\"fill:none;stroke:#202020;stroke-width:10.80\"/>\n\t<path d=\" M442.65 2250.84 L3754.57 2247.49\" stroke-linejoin=\"round\" style=\"fill:none;stroke:#707070;stroke-width:10.80\"/>\n\t<path d=\" M442.65 1750.25 L3754.57 2020.16\" stroke-linejoin=\"round\" style=\"fill:none;stroke:#909090;stroke-width:10.80\"/>\n\t<path d=\" M442.65 2538.07 L3754.57 2075.23\" stroke-linejoin=\"round\" style=\"fill:none;stroke:#B0B0B0;stroke-width:10.80\"/>\n\t<path d=\" M442.65 1953.08 L3754.57 2354.79\" stroke-linejoin=\"round\" style=\"fill:none;stroke:#D0D0D0;stroke-width:10.80\"/>\n\t<line x1=\"363.45\" y1=\"3111.54\" x2=\"363.45\" y2=\"125.98\" style=\"stroke:#000000;stroke-width:7.20\"/>\n\t<line x1=\"363.45\" y1=\"3032.34\" x2=\"313.46\" y2=\"3032.34\" style=\"stroke:#000000;stroke-width:7.20\"/>\n\t<text x=\"250.90\" y=\"3032.34\" style=\"font-family:'Helvetica';font-size:124.99px;fill:#000000\" transform=\"rotate(-90 250.90,3032.34)\" text-anchor=\"middle\">0</text>\n\t<line x1=\"363.45\" y1=\"2334.25\" x2=\"313.46\" y2=\"2334.25\" style=\"stroke:#000000;stroke-width:7.20\"/>\n\t<text x=\"250.90\" y=\"2334.25\" style=\"font-family:'Helvetica';font-size:124.99px;fill:#000000\" transform=\"rotate(-90 250.90,2334.25)\" text-anchor=\"middle\">20</text>\n\t<line x1=\"363.45\" y1=\"1636.27\" x2=\"313.46\" y2=\"1636.27\" style=\"stroke:#000000;stroke-width:7.20\"/>\n\t<text x=\"250.90\" y=\"1636.27\" style=\"font-family:'Helvetica';font-size:124.99px;fill:#000000\" transform=\"rotate(-90 250.90,1636.27)\" text-anchor=\"middle\">40</text>\n\t<line x1=\"363.45\" y1=\"938.18\" x2=\"313.46\" y2=\"938.18\" style=\"stroke:#000000;stroke-width:7.20\"/>\n\t<text x=\"250.90\" y=\"938.18\" style=\"font-family:'Helvetica';font-size:124.99px;fill:#000000\" transform=\"rotate(-90 250.90,938.18)\" text-anchor=\"middle\">60</text>\n\t<line x1=\"363.45\" y1=\"240.08\" x2=\"313.46\" y2=\"240.08\" style=\"stroke:#000000;stroke-width:7.20\"/>\n\t<text x=\"250.90\" y=\"240.08\" style=\"font-family:'Helvetica';font-size:124.99px;fill:#000000\" transform=\"rotate(-90 250.90,240.08)\" text-anchor=\"middle\">80</text>\n\t<line x1=\"363.45\" y1=\"3111.54\" x2=\"3833.90\" y2=\"3111.54\" style=\"stroke:#000000;stroke-width:7.20\"/>\n\t<line x1=\"442.65\" y1=\"3111.54\" x2=\"442.65\" y2=\"3161.54\" style=\"stroke:#000000;stroke-width:7.20\"/>\n\t<text x=\"442.65\" y=\"3273.97\" style=\"font-family:'Helvetica';font-size:124.99px;fill:#000000\" text-anchor=\"middle\">2008</text>\n\t<line x1=\"3754.70\" y1=\"3111.54\" x2=\"3754.70\" y2=\"3161.54\" style=\"stroke:#000000;stroke-width:7.20\"/>\n\t<text x=\"3754.70\" y=\"3273.97\" style=\"font-family:'Helvetica';font-size:124.99px;fill:#000000\" text-anchor=\"middle\">2018</text>\n\t<text x=\"2098.68\" y=\"3411.46\" style=\"font-family:'Helvetica';font-size:124.99px;fill:#000000\" text-anchor=\"middle\">year</text>\n</svg>\n",
      "application/pdf": "[encoded data removed]"
     },
     "metadata": {
      "text/html": {
       "width": 600,
       "height": 545
      },
      "image/svg+xml": {
       "width": 600,
       "height": 545
      }
     }
    },
    {
     "output_type": "stream",
     "name": "stdout",
     "text": [
      ".     global stata_kernel_graph_counter = $stata_kernel_graph_counter + 1\n",
      ". }            \n",
      "\n",
      ". qui restore\n"
     ]
    }
   ],
   "source": [
    "qui {\n",
    "preserve\n",
    "    keep year country tech_exp\n",
    "    separate tech_exp, by(country) veryshortlabel \n",
    "    sort year\n",
    "    }\n",
    "    de\n",
    "    line tech_exp* year, xlabel(2008 2018) ysize(5) leg(off)\n",
    "qui restore"
   ]
  },
  {
   "cell_type": "code",
   "execution_count": 12,
   "metadata": {},
   "outputs": [
    {
     "output_type": "stream",
     "name": "stdout",
     "text": [
      "checking egenmore consistency and verifying not already installed...\n",
      "all files already exist and are up to date.\n"
     ]
    }
   ],
   "source": [
    "ssc install egenmore"
   ]
  },
  {
   "cell_type": "code",
   "execution_count": 16,
   "metadata": {},
   "outputs": [
    {
     "output_type": "stream",
     "name": "stdout",
     "text": [
      "\n\n(108 missing values generated)\n"
     ]
    }
   ],
   "source": [
    "drop mean_tech_ex\n",
    "bysort year: egen mean_tech_ex = mean(tech_exp) if _n == 1"
   ]
  },
  {
   "cell_type": "code",
   "execution_count": 17,
   "metadata": {},
   "outputs": [
    {
     "output_type": "display_data",
     "data": {
      "text/plain": "This front-end cannot display the desired image type.",
      "text/html": "                <iframe frameborder=\"0\" scrolling=\"no\" height=\"436\" width=\"600\"                srcdoc=\"<html><body>&lt;?xml version=&quot;1.0&quot; encoding=&quot;UTF-8&quot; standalone=&quot;no&quot;?&gt;\n&lt;!-- This is a Stata 16.1 generated SVG file (http://www.stata.com) --&gt;\n\n&lt;svg version=&quot;1.1&quot; width=&quot;600px&quot; height=&quot;436px&quot; viewBox=&quot;0 0 3960 2880&quot; xmlns=&quot;http://www.w3.org/2000/svg&quot; xmlns:xlink=&quot;http://www.w3.org/1999/xlink&quot;&gt;\n\t&lt;desc&gt;Stata Graph - Graph&lt;/desc&gt;\n\t&lt;rect x=&quot;0&quot; y=&quot;0&quot; width=&quot;3960&quot; height=&quot;2880&quot; style=&quot;fill:#FFFFFF;stroke:none&quot;/&gt;\n\t&lt;rect x=&quot;0.00&quot; y=&quot;0.00&quot; width=&quot;3959.88&quot; height=&quot;2880.00&quot; style=&quot;fill:#FFFFFF&quot;/&gt;\n\t&lt;rect x=&quot;2.88&quot; y=&quot;2.88&quot; width=&quot;3954.12&quot; height=&quot;2874.24&quot; style=&quot;fill:none;stroke:#FFFFFF;stroke-width:5.76&quot;/&gt;\n\t&lt;rect x=&quot;393.68&quot; y=&quot;103.74&quot; width=&quot;3462.46&quot; height=&quot;2382.57&quot; style=&quot;fill:none;stroke:#000000;stroke-width:5.76&quot;/&gt;\n\t&lt;path d=&quot; M454.04 1871.03 L454.04 556.03 L454.04 2029.56 L454.04 1663.62 L454.04 279.31 L454.04 2170.64 L454.04 2292.42 L454.04 1247.44 L454.04 2424.09 L454.04 552.68 L454.04 1307.71 L454.04 264.59 L454.04 693.76 L454.04 260.01 L454.04 1332.46 L454.04 1459.80 L454.04 654.91 L454.04 1040.77 L454.04 2041.07 L454.04 1932.29 L454.04 2113.84 L454.04 1920.54 L454.04 2012.61 L454.04 1882.79 L454.04 1999.37 L454.04 1525.89 L454.04 1437.28 L454.04 1470.20 L454.04 1423.66 L454.04 1400.15 L454.04 1247.81 L454.04 1603.11 L454.04 2133.15 L454.04 2366.42 L454.04 2372.61 L454.04 1800.74 L454.04 2034.27 L454.04 1168.61 L454.04 1735.90 L454.04 731.76 L454.04 381.04 L454.04 1564.00 L454.04 1562.52 L454.04 2341.18 L454.04 1943.68 L454.04 802.54 L454.04 1672.41 L454.04 2030.55 L454.04 1347.56 L454.04 2167.55 L454.04 998.07 L454.04 819.00 L454.04 1059.95 L454.04 2405.03 L454.04 2079.68 L3795.66 1883.91 L3795.66 170.04 L3795.66 1776.98 L3795.66 735.96 L3795.66 1454.97 L3795.66 454.42 L3795.66 1125.54 L3795.66 1366.37 L3795.66 2002.34 L3795.66 2424.83 L3795.66 1616.10 L3795.66 916.52 L3795.66 444.77 L3795.66 1184.45 L3795.66 2078.69 L3795.66 2001.35 L3795.66 1102.52 L3795.66 2017.93 L3795.66 1438.14 L3795.66 2138.34 L3795.66 1826.24 L3795.66 1696.91 L3795.66 2169.41 L3795.66 2095.15 L3795.66 2315.68 L3795.66 2110.75 L3795.66 1239.64 L3795.66 1559.17 L3795.66 1563.63 L3795.66 2372.36 L3795.66 2372.49 L3795.66 1333.20 L3795.66 928.90 L3795.66 2291.06 L3795.66 1134.70 L3795.66 1197.81 L3795.66 1152.27 L3795.66 1984.39 L3795.66 646.74 L3795.66 2025.48 L3795.66 654.91 L3795.66 1001.05 L3795.66 1265.14 L3795.66 1624.15 L3795.66 1215.39 L3795.66 2296.38 L3795.66 1798.02 L3795.66 1445.94 L3795.66 2014.47 L3795.66 2132.40 L3795.66 1336.91 L3795.66 1175.17 L3795.66 1660.16 L3795.66 322.13 L3795.66 164.22&quot; stroke-linejoin=&quot;round&quot; style=&quot;fill:none;stroke:#606060;stroke-width:8.64&quot;/&gt;\n\t&lt;line x1=&quot;390.80&quot; y1=&quot;2489.19&quot; x2=&quot;390.80&quot; y2=&quot;100.86&quot; style=&quot;stroke:#000000;stroke-width:5.76&quot;/&gt;\n\t&lt;line x1=&quot;390.80&quot; y1=&quot;2425.82&quot; x2=&quot;350.83&quot; y2=&quot;2425.82&quot; style=&quot;stroke:#000000;stroke-width:5.76&quot;/&gt;\n\t&lt;text x=&quot;300.72&quot; y=&quot;2425.82&quot; style=&quot;font-family:&#x27;Helvetica&#x27;;font-size:99.99px;fill:#000000&quot; transform=&quot;rotate(-90 300.72,2425.82)&quot; text-anchor=&quot;middle&quot;&gt;0&lt;/text&gt;\n\t&lt;line x1=&quot;390.80&quot; y1=&quot;1867.45&quot; x2=&quot;350.83&quot; y2=&quot;1867.45&quot; style=&quot;stroke:#000000;stroke-width:5.76&quot;/&gt;\n\t&lt;text x=&quot;300.72&quot; y=&quot;1867.45&quot; style=&quot;font-family:&#x27;Helvetica&#x27;;font-size:99.99px;fill:#000000&quot; transform=&quot;rotate(-90 300.72,1867.45)&quot; text-anchor=&quot;middle&quot;&gt;20&lt;/text&gt;\n\t&lt;line x1=&quot;390.80&quot; y1=&quot;1308.94&quot; x2=&quot;350.83&quot; y2=&quot;1308.94&quot; style=&quot;stroke:#000000;stroke-width:5.76&quot;/&gt;\n\t&lt;text x=&quot;300.72&quot; y=&quot;1308.94&quot; style=&quot;font-family:&#x27;Helvetica&#x27;;font-size:99.99px;fill:#000000&quot; transform=&quot;rotate(-90 300.72,1308.94)&quot; text-anchor=&quot;middle&quot;&gt;40&lt;/text&gt;\n\t&lt;line x1=&quot;390.80&quot; y1=&quot;750.57&quot; x2=&quot;350.83&quot; y2=&quot;750.57&quot; style=&quot;stroke:#000000;stroke-width:5.76&quot;/&gt;\n\t&lt;text x=&quot;300.72&quot; y=&quot;750.57&quot; style=&quot;font-family:&#x27;Helvetica&#x27;;font-size:99.99px;fill:#000000&quot; transform=&quot;rotate(-90 300.72,750.57)&quot; text-anchor=&quot;middle&quot;&gt;60&lt;/text&gt;\n\t&lt;line x1=&quot;390.80&quot; y1=&quot;192.07&quot; x2=&quot;350.83&quot; y2=&quot;192.07&quot; style=&quot;stroke:#000000;stroke-width:5.76&quot;/&gt;\n\t&lt;text x=&quot;300.72&quot; y=&quot;192.07&quot; style=&quot;font-family:&#x27;Helvetica&#x27;;font-size:99.99px;fill:#000000&quot; transform=&quot;rotate(-90 300.72,192.07)&quot; text-anchor=&quot;middle&quot;&gt;80&lt;/text&gt;\n\t&lt;text x=&quot;190.71&quot; y=&quot;1294.96&quot; style=&quot;font-family:&#x27;Helvetica&#x27;;font-size:99.99px;fill:#000000&quot; transform=&quot;rotate(-90 190.71,1294.96)&quot; text-anchor=&quot;middle&quot;&gt;tech_exp&lt;/text&gt;\n\t&lt;line x1=&quot;390.80&quot; y1=&quot;2489.19&quot; x2=&quot;3859.02&quot; y2=&quot;2489.19&quot; style=&quot;stroke:#000000;stroke-width:5.76&quot;/&gt;\n\t&lt;line x1=&quot;454.16&quot; y1=&quot;2489.19&quot; x2=&quot;454.16&quot; y2=&quot;2529.16&quot; style=&quot;stroke:#000000;stroke-width:5.76&quot;/&gt;\n\t&lt;text x=&quot;454.16&quot; y=&quot;2619.14&quot; style=&quot;font-family:&#x27;Helvetica&#x27;;font-size:99.99px;fill:#000000&quot; text-anchor=&quot;middle&quot;&gt;2008&lt;/text&gt;\n\t&lt;line x1=&quot;1122.41&quot; y1=&quot;2489.19&quot; x2=&quot;1122.41&quot; y2=&quot;2529.16&quot; style=&quot;stroke:#000000;stroke-width:5.76&quot;/&gt;\n\t&lt;text x=&quot;1122.41&quot; y=&quot;2619.14&quot; style=&quot;font-family:&#x27;Helvetica&#x27;;font-size:99.99px;fill:#000000&quot; text-anchor=&quot;middle&quot;&gt;2010&lt;/text&gt;\n\t&lt;line x1=&quot;1790.79&quot; y1=&quot;2489.19&quot; x2=&quot;1790.79&quot; y2=&quot;2529.16&quot; style=&quot;stroke:#000000;stroke-width:5.76&quot;/&gt;\n\t&lt;text x=&quot;1790.79&quot; y=&quot;2619.14&quot; style=&quot;font-family:&#x27;Helvetica&#x27;;font-size:99.99px;fill:#000000&quot; text-anchor=&quot;middle&quot;&gt;2012&lt;/text&gt;\n\t&lt;line x1=&quot;2459.04&quot; y1=&quot;2489.19&quot; x2=&quot;2459.04&quot; y2=&quot;2529.16&quot; style=&quot;stroke:#000000;stroke-width:5.76&quot;/&gt;\n\t&lt;text x=&quot;2459.04&quot; y=&quot;2619.14&quot; style=&quot;font-family:&#x27;Helvetica&#x27;;font-size:99.99px;fill:#000000&quot; text-anchor=&quot;middle&quot;&gt;2014&lt;/text&gt;\n\t&lt;line x1=&quot;3127.41&quot; y1=&quot;2489.19&quot; x2=&quot;3127.41&quot; y2=&quot;2529.16&quot; style=&quot;stroke:#000000;stroke-width:5.76&quot;/&gt;\n\t&lt;text x=&quot;3127.41&quot; y=&quot;2619.14&quot; style=&quot;font-family:&#x27;Helvetica&#x27;;font-size:99.99px;fill:#000000&quot; text-anchor=&quot;middle&quot;&gt;2016&lt;/text&gt;\n\t&lt;line x1=&quot;3795.66&quot; y1=&quot;2489.19&quot; x2=&quot;3795.66&quot; y2=&quot;2529.16&quot; style=&quot;stroke:#000000;stroke-width:5.76&quot;/&gt;\n\t&lt;text x=&quot;3795.66&quot; y=&quot;2619.14&quot; style=&quot;font-family:&#x27;Helvetica&#x27;;font-size:99.99px;fill:#000000&quot; text-anchor=&quot;middle&quot;&gt;2018&lt;/text&gt;\n\t&lt;text x=&quot;2124.91&quot; y=&quot;2729.16&quot; style=&quot;font-family:&#x27;Helvetica&#x27;;font-size:99.99px;fill:#000000&quot; text-anchor=&quot;middle&quot;&gt;year&lt;/text&gt;\n&lt;/svg&gt;\n</body></html>\"></iframe>\n",
      "image/svg+xml": "<?xml version=\"1.0\" encoding=\"UTF-8\" standalone=\"no\"?>\n<!-- This is a Stata 16.1 generated SVG file (http://www.stata.com) -->\n\n<svg version=\"1.1\" width=\"600px\" height=\"436px\" viewBox=\"0 0 3960 2880\" xmlns=\"http://www.w3.org/2000/svg\" xmlns:xlink=\"http://www.w3.org/1999/xlink\">\n\t<desc>Stata Graph - Graph</desc>\n\t<rect x=\"0\" y=\"0\" width=\"3960\" height=\"2880\" style=\"fill:#FFFFFF;stroke:none\"/>\n\t<rect x=\"0.00\" y=\"0.00\" width=\"3959.88\" height=\"2880.00\" style=\"fill:#FFFFFF\"/>\n\t<rect x=\"2.88\" y=\"2.88\" width=\"3954.12\" height=\"2874.24\" style=\"fill:none;stroke:#FFFFFF;stroke-width:5.76\"/>\n\t<rect x=\"393.68\" y=\"103.74\" width=\"3462.46\" height=\"2382.57\" style=\"fill:none;stroke:#000000;stroke-width:5.76\"/>\n\t<path d=\" M454.04 1871.03 L454.04 556.03 L454.04 2029.56 L454.04 1663.62 L454.04 279.31 L454.04 2170.64 L454.04 2292.42 L454.04 1247.44 L454.04 2424.09 L454.04 552.68 L454.04 1307.71 L454.04 264.59 L454.04 693.76 L454.04 260.01 L454.04 1332.46 L454.04 1459.80 L454.04 654.91 L454.04 1040.77 L454.04 2041.07 L454.04 1932.29 L454.04 2113.84 L454.04 1920.54 L454.04 2012.61 L454.04 1882.79 L454.04 1999.37 L454.04 1525.89 L454.04 1437.28 L454.04 1470.20 L454.04 1423.66 L454.04 1400.15 L454.04 1247.81 L454.04 1603.11 L454.04 2133.15 L454.04 2366.42 L454.04 2372.61 L454.04 1800.74 L454.04 2034.27 L454.04 1168.61 L454.04 1735.90 L454.04 731.76 L454.04 381.04 L454.04 1564.00 L454.04 1562.52 L454.04 2341.18 L454.04 1943.68 L454.04 802.54 L454.04 1672.41 L454.04 2030.55 L454.04 1347.56 L454.04 2167.55 L454.04 998.07 L454.04 819.00 L454.04 1059.95 L454.04 2405.03 L454.04 2079.68 L3795.66 1883.91 L3795.66 170.04 L3795.66 1776.98 L3795.66 735.96 L3795.66 1454.97 L3795.66 454.42 L3795.66 1125.54 L3795.66 1366.37 L3795.66 2002.34 L3795.66 2424.83 L3795.66 1616.10 L3795.66 916.52 L3795.66 444.77 L3795.66 1184.45 L3795.66 2078.69 L3795.66 2001.35 L3795.66 1102.52 L3795.66 2017.93 L3795.66 1438.14 L3795.66 2138.34 L3795.66 1826.24 L3795.66 1696.91 L3795.66 2169.41 L3795.66 2095.15 L3795.66 2315.68 L3795.66 2110.75 L3795.66 1239.64 L3795.66 1559.17 L3795.66 1563.63 L3795.66 2372.36 L3795.66 2372.49 L3795.66 1333.20 L3795.66 928.90 L3795.66 2291.06 L3795.66 1134.70 L3795.66 1197.81 L3795.66 1152.27 L3795.66 1984.39 L3795.66 646.74 L3795.66 2025.48 L3795.66 654.91 L3795.66 1001.05 L3795.66 1265.14 L3795.66 1624.15 L3795.66 1215.39 L3795.66 2296.38 L3795.66 1798.02 L3795.66 1445.94 L3795.66 2014.47 L3795.66 2132.40 L3795.66 1336.91 L3795.66 1175.17 L3795.66 1660.16 L3795.66 322.13 L3795.66 164.22\" stroke-linejoin=\"round\" style=\"fill:none;stroke:#606060;stroke-width:8.64\"/>\n\t<line x1=\"390.80\" y1=\"2489.19\" x2=\"390.80\" y2=\"100.86\" style=\"stroke:#000000;stroke-width:5.76\"/>\n\t<line x1=\"390.80\" y1=\"2425.82\" x2=\"350.83\" y2=\"2425.82\" style=\"stroke:#000000;stroke-width:5.76\"/>\n\t<text x=\"300.72\" y=\"2425.82\" style=\"font-family:'Helvetica';font-size:99.99px;fill:#000000\" transform=\"rotate(-90 300.72,2425.82)\" text-anchor=\"middle\">0</text>\n\t<line x1=\"390.80\" y1=\"1867.45\" x2=\"350.83\" y2=\"1867.45\" style=\"stroke:#000000;stroke-width:5.76\"/>\n\t<text x=\"300.72\" y=\"1867.45\" style=\"font-family:'Helvetica';font-size:99.99px;fill:#000000\" transform=\"rotate(-90 300.72,1867.45)\" text-anchor=\"middle\">20</text>\n\t<line x1=\"390.80\" y1=\"1308.94\" x2=\"350.83\" y2=\"1308.94\" style=\"stroke:#000000;stroke-width:5.76\"/>\n\t<text x=\"300.72\" y=\"1308.94\" style=\"font-family:'Helvetica';font-size:99.99px;fill:#000000\" transform=\"rotate(-90 300.72,1308.94)\" text-anchor=\"middle\">40</text>\n\t<line x1=\"390.80\" y1=\"750.57\" x2=\"350.83\" y2=\"750.57\" style=\"stroke:#000000;stroke-width:5.76\"/>\n\t<text x=\"300.72\" y=\"750.57\" style=\"font-family:'Helvetica';font-size:99.99px;fill:#000000\" transform=\"rotate(-90 300.72,750.57)\" text-anchor=\"middle\">60</text>\n\t<line x1=\"390.80\" y1=\"192.07\" x2=\"350.83\" y2=\"192.07\" style=\"stroke:#000000;stroke-width:5.76\"/>\n\t<text x=\"300.72\" y=\"192.07\" style=\"font-family:'Helvetica';font-size:99.99px;fill:#000000\" transform=\"rotate(-90 300.72,192.07)\" text-anchor=\"middle\">80</text>\n\t<text x=\"190.71\" y=\"1294.96\" style=\"font-family:'Helvetica';font-size:99.99px;fill:#000000\" transform=\"rotate(-90 190.71,1294.96)\" text-anchor=\"middle\">tech_exp</text>\n\t<line x1=\"390.80\" y1=\"2489.19\" x2=\"3859.02\" y2=\"2489.19\" style=\"stroke:#000000;stroke-width:5.76\"/>\n\t<line x1=\"454.16\" y1=\"2489.19\" x2=\"454.16\" y2=\"2529.16\" style=\"stroke:#000000;stroke-width:5.76\"/>\n\t<text x=\"454.16\" y=\"2619.14\" style=\"font-family:'Helvetica';font-size:99.99px;fill:#000000\" text-anchor=\"middle\">2008</text>\n\t<line x1=\"1122.41\" y1=\"2489.19\" x2=\"1122.41\" y2=\"2529.16\" style=\"stroke:#000000;stroke-width:5.76\"/>\n\t<text x=\"1122.41\" y=\"2619.14\" style=\"font-family:'Helvetica';font-size:99.99px;fill:#000000\" text-anchor=\"middle\">2010</text>\n\t<line x1=\"1790.79\" y1=\"2489.19\" x2=\"1790.79\" y2=\"2529.16\" style=\"stroke:#000000;stroke-width:5.76\"/>\n\t<text x=\"1790.79\" y=\"2619.14\" style=\"font-family:'Helvetica';font-size:99.99px;fill:#000000\" text-anchor=\"middle\">2012</text>\n\t<line x1=\"2459.04\" y1=\"2489.19\" x2=\"2459.04\" y2=\"2529.16\" style=\"stroke:#000000;stroke-width:5.76\"/>\n\t<text x=\"2459.04\" y=\"2619.14\" style=\"font-family:'Helvetica';font-size:99.99px;fill:#000000\" text-anchor=\"middle\">2014</text>\n\t<line x1=\"3127.41\" y1=\"2489.19\" x2=\"3127.41\" y2=\"2529.16\" style=\"stroke:#000000;stroke-width:5.76\"/>\n\t<text x=\"3127.41\" y=\"2619.14\" style=\"font-family:'Helvetica';font-size:99.99px;fill:#000000\" text-anchor=\"middle\">2016</text>\n\t<line x1=\"3795.66\" y1=\"2489.19\" x2=\"3795.66\" y2=\"2529.16\" style=\"stroke:#000000;stroke-width:5.76\"/>\n\t<text x=\"3795.66\" y=\"2619.14\" style=\"font-family:'Helvetica';font-size:99.99px;fill:#000000\" text-anchor=\"middle\">2018</text>\n\t<text x=\"2124.91\" y=\"2729.16\" style=\"font-family:'Helvetica';font-size:99.99px;fill:#000000\" text-anchor=\"middle\">year</text>\n</svg>\n",
      "application/pdf": "[encoded data removed]"
     },
     "metadata": {
      "text/html": {
       "width": 600,
       "height": 436
      },
      "image/svg+xml": {
       "width": 600,
       "height": 436
      }
     }
    }
   ],
   "source": [
    "line tech_exp year"
   ]
  },
  {
   "source": [
    "    broadband |   .0093601   .0045492     2.06   0.044     .0002663    .0184539"
   ],
   "cell_type": "markdown",
   "metadata": {}
  }
 ]
}