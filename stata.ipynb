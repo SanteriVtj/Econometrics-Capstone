{
 "metadata": {
  "language_info": {
   "codemirror_mode": {
    "name": "ipython",
    "version": 3
   },
   "file_extension": ".py",
   "mimetype": "text/x-python",
   "name": "python",
   "nbconvert_exporter": "python",
   "pygments_lexer": "ipython3",
   "version": 3
  },
  "orig_nbformat": 2,
  "kernelspec": {
   "name": "stata",
   "display_name": "Stata",
   "language": "stata"
  }
 },
 "nbformat": 4,
 "nbformat_minor": 2,
 "cells": [
  {
   "cell_type": "code",
   "execution_count": 17,
   "metadata": {},
   "outputs": [
    {
     "output_type": "stream",
     "name": "stdout",
     "text": [
      "(87 vars, 150 obs)\n"
     ]
    }
   ],
   "source": [
    "import delimited \"/Users/santerivaataja/Desktop/Taloustieteen_kursseja/Econometrics/Capstone.nosync/Econometrics-Capstone/raw_data/small_master.csv\", clear"
   ]
  },
  {
   "cell_type": "code",
   "execution_count": 18,
   "metadata": {},
   "outputs": [
    {
     "output_type": "stream",
     "name": "stdout",
     "text": [
      "\n",
      "Contains data\n",
      "  obs:           150                          \n",
      " vars:            87                          \n",
      "--------------------------------------------------------------------------------\n",
      "              storage   display    value\n",
      "variable name   type    format     label      variable label\n",
      "--------------------------------------------------------------------------------\n",
      "v1              int     %8.0g                 \n",
      "country         str24   %24s                  \n",
      "year            int     %8.0g                 \n",
      "pr              byte    %8.0g                 PR\n",
      "cl              byte    %8.0g                 CL\n",
      "status          str2    %9s                   Status\n",
      "ddregime        byte    %8.0g                 DD regime\n",
      "ddcategory      str23   %23s                  DD category\n",
      "monarchy        byte    %8.0g                 Monarchy\n",
      "commonwealth    byte    %8.0g                 Commonwealth\n",
      "democracy       byte    %8.0g                 Democracy\n",
      "presidential    byte    %8.0g                 Presidential\n",
      "presidentname   str44   %44s                  President name\n",
      "presidentacce~n int     %8.0g                 President accesion\n",
      "presidentbirt~r int     %8.0g                 President birthyear\n",
      "interimphasem~y byte    %8.0g                 Interim phase (more than 2\n",
      "                                                Presidents/year=1)\n",
      "femalepreside~s byte    %8.0g                 Female president (0: No; 1: Yes)\n",
      "colony          byte    %8.0g                 Colony\n",
      "communist       byte    %8.0g                 Communist\n",
      "regimechangelag byte    %8.0g                 Regime change lag\n",
      "spatialdemocr~y str11   %11s                  spatial democracy\n",
      "countrycode     int     %8.0g                 \n",
      "noofchambersi~t byte    %8.0g                 No. of chambers in parliament\n",
      "proportionalv~g byte    %8.0g                 proportional voting\n",
      "electionsystem  str56   %56s                  Election system\n",
      "noofmembersin~e int     %8.0g                 No. of members in lower house\n",
      "newconstitution byte    %8.0g                 New constitution\n",
      "fullsuffrage    byte    %8.0g                 \n",
      "electoral       byte    %8.0g                 \n",
      "spatialelecto~l str11   %11s                  spatial electoral\n",
      "alternation     byte    %8.0g                 \n",
      "multiparty      byte    %8.0g                 \n",
      "freeandfairel~n byte    %8.0g                 free and fair election\n",
      "parliamentary~r byte    %8.0g                 parliamentary election year\n",
      "postponedelec~n byte    %8.0g                 postponed election\n",
      "anticorruptio~y byte    %8.0g                 Anticorruption policy\n",
      "civilrights     byte    %8.0g                 Civil rights\n",
      "civilsocietyp~n byte    %8.0g                 Civil society participation\n",
      "civilsocietyt~s byte    %8.0g                 Civil society traditions\n",
      "cleavageconfl~t byte    %8.0g                 Cleavage conflict management\n",
      "commitmenttod~o byte    %8.0g                 Commitment to democratic\n",
      "                                                institutions\n",
      "conflictinten~y byte    %8.0g                 Conflict intensity\n",
      "consensusongo~s byte    %8.0g                 Consensus on goals\n",
      "antidemocrati~s byte    %8.0g                 Antidemocratic actors\n",
      "educationpoli~d byte    %8.0g                 Education policy R&D\n",
      "effectivepowe~n byte    %8.0g                 Effective power to govern\n",
      "effectiveuseo~t byte    %8.0g                 Effective use of support\n",
      "efficientuseo~s byte    %8.0g                 Efficient use of assets\n",
      "environmental~y byte    %8.0g                 Environmental policy\n",
      "equalopportun~y byte    %8.0g                 Equal opportunity\n",
      "freeandfairel~s byte    %8.0g                 Free and fair elections\n",
      "freedomofexpr~n byte    %8.0g                 Freedom of expression\n",
      "independentju~y byte    %8.0g                 Independent judiciary\n",
      "interestgroups  byte    %8.0g                 Interest groups\n",
      "international~n float   %9.0g                 International Cooperation\n",
      "monopolyonthe~e byte    %8.0g                 Monopoly on the use of force\n",
      "nointerferenc~s byte    %8.0g                 No interference of religious\n",
      "                                                dogmas\n",
      "associationas~s byte    %8.0g                 Association assembly rights\n",
      "organizationo~t float   %9.0g                 Organization of the Market and\n",
      "                                                Competition\n",
      "partysystem     byte    %8.0g                 Party system\n",
      "performanceof~i byte    %8.0g                 Performance of democratic\n",
      "                                                institutions\n",
      "policycoordin~n byte    %8.0g                 Policy coordination\n",
      "policylearning  byte    %8.0g                 Policy learning\n",
      "politicalpart~n float   %9.0g                 Political Participation\n",
      "politicalands~n float   %9.0g                 Political and Social Integration\n",
      "privateproperty float   %9.0g                 Private Property\n",
      "prosecutionof~e byte    %8.0g                 Prosecution of office abuse\n",
      "regionalcoope~n byte    %8.0g                 Regional cooperation\n",
      "resourceeffic~y float   %9.0g                 Resource Efficiency\n",
      "separationofp~s byte    %8.0g                 Separation of powers\n",
      "socialcapital   byte    %8.0g                 Social capital\n",
      "socialsafetyn~s byte    %8.0g                 Social safety nets\n",
      "socioeconomic~s byte    %8.0g                 Socioeconomic barriers\n",
      "stabilityofde~n float   %9.0g                 Stability of Democratic\n",
      "                                                Institutions\n",
      "stateidentity   byte    %8.0g                 State identity\n",
      "basicadminist~n byte    %8.0g                 Basic administration\n",
      "steeringcapab~y float   %9.0g                 Steering Capability\n",
      "structuralcon~s byte    %8.0g                 Structural constraints\n",
      "welfareregime   float   %9.0g                 Welfare Regime\n",
      "corruption      float   %9.0g                 \n",
      "efficiency      float   %9.0g                 \n",
      "stability       float   %9.0g                 \n",
      "rol             float   %9.0g                 \n",
      "acc             float   %9.0g                 \n",
      "mortality       float   %9.0g                 \n",
      "trade           float   %9.0g                 \n",
      "--more--\n"
     ]
    }
   ],
   "source": [
    "de"
   ]
  },
  {
   "source": [
    "gen ln_gdp = ln(gdp)\n",
    "sort country year\n",
    "bysort country: gen init_gdp = gdp[1]"
   ],
   "cell_type": "code",
   "metadata": {},
   "execution_count": null,
   "outputs": []
  },
  {
   "cell_type": "code",
   "execution_count": 20,
   "metadata": {},
   "outputs": [
    {
     "output_type": "display_data",
     "data": {
      "text/plain": "\n     +-----------------------------------------+\n     |    country   year        gdp   init_gdp |\n     |-----------------------------------------|\n  1. |    algeria   2008   4923.843   4923.843 |\n  2. |    algeria   2018   4153.734   4923.843 |\n  3. |  argentina   2008   9020.873   9020.873 |\n  4. |  argentina   2018    11633.5   9020.873 |\n  5. |    armenia   2008   4010.857   4010.857 |\n     |-----------------------------------------|\n  6. |    armenia   2018    4220.49   4010.857 |\n  7. | azerbaijan   2008   5574.604   5574.604 |\n  8. | azerbaijan   2018   4739.842   5574.604 |\n  9. |    belarus   2008    6377.37    6377.37 |\n 10. |    belarus   2018   6330.075    6377.37 |\n     +-----------------------------------------+\n\n",
      "text/html": "<div>\n<style scoped>\n    .dataframe tbody tr th:only-of-type {\n        vertical-align: middle;\n    }\n\n    .dataframe tbody tr th {\n        vertical-align: top;\n    }\n\n    .dataframe thead th {\n        text-align: right;\n    }\n</style>\n<table border=\"1\" class=\"dataframe\">\n  <thead>\n    <tr style=\"text-align: right;\">\n      <th></th>\n      <th>country</th>\n      <th>year</th>\n      <th>gdp</th>\n      <th>init_gdp</th>\n    </tr>\n  </thead>\n  <tbody>\n    <tr>\n      <th>1</th>\n      <td>algeria</td>\n      <td>2008</td>\n      <td>4923.8433</td>\n      <td>4923.8433</td>\n    </tr>\n    <tr>\n      <th>2</th>\n      <td>algeria</td>\n      <td>2018</td>\n      <td>4153.7339</td>\n      <td>4923.8433</td>\n    </tr>\n    <tr>\n      <th>3</th>\n      <td>argentina</td>\n      <td>2008</td>\n      <td>9020.873</td>\n      <td>9020.873</td>\n    </tr>\n    <tr>\n      <th>4</th>\n      <td>argentina</td>\n      <td>2018</td>\n      <td>11633.498</td>\n      <td>9020.873</td>\n    </tr>\n    <tr>\n      <th>5</th>\n      <td>armenia</td>\n      <td>2008</td>\n      <td>4010.8572</td>\n      <td>4010.8572</td>\n    </tr>\n    <tr>\n      <th>6</th>\n      <td>armenia</td>\n      <td>2018</td>\n      <td>4220.4902</td>\n      <td>4010.8572</td>\n    </tr>\n    <tr>\n      <th>7</th>\n      <td>azerbaijan</td>\n      <td>2008</td>\n      <td>5574.604</td>\n      <td>5574.604</td>\n    </tr>\n    <tr>\n      <th>8</th>\n      <td>azerbaijan</td>\n      <td>2018</td>\n      <td>4739.8418</td>\n      <td>5574.604</td>\n    </tr>\n    <tr>\n      <th>9</th>\n      <td>belarus</td>\n      <td>2008</td>\n      <td>6377.3696</td>\n      <td>6377.3696</td>\n    </tr>\n    <tr>\n      <th>10</th>\n      <td>belarus</td>\n      <td>2018</td>\n      <td>6330.0752</td>\n      <td>6377.3696</td>\n    </tr>\n  </tbody>\n</table>\n</div>"
     },
     "metadata": {}
    }
   ],
   "source": [
    "%browse 10 country year gdp init_gdp"
   ]
  },
  {
   "cell_type": "code",
   "execution_count": 22,
   "metadata": {},
   "outputs": [
    {
     "output_type": "stream",
     "name": "stdout",
     "text": [
      "       panel variable:  countrycode (strongly balanced)\n",
      "        time variable:  year, 2008 to 2018, but with gaps\n",
      "                delta:  1 unit\n"
     ]
    }
   ],
   "source": [
    "xtset countrycode year"
   ]
  },
  {
   "cell_type": "code",
   "execution_count": 25,
   "metadata": {},
   "outputs": [
    {
     "output_type": "stream",
     "name": "stdout",
     "text": [
      "\n",
      "Fixed-effects (within) regression               Number of obs     =        150\n",
      "Group variable: countrycode                     Number of groups  =         75\n",
      "\n",
      "R-sq:                                           Obs per group:\n",
      "     within  = 0.5381                                         min =          2\n",
      "     between = 0.4361                                         avg =        2.0\n",
      "     overall = 0.4359                                         max =          2\n",
      "\n",
      "                                                F(6,74)           =      15.26\n",
      "corr(u_i, Xb)  = 0.2606                         Prob > F          =     0.0000\n",
      "\n",
      "                            (Std. Err. adjusted for 75 clusters in countrycode)\n",
      "-------------------------------------------------------------------------------\n",
      "              |               Robust\n",
      "       ln_gdp |      Coef.   Std. Err.      t    P>|t|     [95% Conf. Interval]\n",
      "--------------+----------------------------------------------------------------\n",
      "    democracy |   .0569405   .0700974     0.81   0.419    -.0827317    .1966127\n",
      "civilsociet~s |  -.1095451   .0380057    -2.88   0.005    -.1852731   -.0338171\n",
      "          rol |   .3723131   .1120771     3.32   0.001     .1489946    .5956315\n",
      "stabilityof~n |  -.0490978   .0192847    -2.55   0.013    -.0875235   -.0106721\n",
      "    mortality |  -.0124279   .0026991    -4.60   0.000    -.0178059   -.0070499\n",
      "        trade |  -.0064523   .0011875    -5.43   0.000    -.0088184   -.0040862\n",
      "        _cons |   9.976065   .2283153    43.69   0.000     9.521137    10.43099\n",
      "--------------+----------------------------------------------------------------\n",
      "      sigma_u |   .9291362\n",
      "      sigma_e |  .20923106\n",
      "          rho |   .9517374   (fraction of variance due to u_i)\n",
      "-------------------------------------------------------------------------------\n"
     ]
    }
   ],
   "source": [
    "xtreg ln_gdp democracy civilsocietytraditions rol stabilityofdemocraticinstitution mortality trade, fe r"
   ]
  },
  {
   "cell_type": "code",
   "execution_count": null,
   "metadata": {},
   "outputs": [],
   "source": []
  }
 ]
}