{
 "metadata": {
  "language_info": {
   "codemirror_mode": {
    "name": "ipython",
    "version": 3
   },
   "file_extension": ".py",
   "mimetype": "text/x-python",
   "name": "python",
   "nbconvert_exporter": "python",
   "pygments_lexer": "ipython3",
   "version": 3
  },
  "orig_nbformat": 2,
  "kernelspec": {
   "name": "stata",
   "display_name": "Stata",
   "language": "stata"
  }
 },
 "nbformat": 4,
 "nbformat_minor": 2,
 "cells": [
  {
   "cell_type": "code",
   "execution_count": 1,
   "metadata": {},
   "outputs": [
    {
     "output_type": "stream",
     "name": "stdout",
     "text": [
      "(37 vars, 2,807 obs)\n"
     ]
    }
   ],
   "source": [
    "import delimited \"/Users/santerivaataja/Desktop/Taloustieteen_kursseja/Econometrics/Capstone.nosync/Econometrics-Capstone/raw_data/small_master.csv\", clear"
   ]
  },
  {
   "cell_type": "code",
   "execution_count": 2,
   "metadata": {},
   "outputs": [
    {
     "output_type": "stream",
     "name": "stdout",
     "text": [
      "\n",
      "Contains data\n",
      "  obs:         2,807                          \n",
      " vars:            37                          \n",
      "--------------------------------------------------------------------------------\n",
      "              storage   display    value\n",
      "variable name   type    format     label      variable label\n",
      "--------------------------------------------------------------------------------\n",
      "v1              int     %8.0g                 \n",
      "country         str30   %30s                  \n",
      "year            int     %8.0g                 \n",
      "pr              byte    %8.0g                 PR\n",
      "cl              byte    %8.0g                 CL\n",
      "status          str2    %9s                   Status\n",
      "ddregime        byte    %8.0g                 DD regime\n",
      "ddcategory      str23   %23s                  DD category\n",
      "monarchy        byte    %8.0g                 Monarchy\n",
      "commonwealth    byte    %8.0g                 Commonwealth\n",
      "democracy       byte    %8.0g                 Democracy\n",
      "presidential    byte    %8.0g                 Presidential\n",
      "presidentname   str44   %44s                  President name\n",
      "presidentacce~n int     %8.0g                 President accesion\n",
      "presidentbirt~r int     %8.0g                 President birthyear\n",
      "interimphasem~y byte    %8.0g                 Interim phase (more than 2\n",
      "                                                Presidents/year=1)\n",
      "femalepreside~s byte    %8.0g                 Female president (0: No; 1: Yes)\n",
      "colony          byte    %8.0g                 Colony\n",
      "communist       byte    %8.0g                 Communist\n",
      "regimechangelag byte    %8.0g                 Regime change lag\n",
      "spatialdemocr~y str11   %11s                  spatial democracy\n",
      "countrycode     int     %8.0g                 \n",
      "noofchambersi~t byte    %8.0g                 No. of chambers in parliament\n",
      "proportionalv~g byte    %8.0g                 proportional voting\n",
      "electionsystem  str65   %65s                  Election system\n",
      "noofme~werhouse int     %8.0g                 No. of members in lower house\n",
      "noofme~perhouse int     %8.0g                 No. of members in upper house\n",
      "newconstitution byte    %8.0g                 New constitution\n",
      "fullsuffrage    byte    %8.0g                 \n",
      "electoral       byte    %8.0g                 \n",
      "spatialelecto~l float   %9.0g                 spatial electoral\n",
      "alternation     byte    %8.0g                 \n",
      "multiparty      byte    %8.0g                 \n",
      "freeandfairel~n byte    %8.0g                 free and fair election\n",
      "parliamentary~r byte    %8.0g                 parliamentary election year\n",
      "postponedelec~n byte    %8.0g                 postponed election\n",
      "gdp             float   %9.0g                 \n",
      "--------------------------------------------------------------------------------\n",
      "Sorted by: \n",
      "     Note: Dataset has changed since last saved.\n"
     ]
    }
   ],
   "source": [
    "de"
   ]
  },
  {
   "cell_type": "code",
   "execution_count": 6,
   "metadata": {},
   "outputs": [
    {
     "output_type": "stream",
     "name": "stdout",
     "text": [
      "string variables not allowed in varlist;\n",
      "country is a string variable\n",
      "r(109);\n",
      "\n"
     ]
    }
   ],
   "source": [
    "xtset country year"
   ]
  },
  {
   "cell_type": "code",
   "execution_count": null,
   "metadata": {},
   "outputs": [],
   "source": []
  }
 ]
}