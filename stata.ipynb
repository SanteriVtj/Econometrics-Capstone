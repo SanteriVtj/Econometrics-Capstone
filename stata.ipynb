{
 "metadata": {
  "language_info": {
   "codemirror_mode": {
    "name": "ipython",
    "version": 3
   },
   "file_extension": ".py",
   "mimetype": "text/x-python",
   "name": "python",
   "nbconvert_exporter": "python",
   "pygments_lexer": "ipython3",
   "version": 3
  },
  "orig_nbformat": 2,
  "kernelspec": {
   "name": "stata",
   "display_name": "Stata",
   "language": "stata"
  }
 },
 "nbformat": 4,
 "nbformat_minor": 2,
 "cells": [
  {
   "cell_type": "code",
   "execution_count": 1,
   "metadata": {},
   "outputs": [
    {
     "output_type": "stream",
     "name": "stdout",
     "text": [
      "(81 vars, 94 obs)\n"
     ]
    }
   ],
   "source": [
    "import delimited \"/Users/santerivaataja/Desktop/Taloustieteen_kursseja/Econometrics/Capstone.nosync/Econometrics-Capstone/raw_data/small_master.csv\", clear"
   ]
  },
  {
   "cell_type": "code",
   "execution_count": 2,
   "metadata": {},
   "outputs": [
    {
     "output_type": "stream",
     "name": "stdout",
     "text": [
      "\n",
      "Contains data\n",
      "  obs:            94                          \n",
      " vars:            81                          \n",
      "--------------------------------------------------------------------------------\n",
      "              storage   display    value\n",
      "variable name   type    format     label      variable label\n",
      "--------------------------------------------------------------------------------\n",
      "v1              int     %8.0g                 \n",
      "country         str24   %24s                  \n",
      "year            int     %8.0g                 \n",
      "pr              byte    %8.0g                 PR\n",
      "cl              byte    %8.0g                 CL\n",
      "status          str2    %9s                   Status\n",
      "ddregime        byte    %8.0g                 DD regime\n",
      "ddcategory      str23   %23s                  DD category\n",
      "monarchy        byte    %8.0g                 Monarchy\n",
      "commonwealth    byte    %8.0g                 Commonwealth\n",
      "democracy       byte    %8.0g                 Democracy\n",
      "presidential    byte    %8.0g                 Presidential\n",
      "presidentname   str44   %44s                  President name\n",
      "presidentacce~n int     %8.0g                 President accesion\n",
      "presidentbirt~r int     %8.0g                 President birthyear\n",
      "interimphasem~y byte    %8.0g                 Interim phase (more than 2\n",
      "                                                Presidents/year=1)\n",
      "femalepreside~s byte    %8.0g                 Female president (0: No; 1: Yes)\n",
      "colony          byte    %8.0g                 Colony\n",
      "communist       byte    %8.0g                 Communist\n",
      "regimechangelag byte    %8.0g                 Regime change lag\n",
      "spatialdemocr~y str11   %11s                  spatial democracy\n",
      "countrycode     int     %8.0g                 \n",
      "noofchambersi~t byte    %8.0g                 No. of chambers in parliament\n",
      "proportionalv~g byte    %8.0g                 proportional voting\n",
      "electionsystem  str56   %56s                  Election system\n",
      "noofmembersin~e int     %8.0g                 No. of members in lower house\n",
      "newconstitution byte    %8.0g                 New constitution\n",
      "fullsuffrage    byte    %8.0g                 \n",
      "electoral       byte    %8.0g                 \n",
      "spatialelecto~l float   %9.0g                 spatial electoral\n",
      "alternation     byte    %8.0g                 \n",
      "multiparty      byte    %8.0g                 \n",
      "freeandfairel~n byte    %8.0g                 free and fair election\n",
      "parliamentary~r byte    %8.0g                 parliamentary election year\n",
      "postponedelec~n byte    %8.0g                 postponed election\n",
      "anticorruptio~y byte    %8.0g                 Anticorruption policy\n",
      "civilrights     byte    %8.0g                 Civil rights\n",
      "civilsocietyp~n byte    %8.0g                 Civil society participation\n",
      "civilsocietyt~s byte    %8.0g                 Civil society traditions\n",
      "cleavageconfl~t byte    %8.0g                 Cleavage conflict management\n",
      "commitmenttod~o byte    %8.0g                 Commitment to democratic\n",
      "                                                institutions\n",
      "conflictinten~y byte    %8.0g                 Conflict intensity\n",
      "consensusongo~s byte    %8.0g                 Consensus on goals\n",
      "antidemocrati~s byte    %8.0g                 Antidemocratic actors\n",
      "educationpoli~d byte    %8.0g                 Education policy R&D\n",
      "effectivepowe~n byte    %8.0g                 Effective power to govern\n",
      "effectiveuseo~t byte    %8.0g                 Effective use of support\n",
      "efficientuseo~s byte    %8.0g                 Efficient use of assets\n",
      "environmental~y byte    %8.0g                 Environmental policy\n",
      "equalopportun~y byte    %8.0g                 Equal opportunity\n",
      "freeandfairel~s byte    %8.0g                 Free and fair elections\n",
      "freedomofexpr~n byte    %8.0g                 Freedom of expression\n",
      "independentju~y byte    %8.0g                 Independent judiciary\n",
      "interestgroups  byte    %8.0g                 Interest groups\n",
      "international~n float   %9.0g                 International Cooperation\n",
      "monopolyonthe~e byte    %8.0g                 Monopoly on the use of force\n",
      "nointerferenc~s byte    %8.0g                 No interference of religious\n",
      "                                                dogmas\n",
      "associationas~s byte    %8.0g                 Association assembly rights\n",
      "organizationo~t float   %9.0g                 Organization of the Market and\n",
      "                                                Competition\n",
      "partysystem     byte    %8.0g                 Party system\n",
      "performanceof~i byte    %8.0g                 Performance of democratic\n",
      "                                                institutions\n",
      "policycoordin~n byte    %8.0g                 Policy coordination\n",
      "policylearning  byte    %8.0g                 Policy learning\n",
      "politicalpart~n float   %9.0g                 Political Participation\n",
      "politicalands~n float   %9.0g                 Political and Social Integration\n",
      "privateproperty float   %9.0g                 Private Property\n",
      "prosecutionof~e byte    %8.0g                 Prosecution of office abuse\n",
      "regionalcoope~n byte    %8.0g                 Regional cooperation\n",
      "resourceeffic~y float   %9.0g                 Resource Efficiency\n",
      "separationofp~s byte    %8.0g                 Separation of powers\n",
      "socialcapital   byte    %8.0g                 Social capital\n",
      "socialsafetyn~s byte    %8.0g                 Social safety nets\n",
      "socioeconomic~s byte    %8.0g                 Socioeconomic barriers\n",
      "stabilityofde~n float   %9.0g                 Stability of Democratic\n",
      "                                                Institutions\n",
      "stateidentity   byte    %8.0g                 State identity\n",
      "basicadminist~n byte    %8.0g                 Basic administration\n",
      "steeringcapab~y float   %9.0g                 Steering Capability\n",
      "structuralcon~s byte    %8.0g                 Structural constraints\n",
      "welfareregime   float   %9.0g                 Welfare Regime\n",
      "t               float   %9.0g                 \n",
      "gdp             float   %9.0g                 \n",
      "--------------------------------------------------------------------------------\n",
      "Sorted by: \n",
      "     Note: Dataset has changed since last saved.\n"
     ]
    }
   ],
   "source": [
    "de"
   ]
  },
  {
   "cell_type": "code",
   "execution_count": 2,
   "metadata": {},
   "outputs": [],
   "source": [
    "gen ln_gdp = ln(gdp)"
   ]
  },
  {
   "cell_type": "code",
   "execution_count": 3,
   "metadata": {},
   "outputs": [
    {
     "output_type": "stream",
     "name": "stdout",
     "text": [
      "       panel variable:  countrycode (strongly balanced)\n",
      "        time variable:  year, 2008 to 2018, but with gaps\n",
      "                delta:  1 unit\n"
     ]
    }
   ],
   "source": [
    "xtset countrycode year"
   ]
  },
  {
   "cell_type": "code",
   "execution_count": 13,
   "metadata": {},
   "outputs": [
    {
     "output_type": "stream",
     "name": "stdout",
     "text": [
      "\n",
      "             |   ln_gdp       cl civils~n intere~s civils~s       pr effect~n\n",
      "-------------+---------------------------------------------------------------\n",
      "      ln_gdp |   1.0000 \n",
      "          cl |  -0.4906   1.0000 \n",
      "civilsocie~n |   0.3565  -0.7684   1.0000 \n",
      "interestgr~s |   0.4627  -0.8230   0.7826   1.0000 \n",
      "civilsocie~s |  -0.5421   0.7590  -0.6514  -0.8903   1.0000 \n",
      "          pr |  -0.4140   0.9058  -0.7847  -0.8055   0.6563   1.0000 \n",
      "effectivep~n |   0.3738  -0.8348   0.6779   0.7708  -0.6746  -0.8499   1.0000 \n",
      "           t |   0.4055  -0.3999   0.2343   0.3609  -0.3905  -0.2966   0.3878 \n",
      "\n",
      "             |        t\n",
      "-------------+---------\n",
      "           t |   1.0000 \n"
     ]
    }
   ],
   "source": [
    "pwcorr ln_gdp cl civilsocietyparticipation interestgroups civilsocietytraditions pr effectivepowertogovern t"
   ]
  },
  {
   "cell_type": "code",
   "execution_count": 9,
   "metadata": {},
   "outputs": [
    {
     "output_type": "stream",
     "name": "stdout",
     "text": [
      "\n",
      "Fixed-effects (within) regression               Number of obs     =         94\n",
      "Group variable: countrycode                     Number of groups  =         47\n",
      "\n",
      "R-sq:                                           Obs per group:\n",
      "     within  = 0.1968                                         min =          2\n",
      "     between = 0.0193                                         avg =        2.0\n",
      "     overall = 0.0246                                         max =          2\n",
      "\n",
      "                                                F(8,39)           =       1.19\n",
      "corr(u_i, Xb)  = -0.0459                        Prob > F          =     0.3275\n",
      "\n",
      "-------------------------------------------------------------------------------\n",
      "       ln_gdp |      Coef.   Std. Err.      t    P>|t|     [95% Conf. Interval]\n",
      "--------------+----------------------------------------------------------------\n",
      "civilsociet~s |  -.1599725   .0828301    -1.93   0.061    -.3275122    .0075671\n",
      "civilsociet~n |   .0227163   .0483885     0.47   0.641    -.0751587    .1205912\n",
      "           pr |  -.0364944   .0869136    -0.42   0.677    -.2122937     .139305\n",
      "effectivepo~n |  -.0546571   .0468238    -1.17   0.250    -.1493672     .040053\n",
      "           cl |   .0475582   .0912355     0.52   0.605    -.1369829    .2320993\n",
      "            t |  -.2069842   .4974313    -0.42   0.680    -1.213134    .7991655\n",
      "              |\n",
      "      c.t#c.t |   .0084173   .0309646     0.27   0.787    -.0542145    .0710491\n",
      "              |\n",
      "  c.t#c.t#c.t |  -.0001196   .0006161    -0.19   0.847    -.0013656    .0011265\n",
      "              |\n",
      "        _cons |   11.05907   2.621312     4.22   0.000     5.756968    16.36117\n",
      "--------------+----------------------------------------------------------------\n",
      "      sigma_u |  1.1216147\n",
      "      sigma_e |  .28242192\n",
      "          rho |  .94037731   (fraction of variance due to u_i)\n",
      "-------------------------------------------------------------------------------\n",
      "F test that all u_i=0: F(46, 39) = 19.44                     Prob > F = 0.0000\n"
     ]
    }
   ],
   "source": [
    "xtreg ln_gdp civilsocietytraditions civilsocietyparticipation pr effectivepowertogovern cl c.t##c.t, fe"
   ]
  },
  {
   "cell_type": "code",
   "execution_count": null,
   "metadata": {},
   "outputs": [],
   "source": []
  }
 ]
}