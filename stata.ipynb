{
 "metadata": {
  "language_info": {
   "codemirror_mode": {
    "name": "ipython",
    "version": 3
   },
   "file_extension": ".py",
   "mimetype": "text/x-python",
   "name": "python",
   "nbconvert_exporter": "python",
   "pygments_lexer": "ipython3",
   "version": 3
  },
  "orig_nbformat": 2,
  "kernelspec": {
   "name": "stata",
   "display_name": "Stata",
   "language": "stata"
  }
 },
 "nbformat": 4,
 "nbformat_minor": 2,
 "cells": [
  {
   "cell_type": "code",
   "execution_count": 22,
   "metadata": {},
   "outputs": [
    {
     "output_type": "stream",
     "name": "stdout",
     "text": [
      "(92 vars, 110 obs)\n"
     ]
    }
   ],
   "source": [
    "import delimited \"/Users/santerivaataja/Desktop/Taloustieteen_kursseja/Econometrics/Capstone.nosync/Econometrics-Capstone/raw_data/small_master_c.csv\", clear"
   ]
  },
  {
   "cell_type": "code",
   "execution_count": 23,
   "metadata": {},
   "outputs": [],
   "source": [
    "set scheme s1mono"
   ]
  },
  {
   "source": [
    "qui {\n",
    "    gen ln_gdp = ln(gdp)\n",
    "    xtset countrycode year\n",
    "}"
   ],
   "cell_type": "code",
   "metadata": {},
   "execution_count": 24,
   "outputs": []
  },
  {
   "cell_type": "code",
   "execution_count": 33,
   "metadata": {},
   "outputs": [
    {
     "output_type": "stream",
     "name": "stdout",
     "text": [
      "\n",
      "Fixed-effects (within) regression               Number of obs     =        110\n",
      "Group variable: countrycode                     Number of groups  =         55\n",
      "\n",
      "R-sq:                                           Obs per group:\n",
      "     within  = 0.6404                                         min =          2\n",
      "     between = 0.4086                                         avg =        2.0\n",
      "     overall = 0.4135                                         max =          2\n",
      "\n",
      "                                                F(6,54)           =      10.77\n",
      "corr(u_i, Xb)  = 0.2314                         Prob > F          =     0.0000\n",
      "\n",
      "                            (Std. Err. adjusted for 55 clusters in countrycode)\n",
      "-------------------------------------------------------------------------------\n",
      "              |               Robust\n",
      "       ln_gdp |      Coef.   Std. Err.      t    P>|t|     [95% Conf. Interval]\n",
      "--------------+----------------------------------------------------------------\n",
      "    democracy |  -.0387561   .0655083    -0.59   0.557    -.1700924    .0925801\n",
      "civilsociet~s |  -.0531702   .0438578    -1.21   0.231    -.1410997    .0347593\n",
      "          rol |   .4030467   .0983234     4.10   0.000       .20592    .6001733\n",
      "        trade |  -.0061683   .0013306    -4.64   0.000    -.0088359   -.0035006\n",
      "    broadband |   .0077705   .0046089     1.69   0.098    -.0014698    .0170108\n",
      "life_expect~y |   .0322754   .0093288     3.46   0.001     .0135722    .0509785\n",
      "        _cons |   6.990761   .6050079    11.55   0.000     5.777793    8.203729\n",
      "--------------+----------------------------------------------------------------\n",
      "      sigma_u |  .86899557\n",
      "      sigma_e |   .1978094\n",
      "          rho |  .95073719   (fraction of variance due to u_i)\n",
      "-------------------------------------------------------------------------------\n"
     ]
    }
   ],
   "source": [
    "xtreg ln_gdp democracy civilsocietytraditions rol trade broadband life_expectancy, fe r"
   ]
  },
  {
   "cell_type": "code",
   "execution_count": 27,
   "metadata": {},
   "outputs": [
    {
     "output_type": "stream",
     "name": "stdout",
     "text": [
      "\n",
      "             | democr~y civils~s      rol    trade broadb~d life_e~y tech_exp\n",
      "-------------+---------------------------------------------------------------\n",
      "   democracy |   1.0000 \n",
      "civilsocie~s |  -0.5059   1.0000 \n",
      "         rol |   0.3178  -0.6502   1.0000 \n",
      "       trade |  -0.0824  -0.1745   0.5190   1.0000 \n",
      "   broadband |   0.1410  -0.4156   0.5951   0.4695   1.0000 \n",
      "life_expec~y |   0.2572  -0.3335   0.4677   0.2816   0.6118   1.0000 \n",
      "    tech_exp |   0.1241  -0.3335   0.3223   0.2835   0.4103   0.2813   1.0000 \n",
      "   broadband |   0.1410  -0.4156   0.5951   0.4695   1.0000   0.6118   0.4103 \n",
      "\n",
      "             | broadb~d\n",
      "-------------+---------\n",
      "   broadband |   1.0000 \n"
     ]
    }
   ],
   "source": [
    "pwcorr democracy civilsocietytraditions rol trade broadband life_expectancy tech_exp broadband"
   ]
  },
  {
   "cell_type": "code",
   "execution_count": 6,
   "metadata": {},
   "outputs": [
    {
     "output_type": "stream",
     "name": "stdout",
     "text": [
      "\n",
      "\n",
      ".     de\n",
      "\n",
      "Contains data\n",
      "  obs:           110                          \n",
      " vars:            58                          \n",
      "--------------------------------------------------------------------------------\n",
      "              storage   display    value\n",
      "variable name   type    format     label      variable label\n",
      "--------------------------------------------------------------------------------\n",
      "country         str14   %14s                  \n",
      "year            int     %8.0g                 \n",
      "tech_exp        float   %9.0g                 \n",
      "tech_exp1       float   %9.0g                 algeria\n",
      "tech_exp2       float   %9.0g                 argentina\n",
      "tech_exp3       float   %9.0g                 armenia\n",
      "tech_exp4       float   %9.0g                 azerbaijan\n",
      "tech_exp5       float   %9.0g                 belarus\n",
      "tech_exp6       float   %9.0g                 cameroon\n",
      "tech_exp7       float   %9.0g                 chile\n",
      "tech_exp8       float   %9.0g                 china\n",
      "tech_exp9       float   %9.0g                 colombia\n",
      "tech_exp10      float   %9.0g                 costa rica\n",
      "tech_exp11      float   %9.0g                 croatia\n",
      "tech_exp12      float   %9.0g                 cuba\n",
      "tech_exp13      float   %9.0g                 czech republic\n",
      "tech_exp14      float   %9.0g                 ecuador\n",
      "tech_exp15      float   %9.0g                 el salvador\n",
      "tech_exp16      float   %9.0g                 estonia\n",
      "tech_exp17      float   %9.0g                 georgia\n",
      "tech_exp18      float   %9.0g                 ghana\n",
      "tech_exp19      float   %9.0g                 hungary\n",
      "tech_exp20      float   %9.0g                 india\n",
      "tech_exp21      float   %9.0g                 indonesia\n",
      "tech_exp22      float   %9.0g                 iraq\n",
      "tech_exp23      float   %9.0g                 kazakhstan\n",
      "tech_exp24      float   %9.0g                 kenya\n",
      "tech_exp25      float   %9.0g                 latvia\n",
      "tech_exp26      float   %9.0g                 lithuania\n",
      "tech_exp27      float   %9.0g                 madagascar\n",
      "tech_exp28      float   %9.0g                 malawi\n",
      "tech_exp29      float   %9.0g                 mauritius\n",
      "tech_exp30      float   %9.0g                 mexico\n",
      "tech_exp31      float   %9.0g                 moldova\n",
      "tech_exp32      float   %9.0g                 mongolia\n",
      "tech_exp33      float   %9.0g                 montenegro\n",
      "tech_exp34      float   %9.0g                 mozambique\n",
      "tech_exp35      float   %9.0g                 namibia\n",
      "tech_exp36      float   %9.0g                 nigeria\n",
      "tech_exp37      float   %9.0g                 pakistan\n",
      "tech_exp38      float   %9.0g                 panama\n",
      "tech_exp39      float   %9.0g                 paraguay\n",
      "tech_exp40      float   %9.0g                 peru\n",
      "tech_exp41      float   %9.0g                 philippines\n",
      "tech_exp42      float   %9.0g                 poland\n",
      "tech_exp43      float   %9.0g                 rwanda\n",
      "tech_exp44      float   %9.0g                 senegal\n",
      "tech_exp45      float   %9.0g                 serbia\n",
      "tech_exp46      float   %9.0g                 singapore\n",
      "tech_exp47      float   %9.0g                 slovenia\n",
      "tech_exp48      float   %9.0g                 south africa\n",
      "tech_exp49      float   %9.0g                 sri lanka\n",
      "tech_exp50      float   %9.0g                 turkey\n",
      "tech_exp51      float   %9.0g                 ukraine\n",
      "tech_exp52      float   %9.0g                 uruguay\n",
      "tech_exp53      float   %9.0g                 uzbekistan\n",
      "tech_exp54      float   %9.0g                 zambia\n",
      "tech_exp55      float   %9.0g                 zimbabwe\n",
      "--------------------------------------------------------------------------------\n",
      "Sorted by: year\n",
      "     Note: Dataset has changed since last saved.\n",
      "\n",
      ". cap noi     line tech_exp* year, xlabel(2008 2018) ysize(5) leg(off)\n",
      "\n",
      ". if _rc == 0 {\n",
      ".     noi gr export `\"/Users/santerivaataja/.stata_kernel_cache/graph$stata_kern\n",
      "> el_graph_counter.svg\"', width(600) replace\n"
     ]
    },
    {
     "output_type": "display_data",
     "data": {
      "text/plain": "This front-end cannot display the desired image type.",
      "text/html": "                <iframe frameborder=\"0\" scrolling=\"no\" height=\"545\" width=\"600\"                srcdoc=\"<html><body>&lt;?xml version=&quot;1.0&quot; encoding=&quot;UTF-8&quot; standalone=&quot;no&quot;?&gt;\n&lt;!-- This is a Stata 16.1 generated SVG file (http://www.stata.com) --&gt;\n\n&lt;svg version=&quot;1.1&quot; width=&quot;600px&quot; height=&quot;545px&quot; viewBox=&quot;0 0 3960 3600&quot; xmlns=&quot;http://www.w3.org/2000/svg&quot; xmlns:xlink=&quot;http://www.w3.org/1999/xlink&quot;&gt;\n\t&lt;desc&gt;Stata Graph - Graph&lt;/desc&gt;\n\t&lt;rect x=&quot;0&quot; y=&quot;0&quot; width=&quot;3960&quot; height=&quot;3600&quot; style=&quot;fill:#FFFFFF;stroke:none&quot;/&gt;\n\t&lt;rect x=&quot;0.00&quot; y=&quot;0.00&quot; width=&quot;3959.88&quot; height=&quot;3600.00&quot; style=&quot;fill:#FFFFFF&quot;/&gt;\n\t&lt;rect x=&quot;3.60&quot; y=&quot;3.60&quot; width=&quot;3952.68&quot; height=&quot;3592.80&quot; style=&quot;fill:none;stroke:#FFFFFF;stroke-width:7.20&quot;/&gt;\n\t&lt;rect x=&quot;367.05&quot; y=&quot;129.58&quot; width=&quot;3463.25&quot; height=&quot;2978.36&quot; style=&quot;fill:none;stroke:#000000;stroke-width:7.20&quot;/&gt;\n\t&lt;path d=&quot; M442.65 2538.07 L442.65 1634.66 L442.65 2551.31 L442.65 2250.84 L442.65 2353.55 L442.65 330.67 L442.65 2865.52 L442.65 1559.30 L442.65 1003.15 L442.65 2965.76 L442.65 2958.09 L442.65 1837.74 L442.65 695.00 L442.65 1953.08 L442.65 2709.34 L442.65 818.63 L442.65 1750.25 L442.65 867.14 L442.65 1796.53 L442.65 2415.43 L442.65 3030.11 L442.65 2713.30 L442.65 1325.03 L442.65 2079.56 L442.65 2599.57 L442.65 2338.82 L442.65 1907.29 L442.65 2499.09 L442.65 690.79 L442.65 2429.54 L442.65 2090.45 L442.65 3006.23 L442.65 2003.95 L442.65 2542.77 L442.65 2642.27 L442.65 1955.06 L442.65 2515.79 L442.65 349.11 L442.65 2400.58 L442.65 2536.95 L442.65 325.10 L442.65 1824.75 L442.65 914.66 L442.65 1684.41 L442.65 1665.48 L442.65 1460.67 L442.65 476.33 L442.65 1247.56 L442.65 1779.58 L442.65 2169.78 L442.65 1559.79 L442.65 2926.53 L442.65 1023.69 L442.65 2666.40 L442.65 1300.90 L3754.57 1954.57 L3754.57 2870.47 L3754.57 2863.79 L3754.57 2075.23 L3754.57 1549.52 L3754.57 818.63 L3754.57 2501.68 L3754.57 2247.49 L3754.57 1480.59 L3754.57 2638.43 L3754.57 2522.48 L3754.57 2020.16 L3754.57 2502.92 L3754.57 1406.83 L3754.57 2221.26 L3754.57 212.49 L3754.57 919.86 L3754.57 2965.64 L3754.57 568.03 L3754.57 2121.14 L3754.57 1161.18 L3754.57 1251.28 L3754.57 1497.17 L3754.57 205.31 L3754.57 2531.88 L3754.57 1519.33 L3754.57 1949.00 L3754.57 2965.39 L3754.57 1666.59 L3754.57 555.90 L3754.57 2030.18 L3754.57 402.70 L3754.57 1581.45 L3754.57 1378.12 L3754.57 1145.59 L3754.57 1418.34 L3754.57 2282.89 L3754.57 1818.69 L3754.57 2618.88 L3754.57 2665.41 L3754.57 1807.30 L3754.57 2518.02 L3754.57 1440.37 L3754.57 1671.05 L3754.57 2711.82 L3754.57 808.48 L3754.57 2480.40 L3754.57 1797.77 L3754.57 1468.96 L3754.57 2894.60 L3754.57 3031.10 L3754.57 1707.93 L3754.57 2598.34 L3754.57 2672.84 L3754.57 2354.79&quot; stroke-linejoin=&quot;round&quot; style=&quot;fill:none;stroke:#606060;stroke-width:10.80&quot;/&gt;\n\t&lt;path d=&quot; M442.65 3006.23 L3754.57 2894.60&quot; stroke-linejoin=&quot;round&quot; style=&quot;fill:none;stroke:#A0A0A0;stroke-width:10.80&quot;/&gt;\n\t&lt;path d=&quot; M442.65 1684.41 L3754.57 1418.34&quot; stroke-linejoin=&quot;round&quot; style=&quot;fill:none;stroke:#808080;stroke-width:10.80&quot;/&gt;\n\t&lt;path d=&quot; M442.65 1955.06 L3754.57 2518.02&quot; stroke-linejoin=&quot;round&quot; style=&quot;fill:none;stroke:#404040;stroke-width:10.80&quot;/&gt;\n\t&lt;path d=&quot; M442.65 2642.27 L3754.57 2221.26&quot; stroke-linejoin=&quot;round&quot; style=&quot;fill:none;stroke:#000000;stroke-width:10.80&quot;/&gt;\n\t&lt;path d=&quot; M442.65 1665.48 L3754.57 1671.05&quot; stroke-linejoin=&quot;round&quot; style=&quot;fill:none;stroke:#C0C0C0;stroke-width:10.80&quot;/&gt;\n\t&lt;path d=&quot; M442.65 2169.78 L3754.57 2598.34&quot; stroke-linejoin=&quot;round&quot; style=&quot;fill:none;stroke:#202020;stroke-width:10.80&quot;/&gt;\n\t&lt;path d=&quot; M442.65 2515.79 L3754.57 2711.82&quot; stroke-linejoin=&quot;round&quot; style=&quot;fill:none;stroke:#707070;stroke-width:10.80&quot;/&gt;\n\t&lt;path d=&quot; M442.65 1003.15 L3754.57 919.86&quot; stroke-linejoin=&quot;round&quot; style=&quot;fill:none;stroke:#909090;stroke-width:10.80&quot;/&gt;\n\t&lt;path d=&quot; M442.65 1824.75 L3754.57 1666.59&quot; stroke-linejoin=&quot;round&quot; style=&quot;fill:none;stroke:#B0B0B0;stroke-width:10.80&quot;/&gt;\n\t&lt;path d=&quot; M442.65 914.66 L3754.57 1251.28&quot; stroke-linejoin=&quot;round&quot; style=&quot;fill:none;stroke:#D0D0D0;stroke-width:10.80&quot;/&gt;\n\t&lt;path d=&quot; M442.65 1300.90 L3754.57 1440.37&quot; stroke-linejoin=&quot;round&quot; style=&quot;fill:none;stroke:#505050;stroke-width:10.80&quot;/&gt;\n\t&lt;path d=&quot; M442.65 818.63 L3754.57 818.63&quot; stroke-linejoin=&quot;round&quot; style=&quot;fill:none;stroke:#303030;stroke-width:10.80&quot;/&gt;\n\t&lt;path d=&quot; M442.65 695.00 L3754.57 555.90&quot; stroke-linejoin=&quot;round&quot; style=&quot;fill:none;stroke:#C0C0C0;stroke-width:10.80&quot;/&gt;\n\t&lt;path d=&quot; M442.65 2338.82 L3754.57 2618.88&quot; stroke-linejoin=&quot;round&quot; style=&quot;fill:none;stroke:#505050;stroke-width:10.80&quot;/&gt;\n\t&lt;path d=&quot; M442.65 2353.55 L3754.57 2502.92&quot; stroke-linejoin=&quot;round&quot; style=&quot;fill:none;stroke:#606060;stroke-width:10.80&quot;/&gt;\n\t&lt;path d=&quot; M442.65 1559.79 L3754.57 1378.12&quot; stroke-linejoin=&quot;round&quot; style=&quot;fill:none;stroke:#A0A0A0;stroke-width:10.80&quot;/&gt;\n\t&lt;path d=&quot; M442.65 1325.03 L3754.57 1949.00&quot; stroke-linejoin=&quot;round&quot; style=&quot;fill:none;stroke:#808080;stroke-width:10.80&quot;/&gt;\n\t&lt;path d=&quot; M442.65 2400.58 L3754.57 2501.68&quot; stroke-linejoin=&quot;round&quot; style=&quot;fill:none;stroke:#404040;stroke-width:10.80&quot;/&gt;\n\t&lt;path d=&quot; M442.65 330.67 L3754.57 402.70&quot; stroke-linejoin=&quot;round&quot; style=&quot;fill:none;stroke:#000000;stroke-width:10.80&quot;/&gt;\n\t&lt;path d=&quot; M442.65 2079.56 L3754.57 1818.69&quot; stroke-linejoin=&quot;round&quot; style=&quot;fill:none;stroke:#C0C0C0;stroke-width:10.80&quot;/&gt;\n\t&lt;path d=&quot; M442.65 2003.95 L3754.57 2030.18&quot; stroke-linejoin=&quot;round&quot; style=&quot;fill:none;stroke:#202020;stroke-width:10.80&quot;/&gt;\n\t&lt;path d=&quot; M442.65 3030.11 L3754.57 3031.10&quot; stroke-linejoin=&quot;round&quot; style=&quot;fill:none;stroke:#707070;stroke-width:10.80&quot;/&gt;\n\t&lt;path d=&quot; M442.65 1796.53 L3754.57 1807.30&quot; stroke-linejoin=&quot;round&quot; style=&quot;fill:none;stroke:#909090;stroke-width:10.80&quot;/&gt;\n\t&lt;path d=&quot; M442.65 2415.43 L3754.57 2282.89&quot; stroke-linejoin=&quot;round&quot; style=&quot;fill:none;stroke:#B0B0B0;stroke-width:10.80&quot;/&gt;\n\t&lt;path d=&quot; M442.65 1837.74 L3754.57 1519.33&quot; stroke-linejoin=&quot;round&quot; style=&quot;fill:none;stroke:#D0D0D0;stroke-width:10.80&quot;/&gt;\n\t&lt;path d=&quot; M442.65 1634.66 L3754.57 1549.52&quot; stroke-linejoin=&quot;round&quot; style=&quot;fill:none;stroke:#505050;stroke-width:10.80&quot;/&gt;\n\t&lt;path d=&quot; M442.65 2958.09 L3754.57 2870.47&quot; stroke-linejoin=&quot;round&quot; style=&quot;fill:none;stroke:#303030;stroke-width:10.80&quot;/&gt;\n\t&lt;path d=&quot; M442.65 2499.09 L3754.57 1581.45&quot; stroke-linejoin=&quot;round&quot; style=&quot;fill:none;stroke:#C0C0C0;stroke-width:10.80&quot;/&gt;\n\t&lt;path d=&quot; M442.65 2599.57 L3754.57 2531.88&quot; stroke-linejoin=&quot;round&quot; style=&quot;fill:none;stroke:#505050;stroke-width:10.80&quot;/&gt;\n\t&lt;path d=&quot; M442.65 349.11 L3754.57 205.31&quot; stroke-linejoin=&quot;round&quot; style=&quot;fill:none;stroke:#606060;stroke-width:10.80&quot;/&gt;\n\t&lt;path d=&quot; M442.65 2536.95 L3754.57 1707.93&quot; stroke-linejoin=&quot;round&quot; style=&quot;fill:none;stroke:#A0A0A0;stroke-width:10.80&quot;/&gt;\n\t&lt;path d=&quot; M442.65 2965.76 L3754.57 2965.39&quot; stroke-linejoin=&quot;round&quot; style=&quot;fill:none;stroke:#808080;stroke-width:10.80&quot;/&gt;\n\t&lt;path d=&quot; M442.65 2090.45 L3754.57 2121.14&quot; stroke-linejoin=&quot;round&quot; style=&quot;fill:none;stroke:#404040;stroke-width:10.80&quot;/&gt;\n\t&lt;path d=&quot; M442.65 1779.58 L3754.57 2480.40&quot; stroke-linejoin=&quot;round&quot; style=&quot;fill:none;stroke:#000000;stroke-width:10.80&quot;/&gt;\n\t&lt;path d=&quot; M442.65 2551.31 L3754.57 2965.64&quot; stroke-linejoin=&quot;round&quot; style=&quot;fill:none;stroke:#C0C0C0;stroke-width:10.80&quot;/&gt;\n\t&lt;path d=&quot; M442.65 476.33 L3754.57 1161.18&quot; stroke-linejoin=&quot;round&quot; style=&quot;fill:none;stroke:#202020;stroke-width:10.80&quot;/&gt;\n\t&lt;path d=&quot; M442.65 2713.30 L3754.57 2672.84&quot; stroke-linejoin=&quot;round&quot; style=&quot;fill:none;stroke:#707070;stroke-width:10.80&quot;/&gt;\n\t&lt;path d=&quot; M442.65 2542.77 L3754.57 1497.17&quot; stroke-linejoin=&quot;round&quot; style=&quot;fill:none;stroke:#909090;stroke-width:10.80&quot;/&gt;\n\t&lt;path d=&quot; M442.65 2666.40 L3754.57 1954.57&quot; stroke-linejoin=&quot;round&quot; style=&quot;fill:none;stroke:#B0B0B0;stroke-width:10.80&quot;/&gt;\n\t&lt;path d=&quot; M442.65 2865.52 L3754.57 2863.79&quot; stroke-linejoin=&quot;round&quot; style=&quot;fill:none;stroke:#D0D0D0;stroke-width:10.80&quot;/&gt;\n\t&lt;path d=&quot; M442.65 325.10 L3754.57 212.49&quot; stroke-linejoin=&quot;round&quot; style=&quot;fill:none;stroke:#505050;stroke-width:10.80&quot;/&gt;\n\t&lt;path d=&quot; M442.65 1023.69 L3754.57 1145.59&quot; stroke-linejoin=&quot;round&quot; style=&quot;fill:none;stroke:#303030;stroke-width:10.80&quot;/&gt;\n\t&lt;path d=&quot; M442.65 2926.53 L3754.57 2638.43&quot; stroke-linejoin=&quot;round&quot; style=&quot;fill:none;stroke:#C0C0C0;stroke-width:10.80&quot;/&gt;\n\t&lt;path d=&quot; M442.65 2429.54 L3754.57 2522.48&quot; stroke-linejoin=&quot;round&quot; style=&quot;fill:none;stroke:#505050;stroke-width:10.80&quot;/&gt;\n\t&lt;path d=&quot; M442.65 1907.29 L3754.57 1468.96&quot; stroke-linejoin=&quot;round&quot; style=&quot;fill:none;stroke:#606060;stroke-width:10.80&quot;/&gt;\n\t&lt;path d=&quot; M442.65 690.79 L3754.57 568.03&quot; stroke-linejoin=&quot;round&quot; style=&quot;fill:none;stroke:#A0A0A0;stroke-width:10.80&quot;/&gt;\n\t&lt;path d=&quot; M442.65 867.14 L3754.57 808.48&quot; stroke-linejoin=&quot;round&quot; style=&quot;fill:none;stroke:#808080;stroke-width:10.80&quot;/&gt;\n\t&lt;path d=&quot; M442.65 1247.56 L3754.57 1406.83&quot; stroke-linejoin=&quot;round&quot; style=&quot;fill:none;stroke:#404040;stroke-width:10.80&quot;/&gt;\n\t&lt;path d=&quot; M442.65 2709.34 L3754.57 2665.41&quot; stroke-linejoin=&quot;round&quot; style=&quot;fill:none;stroke:#000000;stroke-width:10.80&quot;/&gt;\n\t&lt;path d=&quot; M442.65 1559.30 L3754.57 1480.59&quot; stroke-linejoin=&quot;round&quot; style=&quot;fill:none;stroke:#C0C0C0;stroke-width:10.80&quot;/&gt;\n\t&lt;path d=&quot; M442.65 1460.67 L3754.57 1797.77&quot; stroke-linejoin=&quot;round&quot; style=&quot;fill:none;stroke:#202020;stroke-width:10.80&quot;/&gt;\n\t&lt;path d=&quot; M442.65 2250.84 L3754.57 2247.49&quot; stroke-linejoin=&quot;round&quot; style=&quot;fill:none;stroke:#707070;stroke-width:10.80&quot;/&gt;\n\t&lt;path d=&quot; M442.65 1750.25 L3754.57 2020.16&quot; stroke-linejoin=&quot;round&quot; style=&quot;fill:none;stroke:#909090;stroke-width:10.80&quot;/&gt;\n\t&lt;path d=&quot; M442.65 2538.07 L3754.57 2075.23&quot; stroke-linejoin=&quot;round&quot; style=&quot;fill:none;stroke:#B0B0B0;stroke-width:10.80&quot;/&gt;\n\t&lt;path d=&quot; M442.65 1953.08 L3754.57 2354.79&quot; stroke-linejoin=&quot;round&quot; style=&quot;fill:none;stroke:#D0D0D0;stroke-width:10.80&quot;/&gt;\n\t&lt;line x1=&quot;363.45&quot; y1=&quot;3111.54&quot; x2=&quot;363.45&quot; y2=&quot;125.98&quot; style=&quot;stroke:#000000;stroke-width:7.20&quot;/&gt;\n\t&lt;line x1=&quot;363.45&quot; y1=&quot;3032.34&quot; x2=&quot;313.46&quot; y2=&quot;3032.34&quot; style=&quot;stroke:#000000;stroke-width:7.20&quot;/&gt;\n\t&lt;text x=&quot;250.90&quot; y=&quot;3032.34&quot; style=&quot;font-family:&#x27;Helvetica&#x27;;font-size:124.99px;fill:#000000&quot; transform=&quot;rotate(-90 250.90,3032.34)&quot; text-anchor=&quot;middle&quot;&gt;0&lt;/text&gt;\n\t&lt;line x1=&quot;363.45&quot; y1=&quot;2334.25&quot; x2=&quot;313.46&quot; y2=&quot;2334.25&quot; style=&quot;stroke:#000000;stroke-width:7.20&quot;/&gt;\n\t&lt;text x=&quot;250.90&quot; y=&quot;2334.25&quot; style=&quot;font-family:&#x27;Helvetica&#x27;;font-size:124.99px;fill:#000000&quot; transform=&quot;rotate(-90 250.90,2334.25)&quot; text-anchor=&quot;middle&quot;&gt;20&lt;/text&gt;\n\t&lt;line x1=&quot;363.45&quot; y1=&quot;1636.27&quot; x2=&quot;313.46&quot; y2=&quot;1636.27&quot; style=&quot;stroke:#000000;stroke-width:7.20&quot;/&gt;\n\t&lt;text x=&quot;250.90&quot; y=&quot;1636.27&quot; style=&quot;font-family:&#x27;Helvetica&#x27;;font-size:124.99px;fill:#000000&quot; transform=&quot;rotate(-90 250.90,1636.27)&quot; text-anchor=&quot;middle&quot;&gt;40&lt;/text&gt;\n\t&lt;line x1=&quot;363.45&quot; y1=&quot;938.18&quot; x2=&quot;313.46&quot; y2=&quot;938.18&quot; style=&quot;stroke:#000000;stroke-width:7.20&quot;/&gt;\n\t&lt;text x=&quot;250.90&quot; y=&quot;938.18&quot; style=&quot;font-family:&#x27;Helvetica&#x27;;font-size:124.99px;fill:#000000&quot; transform=&quot;rotate(-90 250.90,938.18)&quot; text-anchor=&quot;middle&quot;&gt;60&lt;/text&gt;\n\t&lt;line x1=&quot;363.45&quot; y1=&quot;240.08&quot; x2=&quot;313.46&quot; y2=&quot;240.08&quot; style=&quot;stroke:#000000;stroke-width:7.20&quot;/&gt;\n\t&lt;text x=&quot;250.90&quot; y=&quot;240.08&quot; style=&quot;font-family:&#x27;Helvetica&#x27;;font-size:124.99px;fill:#000000&quot; transform=&quot;rotate(-90 250.90,240.08)&quot; text-anchor=&quot;middle&quot;&gt;80&lt;/text&gt;\n\t&lt;line x1=&quot;363.45&quot; y1=&quot;3111.54&quot; x2=&quot;3833.90&quot; y2=&quot;3111.54&quot; style=&quot;stroke:#000000;stroke-width:7.20&quot;/&gt;\n\t&lt;line x1=&quot;442.65&quot; y1=&quot;3111.54&quot; x2=&quot;442.65&quot; y2=&quot;3161.54&quot; style=&quot;stroke:#000000;stroke-width:7.20&quot;/&gt;\n\t&lt;text x=&quot;442.65&quot; y=&quot;3273.97&quot; style=&quot;font-family:&#x27;Helvetica&#x27;;font-size:124.99px;fill:#000000&quot; text-anchor=&quot;middle&quot;&gt;2008&lt;/text&gt;\n\t&lt;line x1=&quot;3754.70&quot; y1=&quot;3111.54&quot; x2=&quot;3754.70&quot; y2=&quot;3161.54&quot; style=&quot;stroke:#000000;stroke-width:7.20&quot;/&gt;\n\t&lt;text x=&quot;3754.70&quot; y=&quot;3273.97&quot; style=&quot;font-family:&#x27;Helvetica&#x27;;font-size:124.99px;fill:#000000&quot; text-anchor=&quot;middle&quot;&gt;2018&lt;/text&gt;\n\t&lt;text x=&quot;2098.68&quot; y=&quot;3411.46&quot; style=&quot;font-family:&#x27;Helvetica&#x27;;font-size:124.99px;fill:#000000&quot; text-anchor=&quot;middle&quot;&gt;year&lt;/text&gt;\n&lt;/svg&gt;\n</body></html>\"></iframe>\n",
      "image/svg+xml": "<?xml version=\"1.0\" encoding=\"UTF-8\" standalone=\"no\"?>\n<!-- This is a Stata 16.1 generated SVG file (http://www.stata.com) -->\n\n<svg version=\"1.1\" width=\"600px\" height=\"545px\" viewBox=\"0 0 3960 3600\" xmlns=\"http://www.w3.org/2000/svg\" xmlns:xlink=\"http://www.w3.org/1999/xlink\">\n\t<desc>Stata Graph - Graph</desc>\n\t<rect x=\"0\" y=\"0\" width=\"3960\" height=\"3600\" style=\"fill:#FFFFFF;stroke:none\"/>\n\t<rect x=\"0.00\" y=\"0.00\" width=\"3959.88\" height=\"3600.00\" style=\"fill:#FFFFFF\"/>\n\t<rect x=\"3.60\" y=\"3.60\" width=\"3952.68\" height=\"3592.80\" style=\"fill:none;stroke:#FFFFFF;stroke-width:7.20\"/>\n\t<rect x=\"367.05\" y=\"129.58\" width=\"3463.25\" height=\"2978.36\" style=\"fill:none;stroke:#000000;stroke-width:7.20\"/>\n\t<path d=\" M442.65 2538.07 L442.65 1634.66 L442.65 2551.31 L442.65 2250.84 L442.65 2353.55 L442.65 330.67 L442.65 2865.52 L442.65 1559.30 L442.65 1003.15 L442.65 2965.76 L442.65 2958.09 L442.65 1837.74 L442.65 695.00 L442.65 1953.08 L442.65 2709.34 L442.65 818.63 L442.65 1750.25 L442.65 867.14 L442.65 1796.53 L442.65 2415.43 L442.65 3030.11 L442.65 2713.30 L442.65 1325.03 L442.65 2079.56 L442.65 2599.57 L442.65 2338.82 L442.65 1907.29 L442.65 2499.09 L442.65 690.79 L442.65 2429.54 L442.65 2090.45 L442.65 3006.23 L442.65 2003.95 L442.65 2542.77 L442.65 2642.27 L442.65 1955.06 L442.65 2515.79 L442.65 349.11 L442.65 2400.58 L442.65 2536.95 L442.65 325.10 L442.65 1824.75 L442.65 914.66 L442.65 1684.41 L442.65 1665.48 L442.65 1460.67 L442.65 476.33 L442.65 1247.56 L442.65 1779.58 L442.65 2169.78 L442.65 1559.79 L442.65 2926.53 L442.65 1023.69 L442.65 2666.40 L442.65 1300.90 L3754.57 1954.57 L3754.57 2870.47 L3754.57 2863.79 L3754.57 2075.23 L3754.57 1549.52 L3754.57 818.63 L3754.57 2501.68 L3754.57 2247.49 L3754.57 1480.59 L3754.57 2638.43 L3754.57 2522.48 L3754.57 2020.16 L3754.57 2502.92 L3754.57 1406.83 L3754.57 2221.26 L3754.57 212.49 L3754.57 919.86 L3754.57 2965.64 L3754.57 568.03 L3754.57 2121.14 L3754.57 1161.18 L3754.57 1251.28 L3754.57 1497.17 L3754.57 205.31 L3754.57 2531.88 L3754.57 1519.33 L3754.57 1949.00 L3754.57 2965.39 L3754.57 1666.59 L3754.57 555.90 L3754.57 2030.18 L3754.57 402.70 L3754.57 1581.45 L3754.57 1378.12 L3754.57 1145.59 L3754.57 1418.34 L3754.57 2282.89 L3754.57 1818.69 L3754.57 2618.88 L3754.57 2665.41 L3754.57 1807.30 L3754.57 2518.02 L3754.57 1440.37 L3754.57 1671.05 L3754.57 2711.82 L3754.57 808.48 L3754.57 2480.40 L3754.57 1797.77 L3754.57 1468.96 L3754.57 2894.60 L3754.57 3031.10 L3754.57 1707.93 L3754.57 2598.34 L3754.57 2672.84 L3754.57 2354.79\" stroke-linejoin=\"round\" style=\"fill:none;stroke:#606060;stroke-width:10.80\"/>\n\t<path d=\" M442.65 3006.23 L3754.57 2894.60\" stroke-linejoin=\"round\" style=\"fill:none;stroke:#A0A0A0;stroke-width:10.80\"/>\n\t<path d=\" M442.65 1684.41 L3754.57 1418.34\" stroke-linejoin=\"round\" style=\"fill:none;stroke:#808080;stroke-width:10.80\"/>\n\t<path d=\" M442.65 1955.06 L3754.57 2518.02\" stroke-linejoin=\"round\" style=\"fill:none;stroke:#404040;stroke-width:10.80\"/>\n\t<path d=\" M442.65 2642.27 L3754.57 2221.26\" stroke-linejoin=\"round\" style=\"fill:none;stroke:#000000;stroke-width:10.80\"/>\n\t<path d=\" M442.65 1665.48 L3754.57 1671.05\" stroke-linejoin=\"round\" style=\"fill:none;stroke:#C0C0C0;stroke-width:10.80\"/>\n\t<path d=\" M442.65 2169.78 L3754.57 2598.34\" stroke-linejoin=\"round\" style=\"fill:none;stroke:#202020;stroke-width:10.80\"/>\n\t<path d=\" M442.65 2515.79 L3754.57 2711.82\" stroke-linejoin=\"round\" style=\"fill:none;stroke:#707070;stroke-width:10.80\"/>\n\t<path d=\" M442.65 1003.15 L3754.57 919.86\" stroke-linejoin=\"round\" style=\"fill:none;stroke:#909090;stroke-width:10.80\"/>\n\t<path d=\" M442.65 1824.75 L3754.57 1666.59\" stroke-linejoin=\"round\" style=\"fill:none;stroke:#B0B0B0;stroke-width:10.80\"/>\n\t<path d=\" M442.65 914.66 L3754.57 1251.28\" stroke-linejoin=\"round\" style=\"fill:none;stroke:#D0D0D0;stroke-width:10.80\"/>\n\t<path d=\" M442.65 1300.90 L3754.57 1440.37\" stroke-linejoin=\"round\" style=\"fill:none;stroke:#505050;stroke-width:10.80\"/>\n\t<path d=\" M442.65 818.63 L3754.57 818.63\" stroke-linejoin=\"round\" style=\"fill:none;stroke:#303030;stroke-width:10.80\"/>\n\t<path d=\" M442.65 695.00 L3754.57 555.90\" stroke-linejoin=\"round\" style=\"fill:none;stroke:#C0C0C0;stroke-width:10.80\"/>\n\t<path d=\" M442.65 2338.82 L3754.57 2618.88\" stroke-linejoin=\"round\" style=\"fill:none;stroke:#505050;stroke-width:10.80\"/>\n\t<path d=\" M442.65 2353.55 L3754.57 2502.92\" stroke-linejoin=\"round\" style=\"fill:none;stroke:#606060;stroke-width:10.80\"/>\n\t<path d=\" M442.65 1559.79 L3754.57 1378.12\" stroke-linejoin=\"round\" style=\"fill:none;stroke:#A0A0A0;stroke-width:10.80\"/>\n\t<path d=\" M442.65 1325.03 L3754.57 1949.00\" stroke-linejoin=\"round\" style=\"fill:none;stroke:#808080;stroke-width:10.80\"/>\n\t<path d=\" M442.65 2400.58 L3754.57 2501.68\" stroke-linejoin=\"round\" style=\"fill:none;stroke:#404040;stroke-width:10.80\"/>\n\t<path d=\" M442.65 330.67 L3754.57 402.70\" stroke-linejoin=\"round\" style=\"fill:none;stroke:#000000;stroke-width:10.80\"/>\n\t<path d=\" M442.65 2079.56 L3754.57 1818.69\" stroke-linejoin=\"round\" style=\"fill:none;stroke:#C0C0C0;stroke-width:10.80\"/>\n\t<path d=\" M442.65 2003.95 L3754.57 2030.18\" stroke-linejoin=\"round\" style=\"fill:none;stroke:#202020;stroke-width:10.80\"/>\n\t<path d=\" M442.65 3030.11 L3754.57 3031.10\" stroke-linejoin=\"round\" style=\"fill:none;stroke:#707070;stroke-width:10.80\"/>\n\t<path d=\" M442.65 1796.53 L3754.57 1807.30\" stroke-linejoin=\"round\" style=\"fill:none;stroke:#909090;stroke-width:10.80\"/>\n\t<path d=\" M442.65 2415.43 L3754.57 2282.89\" stroke-linejoin=\"round\" style=\"fill:none;stroke:#B0B0B0;stroke-width:10.80\"/>\n\t<path d=\" M442.65 1837.74 L3754.57 1519.33\" stroke-linejoin=\"round\" style=\"fill:none;stroke:#D0D0D0;stroke-width:10.80\"/>\n\t<path d=\" M442.65 1634.66 L3754.57 1549.52\" stroke-linejoin=\"round\" style=\"fill:none;stroke:#505050;stroke-width:10.80\"/>\n\t<path d=\" M442.65 2958.09 L3754.57 2870.47\" stroke-linejoin=\"round\" style=\"fill:none;stroke:#303030;stroke-width:10.80\"/>\n\t<path d=\" M442.65 2499.09 L3754.57 1581.45\" stroke-linejoin=\"round\" style=\"fill:none;stroke:#C0C0C0;stroke-width:10.80\"/>\n\t<path d=\" M442.65 2599.57 L3754.57 2531.88\" stroke-linejoin=\"round\" style=\"fill:none;stroke:#505050;stroke-width:10.80\"/>\n\t<path d=\" M442.65 349.11 L3754.57 205.31\" stroke-linejoin=\"round\" style=\"fill:none;stroke:#606060;stroke-width:10.80\"/>\n\t<path d=\" M442.65 2536.95 L3754.57 1707.93\" stroke-linejoin=\"round\" style=\"fill:none;stroke:#A0A0A0;stroke-width:10.80\"/>\n\t<path d=\" M442.65 2965.76 L3754.57 2965.39\" stroke-linejoin=\"round\" style=\"fill:none;stroke:#808080;stroke-width:10.80\"/>\n\t<path d=\" M442.65 2090.45 L3754.57 2121.14\" stroke-linejoin=\"round\" style=\"fill:none;stroke:#404040;stroke-width:10.80\"/>\n\t<path d=\" M442.65 1779.58 L3754.57 2480.40\" stroke-linejoin=\"round\" style=\"fill:none;stroke:#000000;stroke-width:10.80\"/>\n\t<path d=\" M442.65 2551.31 L3754.57 2965.64\" stroke-linejoin=\"round\" style=\"fill:none;stroke:#C0C0C0;stroke-width:10.80\"/>\n\t<path d=\" M442.65 476.33 L3754.57 1161.18\" stroke-linejoin=\"round\" style=\"fill:none;stroke:#202020;stroke-width:10.80\"/>\n\t<path d=\" M442.65 2713.30 L3754.57 2672.84\" stroke-linejoin=\"round\" style=\"fill:none;stroke:#707070;stroke-width:10.80\"/>\n\t<path d=\" M442.65 2542.77 L3754.57 1497.17\" stroke-linejoin=\"round\" style=\"fill:none;stroke:#909090;stroke-width:10.80\"/>\n\t<path d=\" M442.65 2666.40 L3754.57 1954.57\" stroke-linejoin=\"round\" style=\"fill:none;stroke:#B0B0B0;stroke-width:10.80\"/>\n\t<path d=\" M442.65 2865.52 L3754.57 2863.79\" stroke-linejoin=\"round\" style=\"fill:none;stroke:#D0D0D0;stroke-width:10.80\"/>\n\t<path d=\" M442.65 325.10 L3754.57 212.49\" stroke-linejoin=\"round\" style=\"fill:none;stroke:#505050;stroke-width:10.80\"/>\n\t<path d=\" M442.65 1023.69 L3754.57 1145.59\" stroke-linejoin=\"round\" style=\"fill:none;stroke:#303030;stroke-width:10.80\"/>\n\t<path d=\" M442.65 2926.53 L3754.57 2638.43\" stroke-linejoin=\"round\" style=\"fill:none;stroke:#C0C0C0;stroke-width:10.80\"/>\n\t<path d=\" M442.65 2429.54 L3754.57 2522.48\" stroke-linejoin=\"round\" style=\"fill:none;stroke:#505050;stroke-width:10.80\"/>\n\t<path d=\" M442.65 1907.29 L3754.57 1468.96\" stroke-linejoin=\"round\" style=\"fill:none;stroke:#606060;stroke-width:10.80\"/>\n\t<path d=\" M442.65 690.79 L3754.57 568.03\" stroke-linejoin=\"round\" style=\"fill:none;stroke:#A0A0A0;stroke-width:10.80\"/>\n\t<path d=\" M442.65 867.14 L3754.57 808.48\" stroke-linejoin=\"round\" style=\"fill:none;stroke:#808080;stroke-width:10.80\"/>\n\t<path d=\" M442.65 1247.56 L3754.57 1406.83\" stroke-linejoin=\"round\" style=\"fill:none;stroke:#404040;stroke-width:10.80\"/>\n\t<path d=\" M442.65 2709.34 L3754.57 2665.41\" stroke-linejoin=\"round\" style=\"fill:none;stroke:#000000;stroke-width:10.80\"/>\n\t<path d=\" M442.65 1559.30 L3754.57 1480.59\" stroke-linejoin=\"round\" style=\"fill:none;stroke:#C0C0C0;stroke-width:10.80\"/>\n\t<path d=\" M442.65 1460.67 L3754.57 1797.77\" stroke-linejoin=\"round\" style=\"fill:none;stroke:#202020;stroke-width:10.80\"/>\n\t<path d=\" M442.65 2250.84 L3754.57 2247.49\" stroke-linejoin=\"round\" style=\"fill:none;stroke:#707070;stroke-width:10.80\"/>\n\t<path d=\" M442.65 1750.25 L3754.57 2020.16\" stroke-linejoin=\"round\" style=\"fill:none;stroke:#909090;stroke-width:10.80\"/>\n\t<path d=\" M442.65 2538.07 L3754.57 2075.23\" stroke-linejoin=\"round\" style=\"fill:none;stroke:#B0B0B0;stroke-width:10.80\"/>\n\t<path d=\" M442.65 1953.08 L3754.57 2354.79\" stroke-linejoin=\"round\" style=\"fill:none;stroke:#D0D0D0;stroke-width:10.80\"/>\n\t<line x1=\"363.45\" y1=\"3111.54\" x2=\"363.45\" y2=\"125.98\" style=\"stroke:#000000;stroke-width:7.20\"/>\n\t<line x1=\"363.45\" y1=\"3032.34\" x2=\"313.46\" y2=\"3032.34\" style=\"stroke:#000000;stroke-width:7.20\"/>\n\t<text x=\"250.90\" y=\"3032.34\" style=\"font-family:'Helvetica';font-size:124.99px;fill:#000000\" transform=\"rotate(-90 250.90,3032.34)\" text-anchor=\"middle\">0</text>\n\t<line x1=\"363.45\" y1=\"2334.25\" x2=\"313.46\" y2=\"2334.25\" style=\"stroke:#000000;stroke-width:7.20\"/>\n\t<text x=\"250.90\" y=\"2334.25\" style=\"font-family:'Helvetica';font-size:124.99px;fill:#000000\" transform=\"rotate(-90 250.90,2334.25)\" text-anchor=\"middle\">20</text>\n\t<line x1=\"363.45\" y1=\"1636.27\" x2=\"313.46\" y2=\"1636.27\" style=\"stroke:#000000;stroke-width:7.20\"/>\n\t<text x=\"250.90\" y=\"1636.27\" style=\"font-family:'Helvetica';font-size:124.99px;fill:#000000\" transform=\"rotate(-90 250.90,1636.27)\" text-anchor=\"middle\">40</text>\n\t<line x1=\"363.45\" y1=\"938.18\" x2=\"313.46\" y2=\"938.18\" style=\"stroke:#000000;stroke-width:7.20\"/>\n\t<text x=\"250.90\" y=\"938.18\" style=\"font-family:'Helvetica';font-size:124.99px;fill:#000000\" transform=\"rotate(-90 250.90,938.18)\" text-anchor=\"middle\">60</text>\n\t<line x1=\"363.45\" y1=\"240.08\" x2=\"313.46\" y2=\"240.08\" style=\"stroke:#000000;stroke-width:7.20\"/>\n\t<text x=\"250.90\" y=\"240.08\" style=\"font-family:'Helvetica';font-size:124.99px;fill:#000000\" transform=\"rotate(-90 250.90,240.08)\" text-anchor=\"middle\">80</text>\n\t<line x1=\"363.45\" y1=\"3111.54\" x2=\"3833.90\" y2=\"3111.54\" style=\"stroke:#000000;stroke-width:7.20\"/>\n\t<line x1=\"442.65\" y1=\"3111.54\" x2=\"442.65\" y2=\"3161.54\" style=\"stroke:#000000;stroke-width:7.20\"/>\n\t<text x=\"442.65\" y=\"3273.97\" style=\"font-family:'Helvetica';font-size:124.99px;fill:#000000\" text-anchor=\"middle\">2008</text>\n\t<line x1=\"3754.70\" y1=\"3111.54\" x2=\"3754.70\" y2=\"3161.54\" style=\"stroke:#000000;stroke-width:7.20\"/>\n\t<text x=\"3754.70\" y=\"3273.97\" style=\"font-family:'Helvetica';font-size:124.99px;fill:#000000\" text-anchor=\"middle\">2018</text>\n\t<text x=\"2098.68\" y=\"3411.46\" style=\"font-family:'Helvetica';font-size:124.99px;fill:#000000\" text-anchor=\"middle\">year</text>\n</svg>\n",
      "application/pdf": "[encoded data removed]"
     },
     "metadata": {
      "text/html": {
       "width": 600,
       "height": 545
      },
      "image/svg+xml": {
       "width": 600,
       "height": 545
      }
     }
    },
    {
     "output_type": "stream",
     "name": "stdout",
     "text": [
      ".     global stata_kernel_graph_counter = $stata_kernel_graph_counter + 1\n",
      ". }            \n",
      "\n",
      ". qui restore\n"
     ]
    }
   ],
   "source": [
    "qui {\n",
    "preserve\n",
    "    keep year country tech_exp\n",
    "    separate tech_exp, by(country) veryshortlabel \n",
    "    sort year\n",
    "    }\n",
    "    de\n",
    "    line tech_exp* year, xlabel(2008 2018) ysize(5) leg(off)\n",
    "qui restore"
   ]
  },
  {
   "cell_type": "code",
   "execution_count": 12,
   "metadata": {},
   "outputs": [
    {
     "output_type": "stream",
     "name": "stdout",
     "text": [
      "checking egenmore consistency and verifying not already installed...\n",
      "all files already exist and are up to date.\n"
     ]
    }
   ],
   "source": [
    "ssc install egenmore"
   ]
  },
  {
   "cell_type": "code",
   "execution_count": 16,
   "metadata": {},
   "outputs": [
    {
     "output_type": "stream",
     "name": "stdout",
     "text": [
      "\n\n(108 missing values generated)\n"
     ]
    }
   ],
   "source": [
    "drop mean_tech_ex\n",
    "bysort year: egen mean_tech_ex = mean(tech_exp) if _n == 1"
   ]
  },
  {
   "cell_type": "code",
   "execution_count": 17,
   "metadata": {},
   "outputs": [
    {
     "output_type": "display_data",
     "data": {
      "text/plain": "This front-end cannot display the desired image type.",
      "text/html": "                <iframe frameborder=\"0\" scrolling=\"no\" height=\"436\" width=\"600\"                srcdoc=\"<html><body>&lt;?xml version=&quot;1.0&quot; encoding=&quot;UTF-8&quot; standalone=&quot;no&quot;?&gt;\n&lt;!-- This is a Stata 16.1 generated SVG file (http://www.stata.com) --&gt;\n\n&lt;svg version=&quot;1.1&quot; width=&quot;600px&quot; height=&quot;436px&quot; viewBox=&quot;0 0 3960 2880&quot; xmlns=&quot;http://www.w3.org/2000/svg&quot; xmlns:xlink=&quot;http://www.w3.org/1999/xlink&quot;&gt;\n\t&lt;desc&gt;Stata Graph - Graph&lt;/desc&gt;\n\t&lt;rect x=&quot;0&quot; y=&quot;0&quot; width=&quot;3960&quot; height=&quot;2880&quot; style=&quot;fill:#FFFFFF;stroke:none&quot;/&gt;\n\t&lt;rect x=&quot;0.00&quot; y=&quot;0.00&quot; width=&quot;3959.88&quot; height=&quot;2880.00&quot; style=&quot;fill:#FFFFFF&quot;/&gt;\n\t&lt;rect x=&quot;2.88&quot; y=&quot;2.88&quot; width=&quot;3954.12&quot; height=&quot;2874.24&quot; style=&quot;fill:none;stroke:#FFFFFF;stroke-width:5.76&quot;/&gt;\n\t&lt;rect x=&quot;393.68&quot; y=&quot;103.74&quot; width=&quot;3462.46&quot; height=&quot;2382.57&quot; style=&quot;fill:none;stroke:#000000;stroke-width:5.76&quot;/&gt;\n\t&lt;path d=&quot; M454.04 1871.03 L454.04 556.03 L454.04 2029.56 L454.04 1663.62 L454.04 279.31 L454.04 2170.64 L454.04 2292.42 L454.04 1247.44 L454.04 2424.09 L454.04 552.68 L454.04 1307.71 L454.04 264.59 L454.04 693.76 L454.04 260.01 L454.04 1332.46 L454.04 1459.80 L454.04 654.91 L454.04 1040.77 L454.04 2041.07 L454.04 1932.29 L454.04 2113.84 L454.04 1920.54 L454.04 2012.61 L454.04 1882.79 L454.04 1999.37 L454.04 1525.89 L454.04 1437.28 L454.04 1470.20 L454.04 1423.66 L454.04 1400.15 L454.04 1247.81 L454.04 1603.11 L454.04 2133.15 L454.04 2366.42 L454.04 2372.61 L454.04 1800.74 L454.04 2034.27 L454.04 1168.61 L454.04 1735.90 L454.04 731.76 L454.04 381.04 L454.04 1564.00 L454.04 1562.52 L454.04 2341.18 L454.04 1943.68 L454.04 802.54 L454.04 1672.41 L454.04 2030.55 L454.04 1347.56 L454.04 2167.55 L454.04 998.07 L454.04 819.00 L454.04 1059.95 L454.04 2405.03 L454.04 2079.68 L3795.66 1883.91 L3795.66 170.04 L3795.66 1776.98 L3795.66 735.96 L3795.66 1454.97 L3795.66 454.42 L3795.66 1125.54 L3795.66 1366.37 L3795.66 2002.34 L3795.66 2424.83 L3795.66 1616.10 L3795.66 916.52 L3795.66 444.77 L3795.66 1184.45 L3795.66 2078.69 L3795.66 2001.35 L3795.66 1102.52 L3795.66 2017.93 L3795.66 1438.14 L3795.66 2138.34 L3795.66 1826.24 L3795.66 1696.91 L3795.66 2169.41 L3795.66 2095.15 L3795.66 2315.68 L3795.66 2110.75 L3795.66 1239.64 L3795.66 1559.17 L3795.66 1563.63 L3795.66 2372.36 L3795.66 2372.49 L3795.66 1333.20 L3795.66 928.90 L3795.66 2291.06 L3795.66 1134.70 L3795.66 1197.81 L3795.66 1152.27 L3795.66 1984.39 L3795.66 646.74 L3795.66 2025.48 L3795.66 654.91 L3795.66 1001.05 L3795.66 1265.14 L3795.66 1624.15 L3795.66 1215.39 L3795.66 2296.38 L3795.66 1798.02 L3795.66 1445.94 L3795.66 2014.47 L3795.66 2132.40 L3795.66 1336.91 L3795.66 1175.17 L3795.66 1660.16 L3795.66 322.13 L3795.66 164.22&quot; stroke-linejoin=&quot;round&quot; style=&quot;fill:none;stroke:#606060;stroke-width:8.64&quot;/&gt;\n\t&lt;line x1=&quot;390.80&quot; y1=&quot;2489.19&quot; x2=&quot;390.80&quot; y2=&quot;100.86&quot; style=&quot;stroke:#000000;stroke-width:5.76&quot;/&gt;\n\t&lt;line x1=&quot;390.80&quot; y1=&quot;2425.82&quot; x2=&quot;350.83&quot; y2=&quot;2425.82&quot; style=&quot;stroke:#000000;stroke-width:5.76&quot;/&gt;\n\t&lt;text x=&quot;300.72&quot; y=&quot;2425.82&quot; style=&quot;font-family:&#x27;Helvetica&#x27;;font-size:99.99px;fill:#000000&quot; transform=&quot;rotate(-90 300.72,2425.82)&quot; text-anchor=&quot;middle&quot;&gt;0&lt;/text&gt;\n\t&lt;line x1=&quot;390.80&quot; y1=&quot;1867.45&quot; x2=&quot;350.83&quot; y2=&quot;1867.45&quot; style=&quot;stroke:#000000;stroke-width:5.76&quot;/&gt;\n\t&lt;text x=&quot;300.72&quot; y=&quot;1867.45&quot; style=&quot;font-family:&#x27;Helvetica&#x27;;font-size:99.99px;fill:#000000&quot; transform=&quot;rotate(-90 300.72,1867.45)&quot; text-anchor=&quot;middle&quot;&gt;20&lt;/text&gt;\n\t&lt;line x1=&quot;390.80&quot; y1=&quot;1308.94&quot; x2=&quot;350.83&quot; y2=&quot;1308.94&quot; style=&quot;stroke:#000000;stroke-width:5.76&quot;/&gt;\n\t&lt;text x=&quot;300.72&quot; y=&quot;1308.94&quot; style=&quot;font-family:&#x27;Helvetica&#x27;;font-size:99.99px;fill:#000000&quot; transform=&quot;rotate(-90 300.72,1308.94)&quot; text-anchor=&quot;middle&quot;&gt;40&lt;/text&gt;\n\t&lt;line x1=&quot;390.80&quot; y1=&quot;750.57&quot; x2=&quot;350.83&quot; y2=&quot;750.57&quot; style=&quot;stroke:#000000;stroke-width:5.76&quot;/&gt;\n\t&lt;text x=&quot;300.72&quot; y=&quot;750.57&quot; style=&quot;font-family:&#x27;Helvetica&#x27;;font-size:99.99px;fill:#000000&quot; transform=&quot;rotate(-90 300.72,750.57)&quot; text-anchor=&quot;middle&quot;&gt;60&lt;/text&gt;\n\t&lt;line x1=&quot;390.80&quot; y1=&quot;192.07&quot; x2=&quot;350.83&quot; y2=&quot;192.07&quot; style=&quot;stroke:#000000;stroke-width:5.76&quot;/&gt;\n\t&lt;text x=&quot;300.72&quot; y=&quot;192.07&quot; style=&quot;font-family:&#x27;Helvetica&#x27;;font-size:99.99px;fill:#000000&quot; transform=&quot;rotate(-90 300.72,192.07)&quot; text-anchor=&quot;middle&quot;&gt;80&lt;/text&gt;\n\t&lt;text x=&quot;190.71&quot; y=&quot;1294.96&quot; style=&quot;font-family:&#x27;Helvetica&#x27;;font-size:99.99px;fill:#000000&quot; transform=&quot;rotate(-90 190.71,1294.96)&quot; text-anchor=&quot;middle&quot;&gt;tech_exp&lt;/text&gt;\n\t&lt;line x1=&quot;390.80&quot; y1=&quot;2489.19&quot; x2=&quot;3859.02&quot; y2=&quot;2489.19&quot; style=&quot;stroke:#000000;stroke-width:5.76&quot;/&gt;\n\t&lt;line x1=&quot;454.16&quot; y1=&quot;2489.19&quot; x2=&quot;454.16&quot; y2=&quot;2529.16&quot; style=&quot;stroke:#000000;stroke-width:5.76&quot;/&gt;\n\t&lt;text x=&quot;454.16&quot; y=&quot;2619.14&quot; style=&quot;font-family:&#x27;Helvetica&#x27;;font-size:99.99px;fill:#000000&quot; text-anchor=&quot;middle&quot;&gt;2008&lt;/text&gt;\n\t&lt;line x1=&quot;1122.41&quot; y1=&quot;2489.19&quot; x2=&quot;1122.41&quot; y2=&quot;2529.16&quot; style=&quot;stroke:#000000;stroke-width:5.76&quot;/&gt;\n\t&lt;text x=&quot;1122.41&quot; y=&quot;2619.14&quot; style=&quot;font-family:&#x27;Helvetica&#x27;;font-size:99.99px;fill:#000000&quot; text-anchor=&quot;middle&quot;&gt;2010&lt;/text&gt;\n\t&lt;line x1=&quot;1790.79&quot; y1=&quot;2489.19&quot; x2=&quot;1790.79&quot; y2=&quot;2529.16&quot; style=&quot;stroke:#000000;stroke-width:5.76&quot;/&gt;\n\t&lt;text x=&quot;1790.79&quot; y=&quot;2619.14&quot; style=&quot;font-family:&#x27;Helvetica&#x27;;font-size:99.99px;fill:#000000&quot; text-anchor=&quot;middle&quot;&gt;2012&lt;/text&gt;\n\t&lt;line x1=&quot;2459.04&quot; y1=&quot;2489.19&quot; x2=&quot;2459.04&quot; y2=&quot;2529.16&quot; style=&quot;stroke:#000000;stroke-width:5.76&quot;/&gt;\n\t&lt;text x=&quot;2459.04&quot; y=&quot;2619.14&quot; style=&quot;font-family:&#x27;Helvetica&#x27;;font-size:99.99px;fill:#000000&quot; text-anchor=&quot;middle&quot;&gt;2014&lt;/text&gt;\n\t&lt;line x1=&quot;3127.41&quot; y1=&quot;2489.19&quot; x2=&quot;3127.41&quot; y2=&quot;2529.16&quot; style=&quot;stroke:#000000;stroke-width:5.76&quot;/&gt;\n\t&lt;text x=&quot;3127.41&quot; y=&quot;2619.14&quot; style=&quot;font-family:&#x27;Helvetica&#x27;;font-size:99.99px;fill:#000000&quot; text-anchor=&quot;middle&quot;&gt;2016&lt;/text&gt;\n\t&lt;line x1=&quot;3795.66&quot; y1=&quot;2489.19&quot; x2=&quot;3795.66&quot; y2=&quot;2529.16&quot; style=&quot;stroke:#000000;stroke-width:5.76&quot;/&gt;\n\t&lt;text x=&quot;3795.66&quot; y=&quot;2619.14&quot; style=&quot;font-family:&#x27;Helvetica&#x27;;font-size:99.99px;fill:#000000&quot; text-anchor=&quot;middle&quot;&gt;2018&lt;/text&gt;\n\t&lt;text x=&quot;2124.91&quot; y=&quot;2729.16&quot; style=&quot;font-family:&#x27;Helvetica&#x27;;font-size:99.99px;fill:#000000&quot; text-anchor=&quot;middle&quot;&gt;year&lt;/text&gt;\n&lt;/svg&gt;\n</body></html>\"></iframe>\n",
      "image/svg+xml": "<?xml version=\"1.0\" encoding=\"UTF-8\" standalone=\"no\"?>\n<!-- This is a Stata 16.1 generated SVG file (http://www.stata.com) -->\n\n<svg version=\"1.1\" width=\"600px\" height=\"436px\" viewBox=\"0 0 3960 2880\" xmlns=\"http://www.w3.org/2000/svg\" xmlns:xlink=\"http://www.w3.org/1999/xlink\">\n\t<desc>Stata Graph - Graph</desc>\n\t<rect x=\"0\" y=\"0\" width=\"3960\" height=\"2880\" style=\"fill:#FFFFFF;stroke:none\"/>\n\t<rect x=\"0.00\" y=\"0.00\" width=\"3959.88\" height=\"2880.00\" style=\"fill:#FFFFFF\"/>\n\t<rect x=\"2.88\" y=\"2.88\" width=\"3954.12\" height=\"2874.24\" style=\"fill:none;stroke:#FFFFFF;stroke-width:5.76\"/>\n\t<rect x=\"393.68\" y=\"103.74\" width=\"3462.46\" height=\"2382.57\" style=\"fill:none;stroke:#000000;stroke-width:5.76\"/>\n\t<path d=\" M454.04 1871.03 L454.04 556.03 L454.04 2029.56 L454.04 1663.62 L454.04 279.31 L454.04 2170.64 L454.04 2292.42 L454.04 1247.44 L454.04 2424.09 L454.04 552.68 L454.04 1307.71 L454.04 264.59 L454.04 693.76 L454.04 260.01 L454.04 1332.46 L454.04 1459.80 L454.04 654.91 L454.04 1040.77 L454.04 2041.07 L454.04 1932.29 L454.04 2113.84 L454.04 1920.54 L454.04 2012.61 L454.04 1882.79 L454.04 1999.37 L454.04 1525.89 L454.04 1437.28 L454.04 1470.20 L454.04 1423.66 L454.04 1400.15 L454.04 1247.81 L454.04 1603.11 L454.04 2133.15 L454.04 2366.42 L454.04 2372.61 L454.04 1800.74 L454.04 2034.27 L454.04 1168.61 L454.04 1735.90 L454.04 731.76 L454.04 381.04 L454.04 1564.00 L454.04 1562.52 L454.04 2341.18 L454.04 1943.68 L454.04 802.54 L454.04 1672.41 L454.04 2030.55 L454.04 1347.56 L454.04 2167.55 L454.04 998.07 L454.04 819.00 L454.04 1059.95 L454.04 2405.03 L454.04 2079.68 L3795.66 1883.91 L3795.66 170.04 L3795.66 1776.98 L3795.66 735.96 L3795.66 1454.97 L3795.66 454.42 L3795.66 1125.54 L3795.66 1366.37 L3795.66 2002.34 L3795.66 2424.83 L3795.66 1616.10 L3795.66 916.52 L3795.66 444.77 L3795.66 1184.45 L3795.66 2078.69 L3795.66 2001.35 L3795.66 1102.52 L3795.66 2017.93 L3795.66 1438.14 L3795.66 2138.34 L3795.66 1826.24 L3795.66 1696.91 L3795.66 2169.41 L3795.66 2095.15 L3795.66 2315.68 L3795.66 2110.75 L3795.66 1239.64 L3795.66 1559.17 L3795.66 1563.63 L3795.66 2372.36 L3795.66 2372.49 L3795.66 1333.20 L3795.66 928.90 L3795.66 2291.06 L3795.66 1134.70 L3795.66 1197.81 L3795.66 1152.27 L3795.66 1984.39 L3795.66 646.74 L3795.66 2025.48 L3795.66 654.91 L3795.66 1001.05 L3795.66 1265.14 L3795.66 1624.15 L3795.66 1215.39 L3795.66 2296.38 L3795.66 1798.02 L3795.66 1445.94 L3795.66 2014.47 L3795.66 2132.40 L3795.66 1336.91 L3795.66 1175.17 L3795.66 1660.16 L3795.66 322.13 L3795.66 164.22\" stroke-linejoin=\"round\" style=\"fill:none;stroke:#606060;stroke-width:8.64\"/>\n\t<line x1=\"390.80\" y1=\"2489.19\" x2=\"390.80\" y2=\"100.86\" style=\"stroke:#000000;stroke-width:5.76\"/>\n\t<line x1=\"390.80\" y1=\"2425.82\" x2=\"350.83\" y2=\"2425.82\" style=\"stroke:#000000;stroke-width:5.76\"/>\n\t<text x=\"300.72\" y=\"2425.82\" style=\"font-family:'Helvetica';font-size:99.99px;fill:#000000\" transform=\"rotate(-90 300.72,2425.82)\" text-anchor=\"middle\">0</text>\n\t<line x1=\"390.80\" y1=\"1867.45\" x2=\"350.83\" y2=\"1867.45\" style=\"stroke:#000000;stroke-width:5.76\"/>\n\t<text x=\"300.72\" y=\"1867.45\" style=\"font-family:'Helvetica';font-size:99.99px;fill:#000000\" transform=\"rotate(-90 300.72,1867.45)\" text-anchor=\"middle\">20</text>\n\t<line x1=\"390.80\" y1=\"1308.94\" x2=\"350.83\" y2=\"1308.94\" style=\"stroke:#000000;stroke-width:5.76\"/>\n\t<text x=\"300.72\" y=\"1308.94\" style=\"font-family:'Helvetica';font-size:99.99px;fill:#000000\" transform=\"rotate(-90 300.72,1308.94)\" text-anchor=\"middle\">40</text>\n\t<line x1=\"390.80\" y1=\"750.57\" x2=\"350.83\" y2=\"750.57\" style=\"stroke:#000000;stroke-width:5.76\"/>\n\t<text x=\"300.72\" y=\"750.57\" style=\"font-family:'Helvetica';font-size:99.99px;fill:#000000\" transform=\"rotate(-90 300.72,750.57)\" text-anchor=\"middle\">60</text>\n\t<line x1=\"390.80\" y1=\"192.07\" x2=\"350.83\" y2=\"192.07\" style=\"stroke:#000000;stroke-width:5.76\"/>\n\t<text x=\"300.72\" y=\"192.07\" style=\"font-family:'Helvetica';font-size:99.99px;fill:#000000\" transform=\"rotate(-90 300.72,192.07)\" text-anchor=\"middle\">80</text>\n\t<text x=\"190.71\" y=\"1294.96\" style=\"font-family:'Helvetica';font-size:99.99px;fill:#000000\" transform=\"rotate(-90 190.71,1294.96)\" text-anchor=\"middle\">tech_exp</text>\n\t<line x1=\"390.80\" y1=\"2489.19\" x2=\"3859.02\" y2=\"2489.19\" style=\"stroke:#000000;stroke-width:5.76\"/>\n\t<line x1=\"454.16\" y1=\"2489.19\" x2=\"454.16\" y2=\"2529.16\" style=\"stroke:#000000;stroke-width:5.76\"/>\n\t<text x=\"454.16\" y=\"2619.14\" style=\"font-family:'Helvetica';font-size:99.99px;fill:#000000\" text-anchor=\"middle\">2008</text>\n\t<line x1=\"1122.41\" y1=\"2489.19\" x2=\"1122.41\" y2=\"2529.16\" style=\"stroke:#000000;stroke-width:5.76\"/>\n\t<text x=\"1122.41\" y=\"2619.14\" style=\"font-family:'Helvetica';font-size:99.99px;fill:#000000\" text-anchor=\"middle\">2010</text>\n\t<line x1=\"1790.79\" y1=\"2489.19\" x2=\"1790.79\" y2=\"2529.16\" style=\"stroke:#000000;stroke-width:5.76\"/>\n\t<text x=\"1790.79\" y=\"2619.14\" style=\"font-family:'Helvetica';font-size:99.99px;fill:#000000\" text-anchor=\"middle\">2012</text>\n\t<line x1=\"2459.04\" y1=\"2489.19\" x2=\"2459.04\" y2=\"2529.16\" style=\"stroke:#000000;stroke-width:5.76\"/>\n\t<text x=\"2459.04\" y=\"2619.14\" style=\"font-family:'Helvetica';font-size:99.99px;fill:#000000\" text-anchor=\"middle\">2014</text>\n\t<line x1=\"3127.41\" y1=\"2489.19\" x2=\"3127.41\" y2=\"2529.16\" style=\"stroke:#000000;stroke-width:5.76\"/>\n\t<text x=\"3127.41\" y=\"2619.14\" style=\"font-family:'Helvetica';font-size:99.99px;fill:#000000\" text-anchor=\"middle\">2016</text>\n\t<line x1=\"3795.66\" y1=\"2489.19\" x2=\"3795.66\" y2=\"2529.16\" style=\"stroke:#000000;stroke-width:5.76\"/>\n\t<text x=\"3795.66\" y=\"2619.14\" style=\"font-family:'Helvetica';font-size:99.99px;fill:#000000\" text-anchor=\"middle\">2018</text>\n\t<text x=\"2124.91\" y=\"2729.16\" style=\"font-family:'Helvetica';font-size:99.99px;fill:#000000\" text-anchor=\"middle\">year</text>\n</svg>\n",
      "application/pdf": "[encoded data removed]"
     },
     "metadata": {
      "text/html": {
       "width": 600,
       "height": 436
      },
      "image/svg+xml": {
       "width": 600,
       "height": 436
      }
     }
    }
   ],
   "source": [
    "line tech_exp year"
   ]
  },
  {
   "source": [
    "    broadband |   .0093601   .0045492     2.06   0.044     .0002663    .0184539"
   ],
   "cell_type": "markdown",
   "metadata": {}
  }
 ]
}