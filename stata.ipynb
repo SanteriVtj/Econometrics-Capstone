{
 "metadata": {
  "language_info": {
   "codemirror_mode": {
    "name": "ipython",
    "version": 3
   },
   "file_extension": ".py",
   "mimetype": "text/x-python",
   "name": "python",
   "nbconvert_exporter": "python",
   "pygments_lexer": "ipython3",
   "version": 3
  },
  "orig_nbformat": 2,
  "kernelspec": {
   "name": "stata",
   "display_name": "Stata",
   "language": "stata"
  }
 },
 "nbformat": 4,
 "nbformat_minor": 2,
 "cells": [
  {
   "cell_type": "code",
   "execution_count": 13,
   "metadata": {},
   "outputs": [
    {
     "output_type": "stream",
     "name": "stdout",
     "text": [
      "(90 vars, 126 obs)\n"
     ]
    }
   ],
   "source": [
    "import delimited \"/Users/santerivaataja/Desktop/Taloustieteen_kursseja/Econometrics/Capstone.nosync/Econometrics-Capstone/raw_data/small_master_c.csv\", clear"
   ]
  },
  {
   "source": [
    "qui {\n",
    "    gen ln_gdp = ln(gdp)\n",
    "    xtset countrycode year\n",
    "}"
   ],
   "cell_type": "code",
   "metadata": {},
   "execution_count": 14,
   "outputs": []
  },
  {
   "cell_type": "code",
   "execution_count": 17,
   "metadata": {},
   "outputs": [
    {
     "output_type": "stream",
     "name": "stdout",
     "text": [
      "\n",
      "Fixed-effects (within) regression               Number of obs     =        126\n",
      "Group variable: countrycode                     Number of groups  =         63\n",
      "\n",
      "R-sq:                                           Obs per group:\n",
      "     within  = 0.5631                                         min =          2\n",
      "     between = 0.4362                                         avg =        2.0\n",
      "     overall = 0.4336                                         max =          2\n",
      "\n",
      "                                                F(6,62)           =       9.93\n",
      "corr(u_i, Xb)  = 0.3046                         Prob > F          =     0.0000\n",
      "\n",
      "                            (Std. Err. adjusted for 63 clusters in countrycode)\n",
      "-------------------------------------------------------------------------------\n",
      "              |               Robust\n",
      "       ln_gdp |      Coef.   Std. Err.      t    P>|t|     [95% Conf. Interval]\n",
      "--------------+----------------------------------------------------------------\n",
      "    democracy |  -.0171146   .0679428    -0.25   0.802    -.1529304    .1187012\n",
      "civilsociet~s |  -.0814376   .0405749    -2.01   0.049    -.1625457   -.0003295\n",
      "          rol |   .2591549   .1113171     2.33   0.023     .0366352    .4816745\n",
      "        trade |  -.0057199   .0012709    -4.50   0.000    -.0082603   -.0031795\n",
      "    broadband |   .0091317    .004668     1.96   0.055    -.0001996     .018463\n",
      "life_expect~y |   .0322479   .0096522     3.34   0.001     .0129534    .0515424\n",
      "        _cons |   6.924922   .6498234    10.66   0.000     5.625944      8.2239\n",
      "--------------+----------------------------------------------------------------\n",
      "      sigma_u |  .90336557\n",
      "      sigma_e |  .21162872\n",
      "          rho |  .94797421   (fraction of variance due to u_i)\n",
      "-------------------------------------------------------------------------------\n"
     ]
    }
   ],
   "source": [
    "xtreg ln_gdp democracy civilsocietytraditions rol trade broadband life_expectancy, fe r"
   ]
  },
  {
   "source": [
    "    broadband |   .0093601   .0045492     2.06   0.044     .0002663    .0184539"
   ],
   "cell_type": "markdown",
   "metadata": {}
  }
 ]
}