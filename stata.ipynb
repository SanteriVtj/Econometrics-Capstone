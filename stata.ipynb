{
 "metadata": {
  "language_info": {
   "codemirror_mode": {
    "name": "ipython",
    "version": 3
   },
   "file_extension": ".py",
   "mimetype": "text/x-python",
   "name": "python",
   "nbconvert_exporter": "python",
   "pygments_lexer": "ipython3",
   "version": 3
  },
  "orig_nbformat": 2,
  "kernelspec": {
   "name": "stata",
   "display_name": "Stata",
   "language": "stata"
  }
 },
 "nbformat": 4,
 "nbformat_minor": 2,
 "cells": [
  {
   "cell_type": "code",
   "execution_count": 28,
   "metadata": {},
   "outputs": [
    {
     "output_type": "stream",
     "name": "stdout",
     "text": [
      "(88 vars, 126 obs)\n"
     ]
    }
   ],
   "source": [
    "import delimited \"/Users/santerivaataja/Desktop/Taloustieteen_kursseja/Econometrics/Capstone.nosync/Econometrics-Capstone/raw_data/small_master_c.csv\", clear"
   ]
  },
  {
   "source": [
    "qui {\n",
    "    gen ln_gdp = ln(gdp)\n",
    "    xtset countrycode year\n",
    "}"
   ],
   "cell_type": "code",
   "metadata": {},
   "execution_count": 29,
   "outputs": []
  },
  {
   "cell_type": "code",
   "execution_count": 31,
   "metadata": {},
   "outputs": [
    {
     "output_type": "stream",
     "name": "stdout",
     "text": [
      "\n",
      "Fixed-effects (within) regression               Number of obs     =        126\n",
      "Group variable: countrycode                     Number of groups  =         63\n",
      "\n",
      "R-sq:                                           Obs per group:\n",
      "     within  = 0.5644                                         min =          2\n",
      "     between = 0.4400                                         avg =        2.0\n",
      "     overall = 0.4393                                         max =          2\n",
      "\n",
      "                                                F(7,62)           =       9.59\n",
      "corr(u_i, Xb)  = 0.2785                         Prob > F          =     0.0000\n",
      "\n",
      "                            (Std. Err. adjusted for 63 clusters in countrycode)\n",
      "-------------------------------------------------------------------------------\n",
      "              |               Robust\n",
      "       ln_gdp |      Coef.   Std. Err.      t    P>|t|     [95% Conf. Interval]\n",
      "--------------+----------------------------------------------------------------\n",
      "    democracy |   .0365283   .0871784     0.42   0.677    -.1377389    .2107955\n",
      "civilsociet~s |  -.0951264   .0382968    -2.48   0.016    -.1716806   -.0185723\n",
      "          rol |     .27444   .1337292     2.05   0.044     .0071191    .5417609\n",
      "stabilityof~n |  -.0165878   .0276894    -0.60   0.551     -.071938    .0387625\n",
      "    mortality |  -.0131395   .0038078    -3.45   0.001    -.0207511   -.0055279\n",
      "        trade |  -.0063044   .0014404    -4.38   0.000    -.0091837   -.0034251\n",
      "    broadband |   .0093601   .0045492     2.06   0.044     .0002663    .0184539\n",
      "        _cons |   9.698947   .3186116    30.44   0.000     9.062051    10.33584\n",
      "--------------+----------------------------------------------------------------\n",
      "      sigma_u |   .8911965\n",
      "      sigma_e |  .21318368\n",
      "          rho |  .94587537   (fraction of variance due to u_i)\n",
      "-------------------------------------------------------------------------------\n"
     ]
    }
   ],
   "source": [
    "xtreg ln_gdp democracy civilsocietytraditions rol stabilityofdemocraticinstitution mortality trade broadband, fe r"
   ]
  },
  {
   "source": [
    "    broadband |   .0093601   .0045492     2.06   0.044     .0002663    .0184539"
   ],
   "cell_type": "markdown",
   "metadata": {}
  }
 ]
}