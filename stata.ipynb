{
 "metadata": {
  "language_info": {
   "codemirror_mode": {
    "name": "ipython",
    "version": 3
   },
   "file_extension": ".py",
   "mimetype": "text/x-python",
   "name": "python",
   "nbconvert_exporter": "python",
   "pygments_lexer": "ipython3",
   "version": 3
  },
  "orig_nbformat": 2,
  "kernelspec": {
   "name": "stata",
   "display_name": "Stata",
   "language": "stata"
  }
 },
 "nbformat": 4,
 "nbformat_minor": 2,
 "cells": [
  {
   "cell_type": "code",
   "execution_count": 1,
   "metadata": {},
   "outputs": [
    {
     "output_type": "stream",
     "name": "stdout",
     "text": [
      "(88 vars, 146 obs)\n"
     ]
    }
   ],
   "source": [
    "import delimited \"/Users/santerivaataja/Desktop/Taloustieteen_kursseja/Econometrics/Capstone.nosync/Econometrics-Capstone/raw_data/small_master_c.csv\", clear"
   ]
  },
  {
   "source": [
    "qui {\n",
    "    gen ln_gdp = ln(gdp)\n",
    "    xtset countrycode year\n",
    "}"
   ],
   "cell_type": "code",
   "metadata": {},
   "execution_count": 2,
   "outputs": []
  },
  {
   "cell_type": "code",
   "execution_count": 3,
   "metadata": {},
   "outputs": [
    {
     "output_type": "stream",
     "name": "stdout",
     "text": [
      "\n",
      "Fixed-effects (within) regression               Number of obs     =        146\n",
      "Group variable: countrycode                     Number of groups  =         73\n",
      "\n",
      "R-sq:                                           Obs per group:\n",
      "     within  = 0.5556                                         min =          2\n",
      "     between = 0.4863                                         avg =        2.0\n",
      "     overall = 0.4852                                         max =          2\n",
      "\n",
      "                                                F(7,72)           =      15.78\n",
      "corr(u_i, Xb)  = 0.2813                         Prob > F          =     0.0000\n",
      "\n",
      "                            (Std. Err. adjusted for 73 clusters in countrycode)\n",
      "-------------------------------------------------------------------------------\n",
      "              |               Robust\n",
      "       ln_gdp |      Coef.   Std. Err.      t    P>|t|     [95% Conf. Interval]\n",
      "--------------+----------------------------------------------------------------\n",
      "    democracy |   .0642234   .0706446     0.91   0.366    -.0766041    .2050509\n",
      "civilsociet~s |  -.1157001   .0405112    -2.86   0.006    -.1964577   -.0349424\n",
      "          rol |     .34891   .1121378     3.11   0.003     .1253673    .5724526\n",
      "stabilityof~n |  -.0455134   .0198111    -2.30   0.025    -.0850061   -.0060207\n",
      "    mortality |  -.0098638   .0051083    -1.93   0.057    -.0200469    .0003194\n",
      "        trade |  -.0064665   .0012613    -5.13   0.000    -.0089809    -.003952\n",
      "  electricity |   .0037532   .0054343     0.69   0.492    -.0070799    .0145862\n",
      "        _cons |   9.608087   .7067645    13.59   0.000     8.199178      11.017\n",
      "--------------+----------------------------------------------------------------\n",
      "      sigma_u |  .89838267\n",
      "      sigma_e |  .20943031\n",
      "          rho |  .94845652   (fraction of variance due to u_i)\n",
      "-------------------------------------------------------------------------------\n"
     ]
    }
   ],
   "source": [
    "xtreg ln_gdp democracy civilsocietytraditions rol stabilityofdemocraticinstitution mortality trade electricity, fe r"
   ]
  },
  {
   "source": [
    "    broadband |   .0093601   .0045492     2.06   0.044     .0002663    .0184539"
   ],
   "cell_type": "markdown",
   "metadata": {}
  }
 ]
}