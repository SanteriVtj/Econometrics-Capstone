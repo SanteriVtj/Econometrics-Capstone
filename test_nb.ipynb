{
 "metadata": {
  "language_info": {
   "codemirror_mode": {
    "name": "ipython",
    "version": 3
   },
   "file_extension": ".py",
   "mimetype": "text/x-python",
   "name": "python",
   "nbconvert_exporter": "python",
   "pygments_lexer": "ipython3",
   "version": 3
  },
  "orig_nbformat": 2,
  "kernelspec": {
   "name": "stata",
   "display_name": "Stata",
   "language": "stata"
  }
 },
 "nbformat": 4,
 "nbformat_minor": 2,
 "cells": [
  {
   "cell_type": "code",
   "execution_count": 1,
   "metadata": {},
   "outputs": [
    {
     "output_type": "stream",
     "name": "stdout",
     "text": [
      "(95 vars, 9,854 obs)\n"
     ]
    }
   ],
   "source": [
    "import delimited \"raw_data/master.csv\", bindquote(nobind) clear "
   ]
  },
  {
   "cell_type": "code",
   "execution_count": 4,
   "metadata": {},
   "outputs": [
    {
     "output_type": "stream",
     "name": "stdout",
     "text": [
      "\n",
      "Contains data\n",
      "  obs:         9,854                          \n",
      " vars:            95                          \n",
      "--------------------------------------------------------------------------------\n",
      "              storage   display    value\n",
      "variable name   type    format     label      variable label\n",
      "--------------------------------------------------------------------------------\n",
      "country         str30   %30s                  \n",
      "year            str5    %9s                   \n",
      "pr              str4    %9s                   PR\n",
      "cl              str4    %9s                   CL\n",
      "status          str6    %9s                   Status\n",
      "ddregime        str3    %9s                   DD regime\n",
      "ddcategory      str54   %54s                  DD category\n",
      "monarchy        byte    %8.0g                 Monarchy\n",
      "commonwealth    str3    %9s                   Commonwealth\n",
      "monarchname     str33   %33s                  Monarch name\n",
      "monarchaccess~n int     %8.0g                 Monarch accession\n",
      "monarchbirthy~r int     %8.0g                 Monarch birthyear\n",
      "femalemonarch~s byte    %8.0g                 Female monarch (0: No; 1: Yes)\n",
      "democracy       str14   %14s                  Democracy\n",
      "presidential    str9    %9s                   Presidential\n",
      "presidentname   str53   %53s                  President name\n",
      "presidentacce~n int     %8.0g                 President accesion\n",
      "presidentbirt~r int     %8.0g                 President birthyear\n",
      "interimphasem~y byte    %8.0g                 Interim phase (more than 2\n",
      "                                                Presidents/year=1)\n",
      "femalepreside~s byte    %8.0g                 Female president (0: No; 1: Yes)\n",
      "colony          byte    %8.0g                 Colony\n",
      "colonyof        str29   %29s                  Colony of\n",
      "colonyadminis~y byte    %8.0g                 Colony administrated by\n",
      "communist       byte    %8.0g                 Communist\n",
      "regimechangelag byte    %8.0g                 Regime change lag\n",
      "spatialdemocr~y str2    %9s                   spatial democracy\n",
      "countrycode     str10   %10s                  \n",
      "noofchambersi~t int     %8.0g                 No. of chambers in parliament\n",
      "proportionalv~g byte    %8.0g                 proportional voting\n",
      "electionsystem  str54   %54s                  Election system\n",
      "noofme~werhouse str56   %56s                  No. of members in lower house\n",
      "noofme~perhouse str39   %39s                  No. of members in upper house\n",
      "noofmemb~dhouse int     %8.0g                 No. of members in third house\n",
      "newconstitution int     %8.0g                 New constitution\n",
      "fullsuffrage    byte    %8.0g                 \n",
      "suffragerestr~n str45   %45s                  Suffrage restriction\n",
      "electoral       str58   %58s                  \n",
      "spatialelecto~l str23   %23s                  spatial electoral\n",
      "alternation     str10   %10s                  \n",
      "multiparty      str10   %10s                  \n",
      "freeandfairel~n str10   %10s                  free and fair election\n",
      "parliamentary~r byte    %8.0g                 parliamentary election year\n",
      "electionmonth   str54   %54s                  \"election month\n",
      "v44             str51   %51s                   year\"\n",
      "postponedelec~n strL    %9s                   postponed election\n",
      "employees       str31   %31s                  Employees\n",
      "unionmembers    long    %12.0g                Union members\n",
      "tradeunionden~y int     %8.0g                 Trade union density\n",
      "anticorruptio~y byte    %8.0g                 Anticorruption policy\n",
      "civilrights     byte    %8.0g                 Civil rights\n",
      "civilsocietyp~n byte    %8.0g                 Civil society participation\n",
      "civilsocietyt~s byte    %8.0g                 Civil society traditions\n",
      "cleavageconfl~t byte    %8.0g                 Cleavage conflict management\n",
      "commitmenttod~o byte    %8.0g                 Commitment to democratic\n",
      "                                                institutions\n",
      "conflictinten~y byte    %8.0g                 Conflict intensity\n",
      "consensusongo~s byte    %8.0g                 Consensus on goals\n",
      "antidemocrati~s byte    %8.0g                 Antidemocratic actors\n",
      "educationpoli~d byte    %8.0g                 Education policy R&D\n",
      "effectivepowe~n byte    %8.0g                 Effective power to govern\n",
      "effectiveuseo~t byte    %8.0g                 Effective use of support\n",
      "efficientuseo~s byte    %8.0g                 Efficient use of assets\n",
      "environmental~y byte    %8.0g                 Environmental policy\n",
      "equalopportun~y byte    %8.0g                 Equal opportunity\n",
      "freeandfairel~s byte    %8.0g                 Free and fair elections\n",
      "freedomofexpr~n byte    %8.0g                 Freedom of expression\n",
      "independentju~y byte    %8.0g                 Independent judiciary\n",
      "interestgroups  float   %9.0g                 Interest groups\n",
      "international~n float   %9.0g                 International Cooperation\n",
      "monopolyonthe~e float   %9.0g                 Monopoly on the use of force\n",
      "nointerferenc~s byte    %8.0g                 No interference of religious\n",
      "                                                dogmas\n",
      "associationas~s float   %9.0g                 Association assembly rights\n",
      "organizationo~t float   %9.0g                 Organization of the Market and\n",
      "                                                Competition\n",
      "partysystem     float   %9.0g                 Party system\n",
      "performanceof~i byte    %8.0g                 Performance of democratic\n",
      "                                                institutions\n",
      "policycoordin~n byte    %8.0g                 Policy coordination\n",
      "policylearning  float   %9.0g                 Policy learning\n",
      "politicalpart~n float   %9.0g                 Political Participation\n",
      "politicalands~n float   %9.0g                 Political and Social Integration\n",
      "privateproperty float   %9.0g                 Private Property\n",
      "prosecutionof~e float   %9.0g                 Prosecution of office abuse\n",
      "regionalcoope~n float   %9.0g                 Regional cooperation\n",
      "resourceeffic~y float   %9.0g                 Resource Efficiency\n",
      "separationofp~s float   %9.0g                 Separation of powers\n",
      "socialcapital   byte    %8.0g                 Social capital\n",
      "socialsafetyn~s byte    %8.0g                 Social safety nets\n",
      "socioeconomic~s float   %9.0g                 Socioeconomic barriers\n",
      "stabilityofde~n float   %9.0g                 Stability of Democratic\n",
      "--more--\n"
     ]
    }
   ],
   "source": [
    "de"
   ]
  },
  {
   "cell_type": "code",
   "execution_count": 3,
   "metadata": {},
   "outputs": [
    {
     "output_type": "stream",
     "name": "stdout",
     "text": [
      "(note: file raw_data/master.dta not found)\n",
      "file raw_data/master.dta saved\n"
     ]
    }
   ],
   "source": [
    "save \"raw_data/master.dta\", replace"
   ]
  },
  {
   "cell_type": "code",
   "execution_count": 4,
   "metadata": {},
   "outputs": [],
   "source": [
    "clear"
   ]
  },
  {
   "cell_type": "code",
   "execution_count": 5,
   "metadata": {},
   "outputs": [],
   "source": [
    "use \"raw_data/master.dta\", replace"
   ]
  },
  {
   "cell_type": "code",
   "execution_count": null,
   "metadata": {},
   "outputs": [],
   "source": []
  }
 ]
}